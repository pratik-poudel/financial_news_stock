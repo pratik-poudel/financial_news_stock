{
  "nbformat": 4,
  "nbformat_minor": 0,
  "metadata": {
    "colab": {
      "name": "scratchpad",
      "provenance": [],
      "machine_shape": "hm",
      "include_colab_link": true
    },
    "kernelspec": {
      "display_name": "Python 3",
      "name": "python3"
    },
    "accelerator": "GPU"
  },
  "cells": [
    {
      "cell_type": "markdown",
      "metadata": {
        "id": "view-in-github",
        "colab_type": "text"
      },
      "source": [
        "<a href=\"https://colab.research.google.com/github/pratik-poudel/financial_news_stock/blob/master/done_all_steps.ipynb\" target=\"_parent\"><img src=\"https://colab.research.google.com/assets/colab-badge.svg\" alt=\"Open In Colab\"/></a>"
      ]
    },
    {
      "cell_type": "code",
      "metadata": {
        "id": "0jGP6ocnmwnZ",
        "outputId": "06d97c00-6995-496d-e648-d05eff3c14b7",
        "colab": {
          "base_uri": "https://localhost:8080/"
        }
      },
      "source": [
        "!pip install mlxtend --upgrade"
      ],
      "execution_count": 1,
      "outputs": [
        {
          "output_type": "stream",
          "text": [
            "Requirement already up-to-date: mlxtend in /usr/local/lib/python3.7/dist-packages (0.18.0)\n",
            "Requirement already satisfied, skipping upgrade: matplotlib>=3.0.0 in /usr/local/lib/python3.7/dist-packages (from mlxtend) (3.2.2)\n",
            "Requirement already satisfied, skipping upgrade: joblib>=0.13.2 in /usr/local/lib/python3.7/dist-packages (from mlxtend) (1.0.1)\n",
            "Requirement already satisfied, skipping upgrade: setuptools in /usr/local/lib/python3.7/dist-packages (from mlxtend) (54.0.0)\n",
            "Requirement already satisfied, skipping upgrade: scikit-learn>=0.20.3 in /usr/local/lib/python3.7/dist-packages (from mlxtend) (0.22.2.post1)\n",
            "Requirement already satisfied, skipping upgrade: numpy>=1.16.2 in /usr/local/lib/python3.7/dist-packages (from mlxtend) (1.19.5)\n",
            "Requirement already satisfied, skipping upgrade: scipy>=1.2.1 in /usr/local/lib/python3.7/dist-packages (from mlxtend) (1.4.1)\n",
            "Requirement already satisfied, skipping upgrade: pandas>=0.24.2 in /usr/local/lib/python3.7/dist-packages (from mlxtend) (1.1.5)\n",
            "Requirement already satisfied, skipping upgrade: kiwisolver>=1.0.1 in /usr/local/lib/python3.7/dist-packages (from matplotlib>=3.0.0->mlxtend) (1.3.1)\n",
            "Requirement already satisfied, skipping upgrade: python-dateutil>=2.1 in /usr/local/lib/python3.7/dist-packages (from matplotlib>=3.0.0->mlxtend) (2.8.1)\n",
            "Requirement already satisfied, skipping upgrade: cycler>=0.10 in /usr/local/lib/python3.7/dist-packages (from matplotlib>=3.0.0->mlxtend) (0.10.0)\n",
            "Requirement already satisfied, skipping upgrade: pyparsing!=2.0.4,!=2.1.2,!=2.1.6,>=2.0.1 in /usr/local/lib/python3.7/dist-packages (from matplotlib>=3.0.0->mlxtend) (2.4.7)\n",
            "Requirement already satisfied, skipping upgrade: pytz>=2017.2 in /usr/local/lib/python3.7/dist-packages (from pandas>=0.24.2->mlxtend) (2018.9)\n",
            "Requirement already satisfied, skipping upgrade: six>=1.5 in /usr/local/lib/python3.7/dist-packages (from python-dateutil>=2.1->matplotlib>=3.0.0->mlxtend) (1.15.0)\n"
          ],
          "name": "stdout"
        }
      ]
    },
    {
      "cell_type": "code",
      "metadata": {
        "id": "lIYdn1woOS1n"
      },
      "source": [
        "import numpy as np\n",
        "import pandas as pd\n",
        "import matplotlib.pyplot as plt\n",
        "\n",
        "\n",
        "\n",
        "import tensorflow as tf\n",
        "import tensorflow_datasets as tfds\n",
        "\n",
        "from tensorflow.keras.preprocessing.text import Tokenizer\n",
        "from tensorflow.keras.preprocessing.sequence import pad_sequences\n",
        "\n",
        "from tensorflow.keras.models import Sequential\n",
        "from tensorflow.keras.layers import Embedding, Dropout, Bidirectional,LSTM, GlobalMaxPool1D, Dense\n",
        "from tensorflow.keras.utils import to_categorical, plot_model\n",
        "\n",
        "\n",
        "from sklearn.model_selection import train_test_split\n",
        "from sklearn.preprocessing import LabelEncoder\n",
        "from sklearn.metrics import confusion_matrix, roc_curve, roc_auc_score, accuracy_score\n",
        "\n",
        "\n",
        "from mlxtend.plotting import plot_confusion_matrix\n",
        "import warnings \n",
        "warnings.filterwarnings('ignore')"
      ],
      "execution_count": 506,
      "outputs": []
    },
    {
      "cell_type": "markdown",
      "metadata": {
        "id": "dUTvPQ9vRok2"
      },
      "source": [
        "# Financial Phrase Bank"
      ]
    },
    {
      "cell_type": "code",
      "metadata": {
        "id": "4u2s5DZARoL6"
      },
      "source": [
        "fin_data = pd.read_table('/content/Sentences_50Agree.txt', delimiter='\\r\\n')"
      ],
      "execution_count": 102,
      "outputs": []
    },
    {
      "cell_type": "code",
      "metadata": {
        "id": "OQdubjqSRoIp"
      },
      "source": [
        "values = np.array([fin_data.values[i][0].split('@') for i in range(fin_data.shape[0])])\n",
        "data = pd.DataFrame({'sentence': values[:, 0], 'sentiment':values[:, 1]})"
      ],
      "execution_count": 103,
      "outputs": []
    },
    {
      "cell_type": "code",
      "metadata": {
        "id": "slCvtjgNRoFN",
        "outputId": "2655313e-e3cd-449f-abeb-741fa5c238d1",
        "colab": {
          "base_uri": "https://localhost:8080/",
          "height": 111
        }
      },
      "source": [
        "data.head(2)"
      ],
      "execution_count": 104,
      "outputs": [
        {
          "output_type": "execute_result",
          "data": {
            "text/html": [
              "<div>\n",
              "<style scoped>\n",
              "    .dataframe tbody tr th:only-of-type {\n",
              "        vertical-align: middle;\n",
              "    }\n",
              "\n",
              "    .dataframe tbody tr th {\n",
              "        vertical-align: top;\n",
              "    }\n",
              "\n",
              "    .dataframe thead th {\n",
              "        text-align: right;\n",
              "    }\n",
              "</style>\n",
              "<table border=\"1\" class=\"dataframe\">\n",
              "  <thead>\n",
              "    <tr style=\"text-align: right;\">\n",
              "      <th></th>\n",
              "      <th>sentence</th>\n",
              "      <th>sentiment</th>\n",
              "    </tr>\n",
              "  </thead>\n",
              "  <tbody>\n",
              "    <tr>\n",
              "      <th>0</th>\n",
              "      <td>Technopolis plans to develop in stages an area...</td>\n",
              "      <td>neutral</td>\n",
              "    </tr>\n",
              "    <tr>\n",
              "      <th>1</th>\n",
              "      <td>The international electronic industry company ...</td>\n",
              "      <td>negative</td>\n",
              "    </tr>\n",
              "  </tbody>\n",
              "</table>\n",
              "</div>"
            ],
            "text/plain": [
              "                                            sentence sentiment\n",
              "0  Technopolis plans to develop in stages an area...   neutral\n",
              "1  The international electronic industry company ...  negative"
            ]
          },
          "metadata": {
            "tags": []
          },
          "execution_count": 104
        }
      ]
    },
    {
      "cell_type": "code",
      "metadata": {
        "id": "8cUSOhJCRoBo",
        "outputId": "8e5ab53d-fdff-42d6-f7da-0f7b2eee6f38",
        "colab": {
          "base_uri": "https://localhost:8080/",
          "height": 302
        }
      },
      "source": [
        "data['sentiment'].value_counts().plot(kind='bar')\n",
        "plt.show()"
      ],
      "execution_count": 105,
      "outputs": [
        {
          "output_type": "display_data",
          "data": {
            "image/png": "[encoded data removed]",
            "text/plain": [
              "<Figure size 432x288 with 1 Axes>"
            ]
          },
          "metadata": {
            "tags": [],
            "needs_background": "light"
          }
        }
      ]
    },
    {
      "cell_type": "code",
      "metadata": {
        "id": "X85hVvRFTG6o",
        "outputId": "eea44209-016e-4ba4-9a2e-64524d2013a5",
        "colab": {
          "base_uri": "https://localhost:8080/"
        }
      },
      "source": [
        "X= data.sentence\n",
        "y = data.sentiment\n",
        "X_train, X_test, y_train, y_test = train_test_split(X, y, random_state=60, test_size=0.2, stratify=y)\n",
        "print(\"Distribution of sentiments in train data\\n\",  y_train.value_counts().reset_index().values)\n",
        "print()\n",
        "print(\"Distribution of sentiments in test data\\n\", y_test.value_counts().reset_index().values)"
      ],
      "execution_count": 107,
      "outputs": [
        {
          "output_type": "stream",
          "text": [
            "Distribution of sentiments in train data\n",
            " [['neutral' 2303]\n",
            " ['positive' 1090]\n",
            " ['negative' 483]]\n",
            "\n",
            "Distribution of sentiments in test data\n",
            " [['neutral' 575]\n",
            " ['positive' 273]\n",
            " ['negative' 121]]\n"
          ],
          "name": "stdout"
        }
      ]
    },
    {
      "cell_type": "markdown",
      "metadata": {
        "id": "tbCEJLolVh39"
      },
      "source": [
        "## BiLSTM Model"
      ]
    },
    {
      "cell_type": "markdown",
      "metadata": {
        "id": "1VAk_WnIafWo"
      },
      "source": [
        "### Preparing data to feed in model "
      ]
    },
    {
      "cell_type": "code",
      "metadata": {
        "id": "UN-mzKD5WO0N",
        "outputId": "29c0ba36-abe2-404c-d610-297e5eeb0390",
        "colab": {
          "base_uri": "https://localhost:8080/",
          "height": 53
        }
      },
      "source": [
        "X_train.iloc[0]"
      ],
      "execution_count": 108,
      "outputs": [
        {
          "output_type": "execute_result",
          "data": {
            "application/vnd.google.colaboratory.intrinsic+json": {
              "type": "string"
            },
            "text/plain": [
              "'For the new shares subscribed with stock options all shareholder rights commence from the date on which they are entered into the Trade Register .'"
            ]
          },
          "metadata": {
            "tags": []
          },
          "execution_count": 108
        }
      ]
    },
    {
      "cell_type": "code",
      "metadata": {
        "id": "ye1kpQ_gTG1P"
      },
      "source": [
        "# Remove Punctuation and assign integer to each word\n",
        "tokenizer = Tokenizer()\n",
        "tokenizer.fit_on_texts(X_train)\n",
        "X_train = tokenizer.texts_to_sequences(X_train)\n",
        "X_test = tokenizer.texts_to_sequences(X_test)"
      ],
      "execution_count": 109,
      "outputs": []
    },
    {
      "cell_type": "code",
      "metadata": {
        "id": "FEZkv0jlTGyn",
        "outputId": "359658ac-d97d-4245-ced5-10e4f6853e51",
        "colab": {
          "base_uri": "https://localhost:8080/"
        }
      },
      "source": [
        "print(\"Sequences --> \", X_train[0])\n",
        "\n",
        "print(\"Original sentence all lower cased \\n\", \" \".join([tokenizer.index_word.get(i) for i in X_train[0]]))"
      ],
      "execution_count": 110,
      "outputs": [
        {
          "output_type": "stream",
          "text": [
            "Sequences -->  [7, 1, 48, 69, 814, 17, 128, 668, 119, 924, 264, 3079, 13, 1, 715, 14, 60, 251, 44, 992, 160, 1, 371, 716]\n",
            "Original sentence all lower cased \n",
            " for the new shares subscribed with stock options all shareholder rights commence from the date on which they are entered into the trade register\n"
          ],
          "name": "stdout"
        }
      ]
    },
    {
      "cell_type": "code",
      "metadata": {
        "id": "-pvuVch7W_TP",
        "outputId": "5e8b34df-e65c-4dc8-9682-48013664faed",
        "colab": {
          "base_uri": "https://localhost:8080/"
        }
      },
      "source": [
        "print(\"Sequences length sample 1:\", len(X_train[0]),\" sample 2:\", len(X_train[1]))\n",
        "print(\"Max length of sequence is \", np.max([len(X_train[i]) for i in range(len(X_train))]))"
      ],
      "execution_count": 111,
      "outputs": [
        {
          "output_type": "stream",
          "text": [
            "Sequences length sample 1: 24  sample 2: 30\n",
            "Max length of sequence is  71\n"
          ],
          "name": "stdout"
        }
      ]
    },
    {
      "cell_type": "code",
      "metadata": {
        "id": "hNv-Ou_KTGvz"
      },
      "source": [
        "# Make sequences of equal length \n",
        "max_len = np.max([len(X_train[i]) for i in range(len(X_train))])\n",
        "X_train = pad_sequences(X_train, maxlen=max_len)\n",
        "X_test = pad_sequences(X_test, maxlen=max_len)"
      ],
      "execution_count": 112,
      "outputs": []
    },
    {
      "cell_type": "code",
      "metadata": {
        "id": "5ntoUIYPTGtV",
        "outputId": "30bac2c8-77f2-4e1a-d5af-00dd6e677097",
        "colab": {
          "base_uri": "https://localhost:8080/"
        }
      },
      "source": [
        "print(\"After padding 1st sample became \\n\", X_train[0])"
      ],
      "execution_count": 113,
      "outputs": [
        {
          "output_type": "stream",
          "text": [
            "After padding 1st sample became \n",
            " [   0    0    0    0    0    0    0    0    0    0    0    0    0    0\n",
            "    0    0    0    0    0    0    0    0    0    0    0    0    0    0\n",
            "    0    0    0    0    0    0    0    0    0    0    0    0    0    0\n",
            "    0    0    0    0    0    7    1   48   69  814   17  128  668  119\n",
            "  924  264 3079   13    1  715   14   60  251   44  992  160    1  371\n",
            "  716]\n"
          ],
          "name": "stdout"
        }
      ]
    },
    {
      "cell_type": "code",
      "metadata": {
        "id": "Hdi7s8SuTGqW"
      },
      "source": [
        "# Convert sentiment values to one hot encoded for Keras model\n",
        "le = LabelEncoder()\n",
        "le.fit(y_train)\n",
        "y_train = to_categorical(le.transform(y_train))\n",
        "y_test = to_categorical(le.transform(y_test))"
      ],
      "execution_count": 114,
      "outputs": []
    },
    {
      "cell_type": "markdown",
      "metadata": {
        "id": "S6Ey53FjaoUg"
      },
      "source": [
        "### Model Building"
      ]
    },
    {
      "cell_type": "code",
      "metadata": {
        "id": "5PIQwMVMZpXG"
      },
      "source": [
        "n_classes = y_train.shape[1]"
      ],
      "execution_count": 115,
      "outputs": []
    },
    {
      "cell_type": "code",
      "metadata": {
        "id": "JYWwM_r0ZpUV",
        "outputId": "f43a27a1-306e-4a49-9bde-ba783f1bae32",
        "colab": {
          "base_uri": "https://localhost:8080/"
        }
      },
      "source": [
        "EMBEDDING_DIM = 300\n",
        "VOCAB_SIZE = len(tokenizer.word_index)\n",
        "\n",
        "model = Sequential()\n",
        "model.add(Embedding(VOCAB_SIZE +1, EMBEDDING_DIM, input_length=max_len))\n",
        "model.add(Dropout(0.25))\n",
        "model.add(Bidirectional(LSTM(200, return_sequences=True), merge_mode='concat'))\n",
        "model.add(Dropout(0.25))\n",
        "model.add(GlobalMaxPool1D())\n",
        "model.add(Dense(50, activation='sigmoid'))\n",
        "model.add(Dropout(0.25))\n",
        "model.add(Dense(n_classes, activation='softmax'))\n",
        "model.compile(loss='categorical_crossentropy', optimizer='rmsprop', metrics='accuracy')\n",
        "model.summary()"
      ],
      "execution_count": 116,
      "outputs": [
        {
          "output_type": "stream",
          "text": [
            "Model: \"sequential_2\"\n",
            "_________________________________________________________________\n",
            "Layer (type)                 Output Shape              Param #   \n",
            "=================================================================\n",
            "embedding_1 (Embedding)      (None, 71, 300)           2710500   \n",
            "_________________________________________________________________\n",
            "dropout_3 (Dropout)          (None, 71, 300)           0         \n",
            "_________________________________________________________________\n",
            "bidirectional_1 (Bidirection (None, 71, 400)           801600    \n",
            "_________________________________________________________________\n",
            "dropout_4 (Dropout)          (None, 71, 400)           0         \n",
            "_________________________________________________________________\n",
            "global_max_pooling1d_1 (Glob (None, 400)               0         \n",
            "_________________________________________________________________\n",
            "dense_2 (Dense)              (None, 50)                20050     \n",
            "_________________________________________________________________\n",
            "dropout_5 (Dropout)          (None, 50)                0         \n",
            "_________________________________________________________________\n",
            "dense_3 (Dense)              (None, 3)                 153       \n",
            "=================================================================\n",
            "Total params: 3,532,303\n",
            "Trainable params: 3,532,303\n",
            "Non-trainable params: 0\n",
            "_________________________________________________________________\n"
          ],
          "name": "stdout"
        }
      ]
    },
    {
      "cell_type": "code",
      "metadata": {
        "id": "6UQi70TeZpRz"
      },
      "source": [
        "# plot_model(model)"
      ],
      "execution_count": 117,
      "outputs": []
    },
    {
      "cell_type": "code",
      "metadata": {
        "id": "eTw1msLfZpPN",
        "outputId": "16aa4c58-c326-4ff6-b807-cdc083ca9b00",
        "colab": {
          "base_uri": "https://localhost:8080/"
        }
      },
      "source": [
        "#Train Model\n",
        "\n",
        "batch_size = 64\n",
        "epochs = 10\n",
        "\n",
        "model.fit(X_train, y_train, batch_size=batch_size, verbose=1, epochs=epochs)"
      ],
      "execution_count": 118,
      "outputs": [
        {
          "output_type": "stream",
          "text": [
            "Epoch 1/10\n",
            "61/61 [==============================] - 4s 22ms/step - loss: 0.9752 - accuracy: 0.5415\n",
            "Epoch 2/10\n",
            "61/61 [==============================] - 1s 22ms/step - loss: 0.7589 - accuracy: 0.6848\n",
            "Epoch 3/10\n",
            "61/61 [==============================] - 1s 22ms/step - loss: 0.5807 - accuracy: 0.7560\n",
            "Epoch 4/10\n",
            "61/61 [==============================] - 1s 22ms/step - loss: 0.4634 - accuracy: 0.8019\n",
            "Epoch 5/10\n",
            "61/61 [==============================] - 1s 22ms/step - loss: 0.3383 - accuracy: 0.8745\n",
            "Epoch 6/10\n",
            "61/61 [==============================] - 1s 22ms/step - loss: 0.2074 - accuracy: 0.9358\n",
            "Epoch 7/10\n",
            "61/61 [==============================] - 1s 22ms/step - loss: 0.1298 - accuracy: 0.9581\n",
            "Epoch 8/10\n",
            "61/61 [==============================] - 1s 22ms/step - loss: 0.1126 - accuracy: 0.9611\n",
            "Epoch 9/10\n",
            "61/61 [==============================] - 1s 22ms/step - loss: 0.0624 - accuracy: 0.9809\n",
            "Epoch 10/10\n",
            "61/61 [==============================] - 1s 22ms/step - loss: 0.0500 - accuracy: 0.9868\n"
          ],
          "name": "stdout"
        },
        {
          "output_type": "execute_result",
          "data": {
            "text/plain": [
              "<tensorflow.python.keras.callbacks.History at 0x7f3307e204d0>"
            ]
          },
          "metadata": {
            "tags": []
          },
          "execution_count": 118
        }
      ]
    },
    {
      "cell_type": "code",
      "metadata": {
        "id": "DpOVB_UyeK3w",
        "outputId": "f2f1672a-ebb6-420e-a2dd-96a0e25f3793",
        "colab": {
          "base_uri": "https://localhost:8080/"
        }
      },
      "source": [
        "test_loss, test_acc = model.evaluate(X_test, y_test, batch_size=batch_size, verbose=0)\n",
        "print(\"Testing Accuracy : {:.2f}\".format(test_acc * 100))"
      ],
      "execution_count": 119,
      "outputs": [
        {
          "output_type": "stream",
          "text": [
            "Testing Accuracy : 75.95\n"
          ],
          "name": "stdout"
        }
      ]
    },
    {
      "cell_type": "code",
      "metadata": {
        "id": "kvfSrVPaeK1V"
      },
      "source": [
        "preds = model.predict(X_test, batch_size=batch_size)\n",
        "true_y = np.argmax(y_test, axis=1)\n",
        "pred_y = np.argmax(preds, axis=1)"
      ],
      "execution_count": 120,
      "outputs": []
    },
    {
      "cell_type": "code",
      "metadata": {
        "id": "hmjRj9caeKtl",
        "outputId": "6f16bf5f-5168-4e57-811b-b63664d88034",
        "colab": {
          "base_uri": "https://localhost:8080/",
          "height": 362
        }
      },
      "source": [
        "c_mat = confusion_matrix(true_y, pred_y)\n",
        "plot_confusion_matrix(c_mat, cmap='Blues', class_names = le.classes_, figsize=(5, 5))\n",
        "plt.show()"
      ],
      "execution_count": 121,
      "outputs": [
        {
          "output_type": "display_data",
          "data": {
            "image/png": "[encoded data removed]",
            "text/plain": [
              "<Figure size 360x360 with 1 Axes>"
            ]
          },
          "metadata": {
            "tags": [],
            "needs_background": "light"
          }
        }
      ]
    },
    {
      "cell_type": "code",
      "metadata": {
        "id": "RZdUqCr1n-Hh",
        "outputId": "692196c5-0da4-4463-f4ec-156a96cd2796",
        "colab": {
          "base_uri": "https://localhost:8080/",
          "height": 295
        }
      },
      "source": [
        "fpr = {}\n",
        "tpr = {}\n",
        "thresh ={}\n",
        "\n",
        "n_class = 3\n",
        "\n",
        "for i in range(n_class):    \n",
        "    fpr[i], tpr[i], thresh[i] = roc_curve(np.argmax(y_test, axis=1), preds[:,i], pos_label=i)\n",
        "    \n",
        "# plotting    \n",
        "plt.plot(fpr[0], tpr[0], linestyle=':',color='red', label='Class 0 = NEGATIVE')\n",
        "plt.plot(fpr[1], tpr[1], linestyle='-',color='green', label='Class 1 = NEUTRAL')\n",
        "plt.plot(fpr[2], tpr[2], linestyle='-.',color='blue', label='Class 2 = POSITIVE ')\n",
        "plt.title('Multiclass ROC curve')\n",
        "plt.xlabel('False Positive Rate')\n",
        "plt.ylabel('True Positive rate')\n",
        "plt.legend(loc='best')\n",
        "plt.savefig('Multiclass ROC',dpi=300); "
      ],
      "execution_count": 122,
      "outputs": [
        {
          "output_type": "display_data",
          "data": {
            "image/png": "[encoded data removed]",
            "text/plain": [
              "<Figure size 432x288 with 1 Axes>"
            ]
          },
          "metadata": {
            "tags": [],
            "needs_background": "light"
          }
        }
      ]
    },
    {
      "cell_type": "markdown",
      "metadata": {
        "id": "1RzDfejkrMel"
      },
      "source": [
        "# Prepare NEPSE DATA"
      ]
    },
    {
      "cell_type": "code",
      "metadata": {
        "id": "FrMhQqlZn-C8"
      },
      "source": [
        "indices = pd.read_csv('/content/Nepse Indices - Sheet1.csv', header=1)"
      ],
      "execution_count": 372,
      "outputs": []
    },
    {
      "cell_type": "code",
      "metadata": {
        "id": "qNsJ8_z0n98P"
      },
      "source": [
        "indices.columns= ['no_name', 'date', 'index', 'abs_change', 'pct_change']"
      ],
      "execution_count": 373,
      "outputs": []
    },
    {
      "cell_type": "code",
      "metadata": {
        "id": "dyuBqFhEn926"
      },
      "source": [
        "indices['date'] = pd.to_datetime(indices['date'])"
      ],
      "execution_count": 374,
      "outputs": []
    },
    {
      "cell_type": "code",
      "metadata": {
        "id": "XgJdhmIuz67w"
      },
      "source": [
        "indices = indices[indices['date'] < '2019-07-06']"
      ],
      "execution_count": 375,
      "outputs": []
    },
    {
      "cell_type": "code",
      "metadata": {
        "id": "2j1HbV2F6VcX",
        "outputId": "d86389d9-5168-42c0-9ddf-184248812947",
        "colab": {
          "base_uri": "https://localhost:8080/"
        }
      },
      "source": [
        "indices.shape"
      ],
      "execution_count": 376,
      "outputs": [
        {
          "output_type": "execute_result",
          "data": {
            "text/plain": [
              "(1248, 5)"
            ]
          },
          "metadata": {
            "tags": []
          },
          "execution_count": 376
        }
      ]
    },
    {
      "cell_type": "code",
      "metadata": {
        "id": "LAqPTF1In9uF"
      },
      "source": [
        "news_df = pd.read_csv('/content/years_combined_df.csv')\n",
        "news_df['date'] = pd.to_datetime(news_df['date'])\n",
        "news_df = news_df[news_df['date'] >= '2014-02-02']"
      ],
      "execution_count": 385,
      "outputs": []
    },
    {
      "cell_type": "code",
      "metadata": {
        "id": "tmgYCkqe7H6z"
      },
      "source": [
        "news_df = news_df[['date', 'content']].groupby('date')['content'].apply(lambda content: \" \".join(content))"
      ],
      "execution_count": 386,
      "outputs": []
    },
    {
      "cell_type": "code",
      "metadata": {
        "id": "VpHF3jlQ0kwW"
      },
      "source": [
        "news_df = news_df[news_df.index.isin(indices['date'])]"
      ],
      "execution_count": 393,
      "outputs": []
    },
    {
      "cell_type": "code",
      "metadata": {
        "id": "0Bv1PKovz3Nj"
      },
      "source": [
        "indices = indices[indices['date'].isin(news_df.index)]"
      ],
      "execution_count": 396,
      "outputs": []
    },
    {
      "cell_type": "code",
      "metadata": {
        "id": "Lc5_Pfetz3D-"
      },
      "source": [
        "indices['pct_change'] = indices['pct_change'].str.replace('%', '').astype(float)"
      ],
      "execution_count": 403,
      "outputs": []
    },
    {
      "cell_type": "code",
      "metadata": {
        "id": "WPi7MlTYFO0K"
      },
      "source": [
        "full_df = pd.concat([news_df.reset_index(), indices[['index', 'pct_change']].reset_index(drop=True)], axis=1)"
      ],
      "execution_count": 440,
      "outputs": []
    },
    {
      "cell_type": "code",
      "metadata": {
        "id": "-ZsdWNjosMqa"
      },
      "source": [
        "def prepare_and_predict_news(series, pad_max_len, batch_size):\n",
        "\n",
        "    news = tokenizer.texts_to_sequences(series)\n",
        "    news = pad_sequences(news, pad_max_len)\n",
        "    news = model.predict(news, batch_size=batch_size)\n",
        "    return news"
      ],
      "execution_count": 441,
      "outputs": []
    },
    {
      "cell_type": "code",
      "metadata": {
        "id": "2MpCMyJ1sMl6"
      },
      "source": [
        "news_sentiments = prepare_and_predict_news(full_df['content'], pad_max_len=max_len, batch_size=batch_size)"
      ],
      "execution_count": 442,
      "outputs": []
    },
    {
      "cell_type": "code",
      "metadata": {
        "id": "JhhhSg2exX9h"
      },
      "source": [
        "sentiment_df = pd.DataFrame(news_sentiments, columns=['negative', 'neutral','positive'])"
      ],
      "execution_count": 443,
      "outputs": []
    },
    {
      "cell_type": "code",
      "metadata": {
        "id": "vkkOLQYtsMar"
      },
      "source": [
        "df_with_sentiment = pd.concat([full_df, sentiment_df], axis=1)"
      ],
      "execution_count": 445,
      "outputs": []
    },
    {
      "cell_type": "code",
      "metadata": {
        "id": "dyG-JceEIo_o"
      },
      "source": [
        "df_with_sentiment['target'] = np.where(df_with_sentiment['pct_change'] < 0 , 0, 1)"
      ],
      "execution_count": 451,
      "outputs": []
    },
    {
      "cell_type": "code",
      "metadata": {
        "id": "cJXdHCpQHlRN"
      },
      "source": [
        "validation_df = df_with_sentiment[df_with_sentiment['date'] > '2018-12-31']\n",
        "train_df = df_with_sentiment[df_with_sentiment['date'] <= '2018-12-31']"
      ],
      "execution_count": 453,
      "outputs": []
    },
    {
      "cell_type": "code",
      "metadata": {
        "id": "-2Lqyp-5sMP9"
      },
      "source": [
        "features = ['negative', 'neutral', 'positive']\n",
        "X_train, X_test, y_train, y_test = train_test_split(train_df[features], train_df['target'], shuffle=False, random_state=60, test_size=0.2 )"
      ],
      "execution_count": 455,
      "outputs": []
    },
    {
      "cell_type": "code",
      "metadata": {
        "id": "UW8lJciHsMNX",
        "outputId": "085fdd20-f0bf-4053-92c6-a95953b93378",
        "colab": {
          "base_uri": "https://localhost:8080/"
        }
      },
      "source": [
        "X_train.shape, X_test.shape"
      ],
      "execution_count": 456,
      "outputs": [
        {
          "output_type": "execute_result",
          "data": {
            "text/plain": [
              "((893, 3), (224, 3))"
            ]
          },
          "metadata": {
            "tags": []
          },
          "execution_count": 456
        }
      ]
    },
    {
      "cell_type": "code",
      "metadata": {
        "id": "dphLYH8yLRlW",
        "outputId": "9157b750-e922-4ceb-9d09-37d2fd944ff7",
        "colab": {
          "base_uri": "https://localhost:8080/"
        }
      },
      "source": [
        "y_test"
      ],
      "execution_count": 461,
      "outputs": [
        {
          "output_type": "execute_result",
          "data": {
            "text/plain": [
              "893     0\n",
              "894     0\n",
              "895     1\n",
              "896     1\n",
              "897     1\n",
              "       ..\n",
              "1112    0\n",
              "1113    0\n",
              "1114    1\n",
              "1115    0\n",
              "1116    0\n",
              "Name: target, Length: 224, dtype: int64"
            ]
          },
          "metadata": {
            "tags": []
          },
          "execution_count": 461
        }
      ]
    },
    {
      "cell_type": "code",
      "metadata": {
        "id": "L8b7O3WCsMKi",
        "outputId": "5a454582-1cb1-4237-bc6f-2fc8fe8f6674",
        "colab": {
          "base_uri": "https://localhost:8080/"
        }
      },
      "source": [
        "import xgboost as xgb\n",
        "params = {\n",
        "    'learning_rate': 0.001,\n",
        "    'max_depth': 2, \n",
        "    'tree_method': 'gpu_hist',\n",
        "    'objective': 'binary:logistic',\n",
        "    'eval_metric': 'auc', \n",
        "    'tree_method': 'gpu_hist', \n",
        "    'random_state': 60,\n",
        "}\n",
        "dtrain = xgb.DMatrix(X_train, y_train, feature_names=features)\n",
        "dval = xgb.DMatrix(X_test, y_test,feature_names = features)\n",
        "model = xgb.train(params, dtrain,num_boost_round=500, \n",
        "        evals=[(dtrain, 'train'),(dval, 'eval')],\n",
        "        early_stopping_rounds=100, verbose_eval=100)\n",
        "val_pred = model.predict(dval, ntree_limit = model.best_ntree_limit)"
      ],
      "execution_count": 466,
      "outputs": [
        {
          "output_type": "stream",
          "text": [
            "[0]\ttrain-auc:0.546139\teval-auc:0.456538\n",
            "Multiple eval metrics have been passed: 'eval-auc' will be used for early stopping.\n",
            "\n",
            "Will train until eval-auc hasn't improved in 100 rounds.\n",
            "[100]\ttrain-auc:0.564933\teval-auc:0.473652\n",
            "Stopping. Best iteration:\n",
            "[90]\ttrain-auc:0.564933\teval-auc:0.473652\n",
            "\n"
          ],
          "name": "stdout"
        }
      ]
    },
    {
      "cell_type": "code",
      "metadata": {
        "id": "ji1g7OjwsMG5",
        "outputId": "19add232-e6b5-4dbe-ebd6-abe0c06e0660",
        "colab": {
          "base_uri": "https://localhost:8080/"
        }
      },
      "source": [
        "score = roc_auc_score(y_test, val_pred)\n",
        "print(score)"
      ],
      "execution_count": 467,
      "outputs": [
        {
          "output_type": "stream",
          "text": [
            "0.47365180989903966\n"
          ],
          "name": "stdout"
        }
      ]
    },
    {
      "cell_type": "code",
      "metadata": {
        "id": "sEnBqODssMDk"
      },
      "source": [
        "params = {\n",
        "'num_leaves': 4,\n",
        "'min_child_weight': 0.5,\n",
        "'feature_fraction': 1,\n",
        "'bagging_fraction':0.9,\n",
        "# 'min_data_in_leaf': 106,\n",
        "'objective': 'binary',\n",
        "'max_depth': 4,\n",
        "'learning_rate': 0.05,\n",
        "\"boosting_type\": \"gbdt\",\n",
        "\"bagging_seed\": 11,\n",
        "\"metric\": 'auc',\n",
        "\"verbosity\": -1,\n",
        "'reg_alpha': 0.3899927210061127,\n",
        "'reg_lambda': 0.6485237330340494,\n",
        "'random_state': 60\n",
        "}\n"
      ],
      "execution_count": 495,
      "outputs": []
    },
    {
      "cell_type": "code",
      "metadata": {
        "id": "v9xsaTE9LjdN",
        "outputId": "ceb4da0c-8cc7-4db8-9cb2-5861ad222685",
        "colab": {
          "base_uri": "https://localhost:8080/"
        }
      },
      "source": [
        "%%time\n",
        "import lightgbm as lgb\n",
        "tr_data = lgb.Dataset(X_train, label=y_train)\n",
        "va_data = lgb.Dataset(X_test, label=y_test)\n",
        "\n",
        "model = lgb.train(\n",
        "        params, \n",
        "        tr_data,\n",
        "        num_boost_round=5000,   \n",
        "        valid_sets=[tr_data, va_data],\n",
        "        early_stopping_rounds=50,   \n",
        "        feature_name=features,\n",
        "        verbose_eval=10\n",
        "    )"
      ],
      "execution_count": 496,
      "outputs": [
        {
          "output_type": "stream",
          "text": [
            "Training until validation scores don't improve for 50 rounds.\n",
            "[10]\ttraining's auc: 0.60219\tvalid_1's auc: 0.506279\n",
            "[20]\ttraining's auc: 0.618869\tvalid_1's auc: 0.484404\n",
            "[30]\ttraining's auc: 0.640129\tvalid_1's auc: 0.443446\n",
            "[40]\ttraining's auc: 0.64864\tvalid_1's auc: 0.444472\n",
            "[50]\ttraining's auc: 0.654621\tvalid_1's auc: 0.457687\n",
            "Early stopping, best iteration is:\n",
            "[5]\ttraining's auc: 0.577105\tvalid_1's auc: 0.51933\n",
            "CPU times: user 66.7 ms, sys: 2.75 ms, total: 69.5 ms\n",
            "Wall time: 20.6 ms\n"
          ],
          "name": "stdout"
        }
      ]
    },
    {
      "cell_type": "code",
      "metadata": {
        "id": "uT_uxTDVLjaa",
        "outputId": "66ddbd7f-454c-4ebc-9bcc-e8ce89160dc2",
        "colab": {
          "base_uri": "https://localhost:8080/"
        }
      },
      "source": [
        "np.where(model.predict(validation_df[features]) > 0.51, 1,0 )"
      ],
      "execution_count": 501,
      "outputs": [
        {
          "output_type": "execute_result",
          "data": {
            "text/plain": [
              "array([0, 0, 0, 1, 0, 0, 0, 0, 1, 1, 0, 0, 0, 1, 1, 0, 0, 0, 1, 0, 0, 1,\n",
              "       0, 0, 0, 0, 0, 0, 0, 1, 0, 0, 0, 0, 0, 0, 1, 0, 1, 0, 0, 0, 1, 0,\n",
              "       0, 1, 0, 0, 0, 0, 0, 0, 1, 0, 0, 1, 0, 0, 0, 0, 0, 0, 1, 0, 0, 0,\n",
              "       1, 1, 0, 0, 0, 0, 0, 0, 1, 0, 0, 1, 0, 0, 0, 1, 0, 0, 0, 1, 0, 1,\n",
              "       1, 0, 0, 0, 1, 1, 1, 0, 1, 0, 0, 0, 1, 1, 1, 0, 1, 0, 0, 0, 0, 1,\n",
              "       1, 1, 0, 0, 1, 0, 0, 0, 0, 0, 0])"
            ]
          },
          "metadata": {
            "tags": []
          },
          "execution_count": 501
        }
      ]
    },
    {
      "cell_type": "code",
      "metadata": {
        "id": "qeWUb5kPNtlQ"
      },
      "source": [
        "validation_df['preds'] = np.where(model.predict(validation_df[features]) > 0.5, 1,0 )"
      ],
      "execution_count": 514,
      "outputs": []
    },
    {
      "cell_type": "code",
      "metadata": {
        "id": "KbYUznsELjXq",
        "outputId": "bde9f16b-bfc5-42ce-e275-34b55b9f06aa",
        "colab": {
          "base_uri": "https://localhost:8080/"
        }
      },
      "source": [
        "accuracy_score(validation_df['target'], validation_df['preds'])"
      ],
      "execution_count": 515,
      "outputs": [
        {
          "output_type": "execute_result",
          "data": {
            "text/plain": [
              "0.48760330578512395"
            ]
          },
          "metadata": {
            "tags": []
          },
          "execution_count": 515
        }
      ]
    },
    {
      "cell_type": "code",
      "metadata": {
        "id": "d9W8XiIxN7lN",
        "outputId": "1bcbaec2-c14d-4e2b-b843-ff30a642795b",
        "colab": {
          "base_uri": "https://localhost:8080/",
          "height": 363
        }
      },
      "source": [
        "cm = confusion_matrix(validation_df['target'], validation_df['preds'])\n",
        "plot_confusion_matrix(cm, cmap='Blues', class_names = ['decrease', 'increase'], figsize=(5, 5))\n",
        "plt.show()"
      ],
      "execution_count": 519,
      "outputs": [
        {
          "output_type": "display_data",
          "data": {
            "image/png": "[encoded data removed]",
            "text/plain": [
              "<Figure size 360x360 with 1 Axes>"
            ]
          },
          "metadata": {
            "tags": [],
            "needs_background": "light"
          }
        }
      ]
    },
    {
      "cell_type": "code",
      "metadata": {
        "id": "_oLChM4EN7gY",
        "outputId": "b9f174ce-ba40-4ec5-87b5-6782d76e6aab",
        "colab": {
          "base_uri": "https://localhost:8080/"
        }
      },
      "source": [
        "from sklearn.metrics import precision_recall_fscore_support\n",
        "p, r, f1, s = precision_recall_fscore_support(validation_df['target'], validation_df['preds'], average=None)\n",
        "results = pd.DataFrame({'1-Precision': p, '2-Recall': r, \\\n",
        "'3-F1 score': f1, '4-Support': s}, index=['decrease', 'increase'])\n",
        "# Print precision, recall, f1 score and support\n",
        "print(results.round(decimals=3))\n"
      ],
      "execution_count": 520,
      "outputs": [
        {
          "output_type": "stream",
          "text": [
            "          1-Precision  2-Recall  3-F1 score  4-Support\n",
            "decrease        0.500     0.065       0.114         62\n",
            "increase        0.487     0.932       0.640         59\n"
          ],
          "name": "stdout"
        }
      ]
    },
    {
      "cell_type": "code",
      "metadata": {
        "id": "dEUSJpkJQXdB"
      },
      "source": [
        ""
      ],
      "execution_count": null,
      "outputs": []
    },
    {
      "cell_type": "code",
      "metadata": {
        "id": "Kiwo3jaXQXaP"
      },
      "source": [
        ""
      ],
      "execution_count": null,
      "outputs": []
    },
    {
      "cell_type": "code",
      "metadata": {
        "id": "4QgexgMhQXXb"
      },
      "source": [
        ""
      ],
      "execution_count": null,
      "outputs": []
    },
    {
      "cell_type": "code",
      "metadata": {
        "id": "tbA1wzEtQXUr"
      },
      "source": [
        ""
      ],
      "execution_count": null,
      "outputs": []
    },
    {
      "cell_type": "code",
      "metadata": {
        "id": "Ckwqu37iQXRn"
      },
      "source": [
        ""
      ],
      "execution_count": null,
      "outputs": []
    },
    {
      "cell_type": "code",
      "metadata": {
        "id": "TJBOY40KQXOq"
      },
      "source": [
        ""
      ],
      "execution_count": null,
      "outputs": []
    },
    {
      "cell_type": "code",
      "metadata": {
        "id": "c4o8tnk0QXLn"
      },
      "source": [
        ""
      ],
      "execution_count": null,
      "outputs": []
    },
    {
      "cell_type": "code",
      "metadata": {
        "id": "ecnuQoCZQXIg"
      },
      "source": [
        ""
      ],
      "execution_count": null,
      "outputs": []
    },
    {
      "cell_type": "code",
      "metadata": {
        "id": "z0v6tLVuQXFo"
      },
      "source": [
        ""
      ],
      "execution_count": null,
      "outputs": []
    },
    {
      "cell_type": "code",
      "metadata": {
        "id": "9nms_dMCQXCH"
      },
      "source": [
        ""
      ],
      "execution_count": null,
      "outputs": []
    },
    {
      "cell_type": "code",
      "metadata": {
        "id": "iFAgE82mEolB"
      },
      "source": [
        "imdb_train, ds_info = tfds.load(name=\"imdb_reviews\", split=\"train\", \n",
        "                                with_info=True, as_supervised=True)\n",
        "imdb_test = tfds.load(name=\"imdb_reviews\", split=\"test\", \n",
        "                      as_supervised=True)"
      ],
      "execution_count": null,
      "outputs": []
    },
    {
      "cell_type": "code",
      "metadata": {
        "id": "ar_2N1sAEy8t"
      },
      "source": [
        "imdb_train = tfds.as_dataframe(imdb_train, ds_info)\n",
        "imdb_test = tfds.as_dataframe(imdb_test, ds_info)"
      ],
      "execution_count": null,
      "outputs": []
    },
    {
      "cell_type": "code",
      "metadata": {
        "id": "FhBvV8ICFgdD"
      },
      "source": [
        "imdb_train = imdb_train.applymap(lambda x: x.decode('utf-8') if isinstance(x, bytes) else x)\n",
        "imdb_test = imdb_test.applymap(lambda x: x.decode('utf-8') if isinstance(x, bytes) else x)"
      ],
      "execution_count": null,
      "outputs": []
    },
    {
      "cell_type": "code",
      "metadata": {
        "id": "_k2ksxugFre8"
      },
      "source": [
        "X_train = imdb_train['text']\n",
        "y_train = imdb_train['label']\n",
        "X_test = imdb_test['text']\n",
        "y_test = imdb_test['label']"
      ],
      "execution_count": null,
      "outputs": []
    },
    {
      "cell_type": "code",
      "metadata": {
        "id": "MzZexQ0AGvZZ"
      },
      "source": [
        "tokenizer= Tokenizer()\n",
        "tokenizer.fit_on_texts(X_train)\n",
        "X_train = tokenizer.texts_to_sequences(X_train)\n",
        "X_test= tokenizer.texts_to_sequences(X_test)"
      ],
      "execution_count": null,
      "outputs": []
    },
    {
      "cell_type": "code",
      "metadata": {
        "id": "Y5q10RrAHDdw"
      },
      "source": [
        "word_index = tokenizer.word_index"
      ],
      "execution_count": null,
      "outputs": []
    },
    {
      "cell_type": "code",
      "metadata": {
        "id": "WyPCE2z1HcLh"
      },
      "source": [
        "max_len = np.max([len(X_train[i]) for i in range(len(X_train))])"
      ],
      "execution_count": null,
      "outputs": []
    },
    {
      "cell_type": "code",
      "metadata": {
        "id": "pYzQQE6EIy6P"
      },
      "source": [
        "Tokenizer()"
      ],
      "execution_count": null,
      "outputs": []
    },
    {
      "cell_type": "code",
      "metadata": {
        "id": "u8XwtNTyJg14"
      },
      "source": [
        "X_train = pad_sequences(X_train, maxlen=150, padding='post', )\n",
        "X_test = pad_sequences(X_test, maxlen = 150, padding='post')"
      ],
      "execution_count": null,
      "outputs": []
    },
    {
      "cell_type": "code",
      "metadata": {
        "id": "ErD9bJHdKDSp"
      },
      "source": [
        "y_train = to_categorical(y_train)\n",
        "y_test = to_categorical(y_test)"
      ],
      "execution_count": null,
      "outputs": []
    },
    {
      "cell_type": "code",
      "metadata": {
        "id": "4VBM1guqKSkg"
      },
      "source": [
        "n_classes = 1\n",
        "def build_model_lstm(vocab_size, embedding_dim, rnn_units):\n",
        "    model = tf.keras.Sequential([\n",
        "    tf.keras.layers.Embedding(vocab_size, embedding_dim,\n",
        "    mask_zero=True),\n",
        "    tf.keras.layers.LSTM(rnn_units),\n",
        "    tf.keras.layers.Dense(1, activation='sigmoid')\n",
        "    ])\n",
        "    return model\n",
        "\n"
      ],
      "execution_count": null,
      "outputs": []
    },
    {
      "cell_type": "code",
      "metadata": {
        "colab": {
          "base_uri": "https://localhost:8080/"
        },
        "id": "hpW3UOJvKq-7",
        "outputId": "951c9440-12f9-4e65-a64f-3eccd87b58b0"
      },
      "source": [
        "vocab_size = len(word_index) +1\n",
        "# The embedding dimension\n",
        "embedding_dim = 64\n",
        "# Number of RNN units\n",
        "rnn_units = 64\n",
        "# batch size\n",
        "BATCH_SIZE=100\n",
        "model = build_model_lstm(\n",
        "    vocab_size = vocab_size,\n",
        "    embedding_dim=embedding_dim,\n",
        "    rnn_units=rnn_units)\n",
        "model.summary()\n"
      ],
      "execution_count": null,
      "outputs": [
        {
          "output_type": "stream",
          "text": [
            "Model: \"sequential_2\"\n",
            "_________________________________________________________________\n",
            "Layer (type)                 Output Shape              Param #   \n",
            "=================================================================\n",
            "embedding_2 (Embedding)      (None, None, 64)          5669312   \n",
            "_________________________________________________________________\n",
            "lstm_2 (LSTM)                (None, 64)                33024     \n",
            "_________________________________________________________________\n",
            "dense_2 (Dense)              (None, 1)                 65        \n",
            "=================================================================\n",
            "Total params: 5,702,401\n",
            "Trainable params: 5,702,401\n",
            "Non-trainable params: 0\n",
            "_________________________________________________________________\n"
          ],
          "name": "stdout"
        }
      ]
    },
    {
      "cell_type": "code",
      "metadata": {
        "colab": {
          "base_uri": "https://localhost:8080/"
        },
        "id": "1IZZozOEK66S",
        "outputId": "baf69a05-d538-48b6-c511-a32b03cda1e4"
      },
      "source": [
        "model.compile(loss='binary_crossentropy',optimizer='adam',metrics=['accuracy', 'Precision', 'Recall'])\n",
        "\n",
        "model.fit(X_train, y_train, epochs=10, batch_size=BATCH_SIZE, verbose=1)\n"
      ],
      "execution_count": null,
      "outputs": [
        {
          "output_type": "stream",
          "text": [
            "Epoch 1/10\n",
            "250/250 [==============================] - 13s 42ms/step - loss: 0.5405 - accuracy: 0.7022 - precision: 0.7034 - recall: 0.7006\n",
            "Epoch 2/10\n",
            "250/250 [==============================] - 11s 42ms/step - loss: 0.1774 - accuracy: 0.9366 - precision: 0.9344 - recall: 0.9400\n",
            "Epoch 3/10\n",
            "250/250 [==============================] - 10s 42ms/step - loss: 0.0855 - accuracy: 0.9739 - precision: 0.9753 - recall: 0.9726\n",
            "Epoch 4/10\n",
            "250/250 [==============================] - 10s 42ms/step - loss: 0.0499 - accuracy: 0.9856 - precision: 0.9844 - recall: 0.9867\n",
            "Epoch 5/10\n",
            "250/250 [==============================] - 10s 42ms/step - loss: 0.0265 - accuracy: 0.9928 - precision: 0.9938 - recall: 0.9919\n",
            "Epoch 6/10\n",
            "250/250 [==============================] - 10s 42ms/step - loss: 0.0303 - accuracy: 0.9909 - precision: 0.9922 - recall: 0.9897\n",
            "Epoch 7/10\n",
            "250/250 [==============================] - 10s 42ms/step - loss: 0.0358 - accuracy: 0.9872 - precision: 0.9885 - recall: 0.9856\n",
            "Epoch 8/10\n",
            "250/250 [==============================] - 10s 42ms/step - loss: 0.0144 - accuracy: 0.9956 - precision: 0.9956 - recall: 0.9956\n",
            "Epoch 9/10\n",
            "250/250 [==============================] - 10s 42ms/step - loss: 0.0156 - accuracy: 0.9949 - precision: 0.9949 - recall: 0.9948\n",
            "Epoch 10/10\n",
            "250/250 [==============================] - 10s 42ms/step - loss: 0.0063 - accuracy: 0.9983 - precision: 0.9987 - recall: 0.9979\n"
          ],
          "name": "stdout"
        },
        {
          "output_type": "execute_result",
          "data": {
            "text/plain": [
              "<tensorflow.python.keras.callbacks.History at 0x7f4bc24ad690>"
            ]
          },
          "metadata": {
            "tags": []
          },
          "execution_count": 118
        }
      ]
    },
    {
      "cell_type": "code",
      "metadata": {
        "colab": {
          "base_uri": "https://localhost:8080/"
        },
        "id": "3iJEWtc7LZc0",
        "outputId": "de06f9ef-53e6-4673-ba32-94b611beabc9"
      },
      "source": [
        "model.evaluate(X_test, y_test, batch_size=BATCH_SIZE)"
      ],
      "execution_count": null,
      "outputs": [
        {
          "output_type": "stream",
          "text": [
            "250/250 [==============================] - 3s 7ms/step - loss: 0.8269 - accuracy: 0.8362 - precision: 0.8356 - recall: 0.8370\n"
          ],
          "name": "stdout"
        },
        {
          "output_type": "execute_result",
          "data": {
            "text/plain": [
              "[0.826852023601532, 0.8361600041389465, 0.8355693817138672, 0.8370400071144104]"
            ]
          },
          "metadata": {
            "tags": []
          },
          "execution_count": 119
        }
      ]
    },
    {
      "cell_type": "code",
      "metadata": {
        "colab": {
          "base_uri": "https://localhost:8080/"
        },
        "id": "HKkPUp8gM8JR",
        "outputId": "3170b907-1eae-46c7-ba8f-eb4b844f8474"
      },
      "source": [
        "model.predict(X_test[0])"
      ],
      "execution_count": null,
      "outputs": [
        {
          "output_type": "execute_result",
          "data": {
            "text/plain": [
              "0.47636515299479165"
            ]
          },
          "metadata": {
            "tags": []
          },
          "execution_count": 127
        }
      ]
    },
    {
      "cell_type": "code",
      "metadata": {
        "id": "FNtgPfi3QONJ"
      },
      "source": [
        "y_train = to_categorical(y_train)\n",
        "y_test= to_categorical(y_test)"
      ],
      "execution_count": null,
      "outputs": []
    },
    {
      "cell_type": "code",
      "metadata": {
        "id": "BtzxfLIeNJ6d"
      },
      "source": [
        "EMBEDDING_DIM = 300\n",
        "model = Sequential()\n",
        "model.add(Embedding(vocab_size, EMBEDDING_DIM, input_length=max_len))\n",
        "model.add(Dropout(0.25))\n",
        "model.add(Bidirectional(LSTM(200, return_sequences=True), merge_mode='concat'))\n",
        "model.add(Dropout(0.25))\n",
        "model.add(GlobalMaxPool1D())\n",
        "model.add(Dense(50, activation='sigmoid'))\n",
        "model.add(Dropout(0.25))\n",
        "model.add(Dense(2, activation='softmax'))\n",
        "model.compile(loss='categorical_crossentropy', optimizer='rmsprop', metrics='accuracy')"
      ],
      "execution_count": null,
      "outputs": []
    },
    {
      "cell_type": "code",
      "metadata": {
        "colab": {
          "base_uri": "https://localhost:8080/"
        },
        "id": "4yvUtK-_TOto",
        "outputId": "6c970151-11ad-4427-e429-3e9379c642c1"
      },
      "source": [
        "model.summary()"
      ],
      "execution_count": null,
      "outputs": [
        {
          "output_type": "stream",
          "text": [
            "Model: \"sequential_3\"\n",
            "_________________________________________________________________\n",
            "Layer (type)                 Output Shape              Param #   \n",
            "=================================================================\n",
            "embedding_3 (Embedding)      (None, 2493, 300)         26574900  \n",
            "_________________________________________________________________\n",
            "dropout (Dropout)            (None, 2493, 300)         0         \n",
            "_________________________________________________________________\n",
            "bidirectional (Bidirectional (None, 2493, 400)         801600    \n",
            "_________________________________________________________________\n",
            "dropout_1 (Dropout)          (None, 2493, 400)         0         \n",
            "_________________________________________________________________\n",
            "global_max_pooling1d (Global (None, 400)               0         \n",
            "_________________________________________________________________\n",
            "dense_3 (Dense)              (None, 50)                20050     \n",
            "_________________________________________________________________\n",
            "dropout_2 (Dropout)          (None, 50)                0         \n",
            "_________________________________________________________________\n",
            "dense_4 (Dense)              (None, 2)                 102       \n",
            "=================================================================\n",
            "Total params: 27,396,652\n",
            "Trainable params: 27,396,652\n",
            "Non-trainable params: 0\n",
            "_________________________________________________________________\n"
          ],
          "name": "stdout"
        }
      ]
    },
    {
      "cell_type": "code",
      "metadata": {
        "colab": {
          "base_uri": "https://localhost:8080/"
        },
        "id": "H_YuEARuQ2m5",
        "outputId": "a71b4f00-cc38-4b2b-e37b-9bfb14f39369"
      },
      "source": [
        "batch_size = 64\n",
        "epochs = 10\n",
        "model.fit(X_train, y_train, epochs=epochs, batch_size=batch_size,verbose=1)"
      ],
      "execution_count": null,
      "outputs": [
        {
          "output_type": "stream",
          "text": [
            "Epoch 1/10\n",
            "391/391 [==============================] - 35s 91ms/step - loss: 0.2858 - accuracy: 0.8836\n",
            "Epoch 2/10\n",
            "391/391 [==============================] - 35s 90ms/step - loss: 0.2051 - accuracy: 0.9219\n",
            "Epoch 3/10\n",
            "391/391 [==============================] - 35s 90ms/step - loss: 0.1554 - accuracy: 0.9426\n",
            "Epoch 4/10\n",
            "391/391 [==============================] - 35s 90ms/step - loss: 0.1183 - accuracy: 0.9592\n",
            "Epoch 5/10\n",
            "391/391 [==============================] - 35s 90ms/step - loss: 0.0844 - accuracy: 0.9712\n",
            "Epoch 6/10\n",
            "391/391 [==============================] - 35s 90ms/step - loss: 0.0571 - accuracy: 0.9808\n",
            "Epoch 7/10\n",
            "391/391 [==============================] - 35s 90ms/step - loss: 0.0411 - accuracy: 0.9863\n",
            "Epoch 8/10\n",
            "391/391 [==============================] - 36s 91ms/step - loss: 0.0280 - accuracy: 0.9912\n",
            "Epoch 9/10\n",
            "391/391 [==============================] - 35s 91ms/step - loss: 0.0179 - accuracy: 0.9943\n",
            "Epoch 10/10\n",
            "391/391 [==============================] - 35s 91ms/step - loss: 0.0121 - accuracy: 0.9964\n"
          ],
          "name": "stdout"
        },
        {
          "output_type": "execute_result",
          "data": {
            "text/plain": [
              "<tensorflow.python.keras.callbacks.History at 0x7f4bc0684990>"
            ]
          },
          "metadata": {
            "tags": []
          },
          "execution_count": 134
        }
      ]
    },
    {
      "cell_type": "code",
      "metadata": {
        "colab": {
          "base_uri": "https://localhost:8080/"
        },
        "id": "X8dhB9wzQ8I-",
        "outputId": "6c2cae88-47e6-4ddc-a173-b76e6b953c89"
      },
      "source": [
        "model.evaluate(X_test, y_test, batch_size=BATCH_SIZE)"
      ],
      "execution_count": null,
      "outputs": [
        {
          "output_type": "stream",
          "text": [
            "WARNING:tensorflow:Model was constructed with shape (None, 2493) for input KerasTensor(type_spec=TensorSpec(shape=(None, 2493), dtype=tf.float32, name='embedding_3_input'), name='embedding_3_input', description=\"created by layer 'embedding_3_input'\"), but it was called on an input with incompatible shape (100, 150).\n"
          ],
          "name": "stdout"
        },
        {
          "output_type": "stream",
          "text": [
            "WARNING:tensorflow:Model was constructed with shape (None, 2493) for input KerasTensor(type_spec=TensorSpec(shape=(None, 2493), dtype=tf.float32, name='embedding_3_input'), name='embedding_3_input', description=\"created by layer 'embedding_3_input'\"), but it was called on an input with incompatible shape (100, 150).\n"
          ],
          "name": "stderr"
        },
        {
          "output_type": "stream",
          "text": [
            "250/250 [==============================] - 4s 13ms/step - loss: 0.6060 - accuracy: 0.8502\n"
          ],
          "name": "stdout"
        },
        {
          "output_type": "execute_result",
          "data": {
            "text/plain": [
              "[0.6059731841087341, 0.8501999974250793]"
            ]
          },
          "metadata": {
            "tags": []
          },
          "execution_count": 136
        }
      ]
    },
    {
      "cell_type": "code",
      "metadata": {
        "colab": {
          "base_uri": "https://localhost:8080/"
        },
        "id": "CAKn2JMbTdDh",
        "outputId": "4bbe5f16-d866-4fcb-85fc-92e8387b7525"
      },
      "source": [
        "model.predict(X_test[0])"
      ],
      "execution_count": null,
      "outputs": [
        {
          "output_type": "stream",
          "text": [
            "WARNING:tensorflow:Model was constructed with shape (None, 2493) for input KerasTensor(type_spec=TensorSpec(shape=(None, 2493), dtype=tf.float32, name='embedding_3_input'), name='embedding_3_input', description=\"created by layer 'embedding_3_input'\"), but it was called on an input with incompatible shape (None, 1).\n"
          ],
          "name": "stdout"
        },
        {
          "output_type": "stream",
          "text": [
            "WARNING:tensorflow:Model was constructed with shape (None, 2493) for input KerasTensor(type_spec=TensorSpec(shape=(None, 2493), dtype=tf.float32, name='embedding_3_input'), name='embedding_3_input', description=\"created by layer 'embedding_3_input'\"), but it was called on an input with incompatible shape (None, 1).\n"
          ],
          "name": "stderr"
        },
        {
          "output_type": "execute_result",
          "data": {
            "text/plain": [
              "array([[3.94611120e-01, 6.05388880e-01],\n",
              "       [7.62499988e-01, 2.37499967e-01],\n",
              "       [9.99360025e-01, 6.39992417e-04],\n",
              "       [2.54454720e-03, 9.97455418e-01],\n",
              "       [2.42744815e-02, 9.75725532e-01],\n",
              "       [5.18489957e-01, 4.81509984e-01],\n",
              "       [1.93062499e-01, 8.06937516e-01],\n",
              "       [8.01742554e-01, 1.98257491e-01],\n",
              "       [6.38091326e-01, 3.61908704e-01],\n",
              "       [4.71223384e-01, 5.28776646e-01],\n",
              "       [8.80347371e-01, 1.19652607e-01],\n",
              "       [3.91476555e-04, 9.99608576e-01],\n",
              "       [9.98337388e-01, 1.66256400e-03],\n",
              "       [3.48617882e-01, 6.51382089e-01],\n",
              "       [5.72086036e-01, 4.27913964e-01],\n",
              "       [9.84464467e-01, 1.55354915e-02],\n",
              "       [1.09254186e-04, 9.99890685e-01],\n",
              "       [1.99941069e-01, 8.00058901e-01],\n",
              "       [8.08977187e-01, 1.91022769e-01],\n",
              "       [5.03213584e-01, 4.96786386e-01],\n",
              "       [8.48092139e-01, 1.51907936e-01],\n",
              "       [9.69207048e-01, 3.07929907e-02],\n",
              "       [5.03213584e-01, 4.96786386e-01],\n",
              "       [8.48092139e-01, 1.51907936e-01],\n",
              "       [6.92174397e-03, 9.93078172e-01],\n",
              "       [8.48092139e-01, 1.51907936e-01],\n",
              "       [9.60729420e-01, 3.92706171e-02],\n",
              "       [7.55092978e-01, 2.44907022e-01],\n",
              "       [5.68609655e-01, 4.31390405e-01],\n",
              "       [9.98669147e-01, 1.33085728e-03],\n",
              "       [9.25569355e-01, 7.44306520e-02],\n",
              "       [6.10065937e-01, 3.89934093e-01],\n",
              "       [3.72588374e-02, 9.62741137e-01],\n",
              "       [4.31142822e-02, 9.56885755e-01],\n",
              "       [4.16871130e-01, 5.83128929e-01],\n",
              "       [2.45105490e-01, 7.54894495e-01],\n",
              "       [9.86912012e-01, 1.30879451e-02],\n",
              "       [6.10065937e-01, 3.89934093e-01],\n",
              "       [4.58983243e-01, 5.41016757e-01],\n",
              "       [5.68609655e-01, 4.31390405e-01],\n",
              "       [2.83704083e-02, 9.71629620e-01],\n",
              "       [7.97293484e-02, 9.20270681e-01],\n",
              "       [5.03213584e-01, 4.96786386e-01],\n",
              "       [8.86001289e-01, 1.13998666e-01],\n",
              "       [8.69673252e-01, 1.30326718e-01],\n",
              "       [6.10065937e-01, 3.89934093e-01],\n",
              "       [8.12637687e-01, 1.87362283e-01],\n",
              "       [1.95577428e-01, 8.04422557e-01],\n",
              "       [6.10065937e-01, 3.89934093e-01],\n",
              "       [4.31142822e-02, 9.56885755e-01],\n",
              "       [2.28764918e-02, 9.77123499e-01],\n",
              "       [4.16871130e-01, 5.83128929e-01],\n",
              "       [2.45105490e-01, 7.54894495e-01],\n",
              "       [4.59676445e-01, 5.40323615e-01],\n",
              "       [8.01742554e-01, 1.98257491e-01],\n",
              "       [8.99117112e-01, 1.00882903e-01],\n",
              "       [8.51726234e-01, 1.48273796e-01],\n",
              "       [3.50428849e-01, 6.49571180e-01],\n",
              "       [6.82107985e-01, 3.17891985e-01],\n",
              "       [9.98337388e-01, 1.66256400e-03],\n",
              "       [3.48617882e-01, 6.51382089e-01],\n",
              "       [5.72086036e-01, 4.27913964e-01],\n",
              "       [9.84464467e-01, 1.55354915e-02],\n",
              "       [3.50428849e-01, 6.49571180e-01],\n",
              "       [4.59676445e-01, 5.40323615e-01],\n",
              "       [6.78626075e-03, 9.93213773e-01],\n",
              "       [2.83704083e-02, 9.71629620e-01],\n",
              "       [7.55092978e-01, 2.44907022e-01],\n",
              "       [8.69809747e-01, 1.30190253e-01],\n",
              "       [9.78693247e-01, 2.13067010e-02],\n",
              "       [6.38091326e-01, 3.61908704e-01],\n",
              "       [9.76025105e-01, 2.39749216e-02],\n",
              "       [9.08619523e-01, 9.13804844e-02],\n",
              "       [7.19521046e-01, 2.80478925e-01],\n",
              "       [8.01742554e-01, 1.98257491e-01],\n",
              "       [9.60610807e-01, 3.93891335e-02],\n",
              "       [9.58054781e-01, 4.19451781e-02],\n",
              "       [8.59631896e-01, 1.40368119e-01],\n",
              "       [3.48617882e-01, 6.51382089e-01],\n",
              "       [2.44970154e-02, 9.75503027e-01],\n",
              "       [7.55092978e-01, 2.44907022e-01],\n",
              "       [4.16871130e-01, 5.83128929e-01],\n",
              "       [9.97792721e-01, 2.20734277e-03],\n",
              "       [5.03213584e-01, 4.96786386e-01],\n",
              "       [9.90198255e-01, 9.80177615e-03],\n",
              "       [3.48617882e-01, 6.51382089e-01],\n",
              "       [5.98376274e-01, 4.01623696e-01],\n",
              "       [5.67913353e-01, 4.32086676e-01],\n",
              "       [5.98376274e-01, 4.01623696e-01],\n",
              "       [9.96609211e-01, 3.39078996e-03],\n",
              "       [7.55092978e-01, 2.44907022e-01],\n",
              "       [9.63294208e-02, 9.03670609e-01],\n",
              "       [8.01742554e-01, 1.98257491e-01],\n",
              "       [1.95341140e-01, 8.04658830e-01],\n",
              "       [6.15648972e-03, 9.93843555e-01],\n",
              "       [5.68609655e-01, 4.31390405e-01],\n",
              "       [9.99814689e-01, 1.85327139e-04],\n",
              "       [4.13520448e-02, 9.58647966e-01],\n",
              "       [5.03213584e-01, 4.96786386e-01],\n",
              "       [3.15329313e-01, 6.84670687e-01],\n",
              "       [7.55092978e-01, 2.44907022e-01],\n",
              "       [9.63294208e-02, 9.03670609e-01],\n",
              "       [7.31409848e-01, 2.68590122e-01],\n",
              "       [3.08290362e-01, 6.91709638e-01],\n",
              "       [3.50428849e-01, 6.49571180e-01],\n",
              "       [2.46031035e-04, 9.99754012e-01],\n",
              "       [9.89393234e-01, 1.06067257e-02],\n",
              "       [3.48617882e-01, 6.51382089e-01],\n",
              "       [8.18565607e-01, 1.81434423e-01],\n",
              "       [9.82791245e-01, 1.72086786e-02],\n",
              "       [7.55092978e-01, 2.44907022e-01],\n",
              "       [3.48617882e-01, 6.51382089e-01],\n",
              "       [1.83338344e-01, 8.16661656e-01],\n",
              "       [9.98547018e-01, 1.45297765e-03],\n",
              "       [9.98589933e-01, 1.41006242e-03],\n",
              "       [5.03213584e-01, 4.96786386e-01],\n",
              "       [5.68609655e-01, 4.31390405e-01],\n",
              "       [1.46250606e-01, 8.53749394e-01],\n",
              "       [3.01816724e-02, 9.69818294e-01],\n",
              "       [1.09937944e-01, 8.90062094e-01],\n",
              "       [6.37287259e-01, 3.62712801e-01],\n",
              "       [2.72868481e-03, 9.97271359e-01],\n",
              "       [8.21948886e-01, 1.78051144e-01],\n",
              "       [9.99331892e-01, 6.68058346e-04],\n",
              "       [7.55092978e-01, 2.44907022e-01],\n",
              "       [5.68609655e-01, 4.31390405e-01],\n",
              "       [7.06524372e-01, 2.93475628e-01],\n",
              "       [5.68609655e-01, 4.31390405e-01],\n",
              "       [4.53046337e-03, 9.95469570e-01],\n",
              "       [9.98428762e-01, 1.57120661e-03],\n",
              "       [9.53656197e-01, 4.63437364e-02],\n",
              "       [9.76025105e-01, 2.39749216e-02],\n",
              "       [9.88190889e-01, 1.18091581e-02],\n",
              "       [9.26382244e-01, 7.36177042e-02],\n",
              "       [7.84983814e-01, 2.15016171e-01],\n",
              "       [3.48617882e-01, 6.51382089e-01],\n",
              "       [1.99941069e-01, 8.00058901e-01],\n",
              "       [1.41889647e-01, 8.58110368e-01],\n",
              "       [4.16871130e-01, 5.83128929e-01],\n",
              "       [9.98337388e-01, 1.66256400e-03],\n",
              "       [3.48617882e-01, 6.51382089e-01],\n",
              "       [5.72086036e-01, 4.27913964e-01],\n",
              "       [9.84464467e-01, 1.55354915e-02],\n",
              "       [3.50428849e-01, 6.49571180e-01],\n",
              "       [3.48617882e-01, 6.51382089e-01],\n",
              "       [1.99941069e-01, 8.00058901e-01],\n",
              "       [9.08832133e-01, 9.11678150e-02],\n",
              "       [8.84443074e-02, 9.11555707e-01],\n",
              "       [1.63102552e-01, 8.36897433e-01],\n",
              "       [9.55882311e-01, 4.41177413e-02]], dtype=float32)"
            ]
          },
          "metadata": {
            "tags": []
          },
          "execution_count": 137
        }
      ]
    },
    {
      "cell_type": "code",
      "metadata": {
        "id": "dkNr1f-4Um6f"
      },
      "source": [
        ""
      ],
      "execution_count": null,
      "outputs": []
    }
  ]
}