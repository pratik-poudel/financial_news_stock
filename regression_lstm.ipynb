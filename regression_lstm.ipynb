{
  "nbformat": 4,
  "nbformat_minor": 0,
  "metadata": {
    "colab": {
      "name": "scratchpad",
      "provenance": [],
      "machine_shape": "hm",
      "include_colab_link": true
    },
    "kernelspec": {
      "display_name": "Python 3",
      "name": "python3"
    },
    "accelerator": "GPU"
  },
  "cells": [
    {
      "cell_type": "markdown",
      "metadata": {
        "id": "view-in-github",
        "colab_type": "text"
      },
      "source": [
        "<a href=\"https://colab.research.google.com/github/pratik-poudel/financial_news_stock/blob/master/regression_lstm.ipynb\" target=\"_parent\"><img src=\"https://colab.research.google.com/assets/colab-badge.svg\" alt=\"Open In Colab\"/></a>"
      ]
    },
    {
      "cell_type": "code",
      "metadata": {
        "id": "0jGP6ocnmwnZ",
        "outputId": "9a7b0799-3bf3-4dee-d8af-1f7ec37db9ff",
        "colab": {
          "base_uri": "https://localhost:8080/"
        }
      },
      "source": [
        "!pip install mlxtend --upgrade"
      ],
      "execution_count": 1,
      "outputs": [
        {
          "output_type": "stream",
          "text": [
            "Collecting mlxtend\n",
            "\u001b[?25l  Downloading https://files.pythonhosted.org/packages/86/30/781c0b962a70848db83339567ecab656638c62f05adb064cb33c0ae49244/mlxtend-0.18.0-py2.py3-none-any.whl (1.3MB)\n",
            "\r\u001b[K     |▎                               | 10kB 19.5MB/s eta 0:00:01\r\u001b[K     |▌                               | 20kB 26.2MB/s eta 0:00:01\r\u001b[K     |▊                               | 30kB 25.0MB/s eta 0:00:01\r\u001b[K     |█                               | 40kB 19.4MB/s eta 0:00:01\r\u001b[K     |█▏                              | 51kB 15.1MB/s eta 0:00:01\r\u001b[K     |█▌                              | 61kB 17.2MB/s eta 0:00:01\r\u001b[K     |█▊                              | 71kB 13.7MB/s eta 0:00:01\r\u001b[K     |██                              | 81kB 15.0MB/s eta 0:00:01\r\u001b[K     |██▏                             | 92kB 15.0MB/s eta 0:00:01\r\u001b[K     |██▍                             | 102kB 12.3MB/s eta 0:00:01\r\u001b[K     |██▊                             | 112kB 12.3MB/s eta 0:00:01\r\u001b[K     |███                             | 122kB 12.3MB/s eta 0:00:01\r\u001b[K     |███▏                            | 133kB 12.3MB/s eta 0:00:01\r\u001b[K     |███▍                            | 143kB 12.3MB/s eta 0:00:01\r\u001b[K     |███▋                            | 153kB 12.3MB/s eta 0:00:01\r\u001b[K     |████                            | 163kB 12.3MB/s eta 0:00:01\r\u001b[K     |████▏                           | 174kB 12.3MB/s eta 0:00:01\r\u001b[K     |████▍                           | 184kB 12.3MB/s eta 0:00:01\r\u001b[K     |████▋                           | 194kB 12.3MB/s eta 0:00:01\r\u001b[K     |████▉                           | 204kB 12.3MB/s eta 0:00:01\r\u001b[K     |█████▏                          | 215kB 12.3MB/s eta 0:00:01\r\u001b[K     |█████▍                          | 225kB 12.3MB/s eta 0:00:01\r\u001b[K     |█████▋                          | 235kB 12.3MB/s eta 0:00:01\r\u001b[K     |█████▉                          | 245kB 12.3MB/s eta 0:00:01\r\u001b[K     |██████                          | 256kB 12.3MB/s eta 0:00:01\r\u001b[K     |██████▎                         | 266kB 12.3MB/s eta 0:00:01\r\u001b[K     |██████▋                         | 276kB 12.3MB/s eta 0:00:01\r\u001b[K     |██████▉                         | 286kB 12.3MB/s eta 0:00:01\r\u001b[K     |███████                         | 296kB 12.3MB/s eta 0:00:01\r\u001b[K     |███████▎                        | 307kB 12.3MB/s eta 0:00:01\r\u001b[K     |███████▌                        | 317kB 12.3MB/s eta 0:00:01\r\u001b[K     |███████▉                        | 327kB 12.3MB/s eta 0:00:01\r\u001b[K     |████████                        | 337kB 12.3MB/s eta 0:00:01\r\u001b[K     |████████▎                       | 348kB 12.3MB/s eta 0:00:01\r\u001b[K     |████████▌                       | 358kB 12.3MB/s eta 0:00:01\r\u001b[K     |████████▊                       | 368kB 12.3MB/s eta 0:00:01\r\u001b[K     |█████████                       | 378kB 12.3MB/s eta 0:00:01\r\u001b[K     |█████████▎                      | 389kB 12.3MB/s eta 0:00:01\r\u001b[K     |█████████▌                      | 399kB 12.3MB/s eta 0:00:01\r\u001b[K     |█████████▊                      | 409kB 12.3MB/s eta 0:00:01\r\u001b[K     |██████████                      | 419kB 12.3MB/s eta 0:00:01\r\u001b[K     |██████████▎                     | 430kB 12.3MB/s eta 0:00:01\r\u001b[K     |██████████▌                     | 440kB 12.3MB/s eta 0:00:01\r\u001b[K     |██████████▊                     | 450kB 12.3MB/s eta 0:00:01\r\u001b[K     |███████████                     | 460kB 12.3MB/s eta 0:00:01\r\u001b[K     |███████████▏                    | 471kB 12.3MB/s eta 0:00:01\r\u001b[K     |███████████▌                    | 481kB 12.3MB/s eta 0:00:01\r\u001b[K     |███████████▊                    | 491kB 12.3MB/s eta 0:00:01\r\u001b[K     |████████████                    | 501kB 12.3MB/s eta 0:00:01\r\u001b[K     |████████████▏                   | 512kB 12.3MB/s eta 0:00:01\r\u001b[K     |████████████▍                   | 522kB 12.3MB/s eta 0:00:01\r\u001b[K     |████████████▋                   | 532kB 12.3MB/s eta 0:00:01\r\u001b[K     |█████████████                   | 542kB 12.3MB/s eta 0:00:01\r\u001b[K     |█████████████▏                  | 552kB 12.3MB/s eta 0:00:01\r\u001b[K     |█████████████▍                  | 563kB 12.3MB/s eta 0:00:01\r\u001b[K     |█████████████▋                  | 573kB 12.3MB/s eta 0:00:01\r\u001b[K     |█████████████▉                  | 583kB 12.3MB/s eta 0:00:01\r\u001b[K     |██████████████▏                 | 593kB 12.3MB/s eta 0:00:01\r\u001b[K     |██████████████▍                 | 604kB 12.3MB/s eta 0:00:01\r\u001b[K     |██████████████▋                 | 614kB 12.3MB/s eta 0:00:01\r\u001b[K     |██████████████▉                 | 624kB 12.3MB/s eta 0:00:01\r\u001b[K     |███████████████                 | 634kB 12.3MB/s eta 0:00:01\r\u001b[K     |███████████████▍                | 645kB 12.3MB/s eta 0:00:01\r\u001b[K     |███████████████▋                | 655kB 12.3MB/s eta 0:00:01\r\u001b[K     |███████████████▉                | 665kB 12.3MB/s eta 0:00:01\r\u001b[K     |████████████████                | 675kB 12.3MB/s eta 0:00:01\r\u001b[K     |████████████████▎               | 686kB 12.3MB/s eta 0:00:01\r\u001b[K     |████████████████▋               | 696kB 12.3MB/s eta 0:00:01\r\u001b[K     |████████████████▉               | 706kB 12.3MB/s eta 0:00:01\r\u001b[K     |█████████████████               | 716kB 12.3MB/s eta 0:00:01\r\u001b[K     |█████████████████▎              | 727kB 12.3MB/s eta 0:00:01\r\u001b[K     |█████████████████▌              | 737kB 12.3MB/s eta 0:00:01\r\u001b[K     |█████████████████▊              | 747kB 12.3MB/s eta 0:00:01\r\u001b[K     |██████████████████              | 757kB 12.3MB/s eta 0:00:01\r\u001b[K     |██████████████████▎             | 768kB 12.3MB/s eta 0:00:01\r\u001b[K     |██████████████████▌             | 778kB 12.3MB/s eta 0:00:01\r\u001b[K     |██████████████████▊             | 788kB 12.3MB/s eta 0:00:01\r\u001b[K     |███████████████████             | 798kB 12.3MB/s eta 0:00:01\r\u001b[K     |███████████████████▎            | 808kB 12.3MB/s eta 0:00:01\r\u001b[K     |███████████████████▌            | 819kB 12.3MB/s eta 0:00:01\r\u001b[K     |███████████████████▊            | 829kB 12.3MB/s eta 0:00:01\r\u001b[K     |████████████████████            | 839kB 12.3MB/s eta 0:00:01\r\u001b[K     |████████████████████▏           | 849kB 12.3MB/s eta 0:00:01\r\u001b[K     |████████████████████▌           | 860kB 12.3MB/s eta 0:00:01\r\u001b[K     |████████████████████▊           | 870kB 12.3MB/s eta 0:00:01\r\u001b[K     |█████████████████████           | 880kB 12.3MB/s eta 0:00:01\r\u001b[K     |█████████████████████▏          | 890kB 12.3MB/s eta 0:00:01\r\u001b[K     |█████████████████████▍          | 901kB 12.3MB/s eta 0:00:01\r\u001b[K     |█████████████████████▊          | 911kB 12.3MB/s eta 0:00:01\r\u001b[K     |██████████████████████          | 921kB 12.3MB/s eta 0:00:01\r\u001b[K     |██████████████████████▏         | 931kB 12.3MB/s eta 0:00:01\r\u001b[K     |██████████████████████▍         | 942kB 12.3MB/s eta 0:00:01\r\u001b[K     |██████████████████████▋         | 952kB 12.3MB/s eta 0:00:01\r\u001b[K     |███████████████████████         | 962kB 12.3MB/s eta 0:00:01\r\u001b[K     |███████████████████████▏        | 972kB 12.3MB/s eta 0:00:01\r\u001b[K     |███████████████████████▍        | 983kB 12.3MB/s eta 0:00:01\r\u001b[K     |███████████████████████▋        | 993kB 12.3MB/s eta 0:00:01\r\u001b[K     |███████████████████████▉        | 1.0MB 12.3MB/s eta 0:00:01\r\u001b[K     |████████████████████████        | 1.0MB 12.3MB/s eta 0:00:01\r\u001b[K     |████████████████████████▍       | 1.0MB 12.3MB/s eta 0:00:01\r\u001b[K     |████████████████████████▋       | 1.0MB 12.3MB/s eta 0:00:01\r\u001b[K     |████████████████████████▉       | 1.0MB 12.3MB/s eta 0:00:01\r\u001b[K     |█████████████████████████       | 1.1MB 12.3MB/s eta 0:00:01\r\u001b[K     |█████████████████████████▎      | 1.1MB 12.3MB/s eta 0:00:01\r\u001b[K     |█████████████████████████▋      | 1.1MB 12.3MB/s eta 0:00:01\r\u001b[K     |█████████████████████████▉      | 1.1MB 12.3MB/s eta 0:00:01\r\u001b[K     |██████████████████████████      | 1.1MB 12.3MB/s eta 0:00:01\r\u001b[K     |██████████████████████████▎     | 1.1MB 12.3MB/s eta 0:00:01\r\u001b[K     |██████████████████████████▌     | 1.1MB 12.3MB/s eta 0:00:01\r\u001b[K     |██████████████████████████▉     | 1.1MB 12.3MB/s eta 0:00:01\r\u001b[K     |███████████████████████████     | 1.1MB 12.3MB/s eta 0:00:01\r\u001b[K     |███████████████████████████▎    | 1.1MB 12.3MB/s eta 0:00:01\r\u001b[K     |███████████████████████████▌    | 1.2MB 12.3MB/s eta 0:00:01\r\u001b[K     |███████████████████████████▊    | 1.2MB 12.3MB/s eta 0:00:01\r\u001b[K     |████████████████████████████    | 1.2MB 12.3MB/s eta 0:00:01\r\u001b[K     |████████████████████████████▎   | 1.2MB 12.3MB/s eta 0:00:01\r\u001b[K     |████████████████████████████▌   | 1.2MB 12.3MB/s eta 0:00:01\r\u001b[K     |████████████████████████████▊   | 1.2MB 12.3MB/s eta 0:00:01\r\u001b[K     |█████████████████████████████   | 1.2MB 12.3MB/s eta 0:00:01\r\u001b[K     |█████████████████████████████▏  | 1.2MB 12.3MB/s eta 0:00:01\r\u001b[K     |█████████████████████████████▌  | 1.2MB 12.3MB/s eta 0:00:01\r\u001b[K     |█████████████████████████████▊  | 1.2MB 12.3MB/s eta 0:00:01\r\u001b[K     |██████████████████████████████  | 1.3MB 12.3MB/s eta 0:00:01\r\u001b[K     |██████████████████████████████▏ | 1.3MB 12.3MB/s eta 0:00:01\r\u001b[K     |██████████████████████████████▍ | 1.3MB 12.3MB/s eta 0:00:01\r\u001b[K     |██████████████████████████████▊ | 1.3MB 12.3MB/s eta 0:00:01\r\u001b[K     |███████████████████████████████ | 1.3MB 12.3MB/s eta 0:00:01\r\u001b[K     |███████████████████████████████▏| 1.3MB 12.3MB/s eta 0:00:01\r\u001b[K     |███████████████████████████████▍| 1.3MB 12.3MB/s eta 0:00:01\r\u001b[K     |███████████████████████████████▋| 1.3MB 12.3MB/s eta 0:00:01\r\u001b[K     |████████████████████████████████| 1.3MB 12.3MB/s eta 0:00:01\r\u001b[K     |████████████████████████████████| 1.4MB 12.3MB/s \n",
            "\u001b[?25hRequirement already satisfied, skipping upgrade: pandas>=0.24.2 in /usr/local/lib/python3.7/dist-packages (from mlxtend) (1.1.5)\n",
            "Requirement already satisfied, skipping upgrade: setuptools in /usr/local/lib/python3.7/dist-packages (from mlxtend) (54.0.0)\n",
            "Requirement already satisfied, skipping upgrade: scikit-learn>=0.20.3 in /usr/local/lib/python3.7/dist-packages (from mlxtend) (0.22.2.post1)\n",
            "Requirement already satisfied, skipping upgrade: scipy>=1.2.1 in /usr/local/lib/python3.7/dist-packages (from mlxtend) (1.4.1)\n",
            "Requirement already satisfied, skipping upgrade: joblib>=0.13.2 in /usr/local/lib/python3.7/dist-packages (from mlxtend) (1.0.1)\n",
            "Requirement already satisfied, skipping upgrade: numpy>=1.16.2 in /usr/local/lib/python3.7/dist-packages (from mlxtend) (1.19.5)\n",
            "Requirement already satisfied, skipping upgrade: matplotlib>=3.0.0 in /usr/local/lib/python3.7/dist-packages (from mlxtend) (3.2.2)\n",
            "Requirement already satisfied, skipping upgrade: python-dateutil>=2.7.3 in /usr/local/lib/python3.7/dist-packages (from pandas>=0.24.2->mlxtend) (2.8.1)\n",
            "Requirement already satisfied, skipping upgrade: pytz>=2017.2 in /usr/local/lib/python3.7/dist-packages (from pandas>=0.24.2->mlxtend) (2018.9)\n",
            "Requirement already satisfied, skipping upgrade: cycler>=0.10 in /usr/local/lib/python3.7/dist-packages (from matplotlib>=3.0.0->mlxtend) (0.10.0)\n",
            "Requirement already satisfied, skipping upgrade: kiwisolver>=1.0.1 in /usr/local/lib/python3.7/dist-packages (from matplotlib>=3.0.0->mlxtend) (1.3.1)\n",
            "Requirement already satisfied, skipping upgrade: pyparsing!=2.0.4,!=2.1.2,!=2.1.6,>=2.0.1 in /usr/local/lib/python3.7/dist-packages (from matplotlib>=3.0.0->mlxtend) (2.4.7)\n",
            "Requirement already satisfied, skipping upgrade: six>=1.5 in /usr/local/lib/python3.7/dist-packages (from python-dateutil>=2.7.3->pandas>=0.24.2->mlxtend) (1.15.0)\n",
            "Installing collected packages: mlxtend\n",
            "  Found existing installation: mlxtend 0.14.0\n",
            "    Uninstalling mlxtend-0.14.0:\n",
            "      Successfully uninstalled mlxtend-0.14.0\n",
            "Successfully installed mlxtend-0.18.0\n"
          ],
          "name": "stdout"
        }
      ]
    },
    {
      "cell_type": "code",
      "metadata": {
        "id": "lIYdn1woOS1n"
      },
      "source": [
        "import numpy as np\n",
        "import pandas as pd\n",
        "import matplotlib.pyplot as plt\n",
        "\n",
        "\n",
        "\n",
        "import tensorflow as tf\n",
        "import tensorflow_datasets as tfds\n",
        "\n",
        "from tensorflow.keras.preprocessing.text import Tokenizer\n",
        "from tensorflow.keras.preprocessing.sequence import pad_sequences\n",
        "\n",
        "from tensorflow.keras.models import Sequential\n",
        "from tensorflow.keras.layers import Embedding, Dropout, Bidirectional,LSTM, GlobalMaxPool1D, Dense\n",
        "from tensorflow.keras.utils import to_categorical, plot_model\n",
        "\n",
        "\n",
        "from sklearn.model_selection import train_test_split\n",
        "from sklearn.preprocessing import LabelEncoder\n",
        "from sklearn.metrics import confusion_matrix, roc_curve, roc_auc_score, accuracy_score,precision_recall_fscore_support\n",
        "from sklearn.utils import resample, shuffle\n",
        "\n",
        "\n",
        "from mlxtend.plotting import plot_confusion_matrix\n",
        "import warnings \n",
        "warnings.filterwarnings('ignore')"
      ],
      "execution_count": 2,
      "outputs": []
    },
    {
      "cell_type": "markdown",
      "metadata": {
        "id": "dUTvPQ9vRok2"
      },
      "source": [
        "# Financial Phrase Bank "
      ]
    },
    {
      "cell_type": "code",
      "metadata": {
        "id": "4u2s5DZARoL6"
      },
      "source": [
        "fin_data = pd.read_table('/content/Sentences_50Agree.txt', delimiter='\\r\\n')"
      ],
      "execution_count": 3,
      "outputs": []
    },
    {
      "cell_type": "code",
      "metadata": {
        "id": "OQdubjqSRoIp"
      },
      "source": [
        "values = np.array([fin_data.values[i][0].split('@') for i in range(fin_data.shape[0])])\n",
        "data = pd.DataFrame({'sentence': values[:, 0], 'sentiment':values[:, 1]})"
      ],
      "execution_count": 4,
      "outputs": []
    },
    {
      "cell_type": "code",
      "metadata": {
        "id": "slCvtjgNRoFN",
        "colab": {
          "base_uri": "https://localhost:8080/",
          "height": 0
        },
        "outputId": "85675edf-54df-46cc-f89e-6890cd1f0415"
      },
      "source": [
        "data.head(2)"
      ],
      "execution_count": 5,
      "outputs": [
        {
          "output_type": "execute_result",
          "data": {
            "text/html": [
              "<div>\n",
              "<style scoped>\n",
              "    .dataframe tbody tr th:only-of-type {\n",
              "        vertical-align: middle;\n",
              "    }\n",
              "\n",
              "    .dataframe tbody tr th {\n",
              "        vertical-align: top;\n",
              "    }\n",
              "\n",
              "    .dataframe thead th {\n",
              "        text-align: right;\n",
              "    }\n",
              "</style>\n",
              "<table border=\"1\" class=\"dataframe\">\n",
              "  <thead>\n",
              "    <tr style=\"text-align: right;\">\n",
              "      <th></th>\n",
              "      <th>sentence</th>\n",
              "      <th>sentiment</th>\n",
              "    </tr>\n",
              "  </thead>\n",
              "  <tbody>\n",
              "    <tr>\n",
              "      <th>0</th>\n",
              "      <td>Technopolis plans to develop in stages an area...</td>\n",
              "      <td>neutral</td>\n",
              "    </tr>\n",
              "    <tr>\n",
              "      <th>1</th>\n",
              "      <td>The international electronic industry company ...</td>\n",
              "      <td>negative</td>\n",
              "    </tr>\n",
              "  </tbody>\n",
              "</table>\n",
              "</div>"
            ],
            "text/plain": [
              "                                            sentence sentiment\n",
              "0  Technopolis plans to develop in stages an area...   neutral\n",
              "1  The international electronic industry company ...  negative"
            ]
          },
          "metadata": {
            "tags": []
          },
          "execution_count": 5
        }
      ]
    },
    {
      "cell_type": "code",
      "metadata": {
        "id": "8cUSOhJCRoBo",
        "colab": {
          "base_uri": "https://localhost:8080/",
          "height": 0
        },
        "outputId": "cd30ad9f-a63b-41fa-c4fc-33faad058bdc"
      },
      "source": [
        "data['sentiment'].value_counts().plot(kind='bar')\n",
        "plt.show()"
      ],
      "execution_count": 6,
      "outputs": [
        {
          "output_type": "display_data",
          "data": {
            "image/png": "[encoded data removed]",
            "text/plain": [
              "<Figure size 432x288 with 1 Axes>"
            ]
          },
          "metadata": {
            "tags": [],
            "needs_background": "light"
          }
        }
      ]
    },
    {
      "cell_type": "code",
      "metadata": {
        "id": "fxyIdicGpwZS"
      },
      "source": [
        "X= data.sentence\n",
        "y = data.sentiment\n",
        "\n",
        "X_train, X_test, y_train, y_test = train_test_split(X, y, stratify=y, random_state=60, test_size=0.2)"
      ],
      "execution_count": 7,
      "outputs": []
    },
    {
      "cell_type": "code",
      "metadata": {
        "id": "Kju4Yok6Vzyw",
        "colab": {
          "base_uri": "https://localhost:8080/"
        },
        "outputId": "09184ed1-978f-4e12-958e-6e88fb0e3583"
      },
      "source": [
        "X_train.shape, X_test.shape, X.shape"
      ],
      "execution_count": 8,
      "outputs": [
        {
          "output_type": "execute_result",
          "data": {
            "text/plain": [
              "((3876,), (969,), (4845,))"
            ]
          },
          "metadata": {
            "tags": []
          },
          "execution_count": 8
        }
      ]
    },
    {
      "cell_type": "code",
      "metadata": {
        "id": "NyWPP77F9k1I"
      },
      "source": [
        "neu_index = y_train[y_train == 'neutral'].index\n",
        "pos_index = y_train[y_train == 'positive'].index\n",
        "neg_index = y_train[y_train == 'negative'].index"
      ],
      "execution_count": 9,
      "outputs": []
    },
    {
      "cell_type": "code",
      "metadata": {
        "id": "ODCDkrzN9nCL"
      },
      "source": [
        "\n",
        "# Down-sample neutral class\n",
        "X_train_neu, y_train_neu = resample(X_train.loc[neu_index], y_train.loc[neu_index],\n",
        "                                    n_samples=len(pos_index), replace=False,\n",
        "                                    random_state=60)\n",
        "\n",
        "# Up-sample negative class\n",
        "X_train_neg, y_train_neg = resample(X_train.loc[neg_index], y_train.loc[neg_index],\n",
        "                                    n_samples=len(pos_index), replace=True,\n",
        "                                    random_state=60)"
      ],
      "execution_count": 10,
      "outputs": []
    },
    {
      "cell_type": "code",
      "metadata": {
        "id": "44cl_AYp9m_H",
        "colab": {
          "base_uri": "https://localhost:8080/"
        },
        "outputId": "a570eb40-fbe5-43a1-98db-d85983cf6e2a"
      },
      "source": [
        "# Combine resampled classes\n",
        "X_train_resample = X_train.loc[pos_index].append([X_train_neu, X_train_neg])\n",
        "y_train_resample = y_train.loc[pos_index].append([y_train_neu, y_train_neg])\n",
        "\n",
        "# Shuffle samples\n",
        "X_train_resample, y_train_resample = shuffle(X_train_resample, y_train_resample, random_state=7)\n",
        "\n",
        "# Display new class counts\n",
        "print(y_train_resample.value_counts())"
      ],
      "execution_count": 11,
      "outputs": [
        {
          "output_type": "stream",
          "text": [
            "neutral     1090\n",
            "negative    1090\n",
            "positive    1090\n",
            "Name: sentiment, dtype: int64\n"
          ],
          "name": "stdout"
        }
      ]
    },
    {
      "cell_type": "code",
      "metadata": {
        "id": "sbN46l-L9m70"
      },
      "source": [
        ""
      ],
      "execution_count": null,
      "outputs": []
    },
    {
      "cell_type": "code",
      "metadata": {
        "id": "aDoDb2Nq9m4J"
      },
      "source": [
        ""
      ],
      "execution_count": null,
      "outputs": []
    },
    {
      "cell_type": "markdown",
      "metadata": {
        "id": "CbxLax-jWVoy"
      },
      "source": [
        "# Prepare Data for model"
      ]
    },
    {
      "cell_type": "code",
      "metadata": {
        "id": "o7UChC8JWgIq"
      },
      "source": [
        "# Remove Punctuation and assign integer to each word\n",
        "tokenizer = Tokenizer()\n",
        "tokenizer.fit_on_texts(X_train_resample)\n",
        "X_train_seq = tokenizer.texts_to_sequences(X_train_resample)\n",
        "X_test_seq = tokenizer.texts_to_sequences(X_test)"
      ],
      "execution_count": 12,
      "outputs": []
    },
    {
      "cell_type": "code",
      "metadata": {
        "id": "WfblAUy2WgI7"
      },
      "source": [
        "# Make sequences of equal length \n",
        "max_len = np.max([len(X_train_seq[i]) for i in range(len(X_train_seq))])\n",
        "X_train_seq = pad_sequences(X_train_seq, maxlen=max_len)\n",
        "X_test_seq = pad_sequences(X_test_seq, maxlen=max_len)"
      ],
      "execution_count": 13,
      "outputs": []
    },
    {
      "cell_type": "code",
      "metadata": {
        "colab": {
          "base_uri": "https://localhost:8080/"
        },
        "id": "9TCWLyfvWgI8",
        "outputId": "629c9df3-0131-4c4f-f844-57e89f949807"
      },
      "source": [
        "max_len"
      ],
      "execution_count": 14,
      "outputs": [
        {
          "output_type": "execute_result",
          "data": {
            "text/plain": [
              "71"
            ]
          },
          "metadata": {
            "tags": []
          },
          "execution_count": 14
        }
      ]
    },
    {
      "cell_type": "code",
      "metadata": {
        "id": "uAwMS-K-WgI-"
      },
      "source": [
        "# Convert sentiment values to one hot encoded for Keras model\n",
        "le = LabelEncoder()\n",
        "le.fit(y_train)\n",
        "y_train_seq = to_categorical(le.transform(y_train_resample))\n",
        "y_test_seq = to_categorical(le.transform(y_test))"
      ],
      "execution_count": 15,
      "outputs": []
    },
    {
      "cell_type": "code",
      "metadata": {
        "id": "1cY_gk6L9_0r"
      },
      "source": [
        ""
      ],
      "execution_count": null,
      "outputs": []
    },
    {
      "cell_type": "markdown",
      "metadata": {
        "id": "-i0nraavVn0q"
      },
      "source": [
        "# EMBEDDINGS"
      ]
    },
    {
      "cell_type": "code",
      "metadata": {
        "id": "m-sKHgtlVhyG",
        "colab": {
          "base_uri": "https://localhost:8080/"
        },
        "outputId": "fbb4ccd2-5659-465a-cb35-dfe7d52d7e19"
      },
      "source": [
        "!wget http://nlp.stanford.edu/data/glove.6B.zip\n",
        "!unzip glove.6B.zip"
      ],
      "execution_count": 16,
      "outputs": [
        {
          "output_type": "stream",
          "text": [
            "--2021-03-19 08:58:37--  http://nlp.stanford.edu/data/glove.6B.zip\n",
            "Resolving nlp.stanford.edu (nlp.stanford.edu)... 171.64.67.140\n",
            "Connecting to nlp.stanford.edu (nlp.stanford.edu)|171.64.67.140|:80... connected.\n",
            "HTTP request sent, awaiting response... 302 Found\n",
            "Location: https://nlp.stanford.edu/data/glove.6B.zip [following]\n",
            "--2021-03-19 08:58:37--  https://nlp.stanford.edu/data/glove.6B.zip\n",
            "Connecting to nlp.stanford.edu (nlp.stanford.edu)|171.64.67.140|:443... connected.\n",
            "HTTP request sent, awaiting response... 301 Moved Permanently\n",
            "Location: http://downloads.cs.stanford.edu/nlp/data/glove.6B.zip [following]\n",
            "--2021-03-19 08:58:38--  http://downloads.cs.stanford.edu/nlp/data/glove.6B.zip\n",
            "Resolving downloads.cs.stanford.edu (downloads.cs.stanford.edu)... 171.64.64.22\n",
            "Connecting to downloads.cs.stanford.edu (downloads.cs.stanford.edu)|171.64.64.22|:80... connected.\n",
            "HTTP request sent, awaiting response... 200 OK\n",
            "Length: 862182613 (822M) [application/zip]\n",
            "Saving to: ‘glove.6B.zip’\n",
            "\n",
            "glove.6B.zip        100%[===================>] 822.24M  5.08MB/s    in 2m 42s  \n",
            "\n",
            "2021-03-19 09:01:20 (5.08 MB/s) - ‘glove.6B.zip’ saved [862182613/862182613]\n",
            "\n",
            "Archive:  glove.6B.zip\n",
            "  inflating: glove.6B.50d.txt        \n",
            "  inflating: glove.6B.100d.txt       \n",
            "  inflating: glove.6B.200d.txt       \n",
            "  inflating: glove.6B.300d.txt       \n"
          ],
          "name": "stdout"
        }
      ]
    },
    {
      "cell_type": "code",
      "metadata": {
        "id": "OgVf4Ta6Wl9n"
      },
      "source": [
        "dict_w2v = {}\n",
        "with open('/content/glove.6B.100d.txt', 'r') as file:\n",
        "    for line in file:\n",
        "        tokens = line.split()\n",
        "        word = tokens[0]\n",
        "        vector = np.array(tokens[1:], dtype=np.float32)\n",
        "        if vector.shape[0] == 100:\n",
        "            dict_w2v[word] = vector\n",
        "        else:\n",
        "            print(\"There is issue with \" + word)"
      ],
      "execution_count": 17,
      "outputs": []
    },
    {
      "cell_type": "code",
      "metadata": {
        "id": "EldWTnWtWl61",
        "colab": {
          "base_uri": "https://localhost:8080/"
        },
        "outputId": "15be899f-4bcc-40db-f65c-018f8b38905f"
      },
      "source": [
        "print(\"dictionary size :\" ,len(dict_w2v) )"
      ],
      "execution_count": 18,
      "outputs": [
        {
          "output_type": "stream",
          "text": [
            "dictionary size : 400000\n"
          ],
          "name": "stdout"
        }
      ]
    },
    {
      "cell_type": "code",
      "metadata": {
        "id": "O1IKoy3EWl3_",
        "colab": {
          "base_uri": "https://localhost:8080/"
        },
        "outputId": "a6bb1f95-dea2-4c9b-c025-4f58408dadcb"
      },
      "source": [
        "words_found = set()\n",
        "words_not_found = set()\n",
        "for word in tokenizer.word_index:\n",
        "    vec = dict_w2v.get(word)\n",
        "    if vec is not None:\n",
        "        words_found.add(word)\n",
        "    else:\n",
        "        words_not_found.add(word)\n",
        "len(words_found), len(words_not_found), len(tokenizer.word_index)"
      ],
      "execution_count": 19,
      "outputs": [
        {
          "output_type": "execute_result",
          "data": {
            "text/plain": [
              "(6187, 918, 7105)"
            ]
          },
          "metadata": {
            "tags": []
          },
          "execution_count": 19
        }
      ]
    },
    {
      "cell_type": "code",
      "metadata": {
        "id": "8zDycGo2jsF5"
      },
      "source": [
        "EMBEDDING_DIM = 100\n",
        "VOCAB_SIZE = len(tokenizer.word_index)\n",
        "embedding_matrix = np.zeros((VOCAB_SIZE +1, EMBEDDING_DIM))"
      ],
      "execution_count": 20,
      "outputs": []
    },
    {
      "cell_type": "code",
      "metadata": {
        "id": "P1ZAm1Kdjr-I",
        "colab": {
          "base_uri": "https://localhost:8080/"
        },
        "outputId": "aad0250c-332c-4514-ee9a-077d11a7257c"
      },
      "source": [
        "unk_cnt = 0\n",
        "unk_set = set()\n",
        "for word, i in tokenizer.word_index.items():\n",
        "    emb_vector = dict_w2v.get(word)\n",
        "    if emb_vector is not None:\n",
        "        embedding_matrix[i] = emb_vector\n",
        "    else:\n",
        "        unk_cnt += 1\n",
        "        unk_set.add(word)\n",
        "unk_cnt"
      ],
      "execution_count": 21,
      "outputs": [
        {
          "output_type": "execute_result",
          "data": {
            "text/plain": [
              "918"
            ]
          },
          "metadata": {
            "tags": []
          },
          "execution_count": 21
        }
      ]
    },
    {
      "cell_type": "code",
      "metadata": {
        "id": "snkNNeOXgsEd",
        "colab": {
          "base_uri": "https://localhost:8080/"
        },
        "outputId": "e29b8f21-5fb8-4190-db1e-c01ef061b0e9"
      },
      "source": [
        "X_train_seq.shape, y_train_seq.shape"
      ],
      "execution_count": 22,
      "outputs": [
        {
          "output_type": "execute_result",
          "data": {
            "text/plain": [
              "((3270, 71), (3270, 3))"
            ]
          },
          "metadata": {
            "tags": []
          },
          "execution_count": 22
        }
      ]
    },
    {
      "cell_type": "code",
      "metadata": {
        "id": "6llz2rAam3BI",
        "colab": {
          "base_uri": "https://localhost:8080/",
          "height": 0
        },
        "outputId": "bbf3ed3e-1f3e-409f-9d87-be54b4a1bfc5"
      },
      "source": [
        "np.random.seed(60)\n",
        "model = Sequential()\n",
        "model.add(Embedding(VOCAB_SIZE +1, EMBEDDING_DIM, weights=[embedding_matrix],input_length=max_len, trainable=True))\n",
        "model.add(Dropout(0.25))\n",
        "model.add(Bidirectional(LSTM(200, return_sequences=True), merge_mode='concat')) #{\"sum\", \"mul\", \"ave\", \"concat\", None}\n",
        "model.add(Dropout(0.25))\n",
        "model.add(GlobalMaxPool1D())\n",
        "model.add(Dense(64, activation='sigmoid'))\n",
        "model.add(Dropout(0.25))\n",
        "model.add(Dense(3, activation='softmax'))\n",
        "model.compile(loss='categorical_crossentropy', optimizer='rmsprop', metrics=[ \n",
        "                                                                            #  'Precision', \n",
        "                                                                             'Recall', \n",
        "                                                                            #  'accuracy'\n",
        "                                                                             ])\n",
        "# model.summary()\n",
        "\n",
        "batch_size = 64\n",
        "epochs = 15\n",
        "\n",
        "model.fit(X_train_seq, y_train_seq,validation_data=(X_test_seq, y_test_seq), \n",
        "          batch_size=batch_size, verbose=1, epochs=epochs, shuffle=True)\n",
        "\n",
        "preds = model.predict(X_test_seq, batch_size=batch_size)\n",
        "true_y = np.argmax(y_test_seq, axis=1)\n",
        "pred_y = np.argmax(preds, axis=1)\n",
        "\n",
        "c_mat = confusion_matrix(true_y, pred_y)\n",
        "plot_confusion_matrix(c_mat, cmap='Blues', class_names = le.classes_, figsize=(5, 5))\n",
        "plt.show()\n",
        "\n",
        "p, r, f1, s = precision_recall_fscore_support(true_y, pred_y, average=None)\n",
        "\n",
        "# Print precision, recall, f1 score and support\n",
        "results = pd.DataFrame({'1-Precision': p, '2-Recall': r, '3-F1 score': f1, '4-Support': s}, index=le.classes_)\n",
        "\n",
        "# Print precision, recall, f1 score and support\n",
        "print(results.round(decimals=3))"
      ],
      "execution_count": 23,
      "outputs": [
        {
          "output_type": "stream",
          "text": [
            "Epoch 1/15\n",
            "52/52 [==============================] - 21s 40ms/step - loss: 1.0666 - recall: 0.2493 - val_loss: 1.2088 - val_recall: 0.1971\n",
            "Epoch 2/15\n",
            "52/52 [==============================] - 1s 21ms/step - loss: 0.8699 - recall: 0.4484 - val_loss: 0.9280 - val_recall: 0.5129\n",
            "Epoch 3/15\n",
            "52/52 [==============================] - 1s 21ms/step - loss: 0.7277 - recall: 0.6300 - val_loss: 0.6899 - val_recall: 0.6574\n",
            "Epoch 4/15\n",
            "52/52 [==============================] - 1s 21ms/step - loss: 0.6253 - recall: 0.7017 - val_loss: 0.7940 - val_recall: 0.6512\n",
            "Epoch 5/15\n",
            "52/52 [==============================] - 1s 21ms/step - loss: 0.5161 - recall: 0.7685 - val_loss: 0.8256 - val_recall: 0.6378\n",
            "Epoch 6/15\n",
            "52/52 [==============================] - 1s 20ms/step - loss: 0.4816 - recall: 0.7840 - val_loss: 0.8999 - val_recall: 0.6739\n",
            "Epoch 7/15\n",
            "52/52 [==============================] - 1s 21ms/step - loss: 0.4501 - recall: 0.8146 - val_loss: 0.6677 - val_recall: 0.7110\n",
            "Epoch 8/15\n",
            "52/52 [==============================] - 1s 21ms/step - loss: 0.3411 - recall: 0.8556 - val_loss: 0.8010 - val_recall: 0.6326\n",
            "Epoch 9/15\n",
            "52/52 [==============================] - 1s 21ms/step - loss: 0.3192 - recall: 0.8702 - val_loss: 0.5859 - val_recall: 0.7740\n",
            "Epoch 10/15\n",
            "52/52 [==============================] - 1s 21ms/step - loss: 0.2733 - recall: 0.8847 - val_loss: 0.6204 - val_recall: 0.7575\n",
            "Epoch 11/15\n",
            "52/52 [==============================] - 1s 21ms/step - loss: 0.2306 - recall: 0.9132 - val_loss: 0.8106 - val_recall: 0.6667\n",
            "Epoch 12/15\n",
            "52/52 [==============================] - 1s 21ms/step - loss: 0.2083 - recall: 0.9147 - val_loss: 0.6972 - val_recall: 0.7719\n",
            "Epoch 13/15\n",
            "52/52 [==============================] - 1s 21ms/step - loss: 0.2074 - recall: 0.9206 - val_loss: 0.6019 - val_recall: 0.7771\n",
            "Epoch 14/15\n",
            "52/52 [==============================] - 1s 21ms/step - loss: 0.1478 - recall: 0.9452 - val_loss: 1.0167 - val_recall: 0.6739\n",
            "Epoch 15/15\n",
            "52/52 [==============================] - 1s 21ms/step - loss: 0.1662 - recall: 0.9384 - val_loss: 0.6829 - val_recall: 0.7657\n"
          ],
          "name": "stdout"
        },
        {
          "output_type": "display_data",
          "data": {
            "image/png": "[encoded data removed]",
            "text/plain": [
              "<Figure size 360x360 with 1 Axes>"
            ]
          },
          "metadata": {
            "tags": [],
            "needs_background": "light"
          }
        },
        {
          "output_type": "stream",
          "text": [
            "          1-Precision  2-Recall  3-F1 score  4-Support\n",
            "negative        0.618     0.736       0.672        121\n",
            "neutral         0.821     0.847       0.834        575\n",
            "positive        0.737     0.626       0.677        273\n"
          ],
          "name": "stdout"
        }
      ]
    },
    {
      "cell_type": "code",
      "metadata": {
        "id": "-8amjV87o5BN"
      },
      "source": [
        ""
      ],
      "execution_count": 23,
      "outputs": []
    },
    {
      "cell_type": "code",
      "metadata": {
        "id": "q_VAZZdwo4-W"
      },
      "source": [
        ""
      ],
      "execution_count": 23,
      "outputs": []
    },
    {
      "cell_type": "markdown",
      "metadata": {
        "id": "1RzDfejkrMel"
      },
      "source": [
        "# Prepare NEPSE DATA"
      ]
    },
    {
      "cell_type": "code",
      "metadata": {
        "id": "FrMhQqlZn-C8"
      },
      "source": [
        "indices = pd.read_csv('/content/Nepse Indices - Sheet1.csv', header=1)\n",
        "indices.columns= ['no_name', 'date', 'index', 'abs_change', 'pct_change']\n",
        "indices['date'] = pd.to_datetime(indices['date'])\n",
        "indices = indices[indices['date'] < '2019-07-06']"
      ],
      "execution_count": 204,
      "outputs": []
    },
    {
      "cell_type": "code",
      "metadata": {
        "id": "vaYLgWZu9gPx"
      },
      "source": [
        ""
      ],
      "execution_count": 204,
      "outputs": []
    },
    {
      "cell_type": "code",
      "metadata": {
        "id": "qNsJ8_z0n98P"
      },
      "source": [
        "news_df = pd.read_csv('/content/years_combined_df.csv')\n",
        "news_df['date'] = pd.to_datetime(news_df['date'])\n",
        "news_df = news_df[news_df['date'] >= '2014-02-02']\n",
        "news_df.reset_index(drop=True, inplace=True)"
      ],
      "execution_count": 205,
      "outputs": []
    },
    {
      "cell_type": "code",
      "metadata": {
        "id": "Ov3F8cKM0wlh"
      },
      "source": [
        "news_df = news_df[news_df['date'].isin(indices['date'])].reset_index(drop=True)"
      ],
      "execution_count": 206,
      "outputs": []
    },
    {
      "cell_type": "code",
      "metadata": {
        "id": "4msgED4p3Bvt"
      },
      "source": [
        "indices = indices[indices['date'].isin(news_df['date'])].reset_index(drop=True)"
      ],
      "execution_count": 207,
      "outputs": []
    },
    {
      "cell_type": "code",
      "metadata": {
        "id": "Rn2s6qbL3h7u"
      },
      "source": [
        "indices['pct_change'] = indices['pct_change'].str.replace('%', '').astype(float)\n",
        "indices['target'] = np.where(indices['pct_change'] < 0 , 0, 1)"
      ],
      "execution_count": 208,
      "outputs": []
    },
    {
      "cell_type": "code",
      "metadata": {
        "id": "MefI4I9FdmMT"
      },
      "source": [
        "news_df = news_df[['date', 'content']]"
      ],
      "execution_count": 209,
      "outputs": []
    },
    {
      "cell_type": "code",
      "metadata": {
        "id": "C8f6Q1fr9lXM",
        "outputId": "d62d1f17-02d6-41b9-d60e-13b2f5814d52",
        "colab": {
          "base_uri": "https://localhost:8080/",
          "height": 406
        }
      },
      "source": [
        "indices"
      ],
      "execution_count": 210,
      "outputs": [
        {
          "output_type": "execute_result",
          "data": {
            "text/html": [
              "<div>\n",
              "<style scoped>\n",
              "    .dataframe tbody tr th:only-of-type {\n",
              "        vertical-align: middle;\n",
              "    }\n",
              "\n",
              "    .dataframe tbody tr th {\n",
              "        vertical-align: top;\n",
              "    }\n",
              "\n",
              "    .dataframe thead th {\n",
              "        text-align: right;\n",
              "    }\n",
              "</style>\n",
              "<table border=\"1\" class=\"dataframe\">\n",
              "  <thead>\n",
              "    <tr style=\"text-align: right;\">\n",
              "      <th></th>\n",
              "      <th>no_name</th>\n",
              "      <th>date</th>\n",
              "      <th>index</th>\n",
              "      <th>abs_change</th>\n",
              "      <th>pct_change</th>\n",
              "      <th>target</th>\n",
              "    </tr>\n",
              "  </thead>\n",
              "  <tbody>\n",
              "    <tr>\n",
              "      <th>0</th>\n",
              "      <td>1590</td>\n",
              "      <td>2014-02-02</td>\n",
              "      <td>775.92</td>\n",
              "      <td>-5.54</td>\n",
              "      <td>-0.70</td>\n",
              "      <td>0</td>\n",
              "    </tr>\n",
              "    <tr>\n",
              "      <th>1</th>\n",
              "      <td>1589</td>\n",
              "      <td>2014-02-03</td>\n",
              "      <td>769.51</td>\n",
              "      <td>-6.41</td>\n",
              "      <td>-0.83</td>\n",
              "      <td>0</td>\n",
              "    </tr>\n",
              "    <tr>\n",
              "      <th>2</th>\n",
              "      <td>1588</td>\n",
              "      <td>2014-02-04</td>\n",
              "      <td>774.91</td>\n",
              "      <td>5.40</td>\n",
              "      <td>0.70</td>\n",
              "      <td>1</td>\n",
              "    </tr>\n",
              "    <tr>\n",
              "      <th>3</th>\n",
              "      <td>1587</td>\n",
              "      <td>2014-02-05</td>\n",
              "      <td>781.38</td>\n",
              "      <td>6.47</td>\n",
              "      <td>0.83</td>\n",
              "      <td>1</td>\n",
              "    </tr>\n",
              "    <tr>\n",
              "      <th>4</th>\n",
              "      <td>1586</td>\n",
              "      <td>2014-02-06</td>\n",
              "      <td>785.78</td>\n",
              "      <td>4.40</td>\n",
              "      <td>0.56</td>\n",
              "      <td>1</td>\n",
              "    </tr>\n",
              "    <tr>\n",
              "      <th>...</th>\n",
              "      <td>...</td>\n",
              "      <td>...</td>\n",
              "      <td>...</td>\n",
              "      <td>...</td>\n",
              "      <td>...</td>\n",
              "      <td>...</td>\n",
              "    </tr>\n",
              "    <tr>\n",
              "      <th>1233</th>\n",
              "      <td>351</td>\n",
              "      <td>2019-06-24</td>\n",
              "      <td>1,260.10</td>\n",
              "      <td>5.75</td>\n",
              "      <td>0.46</td>\n",
              "      <td>1</td>\n",
              "    </tr>\n",
              "    <tr>\n",
              "      <th>1234</th>\n",
              "      <td>350</td>\n",
              "      <td>2019-06-25</td>\n",
              "      <td>1,261.07</td>\n",
              "      <td>0.96</td>\n",
              "      <td>0.08</td>\n",
              "      <td>1</td>\n",
              "    </tr>\n",
              "    <tr>\n",
              "      <th>1235</th>\n",
              "      <td>349</td>\n",
              "      <td>2019-06-26</td>\n",
              "      <td>1,258.29</td>\n",
              "      <td>-2.78</td>\n",
              "      <td>-0.22</td>\n",
              "      <td>0</td>\n",
              "    </tr>\n",
              "    <tr>\n",
              "      <th>1236</th>\n",
              "      <td>347</td>\n",
              "      <td>2019-06-30</td>\n",
              "      <td>1,244.89</td>\n",
              "      <td>-12.27</td>\n",
              "      <td>-0.98</td>\n",
              "      <td>0</td>\n",
              "    </tr>\n",
              "    <tr>\n",
              "      <th>1237</th>\n",
              "      <td>343</td>\n",
              "      <td>2019-07-04</td>\n",
              "      <td>1,260.47</td>\n",
              "      <td>-8.27</td>\n",
              "      <td>-0.65</td>\n",
              "      <td>0</td>\n",
              "    </tr>\n",
              "  </tbody>\n",
              "</table>\n",
              "<p>1238 rows × 6 columns</p>\n",
              "</div>"
            ],
            "text/plain": [
              "      no_name       date     index  abs_change  pct_change  target\n",
              "0        1590 2014-02-02    775.92       -5.54       -0.70       0\n",
              "1        1589 2014-02-03    769.51       -6.41       -0.83       0\n",
              "2        1588 2014-02-04    774.91        5.40        0.70       1\n",
              "3        1587 2014-02-05    781.38        6.47        0.83       1\n",
              "4        1586 2014-02-06    785.78        4.40        0.56       1\n",
              "...       ...        ...       ...         ...         ...     ...\n",
              "1233      351 2019-06-24  1,260.10        5.75        0.46       1\n",
              "1234      350 2019-06-25  1,261.07        0.96        0.08       1\n",
              "1235      349 2019-06-26  1,258.29       -2.78       -0.22       0\n",
              "1236      347 2019-06-30  1,244.89      -12.27       -0.98       0\n",
              "1237      343 2019-07-04  1,260.47       -8.27       -0.65       0\n",
              "\n",
              "[1238 rows x 6 columns]"
            ]
          },
          "metadata": {
            "tags": []
          },
          "execution_count": 210
        }
      ]
    },
    {
      "cell_type": "code",
      "metadata": {
        "id": "uYod9kCo7v8N"
      },
      "source": [
        "indices = indices[['date', 'index', 'pct_change', 'target']]"
      ],
      "execution_count": 211,
      "outputs": []
    },
    {
      "cell_type": "code",
      "metadata": {
        "id": "d1BbwkeWgETq"
      },
      "source": [
        "# indices = indices[['date','index']]"
      ],
      "execution_count": 31,
      "outputs": []
    },
    {
      "cell_type": "code",
      "metadata": {
        "id": "ibHreAaTgQj4"
      },
      "source": [
        "df = pd.merge(news_df, indices, left_on='date', right_on='date')"
      ],
      "execution_count": 212,
      "outputs": []
    },
    {
      "cell_type": "code",
      "metadata": {
        "id": "RemLbuVduZM5",
        "colab": {
          "base_uri": "https://localhost:8080/",
          "height": 406
        },
        "outputId": "ebd6d5f4-35a8-49ef-ab9e-12b067988b50"
      },
      "source": [
        "df"
      ],
      "execution_count": 213,
      "outputs": [
        {
          "output_type": "execute_result",
          "data": {
            "text/html": [
              "<div>\n",
              "<style scoped>\n",
              "    .dataframe tbody tr th:only-of-type {\n",
              "        vertical-align: middle;\n",
              "    }\n",
              "\n",
              "    .dataframe tbody tr th {\n",
              "        vertical-align: top;\n",
              "    }\n",
              "\n",
              "    .dataframe thead th {\n",
              "        text-align: right;\n",
              "    }\n",
              "</style>\n",
              "<table border=\"1\" class=\"dataframe\">\n",
              "  <thead>\n",
              "    <tr style=\"text-align: right;\">\n",
              "      <th></th>\n",
              "      <th>date</th>\n",
              "      <th>content</th>\n",
              "      <th>index</th>\n",
              "      <th>pct_change</th>\n",
              "      <th>target</th>\n",
              "    </tr>\n",
              "  </thead>\n",
              "  <tbody>\n",
              "    <tr>\n",
              "      <th>0</th>\n",
              "      <td>2014-02-02</td>\n",
              "      <td>Nepal Stock Exchange (Nepse) slid 2.22 points ...</td>\n",
              "      <td>775.92</td>\n",
              "      <td>-0.70</td>\n",
              "      <td>0</td>\n",
              "    </tr>\n",
              "    <tr>\n",
              "      <th>1</th>\n",
              "      <td>2014-02-02</td>\n",
              "      <td>Moffat Nyirenda is president of Round Table In...</td>\n",
              "      <td>775.92</td>\n",
              "      <td>-0.70</td>\n",
              "      <td>0</td>\n",
              "    </tr>\n",
              "    <tr>\n",
              "      <th>2</th>\n",
              "      <td>2014-02-02</td>\n",
              "      <td>The government has stopped monitoring of shops...</td>\n",
              "      <td>775.92</td>\n",
              "      <td>-0.70</td>\n",
              "      <td>0</td>\n",
              "    </tr>\n",
              "    <tr>\n",
              "      <th>3</th>\n",
              "      <td>2014-02-02</td>\n",
              "      <td>The Ministry of Industry (MoI) is preparing to...</td>\n",
              "      <td>775.92</td>\n",
              "      <td>-0.70</td>\n",
              "      <td>0</td>\n",
              "    </tr>\n",
              "    <tr>\n",
              "      <th>4</th>\n",
              "      <td>2014-02-02</td>\n",
              "      <td>The delivery of Chinese aircraft for Nepal Air...</td>\n",
              "      <td>775.92</td>\n",
              "      <td>-0.70</td>\n",
              "      <td>0</td>\n",
              "    </tr>\n",
              "    <tr>\n",
              "      <th>...</th>\n",
              "      <td>...</td>\n",
              "      <td>...</td>\n",
              "      <td>...</td>\n",
              "      <td>...</td>\n",
              "      <td>...</td>\n",
              "    </tr>\n",
              "    <tr>\n",
              "      <th>6302</th>\n",
              "      <td>2019-06-30</td>\n",
              "      <td>Importers are being allowed to haul the goods ...</td>\n",
              "      <td>1,244.89</td>\n",
              "      <td>-0.98</td>\n",
              "      <td>0</td>\n",
              "    </tr>\n",
              "    <tr>\n",
              "      <th>6303</th>\n",
              "      <td>2019-06-30</td>\n",
              "      <td>It will be first facility of its kind in the K...</td>\n",
              "      <td>1,244.89</td>\n",
              "      <td>-0.98</td>\n",
              "      <td>0</td>\n",
              "    </tr>\n",
              "    <tr>\n",
              "      <th>6304</th>\n",
              "      <td>2019-06-30</td>\n",
              "      <td>Readymade garment, apple, footwear, bags and s...</td>\n",
              "      <td>1,244.89</td>\n",
              "      <td>-0.98</td>\n",
              "      <td>0</td>\n",
              "    </tr>\n",
              "    <tr>\n",
              "      <th>6305</th>\n",
              "      <td>2019-06-30</td>\n",
              "      <td>Domestic supply has helped keep prices stable ...</td>\n",
              "      <td>1,244.89</td>\n",
              "      <td>-0.98</td>\n",
              "      <td>0</td>\n",
              "    </tr>\n",
              "    <tr>\n",
              "      <th>6306</th>\n",
              "      <td>2019-07-04</td>\n",
              "      <td>Lack of properly equipped labs leaves imported...</td>\n",
              "      <td>1,260.47</td>\n",
              "      <td>-0.65</td>\n",
              "      <td>0</td>\n",
              "    </tr>\n",
              "  </tbody>\n",
              "</table>\n",
              "<p>6307 rows × 5 columns</p>\n",
              "</div>"
            ],
            "text/plain": [
              "           date  ... target\n",
              "0    2014-02-02  ...      0\n",
              "1    2014-02-02  ...      0\n",
              "2    2014-02-02  ...      0\n",
              "3    2014-02-02  ...      0\n",
              "4    2014-02-02  ...      0\n",
              "...         ...  ...    ...\n",
              "6302 2019-06-30  ...      0\n",
              "6303 2019-06-30  ...      0\n",
              "6304 2019-06-30  ...      0\n",
              "6305 2019-06-30  ...      0\n",
              "6306 2019-07-04  ...      0\n",
              "\n",
              "[6307 rows x 5 columns]"
            ]
          },
          "metadata": {
            "tags": []
          },
          "execution_count": 213
        }
      ]
    },
    {
      "cell_type": "code",
      "metadata": {
        "id": "EZT2HybqgRV8"
      },
      "source": [
        "df.to_csv('indices-news-merged.csv', index=False)\n",
        "news_df.to_csv('news-cleaned.csv', index=False)\n",
        "indices.to_csv('indices-cleaned.csv', index=False)"
      ],
      "execution_count": 34,
      "outputs": []
    },
    {
      "cell_type": "code",
      "metadata": {
        "id": "dyuBqFhEn926"
      },
      "source": [
        "def prepare_and_predict_news(series, pad_max_len, batch_size):\n",
        "\n",
        "    news = tokenizer.texts_to_sequences(series)\n",
        "    news = pad_sequences(news, pad_max_len)\n",
        "    news = model.predict(news, batch_size=batch_size)\n",
        "    return news"
      ],
      "execution_count": 35,
      "outputs": []
    },
    {
      "cell_type": "code",
      "metadata": {
        "id": "XgJdhmIuz67w"
      },
      "source": [
        "news_sentiment = prepare_and_predict_news(news_df['content'], pad_max_len=max_len, batch_size=batch_size)\n",
        "# news_df['pred_glove_300'] = np.argmax(news_sentiment, axis=1)"
      ],
      "execution_count": 36,
      "outputs": []
    },
    {
      "cell_type": "code",
      "metadata": {
        "id": "ZFleBn_Luchw",
        "colab": {
          "base_uri": "https://localhost:8080/",
          "height": 406
        },
        "outputId": "d24bc2d8-a173-4fbc-fb36-7303ab36b381"
      },
      "source": [
        "news_sentiment"
      ],
      "execution_count": 135,
      "outputs": [
        {
          "output_type": "execute_result",
          "data": {
            "text/html": [
              "<div>\n",
              "<style scoped>\n",
              "    .dataframe tbody tr th:only-of-type {\n",
              "        vertical-align: middle;\n",
              "    }\n",
              "\n",
              "    .dataframe tbody tr th {\n",
              "        vertical-align: top;\n",
              "    }\n",
              "\n",
              "    .dataframe thead th {\n",
              "        text-align: right;\n",
              "    }\n",
              "</style>\n",
              "<table border=\"1\" class=\"dataframe\">\n",
              "  <thead>\n",
              "    <tr style=\"text-align: right;\">\n",
              "      <th></th>\n",
              "      <th>neg</th>\n",
              "      <th>neu</th>\n",
              "      <th>pos</th>\n",
              "    </tr>\n",
              "  </thead>\n",
              "  <tbody>\n",
              "    <tr>\n",
              "      <th>0</th>\n",
              "      <td>0.982441</td>\n",
              "      <td>0.013060</td>\n",
              "      <td>0.004499</td>\n",
              "    </tr>\n",
              "    <tr>\n",
              "      <th>1</th>\n",
              "      <td>0.006340</td>\n",
              "      <td>0.970423</td>\n",
              "      <td>0.023237</td>\n",
              "    </tr>\n",
              "    <tr>\n",
              "      <th>2</th>\n",
              "      <td>0.952559</td>\n",
              "      <td>0.041451</td>\n",
              "      <td>0.005990</td>\n",
              "    </tr>\n",
              "    <tr>\n",
              "      <th>3</th>\n",
              "      <td>0.000358</td>\n",
              "      <td>0.991740</td>\n",
              "      <td>0.007901</td>\n",
              "    </tr>\n",
              "    <tr>\n",
              "      <th>4</th>\n",
              "      <td>0.338040</td>\n",
              "      <td>0.626606</td>\n",
              "      <td>0.035354</td>\n",
              "    </tr>\n",
              "    <tr>\n",
              "      <th>...</th>\n",
              "      <td>...</td>\n",
              "      <td>...</td>\n",
              "      <td>...</td>\n",
              "    </tr>\n",
              "    <tr>\n",
              "      <th>6302</th>\n",
              "      <td>0.000383</td>\n",
              "      <td>0.995110</td>\n",
              "      <td>0.004507</td>\n",
              "    </tr>\n",
              "    <tr>\n",
              "      <th>6303</th>\n",
              "      <td>0.000969</td>\n",
              "      <td>0.913215</td>\n",
              "      <td>0.085817</td>\n",
              "    </tr>\n",
              "    <tr>\n",
              "      <th>6304</th>\n",
              "      <td>0.066579</td>\n",
              "      <td>0.914596</td>\n",
              "      <td>0.018825</td>\n",
              "    </tr>\n",
              "    <tr>\n",
              "      <th>6305</th>\n",
              "      <td>0.029418</td>\n",
              "      <td>0.205012</td>\n",
              "      <td>0.765570</td>\n",
              "    </tr>\n",
              "    <tr>\n",
              "      <th>6306</th>\n",
              "      <td>0.006863</td>\n",
              "      <td>0.988175</td>\n",
              "      <td>0.004962</td>\n",
              "    </tr>\n",
              "  </tbody>\n",
              "</table>\n",
              "<p>6307 rows × 3 columns</p>\n",
              "</div>"
            ],
            "text/plain": [
              "           neg       neu       pos\n",
              "0     0.982441  0.013060  0.004499\n",
              "1     0.006340  0.970423  0.023237\n",
              "2     0.952559  0.041451  0.005990\n",
              "3     0.000358  0.991740  0.007901\n",
              "4     0.338040  0.626606  0.035354\n",
              "...        ...       ...       ...\n",
              "6302  0.000383  0.995110  0.004507\n",
              "6303  0.000969  0.913215  0.085817\n",
              "6304  0.066579  0.914596  0.018825\n",
              "6305  0.029418  0.205012  0.765570\n",
              "6306  0.006863  0.988175  0.004962\n",
              "\n",
              "[6307 rows x 3 columns]"
            ]
          },
          "metadata": {
            "tags": []
          },
          "execution_count": 135
        }
      ]
    },
    {
      "cell_type": "code",
      "metadata": {
        "id": "5eU6ylQH3HG_"
      },
      "source": [
        "news_sentiment = pd.DataFrame(news_sentiment, columns = ['neg', 'neu', 'pos'])"
      ],
      "execution_count": 38,
      "outputs": []
    },
    {
      "cell_type": "code",
      "metadata": {
        "id": "2cCNi-Jj3udI"
      },
      "source": [
        "df = pd.concat([df, news_sentiment], axis=1)"
      ],
      "execution_count": 214,
      "outputs": []
    },
    {
      "cell_type": "code",
      "metadata": {
        "id": "LrYG_DznuubO",
        "colab": {
          "base_uri": "https://localhost:8080/",
          "height": 406
        },
        "outputId": "d9be0f14-67fc-4312-c09b-723cd14e8879"
      },
      "source": [
        "df"
      ],
      "execution_count": 215,
      "outputs": [
        {
          "output_type": "execute_result",
          "data": {
            "text/html": [
              "<div>\n",
              "<style scoped>\n",
              "    .dataframe tbody tr th:only-of-type {\n",
              "        vertical-align: middle;\n",
              "    }\n",
              "\n",
              "    .dataframe tbody tr th {\n",
              "        vertical-align: top;\n",
              "    }\n",
              "\n",
              "    .dataframe thead th {\n",
              "        text-align: right;\n",
              "    }\n",
              "</style>\n",
              "<table border=\"1\" class=\"dataframe\">\n",
              "  <thead>\n",
              "    <tr style=\"text-align: right;\">\n",
              "      <th></th>\n",
              "      <th>date</th>\n",
              "      <th>content</th>\n",
              "      <th>index</th>\n",
              "      <th>pct_change</th>\n",
              "      <th>target</th>\n",
              "      <th>neg</th>\n",
              "      <th>neu</th>\n",
              "      <th>pos</th>\n",
              "    </tr>\n",
              "  </thead>\n",
              "  <tbody>\n",
              "    <tr>\n",
              "      <th>0</th>\n",
              "      <td>2014-02-02</td>\n",
              "      <td>Nepal Stock Exchange (Nepse) slid 2.22 points ...</td>\n",
              "      <td>775.92</td>\n",
              "      <td>-0.70</td>\n",
              "      <td>0</td>\n",
              "      <td>0.982441</td>\n",
              "      <td>0.013060</td>\n",
              "      <td>0.004499</td>\n",
              "    </tr>\n",
              "    <tr>\n",
              "      <th>1</th>\n",
              "      <td>2014-02-02</td>\n",
              "      <td>Moffat Nyirenda is president of Round Table In...</td>\n",
              "      <td>775.92</td>\n",
              "      <td>-0.70</td>\n",
              "      <td>0</td>\n",
              "      <td>0.006340</td>\n",
              "      <td>0.970423</td>\n",
              "      <td>0.023237</td>\n",
              "    </tr>\n",
              "    <tr>\n",
              "      <th>2</th>\n",
              "      <td>2014-02-02</td>\n",
              "      <td>The government has stopped monitoring of shops...</td>\n",
              "      <td>775.92</td>\n",
              "      <td>-0.70</td>\n",
              "      <td>0</td>\n",
              "      <td>0.952559</td>\n",
              "      <td>0.041451</td>\n",
              "      <td>0.005990</td>\n",
              "    </tr>\n",
              "    <tr>\n",
              "      <th>3</th>\n",
              "      <td>2014-02-02</td>\n",
              "      <td>The Ministry of Industry (MoI) is preparing to...</td>\n",
              "      <td>775.92</td>\n",
              "      <td>-0.70</td>\n",
              "      <td>0</td>\n",
              "      <td>0.000358</td>\n",
              "      <td>0.991740</td>\n",
              "      <td>0.007901</td>\n",
              "    </tr>\n",
              "    <tr>\n",
              "      <th>4</th>\n",
              "      <td>2014-02-02</td>\n",
              "      <td>The delivery of Chinese aircraft for Nepal Air...</td>\n",
              "      <td>775.92</td>\n",
              "      <td>-0.70</td>\n",
              "      <td>0</td>\n",
              "      <td>0.338040</td>\n",
              "      <td>0.626606</td>\n",
              "      <td>0.035354</td>\n",
              "    </tr>\n",
              "    <tr>\n",
              "      <th>...</th>\n",
              "      <td>...</td>\n",
              "      <td>...</td>\n",
              "      <td>...</td>\n",
              "      <td>...</td>\n",
              "      <td>...</td>\n",
              "      <td>...</td>\n",
              "      <td>...</td>\n",
              "      <td>...</td>\n",
              "    </tr>\n",
              "    <tr>\n",
              "      <th>6302</th>\n",
              "      <td>2019-06-30</td>\n",
              "      <td>Importers are being allowed to haul the goods ...</td>\n",
              "      <td>1,244.89</td>\n",
              "      <td>-0.98</td>\n",
              "      <td>0</td>\n",
              "      <td>0.000383</td>\n",
              "      <td>0.995110</td>\n",
              "      <td>0.004507</td>\n",
              "    </tr>\n",
              "    <tr>\n",
              "      <th>6303</th>\n",
              "      <td>2019-06-30</td>\n",
              "      <td>It will be first facility of its kind in the K...</td>\n",
              "      <td>1,244.89</td>\n",
              "      <td>-0.98</td>\n",
              "      <td>0</td>\n",
              "      <td>0.000969</td>\n",
              "      <td>0.913215</td>\n",
              "      <td>0.085817</td>\n",
              "    </tr>\n",
              "    <tr>\n",
              "      <th>6304</th>\n",
              "      <td>2019-06-30</td>\n",
              "      <td>Readymade garment, apple, footwear, bags and s...</td>\n",
              "      <td>1,244.89</td>\n",
              "      <td>-0.98</td>\n",
              "      <td>0</td>\n",
              "      <td>0.066579</td>\n",
              "      <td>0.914596</td>\n",
              "      <td>0.018825</td>\n",
              "    </tr>\n",
              "    <tr>\n",
              "      <th>6305</th>\n",
              "      <td>2019-06-30</td>\n",
              "      <td>Domestic supply has helped keep prices stable ...</td>\n",
              "      <td>1,244.89</td>\n",
              "      <td>-0.98</td>\n",
              "      <td>0</td>\n",
              "      <td>0.029418</td>\n",
              "      <td>0.205012</td>\n",
              "      <td>0.765570</td>\n",
              "    </tr>\n",
              "    <tr>\n",
              "      <th>6306</th>\n",
              "      <td>2019-07-04</td>\n",
              "      <td>Lack of properly equipped labs leaves imported...</td>\n",
              "      <td>1,260.47</td>\n",
              "      <td>-0.65</td>\n",
              "      <td>0</td>\n",
              "      <td>0.006863</td>\n",
              "      <td>0.988175</td>\n",
              "      <td>0.004962</td>\n",
              "    </tr>\n",
              "  </tbody>\n",
              "</table>\n",
              "<p>6307 rows × 8 columns</p>\n",
              "</div>"
            ],
            "text/plain": [
              "           date  ...       pos\n",
              "0    2014-02-02  ...  0.004499\n",
              "1    2014-02-02  ...  0.023237\n",
              "2    2014-02-02  ...  0.005990\n",
              "3    2014-02-02  ...  0.007901\n",
              "4    2014-02-02  ...  0.035354\n",
              "...         ...  ...       ...\n",
              "6302 2019-06-30  ...  0.004507\n",
              "6303 2019-06-30  ...  0.085817\n",
              "6304 2019-06-30  ...  0.018825\n",
              "6305 2019-06-30  ...  0.765570\n",
              "6306 2019-07-04  ...  0.004962\n",
              "\n",
              "[6307 rows x 8 columns]"
            ]
          },
          "metadata": {
            "tags": []
          },
          "execution_count": 215
        }
      ]
    },
    {
      "cell_type": "code",
      "metadata": {
        "id": "UDR93ipAnNx7"
      },
      "source": [
        "indices['neg'] = df.groupby('date')['neg'].apply(np.mean).values\n",
        "indices['neu'] = df.groupby('date')['neu'].apply(np.mean).values\n",
        "indices['pos'] = df.groupby('date')['pos'].apply(np.mean).values"
      ],
      "execution_count": 216,
      "outputs": []
    },
    {
      "cell_type": "code",
      "metadata": {
        "id": "xkatl2rKuwXE",
        "colab": {
          "base_uri": "https://localhost:8080/",
          "height": 406
        },
        "outputId": "3585ae4a-0537-4a80-b4bd-0b91bf5a7905"
      },
      "source": [
        "indices"
      ],
      "execution_count": 217,
      "outputs": [
        {
          "output_type": "execute_result",
          "data": {
            "text/html": [
              "<div>\n",
              "<style scoped>\n",
              "    .dataframe tbody tr th:only-of-type {\n",
              "        vertical-align: middle;\n",
              "    }\n",
              "\n",
              "    .dataframe tbody tr th {\n",
              "        vertical-align: top;\n",
              "    }\n",
              "\n",
              "    .dataframe thead th {\n",
              "        text-align: right;\n",
              "    }\n",
              "</style>\n",
              "<table border=\"1\" class=\"dataframe\">\n",
              "  <thead>\n",
              "    <tr style=\"text-align: right;\">\n",
              "      <th></th>\n",
              "      <th>date</th>\n",
              "      <th>index</th>\n",
              "      <th>pct_change</th>\n",
              "      <th>target</th>\n",
              "      <th>neg</th>\n",
              "      <th>neu</th>\n",
              "      <th>pos</th>\n",
              "    </tr>\n",
              "  </thead>\n",
              "  <tbody>\n",
              "    <tr>\n",
              "      <th>0</th>\n",
              "      <td>2014-02-02</td>\n",
              "      <td>775.92</td>\n",
              "      <td>-0.70</td>\n",
              "      <td>0</td>\n",
              "      <td>0.455948</td>\n",
              "      <td>0.528656</td>\n",
              "      <td>0.015396</td>\n",
              "    </tr>\n",
              "    <tr>\n",
              "      <th>1</th>\n",
              "      <td>2014-02-03</td>\n",
              "      <td>769.51</td>\n",
              "      <td>-0.83</td>\n",
              "      <td>0</td>\n",
              "      <td>0.050561</td>\n",
              "      <td>0.832063</td>\n",
              "      <td>0.117376</td>\n",
              "    </tr>\n",
              "    <tr>\n",
              "      <th>2</th>\n",
              "      <td>2014-02-04</td>\n",
              "      <td>774.91</td>\n",
              "      <td>0.70</td>\n",
              "      <td>1</td>\n",
              "      <td>0.013146</td>\n",
              "      <td>0.819034</td>\n",
              "      <td>0.167820</td>\n",
              "    </tr>\n",
              "    <tr>\n",
              "      <th>3</th>\n",
              "      <td>2014-02-05</td>\n",
              "      <td>781.38</td>\n",
              "      <td>0.83</td>\n",
              "      <td>1</td>\n",
              "      <td>0.211532</td>\n",
              "      <td>0.597795</td>\n",
              "      <td>0.190673</td>\n",
              "    </tr>\n",
              "    <tr>\n",
              "      <th>4</th>\n",
              "      <td>2014-02-06</td>\n",
              "      <td>785.78</td>\n",
              "      <td>0.56</td>\n",
              "      <td>1</td>\n",
              "      <td>0.322646</td>\n",
              "      <td>0.331161</td>\n",
              "      <td>0.346194</td>\n",
              "    </tr>\n",
              "    <tr>\n",
              "      <th>...</th>\n",
              "      <td>...</td>\n",
              "      <td>...</td>\n",
              "      <td>...</td>\n",
              "      <td>...</td>\n",
              "      <td>...</td>\n",
              "      <td>...</td>\n",
              "      <td>...</td>\n",
              "    </tr>\n",
              "    <tr>\n",
              "      <th>1233</th>\n",
              "      <td>2019-06-24</td>\n",
              "      <td>1,260.10</td>\n",
              "      <td>0.46</td>\n",
              "      <td>1</td>\n",
              "      <td>0.196194</td>\n",
              "      <td>0.710905</td>\n",
              "      <td>0.092901</td>\n",
              "    </tr>\n",
              "    <tr>\n",
              "      <th>1234</th>\n",
              "      <td>2019-06-25</td>\n",
              "      <td>1,261.07</td>\n",
              "      <td>0.08</td>\n",
              "      <td>1</td>\n",
              "      <td>0.002782</td>\n",
              "      <td>0.607060</td>\n",
              "      <td>0.390157</td>\n",
              "    </tr>\n",
              "    <tr>\n",
              "      <th>1235</th>\n",
              "      <td>2019-06-26</td>\n",
              "      <td>1,258.29</td>\n",
              "      <td>-0.22</td>\n",
              "      <td>0</td>\n",
              "      <td>0.075302</td>\n",
              "      <td>0.794581</td>\n",
              "      <td>0.130117</td>\n",
              "    </tr>\n",
              "    <tr>\n",
              "      <th>1236</th>\n",
              "      <td>2019-06-30</td>\n",
              "      <td>1,244.89</td>\n",
              "      <td>-0.98</td>\n",
              "      <td>0</td>\n",
              "      <td>0.024337</td>\n",
              "      <td>0.756983</td>\n",
              "      <td>0.218680</td>\n",
              "    </tr>\n",
              "    <tr>\n",
              "      <th>1237</th>\n",
              "      <td>2019-07-04</td>\n",
              "      <td>1,260.47</td>\n",
              "      <td>-0.65</td>\n",
              "      <td>0</td>\n",
              "      <td>0.006863</td>\n",
              "      <td>0.988175</td>\n",
              "      <td>0.004962</td>\n",
              "    </tr>\n",
              "  </tbody>\n",
              "</table>\n",
              "<p>1238 rows × 7 columns</p>\n",
              "</div>"
            ],
            "text/plain": [
              "           date     index  pct_change  target       neg       neu       pos\n",
              "0    2014-02-02    775.92       -0.70       0  0.455948  0.528656  0.015396\n",
              "1    2014-02-03    769.51       -0.83       0  0.050561  0.832063  0.117376\n",
              "2    2014-02-04    774.91        0.70       1  0.013146  0.819034  0.167820\n",
              "3    2014-02-05    781.38        0.83       1  0.211532  0.597795  0.190673\n",
              "4    2014-02-06    785.78        0.56       1  0.322646  0.331161  0.346194\n",
              "...         ...       ...         ...     ...       ...       ...       ...\n",
              "1233 2019-06-24  1,260.10        0.46       1  0.196194  0.710905  0.092901\n",
              "1234 2019-06-25  1,261.07        0.08       1  0.002782  0.607060  0.390157\n",
              "1235 2019-06-26  1,258.29       -0.22       0  0.075302  0.794581  0.130117\n",
              "1236 2019-06-30  1,244.89       -0.98       0  0.024337  0.756983  0.218680\n",
              "1237 2019-07-04  1,260.47       -0.65       0  0.006863  0.988175  0.004962\n",
              "\n",
              "[1238 rows x 7 columns]"
            ]
          },
          "metadata": {
            "tags": []
          },
          "execution_count": 217
        }
      ]
    },
    {
      "cell_type": "code",
      "metadata": {
        "id": "l9aHGUMHsNAA"
      },
      "source": [
        "indices = indices[['date','neg', 'neu', 'pos', 'target', 'index']]"
      ],
      "execution_count": 218,
      "outputs": []
    },
    {
      "cell_type": "code",
      "metadata": {
        "id": "S98EF5Mn-qGy"
      },
      "source": [
        "# indices['index'] = indices['index'].str.replace(\",\", '').astype('float')"
      ],
      "execution_count": 46,
      "outputs": []
    },
    {
      "cell_type": "code",
      "metadata": {
        "id": "uSIUfhiQtqAu"
      },
      "source": [
        "indices.to_csv('index-with-sentiment.csv', index=False)"
      ],
      "execution_count": 219,
      "outputs": []
    },
    {
      "cell_type": "code",
      "metadata": {
        "id": "CUgHDqF5unOt"
      },
      "source": [
        ""
      ],
      "execution_count": 219,
      "outputs": []
    },
    {
      "cell_type": "markdown",
      "metadata": {
        "id": "VHBpmq9Lun6R"
      },
      "source": [
        "# LSTM SEQ"
      ]
    },
    {
      "cell_type": "code",
      "metadata": {
        "id": "UnrzrDw017nh"
      },
      "source": [
        "indices = pd.read_csv('index-with-sentiment.csv')"
      ],
      "execution_count": 220,
      "outputs": []
    },
    {
      "cell_type": "code",
      "metadata": {
        "id": "cbOHVUqMHzqq"
      },
      "source": [
        "indices.to_csv('final_indices.csv', index=False)"
      ],
      "execution_count": 412,
      "outputs": []
    },
    {
      "cell_type": "code",
      "metadata": {
        "id": "RM4ONFu88KSu"
      },
      "source": [
        "indices['index'] = indices['index'].str.replace(',', '').astype('float')"
      ],
      "execution_count": 227,
      "outputs": []
    },
    {
      "cell_type": "code",
      "metadata": {
        "id": "oT-HzyTPsD7g"
      },
      "source": [
        "train_df = indices[indices['date'] <= '2017-12-31']\n",
        "validation_df = indices[(indices['date'] > '2017-12-31') & (indices['date'] <= '2018-12-31')]\n",
        "test_df = indices[indices['date'] > '2018-12-31']"
      ],
      "execution_count": 228,
      "outputs": []
    },
    {
      "cell_type": "code",
      "metadata": {
        "id": "xwrggAV13Jhr",
        "outputId": "c614cf3e-0ad4-4c58-a064-31a74ae1f116",
        "colab": {
          "base_uri": "https://localhost:8080/"
        }
      },
      "source": [
        "train_df.dtypes"
      ],
      "execution_count": 229,
      "outputs": [
        {
          "output_type": "execute_result",
          "data": {
            "text/plain": [
              "date       object\n",
              "neg       float64\n",
              "neu       float64\n",
              "pos       float64\n",
              "target      int64\n",
              "index     float64\n",
              "dtype: object"
            ]
          },
          "metadata": {
            "tags": []
          },
          "execution_count": 229
        }
      ]
    },
    {
      "cell_type": "code",
      "metadata": {
        "id": "RS0HNHUovarp"
      },
      "source": [
        "from sklearn.preprocessing import MinMaxScaler\n",
        "scaler = MinMaxScaler()"
      ],
      "execution_count": 230,
      "outputs": []
    },
    {
      "cell_type": "code",
      "metadata": {
        "id": "dRj18Tnuv-KY"
      },
      "source": [
        "train_df['index_scaled'] = scaler.fit_transform(train_df['index'].values.reshape(-1, 1))"
      ],
      "execution_count": 231,
      "outputs": []
    },
    {
      "cell_type": "code",
      "metadata": {
        "id": "tLY9KhZnAtAB"
      },
      "source": [
        "validation_df['index_scaled'] = scaler.transform(validation_df['index'].values.reshape(-1, 1))\n",
        "test_df['index_scaled'] = scaler.transform(test_df['index'].values.reshape(-1, 1))"
      ],
      "execution_count": 232,
      "outputs": []
    },
    {
      "cell_type": "code",
      "metadata": {
        "id": "JMoaG93vx0En"
      },
      "source": [
        "def series_to_supervised(data, n_in=1, n_out=1, dropnan=True):\n",
        "\tn_vars = 1 if type(data) is list else data.shape[1]\n",
        "\tdf = pd.DataFrame(data)\n",
        "\tcols, names = list(), list()\n",
        "\t# input sequence (t-n, ... t-1)\n",
        "\tfor i in range(n_in, 0, -1):\n",
        "\t\tcols.append(df.shift(i))\n",
        "\t\tnames += [('var%d(t-%d)' % (j+1, i)) for j in range(n_vars)]\n",
        "\t# forecast sequence (t, t+1, ... t+n)\n",
        "\tfor i in range(0, n_out):\n",
        "\t\tcols.append(df.shift(-i))\n",
        "\t\tif i == 0:\n",
        "\t\t\tnames += [('var%d(t)' % (j+1)) for j in range(n_vars)]\n",
        "\t\telse:\n",
        "\t\t\tnames += [('var%d(t+%d)' % (j+1, i)) for j in range(n_vars)]\n",
        "\t# put it all together\n",
        "\tagg = pd.concat(cols, axis=1)\n",
        "\tagg.columns = names\n",
        "\t# drop rows with NaN values\n",
        "\tif dropnan:\n",
        "\t\tagg.dropna(inplace=True)\n",
        "\treturn agg"
      ],
      "execution_count": 233,
      "outputs": []
    },
    {
      "cell_type": "code",
      "metadata": {
        "id": "z_ahAZnfx0Bo"
      },
      "source": [
        "train_val = series_to_supervised(train_df[['neg','neu','pos','index_scaled']], 2, 1)\n",
        "valid_val = series_to_supervised(validation_df[['neg','neu','pos','index_scaled']], 2, 1)\n",
        "test_val = series_to_supervised(test_df[['neg','neu','pos','index_scaled']], 2, 1)"
      ],
      "execution_count": 524,
      "outputs": []
    },
    {
      "cell_type": "code",
      "metadata": {
        "id": "6JI13KuBxz_G"
      },
      "source": [
        "xtr, ytr = train_val.values[:, :-1], train_val.values[:, -1]\n",
        "xval, yval = valid_val.values[:, :-1], valid_val.values[:, -1]\n",
        "xtest, ytest = test_val.values[:, :-1], test_val.values[:, -1]"
      ],
      "execution_count": 525,
      "outputs": []
    },
    {
      "cell_type": "code",
      "metadata": {
        "id": "pcmKtNwnxz72"
      },
      "source": [
        "xtr = xtr.reshape((xtr.shape[0], 1, xtr.shape[1]))\n",
        "xval = xval.reshape((xval.shape[0], 1, xval.shape[1]))\n",
        "xtest = xtest.reshape((xtest.shape[0], 1, xtest.shape[1]))\n"
      ],
      "execution_count": 526,
      "outputs": []
    },
    {
      "cell_type": "code",
      "metadata": {
        "colab": {
          "base_uri": "https://localhost:8080/"
        },
        "id": "FxKvigpTxz5O",
        "outputId": "9ee3319a-ef20-4904-df85-8abd6e8e80a1"
      },
      "source": [
        "xtr.shape, ytr.shape, xval.shape, xtest.shape"
      ],
      "execution_count": 527,
      "outputs": [
        {
          "output_type": "execute_result",
          "data": {
            "text/plain": [
              "((879, 1, 11), (879,), (234, 1, 11), (119, 1, 11))"
            ]
          },
          "metadata": {
            "tags": []
          },
          "execution_count": 527
        }
      ]
    },
    {
      "cell_type": "code",
      "metadata": {
        "id": "sRdPARPw1bX-"
      },
      "source": [
        "#Defining our metric\n",
        "import tensorflow.keras.backend as K\n",
        "def root_mean_squared_error(y_true, y_pred):\n",
        "    return K.sqrt(K.mean(K.square(y_pred - y_true)))"
      ],
      "execution_count": 528,
      "outputs": []
    },
    {
      "cell_type": "code",
      "metadata": {
        "colab": {
          "base_uri": "https://localhost:8080/",
          "height": 742
        },
        "id": "FqufDJyOxz2J",
        "outputId": "46d9f0c8-bbcd-452f-ddc1-a4bd10abe2c4"
      },
      "source": [
        "np.random.seed(60)\n",
        "from tensorflow.keras.callbacks import EarlyStopping, ModelCheckpoint\n",
        "\n",
        "\n",
        "model = Sequential()\n",
        "\n",
        "# model.add(LSTM(96, input_shape=(xtr.shape[1], xtr.shape[2]), activation='tanh', return_sequences=True))\n",
        "# model.add(Dropout(0.25))\n",
        "# model.add(GlobalMaxPool1D())\n",
        "# model.add(Dense(128, activation='linear'))\n",
        "# model.add(Dropout(0.25))\n",
        "model.add(\n",
        "    LSTM(128, input_shape=(xtr.shape[1], xtr.shape[2]), activation='tanh', return_sequences=False)\n",
        "    )\n",
        "# model.add(\n",
        "#     LSTM(96,activation='relu')\n",
        "#     )\n",
        "# model.add(Dense(64))\n",
        "# model.add(Dense(64))\n",
        "\n",
        "model.add(Dense(64, activation='sigmoid'))\n",
        "\n",
        "\n",
        "model.add(Dense(1))\n",
        "model.compile(optimizer='adam', loss= root_mean_squared_error)\n",
        "# fit network\n",
        "\n",
        "early_stopping = EarlyStopping(monitor='val_loss', mode='min', verbose=1, patience=10)\n",
        "mcp_save = ModelCheckpoint('./model.hdf5', save_best_only=True, monitor='val_loss', mode='min')\n",
        "\n",
        "history = model.fit(xtr, ytr, epochs=500, batch_size=32,verbose=0, validation_data=(xval, yval), \n",
        "                    callbacks=[early_stopping, mcp_save])\n",
        "\n",
        "%matplotlib inline\n",
        "def plot_metric(history, metric):\n",
        "    train_metrics = history.history[metric]\n",
        "    val_metrics = history.history['val_'+metric]\n",
        "    epochs = range(1, len(train_metrics) + 1)\n",
        "    plt.plot(epochs, train_metrics)\n",
        "    plt.plot(epochs, val_metrics)\n",
        "    plt.title('Training and validation '+ metric)\n",
        "    plt.xlabel(\"Epochs\")\n",
        "    plt.ylabel(metric)\n",
        "    plt.legend([\"train_\"+metric, 'val_'+metric])\n",
        "    plt.show()\n",
        "\n",
        "plot_metric(history, 'loss')\n",
        "\n",
        "\n",
        "model.load_weights('model.hdf5')\n",
        "# odel.evaluate(X_val, y_val, batch_size=4096)\n",
        "\n",
        "plt.figure(figsize=(12,7))\n",
        "plt.plot(scaler.inverse_transform(model.predict(xtest)), color='green', label='PREDICTION')\n",
        "plt.plot(scaler.inverse_transform(ytest.reshape(-1, 1)), color='orange', label = 'ORIGINAL')\n",
        "plt.legend()\n",
        "\n",
        "from math import sqrt\n",
        "from sklearn.metrics import mean_squared_error\n",
        "\n",
        "RMSE_LSTM = sqrt(mean_squared_error(test_df.iloc[2:]['index'].values, scaler.inverse_transform(model.predict(xtest))))\n",
        "print(f\"RMSE_LSTM = {RMSE_LSTM}\")"
      ],
      "execution_count": 545,
      "outputs": [
        {
          "output_type": "stream",
          "text": [
            "Epoch 00022: early stopping\n"
          ],
          "name": "stdout"
        },
        {
          "output_type": "display_data",
          "data": {
            "image/png": "[encoded data removed]",
            "text/plain": [
              "<Figure size 432x288 with 1 Axes>"
            ]
          },
          "metadata": {
            "tags": [],
            "needs_background": "light"
          }
        },
        {
          "output_type": "stream",
          "text": [
            "RMSE_LSTM = 10.9752871390887\n"
          ],
          "name": "stdout"
        },
        {
          "output_type": "display_data",
          "data": {
            "image/png": "[encoded data removed]",
            "text/plain": [
              "<Figure size 864x504 with 1 Axes>"
            ]
          },
          "metadata": {
            "tags": [],
            "needs_background": "light"
          }
        }
      ]
    },
    {
      "cell_type": "code",
      "metadata": {
        "id": "Ce8mI9ad1TUh"
      },
      "source": [
        "a = test_df.iloc[2:]\n",
        "b = scaler.inverse_transform(model.predict(xtest))"
      ],
      "execution_count": 541,
      "outputs": []
    },
    {
      "cell_type": "code",
      "metadata": {
        "colab": {
          "base_uri": "https://localhost:8080/"
        },
        "id": "mVwYennN1TRU",
        "outputId": "d042c2a1-a091-4ed9-9562-302df98ff35a"
      },
      "source": [
        "a['preds'] = b\n",
        "a['pred_change'] = a['preds'].pct_change()\n",
        "a.fillna(0, inplace=True)\n",
        "a['pred_target'] = np.where(a['pred_change'] <= 0 , 0, 1)\n",
        "t_df = pd.read_csv('/content/final_indices.csv')\n",
        "t_df = t_df[t_df['date'] > '2018-12-31']\n",
        "a['real_target'] = t_df.iloc[2:]['target']\n",
        "accuracy_score(a.real_target, a.pred_target)"
      ],
      "execution_count": 542,
      "outputs": [
        {
          "output_type": "execute_result",
          "data": {
            "text/plain": [
              "0.5630252100840336"
            ]
          },
          "metadata": {
            "tags": []
          },
          "execution_count": 542
        }
      ]
    },
    {
      "cell_type": "code",
      "metadata": {
        "id": "_P-_4zKi_auT",
        "outputId": "8bfc6d37-4a73-41d0-c1e9-cd3de905a924",
        "colab": {
          "base_uri": "https://localhost:8080/",
          "height": 1000
        }
      },
      "source": [
        "a.head(50)"
      ],
      "execution_count": 543,
      "outputs": [
        {
          "output_type": "execute_result",
          "data": {
            "text/html": [
              "<div>\n",
              "<style scoped>\n",
              "    .dataframe tbody tr th:only-of-type {\n",
              "        vertical-align: middle;\n",
              "    }\n",
              "\n",
              "    .dataframe tbody tr th {\n",
              "        vertical-align: top;\n",
              "    }\n",
              "\n",
              "    .dataframe thead th {\n",
              "        text-align: right;\n",
              "    }\n",
              "</style>\n",
              "<table border=\"1\" class=\"dataframe\">\n",
              "  <thead>\n",
              "    <tr style=\"text-align: right;\">\n",
              "      <th></th>\n",
              "      <th>date</th>\n",
              "      <th>neg</th>\n",
              "      <th>neu</th>\n",
              "      <th>pos</th>\n",
              "      <th>target</th>\n",
              "      <th>index</th>\n",
              "      <th>index_scaled</th>\n",
              "      <th>preds</th>\n",
              "      <th>pred_change</th>\n",
              "      <th>pred_target</th>\n",
              "      <th>real_target</th>\n",
              "    </tr>\n",
              "  </thead>\n",
              "  <tbody>\n",
              "    <tr>\n",
              "      <th>1119</th>\n",
              "      <td>2019-01-03</td>\n",
              "      <td>0.010275</td>\n",
              "      <td>0.830949</td>\n",
              "      <td>0.158775</td>\n",
              "      <td>0</td>\n",
              "      <td>1178.87</td>\n",
              "      <td>0.376294</td>\n",
              "      <td>1182.470459</td>\n",
              "      <td>0.000000</td>\n",
              "      <td>0</td>\n",
              "      <td>0</td>\n",
              "    </tr>\n",
              "    <tr>\n",
              "      <th>1120</th>\n",
              "      <td>2019-01-06</td>\n",
              "      <td>0.333411</td>\n",
              "      <td>0.545923</td>\n",
              "      <td>0.120666</td>\n",
              "      <td>0</td>\n",
              "      <td>1170.79</td>\n",
              "      <td>0.369121</td>\n",
              "      <td>1180.017334</td>\n",
              "      <td>-0.002075</td>\n",
              "      <td>0</td>\n",
              "      <td>0</td>\n",
              "    </tr>\n",
              "    <tr>\n",
              "      <th>1121</th>\n",
              "      <td>2019-01-07</td>\n",
              "      <td>0.334487</td>\n",
              "      <td>0.650366</td>\n",
              "      <td>0.015147</td>\n",
              "      <td>1</td>\n",
              "      <td>1177.46</td>\n",
              "      <td>0.375042</td>\n",
              "      <td>1174.724243</td>\n",
              "      <td>-0.004486</td>\n",
              "      <td>0</td>\n",
              "      <td>1</td>\n",
              "    </tr>\n",
              "    <tr>\n",
              "      <th>1122</th>\n",
              "      <td>2019-01-08</td>\n",
              "      <td>0.640127</td>\n",
              "      <td>0.333816</td>\n",
              "      <td>0.026057</td>\n",
              "      <td>0</td>\n",
              "      <td>1177.07</td>\n",
              "      <td>0.374696</td>\n",
              "      <td>1172.504517</td>\n",
              "      <td>-0.001890</td>\n",
              "      <td>0</td>\n",
              "      <td>0</td>\n",
              "    </tr>\n",
              "    <tr>\n",
              "      <th>1123</th>\n",
              "      <td>2019-01-09</td>\n",
              "      <td>0.263334</td>\n",
              "      <td>0.475368</td>\n",
              "      <td>0.261298</td>\n",
              "      <td>1</td>\n",
              "      <td>1179.36</td>\n",
              "      <td>0.376729</td>\n",
              "      <td>1176.169067</td>\n",
              "      <td>0.003125</td>\n",
              "      <td>1</td>\n",
              "      <td>1</td>\n",
              "    </tr>\n",
              "    <tr>\n",
              "      <th>1124</th>\n",
              "      <td>2019-01-10</td>\n",
              "      <td>0.084497</td>\n",
              "      <td>0.827201</td>\n",
              "      <td>0.088302</td>\n",
              "      <td>1</td>\n",
              "      <td>1180.84</td>\n",
              "      <td>0.378043</td>\n",
              "      <td>1177.558960</td>\n",
              "      <td>0.001182</td>\n",
              "      <td>1</td>\n",
              "      <td>1</td>\n",
              "    </tr>\n",
              "    <tr>\n",
              "      <th>1125</th>\n",
              "      <td>2019-01-13</td>\n",
              "      <td>0.348266</td>\n",
              "      <td>0.622583</td>\n",
              "      <td>0.029151</td>\n",
              "      <td>0</td>\n",
              "      <td>1175.05</td>\n",
              "      <td>0.372903</td>\n",
              "      <td>1178.344482</td>\n",
              "      <td>0.000667</td>\n",
              "      <td>1</td>\n",
              "      <td>0</td>\n",
              "    </tr>\n",
              "    <tr>\n",
              "      <th>1126</th>\n",
              "      <td>2019-01-14</td>\n",
              "      <td>0.113484</td>\n",
              "      <td>0.594510</td>\n",
              "      <td>0.292005</td>\n",
              "      <td>1</td>\n",
              "      <td>1186.80</td>\n",
              "      <td>0.383334</td>\n",
              "      <td>1177.987061</td>\n",
              "      <td>-0.000303</td>\n",
              "      <td>0</td>\n",
              "      <td>1</td>\n",
              "    </tr>\n",
              "    <tr>\n",
              "      <th>1127</th>\n",
              "      <td>2019-01-15</td>\n",
              "      <td>0.011055</td>\n",
              "      <td>0.698354</td>\n",
              "      <td>0.290591</td>\n",
              "      <td>1</td>\n",
              "      <td>1195.54</td>\n",
              "      <td>0.391092</td>\n",
              "      <td>1182.366943</td>\n",
              "      <td>0.003718</td>\n",
              "      <td>1</td>\n",
              "      <td>1</td>\n",
              "    </tr>\n",
              "    <tr>\n",
              "      <th>1128</th>\n",
              "      <td>2019-01-16</td>\n",
              "      <td>0.001010</td>\n",
              "      <td>0.971302</td>\n",
              "      <td>0.027688</td>\n",
              "      <td>0</td>\n",
              "      <td>1187.97</td>\n",
              "      <td>0.384372</td>\n",
              "      <td>1191.850952</td>\n",
              "      <td>0.008021</td>\n",
              "      <td>1</td>\n",
              "      <td>0</td>\n",
              "    </tr>\n",
              "    <tr>\n",
              "      <th>1129</th>\n",
              "      <td>2019-01-17</td>\n",
              "      <td>0.094189</td>\n",
              "      <td>0.668621</td>\n",
              "      <td>0.237190</td>\n",
              "      <td>0</td>\n",
              "      <td>1187.77</td>\n",
              "      <td>0.384195</td>\n",
              "      <td>1191.725220</td>\n",
              "      <td>-0.000106</td>\n",
              "      <td>0</td>\n",
              "      <td>0</td>\n",
              "    </tr>\n",
              "    <tr>\n",
              "      <th>1130</th>\n",
              "      <td>2019-01-20</td>\n",
              "      <td>0.508493</td>\n",
              "      <td>0.401097</td>\n",
              "      <td>0.090409</td>\n",
              "      <td>0</td>\n",
              "      <td>1179.17</td>\n",
              "      <td>0.376560</td>\n",
              "      <td>1189.142700</td>\n",
              "      <td>-0.002167</td>\n",
              "      <td>0</td>\n",
              "      <td>0</td>\n",
              "    </tr>\n",
              "    <tr>\n",
              "      <th>1131</th>\n",
              "      <td>2019-01-21</td>\n",
              "      <td>0.006699</td>\n",
              "      <td>0.874661</td>\n",
              "      <td>0.118640</td>\n",
              "      <td>0</td>\n",
              "      <td>1168.06</td>\n",
              "      <td>0.366697</td>\n",
              "      <td>1184.048706</td>\n",
              "      <td>-0.004284</td>\n",
              "      <td>0</td>\n",
              "      <td>0</td>\n",
              "    </tr>\n",
              "    <tr>\n",
              "      <th>1132</th>\n",
              "      <td>2019-01-22</td>\n",
              "      <td>0.007246</td>\n",
              "      <td>0.928420</td>\n",
              "      <td>0.064333</td>\n",
              "      <td>1</td>\n",
              "      <td>1168.83</td>\n",
              "      <td>0.367381</td>\n",
              "      <td>1171.335327</td>\n",
              "      <td>-0.010737</td>\n",
              "      <td>0</td>\n",
              "      <td>1</td>\n",
              "    </tr>\n",
              "    <tr>\n",
              "      <th>1133</th>\n",
              "      <td>2019-01-23</td>\n",
              "      <td>0.643595</td>\n",
              "      <td>0.315041</td>\n",
              "      <td>0.041363</td>\n",
              "      <td>1</td>\n",
              "      <td>1172.98</td>\n",
              "      <td>0.371065</td>\n",
              "      <td>1168.592896</td>\n",
              "      <td>-0.002341</td>\n",
              "      <td>0</td>\n",
              "      <td>1</td>\n",
              "    </tr>\n",
              "    <tr>\n",
              "      <th>1134</th>\n",
              "      <td>2019-01-24</td>\n",
              "      <td>0.044392</td>\n",
              "      <td>0.899035</td>\n",
              "      <td>0.056574</td>\n",
              "      <td>0</td>\n",
              "      <td>1172.78</td>\n",
              "      <td>0.370888</td>\n",
              "      <td>1171.135010</td>\n",
              "      <td>0.002175</td>\n",
              "      <td>1</td>\n",
              "      <td>0</td>\n",
              "    </tr>\n",
              "    <tr>\n",
              "      <th>1135</th>\n",
              "      <td>2019-01-27</td>\n",
              "      <td>0.160179</td>\n",
              "      <td>0.767148</td>\n",
              "      <td>0.072673</td>\n",
              "      <td>0</td>\n",
              "      <td>1162.09</td>\n",
              "      <td>0.361398</td>\n",
              "      <td>1169.793213</td>\n",
              "      <td>-0.001146</td>\n",
              "      <td>0</td>\n",
              "      <td>0</td>\n",
              "    </tr>\n",
              "    <tr>\n",
              "      <th>1136</th>\n",
              "      <td>2019-01-28</td>\n",
              "      <td>0.616516</td>\n",
              "      <td>0.259826</td>\n",
              "      <td>0.123658</td>\n",
              "      <td>1</td>\n",
              "      <td>1164.89</td>\n",
              "      <td>0.363883</td>\n",
              "      <td>1167.677856</td>\n",
              "      <td>-0.001808</td>\n",
              "      <td>0</td>\n",
              "      <td>1</td>\n",
              "    </tr>\n",
              "    <tr>\n",
              "      <th>1137</th>\n",
              "      <td>2019-01-29</td>\n",
              "      <td>0.021798</td>\n",
              "      <td>0.651460</td>\n",
              "      <td>0.326742</td>\n",
              "      <td>0</td>\n",
              "      <td>1160.99</td>\n",
              "      <td>0.360421</td>\n",
              "      <td>1164.042114</td>\n",
              "      <td>-0.003114</td>\n",
              "      <td>0</td>\n",
              "      <td>0</td>\n",
              "    </tr>\n",
              "    <tr>\n",
              "      <th>1138</th>\n",
              "      <td>2019-01-30</td>\n",
              "      <td>0.484423</td>\n",
              "      <td>0.503640</td>\n",
              "      <td>0.011937</td>\n",
              "      <td>0</td>\n",
              "      <td>1160.59</td>\n",
              "      <td>0.360066</td>\n",
              "      <td>1160.204102</td>\n",
              "      <td>-0.003297</td>\n",
              "      <td>0</td>\n",
              "      <td>0</td>\n",
              "    </tr>\n",
              "    <tr>\n",
              "      <th>1139</th>\n",
              "      <td>2019-01-31</td>\n",
              "      <td>0.301267</td>\n",
              "      <td>0.683930</td>\n",
              "      <td>0.014803</td>\n",
              "      <td>1</td>\n",
              "      <td>1161.63</td>\n",
              "      <td>0.360989</td>\n",
              "      <td>1160.333374</td>\n",
              "      <td>0.000111</td>\n",
              "      <td>1</td>\n",
              "      <td>1</td>\n",
              "    </tr>\n",
              "    <tr>\n",
              "      <th>1140</th>\n",
              "      <td>2019-02-03</td>\n",
              "      <td>0.360070</td>\n",
              "      <td>0.483913</td>\n",
              "      <td>0.156017</td>\n",
              "      <td>0</td>\n",
              "      <td>1153.06</td>\n",
              "      <td>0.353381</td>\n",
              "      <td>1159.088501</td>\n",
              "      <td>-0.001073</td>\n",
              "      <td>0</td>\n",
              "      <td>0</td>\n",
              "    </tr>\n",
              "    <tr>\n",
              "      <th>1141</th>\n",
              "      <td>2019-02-04</td>\n",
              "      <td>0.258720</td>\n",
              "      <td>0.363212</td>\n",
              "      <td>0.378068</td>\n",
              "      <td>0</td>\n",
              "      <td>1144.27</td>\n",
              "      <td>0.345578</td>\n",
              "      <td>1156.968262</td>\n",
              "      <td>-0.001829</td>\n",
              "      <td>0</td>\n",
              "      <td>0</td>\n",
              "    </tr>\n",
              "    <tr>\n",
              "      <th>1142</th>\n",
              "      <td>2019-02-05</td>\n",
              "      <td>0.011370</td>\n",
              "      <td>0.984885</td>\n",
              "      <td>0.003744</td>\n",
              "      <td>1</td>\n",
              "      <td>1147.10</td>\n",
              "      <td>0.348090</td>\n",
              "      <td>1148.721191</td>\n",
              "      <td>-0.007128</td>\n",
              "      <td>0</td>\n",
              "      <td>1</td>\n",
              "    </tr>\n",
              "    <tr>\n",
              "      <th>1143</th>\n",
              "      <td>2019-02-06</td>\n",
              "      <td>0.450710</td>\n",
              "      <td>0.511032</td>\n",
              "      <td>0.038258</td>\n",
              "      <td>0</td>\n",
              "      <td>1139.72</td>\n",
              "      <td>0.341539</td>\n",
              "      <td>1142.646240</td>\n",
              "      <td>-0.005288</td>\n",
              "      <td>0</td>\n",
              "      <td>0</td>\n",
              "    </tr>\n",
              "    <tr>\n",
              "      <th>1144</th>\n",
              "      <td>2019-02-07</td>\n",
              "      <td>0.499393</td>\n",
              "      <td>0.497098</td>\n",
              "      <td>0.003509</td>\n",
              "      <td>0</td>\n",
              "      <td>1139.57</td>\n",
              "      <td>0.341406</td>\n",
              "      <td>1143.050415</td>\n",
              "      <td>0.000354</td>\n",
              "      <td>1</td>\n",
              "      <td>0</td>\n",
              "    </tr>\n",
              "    <tr>\n",
              "      <th>1145</th>\n",
              "      <td>2019-02-10</td>\n",
              "      <td>0.072885</td>\n",
              "      <td>0.692726</td>\n",
              "      <td>0.234389</td>\n",
              "      <td>0</td>\n",
              "      <td>1127.53</td>\n",
              "      <td>0.330717</td>\n",
              "      <td>1138.762573</td>\n",
              "      <td>-0.003751</td>\n",
              "      <td>0</td>\n",
              "      <td>0</td>\n",
              "    </tr>\n",
              "    <tr>\n",
              "      <th>1146</th>\n",
              "      <td>2019-02-11</td>\n",
              "      <td>0.161305</td>\n",
              "      <td>0.634375</td>\n",
              "      <td>0.204319</td>\n",
              "      <td>1</td>\n",
              "      <td>1128.86</td>\n",
              "      <td>0.331898</td>\n",
              "      <td>1132.297852</td>\n",
              "      <td>-0.005677</td>\n",
              "      <td>0</td>\n",
              "      <td>1</td>\n",
              "    </tr>\n",
              "    <tr>\n",
              "      <th>1147</th>\n",
              "      <td>2019-02-12</td>\n",
              "      <td>0.507910</td>\n",
              "      <td>0.484454</td>\n",
              "      <td>0.007636</td>\n",
              "      <td>0</td>\n",
              "      <td>1128.19</td>\n",
              "      <td>0.331303</td>\n",
              "      <td>1128.087646</td>\n",
              "      <td>-0.003718</td>\n",
              "      <td>0</td>\n",
              "      <td>0</td>\n",
              "    </tr>\n",
              "    <tr>\n",
              "      <th>1148</th>\n",
              "      <td>2019-02-13</td>\n",
              "      <td>0.248477</td>\n",
              "      <td>0.426121</td>\n",
              "      <td>0.325402</td>\n",
              "      <td>0</td>\n",
              "      <td>1121.08</td>\n",
              "      <td>0.324992</td>\n",
              "      <td>1127.859619</td>\n",
              "      <td>-0.000202</td>\n",
              "      <td>0</td>\n",
              "      <td>0</td>\n",
              "    </tr>\n",
              "    <tr>\n",
              "      <th>1149</th>\n",
              "      <td>2019-02-14</td>\n",
              "      <td>0.496852</td>\n",
              "      <td>0.500107</td>\n",
              "      <td>0.003040</td>\n",
              "      <td>0</td>\n",
              "      <td>1112.87</td>\n",
              "      <td>0.317703</td>\n",
              "      <td>1122.856323</td>\n",
              "      <td>-0.004436</td>\n",
              "      <td>0</td>\n",
              "      <td>0</td>\n",
              "    </tr>\n",
              "    <tr>\n",
              "      <th>1150</th>\n",
              "      <td>2019-02-17</td>\n",
              "      <td>0.257794</td>\n",
              "      <td>0.712376</td>\n",
              "      <td>0.029829</td>\n",
              "      <td>0</td>\n",
              "      <td>1109.72</td>\n",
              "      <td>0.314907</td>\n",
              "      <td>1115.300293</td>\n",
              "      <td>-0.006729</td>\n",
              "      <td>0</td>\n",
              "      <td>0</td>\n",
              "    </tr>\n",
              "    <tr>\n",
              "      <th>1151</th>\n",
              "      <td>2019-02-18</td>\n",
              "      <td>0.260123</td>\n",
              "      <td>0.699344</td>\n",
              "      <td>0.040532</td>\n",
              "      <td>0</td>\n",
              "      <td>1102.51</td>\n",
              "      <td>0.308506</td>\n",
              "      <td>1108.589600</td>\n",
              "      <td>-0.006017</td>\n",
              "      <td>0</td>\n",
              "      <td>0</td>\n",
              "    </tr>\n",
              "    <tr>\n",
              "      <th>1152</th>\n",
              "      <td>2019-02-19</td>\n",
              "      <td>0.003830</td>\n",
              "      <td>0.613349</td>\n",
              "      <td>0.382821</td>\n",
              "      <td>1</td>\n",
              "      <td>1124.96</td>\n",
              "      <td>0.328436</td>\n",
              "      <td>1105.541260</td>\n",
              "      <td>-0.002750</td>\n",
              "      <td>0</td>\n",
              "      <td>1</td>\n",
              "    </tr>\n",
              "    <tr>\n",
              "      <th>1153</th>\n",
              "      <td>2019-02-20</td>\n",
              "      <td>0.075871</td>\n",
              "      <td>0.799729</td>\n",
              "      <td>0.124400</td>\n",
              "      <td>0</td>\n",
              "      <td>1112.23</td>\n",
              "      <td>0.317135</td>\n",
              "      <td>1114.184204</td>\n",
              "      <td>0.007818</td>\n",
              "      <td>1</td>\n",
              "      <td>0</td>\n",
              "    </tr>\n",
              "    <tr>\n",
              "      <th>1154</th>\n",
              "      <td>2019-02-21</td>\n",
              "      <td>0.126079</td>\n",
              "      <td>0.543468</td>\n",
              "      <td>0.330452</td>\n",
              "      <td>1</td>\n",
              "      <td>1113.07</td>\n",
              "      <td>0.317881</td>\n",
              "      <td>1119.159180</td>\n",
              "      <td>0.004465</td>\n",
              "      <td>1</td>\n",
              "      <td>1</td>\n",
              "    </tr>\n",
              "    <tr>\n",
              "      <th>1155</th>\n",
              "      <td>2019-02-24</td>\n",
              "      <td>0.136983</td>\n",
              "      <td>0.671853</td>\n",
              "      <td>0.191164</td>\n",
              "      <td>0</td>\n",
              "      <td>1102.32</td>\n",
              "      <td>0.308338</td>\n",
              "      <td>1113.427002</td>\n",
              "      <td>-0.005122</td>\n",
              "      <td>0</td>\n",
              "      <td>0</td>\n",
              "    </tr>\n",
              "    <tr>\n",
              "      <th>1156</th>\n",
              "      <td>2019-02-25</td>\n",
              "      <td>0.009378</td>\n",
              "      <td>0.505478</td>\n",
              "      <td>0.485145</td>\n",
              "      <td>1</td>\n",
              "      <td>1109.73</td>\n",
              "      <td>0.314916</td>\n",
              "      <td>1108.888306</td>\n",
              "      <td>-0.004076</td>\n",
              "      <td>0</td>\n",
              "      <td>1</td>\n",
              "    </tr>\n",
              "    <tr>\n",
              "      <th>1157</th>\n",
              "      <td>2019-02-26</td>\n",
              "      <td>0.000827</td>\n",
              "      <td>0.929125</td>\n",
              "      <td>0.070048</td>\n",
              "      <td>0</td>\n",
              "      <td>1102.56</td>\n",
              "      <td>0.308551</td>\n",
              "      <td>1106.946411</td>\n",
              "      <td>-0.001751</td>\n",
              "      <td>0</td>\n",
              "      <td>0</td>\n",
              "    </tr>\n",
              "    <tr>\n",
              "      <th>1158</th>\n",
              "      <td>2019-02-27</td>\n",
              "      <td>0.391708</td>\n",
              "      <td>0.564680</td>\n",
              "      <td>0.043612</td>\n",
              "      <td>1</td>\n",
              "      <td>1105.53</td>\n",
              "      <td>0.311187</td>\n",
              "      <td>1104.503784</td>\n",
              "      <td>-0.002207</td>\n",
              "      <td>0</td>\n",
              "      <td>1</td>\n",
              "    </tr>\n",
              "    <tr>\n",
              "      <th>1159</th>\n",
              "      <td>2019-03-03</td>\n",
              "      <td>0.980058</td>\n",
              "      <td>0.016252</td>\n",
              "      <td>0.003690</td>\n",
              "      <td>0</td>\n",
              "      <td>1100.58</td>\n",
              "      <td>0.306793</td>\n",
              "      <td>1106.451050</td>\n",
              "      <td>0.001763</td>\n",
              "      <td>1</td>\n",
              "      <td>0</td>\n",
              "    </tr>\n",
              "    <tr>\n",
              "      <th>1160</th>\n",
              "      <td>2019-03-05</td>\n",
              "      <td>0.001072</td>\n",
              "      <td>0.942504</td>\n",
              "      <td>0.056424</td>\n",
              "      <td>1</td>\n",
              "      <td>1102.64</td>\n",
              "      <td>0.308622</td>\n",
              "      <td>1103.185425</td>\n",
              "      <td>-0.002951</td>\n",
              "      <td>0</td>\n",
              "      <td>1</td>\n",
              "    </tr>\n",
              "    <tr>\n",
              "      <th>1161</th>\n",
              "      <td>2019-03-06</td>\n",
              "      <td>0.004171</td>\n",
              "      <td>0.083197</td>\n",
              "      <td>0.912632</td>\n",
              "      <td>1</td>\n",
              "      <td>1111.76</td>\n",
              "      <td>0.316718</td>\n",
              "      <td>1101.111084</td>\n",
              "      <td>-0.001880</td>\n",
              "      <td>0</td>\n",
              "      <td>1</td>\n",
              "    </tr>\n",
              "    <tr>\n",
              "      <th>1162</th>\n",
              "      <td>2019-03-07</td>\n",
              "      <td>0.011471</td>\n",
              "      <td>0.826649</td>\n",
              "      <td>0.161880</td>\n",
              "      <td>1</td>\n",
              "      <td>1127.77</td>\n",
              "      <td>0.330931</td>\n",
              "      <td>1108.759155</td>\n",
              "      <td>0.006946</td>\n",
              "      <td>1</td>\n",
              "      <td>1</td>\n",
              "    </tr>\n",
              "    <tr>\n",
              "      <th>1163</th>\n",
              "      <td>2019-03-10</td>\n",
              "      <td>0.124243</td>\n",
              "      <td>0.563443</td>\n",
              "      <td>0.312313</td>\n",
              "      <td>1</td>\n",
              "      <td>1128.71</td>\n",
              "      <td>0.331765</td>\n",
              "      <td>1119.851440</td>\n",
              "      <td>0.010004</td>\n",
              "      <td>1</td>\n",
              "      <td>1</td>\n",
              "    </tr>\n",
              "    <tr>\n",
              "      <th>1164</th>\n",
              "      <td>2019-03-11</td>\n",
              "      <td>0.002249</td>\n",
              "      <td>0.963411</td>\n",
              "      <td>0.034340</td>\n",
              "      <td>1</td>\n",
              "      <td>1142.93</td>\n",
              "      <td>0.344389</td>\n",
              "      <td>1128.799072</td>\n",
              "      <td>0.007990</td>\n",
              "      <td>1</td>\n",
              "      <td>1</td>\n",
              "    </tr>\n",
              "    <tr>\n",
              "      <th>1165</th>\n",
              "      <td>2019-03-12</td>\n",
              "      <td>0.028661</td>\n",
              "      <td>0.903106</td>\n",
              "      <td>0.068232</td>\n",
              "      <td>1</td>\n",
              "      <td>1163.26</td>\n",
              "      <td>0.362436</td>\n",
              "      <td>1134.657471</td>\n",
              "      <td>0.005190</td>\n",
              "      <td>1</td>\n",
              "      <td>1</td>\n",
              "    </tr>\n",
              "    <tr>\n",
              "      <th>1166</th>\n",
              "      <td>2019-03-13</td>\n",
              "      <td>0.392964</td>\n",
              "      <td>0.571056</td>\n",
              "      <td>0.035980</td>\n",
              "      <td>0</td>\n",
              "      <td>1150.10</td>\n",
              "      <td>0.350754</td>\n",
              "      <td>1152.586426</td>\n",
              "      <td>0.015801</td>\n",
              "      <td>1</td>\n",
              "      <td>0</td>\n",
              "    </tr>\n",
              "    <tr>\n",
              "      <th>1167</th>\n",
              "      <td>2019-03-14</td>\n",
              "      <td>0.010558</td>\n",
              "      <td>0.957324</td>\n",
              "      <td>0.032118</td>\n",
              "      <td>1</td>\n",
              "      <td>1155.50</td>\n",
              "      <td>0.355547</td>\n",
              "      <td>1155.774170</td>\n",
              "      <td>0.002766</td>\n",
              "      <td>1</td>\n",
              "      <td>1</td>\n",
              "    </tr>\n",
              "    <tr>\n",
              "      <th>1168</th>\n",
              "      <td>2019-03-17</td>\n",
              "      <td>0.744405</td>\n",
              "      <td>0.219185</td>\n",
              "      <td>0.036410</td>\n",
              "      <td>1</td>\n",
              "      <td>1161.45</td>\n",
              "      <td>0.360830</td>\n",
              "      <td>1150.883911</td>\n",
              "      <td>-0.004231</td>\n",
              "      <td>0</td>\n",
              "      <td>1</td>\n",
              "    </tr>\n",
              "  </tbody>\n",
              "</table>\n",
              "</div>"
            ],
            "text/plain": [
              "            date       neg       neu  ...  pred_change  pred_target  real_target\n",
              "1119  2019-01-03  0.010275  0.830949  ...     0.000000            0            0\n",
              "1120  2019-01-06  0.333411  0.545923  ...    -0.002075            0            0\n",
              "1121  2019-01-07  0.334487  0.650366  ...    -0.004486            0            1\n",
              "1122  2019-01-08  0.640127  0.333816  ...    -0.001890            0            0\n",
              "1123  2019-01-09  0.263334  0.475368  ...     0.003125            1            1\n",
              "1124  2019-01-10  0.084497  0.827201  ...     0.001182            1            1\n",
              "1125  2019-01-13  0.348266  0.622583  ...     0.000667            1            0\n",
              "1126  2019-01-14  0.113484  0.594510  ...    -0.000303            0            1\n",
              "1127  2019-01-15  0.011055  0.698354  ...     0.003718            1            1\n",
              "1128  2019-01-16  0.001010  0.971302  ...     0.008021            1            0\n",
              "1129  2019-01-17  0.094189  0.668621  ...    -0.000106            0            0\n",
              "1130  2019-01-20  0.508493  0.401097  ...    -0.002167            0            0\n",
              "1131  2019-01-21  0.006699  0.874661  ...    -0.004284            0            0\n",
              "1132  2019-01-22  0.007246  0.928420  ...    -0.010737            0            1\n",
              "1133  2019-01-23  0.643595  0.315041  ...    -0.002341            0            1\n",
              "1134  2019-01-24  0.044392  0.899035  ...     0.002175            1            0\n",
              "1135  2019-01-27  0.160179  0.767148  ...    -0.001146            0            0\n",
              "1136  2019-01-28  0.616516  0.259826  ...    -0.001808            0            1\n",
              "1137  2019-01-29  0.021798  0.651460  ...    -0.003114            0            0\n",
              "1138  2019-01-30  0.484423  0.503640  ...    -0.003297            0            0\n",
              "1139  2019-01-31  0.301267  0.683930  ...     0.000111            1            1\n",
              "1140  2019-02-03  0.360070  0.483913  ...    -0.001073            0            0\n",
              "1141  2019-02-04  0.258720  0.363212  ...    -0.001829            0            0\n",
              "1142  2019-02-05  0.011370  0.984885  ...    -0.007128            0            1\n",
              "1143  2019-02-06  0.450710  0.511032  ...    -0.005288            0            0\n",
              "1144  2019-02-07  0.499393  0.497098  ...     0.000354            1            0\n",
              "1145  2019-02-10  0.072885  0.692726  ...    -0.003751            0            0\n",
              "1146  2019-02-11  0.161305  0.634375  ...    -0.005677            0            1\n",
              "1147  2019-02-12  0.507910  0.484454  ...    -0.003718            0            0\n",
              "1148  2019-02-13  0.248477  0.426121  ...    -0.000202            0            0\n",
              "1149  2019-02-14  0.496852  0.500107  ...    -0.004436            0            0\n",
              "1150  2019-02-17  0.257794  0.712376  ...    -0.006729            0            0\n",
              "1151  2019-02-18  0.260123  0.699344  ...    -0.006017            0            0\n",
              "1152  2019-02-19  0.003830  0.613349  ...    -0.002750            0            1\n",
              "1153  2019-02-20  0.075871  0.799729  ...     0.007818            1            0\n",
              "1154  2019-02-21  0.126079  0.543468  ...     0.004465            1            1\n",
              "1155  2019-02-24  0.136983  0.671853  ...    -0.005122            0            0\n",
              "1156  2019-02-25  0.009378  0.505478  ...    -0.004076            0            1\n",
              "1157  2019-02-26  0.000827  0.929125  ...    -0.001751            0            0\n",
              "1158  2019-02-27  0.391708  0.564680  ...    -0.002207            0            1\n",
              "1159  2019-03-03  0.980058  0.016252  ...     0.001763            1            0\n",
              "1160  2019-03-05  0.001072  0.942504  ...    -0.002951            0            1\n",
              "1161  2019-03-06  0.004171  0.083197  ...    -0.001880            0            1\n",
              "1162  2019-03-07  0.011471  0.826649  ...     0.006946            1            1\n",
              "1163  2019-03-10  0.124243  0.563443  ...     0.010004            1            1\n",
              "1164  2019-03-11  0.002249  0.963411  ...     0.007990            1            1\n",
              "1165  2019-03-12  0.028661  0.903106  ...     0.005190            1            1\n",
              "1166  2019-03-13  0.392964  0.571056  ...     0.015801            1            0\n",
              "1167  2019-03-14  0.010558  0.957324  ...     0.002766            1            1\n",
              "1168  2019-03-17  0.744405  0.219185  ...    -0.004231            0            1\n",
              "\n",
              "[50 rows x 11 columns]"
            ]
          },
          "metadata": {
            "tags": []
          },
          "execution_count": 543
        }
      ]
    },
    {
      "cell_type": "code",
      "metadata": {
        "id": "7Xjd6-xpFuqG"
      },
      "source": [
        ""
      ],
      "execution_count": 401,
      "outputs": []
    },
    {
      "cell_type": "code",
      "metadata": {
        "id": "_IlNqZVbChOl"
      },
      "source": [
        ""
      ],
      "execution_count": 402,
      "outputs": []
    },
    {
      "cell_type": "code",
      "metadata": {
        "id": "rjFDrA-iHb8H"
      },
      "source": [
        ""
      ],
      "execution_count": 413,
      "outputs": []
    },
    {
      "cell_type": "code",
      "metadata": {
        "id": "b7Bi-fKWHgpF"
      },
      "source": [
        ""
      ],
      "execution_count": 415,
      "outputs": []
    },
    {
      "cell_type": "code",
      "metadata": {
        "id": "yPerlLL-Fnfa"
      },
      "source": [
        ""
      ],
      "execution_count": 416,
      "outputs": []
    },
    {
      "cell_type": "code",
      "metadata": {
        "id": "l281xGzeFoOu"
      },
      "source": [
        "train_val = series_to_supervised(train_df[['index_scaled']], 1, 1)\n",
        "valid_val = series_to_supervised(validation_df[['index_scaled']], 1, 1)\n",
        "test_val = series_to_supervised(test_df[['index_scaled']], 1, 1)"
      ],
      "execution_count": 463,
      "outputs": []
    },
    {
      "cell_type": "code",
      "metadata": {
        "id": "rJNoMpDcGj53"
      },
      "source": [
        ""
      ],
      "execution_count": null,
      "outputs": []
    },
    {
      "cell_type": "code",
      "metadata": {
        "id": "o1CZk6oWKndx"
      },
      "source": [
        "xtr, ytr = train_val.values[:, :-1], train_val.values[:, -1]\n",
        "xval, yval = valid_val.values[:, :-1], valid_val.values[:, -1]\n",
        "xtest, ytest = test_val.values[:, :-1], test_val.values[:, -1]"
      ],
      "execution_count": 464,
      "outputs": []
    },
    {
      "cell_type": "code",
      "metadata": {
        "id": "AWzYiiJjKneF"
      },
      "source": [
        "xtr = xtr.reshape((xtr.shape[0], 1, xtr.shape[1]))\n",
        "xval = xval.reshape((xval.shape[0], 1, xval.shape[1]))\n",
        "xtest = xtest.reshape((xtest.shape[0], 1, xtest.shape[1]))\n"
      ],
      "execution_count": 465,
      "outputs": []
    },
    {
      "cell_type": "code",
      "metadata": {
        "colab": {
          "base_uri": "https://localhost:8080/"
        },
        "id": "pZlFeqLrKneG",
        "outputId": "5842191d-a568-42ea-eaad-b936e1c10829"
      },
      "source": [
        "xtr.shape, ytr.shape, xval.shape, xtest.shape"
      ],
      "execution_count": 466,
      "outputs": [
        {
          "output_type": "execute_result",
          "data": {
            "text/plain": [
              "((880, 1, 1), (880,), (235, 1, 1), (120, 1, 1))"
            ]
          },
          "metadata": {
            "tags": []
          },
          "execution_count": 466
        }
      ]
    },
    {
      "cell_type": "code",
      "metadata": {
        "id": "ISuRwcS5KneH"
      },
      "source": [
        "#Defining our metric\n",
        "import tensorflow.keras.backend as K\n",
        "def root_mean_squared_error(y_true, y_pred):\n",
        "    return K.sqrt(K.mean(K.square(y_pred - y_true)))"
      ],
      "execution_count": 467,
      "outputs": []
    },
    {
      "cell_type": "code",
      "metadata": {
        "colab": {
          "base_uri": "https://localhost:8080/",
          "height": 1000
        },
        "id": "fsysnNlEKneH",
        "outputId": "bbde641a-ac05-47a9-c938-e90b69938754"
      },
      "source": [
        "model = Sequential()\n",
        "\n",
        "# model.add(LSTM(96, input_shape=(xtr.shape[1], xtr.shape[2]), activation='tanh', return_sequences=True))\n",
        "# model.add(Dropout(0.25))\n",
        "# model.add(GlobalMaxPool1D())\n",
        "# model.add(Dense(128, activation='linear'))\n",
        "# model.add(Dropout(0.25))\n",
        "model.add(\n",
        "    LSTM(188, input_shape=(xtr.shape[1], xtr.shape[2]), activation='tanh', return_sequences=False)\n",
        "    )\n",
        "# model.add(\n",
        "#     LSTM(96,activation='tanh')\n",
        "#     )\n",
        "model.add(Dense(128))\n",
        "# model.add(Dense(64))\n",
        "\n",
        "model.add(Dense(1))\n",
        "model.compile(optimizer='adam', loss= root_mean_squared_error)\n",
        "# fit network\n",
        "history = model.fit(xtr, ytr, epochs=30, batch_size=64,verbose=1, validation_data=(xval, yval))\n",
        "plt.figure(figsize=(12,7))\n",
        "plt.plot(scaler.inverse_transform(model.predict(xtest)), color='green', label='PREDICTION')\n",
        "plt.plot(scaler.inverse_transform(ytest.reshape(-1, 1)), color='orange', label = 'ORIGINAL')\n",
        "plt.legend()\n",
        "\n",
        "from math import sqrt\n",
        "from sklearn.metrics import mean_squared_error\n",
        "\n",
        "RMSE_LSTM = sqrt(mean_squared_error(test_df.iloc[1:]['index'].values, scaler.inverse_transform(model.predict(xtest))))\n",
        "print(f\"RMSE_LSTM = {RMSE_LSTM}\")"
      ],
      "execution_count": 468,
      "outputs": [
        {
          "output_type": "stream",
          "text": [
            "Epoch 1/30\n",
            "14/14 [==============================] - 2s 33ms/step - loss: 0.4169 - val_loss: 0.1004\n",
            "Epoch 2/30\n",
            "14/14 [==============================] - 0s 6ms/step - loss: 0.1555 - val_loss: 0.0389\n",
            "Epoch 3/30\n",
            "14/14 [==============================] - 0s 6ms/step - loss: 0.0649 - val_loss: 0.0186\n",
            "Epoch 4/30\n",
            "14/14 [==============================] - 0s 6ms/step - loss: 0.0270 - val_loss: 0.0126\n",
            "Epoch 5/30\n",
            "14/14 [==============================] - 0s 6ms/step - loss: 0.0183 - val_loss: 0.0124\n",
            "Epoch 6/30\n",
            "14/14 [==============================] - 0s 5ms/step - loss: 0.0149 - val_loss: 0.0122\n",
            "Epoch 7/30\n",
            "14/14 [==============================] - 0s 6ms/step - loss: 0.0146 - val_loss: 0.0127\n",
            "Epoch 8/30\n",
            "14/14 [==============================] - 0s 6ms/step - loss: 0.0138 - val_loss: 0.0145\n",
            "Epoch 9/30\n",
            "14/14 [==============================] - 0s 6ms/step - loss: 0.0153 - val_loss: 0.0131\n",
            "Epoch 10/30\n",
            "14/14 [==============================] - 0s 5ms/step - loss: 0.0156 - val_loss: 0.0122\n",
            "Epoch 11/30\n",
            "14/14 [==============================] - 0s 6ms/step - loss: 0.0145 - val_loss: 0.0124\n",
            "Epoch 12/30\n",
            "14/14 [==============================] - 0s 6ms/step - loss: 0.0156 - val_loss: 0.0148\n",
            "Epoch 13/30\n",
            "14/14 [==============================] - 0s 5ms/step - loss: 0.0147 - val_loss: 0.0122\n",
            "Epoch 14/30\n",
            "14/14 [==============================] - 0s 6ms/step - loss: 0.0138 - val_loss: 0.0122\n",
            "Epoch 15/30\n",
            "14/14 [==============================] - 0s 5ms/step - loss: 0.0149 - val_loss: 0.0125\n",
            "Epoch 16/30\n",
            "14/14 [==============================] - 0s 6ms/step - loss: 0.0146 - val_loss: 0.0161\n",
            "Epoch 17/30\n",
            "14/14 [==============================] - 0s 5ms/step - loss: 0.0147 - val_loss: 0.0142\n",
            "Epoch 18/30\n",
            "14/14 [==============================] - 0s 5ms/step - loss: 0.0145 - val_loss: 0.0136\n",
            "Epoch 19/30\n",
            "14/14 [==============================] - 0s 5ms/step - loss: 0.0160 - val_loss: 0.0157\n",
            "Epoch 20/30\n",
            "14/14 [==============================] - 0s 5ms/step - loss: 0.0153 - val_loss: 0.0136\n",
            "Epoch 21/30\n",
            "14/14 [==============================] - 0s 5ms/step - loss: 0.0147 - val_loss: 0.0122\n",
            "Epoch 22/30\n",
            "14/14 [==============================] - 0s 6ms/step - loss: 0.0138 - val_loss: 0.0143\n",
            "Epoch 23/30\n",
            "14/14 [==============================] - 0s 6ms/step - loss: 0.0148 - val_loss: 0.0127\n",
            "Epoch 24/30\n",
            "14/14 [==============================] - 0s 5ms/step - loss: 0.0141 - val_loss: 0.0123\n",
            "Epoch 25/30\n",
            "14/14 [==============================] - 0s 6ms/step - loss: 0.0145 - val_loss: 0.0183\n",
            "Epoch 26/30\n",
            "14/14 [==============================] - 0s 5ms/step - loss: 0.0161 - val_loss: 0.0145\n",
            "Epoch 27/30\n",
            "14/14 [==============================] - 0s 6ms/step - loss: 0.0148 - val_loss: 0.0126\n",
            "Epoch 28/30\n",
            "14/14 [==============================] - 0s 6ms/step - loss: 0.0142 - val_loss: 0.0136\n",
            "Epoch 29/30\n",
            "14/14 [==============================] - 0s 6ms/step - loss: 0.0139 - val_loss: 0.0122\n",
            "Epoch 30/30\n",
            "14/14 [==============================] - 0s 6ms/step - loss: 0.0149 - val_loss: 0.0149\n",
            "RMSE_LSTM = 12.163154921926377\n"
          ],
          "name": "stdout"
        },
        {
          "output_type": "display_data",
          "data": {
            "image/png": "[encoded data removed]",
            "text/plain": [
              "<Figure size 864x504 with 1 Axes>"
            ]
          },
          "metadata": {
            "tags": [],
            "needs_background": "light"
          }
        }
      ]
    },
    {
      "cell_type": "code",
      "metadata": {
        "id": "JZ5Yr-dvGHvB"
      },
      "source": [
        ""
      ],
      "execution_count": 376,
      "outputs": []
    },
    {
      "cell_type": "code",
      "metadata": {
        "id": "9_z9E98LK0ye"
      },
      "source": [
        "a = test_df.iloc[1:]\n",
        "b = scaler.inverse_transform(model.predict(xtest))"
      ],
      "execution_count": 469,
      "outputs": []
    },
    {
      "cell_type": "code",
      "metadata": {
        "colab": {
          "base_uri": "https://localhost:8080/"
        },
        "id": "pZZmilCTK0yg",
        "outputId": "16b5014a-2c2a-43e1-87cb-40d8ce55ff48"
      },
      "source": [
        "a['preds'] = b\n",
        "a['pred_change'] = a['preds'].pct_change()\n",
        "a.fillna(0, inplace=True)\n",
        "a['pred_target'] = np.where(a['pred_change'] <= 0 , 0, 1)\n",
        "t_df = pd.read_csv('/content/final_indices.csv')\n",
        "t_df = t_df[t_df['date'] > '2018-12-31']\n",
        "a['real_target'] = t_df.iloc[1:]['target']\n",
        "accuracy_score(a.real_target, a.pred_target)"
      ],
      "execution_count": 470,
      "outputs": [
        {
          "output_type": "execute_result",
          "data": {
            "text/plain": [
              "0.525"
            ]
          },
          "metadata": {
            "tags": []
          },
          "execution_count": 470
        }
      ]
    },
    {
      "cell_type": "code",
      "metadata": {
        "id": "hp3pEtPMGR-E"
      },
      "source": [
        ""
      ],
      "execution_count": null,
      "outputs": []
    }
  ]
}