{
  "nbformat": 4,
  "nbformat_minor": 0,
  "metadata": {
    "colab": {
      "name": "scratchpad",
      "provenance": [],
      "machine_shape": "hm",
      "include_colab_link": true
    },
    "kernelspec": {
      "display_name": "Python 3",
      "name": "python3"
    },
    "accelerator": "GPU"
  },
  "cells": [
    {
      "cell_type": "markdown",
      "metadata": {
        "id": "view-in-github",
        "colab_type": "text"
      },
      "source": [
        "<a href=\"https://colab.research.google.com/github/pratik-poudel/financial_news_stock/blob/master/glove_embeddings.ipynb\" target=\"_parent\"><img src=\"https://colab.research.google.com/assets/colab-badge.svg\" alt=\"Open In Colab\"/></a>"
      ]
    },
    {
      "cell_type": "code",
      "metadata": {
        "id": "0jGP6ocnmwnZ",
        "outputId": "bf186e04-3b14-4e37-c59a-6476fa49fef6",
        "colab": {
          "base_uri": "https://localhost:8080/"
        }
      },
      "source": [
        "!pip install mlxtend --upgrade"
      ],
      "execution_count": 1,
      "outputs": [
        {
          "output_type": "stream",
          "text": [
            "Collecting mlxtend\n",
            "\u001b[?25l  Downloading https://files.pythonhosted.org/packages/86/30/781c0b962a70848db83339567ecab656638c62f05adb064cb33c0ae49244/mlxtend-0.18.0-py2.py3-none-any.whl (1.3MB)\n",
            "\r\u001b[K     |▎                               | 10kB 25.2MB/s eta 0:00:01\r\u001b[K     |▌                               | 20kB 14.3MB/s eta 0:00:01\r\u001b[K     |▊                               | 30kB 9.4MB/s eta 0:00:01\r\u001b[K     |█                               | 40kB 7.9MB/s eta 0:00:01\r\u001b[K     |█▏                              | 51kB 4.3MB/s eta 0:00:01\r\u001b[K     |█▌                              | 61kB 4.9MB/s eta 0:00:01\r\u001b[K     |█▊                              | 71kB 5.0MB/s eta 0:00:01\r\u001b[K     |██                              | 81kB 5.3MB/s eta 0:00:01\r\u001b[K     |██▏                             | 92kB 5.7MB/s eta 0:00:01\r\u001b[K     |██▍                             | 102kB 5.8MB/s eta 0:00:01\r\u001b[K     |██▊                             | 112kB 5.8MB/s eta 0:00:01\r\u001b[K     |███                             | 122kB 5.8MB/s eta 0:00:01\r\u001b[K     |███▏                            | 133kB 5.8MB/s eta 0:00:01\r\u001b[K     |███▍                            | 143kB 5.8MB/s eta 0:00:01\r\u001b[K     |███▋                            | 153kB 5.8MB/s eta 0:00:01\r\u001b[K     |████                            | 163kB 5.8MB/s eta 0:00:01\r\u001b[K     |████▏                           | 174kB 5.8MB/s eta 0:00:01\r\u001b[K     |████▍                           | 184kB 5.8MB/s eta 0:00:01\r\u001b[K     |████▋                           | 194kB 5.8MB/s eta 0:00:01\r\u001b[K     |████▉                           | 204kB 5.8MB/s eta 0:00:01\r\u001b[K     |█████▏                          | 215kB 5.8MB/s eta 0:00:01\r\u001b[K     |█████▍                          | 225kB 5.8MB/s eta 0:00:01\r\u001b[K     |█████▋                          | 235kB 5.8MB/s eta 0:00:01\r\u001b[K     |█████▉                          | 245kB 5.8MB/s eta 0:00:01\r\u001b[K     |██████                          | 256kB 5.8MB/s eta 0:00:01\r\u001b[K     |██████▎                         | 266kB 5.8MB/s eta 0:00:01\r\u001b[K     |██████▋                         | 276kB 5.8MB/s eta 0:00:01\r\u001b[K     |██████▉                         | 286kB 5.8MB/s eta 0:00:01\r\u001b[K     |███████                         | 296kB 5.8MB/s eta 0:00:01\r\u001b[K     |███████▎                        | 307kB 5.8MB/s eta 0:00:01\r\u001b[K     |███████▌                        | 317kB 5.8MB/s eta 0:00:01\r\u001b[K     |███████▉                        | 327kB 5.8MB/s eta 0:00:01\r\u001b[K     |████████                        | 337kB 5.8MB/s eta 0:00:01\r\u001b[K     |████████▎                       | 348kB 5.8MB/s eta 0:00:01\r\u001b[K     |████████▌                       | 358kB 5.8MB/s eta 0:00:01\r\u001b[K     |████████▊                       | 368kB 5.8MB/s eta 0:00:01\r\u001b[K     |█████████                       | 378kB 5.8MB/s eta 0:00:01\r\u001b[K     |█████████▎                      | 389kB 5.8MB/s eta 0:00:01\r\u001b[K     |█████████▌                      | 399kB 5.8MB/s eta 0:00:01\r\u001b[K     |█████████▊                      | 409kB 5.8MB/s eta 0:00:01\r\u001b[K     |██████████                      | 419kB 5.8MB/s eta 0:00:01\r\u001b[K     |██████████▎                     | 430kB 5.8MB/s eta 0:00:01\r\u001b[K     |██████████▌                     | 440kB 5.8MB/s eta 0:00:01\r\u001b[K     |██████████▊                     | 450kB 5.8MB/s eta 0:00:01\r\u001b[K     |███████████                     | 460kB 5.8MB/s eta 0:00:01\r\u001b[K     |███████████▏                    | 471kB 5.8MB/s eta 0:00:01\r\u001b[K     |███████████▌                    | 481kB 5.8MB/s eta 0:00:01\r\u001b[K     |███████████▊                    | 491kB 5.8MB/s eta 0:00:01\r\u001b[K     |████████████                    | 501kB 5.8MB/s eta 0:00:01\r\u001b[K     |████████████▏                   | 512kB 5.8MB/s eta 0:00:01\r\u001b[K     |████████████▍                   | 522kB 5.8MB/s eta 0:00:01\r\u001b[K     |████████████▋                   | 532kB 5.8MB/s eta 0:00:01\r\u001b[K     |█████████████                   | 542kB 5.8MB/s eta 0:00:01\r\u001b[K     |█████████████▏                  | 552kB 5.8MB/s eta 0:00:01\r\u001b[K     |█████████████▍                  | 563kB 5.8MB/s eta 0:00:01\r\u001b[K     |█████████████▋                  | 573kB 5.8MB/s eta 0:00:01\r\u001b[K     |█████████████▉                  | 583kB 5.8MB/s eta 0:00:01\r\u001b[K     |██████████████▏                 | 593kB 5.8MB/s eta 0:00:01\r\u001b[K     |██████████████▍                 | 604kB 5.8MB/s eta 0:00:01\r\u001b[K     |██████████████▋                 | 614kB 5.8MB/s eta 0:00:01\r\u001b[K     |██████████████▉                 | 624kB 5.8MB/s eta 0:00:01\r\u001b[K     |███████████████                 | 634kB 5.8MB/s eta 0:00:01\r\u001b[K     |███████████████▍                | 645kB 5.8MB/s eta 0:00:01\r\u001b[K     |███████████████▋                | 655kB 5.8MB/s eta 0:00:01\r\u001b[K     |███████████████▉                | 665kB 5.8MB/s eta 0:00:01\r\u001b[K     |████████████████                | 675kB 5.8MB/s eta 0:00:01\r\u001b[K     |████████████████▎               | 686kB 5.8MB/s eta 0:00:01\r\u001b[K     |████████████████▋               | 696kB 5.8MB/s eta 0:00:01\r\u001b[K     |████████████████▉               | 706kB 5.8MB/s eta 0:00:01\r\u001b[K     |█████████████████               | 716kB 5.8MB/s eta 0:00:01\r\u001b[K     |█████████████████▎              | 727kB 5.8MB/s eta 0:00:01\r\u001b[K     |█████████████████▌              | 737kB 5.8MB/s eta 0:00:01\r\u001b[K     |█████████████████▊              | 747kB 5.8MB/s eta 0:00:01\r\u001b[K     |██████████████████              | 757kB 5.8MB/s eta 0:00:01\r\u001b[K     |██████████████████▎             | 768kB 5.8MB/s eta 0:00:01\r\u001b[K     |██████████████████▌             | 778kB 5.8MB/s eta 0:00:01\r\u001b[K     |██████████████████▊             | 788kB 5.8MB/s eta 0:00:01\r\u001b[K     |███████████████████             | 798kB 5.8MB/s eta 0:00:01\r\u001b[K     |███████████████████▎            | 808kB 5.8MB/s eta 0:00:01\r\u001b[K     |███████████████████▌            | 819kB 5.8MB/s eta 0:00:01\r\u001b[K     |███████████████████▊            | 829kB 5.8MB/s eta 0:00:01\r\u001b[K     |████████████████████            | 839kB 5.8MB/s eta 0:00:01\r\u001b[K     |████████████████████▏           | 849kB 5.8MB/s eta 0:00:01\r\u001b[K     |████████████████████▌           | 860kB 5.8MB/s eta 0:00:01\r\u001b[K     |████████████████████▊           | 870kB 5.8MB/s eta 0:00:01\r\u001b[K     |█████████████████████           | 880kB 5.8MB/s eta 0:00:01\r\u001b[K     |█████████████████████▏          | 890kB 5.8MB/s eta 0:00:01\r\u001b[K     |█████████████████████▍          | 901kB 5.8MB/s eta 0:00:01\r\u001b[K     |█████████████████████▊          | 911kB 5.8MB/s eta 0:00:01\r\u001b[K     |██████████████████████          | 921kB 5.8MB/s eta 0:00:01\r\u001b[K     |██████████████████████▏         | 931kB 5.8MB/s eta 0:00:01\r\u001b[K     |██████████████████████▍         | 942kB 5.8MB/s eta 0:00:01\r\u001b[K     |██████████████████████▋         | 952kB 5.8MB/s eta 0:00:01\r\u001b[K     |███████████████████████         | 962kB 5.8MB/s eta 0:00:01\r\u001b[K     |███████████████████████▏        | 972kB 5.8MB/s eta 0:00:01\r\u001b[K     |███████████████████████▍        | 983kB 5.8MB/s eta 0:00:01\r\u001b[K     |███████████████████████▋        | 993kB 5.8MB/s eta 0:00:01\r\u001b[K     |███████████████████████▉        | 1.0MB 5.8MB/s eta 0:00:01\r\u001b[K     |████████████████████████        | 1.0MB 5.8MB/s eta 0:00:01\r\u001b[K     |████████████████████████▍       | 1.0MB 5.8MB/s eta 0:00:01\r\u001b[K     |████████████████████████▋       | 1.0MB 5.8MB/s eta 0:00:01\r\u001b[K     |████████████████████████▉       | 1.0MB 5.8MB/s eta 0:00:01\r\u001b[K     |█████████████████████████       | 1.1MB 5.8MB/s eta 0:00:01\r\u001b[K     |█████████████████████████▎      | 1.1MB 5.8MB/s eta 0:00:01\r\u001b[K     |█████████████████████████▋      | 1.1MB 5.8MB/s eta 0:00:01\r\u001b[K     |█████████████████████████▉      | 1.1MB 5.8MB/s eta 0:00:01\r\u001b[K     |██████████████████████████      | 1.1MB 5.8MB/s eta 0:00:01\r\u001b[K     |██████████████████████████▎     | 1.1MB 5.8MB/s eta 0:00:01\r\u001b[K     |██████████████████████████▌     | 1.1MB 5.8MB/s eta 0:00:01\r\u001b[K     |██████████████████████████▉     | 1.1MB 5.8MB/s eta 0:00:01\r\u001b[K     |███████████████████████████     | 1.1MB 5.8MB/s eta 0:00:01\r\u001b[K     |███████████████████████████▎    | 1.1MB 5.8MB/s eta 0:00:01\r\u001b[K     |███████████████████████████▌    | 1.2MB 5.8MB/s eta 0:00:01\r\u001b[K     |███████████████████████████▊    | 1.2MB 5.8MB/s eta 0:00:01\r\u001b[K     |████████████████████████████    | 1.2MB 5.8MB/s eta 0:00:01\r\u001b[K     |████████████████████████████▎   | 1.2MB 5.8MB/s eta 0:00:01\r\u001b[K     |████████████████████████████▌   | 1.2MB 5.8MB/s eta 0:00:01\r\u001b[K     |████████████████████████████▊   | 1.2MB 5.8MB/s eta 0:00:01\r\u001b[K     |█████████████████████████████   | 1.2MB 5.8MB/s eta 0:00:01\r\u001b[K     |█████████████████████████████▏  | 1.2MB 5.8MB/s eta 0:00:01\r\u001b[K     |█████████████████████████████▌  | 1.2MB 5.8MB/s eta 0:00:01\r\u001b[K     |█████████████████████████████▊  | 1.2MB 5.8MB/s eta 0:00:01\r\u001b[K     |██████████████████████████████  | 1.3MB 5.8MB/s eta 0:00:01\r\u001b[K     |██████████████████████████████▏ | 1.3MB 5.8MB/s eta 0:00:01\r\u001b[K     |██████████████████████████████▍ | 1.3MB 5.8MB/s eta 0:00:01\r\u001b[K     |██████████████████████████████▊ | 1.3MB 5.8MB/s eta 0:00:01\r\u001b[K     |███████████████████████████████ | 1.3MB 5.8MB/s eta 0:00:01\r\u001b[K     |███████████████████████████████▏| 1.3MB 5.8MB/s eta 0:00:01\r\u001b[K     |███████████████████████████████▍| 1.3MB 5.8MB/s eta 0:00:01\r\u001b[K     |███████████████████████████████▋| 1.3MB 5.8MB/s eta 0:00:01\r\u001b[K     |████████████████████████████████| 1.3MB 5.8MB/s eta 0:00:01\r\u001b[K     |████████████████████████████████| 1.4MB 5.8MB/s \n",
            "\u001b[?25hRequirement already satisfied, skipping upgrade: pandas>=0.24.2 in /usr/local/lib/python3.7/dist-packages (from mlxtend) (1.1.5)\n",
            "Requirement already satisfied, skipping upgrade: scikit-learn>=0.20.3 in /usr/local/lib/python3.7/dist-packages (from mlxtend) (0.22.2.post1)\n",
            "Requirement already satisfied, skipping upgrade: setuptools in /usr/local/lib/python3.7/dist-packages (from mlxtend) (54.0.0)\n",
            "Requirement already satisfied, skipping upgrade: matplotlib>=3.0.0 in /usr/local/lib/python3.7/dist-packages (from mlxtend) (3.2.2)\n",
            "Requirement already satisfied, skipping upgrade: numpy>=1.16.2 in /usr/local/lib/python3.7/dist-packages (from mlxtend) (1.19.5)\n",
            "Requirement already satisfied, skipping upgrade: scipy>=1.2.1 in /usr/local/lib/python3.7/dist-packages (from mlxtend) (1.4.1)\n",
            "Requirement already satisfied, skipping upgrade: joblib>=0.13.2 in /usr/local/lib/python3.7/dist-packages (from mlxtend) (1.0.1)\n",
            "Requirement already satisfied, skipping upgrade: python-dateutil>=2.7.3 in /usr/local/lib/python3.7/dist-packages (from pandas>=0.24.2->mlxtend) (2.8.1)\n",
            "Requirement already satisfied, skipping upgrade: pytz>=2017.2 in /usr/local/lib/python3.7/dist-packages (from pandas>=0.24.2->mlxtend) (2018.9)\n",
            "Requirement already satisfied, skipping upgrade: pyparsing!=2.0.4,!=2.1.2,!=2.1.6,>=2.0.1 in /usr/local/lib/python3.7/dist-packages (from matplotlib>=3.0.0->mlxtend) (2.4.7)\n",
            "Requirement already satisfied, skipping upgrade: kiwisolver>=1.0.1 in /usr/local/lib/python3.7/dist-packages (from matplotlib>=3.0.0->mlxtend) (1.3.1)\n",
            "Requirement already satisfied, skipping upgrade: cycler>=0.10 in /usr/local/lib/python3.7/dist-packages (from matplotlib>=3.0.0->mlxtend) (0.10.0)\n",
            "Requirement already satisfied, skipping upgrade: six>=1.5 in /usr/local/lib/python3.7/dist-packages (from python-dateutil>=2.7.3->pandas>=0.24.2->mlxtend) (1.15.0)\n",
            "Installing collected packages: mlxtend\n",
            "  Found existing installation: mlxtend 0.14.0\n",
            "    Uninstalling mlxtend-0.14.0:\n",
            "      Successfully uninstalled mlxtend-0.14.0\n",
            "Successfully installed mlxtend-0.18.0\n"
          ],
          "name": "stdout"
        }
      ]
    },
    {
      "cell_type": "code",
      "metadata": {
        "id": "lIYdn1woOS1n"
      },
      "source": [
        "import numpy as np\n",
        "import pandas as pd\n",
        "import matplotlib.pyplot as plt\n",
        "\n",
        "\n",
        "\n",
        "import tensorflow as tf\n",
        "import tensorflow_datasets as tfds\n",
        "\n",
        "from tensorflow.keras.preprocessing.text import Tokenizer\n",
        "from tensorflow.keras.preprocessing.sequence import pad_sequences\n",
        "\n",
        "from tensorflow.keras.models import Sequential\n",
        "from tensorflow.keras.layers import Embedding, Dropout, Bidirectional,LSTM, GlobalMaxPool1D, Dense\n",
        "from tensorflow.keras.utils import to_categorical, plot_model\n",
        "\n",
        "\n",
        "from sklearn.model_selection import train_test_split\n",
        "from sklearn.preprocessing import LabelEncoder\n",
        "from sklearn.metrics import confusion_matrix, roc_curve, roc_auc_score, accuracy_score,precision_recall_fscore_support\n",
        "from sklearn.utils import resample, shuffle\n",
        "\n",
        "\n",
        "from mlxtend.plotting import plot_confusion_matrix\n",
        "import warnings \n",
        "warnings.filterwarnings('ignore')"
      ],
      "execution_count": 577,
      "outputs": []
    },
    {
      "cell_type": "markdown",
      "metadata": {
        "id": "dUTvPQ9vRok2"
      },
      "source": [
        "# Financial Phrase Bank "
      ]
    },
    {
      "cell_type": "code",
      "metadata": {
        "id": "4u2s5DZARoL6"
      },
      "source": [
        "fin_data = pd.read_table('/content/Sentences_50Agree.txt', delimiter='\\r\\n')"
      ],
      "execution_count": 578,
      "outputs": []
    },
    {
      "cell_type": "code",
      "metadata": {
        "id": "OQdubjqSRoIp"
      },
      "source": [
        "values = np.array([fin_data.values[i][0].split('@') for i in range(fin_data.shape[0])])\n",
        "data = pd.DataFrame({'sentence': values[:, 0], 'sentiment':values[:, 1]})"
      ],
      "execution_count": 579,
      "outputs": []
    },
    {
      "cell_type": "code",
      "metadata": {
        "id": "slCvtjgNRoFN",
        "colab": {
          "base_uri": "https://localhost:8080/",
          "height": 111
        },
        "outputId": "7b69bf48-d1ee-4fca-c352-cdbbb464dc23"
      },
      "source": [
        "data.head(2)"
      ],
      "execution_count": 580,
      "outputs": [
        {
          "output_type": "execute_result",
          "data": {
            "text/html": [
              "<div>\n",
              "<style scoped>\n",
              "    .dataframe tbody tr th:only-of-type {\n",
              "        vertical-align: middle;\n",
              "    }\n",
              "\n",
              "    .dataframe tbody tr th {\n",
              "        vertical-align: top;\n",
              "    }\n",
              "\n",
              "    .dataframe thead th {\n",
              "        text-align: right;\n",
              "    }\n",
              "</style>\n",
              "<table border=\"1\" class=\"dataframe\">\n",
              "  <thead>\n",
              "    <tr style=\"text-align: right;\">\n",
              "      <th></th>\n",
              "      <th>sentence</th>\n",
              "      <th>sentiment</th>\n",
              "    </tr>\n",
              "  </thead>\n",
              "  <tbody>\n",
              "    <tr>\n",
              "      <th>0</th>\n",
              "      <td>Technopolis plans to develop in stages an area...</td>\n",
              "      <td>neutral</td>\n",
              "    </tr>\n",
              "    <tr>\n",
              "      <th>1</th>\n",
              "      <td>The international electronic industry company ...</td>\n",
              "      <td>negative</td>\n",
              "    </tr>\n",
              "  </tbody>\n",
              "</table>\n",
              "</div>"
            ],
            "text/plain": [
              "                                            sentence sentiment\n",
              "0  Technopolis plans to develop in stages an area...   neutral\n",
              "1  The international electronic industry company ...  negative"
            ]
          },
          "metadata": {
            "tags": []
          },
          "execution_count": 580
        }
      ]
    },
    {
      "cell_type": "code",
      "metadata": {
        "id": "8cUSOhJCRoBo",
        "colab": {
          "base_uri": "https://localhost:8080/",
          "height": 302
        },
        "outputId": "5b7f5f64-e376-47cc-e39c-3dfe5048ad13"
      },
      "source": [
        "data['sentiment'].value_counts().plot(kind='bar')\n",
        "plt.show()"
      ],
      "execution_count": 581,
      "outputs": [
        {
          "output_type": "display_data",
          "data": {
            "image/png": "[encoded data removed]",
            "text/plain": [
              "<Figure size 432x288 with 1 Axes>"
            ]
          },
          "metadata": {
            "tags": [],
            "needs_background": "light"
          }
        }
      ]
    },
    {
      "cell_type": "code",
      "metadata": {
        "id": "fxyIdicGpwZS"
      },
      "source": [
        "X= data.sentence\n",
        "y = data.sentiment\n",
        "\n",
        "X_train, X_test, y_train, y_test = train_test_split(X, y, stratify=y, random_state=60, test_size=0.2)"
      ],
      "execution_count": 582,
      "outputs": []
    },
    {
      "cell_type": "code",
      "metadata": {
        "id": "Kju4Yok6Vzyw",
        "outputId": "5fb93b75-7461-409e-8157-e336ddaff391",
        "colab": {
          "base_uri": "https://localhost:8080/"
        }
      },
      "source": [
        "X_train.shape, X_test.shape, X.shape"
      ],
      "execution_count": 583,
      "outputs": [
        {
          "output_type": "execute_result",
          "data": {
            "text/plain": [
              "((3876,), (969,), (4845,))"
            ]
          },
          "metadata": {
            "tags": []
          },
          "execution_count": 583
        }
      ]
    },
    {
      "cell_type": "code",
      "metadata": {
        "id": "NyWPP77F9k1I"
      },
      "source": [
        "neu_index = y_train[y_train == 'neutral'].index\n",
        "pos_index = y_train[y_train == 'positive'].index\n",
        "neg_index = y_train[y_train == 'negative'].index"
      ],
      "execution_count": 584,
      "outputs": []
    },
    {
      "cell_type": "code",
      "metadata": {
        "id": "ODCDkrzN9nCL"
      },
      "source": [
        "\n",
        "# Down-sample neutral class\n",
        "X_train_neu, y_train_neu = resample(X_train.loc[neu_index], y_train.loc[neu_index],\n",
        "                                    n_samples=len(pos_index), replace=False,\n",
        "                                    random_state=60)\n",
        "\n",
        "# Up-sample negative class\n",
        "X_train_neg, y_train_neg = resample(X_train.loc[neg_index], y_train.loc[neg_index],\n",
        "                                    n_samples=len(pos_index), replace=True,\n",
        "                                    random_state=60)"
      ],
      "execution_count": 585,
      "outputs": []
    },
    {
      "cell_type": "code",
      "metadata": {
        "id": "44cl_AYp9m_H",
        "outputId": "26bd6d5d-cd2f-47c1-be3d-0382618d5581",
        "colab": {
          "base_uri": "https://localhost:8080/"
        }
      },
      "source": [
        "# Combine resampled classes\n",
        "X_train_resample = X_train.loc[pos_index].append([X_train_neu, X_train_neg])\n",
        "y_train_resample = y_train.loc[pos_index].append([y_train_neu, y_train_neg])\n",
        "\n",
        "# Shuffle samples\n",
        "X_train_resample, y_train_resample = shuffle(X_train_resample, y_train_resample, random_state=7)\n",
        "\n",
        "# Display new class counts\n",
        "print(y_train_resample.value_counts())"
      ],
      "execution_count": 600,
      "outputs": [
        {
          "output_type": "stream",
          "text": [
            "positive    1090\n",
            "negative    1090\n",
            "neutral     1090\n",
            "Name: sentiment, dtype: int64\n"
          ],
          "name": "stdout"
        }
      ]
    },
    {
      "cell_type": "code",
      "metadata": {
        "id": "sbN46l-L9m70"
      },
      "source": [
        ""
      ],
      "execution_count": null,
      "outputs": []
    },
    {
      "cell_type": "code",
      "metadata": {
        "id": "aDoDb2Nq9m4J"
      },
      "source": [
        ""
      ],
      "execution_count": null,
      "outputs": []
    },
    {
      "cell_type": "markdown",
      "metadata": {
        "id": "CbxLax-jWVoy"
      },
      "source": [
        "# Prepare Data for model"
      ]
    },
    {
      "cell_type": "code",
      "metadata": {
        "id": "o7UChC8JWgIq"
      },
      "source": [
        "# Remove Punctuation and assign integer to each word\n",
        "tokenizer = Tokenizer()\n",
        "tokenizer.fit_on_texts(X_train_resample)\n",
        "X_train_seq = tokenizer.texts_to_sequences(X_train_resample)\n",
        "X_test_seq = tokenizer.texts_to_sequences(X_test)"
      ],
      "execution_count": 587,
      "outputs": []
    },
    {
      "cell_type": "code",
      "metadata": {
        "id": "WfblAUy2WgI7"
      },
      "source": [
        "# Make sequences of equal length \n",
        "max_len = np.max([len(X_train_seq[i]) for i in range(len(X_train_seq))])\n",
        "X_train_seq = pad_sequences(X_train_seq, maxlen=max_len)\n",
        "X_test_seq = pad_sequences(X_test_seq, maxlen=max_len)"
      ],
      "execution_count": 588,
      "outputs": []
    },
    {
      "cell_type": "code",
      "metadata": {
        "colab": {
          "base_uri": "https://localhost:8080/"
        },
        "id": "9TCWLyfvWgI8",
        "outputId": "96dacf07-497b-4404-bb18-39fdb4204da0"
      },
      "source": [
        "max_len"
      ],
      "execution_count": 589,
      "outputs": [
        {
          "output_type": "execute_result",
          "data": {
            "text/plain": [
              "71"
            ]
          },
          "metadata": {
            "tags": []
          },
          "execution_count": 589
        }
      ]
    },
    {
      "cell_type": "code",
      "metadata": {
        "id": "uAwMS-K-WgI-"
      },
      "source": [
        "# Convert sentiment values to one hot encoded for Keras model\n",
        "le = LabelEncoder()\n",
        "le.fit(y_train)\n",
        "y_train_seq = to_categorical(le.transform(y_train_resample))\n",
        "y_test_seq = to_categorical(le.transform(y_test))"
      ],
      "execution_count": 601,
      "outputs": []
    },
    {
      "cell_type": "code",
      "metadata": {
        "id": "1cY_gk6L9_0r"
      },
      "source": [
        ""
      ],
      "execution_count": null,
      "outputs": []
    },
    {
      "cell_type": "markdown",
      "metadata": {
        "id": "-i0nraavVn0q"
      },
      "source": [
        "# EMBEDDINGS"
      ]
    },
    {
      "cell_type": "code",
      "metadata": {
        "id": "m-sKHgtlVhyG"
      },
      "source": [
        "# !wget http://nlp.stanford.edu/data/glove.6B.zip\n",
        "# !unzip glove.6B.zip"
      ],
      "execution_count": 481,
      "outputs": []
    },
    {
      "cell_type": "code",
      "metadata": {
        "id": "OgVf4Ta6Wl9n"
      },
      "source": [
        "dict_w2v = {}\n",
        "with open('/content/glove.6B.100d.txt', 'r') as file:\n",
        "    for line in file:\n",
        "        tokens = line.split()\n",
        "        word = tokens[0]\n",
        "        vector = np.array(tokens[1:], dtype=np.float32)\n",
        "        if vector.shape[0] == 100:\n",
        "            dict_w2v[word] = vector\n",
        "        else:\n",
        "            print(\"There is issue with \" + word)"
      ],
      "execution_count": 591,
      "outputs": []
    },
    {
      "cell_type": "code",
      "metadata": {
        "id": "EldWTnWtWl61",
        "outputId": "3797bd9f-1b51-458a-ce10-13e440f17560",
        "colab": {
          "base_uri": "https://localhost:8080/"
        }
      },
      "source": [
        "print(\"dictionary size :\" ,len(dict_w2v) )"
      ],
      "execution_count": 593,
      "outputs": [
        {
          "output_type": "stream",
          "text": [
            "dictionary size : 400000\n"
          ],
          "name": "stdout"
        }
      ]
    },
    {
      "cell_type": "code",
      "metadata": {
        "id": "O1IKoy3EWl3_",
        "outputId": "00503994-f8a4-42e1-fde0-5356dd3923a6",
        "colab": {
          "base_uri": "https://localhost:8080/"
        }
      },
      "source": [
        "words_found = set()\n",
        "words_not_found = set()\n",
        "for word in tokenizer.word_index:\n",
        "    vec = dict_w2v.get(word)\n",
        "    if vec is not None:\n",
        "        words_found.add(word)\n",
        "    else:\n",
        "        words_not_found.add(word)\n",
        "len(words_found), len(words_not_found), len(tokenizer.word_index)"
      ],
      "execution_count": 594,
      "outputs": [
        {
          "output_type": "execute_result",
          "data": {
            "text/plain": [
              "(6187, 918, 7105)"
            ]
          },
          "metadata": {
            "tags": []
          },
          "execution_count": 594
        }
      ]
    },
    {
      "cell_type": "code",
      "metadata": {
        "id": "8zDycGo2jsF5"
      },
      "source": [
        "EMBEDDING_DIM = 100\n",
        "VOCAB_SIZE = len(tokenizer.word_index)\n",
        "embedding_matrix = np.zeros((VOCAB_SIZE +1, EMBEDDING_DIM))"
      ],
      "execution_count": 595,
      "outputs": []
    },
    {
      "cell_type": "code",
      "metadata": {
        "id": "P1ZAm1Kdjr-I",
        "outputId": "09a23b5a-c035-470d-f079-2eaf7ed07de8",
        "colab": {
          "base_uri": "https://localhost:8080/"
        }
      },
      "source": [
        "unk_cnt = 0\n",
        "unk_set = set()\n",
        "for word, i in tokenizer.word_index.items():\n",
        "    emb_vector = dict_w2v.get(word)\n",
        "    if emb_vector is not None:\n",
        "        embedding_matrix[i] = emb_vector\n",
        "    else:\n",
        "        unk_cnt += 1\n",
        "        unk_set.add(word)\n",
        "unk_cnt"
      ],
      "execution_count": 596,
      "outputs": [
        {
          "output_type": "execute_result",
          "data": {
            "text/plain": [
              "918"
            ]
          },
          "metadata": {
            "tags": []
          },
          "execution_count": 596
        }
      ]
    },
    {
      "cell_type": "code",
      "metadata": {
        "id": "snkNNeOXgsEd",
        "outputId": "c2f3fe4d-ed6b-44ed-d500-92c53e7ffcbe",
        "colab": {
          "base_uri": "https://localhost:8080/"
        }
      },
      "source": [
        "X_train_seq.shape, y_train_seq.shape"
      ],
      "execution_count": 599,
      "outputs": [
        {
          "output_type": "execute_result",
          "data": {
            "text/plain": [
              "((3270, 71), (3876, 3))"
            ]
          },
          "metadata": {
            "tags": []
          },
          "execution_count": 599
        }
      ]
    },
    {
      "cell_type": "code",
      "metadata": {
        "id": "6llz2rAam3BI",
        "outputId": "ab54ad24-8766-4ff6-86ce-b452efe336db",
        "colab": {
          "base_uri": "https://localhost:8080/",
          "height": 1000
        }
      },
      "source": [
        "model = Sequential()\n",
        "model.add(Embedding(VOCAB_SIZE +1, EMBEDDING_DIM, weights=[embedding_matrix],input_length=max_len, trainable=False))\n",
        "model.add(Dropout(0.25))\n",
        "model.add(Bidirectional(LSTM(200, return_sequences=True), merge_mode='concat')) #{\"sum\", \"mul\", \"ave\", \"concat\", None}\n",
        "model.add(Dropout(0.25))\n",
        "model.add(GlobalMaxPool1D())\n",
        "model.add(Dense(50, activation='sigmoid'))\n",
        "model.add(Dropout(0.25))\n",
        "model.add(Dense(3, activation='softmax'))\n",
        "model.compile(loss='categorical_crossentropy', optimizer='rmsprop', metrics=[ 'Precision', 'Recall', 'accuracy'])\n",
        "# model.summary()\n",
        "\n",
        "batch_size = 64\n",
        "epochs = 20\n",
        "\n",
        "model.fit(X_train_seq, y_train_seq,validation_data=(X_test_seq, y_test_seq), \n",
        "          batch_size=batch_size, verbose=1, epochs=epochs, shuffle=True)\n",
        "\n",
        "preds = model.predict(X_test_seq, batch_size=batch_size)\n",
        "true_y = np.argmax(y_test_seq, axis=1)\n",
        "pred_y = np.argmax(preds, axis=1)\n",
        "\n",
        "c_mat = confusion_matrix(true_y, pred_y)\n",
        "plot_confusion_matrix(c_mat, cmap='Blues', class_names = le.classes_, figsize=(5, 5))\n",
        "plt.show()\n",
        "\n",
        "p, r, f1, s = precision_recall_fscore_support(true_y, pred_y, average=None)\n",
        "\n",
        "# Print precision, recall, f1 score and support\n",
        "results = pd.DataFrame({'1-Precision': p, '2-Recall': r, '3-F1 score': f1, '4-Support': s}, index=le.classes_)\n",
        "\n",
        "# Print precision, recall, f1 score and support\n",
        "print(results.round(decimals=3))"
      ],
      "execution_count": 604,
      "outputs": [
        {
          "output_type": "stream",
          "text": [
            "Epoch 1/20\n",
            "52/52 [==============================] - 4s 33ms/step - loss: 1.1300 - precision: 0.4158 - recall: 0.1821 - accuracy: 0.3884 - val_loss: 1.0928 - val_precision: 0.3925 - val_recall: 0.1073 - val_accuracy: 0.3426\n",
            "Epoch 2/20\n",
            "52/52 [==============================] - 1s 18ms/step - loss: 0.9174 - precision: 0.5966 - recall: 0.3878 - accuracy: 0.5523 - val_loss: 1.0883 - val_precision: 0.4626 - val_recall: 0.2683 - val_accuracy: 0.4479\n",
            "Epoch 3/20\n",
            "52/52 [==============================] - 1s 17ms/step - loss: 0.8099 - precision: 0.6600 - recall: 0.5268 - accuracy: 0.6228 - val_loss: 0.6976 - val_precision: 0.7151 - val_recall: 0.6295 - val_accuracy: 0.6791\n",
            "Epoch 4/20\n",
            "52/52 [==============================] - 1s 17ms/step - loss: 0.7570 - precision: 0.6787 - recall: 0.5739 - accuracy: 0.6480 - val_loss: 0.7461 - val_precision: 0.7153 - val_recall: 0.6429 - val_accuracy: 0.6760\n",
            "Epoch 5/20\n",
            "52/52 [==============================] - 1s 17ms/step - loss: 0.7083 - precision: 0.7204 - recall: 0.6299 - accuracy: 0.6832 - val_loss: 0.6243 - val_precision: 0.7472 - val_recall: 0.6863 - val_accuracy: 0.7193\n",
            "Epoch 6/20\n",
            "52/52 [==============================] - 1s 17ms/step - loss: 0.6889 - precision: 0.7087 - recall: 0.6420 - accuracy: 0.6828 - val_loss: 0.6232 - val_precision: 0.7451 - val_recall: 0.7059 - val_accuracy: 0.7286\n",
            "Epoch 7/20\n",
            "52/52 [==============================] - 1s 17ms/step - loss: 0.6334 - precision: 0.7453 - recall: 0.6780 - accuracy: 0.7220 - val_loss: 0.6691 - val_precision: 0.7282 - val_recall: 0.6997 - val_accuracy: 0.7172\n",
            "Epoch 8/20\n",
            "52/52 [==============================] - 1s 17ms/step - loss: 0.6036 - precision: 0.7573 - recall: 0.7128 - accuracy: 0.7411 - val_loss: 0.5988 - val_precision: 0.7648 - val_recall: 0.7183 - val_accuracy: 0.7410\n",
            "Epoch 9/20\n",
            "52/52 [==============================] - 1s 17ms/step - loss: 0.5473 - precision: 0.7871 - recall: 0.7488 - accuracy: 0.7683 - val_loss: 0.7788 - val_precision: 0.6214 - val_recall: 0.5944 - val_accuracy: 0.6130\n",
            "Epoch 10/20\n",
            "52/52 [==============================] - 1s 17ms/step - loss: 0.4924 - precision: 0.8059 - recall: 0.7731 - accuracy: 0.7890 - val_loss: 0.7471 - val_precision: 0.6998 - val_recall: 0.6615 - val_accuracy: 0.6863\n",
            "Epoch 11/20\n",
            "52/52 [==============================] - 1s 17ms/step - loss: 0.4980 - precision: 0.8036 - recall: 0.7752 - accuracy: 0.7936 - val_loss: 0.7465 - val_precision: 0.7164 - val_recall: 0.6935 - val_accuracy: 0.7079\n",
            "Epoch 12/20\n",
            "52/52 [==============================] - 1s 17ms/step - loss: 0.4749 - precision: 0.8163 - recall: 0.7921 - accuracy: 0.8060 - val_loss: 0.6262 - val_precision: 0.7580 - val_recall: 0.7368 - val_accuracy: 0.7513\n",
            "Epoch 13/20\n",
            "52/52 [==============================] - 1s 17ms/step - loss: 0.4002 - precision: 0.8528 - recall: 0.8285 - accuracy: 0.8432 - val_loss: 0.8812 - val_precision: 0.5704 - val_recall: 0.5521 - val_accuracy: 0.5624\n",
            "Epoch 14/20\n",
            "52/52 [==============================] - 1s 17ms/step - loss: 0.3972 - precision: 0.8557 - recall: 0.8338 - accuracy: 0.8462 - val_loss: 1.4096 - val_precision: 0.4642 - val_recall: 0.4551 - val_accuracy: 0.4644\n",
            "Epoch 15/20\n",
            "52/52 [==============================] - 1s 17ms/step - loss: 0.3922 - precision: 0.8519 - recall: 0.8265 - accuracy: 0.8388 - val_loss: 0.7505 - val_precision: 0.7304 - val_recall: 0.7100 - val_accuracy: 0.7214\n",
            "Epoch 16/20\n",
            "52/52 [==============================] - 1s 17ms/step - loss: 0.3695 - precision: 0.8594 - recall: 0.8402 - accuracy: 0.8517 - val_loss: 0.6629 - val_precision: 0.7447 - val_recall: 0.7286 - val_accuracy: 0.7410\n",
            "Epoch 17/20\n",
            "52/52 [==============================] - 1s 17ms/step - loss: 0.3101 - precision: 0.8881 - recall: 0.8769 - accuracy: 0.8841 - val_loss: 0.6909 - val_precision: 0.7356 - val_recall: 0.7121 - val_accuracy: 0.7307\n",
            "Epoch 18/20\n",
            "52/52 [==============================] - 1s 17ms/step - loss: 0.3024 - precision: 0.8865 - recall: 0.8724 - accuracy: 0.8789 - val_loss: 0.6753 - val_precision: 0.7335 - val_recall: 0.7100 - val_accuracy: 0.7296\n",
            "Epoch 19/20\n",
            "52/52 [==============================] - 1s 18ms/step - loss: 0.2846 - precision: 0.8996 - recall: 0.8900 - accuracy: 0.8952 - val_loss: 0.6925 - val_precision: 0.7692 - val_recall: 0.7534 - val_accuracy: 0.7585\n",
            "Epoch 20/20\n",
            "52/52 [==============================] - 1s 17ms/step - loss: 0.3005 - precision: 0.8916 - recall: 0.8847 - accuracy: 0.8897 - val_loss: 0.6838 - val_precision: 0.7508 - val_recall: 0.7307 - val_accuracy: 0.7410\n"
          ],
          "name": "stdout"
        },
        {
          "output_type": "display_data",
          "data": {
            "image/png": "[encoded data removed]",
            "text/plain": [
              "<Figure size 360x360 with 1 Axes>"
            ]
          },
          "metadata": {
            "tags": [],
            "needs_background": "light"
          }
        },
        {
          "output_type": "stream",
          "text": [
            "          1-Precision  2-Recall  3-F1 score  4-Support\n",
            "negative        0.582     0.736       0.650        121\n",
            "neutral         0.872     0.734       0.797        575\n",
            "positive        0.623     0.758       0.684        273\n"
          ],
          "name": "stdout"
        }
      ]
    },
    {
      "cell_type": "code",
      "metadata": {
        "id": "-8amjV87o5BN"
      },
      "source": [
        ""
      ],
      "execution_count": 502,
      "outputs": []
    },
    {
      "cell_type": "code",
      "metadata": {
        "id": "q_VAZZdwo4-W"
      },
      "source": [
        ""
      ],
      "execution_count": null,
      "outputs": []
    },
    {
      "cell_type": "markdown",
      "metadata": {
        "id": "6JpcNCqoY2hN"
      },
      "source": [
        "# Representation of News in embeddings"
      ]
    },
    {
      "cell_type": "code",
      "metadata": {
        "id": "e-AZChonY8Yz"
      },
      "source": [
        "indices = pd.read_csv('/content/Nepse Indices - Sheet1.csv', header=1)\n",
        "indices.columns= ['no_name', 'date', 'index', 'abs_change', 'pct_change']\n",
        "indices['date'] = pd.to_datetime(indices['date'])\n",
        "indices = indices[indices['date'] < '2019-07-06']"
      ],
      "execution_count": 89,
      "outputs": []
    },
    {
      "cell_type": "code",
      "metadata": {
        "id": "DzSpiH9DY8Y0"
      },
      "source": [
        "news_df = pd.read_csv('/content/years_combined_df.csv')\n",
        "news_df['date'] = pd.to_datetime(news_df['date'])\n",
        "news_df = news_df[news_df['date'] >= '2014-02-02']\n",
        "news_df.reset_index(drop=True, inplace=True)"
      ],
      "execution_count": 90,
      "outputs": []
    },
    {
      "cell_type": "code",
      "metadata": {
        "id": "FwLrRojWY8Y1"
      },
      "source": [
        "news_df = news_df[news_df['date'].isin(indices['date'])].reset_index(drop=True)\n",
        "indices = indices[indices['date'].isin(news_df['date'])].reset_index(drop=True)\n",
        "indices['pct_change'] = indices['pct_change'].str.replace('%', '').astype(float)"
      ],
      "execution_count": 91,
      "outputs": []
    },
    {
      "cell_type": "code",
      "metadata": {
        "id": "ziqtWCBCi6b4",
        "outputId": "4930823b-123c-461f-fa53-d275c9c66cef",
        "colab": {
          "base_uri": "https://localhost:8080/",
          "height": 49
        }
      },
      "source": [
        "news_df[news_df['content'].str.contains('-')]"
      ],
      "execution_count": 119,
      "outputs": [
        {
          "output_type": "execute_result",
          "data": {
            "text/html": [
              "<div>\n",
              "<style scoped>\n",
              "    .dataframe tbody tr th:only-of-type {\n",
              "        vertical-align: middle;\n",
              "    }\n",
              "\n",
              "    .dataframe tbody tr th {\n",
              "        vertical-align: top;\n",
              "    }\n",
              "\n",
              "    .dataframe thead th {\n",
              "        text-align: right;\n",
              "    }\n",
              "</style>\n",
              "<table border=\"1\" class=\"dataframe\">\n",
              "  <thead>\n",
              "    <tr style=\"text-align: right;\">\n",
              "      <th></th>\n",
              "      <th>title</th>\n",
              "      <th>content</th>\n",
              "      <th>author</th>\n",
              "      <th>date</th>\n",
              "    </tr>\n",
              "  </thead>\n",
              "  <tbody>\n",
              "  </tbody>\n",
              "</table>\n",
              "</div>"
            ],
            "text/plain": [
              "Empty DataFrame\n",
              "Columns: [title, content, author, date]\n",
              "Index: []"
            ]
          },
          "metadata": {
            "tags": []
          },
          "execution_count": 119
        }
      ]
    },
    {
      "cell_type": "code",
      "metadata": {
        "id": "tXQHvJcDhPv_"
      },
      "source": [
        "def clean_text(x):\n",
        "\n",
        "    x = str(x)\n",
        "    for punct in \"/-'\":\n",
        "        x = x.replace(punct, ' ')\n",
        "    # for punct in '&':\n",
        "    #     x = x.replace(punct, f' {punct} ')\n",
        "    for punct in '?!.,\"#$%\\'()*+-/:;<=>@[\\\\]^_`{|}~' + '“”’':\n",
        "        x = x.replace(punct, '')\n",
        "    for punct in \"-\":\n",
        "        x = x.replace(punct, ' ')\n",
        "    return x"
      ],
      "execution_count": 104,
      "outputs": []
    },
    {
      "cell_type": "code",
      "metadata": {
        "id": "Sfc0RetxhQ6V"
      },
      "source": [
        "news_df['content'] = news_df['content'].apply(lambda x: clean_text(x))"
      ],
      "execution_count": 105,
      "outputs": []
    },
    {
      "cell_type": "code",
      "metadata": {
        "id": "Y9gt4npJY8Y1"
      },
      "source": [
        "news_tokenizer = Tokenizer()\n",
        "news_tokenizer.fit_on_texts(news_df['content'])"
      ],
      "execution_count": 106,
      "outputs": []
    },
    {
      "cell_type": "code",
      "metadata": {
        "id": "5Ptbt2amWlyf"
      },
      "source": [
        "words_found = set()\n",
        "words_not_found = set()\n",
        "for word in news_tokenizer.word_index:\n",
        "    vec = dict_w2v.get(word)\n",
        "    if vec is not None:\n",
        "        words_found.add(word)\n",
        "    else:\n",
        "        words_not_found.add(word)"
      ],
      "execution_count": 107,
      "outputs": []
    },
    {
      "cell_type": "code",
      "metadata": {
        "id": "rVXi-nPFWlvp",
        "outputId": "13db4516-6857-4e10-b5d7-22eba2ee7742",
        "colab": {
          "base_uri": "https://localhost:8080/"
        }
      },
      "source": [
        "len(words_found), len(words_not_found), len(news_tokenizer.word_index)"
      ],
      "execution_count": 108,
      "outputs": [
        {
          "output_type": "execute_result",
          "data": {
            "text/plain": [
              "(10652, 2042, 12694)"
            ]
          },
          "metadata": {
            "tags": []
          },
          "execution_count": 108
        }
      ]
    },
    {
      "cell_type": "code",
      "metadata": {
        "id": "Gv2tXgeQe7dx",
        "outputId": "9777e118-c58f-49a7-b027-ac6a96028531",
        "colab": {
          "base_uri": "https://localhost:8080/"
        }
      },
      "source": [
        "len(words_found), len(words_not_found), len(news_tokenizer.word_index)"
      ],
      "execution_count": 97,
      "outputs": [
        {
          "output_type": "execute_result",
          "data": {
            "text/plain": [
              "(10652, 2042, 12694)"
            ]
          },
          "metadata": {
            "tags": []
          },
          "execution_count": 97
        }
      ]
    },
    {
      "cell_type": "markdown",
      "metadata": {
        "id": "tbCEJLolVh39"
      },
      "source": [
        "## BiLSTM Model"
      ]
    },
    {
      "cell_type": "markdown",
      "metadata": {
        "id": "1VAk_WnIafWo"
      },
      "source": [
        "### Preparing data to feed in model "
      ]
    },
    {
      "cell_type": "code",
      "metadata": {
        "id": "ye1kpQ_gTG1P"
      },
      "source": [
        "# Remove Punctuation and assign integer to each word\n",
        "tokenizer = Tokenizer()\n",
        "tokenizer.fit_on_texts(X_train)\n",
        "X_train = tokenizer.texts_to_sequences(X_train)\n",
        "X_test = tokenizer.texts_to_sequences(X_test)"
      ],
      "execution_count": null,
      "outputs": []
    },
    {
      "cell_type": "code",
      "metadata": {
        "id": "hNv-Ou_KTGvz"
      },
      "source": [
        "# Make sequences of equal length \n",
        "max_len = np.max([len(X_train[i]) for i in range(len(X_train))])\n",
        "X_train = pad_sequences(X_train, maxlen=max_len)\n",
        "X_test = pad_sequences(X_test, maxlen=max_len)"
      ],
      "execution_count": null,
      "outputs": []
    },
    {
      "cell_type": "code",
      "metadata": {
        "id": "5ntoUIYPTGtV",
        "colab": {
          "base_uri": "https://localhost:8080/"
        },
        "outputId": "3d4859c4-d74e-41b7-c62d-08ad3359278e"
      },
      "source": [
        "print(\"After padding 1st sample became \\n\", X_train[0])"
      ],
      "execution_count": null,
      "outputs": [
        {
          "output_type": "stream",
          "text": [
            "After padding 1st sample became \n",
            " [  0   0   0   0   0   0   0   0   0   0   0   0   0   0   0   0   0   0\n",
            "   0   0   0   0   0   0   0   0   0   0   0   0   0   0   0   0   0   0\n",
            "   0   0   1 520  48 659  16 445 274  12 521 160  10   1 660  84 275]\n"
          ],
          "name": "stdout"
        }
      ]
    },
    {
      "cell_type": "code",
      "metadata": {
        "id": "Hdi7s8SuTGqW"
      },
      "source": [
        "# Convert sentiment values to one hot encoded for Keras model\n",
        "le = LabelEncoder()\n",
        "le.fit(y_train)\n",
        "y_train = le.transform(y_train)\n",
        "y_test = le.transform(y_test)"
      ],
      "execution_count": null,
      "outputs": []
    },
    {
      "cell_type": "code",
      "metadata": {
        "id": "TFhgG4NSzsao",
        "colab": {
          "base_uri": "https://localhost:8080/"
        },
        "outputId": "5d869d67-a7aa-40f2-84f9-d0c06d4cf7b5"
      },
      "source": [
        "le.inverse_transform([0, 1])"
      ],
      "execution_count": null,
      "outputs": [
        {
          "output_type": "execute_result",
          "data": {
            "text/plain": [
              "array(['negative', 'positive'], dtype=object)"
            ]
          },
          "metadata": {
            "tags": []
          },
          "execution_count": 212
        }
      ]
    },
    {
      "cell_type": "markdown",
      "metadata": {
        "id": "S6Ey53FjaoUg"
      },
      "source": [
        "### Model Building"
      ]
    },
    {
      "cell_type": "code",
      "metadata": {
        "id": "JYWwM_r0ZpUV",
        "colab": {
          "base_uri": "https://localhost:8080/"
        },
        "outputId": "a1dc39c2-272a-40ad-f565-7f6d81bbaef3"
      },
      "source": [
        "EMBEDDING_DIM = 100\n",
        "VOCAB_SIZE = len(tokenizer.word_index)\n",
        "\n",
        "model = Sequential()\n",
        "model.add(Embedding(VOCAB_SIZE +1, EMBEDDING_DIM, input_length=max_len))\n",
        "model.add(Dropout(0.30))\n",
        "model.add(Bidirectional(LSTM(200, return_sequences=True), merge_mode='sum'))\n",
        "model.add(Dropout(0.3))\n",
        "model.add(GlobalMaxPool1D())\n",
        "model.add(Dense(16, activation='sigmoid'))\n",
        "model.add(Dropout(0.25))\n",
        "model.add(Dense(1, activation='sigmoid'))\n",
        "model.compile(loss='binary_crossentropy', optimizer='rmsprop', metrics=['accuracy', 'Precision', 'Recall'])\n",
        "model.summary()"
      ],
      "execution_count": null,
      "outputs": [
        {
          "output_type": "stream",
          "text": [
            "Model: \"sequential_14\"\n",
            "_________________________________________________________________\n",
            "Layer (type)                 Output Shape              Param #   \n",
            "=================================================================\n",
            "embedding_14 (Embedding)     (None, 53, 100)           215000    \n",
            "_________________________________________________________________\n",
            "dropout_40 (Dropout)         (None, 53, 100)           0         \n",
            "_________________________________________________________________\n",
            "bidirectional_13 (Bidirectio (None, 53, 200)           481600    \n",
            "_________________________________________________________________\n",
            "dropout_41 (Dropout)         (None, 53, 200)           0         \n",
            "_________________________________________________________________\n",
            "global_max_pooling1d_13 (Glo (None, 200)               0         \n",
            "_________________________________________________________________\n",
            "dense_26 (Dense)             (None, 16)                3216      \n",
            "_________________________________________________________________\n",
            "dropout_42 (Dropout)         (None, 16)                0         \n",
            "_________________________________________________________________\n",
            "dense_27 (Dense)             (None, 1)                 17        \n",
            "=================================================================\n",
            "Total params: 699,833\n",
            "Trainable params: 699,833\n",
            "Non-trainable params: 0\n",
            "_________________________________________________________________\n"
          ],
          "name": "stdout"
        }
      ]
    },
    {
      "cell_type": "code",
      "metadata": {
        "id": "6UQi70TeZpRz"
      },
      "source": [
        "# plot_model(model)"
      ],
      "execution_count": null,
      "outputs": []
    },
    {
      "cell_type": "code",
      "metadata": {
        "id": "eTw1msLfZpPN",
        "colab": {
          "base_uri": "https://localhost:8080/"
        },
        "outputId": "ae3649a3-b2b5-420d-9113-ecf5d240b394"
      },
      "source": [
        "#Train Model\n",
        "\n",
        "batch_size = 64\n",
        "epochs = 8\n",
        "model.fit(X_train, y_train, validation_data=(X_test, y_test), batch_size=batch_size, verbose=1, epochs=epochs, shuffle=True)"
      ],
      "execution_count": null,
      "outputs": [
        {
          "output_type": "stream",
          "text": [
            "Epoch 1/8\n",
            "14/14 [==============================] - 4s 82ms/step - loss: 0.7942 - accuracy: 0.4679 - precision: 0.4147 - recall: 0.3037 - val_loss: 0.7199 - val_accuracy: 0.3470 - val_precision: 0.0000e+00 - val_recall: 0.0000e+00\n",
            "Epoch 2/8\n",
            "14/14 [==============================] - 0s 20ms/step - loss: 0.6948 - accuracy: 0.5349 - precision: 0.5352 - recall: 0.5267 - val_loss: 0.6724 - val_accuracy: 0.7032 - val_precision: 0.6970 - val_recall: 0.9650\n",
            "Epoch 3/8\n",
            "14/14 [==============================] - 0s 20ms/step - loss: 0.6388 - accuracy: 0.6271 - precision: 0.6008 - recall: 0.8103 - val_loss: 0.7538 - val_accuracy: 0.6484 - val_precision: 0.8173 - val_recall: 0.5944\n",
            "Epoch 4/8\n",
            "14/14 [==============================] - 0s 20ms/step - loss: 0.5226 - accuracy: 0.8000 - precision: 0.8157 - recall: 0.7688 - val_loss: 0.5615 - val_accuracy: 0.7580 - val_precision: 0.7848 - val_recall: 0.8671\n",
            "Epoch 5/8\n",
            "14/14 [==============================] - 0s 21ms/step - loss: 0.3283 - accuracy: 0.9197 - precision: 0.9426 - recall: 0.8961 - val_loss: 0.5410 - val_accuracy: 0.7671 - val_precision: 0.7911 - val_recall: 0.8741\n",
            "Epoch 6/8\n",
            "14/14 [==============================] - 0s 21ms/step - loss: 0.2615 - accuracy: 0.9420 - precision: 0.9255 - recall: 0.9608 - val_loss: 0.6571 - val_accuracy: 0.7534 - val_precision: 0.8069 - val_recall: 0.8182\n",
            "Epoch 7/8\n",
            "14/14 [==============================] - 0s 21ms/step - loss: 0.2593 - accuracy: 0.9424 - precision: 0.9644 - recall: 0.9199 - val_loss: 0.5250 - val_accuracy: 0.7763 - val_precision: 0.7901 - val_recall: 0.8951\n",
            "Epoch 8/8\n",
            "14/14 [==============================] - 0s 21ms/step - loss: 0.1830 - accuracy: 0.9682 - precision: 0.9672 - recall: 0.9698 - val_loss: 0.5768 - val_accuracy: 0.8082 - val_precision: 0.8797 - val_recall: 0.8182\n"
          ],
          "name": "stdout"
        },
        {
          "output_type": "execute_result",
          "data": {
            "text/plain": [
              "<tensorflow.python.keras.callbacks.History at 0x7f03c9e67510>"
            ]
          },
          "metadata": {
            "tags": []
          },
          "execution_count": 376
        }
      ]
    },
    {
      "cell_type": "code",
      "metadata": {
        "id": "DpOVB_UyeK3w",
        "colab": {
          "base_uri": "https://localhost:8080/"
        },
        "outputId": "22f656da-0781-4675-dc09-33b9f6ab4ffa"
      },
      "source": [
        "test_loss, test_acc, test_precision, test_recall = model.evaluate(X_test, y_test, batch_size=batch_size, verbose=0)\n",
        "print(\"Testing auc : {:.2f}\".format(test_acc * 100))"
      ],
      "execution_count": null,
      "outputs": [
        {
          "output_type": "stream",
          "text": [
            "Testing auc : 80.82\n"
          ],
          "name": "stdout"
        }
      ]
    },
    {
      "cell_type": "code",
      "metadata": {
        "id": "kvfSrVPaeK1V"
      },
      "source": [
        "preds = model.predict(X_test, batch_size=batch_size)"
      ],
      "execution_count": null,
      "outputs": []
    },
    {
      "cell_type": "code",
      "metadata": {
        "id": "GezQypXbt-oO",
        "colab": {
          "base_uri": "https://localhost:8080/"
        },
        "outputId": "83c30143-771c-4d5b-9ac7-e38e7d9b0cc5"
      },
      "source": [
        "roc_auc_score(y_test, preds)"
      ],
      "execution_count": null,
      "outputs": [
        {
          "output_type": "execute_result",
          "data": {
            "text/plain": [
              "0.8353882959146118"
            ]
          },
          "metadata": {
            "tags": []
          },
          "execution_count": 379
        }
      ]
    },
    {
      "cell_type": "code",
      "metadata": {
        "id": "hmjRj9caeKtl",
        "colab": {
          "base_uri": "https://localhost:8080/",
          "height": 362
        },
        "outputId": "a718973e-b1ab-49ba-ce83-50f5a0c2bcb1"
      },
      "source": [
        "c_mat = confusion_matrix(y_test, np.round(preds))\n",
        "plot_confusion_matrix(c_mat, cmap='Blues', class_names = le.classes_, figsize=(5, 5))\n",
        "plt.show()"
      ],
      "execution_count": null,
      "outputs": [
        {
          "output_type": "display_data",
          "data": {
            "image/png": "[encoded data removed]",
            "text/plain": [
              "<Figure size 360x360 with 1 Axes>"
            ]
          },
          "metadata": {
            "tags": [],
            "needs_background": "light"
          }
        }
      ]
    },
    {
      "cell_type": "code",
      "metadata": {
        "id": "sjg6zmbFxS_O",
        "colab": {
          "base_uri": "https://localhost:8080/"
        },
        "outputId": "c38e2627-9feb-4a14-c606-c156c0e71ea2"
      },
      "source": [
        "# Precision, recall, f1 score and support\n",
        "# Precision, recall, f1 score and support\n",
        "p, r, f1, s = precision_recall_fscore_support(y_test, np.round(preds), average=None)\n",
        "\n",
        "# Print precision, recall, f1 score and support\n",
        "results = pd.DataFrame({'1-Precision': p, '2-Recall': r, '3-F1 score': f1, '4-Support': s}, index=le.classes_)\n",
        "\n",
        "# Print precision, recall, f1 score and support\n",
        "print(results.round(decimals=3))"
      ],
      "execution_count": null,
      "outputs": [
        {
          "output_type": "stream",
          "text": [
            "          1-Precision  2-Recall  3-F1 score  4-Support\n",
            "negative        0.698     0.789       0.741         76\n",
            "positive        0.880     0.818       0.848        143\n"
          ],
          "name": "stdout"
        }
      ]
    },
    {
      "cell_type": "markdown",
      "metadata": {
        "id": "1RzDfejkrMel"
      },
      "source": [
        "# Prepare NEPSE DATA"
      ]
    },
    {
      "cell_type": "code",
      "metadata": {
        "id": "FrMhQqlZn-C8"
      },
      "source": [
        "indices = pd.read_csv('/content/Nepse Indices - Sheet1.csv', header=1)\n",
        "indices.columns= ['no_name', 'date', 'index', 'abs_change', 'pct_change']\n",
        "indices['date'] = pd.to_datetime(indices['date'])\n",
        "indices = indices[indices['date'] < '2019-07-06']"
      ],
      "execution_count": 605,
      "outputs": []
    },
    {
      "cell_type": "code",
      "metadata": {
        "id": "qNsJ8_z0n98P"
      },
      "source": [
        "news_df = pd.read_csv('/content/years_combined_df.csv')\n",
        "news_df['date'] = pd.to_datetime(news_df['date'])\n",
        "news_df = news_df[news_df['date'] >= '2014-02-02']\n",
        "news_df.reset_index(drop=True, inplace=True)"
      ],
      "execution_count": 606,
      "outputs": []
    },
    {
      "cell_type": "code",
      "metadata": {
        "id": "Ov3F8cKM0wlh"
      },
      "source": [
        "news_df = news_df[news_df['date'].isin(indices['date'])].reset_index(drop=True)"
      ],
      "execution_count": 607,
      "outputs": []
    },
    {
      "cell_type": "code",
      "metadata": {
        "id": "4msgED4p3Bvt"
      },
      "source": [
        "indices = indices[indices['date'].isin(news_df['date'])].reset_index(drop=True)"
      ],
      "execution_count": 608,
      "outputs": []
    },
    {
      "cell_type": "code",
      "metadata": {
        "id": "Rn2s6qbL3h7u"
      },
      "source": [
        "indices['pct_change'] = indices['pct_change'].str.replace('%', '').astype(float)"
      ],
      "execution_count": 609,
      "outputs": []
    },
    {
      "cell_type": "code",
      "metadata": {
        "id": "dyuBqFhEn926"
      },
      "source": [
        "def prepare_and_predict_news(series, pad_max_len, batch_size):\n",
        "\n",
        "    news = tokenizer.texts_to_sequences(series)\n",
        "    news = pad_sequences(news, pad_max_len)\n",
        "    news = model.predict(news, batch_size=batch_size)\n",
        "    return news"
      ],
      "execution_count": 610,
      "outputs": []
    },
    {
      "cell_type": "code",
      "metadata": {
        "id": "XgJdhmIuz67w"
      },
      "source": [
        "news_sentiment = prepare_and_predict_news(news_df['content'], pad_max_len=max_len, batch_size=batch_size)\n",
        "# news_df['pred_glove_300'] = np.argmax(news_sentiment, axis=1)"
      ],
      "execution_count": 611,
      "outputs": []
    },
    {
      "cell_type": "code",
      "metadata": {
        "id": "5eU6ylQH3HG_",
        "outputId": "b070696b-024a-4b4f-efc7-c237f34c1dcc",
        "colab": {
          "base_uri": "https://localhost:8080/"
        }
      },
      "source": [
        "news_sentiment.shape"
      ],
      "execution_count": 612,
      "outputs": [
        {
          "output_type": "execute_result",
          "data": {
            "text/plain": [
              "(6307, 3)"
            ]
          },
          "metadata": {
            "tags": []
          },
          "execution_count": 612
        }
      ]
    },
    {
      "cell_type": "code",
      "metadata": {
        "id": "0tnByhjkruJW"
      },
      "source": [
        "news_sentiment_df = pd.DataFrame(news_sentiment, columns=['negative', 'neutral', 'positive'])"
      ],
      "execution_count": 613,
      "outputs": []
    },
    {
      "cell_type": "code",
      "metadata": {
        "id": "-oMq6pfs8oVm"
      },
      "source": [
        "final_df = pd.concat([news_df, news_sentiment_df], axis=1)"
      ],
      "execution_count": 614,
      "outputs": []
    },
    {
      "cell_type": "code",
      "metadata": {
        "id": "l4eAm1rI3j-S"
      },
      "source": [
        "indices['target'] = np.where(indices['pct_change'] < 0 , 0, 1)"
      ],
      "execution_count": 615,
      "outputs": []
    },
    {
      "cell_type": "code",
      "metadata": {
        "id": "ADr2-x4b3qVi",
        "outputId": "29a22d96-d4bd-45c9-e90f-935be73d04d6",
        "colab": {
          "base_uri": "https://localhost:8080/",
          "height": 419
        }
      },
      "source": [
        "indices"
      ],
      "execution_count": 616,
      "outputs": [
        {
          "output_type": "execute_result",
          "data": {
            "text/html": [
              "<div>\n",
              "<style scoped>\n",
              "    .dataframe tbody tr th:only-of-type {\n",
              "        vertical-align: middle;\n",
              "    }\n",
              "\n",
              "    .dataframe tbody tr th {\n",
              "        vertical-align: top;\n",
              "    }\n",
              "\n",
              "    .dataframe thead th {\n",
              "        text-align: right;\n",
              "    }\n",
              "</style>\n",
              "<table border=\"1\" class=\"dataframe\">\n",
              "  <thead>\n",
              "    <tr style=\"text-align: right;\">\n",
              "      <th></th>\n",
              "      <th>no_name</th>\n",
              "      <th>date</th>\n",
              "      <th>index</th>\n",
              "      <th>abs_change</th>\n",
              "      <th>pct_change</th>\n",
              "      <th>target</th>\n",
              "    </tr>\n",
              "  </thead>\n",
              "  <tbody>\n",
              "    <tr>\n",
              "      <th>0</th>\n",
              "      <td>1590</td>\n",
              "      <td>2014-02-02</td>\n",
              "      <td>775.92</td>\n",
              "      <td>-5.54</td>\n",
              "      <td>-0.70</td>\n",
              "      <td>0</td>\n",
              "    </tr>\n",
              "    <tr>\n",
              "      <th>1</th>\n",
              "      <td>1589</td>\n",
              "      <td>2014-02-03</td>\n",
              "      <td>769.51</td>\n",
              "      <td>-6.41</td>\n",
              "      <td>-0.83</td>\n",
              "      <td>0</td>\n",
              "    </tr>\n",
              "    <tr>\n",
              "      <th>2</th>\n",
              "      <td>1588</td>\n",
              "      <td>2014-02-04</td>\n",
              "      <td>774.91</td>\n",
              "      <td>5.40</td>\n",
              "      <td>0.70</td>\n",
              "      <td>1</td>\n",
              "    </tr>\n",
              "    <tr>\n",
              "      <th>3</th>\n",
              "      <td>1587</td>\n",
              "      <td>2014-02-05</td>\n",
              "      <td>781.38</td>\n",
              "      <td>6.47</td>\n",
              "      <td>0.83</td>\n",
              "      <td>1</td>\n",
              "    </tr>\n",
              "    <tr>\n",
              "      <th>4</th>\n",
              "      <td>1586</td>\n",
              "      <td>2014-02-06</td>\n",
              "      <td>785.78</td>\n",
              "      <td>4.40</td>\n",
              "      <td>0.56</td>\n",
              "      <td>1</td>\n",
              "    </tr>\n",
              "    <tr>\n",
              "      <th>...</th>\n",
              "      <td>...</td>\n",
              "      <td>...</td>\n",
              "      <td>...</td>\n",
              "      <td>...</td>\n",
              "      <td>...</td>\n",
              "      <td>...</td>\n",
              "    </tr>\n",
              "    <tr>\n",
              "      <th>1233</th>\n",
              "      <td>351</td>\n",
              "      <td>2019-06-24</td>\n",
              "      <td>1,260.10</td>\n",
              "      <td>5.75</td>\n",
              "      <td>0.46</td>\n",
              "      <td>1</td>\n",
              "    </tr>\n",
              "    <tr>\n",
              "      <th>1234</th>\n",
              "      <td>350</td>\n",
              "      <td>2019-06-25</td>\n",
              "      <td>1,261.07</td>\n",
              "      <td>0.96</td>\n",
              "      <td>0.08</td>\n",
              "      <td>1</td>\n",
              "    </tr>\n",
              "    <tr>\n",
              "      <th>1235</th>\n",
              "      <td>349</td>\n",
              "      <td>2019-06-26</td>\n",
              "      <td>1,258.29</td>\n",
              "      <td>-2.78</td>\n",
              "      <td>-0.22</td>\n",
              "      <td>0</td>\n",
              "    </tr>\n",
              "    <tr>\n",
              "      <th>1236</th>\n",
              "      <td>347</td>\n",
              "      <td>2019-06-30</td>\n",
              "      <td>1,244.89</td>\n",
              "      <td>-12.27</td>\n",
              "      <td>-0.98</td>\n",
              "      <td>0</td>\n",
              "    </tr>\n",
              "    <tr>\n",
              "      <th>1237</th>\n",
              "      <td>343</td>\n",
              "      <td>2019-07-04</td>\n",
              "      <td>1,260.47</td>\n",
              "      <td>-8.27</td>\n",
              "      <td>-0.65</td>\n",
              "      <td>0</td>\n",
              "    </tr>\n",
              "  </tbody>\n",
              "</table>\n",
              "<p>1238 rows × 6 columns</p>\n",
              "</div>"
            ],
            "text/plain": [
              "      no_name       date     index  abs_change  pct_change  target\n",
              "0        1590 2014-02-02    775.92       -5.54       -0.70       0\n",
              "1        1589 2014-02-03    769.51       -6.41       -0.83       0\n",
              "2        1588 2014-02-04    774.91        5.40        0.70       1\n",
              "3        1587 2014-02-05    781.38        6.47        0.83       1\n",
              "4        1586 2014-02-06    785.78        4.40        0.56       1\n",
              "...       ...        ...       ...         ...         ...     ...\n",
              "1233      351 2019-06-24  1,260.10        5.75        0.46       1\n",
              "1234      350 2019-06-25  1,261.07        0.96        0.08       1\n",
              "1235      349 2019-06-26  1,258.29       -2.78       -0.22       0\n",
              "1236      347 2019-06-30  1,244.89      -12.27       -0.98       0\n",
              "1237      343 2019-07-04  1,260.47       -8.27       -0.65       0\n",
              "\n",
              "[1238 rows x 6 columns]"
            ]
          },
          "metadata": {
            "tags": []
          },
          "execution_count": 616
        }
      ]
    },
    {
      "cell_type": "code",
      "metadata": {
        "id": "2cCNi-Jj3udI"
      },
      "source": [
        "df = pd.merge(news_df, indices, left_on='date', right_on='date')"
      ],
      "execution_count": 617,
      "outputs": []
    },
    {
      "cell_type": "code",
      "metadata": {
        "id": "_Ihaj7Wv3uaK"
      },
      "source": [
        "df= df[['date', 'content','pct_change', 'target']]"
      ],
      "execution_count": 618,
      "outputs": []
    },
    {
      "cell_type": "code",
      "metadata": {
        "id": "lbbFlna23uXU"
      },
      "source": [
        "df['sentiment'] = np.argmax(news_sentiment, axis=1)"
      ],
      "execution_count": 619,
      "outputs": []
    },
    {
      "cell_type": "code",
      "metadata": {
        "id": "KKwvSpgYhvbo",
        "outputId": "33527ef6-7dff-42c8-a52b-d1ffb280b8e5",
        "colab": {
          "base_uri": "https://localhost:8080/",
          "height": 419
        }
      },
      "source": [
        "df"
      ],
      "execution_count": 620,
      "outputs": [
        {
          "output_type": "execute_result",
          "data": {
            "text/html": [
              "<div>\n",
              "<style scoped>\n",
              "    .dataframe tbody tr th:only-of-type {\n",
              "        vertical-align: middle;\n",
              "    }\n",
              "\n",
              "    .dataframe tbody tr th {\n",
              "        vertical-align: top;\n",
              "    }\n",
              "\n",
              "    .dataframe thead th {\n",
              "        text-align: right;\n",
              "    }\n",
              "</style>\n",
              "<table border=\"1\" class=\"dataframe\">\n",
              "  <thead>\n",
              "    <tr style=\"text-align: right;\">\n",
              "      <th></th>\n",
              "      <th>date</th>\n",
              "      <th>content</th>\n",
              "      <th>pct_change</th>\n",
              "      <th>target</th>\n",
              "      <th>sentiment</th>\n",
              "    </tr>\n",
              "  </thead>\n",
              "  <tbody>\n",
              "    <tr>\n",
              "      <th>0</th>\n",
              "      <td>2014-02-02</td>\n",
              "      <td>Nepal Stock Exchange (Nepse) slid 2.22 points ...</td>\n",
              "      <td>-0.70</td>\n",
              "      <td>0</td>\n",
              "      <td>0</td>\n",
              "    </tr>\n",
              "    <tr>\n",
              "      <th>1</th>\n",
              "      <td>2014-02-02</td>\n",
              "      <td>Moffat Nyirenda is president of Round Table In...</td>\n",
              "      <td>-0.70</td>\n",
              "      <td>0</td>\n",
              "      <td>1</td>\n",
              "    </tr>\n",
              "    <tr>\n",
              "      <th>2</th>\n",
              "      <td>2014-02-02</td>\n",
              "      <td>The government has stopped monitoring of shops...</td>\n",
              "      <td>-0.70</td>\n",
              "      <td>0</td>\n",
              "      <td>0</td>\n",
              "    </tr>\n",
              "    <tr>\n",
              "      <th>3</th>\n",
              "      <td>2014-02-02</td>\n",
              "      <td>The Ministry of Industry (MoI) is preparing to...</td>\n",
              "      <td>-0.70</td>\n",
              "      <td>0</td>\n",
              "      <td>1</td>\n",
              "    </tr>\n",
              "    <tr>\n",
              "      <th>4</th>\n",
              "      <td>2014-02-02</td>\n",
              "      <td>The delivery of Chinese aircraft for Nepal Air...</td>\n",
              "      <td>-0.70</td>\n",
              "      <td>0</td>\n",
              "      <td>0</td>\n",
              "    </tr>\n",
              "    <tr>\n",
              "      <th>...</th>\n",
              "      <td>...</td>\n",
              "      <td>...</td>\n",
              "      <td>...</td>\n",
              "      <td>...</td>\n",
              "      <td>...</td>\n",
              "    </tr>\n",
              "    <tr>\n",
              "      <th>6302</th>\n",
              "      <td>2019-06-30</td>\n",
              "      <td>Importers are being allowed to haul the goods ...</td>\n",
              "      <td>-0.98</td>\n",
              "      <td>0</td>\n",
              "      <td>1</td>\n",
              "    </tr>\n",
              "    <tr>\n",
              "      <th>6303</th>\n",
              "      <td>2019-06-30</td>\n",
              "      <td>It will be first facility of its kind in the K...</td>\n",
              "      <td>-0.98</td>\n",
              "      <td>0</td>\n",
              "      <td>1</td>\n",
              "    </tr>\n",
              "    <tr>\n",
              "      <th>6304</th>\n",
              "      <td>2019-06-30</td>\n",
              "      <td>Readymade garment, apple, footwear, bags and s...</td>\n",
              "      <td>-0.98</td>\n",
              "      <td>0</td>\n",
              "      <td>1</td>\n",
              "    </tr>\n",
              "    <tr>\n",
              "      <th>6305</th>\n",
              "      <td>2019-06-30</td>\n",
              "      <td>Domestic supply has helped keep prices stable ...</td>\n",
              "      <td>-0.98</td>\n",
              "      <td>0</td>\n",
              "      <td>2</td>\n",
              "    </tr>\n",
              "    <tr>\n",
              "      <th>6306</th>\n",
              "      <td>2019-07-04</td>\n",
              "      <td>Lack of properly equipped labs leaves imported...</td>\n",
              "      <td>-0.65</td>\n",
              "      <td>0</td>\n",
              "      <td>1</td>\n",
              "    </tr>\n",
              "  </tbody>\n",
              "</table>\n",
              "<p>6307 rows × 5 columns</p>\n",
              "</div>"
            ],
            "text/plain": [
              "           date  ... sentiment\n",
              "0    2014-02-02  ...         0\n",
              "1    2014-02-02  ...         1\n",
              "2    2014-02-02  ...         0\n",
              "3    2014-02-02  ...         1\n",
              "4    2014-02-02  ...         0\n",
              "...         ...  ...       ...\n",
              "6302 2019-06-30  ...         1\n",
              "6303 2019-06-30  ...         1\n",
              "6304 2019-06-30  ...         1\n",
              "6305 2019-06-30  ...         2\n",
              "6306 2019-07-04  ...         1\n",
              "\n",
              "[6307 rows x 5 columns]"
            ]
          },
          "metadata": {
            "tags": []
          },
          "execution_count": 620
        }
      ]
    },
    {
      "cell_type": "code",
      "metadata": {
        "id": "fEqxGGv13uUf"
      },
      "source": [
        "news_sentiment_df = pd.DataFrame(news_sentiment, columns=['negative', 'neutral', 'positive'])"
      ],
      "execution_count": 621,
      "outputs": []
    },
    {
      "cell_type": "code",
      "metadata": {
        "id": "doyp7oAj3uOK"
      },
      "source": [
        "df = pd.concat([df, news_sentiment_df], axis=1)"
      ],
      "execution_count": 622,
      "outputs": []
    },
    {
      "cell_type": "code",
      "metadata": {
        "id": "ZbhRew5n5Czy",
        "outputId": "0cb7de54-8afe-4be0-cb8d-ee1db7f49d67",
        "colab": {
          "base_uri": "https://localhost:8080/",
          "height": 419
        }
      },
      "source": [
        "df"
      ],
      "execution_count": 623,
      "outputs": [
        {
          "output_type": "execute_result",
          "data": {
            "text/html": [
              "<div>\n",
              "<style scoped>\n",
              "    .dataframe tbody tr th:only-of-type {\n",
              "        vertical-align: middle;\n",
              "    }\n",
              "\n",
              "    .dataframe tbody tr th {\n",
              "        vertical-align: top;\n",
              "    }\n",
              "\n",
              "    .dataframe thead th {\n",
              "        text-align: right;\n",
              "    }\n",
              "</style>\n",
              "<table border=\"1\" class=\"dataframe\">\n",
              "  <thead>\n",
              "    <tr style=\"text-align: right;\">\n",
              "      <th></th>\n",
              "      <th>date</th>\n",
              "      <th>content</th>\n",
              "      <th>pct_change</th>\n",
              "      <th>target</th>\n",
              "      <th>sentiment</th>\n",
              "      <th>negative</th>\n",
              "      <th>neutral</th>\n",
              "      <th>positive</th>\n",
              "    </tr>\n",
              "  </thead>\n",
              "  <tbody>\n",
              "    <tr>\n",
              "      <th>0</th>\n",
              "      <td>2014-02-02</td>\n",
              "      <td>Nepal Stock Exchange (Nepse) slid 2.22 points ...</td>\n",
              "      <td>-0.70</td>\n",
              "      <td>0</td>\n",
              "      <td>0</td>\n",
              "      <td>0.876953</td>\n",
              "      <td>0.005885</td>\n",
              "      <td>0.117162</td>\n",
              "    </tr>\n",
              "    <tr>\n",
              "      <th>1</th>\n",
              "      <td>2014-02-02</td>\n",
              "      <td>Moffat Nyirenda is president of Round Table In...</td>\n",
              "      <td>-0.70</td>\n",
              "      <td>0</td>\n",
              "      <td>1</td>\n",
              "      <td>0.016890</td>\n",
              "      <td>0.850553</td>\n",
              "      <td>0.132556</td>\n",
              "    </tr>\n",
              "    <tr>\n",
              "      <th>2</th>\n",
              "      <td>2014-02-02</td>\n",
              "      <td>The government has stopped monitoring of shops...</td>\n",
              "      <td>-0.70</td>\n",
              "      <td>0</td>\n",
              "      <td>0</td>\n",
              "      <td>0.870711</td>\n",
              "      <td>0.098536</td>\n",
              "      <td>0.030753</td>\n",
              "    </tr>\n",
              "    <tr>\n",
              "      <th>3</th>\n",
              "      <td>2014-02-02</td>\n",
              "      <td>The Ministry of Industry (MoI) is preparing to...</td>\n",
              "      <td>-0.70</td>\n",
              "      <td>0</td>\n",
              "      <td>1</td>\n",
              "      <td>0.007339</td>\n",
              "      <td>0.971797</td>\n",
              "      <td>0.020864</td>\n",
              "    </tr>\n",
              "    <tr>\n",
              "      <th>4</th>\n",
              "      <td>2014-02-02</td>\n",
              "      <td>The delivery of Chinese aircraft for Nepal Air...</td>\n",
              "      <td>-0.70</td>\n",
              "      <td>0</td>\n",
              "      <td>0</td>\n",
              "      <td>0.886982</td>\n",
              "      <td>0.087527</td>\n",
              "      <td>0.025491</td>\n",
              "    </tr>\n",
              "    <tr>\n",
              "      <th>...</th>\n",
              "      <td>...</td>\n",
              "      <td>...</td>\n",
              "      <td>...</td>\n",
              "      <td>...</td>\n",
              "      <td>...</td>\n",
              "      <td>...</td>\n",
              "      <td>...</td>\n",
              "      <td>...</td>\n",
              "    </tr>\n",
              "    <tr>\n",
              "      <th>6302</th>\n",
              "      <td>2019-06-30</td>\n",
              "      <td>Importers are being allowed to haul the goods ...</td>\n",
              "      <td>-0.98</td>\n",
              "      <td>0</td>\n",
              "      <td>1</td>\n",
              "      <td>0.002860</td>\n",
              "      <td>0.870764</td>\n",
              "      <td>0.126375</td>\n",
              "    </tr>\n",
              "    <tr>\n",
              "      <th>6303</th>\n",
              "      <td>2019-06-30</td>\n",
              "      <td>It will be first facility of its kind in the K...</td>\n",
              "      <td>-0.98</td>\n",
              "      <td>0</td>\n",
              "      <td>1</td>\n",
              "      <td>0.003580</td>\n",
              "      <td>0.967892</td>\n",
              "      <td>0.028528</td>\n",
              "    </tr>\n",
              "    <tr>\n",
              "      <th>6304</th>\n",
              "      <td>2019-06-30</td>\n",
              "      <td>Readymade garment, apple, footwear, bags and s...</td>\n",
              "      <td>-0.98</td>\n",
              "      <td>0</td>\n",
              "      <td>1</td>\n",
              "      <td>0.007303</td>\n",
              "      <td>0.952862</td>\n",
              "      <td>0.039835</td>\n",
              "    </tr>\n",
              "    <tr>\n",
              "      <th>6305</th>\n",
              "      <td>2019-06-30</td>\n",
              "      <td>Domestic supply has helped keep prices stable ...</td>\n",
              "      <td>-0.98</td>\n",
              "      <td>0</td>\n",
              "      <td>2</td>\n",
              "      <td>0.001844</td>\n",
              "      <td>0.021825</td>\n",
              "      <td>0.976331</td>\n",
              "    </tr>\n",
              "    <tr>\n",
              "      <th>6306</th>\n",
              "      <td>2019-07-04</td>\n",
              "      <td>Lack of properly equipped labs leaves imported...</td>\n",
              "      <td>-0.65</td>\n",
              "      <td>0</td>\n",
              "      <td>1</td>\n",
              "      <td>0.007757</td>\n",
              "      <td>0.964806</td>\n",
              "      <td>0.027437</td>\n",
              "    </tr>\n",
              "  </tbody>\n",
              "</table>\n",
              "<p>6307 rows × 8 columns</p>\n",
              "</div>"
            ],
            "text/plain": [
              "           date  ...  positive\n",
              "0    2014-02-02  ...  0.117162\n",
              "1    2014-02-02  ...  0.132556\n",
              "2    2014-02-02  ...  0.030753\n",
              "3    2014-02-02  ...  0.020864\n",
              "4    2014-02-02  ...  0.025491\n",
              "...         ...  ...       ...\n",
              "6302 2019-06-30  ...  0.126375\n",
              "6303 2019-06-30  ...  0.028528\n",
              "6304 2019-06-30  ...  0.039835\n",
              "6305 2019-06-30  ...  0.976331\n",
              "6306 2019-07-04  ...  0.027437\n",
              "\n",
              "[6307 rows x 8 columns]"
            ]
          },
          "metadata": {
            "tags": []
          },
          "execution_count": 623
        }
      ]
    },
    {
      "cell_type": "code",
      "metadata": {
        "id": "5PBQGXm36Lmp",
        "outputId": "160f9d85-006d-4b29-93cf-26abf8bcf69e",
        "colab": {
          "base_uri": "https://localhost:8080/",
          "height": 419
        }
      },
      "source": [
        "df[(df['target'] == 0) & (df['sentiment'] == 0)]"
      ],
      "execution_count": 627,
      "outputs": [
        {
          "output_type": "execute_result",
          "data": {
            "text/html": [
              "<div>\n",
              "<style scoped>\n",
              "    .dataframe tbody tr th:only-of-type {\n",
              "        vertical-align: middle;\n",
              "    }\n",
              "\n",
              "    .dataframe tbody tr th {\n",
              "        vertical-align: top;\n",
              "    }\n",
              "\n",
              "    .dataframe thead th {\n",
              "        text-align: right;\n",
              "    }\n",
              "</style>\n",
              "<table border=\"1\" class=\"dataframe\">\n",
              "  <thead>\n",
              "    <tr style=\"text-align: right;\">\n",
              "      <th></th>\n",
              "      <th>date</th>\n",
              "      <th>content</th>\n",
              "      <th>pct_change</th>\n",
              "      <th>target</th>\n",
              "      <th>sentiment</th>\n",
              "      <th>negative</th>\n",
              "      <th>neutral</th>\n",
              "      <th>positive</th>\n",
              "    </tr>\n",
              "  </thead>\n",
              "  <tbody>\n",
              "    <tr>\n",
              "      <th>0</th>\n",
              "      <td>2014-02-02</td>\n",
              "      <td>Nepal Stock Exchange (Nepse) slid 2.22 points ...</td>\n",
              "      <td>-0.70</td>\n",
              "      <td>0</td>\n",
              "      <td>0</td>\n",
              "      <td>0.876953</td>\n",
              "      <td>0.005885</td>\n",
              "      <td>0.117162</td>\n",
              "    </tr>\n",
              "    <tr>\n",
              "      <th>2</th>\n",
              "      <td>2014-02-02</td>\n",
              "      <td>The government has stopped monitoring of shops...</td>\n",
              "      <td>-0.70</td>\n",
              "      <td>0</td>\n",
              "      <td>0</td>\n",
              "      <td>0.870711</td>\n",
              "      <td>0.098536</td>\n",
              "      <td>0.030753</td>\n",
              "    </tr>\n",
              "    <tr>\n",
              "      <th>4</th>\n",
              "      <td>2014-02-02</td>\n",
              "      <td>The delivery of Chinese aircraft for Nepal Air...</td>\n",
              "      <td>-0.70</td>\n",
              "      <td>0</td>\n",
              "      <td>0</td>\n",
              "      <td>0.886982</td>\n",
              "      <td>0.087527</td>\n",
              "      <td>0.025491</td>\n",
              "    </tr>\n",
              "    <tr>\n",
              "      <th>10</th>\n",
              "      <td>2014-02-03</td>\n",
              "      <td>The real estate sector posted a notable growth...</td>\n",
              "      <td>-0.83</td>\n",
              "      <td>0</td>\n",
              "      <td>0</td>\n",
              "      <td>0.769403</td>\n",
              "      <td>0.012295</td>\n",
              "      <td>0.218303</td>\n",
              "    </tr>\n",
              "    <tr>\n",
              "      <th>30</th>\n",
              "      <td>2014-02-09</td>\n",
              "      <td>The Civil Aviation Authority of Nepal has said...</td>\n",
              "      <td>-0.23</td>\n",
              "      <td>0</td>\n",
              "      <td>0</td>\n",
              "      <td>0.970346</td>\n",
              "      <td>0.011285</td>\n",
              "      <td>0.018368</td>\n",
              "    </tr>\n",
              "    <tr>\n",
              "      <th>...</th>\n",
              "      <td>...</td>\n",
              "      <td>...</td>\n",
              "      <td>...</td>\n",
              "      <td>...</td>\n",
              "      <td>...</td>\n",
              "      <td>...</td>\n",
              "      <td>...</td>\n",
              "      <td>...</td>\n",
              "    </tr>\n",
              "    <tr>\n",
              "      <th>6276</th>\n",
              "      <td>2019-06-12</td>\n",
              "      <td>Despite the government enacting the Foreign In...</td>\n",
              "      <td>-0.27</td>\n",
              "      <td>0</td>\n",
              "      <td>0</td>\n",
              "      <td>0.614274</td>\n",
              "      <td>0.118464</td>\n",
              "      <td>0.267263</td>\n",
              "    </tr>\n",
              "    <tr>\n",
              "      <th>6278</th>\n",
              "      <td>2019-06-13</td>\n",
              "      <td>Consumers said market prices shot up by over 2...</td>\n",
              "      <td>-0.23</td>\n",
              "      <td>0</td>\n",
              "      <td>0</td>\n",
              "      <td>0.752388</td>\n",
              "      <td>0.006510</td>\n",
              "      <td>0.241101</td>\n",
              "    </tr>\n",
              "    <tr>\n",
              "      <th>6279</th>\n",
              "      <td>2019-06-16</td>\n",
              "      <td>With a downfall in the index, the average dail...</td>\n",
              "      <td>-0.89</td>\n",
              "      <td>0</td>\n",
              "      <td>0</td>\n",
              "      <td>0.938419</td>\n",
              "      <td>0.003567</td>\n",
              "      <td>0.058014</td>\n",
              "    </tr>\n",
              "    <tr>\n",
              "      <th>6281</th>\n",
              "      <td>2019-06-16</td>\n",
              "      <td>Frantic farmers in most of the districts in Pr...</td>\n",
              "      <td>-0.89</td>\n",
              "      <td>0</td>\n",
              "      <td>0</td>\n",
              "      <td>0.925244</td>\n",
              "      <td>0.052330</td>\n",
              "      <td>0.022427</td>\n",
              "    </tr>\n",
              "    <tr>\n",
              "      <th>6300</th>\n",
              "      <td>2019-06-26</td>\n",
              "      <td>Expenditure usually gets bunched up during the...</td>\n",
              "      <td>-0.22</td>\n",
              "      <td>0</td>\n",
              "      <td>0</td>\n",
              "      <td>0.690301</td>\n",
              "      <td>0.199695</td>\n",
              "      <td>0.110004</td>\n",
              "    </tr>\n",
              "  </tbody>\n",
              "</table>\n",
              "<p>929 rows × 8 columns</p>\n",
              "</div>"
            ],
            "text/plain": [
              "           date  ...  positive\n",
              "0    2014-02-02  ...  0.117162\n",
              "2    2014-02-02  ...  0.030753\n",
              "4    2014-02-02  ...  0.025491\n",
              "10   2014-02-03  ...  0.218303\n",
              "30   2014-02-09  ...  0.018368\n",
              "...         ...  ...       ...\n",
              "6276 2019-06-12  ...  0.267263\n",
              "6278 2019-06-13  ...  0.241101\n",
              "6279 2019-06-16  ...  0.058014\n",
              "6281 2019-06-16  ...  0.022427\n",
              "6300 2019-06-26  ...  0.110004\n",
              "\n",
              "[929 rows x 8 columns]"
            ]
          },
          "metadata": {
            "tags": []
          },
          "execution_count": 627
        }
      ]
    },
    {
      "cell_type": "code",
      "metadata": {
        "id": "utOPCXBvh9iA"
      },
      "source": [
        "a = df.groupby('date')['content'].apply(list).str.len()"
      ],
      "execution_count": 652,
      "outputs": []
    },
    {
      "cell_type": "code",
      "metadata": {
        "id": "k2ZrPNXaiVTI",
        "outputId": "de7f3e17-4884-43f9-9f0c-88abfebe3c9e",
        "colab": {
          "base_uri": "https://localhost:8080/"
        }
      },
      "source": [
        "a[a == 1].shape, a[a == 2].shape, a[a==3].shape, a[a == 4].shape, a"
      ],
      "execution_count": 661,
      "outputs": [
        {
          "output_type": "execute_result",
          "data": {
            "text/plain": [
              "((18,), (38,), (88,), (197,))"
            ]
          },
          "metadata": {
            "tags": []
          },
          "execution_count": 661
        }
      ]
    },
    {
      "cell_type": "code",
      "metadata": {
        "id": "TflTzuXoiVQI",
        "outputId": "2dd949cf-a0ff-4b4a-fcc8-3e35f9a9b667",
        "colab": {
          "base_uri": "https://localhost:8080/"
        }
      },
      "source": [
        "a.describe()"
      ],
      "execution_count": 663,
      "outputs": [
        {
          "output_type": "execute_result",
          "data": {
            "text/plain": [
              "count    1238.000000\n",
              "mean        5.094507\n",
              "std         1.400988\n",
              "min         1.000000\n",
              "25%         4.000000\n",
              "50%         5.000000\n",
              "75%         6.000000\n",
              "max         9.000000\n",
              "Name: content, dtype: float64"
            ]
          },
          "metadata": {
            "tags": []
          },
          "execution_count": 663
        }
      ]
    },
    {
      "cell_type": "code",
      "metadata": {
        "id": "-xBtPfTGiVNE"
      },
      "source": [
        ""
      ],
      "execution_count": null,
      "outputs": []
    },
    {
      "cell_type": "code",
      "metadata": {
        "id": "nu_y2zNr6Wwt",
        "outputId": "5ed7992e-503f-438e-8cf7-8ae1b4a91f12",
        "colab": {
          "base_uri": "https://localhost:8080/",
          "height": 419
        }
      },
      "source": [
        "df[(df['target'] == 1) & (df['sentiment'] == 2)]"
      ],
      "execution_count": 550,
      "outputs": [
        {
          "output_type": "execute_result",
          "data": {
            "text/html": [
              "<div>\n",
              "<style scoped>\n",
              "    .dataframe tbody tr th:only-of-type {\n",
              "        vertical-align: middle;\n",
              "    }\n",
              "\n",
              "    .dataframe tbody tr th {\n",
              "        vertical-align: top;\n",
              "    }\n",
              "\n",
              "    .dataframe thead th {\n",
              "        text-align: right;\n",
              "    }\n",
              "</style>\n",
              "<table border=\"1\" class=\"dataframe\">\n",
              "  <thead>\n",
              "    <tr style=\"text-align: right;\">\n",
              "      <th></th>\n",
              "      <th>date</th>\n",
              "      <th>content</th>\n",
              "      <th>pct_change</th>\n",
              "      <th>target</th>\n",
              "      <th>sentiment</th>\n",
              "      <th>negative</th>\n",
              "      <th>neutral</th>\n",
              "      <th>positive</th>\n",
              "    </tr>\n",
              "  </thead>\n",
              "  <tbody>\n",
              "    <tr>\n",
              "      <th>11</th>\n",
              "      <td>2014-02-04</td>\n",
              "      <td>The arrival of premium Chinese smartphones fro...</td>\n",
              "      <td>0.70</td>\n",
              "      <td>1</td>\n",
              "      <td>2</td>\n",
              "      <td>0.108351</td>\n",
              "      <td>0.367842</td>\n",
              "      <td>0.523807</td>\n",
              "    </tr>\n",
              "    <tr>\n",
              "      <th>13</th>\n",
              "      <td>2014-02-04</td>\n",
              "      <td>Ncell recorded an 11.3 percent rise in net sal...</td>\n",
              "      <td>0.70</td>\n",
              "      <td>1</td>\n",
              "      <td>2</td>\n",
              "      <td>0.438626</td>\n",
              "      <td>0.064685</td>\n",
              "      <td>0.496688</td>\n",
              "    </tr>\n",
              "    <tr>\n",
              "      <th>17</th>\n",
              "      <td>2014-02-05</td>\n",
              "      <td>As the new academic session nears, the demand ...</td>\n",
              "      <td>0.83</td>\n",
              "      <td>1</td>\n",
              "      <td>2</td>\n",
              "      <td>0.124974</td>\n",
              "      <td>0.290778</td>\n",
              "      <td>0.584248</td>\n",
              "    </tr>\n",
              "    <tr>\n",
              "      <th>23</th>\n",
              "      <td>2014-02-06</td>\n",
              "      <td>The government will require Rs 510 million and...</td>\n",
              "      <td>0.56</td>\n",
              "      <td>1</td>\n",
              "      <td>2</td>\n",
              "      <td>0.010986</td>\n",
              "      <td>0.463042</td>\n",
              "      <td>0.525972</td>\n",
              "    </tr>\n",
              "    <tr>\n",
              "      <th>25</th>\n",
              "      <td>2014-02-06</td>\n",
              "      <td>The long-standing plan to bring in a strategic...</td>\n",
              "      <td>0.56</td>\n",
              "      <td>1</td>\n",
              "      <td>2</td>\n",
              "      <td>0.085489</td>\n",
              "      <td>0.407040</td>\n",
              "      <td>0.507470</td>\n",
              "    </tr>\n",
              "    <tr>\n",
              "      <th>...</th>\n",
              "      <td>...</td>\n",
              "      <td>...</td>\n",
              "      <td>...</td>\n",
              "      <td>...</td>\n",
              "      <td>...</td>\n",
              "      <td>...</td>\n",
              "      <td>...</td>\n",
              "      <td>...</td>\n",
              "    </tr>\n",
              "    <tr>\n",
              "      <th>6256</th>\n",
              "      <td>2019-05-30</td>\n",
              "      <td>Finance minister announces Rs99.85b for next f...</td>\n",
              "      <td>0.43</td>\n",
              "      <td>1</td>\n",
              "      <td>2</td>\n",
              "      <td>0.232550</td>\n",
              "      <td>0.364861</td>\n",
              "      <td>0.402589</td>\n",
              "    </tr>\n",
              "    <tr>\n",
              "      <th>6258</th>\n",
              "      <td>2019-05-30</td>\n",
              "      <td>The government will also impose Rs 1 as infras...</td>\n",
              "      <td>0.43</td>\n",
              "      <td>1</td>\n",
              "      <td>2</td>\n",
              "      <td>0.310768</td>\n",
              "      <td>0.118457</td>\n",
              "      <td>0.570775</td>\n",
              "    </tr>\n",
              "    <tr>\n",
              "      <th>6284</th>\n",
              "      <td>2019-06-17</td>\n",
              "      <td>Seven provincial governments have based their ...</td>\n",
              "      <td>0.21</td>\n",
              "      <td>1</td>\n",
              "      <td>2</td>\n",
              "      <td>0.166359</td>\n",
              "      <td>0.416567</td>\n",
              "      <td>0.417074</td>\n",
              "    </tr>\n",
              "    <tr>\n",
              "      <th>6289</th>\n",
              "      <td>2019-06-20</td>\n",
              "      <td>A joint venture of Kalika and Baniya Construct...</td>\n",
              "      <td>0.47</td>\n",
              "      <td>1</td>\n",
              "      <td>2</td>\n",
              "      <td>0.290363</td>\n",
              "      <td>0.307114</td>\n",
              "      <td>0.402523</td>\n",
              "    </tr>\n",
              "    <tr>\n",
              "      <th>6297</th>\n",
              "      <td>2019-06-25</td>\n",
              "      <td>Indian developer GMR has signed a pact to expo...</td>\n",
              "      <td>0.08</td>\n",
              "      <td>1</td>\n",
              "      <td>2</td>\n",
              "      <td>0.083367</td>\n",
              "      <td>0.071448</td>\n",
              "      <td>0.845185</td>\n",
              "    </tr>\n",
              "  </tbody>\n",
              "</table>\n",
              "<p>918 rows × 8 columns</p>\n",
              "</div>"
            ],
            "text/plain": [
              "           date  ...  positive\n",
              "11   2014-02-04  ...  0.523807\n",
              "13   2014-02-04  ...  0.496688\n",
              "17   2014-02-05  ...  0.584248\n",
              "23   2014-02-06  ...  0.525972\n",
              "25   2014-02-06  ...  0.507470\n",
              "...         ...  ...       ...\n",
              "6256 2019-05-30  ...  0.402589\n",
              "6258 2019-05-30  ...  0.570775\n",
              "6284 2019-06-17  ...  0.417074\n",
              "6289 2019-06-20  ...  0.402523\n",
              "6297 2019-06-25  ...  0.845185\n",
              "\n",
              "[918 rows x 8 columns]"
            ]
          },
          "metadata": {
            "tags": []
          },
          "execution_count": 550
        }
      ]
    },
    {
      "cell_type": "code",
      "metadata": {
        "id": "efifLCu3j43b"
      },
      "source": [
        ""
      ],
      "execution_count": null,
      "outputs": []
    },
    {
      "cell_type": "code",
      "metadata": {
        "id": "kqeCkVNt6Wtw",
        "outputId": "cc15d9d1-ef47-4700-8098-5a29dbb61b7f",
        "colab": {
          "base_uri": "https://localhost:8080/",
          "height": 419
        }
      },
      "source": [
        "df[(df['target'] == 0) & (df['sentiment'] == 1)]"
      ],
      "execution_count": 551,
      "outputs": [
        {
          "output_type": "execute_result",
          "data": {
            "text/html": [
              "<div>\n",
              "<style scoped>\n",
              "    .dataframe tbody tr th:only-of-type {\n",
              "        vertical-align: middle;\n",
              "    }\n",
              "\n",
              "    .dataframe tbody tr th {\n",
              "        vertical-align: top;\n",
              "    }\n",
              "\n",
              "    .dataframe thead th {\n",
              "        text-align: right;\n",
              "    }\n",
              "</style>\n",
              "<table border=\"1\" class=\"dataframe\">\n",
              "  <thead>\n",
              "    <tr style=\"text-align: right;\">\n",
              "      <th></th>\n",
              "      <th>date</th>\n",
              "      <th>content</th>\n",
              "      <th>pct_change</th>\n",
              "      <th>target</th>\n",
              "      <th>sentiment</th>\n",
              "      <th>negative</th>\n",
              "      <th>neutral</th>\n",
              "      <th>positive</th>\n",
              "    </tr>\n",
              "  </thead>\n",
              "  <tbody>\n",
              "    <tr>\n",
              "      <th>1</th>\n",
              "      <td>2014-02-02</td>\n",
              "      <td>Moffat Nyirenda is president of Round Table In...</td>\n",
              "      <td>-0.70</td>\n",
              "      <td>0</td>\n",
              "      <td>1</td>\n",
              "      <td>0.027407</td>\n",
              "      <td>0.907738</td>\n",
              "      <td>0.064856</td>\n",
              "    </tr>\n",
              "    <tr>\n",
              "      <th>3</th>\n",
              "      <td>2014-02-02</td>\n",
              "      <td>The Ministry of Industry (MoI) is preparing to...</td>\n",
              "      <td>-0.70</td>\n",
              "      <td>0</td>\n",
              "      <td>1</td>\n",
              "      <td>0.018167</td>\n",
              "      <td>0.779137</td>\n",
              "      <td>0.202696</td>\n",
              "    </tr>\n",
              "    <tr>\n",
              "      <th>5</th>\n",
              "      <td>2014-02-03</td>\n",
              "      <td>Talking about pricey threads, the domestic mar...</td>\n",
              "      <td>-0.83</td>\n",
              "      <td>0</td>\n",
              "      <td>1</td>\n",
              "      <td>0.027242</td>\n",
              "      <td>0.820643</td>\n",
              "      <td>0.152115</td>\n",
              "    </tr>\n",
              "    <tr>\n",
              "      <th>7</th>\n",
              "      <td>2014-02-03</td>\n",
              "      <td>Fifty-seven percent work has been completed on...</td>\n",
              "      <td>-0.83</td>\n",
              "      <td>0</td>\n",
              "      <td>1</td>\n",
              "      <td>0.045991</td>\n",
              "      <td>0.572259</td>\n",
              "      <td>0.381750</td>\n",
              "    </tr>\n",
              "    <tr>\n",
              "      <th>8</th>\n",
              "      <td>2014-02-03</td>\n",
              "      <td>The government is not in a position to assure ...</td>\n",
              "      <td>-0.83</td>\n",
              "      <td>0</td>\n",
              "      <td>1</td>\n",
              "      <td>0.131678</td>\n",
              "      <td>0.738900</td>\n",
              "      <td>0.129422</td>\n",
              "    </tr>\n",
              "    <tr>\n",
              "      <th>...</th>\n",
              "      <td>...</td>\n",
              "      <td>...</td>\n",
              "      <td>...</td>\n",
              "      <td>...</td>\n",
              "      <td>...</td>\n",
              "      <td>...</td>\n",
              "      <td>...</td>\n",
              "      <td>...</td>\n",
              "    </tr>\n",
              "    <tr>\n",
              "      <th>6299</th>\n",
              "      <td>2019-06-26</td>\n",
              "      <td>Capital restructuring and inducting a strategi...</td>\n",
              "      <td>-0.22</td>\n",
              "      <td>0</td>\n",
              "      <td>1</td>\n",
              "      <td>0.022127</td>\n",
              "      <td>0.638903</td>\n",
              "      <td>0.338970</td>\n",
              "    </tr>\n",
              "    <tr>\n",
              "      <th>6302</th>\n",
              "      <td>2019-06-30</td>\n",
              "      <td>Importers are being allowed to haul the goods ...</td>\n",
              "      <td>-0.98</td>\n",
              "      <td>0</td>\n",
              "      <td>1</td>\n",
              "      <td>0.120028</td>\n",
              "      <td>0.719366</td>\n",
              "      <td>0.160606</td>\n",
              "    </tr>\n",
              "    <tr>\n",
              "      <th>6303</th>\n",
              "      <td>2019-06-30</td>\n",
              "      <td>It will be first facility of its kind in the K...</td>\n",
              "      <td>-0.98</td>\n",
              "      <td>0</td>\n",
              "      <td>1</td>\n",
              "      <td>0.044705</td>\n",
              "      <td>0.594352</td>\n",
              "      <td>0.360942</td>\n",
              "    </tr>\n",
              "    <tr>\n",
              "      <th>6304</th>\n",
              "      <td>2019-06-30</td>\n",
              "      <td>Readymade garment, apple, footwear, bags and s...</td>\n",
              "      <td>-0.98</td>\n",
              "      <td>0</td>\n",
              "      <td>1</td>\n",
              "      <td>0.072822</td>\n",
              "      <td>0.860510</td>\n",
              "      <td>0.066668</td>\n",
              "    </tr>\n",
              "    <tr>\n",
              "      <th>6306</th>\n",
              "      <td>2019-07-04</td>\n",
              "      <td>Lack of properly equipped labs leaves imported...</td>\n",
              "      <td>-0.65</td>\n",
              "      <td>0</td>\n",
              "      <td>1</td>\n",
              "      <td>0.041598</td>\n",
              "      <td>0.908735</td>\n",
              "      <td>0.049667</td>\n",
              "    </tr>\n",
              "  </tbody>\n",
              "</table>\n",
              "<p>1302 rows × 8 columns</p>\n",
              "</div>"
            ],
            "text/plain": [
              "           date  ...  positive\n",
              "1    2014-02-02  ...  0.064856\n",
              "3    2014-02-02  ...  0.202696\n",
              "5    2014-02-03  ...  0.152115\n",
              "7    2014-02-03  ...  0.381750\n",
              "8    2014-02-03  ...  0.129422\n",
              "...         ...  ...       ...\n",
              "6299 2019-06-26  ...  0.338970\n",
              "6302 2019-06-30  ...  0.160606\n",
              "6303 2019-06-30  ...  0.360942\n",
              "6304 2019-06-30  ...  0.066668\n",
              "6306 2019-07-04  ...  0.049667\n",
              "\n",
              "[1302 rows x 8 columns]"
            ]
          },
          "metadata": {
            "tags": []
          },
          "execution_count": 551
        }
      ]
    },
    {
      "cell_type": "code",
      "metadata": {
        "id": "-HtC6c5F9AWi",
        "outputId": "a4d15f95-63b3-40d2-be56-ce0efabf863c",
        "colab": {
          "base_uri": "https://localhost:8080/"
        }
      },
      "source": [
        "df.shape"
      ],
      "execution_count": 552,
      "outputs": [
        {
          "output_type": "execute_result",
          "data": {
            "text/plain": [
              "(6307, 8)"
            ]
          },
          "metadata": {
            "tags": []
          },
          "execution_count": 552
        }
      ]
    },
    {
      "cell_type": "code",
      "metadata": {
        "id": "FQhOhplDkQ6j"
      },
      "source": [
        ""
      ],
      "execution_count": null,
      "outputs": []
    },
    {
      "cell_type": "code",
      "metadata": {
        "id": "ZhW1cvPCtalR"
      },
      "source": [
        "negative_mean = df.groupby('date')['negative'].apply(np.mean).reset_index(drop=True)\n",
        "neutral_mean = df.groupby('date')['neutral'].apply(np.mean).reset_index(drop=True)\n",
        "positive_mean = df.groupby('date')['positive'].apply(np.mean).reset_index(drop=True)"
      ],
      "execution_count": 667,
      "outputs": []
    },
    {
      "cell_type": "code",
      "metadata": {
        "id": "Uj7cNZJO802T"
      },
      "source": [
        "indices['negative_mean'] = negative_mean.values\n",
        "indices['neutral_mean'] = neutral_mean.values\n",
        "indices['positive_mean'] = positive_mean.values\n"
      ],
      "execution_count": 669,
      "outputs": []
    },
    {
      "cell_type": "code",
      "metadata": {
        "id": "ySualaFjkIgh",
        "outputId": "f5b6c5d0-3dc6-47a8-d855-0aeb18e968ae",
        "colab": {
          "base_uri": "https://localhost:8080/"
        }
      },
      "source": [
        "np.argmax(indices[['negative_mean', 'neutral_mean', 'positive_mean']].values, axis=1)"
      ],
      "execution_count": 672,
      "outputs": [
        {
          "output_type": "execute_result",
          "data": {
            "text/plain": [
              "array([0, 1, 1, ..., 1, 1, 1])"
            ]
          },
          "metadata": {
            "tags": []
          },
          "execution_count": 672
        }
      ]
    },
    {
      "cell_type": "code",
      "metadata": {
        "id": "MrwBdJLgkkpO"
      },
      "source": [
        "indices['predicted'] = np.argmax(indices[['negative_mean', 'neutral_mean', 'positive_mean']].values, axis=1)"
      ],
      "execution_count": 674,
      "outputs": []
    },
    {
      "cell_type": "code",
      "metadata": {
        "id": "JnPesjhQkuLB",
        "outputId": "5fb3c9f2-b520-41af-a64a-ddf8a1ca1903",
        "colab": {
          "base_uri": "https://localhost:8080/",
          "height": 419
        }
      },
      "source": [
        "indices[['target','predicted']]"
      ],
      "execution_count": 676,
      "outputs": [
        {
          "output_type": "execute_result",
          "data": {
            "text/html": [
              "<div>\n",
              "<style scoped>\n",
              "    .dataframe tbody tr th:only-of-type {\n",
              "        vertical-align: middle;\n",
              "    }\n",
              "\n",
              "    .dataframe tbody tr th {\n",
              "        vertical-align: top;\n",
              "    }\n",
              "\n",
              "    .dataframe thead th {\n",
              "        text-align: right;\n",
              "    }\n",
              "</style>\n",
              "<table border=\"1\" class=\"dataframe\">\n",
              "  <thead>\n",
              "    <tr style=\"text-align: right;\">\n",
              "      <th></th>\n",
              "      <th>target</th>\n",
              "      <th>predicted</th>\n",
              "    </tr>\n",
              "  </thead>\n",
              "  <tbody>\n",
              "    <tr>\n",
              "      <th>0</th>\n",
              "      <td>0</td>\n",
              "      <td>0</td>\n",
              "    </tr>\n",
              "    <tr>\n",
              "      <th>1</th>\n",
              "      <td>0</td>\n",
              "      <td>1</td>\n",
              "    </tr>\n",
              "    <tr>\n",
              "      <th>2</th>\n",
              "      <td>1</td>\n",
              "      <td>1</td>\n",
              "    </tr>\n",
              "    <tr>\n",
              "      <th>3</th>\n",
              "      <td>1</td>\n",
              "      <td>1</td>\n",
              "    </tr>\n",
              "    <tr>\n",
              "      <th>4</th>\n",
              "      <td>1</td>\n",
              "      <td>1</td>\n",
              "    </tr>\n",
              "    <tr>\n",
              "      <th>...</th>\n",
              "      <td>...</td>\n",
              "      <td>...</td>\n",
              "    </tr>\n",
              "    <tr>\n",
              "      <th>1233</th>\n",
              "      <td>1</td>\n",
              "      <td>1</td>\n",
              "    </tr>\n",
              "    <tr>\n",
              "      <th>1234</th>\n",
              "      <td>1</td>\n",
              "      <td>1</td>\n",
              "    </tr>\n",
              "    <tr>\n",
              "      <th>1235</th>\n",
              "      <td>0</td>\n",
              "      <td>1</td>\n",
              "    </tr>\n",
              "    <tr>\n",
              "      <th>1236</th>\n",
              "      <td>0</td>\n",
              "      <td>1</td>\n",
              "    </tr>\n",
              "    <tr>\n",
              "      <th>1237</th>\n",
              "      <td>0</td>\n",
              "      <td>1</td>\n",
              "    </tr>\n",
              "  </tbody>\n",
              "</table>\n",
              "<p>1238 rows × 2 columns</p>\n",
              "</div>"
            ],
            "text/plain": [
              "      target  predicted\n",
              "0          0          0\n",
              "1          0          1\n",
              "2          1          1\n",
              "3          1          1\n",
              "4          1          1\n",
              "...      ...        ...\n",
              "1233       1          1\n",
              "1234       1          1\n",
              "1235       0          1\n",
              "1236       0          1\n",
              "1237       0          1\n",
              "\n",
              "[1238 rows x 2 columns]"
            ]
          },
          "metadata": {
            "tags": []
          },
          "execution_count": 676
        }
      ]
    },
    {
      "cell_type": "code",
      "metadata": {
        "id": "kjPV0LfskuG2",
        "outputId": "5f91f802-32c2-403d-e191-acafbf1c4199",
        "colab": {
          "base_uri": "https://localhost:8080/",
          "height": 419
        }
      },
      "source": [
        "indices[indices['target'] == indices['predicted']]"
      ],
      "execution_count": 677,
      "outputs": [
        {
          "output_type": "execute_result",
          "data": {
            "text/html": [
              "<div>\n",
              "<style scoped>\n",
              "    .dataframe tbody tr th:only-of-type {\n",
              "        vertical-align: middle;\n",
              "    }\n",
              "\n",
              "    .dataframe tbody tr th {\n",
              "        vertical-align: top;\n",
              "    }\n",
              "\n",
              "    .dataframe thead th {\n",
              "        text-align: right;\n",
              "    }\n",
              "</style>\n",
              "<table border=\"1\" class=\"dataframe\">\n",
              "  <thead>\n",
              "    <tr style=\"text-align: right;\">\n",
              "      <th></th>\n",
              "      <th>no_name</th>\n",
              "      <th>date</th>\n",
              "      <th>index</th>\n",
              "      <th>abs_change</th>\n",
              "      <th>pct_change</th>\n",
              "      <th>target</th>\n",
              "      <th>negative_mean</th>\n",
              "      <th>neutral_mean</th>\n",
              "      <th>positive_mean</th>\n",
              "      <th>predicted</th>\n",
              "    </tr>\n",
              "  </thead>\n",
              "  <tbody>\n",
              "    <tr>\n",
              "      <th>0</th>\n",
              "      <td>1590</td>\n",
              "      <td>2014-02-02</td>\n",
              "      <td>775.92</td>\n",
              "      <td>-5.54</td>\n",
              "      <td>-0.70</td>\n",
              "      <td>0</td>\n",
              "      <td>0.531775</td>\n",
              "      <td>0.402860</td>\n",
              "      <td>0.065365</td>\n",
              "      <td>0</td>\n",
              "    </tr>\n",
              "    <tr>\n",
              "      <th>2</th>\n",
              "      <td>1588</td>\n",
              "      <td>2014-02-04</td>\n",
              "      <td>774.91</td>\n",
              "      <td>5.40</td>\n",
              "      <td>0.70</td>\n",
              "      <td>1</td>\n",
              "      <td>0.064825</td>\n",
              "      <td>0.661742</td>\n",
              "      <td>0.273433</td>\n",
              "      <td>1</td>\n",
              "    </tr>\n",
              "    <tr>\n",
              "      <th>3</th>\n",
              "      <td>1587</td>\n",
              "      <td>2014-02-05</td>\n",
              "      <td>781.38</td>\n",
              "      <td>6.47</td>\n",
              "      <td>0.83</td>\n",
              "      <td>1</td>\n",
              "      <td>0.258081</td>\n",
              "      <td>0.598400</td>\n",
              "      <td>0.143519</td>\n",
              "      <td>1</td>\n",
              "    </tr>\n",
              "    <tr>\n",
              "      <th>4</th>\n",
              "      <td>1586</td>\n",
              "      <td>2014-02-06</td>\n",
              "      <td>785.78</td>\n",
              "      <td>4.40</td>\n",
              "      <td>0.56</td>\n",
              "      <td>1</td>\n",
              "      <td>0.328910</td>\n",
              "      <td>0.344083</td>\n",
              "      <td>0.327007</td>\n",
              "      <td>1</td>\n",
              "    </tr>\n",
              "    <tr>\n",
              "      <th>5</th>\n",
              "      <td>1585</td>\n",
              "      <td>2014-02-09</td>\n",
              "      <td>784</td>\n",
              "      <td>-1.78</td>\n",
              "      <td>-0.23</td>\n",
              "      <td>0</td>\n",
              "      <td>0.395239</td>\n",
              "      <td>0.275743</td>\n",
              "      <td>0.329018</td>\n",
              "      <td>0</td>\n",
              "    </tr>\n",
              "    <tr>\n",
              "      <th>...</th>\n",
              "      <td>...</td>\n",
              "      <td>...</td>\n",
              "      <td>...</td>\n",
              "      <td>...</td>\n",
              "      <td>...</td>\n",
              "      <td>...</td>\n",
              "      <td>...</td>\n",
              "      <td>...</td>\n",
              "      <td>...</td>\n",
              "      <td>...</td>\n",
              "    </tr>\n",
              "    <tr>\n",
              "      <th>1224</th>\n",
              "      <td>360</td>\n",
              "      <td>2019-06-11</td>\n",
              "      <td>1,275.99</td>\n",
              "      <td>0.17</td>\n",
              "      <td>0.01</td>\n",
              "      <td>1</td>\n",
              "      <td>0.005278</td>\n",
              "      <td>0.948027</td>\n",
              "      <td>0.046696</td>\n",
              "      <td>1</td>\n",
              "    </tr>\n",
              "    <tr>\n",
              "      <th>1227</th>\n",
              "      <td>357</td>\n",
              "      <td>2019-06-16</td>\n",
              "      <td>1,258.27</td>\n",
              "      <td>-11.36</td>\n",
              "      <td>-0.89</td>\n",
              "      <td>0</td>\n",
              "      <td>0.622285</td>\n",
              "      <td>0.342759</td>\n",
              "      <td>0.034957</td>\n",
              "      <td>0</td>\n",
              "    </tr>\n",
              "    <tr>\n",
              "      <th>1231</th>\n",
              "      <td>353</td>\n",
              "      <td>2019-06-20</td>\n",
              "      <td>1,264.36</td>\n",
              "      <td>5.90</td>\n",
              "      <td>0.47</td>\n",
              "      <td>1</td>\n",
              "      <td>0.396212</td>\n",
              "      <td>0.511052</td>\n",
              "      <td>0.092736</td>\n",
              "      <td>1</td>\n",
              "    </tr>\n",
              "    <tr>\n",
              "      <th>1233</th>\n",
              "      <td>351</td>\n",
              "      <td>2019-06-24</td>\n",
              "      <td>1,260.10</td>\n",
              "      <td>5.75</td>\n",
              "      <td>0.46</td>\n",
              "      <td>1</td>\n",
              "      <td>0.187580</td>\n",
              "      <td>0.585424</td>\n",
              "      <td>0.226996</td>\n",
              "      <td>1</td>\n",
              "    </tr>\n",
              "    <tr>\n",
              "      <th>1234</th>\n",
              "      <td>350</td>\n",
              "      <td>2019-06-25</td>\n",
              "      <td>1,261.07</td>\n",
              "      <td>0.96</td>\n",
              "      <td>0.08</td>\n",
              "      <td>1</td>\n",
              "      <td>0.014274</td>\n",
              "      <td>0.533729</td>\n",
              "      <td>0.451997</td>\n",
              "      <td>1</td>\n",
              "    </tr>\n",
              "  </tbody>\n",
              "</table>\n",
              "<p>384 rows × 10 columns</p>\n",
              "</div>"
            ],
            "text/plain": [
              "      no_name       date     index  ...  neutral_mean  positive_mean  predicted\n",
              "0        1590 2014-02-02    775.92  ...      0.402860       0.065365          0\n",
              "2        1588 2014-02-04    774.91  ...      0.661742       0.273433          1\n",
              "3        1587 2014-02-05    781.38  ...      0.598400       0.143519          1\n",
              "4        1586 2014-02-06    785.78  ...      0.344083       0.327007          1\n",
              "5        1585 2014-02-09       784  ...      0.275743       0.329018          0\n",
              "...       ...        ...       ...  ...           ...            ...        ...\n",
              "1224      360 2019-06-11  1,275.99  ...      0.948027       0.046696          1\n",
              "1227      357 2019-06-16  1,258.27  ...      0.342759       0.034957          0\n",
              "1231      353 2019-06-20  1,264.36  ...      0.511052       0.092736          1\n",
              "1233      351 2019-06-24  1,260.10  ...      0.585424       0.226996          1\n",
              "1234      350 2019-06-25  1,261.07  ...      0.533729       0.451997          1\n",
              "\n",
              "[384 rows x 10 columns]"
            ]
          },
          "metadata": {
            "tags": []
          },
          "execution_count": 677
        }
      ]
    },
    {
      "cell_type": "code",
      "metadata": {
        "id": "2fowyUt0lFHP",
        "outputId": "3a31e7af-8173-4e67-dcdb-e1fca081cfa6",
        "colab": {
          "base_uri": "https://localhost:8080/",
          "height": 419
        }
      },
      "source": [
        "indices[(indices['target'] == 1) & (indices['predicted']== 0)]"
      ],
      "execution_count": 681,
      "outputs": [
        {
          "output_type": "execute_result",
          "data": {
            "text/html": [
              "<div>\n",
              "<style scoped>\n",
              "    .dataframe tbody tr th:only-of-type {\n",
              "        vertical-align: middle;\n",
              "    }\n",
              "\n",
              "    .dataframe tbody tr th {\n",
              "        vertical-align: top;\n",
              "    }\n",
              "\n",
              "    .dataframe thead th {\n",
              "        text-align: right;\n",
              "    }\n",
              "</style>\n",
              "<table border=\"1\" class=\"dataframe\">\n",
              "  <thead>\n",
              "    <tr style=\"text-align: right;\">\n",
              "      <th></th>\n",
              "      <th>no_name</th>\n",
              "      <th>date</th>\n",
              "      <th>index</th>\n",
              "      <th>abs_change</th>\n",
              "      <th>pct_change</th>\n",
              "      <th>target</th>\n",
              "      <th>negative_mean</th>\n",
              "      <th>neutral_mean</th>\n",
              "      <th>positive_mean</th>\n",
              "      <th>predicted</th>\n",
              "    </tr>\n",
              "  </thead>\n",
              "  <tbody>\n",
              "    <tr>\n",
              "      <th>26</th>\n",
              "      <td>1564</td>\n",
              "      <td>2014-03-13</td>\n",
              "      <td>783.08</td>\n",
              "      <td>2.57</td>\n",
              "      <td>0.32</td>\n",
              "      <td>1</td>\n",
              "      <td>0.446126</td>\n",
              "      <td>0.307189</td>\n",
              "      <td>0.246685</td>\n",
              "      <td>0</td>\n",
              "    </tr>\n",
              "    <tr>\n",
              "      <th>36</th>\n",
              "      <td>1554</td>\n",
              "      <td>2014-03-31</td>\n",
              "      <td>792.19</td>\n",
              "      <td>9.04</td>\n",
              "      <td>1.15</td>\n",
              "      <td>1</td>\n",
              "      <td>0.406734</td>\n",
              "      <td>0.359177</td>\n",
              "      <td>0.234089</td>\n",
              "      <td>0</td>\n",
              "    </tr>\n",
              "    <tr>\n",
              "      <th>38</th>\n",
              "      <td>1552</td>\n",
              "      <td>2014-04-02</td>\n",
              "      <td>802.96</td>\n",
              "      <td>1.97</td>\n",
              "      <td>0.24</td>\n",
              "      <td>1</td>\n",
              "      <td>0.486365</td>\n",
              "      <td>0.357505</td>\n",
              "      <td>0.156130</td>\n",
              "      <td>0</td>\n",
              "    </tr>\n",
              "    <tr>\n",
              "      <th>62</th>\n",
              "      <td>1528</td>\n",
              "      <td>2014-05-12</td>\n",
              "      <td>852.68</td>\n",
              "      <td>3.05</td>\n",
              "      <td>0.36</td>\n",
              "      <td>1</td>\n",
              "      <td>0.381664</td>\n",
              "      <td>0.333571</td>\n",
              "      <td>0.284765</td>\n",
              "      <td>0</td>\n",
              "    </tr>\n",
              "    <tr>\n",
              "      <th>83</th>\n",
              "      <td>1507</td>\n",
              "      <td>2014-06-11</td>\n",
              "      <td>899.53</td>\n",
              "      <td>4.51</td>\n",
              "      <td>0.50</td>\n",
              "      <td>1</td>\n",
              "      <td>0.513907</td>\n",
              "      <td>0.311091</td>\n",
              "      <td>0.175002</td>\n",
              "      <td>0</td>\n",
              "    </tr>\n",
              "    <tr>\n",
              "      <th>...</th>\n",
              "      <td>...</td>\n",
              "      <td>...</td>\n",
              "      <td>...</td>\n",
              "      <td>...</td>\n",
              "      <td>...</td>\n",
              "      <td>...</td>\n",
              "      <td>...</td>\n",
              "      <td>...</td>\n",
              "      <td>...</td>\n",
              "      <td>...</td>\n",
              "    </tr>\n",
              "    <tr>\n",
              "      <th>1195</th>\n",
              "      <td>389</td>\n",
              "      <td>2019-04-28</td>\n",
              "      <td>1,314.51</td>\n",
              "      <td>22.39</td>\n",
              "      <td>1.73</td>\n",
              "      <td>1</td>\n",
              "      <td>0.448870</td>\n",
              "      <td>0.377645</td>\n",
              "      <td>0.173485</td>\n",
              "      <td>0</td>\n",
              "    </tr>\n",
              "    <tr>\n",
              "      <th>1204</th>\n",
              "      <td>380</td>\n",
              "      <td>2019-05-12</td>\n",
              "      <td>1,295.03</td>\n",
              "      <td>3.07</td>\n",
              "      <td>0.24</td>\n",
              "      <td>1</td>\n",
              "      <td>0.736722</td>\n",
              "      <td>0.056568</td>\n",
              "      <td>0.206710</td>\n",
              "      <td>0</td>\n",
              "    </tr>\n",
              "    <tr>\n",
              "      <th>1206</th>\n",
              "      <td>378</td>\n",
              "      <td>2019-05-14</td>\n",
              "      <td>1,315.45</td>\n",
              "      <td>14.12</td>\n",
              "      <td>1.08</td>\n",
              "      <td>1</td>\n",
              "      <td>0.958674</td>\n",
              "      <td>0.026448</td>\n",
              "      <td>0.014877</td>\n",
              "      <td>0</td>\n",
              "    </tr>\n",
              "    <tr>\n",
              "      <th>1207</th>\n",
              "      <td>377</td>\n",
              "      <td>2019-05-15</td>\n",
              "      <td>1,321.00</td>\n",
              "      <td>5.55</td>\n",
              "      <td>0.42</td>\n",
              "      <td>1</td>\n",
              "      <td>0.431267</td>\n",
              "      <td>0.347092</td>\n",
              "      <td>0.221641</td>\n",
              "      <td>0</td>\n",
              "    </tr>\n",
              "    <tr>\n",
              "      <th>1228</th>\n",
              "      <td>356</td>\n",
              "      <td>2019-06-17</td>\n",
              "      <td>1,260.90</td>\n",
              "      <td>2.63</td>\n",
              "      <td>0.21</td>\n",
              "      <td>1</td>\n",
              "      <td>0.424596</td>\n",
              "      <td>0.245314</td>\n",
              "      <td>0.330090</td>\n",
              "      <td>0</td>\n",
              "    </tr>\n",
              "  </tbody>\n",
              "</table>\n",
              "<p>147 rows × 10 columns</p>\n",
              "</div>"
            ],
            "text/plain": [
              "      no_name       date     index  ...  neutral_mean  positive_mean  predicted\n",
              "26       1564 2014-03-13    783.08  ...      0.307189       0.246685          0\n",
              "36       1554 2014-03-31    792.19  ...      0.359177       0.234089          0\n",
              "38       1552 2014-04-02    802.96  ...      0.357505       0.156130          0\n",
              "62       1528 2014-05-12    852.68  ...      0.333571       0.284765          0\n",
              "83       1507 2014-06-11    899.53  ...      0.311091       0.175002          0\n",
              "...       ...        ...       ...  ...           ...            ...        ...\n",
              "1195      389 2019-04-28  1,314.51  ...      0.377645       0.173485          0\n",
              "1204      380 2019-05-12  1,295.03  ...      0.056568       0.206710          0\n",
              "1206      378 2019-05-14  1,315.45  ...      0.026448       0.014877          0\n",
              "1207      377 2019-05-15  1,321.00  ...      0.347092       0.221641          0\n",
              "1228      356 2019-06-17  1,260.90  ...      0.245314       0.330090          0\n",
              "\n",
              "[147 rows x 10 columns]"
            ]
          },
          "metadata": {
            "tags": []
          },
          "execution_count": 681
        }
      ]
    },
    {
      "cell_type": "code",
      "metadata": {
        "id": "viKT3Qz_kuDg",
        "outputId": "4ab11778-046a-42ba-c408-933a04aadaa0",
        "colab": {
          "base_uri": "https://localhost:8080/"
        }
      },
      "source": [
        "accuracy_score(indices['target'], indices['predicted'])"
      ],
      "execution_count": 678,
      "outputs": [
        {
          "output_type": "execute_result",
          "data": {
            "text/plain": [
              "0.31017770597738287"
            ]
          },
          "metadata": {
            "tags": []
          },
          "execution_count": 678
        }
      ]
    },
    {
      "cell_type": "code",
      "metadata": {
        "id": "Abcx5pFNk8s6",
        "outputId": "8bcd4fd6-36cc-41e9-dd4d-c5b1e6274786",
        "colab": {
          "base_uri": "https://localhost:8080/"
        }
      },
      "source": [
        "384/1238"
      ],
      "execution_count": 679,
      "outputs": [
        {
          "output_type": "execute_result",
          "data": {
            "text/plain": [
              "0.31017770597738287"
            ]
          },
          "metadata": {
            "tags": []
          },
          "execution_count": 679
        }
      ]
    },
    {
      "cell_type": "code",
      "metadata": {
        "id": "jGmCdoSGk8pr"
      },
      "source": [
        ""
      ],
      "execution_count": null,
      "outputs": []
    },
    {
      "cell_type": "code",
      "metadata": {
        "id": "UVGw-pRuk8l8"
      },
      "source": [
        ""
      ],
      "execution_count": null,
      "outputs": []
    },
    {
      "cell_type": "code",
      "metadata": {
        "id": "dVUiiHIP80zW"
      },
      "source": [
        "indices['target'] = np.where(indices['pct_change'] < 0 , 0, 1)"
      ],
      "execution_count": 533,
      "outputs": []
    },
    {
      "cell_type": "code",
      "metadata": {
        "id": "wd198x3FvSvH",
        "outputId": "6a7dbdf4-ae31-48c3-9608-271d4ae955e8",
        "colab": {
          "base_uri": "https://localhost:8080/"
        }
      },
      "source": [
        "# np.argmax(indices[['negative_mean', 'neutral_mean', 'positive_mean']].values, axis=1)"
      ],
      "execution_count": 341,
      "outputs": [
        {
          "output_type": "execute_result",
          "data": {
            "text/plain": [
              "array([1, 1, 1, ..., 1, 1, 1])"
            ]
          },
          "metadata": {
            "tags": []
          },
          "execution_count": 341
        }
      ]
    },
    {
      "cell_type": "code",
      "metadata": {
        "id": "bzvR0Pd8vXgR"
      },
      "source": [
        "# indices['pred_glove_300'] = np.argmax(indices[['negative_mean', 'neutral_mean', 'positive_mean']].values, axis=1)"
      ],
      "execution_count": 342,
      "outputs": []
    },
    {
      "cell_type": "code",
      "metadata": {
        "id": "XN3eS4NxvuBj",
        "outputId": "00d18ce2-164d-4aef-d97e-1c154bc911d1",
        "colab": {
          "base_uri": "https://localhost:8080/"
        }
      },
      "source": [
        "# accuracy_score(indices['target'], indices['pred_glove_300'])"
      ],
      "execution_count": 343,
      "outputs": [
        {
          "output_type": "execute_result",
          "data": {
            "text/plain": [
              "0.36591276252019383"
            ]
          },
          "metadata": {
            "tags": []
          },
          "execution_count": 343
        }
      ]
    },
    {
      "cell_type": "code",
      "metadata": {
        "id": "F6atn0B4ttap"
      },
      "source": [
        "features = ['negative_mean','neutral_mean', 'positive_mean']"
      ],
      "execution_count": 683,
      "outputs": []
    },
    {
      "cell_type": "code",
      "metadata": {
        "id": "D2LK3-QLttYS"
      },
      "source": [
        "validation_df = indices[indices['date'] > '2018-12-31']\n",
        "train_df = indices[indices['date'] <= '2018-12-31']"
      ],
      "execution_count": 684,
      "outputs": []
    },
    {
      "cell_type": "code",
      "metadata": {
        "id": "6Z_GucqNttQ5",
        "outputId": "d47d5bce-eb37-42d3-b2b9-bc4f96bf556d",
        "colab": {
          "base_uri": "https://localhost:8080/"
        }
      },
      "source": [
        "Xtrain, Xtest, ytrain, ytest = train_test_split(train_df[features], train_df['target'],\n",
        "                                                stratify=train_df['target'],\n",
        "                                                random_state=60, test_size=0.2 )\n",
        "\n",
        "\n",
        "params = {\n",
        "'num_leaves': 4,\n",
        "'objective': 'binary',\n",
        "'max_depth': 4,\n",
        "'learning_rate': 0.05,\n",
        "\"boosting_type\": \"gbdt\",\n",
        "\"bagging_seed\": 11,\n",
        "\"metric\": 'auc',\n",
        "\"verbosity\": -1,\n",
        "'random_state': 60\n",
        "}\n",
        "import lightgbm as lgb\n",
        "tr_data = lgb.Dataset(Xtrain, label=ytrain)\n",
        "va_data = lgb.Dataset(Xtest, label=ytest)\n",
        "\n",
        "model = lgb.train(\n",
        "        params, \n",
        "        tr_data,\n",
        "        num_boost_round=5000,   \n",
        "        valid_sets=[tr_data, va_data],\n",
        "        early_stopping_rounds=50,   \n",
        "        feature_name=features,\n",
        "        verbose_eval=10\n",
        "    )\n"
      ],
      "execution_count": 685,
      "outputs": [
        {
          "output_type": "stream",
          "text": [
            "Training until validation scores don't improve for 50 rounds.\n",
            "[10]\ttraining's auc: 0.630984\tvalid_1's auc: 0.514998\n",
            "[20]\ttraining's auc: 0.644539\tvalid_1's auc: 0.509454\n",
            "[30]\ttraining's auc: 0.650106\tvalid_1's auc: 0.521181\n",
            "[40]\ttraining's auc: 0.660994\tvalid_1's auc: 0.530993\n",
            "[50]\ttraining's auc: 0.666127\tvalid_1's auc: 0.51783\n",
            "[60]\ttraining's auc: 0.670902\tvalid_1's auc: 0.526127\n",
            "[70]\ttraining's auc: 0.677017\tvalid_1's auc: 0.524053\n",
            "[80]\ttraining's auc: 0.684007\tvalid_1's auc: 0.528799\n",
            "Early stopping, best iteration is:\n",
            "[39]\ttraining's auc: 0.660396\tvalid_1's auc: 0.531153\n"
          ],
          "name": "stdout"
        }
      ]
    },
    {
      "cell_type": "code",
      "metadata": {
        "id": "PTH9Osz5ttOB",
        "outputId": "4d875b06-6473-44ed-e6e4-31131e1e16f5",
        "colab": {
          "base_uri": "https://localhost:8080/"
        }
      },
      "source": [
        "accuracy_score(ytest, np.round(model.predict(Xtest)))"
      ],
      "execution_count": 686,
      "outputs": [
        {
          "output_type": "execute_result",
          "data": {
            "text/plain": [
              "0.5357142857142857"
            ]
          },
          "metadata": {
            "tags": []
          },
          "execution_count": 686
        }
      ]
    },
    {
      "cell_type": "code",
      "metadata": {
        "id": "cUfhyA2nwEX4",
        "outputId": "fc190b57-5947-4714-d072-726c7ac2a2db",
        "colab": {
          "base_uri": "https://localhost:8080/"
        }
      },
      "source": [
        "accuracy_score(validation_df['target'],np.round(model.predict(validation_df[features])))"
      ],
      "execution_count": 687,
      "outputs": [
        {
          "output_type": "execute_result",
          "data": {
            "text/plain": [
              "0.5289256198347108"
            ]
          },
          "metadata": {
            "tags": []
          },
          "execution_count": 687
        }
      ]
    },
    {
      "cell_type": "code",
      "metadata": {
        "id": "UJ4GbBCY1JW3"
      },
      "source": [
        "# !pip install optuna"
      ],
      "execution_count": 539,
      "outputs": []
    },
    {
      "cell_type": "code",
      "metadata": {
        "id": "HsnciR--wEVG"
      },
      "source": [
        "import optuna\n",
        "from sklearn.metrics import roc_auc_score\n",
        "from google.colab import output\n",
        "# lgb_train = lgb.Dataset(Xt, Yt)\n",
        "# lgb_eval = lgb.Dataset(Xv, Yv)\n",
        "\n",
        "def objective(trial):    \n",
        "    params = {\n",
        "            'num_leaves': trial.suggest_int('num_leaves', 2, 512),\n",
        "            'boosting_type': 'gbdt',\n",
        "            'objective': 'binary',\n",
        "            'metric': 'auc',\n",
        "            'max_depth': trial.suggest_int('max_depth', 1, 16),\n",
        "            'min_child_weight': trial.suggest_int('min_child_weight', 1, 16),\n",
        "            'feature_fraction': trial.suggest_uniform('feature_fraction', 0.5, 1.0),\n",
        "            'bagging_fraction': trial.suggest_uniform('bagging_fraction', 0.5, 1.0),\n",
        "            'bagging_freq': trial.suggest_int('bagging_freq', 1, 8),\n",
        "            'min_child_samples': trial.suggest_int('min_child_samples', 1, 80),\n",
        "            'lambda_l1': trial.suggest_loguniform('lambda_l1', 1e-8, 1.0),\n",
        "            'lambda_l2': trial.suggest_loguniform('lambda_l2', 1e-8, 1.0),\n",
        "            'learning_rate' : trial.suggest_uniform('learning_rate', 0.0001, 0.99),\n",
        "            'max_bin': trial.suggest_int('max_bin', 4, 900),\n",
        "            'early_stopping_rounds': 50,\n",
        "            'random_state':60 \n",
        "            }\n",
        "\n",
        "    model = lgb.train(params, tr_data, valid_sets=[tr_data, va_data], verbose_eval=None, num_boost_round=5000)\n",
        "\n",
        "    val_pred = model.predict(Xtest)\n",
        "    score = roc_auc_score(ytest, val_pred)\n",
        "    output.clear()\n",
        "    # print(f\"AUC = {score}\")\n",
        "    return score"
      ],
      "execution_count": 691,
      "outputs": []
    },
    {
      "cell_type": "code",
      "metadata": {
        "id": "tR7DZx61wESf",
        "outputId": "c3fd5ceb-13c3-4c35-a862-9e0bce0ee93e",
        "colab": {
          "base_uri": "https://localhost:8080/"
        }
      },
      "source": [
        "study = optuna.create_study(direction='maximize')\n",
        "study.optimize(objective, n_trials=5000)"
      ],
      "execution_count": 699,
      "outputs": [
        {
          "output_type": "stream",
          "text": [
            "\u001b[32m[I 2021-03-18 09:27:26,897]\u001b[0m Trial 4999 finished with value: 0.5968089349820503 and parameters: {'num_leaves': 496, 'max_depth': 4, 'min_child_weight': 7, 'feature_fraction': 0.500061759809321, 'bagging_fraction': 0.7997742870946298, 'bagging_freq': 5, 'min_child_samples': 28, 'lambda_l1': 1.970886088921191e-08, 'lambda_l2': 0.05137571865891589, 'learning_rate': 0.9545619195523647, 'max_bin': 810}. Best is trial 4380 with value: 0.6849222177901875.\u001b[0m\n"
          ],
          "name": "stderr"
        }
      ]
    },
    {
      "cell_type": "code",
      "metadata": {
        "id": "ZpbzFPh7wEPs",
        "outputId": "583270ea-7639-4619-9352-2c1792ba03f8",
        "colab": {
          "base_uri": "https://localhost:8080/"
        }
      },
      "source": [
        "study.best_params"
      ],
      "execution_count": 700,
      "outputs": [
        {
          "output_type": "execute_result",
          "data": {
            "text/plain": [
              "{'bagging_fraction': 0.8066193099148433,\n",
              " 'bagging_freq': 5,\n",
              " 'feature_fraction': 0.5322573492972873,\n",
              " 'lambda_l1': 4.566263965400348e-08,\n",
              " 'lambda_l2': 0.0018338038762390593,\n",
              " 'learning_rate': 0.9840006396956522,\n",
              " 'max_bin': 769,\n",
              " 'max_depth': 4,\n",
              " 'min_child_samples': 1,\n",
              " 'min_child_weight': 6,\n",
              " 'num_leaves': 511}"
            ]
          },
          "metadata": {
            "tags": []
          },
          "execution_count": 700
        }
      ]
    },
    {
      "cell_type": "code",
      "metadata": {
        "id": "uM_UGXXXwEM4",
        "outputId": "b4dd45a8-2937-4912-c205-531e93d236a9",
        "colab": {
          "base_uri": "https://localhost:8080/"
        }
      },
      "source": [
        "\n",
        "import lightgbm as lgb\n",
        "tr_data = lgb.Dataset(Xtrain, label=ytrain)\n",
        "va_data = lgb.Dataset(Xtest, label=ytest)\n",
        "params = {\n",
        "'objective': 'binary',\n",
        "\"boosting_type\": \"gbdt\",\n",
        "\"metric\": 'auc',\n",
        "\"verbosity\": -1,\n",
        "'random_state': 60,\n",
        "'bagging_fraction': 0.8066193099148433,\n",
        " 'bagging_freq': 5,\n",
        " 'feature_fraction': 0.5322573492972873,\n",
        " 'lambda_l1': 4.566263965400348e-08,\n",
        " 'lambda_l2': 0.0018338038762390593,\n",
        " 'learning_rate': 0.9840006396956522,\n",
        " 'max_bin': 769,\n",
        " 'max_depth': 4,\n",
        " 'min_child_samples': 1,\n",
        " 'min_child_weight': 6,\n",
        " 'num_leaves': 511\n",
        "}\n",
        "\n",
        "\n",
        "\n",
        "model = lgb.train(\n",
        "        params, \n",
        "        tr_data,\n",
        "        num_boost_round=5000,   \n",
        "        valid_sets=[tr_data, va_data],\n",
        "        early_stopping_rounds=50,   \n",
        "        feature_name=features,\n",
        "        verbose_eval=10\n",
        "    )\n"
      ],
      "execution_count": 701,
      "outputs": [
        {
          "output_type": "stream",
          "text": [
            "Training until validation scores don't improve for 50 rounds.\n",
            "[10]\ttraining's auc: 0.689628\tvalid_1's auc: 0.554089\n",
            "[20]\ttraining's auc: 0.737073\tvalid_1's auc: 0.680574\n",
            "[30]\ttraining's auc: 0.787364\tvalid_1's auc: 0.662266\n",
            "[40]\ttraining's auc: 0.811388\tvalid_1's auc: 0.62844\n",
            "[50]\ttraining's auc: 0.839634\tvalid_1's auc: 0.583008\n",
            "[60]\ttraining's auc: 0.861697\tvalid_1's auc: 0.575509\n",
            "Early stopping, best iteration is:\n",
            "[18]\ttraining's auc: 0.72939\tvalid_1's auc: 0.684922\n"
          ],
          "name": "stdout"
        }
      ]
    },
    {
      "cell_type": "code",
      "metadata": {
        "id": "byRPPktotaQ3",
        "outputId": "d3a8a672-94d4-4773-b4b7-b213aea39fd8",
        "colab": {
          "base_uri": "https://localhost:8080/"
        }
      },
      "source": [
        "accuracy_score(ytest, np.round(model.predict(Xtest)))"
      ],
      "execution_count": 702,
      "outputs": [
        {
          "output_type": "execute_result",
          "data": {
            "text/plain": [
              "0.625"
            ]
          },
          "metadata": {
            "tags": []
          },
          "execution_count": 702
        }
      ]
    },
    {
      "cell_type": "code",
      "metadata": {
        "id": "XxyL0zJttaLY",
        "colab": {
          "base_uri": "https://localhost:8080/"
        },
        "outputId": "f9d0e09c-8c73-41ce-9bb6-4a2e09b31f3a"
      },
      "source": [
        "roc_auc_score(ytest, model.predict(Xtest))"
      ],
      "execution_count": 703,
      "outputs": [
        {
          "output_type": "execute_result",
          "data": {
            "text/plain": [
              "0.6849222177901875"
            ]
          },
          "metadata": {
            "tags": []
          },
          "execution_count": 703
        }
      ]
    },
    {
      "cell_type": "code",
      "metadata": {
        "id": "0Bv1PKovz3Nj",
        "colab": {
          "base_uri": "https://localhost:8080/"
        },
        "outputId": "36d35588-1c02-4219-8aff-1150a740a825"
      },
      "source": [
        "roc_auc_score(validation_df['target'], model.predict(validation_df[features]))"
      ],
      "execution_count": 704,
      "outputs": [
        {
          "output_type": "execute_result",
          "data": {
            "text/plain": [
              "0.5740841990158557"
            ]
          },
          "metadata": {
            "tags": []
          },
          "execution_count": 704
        }
      ]
    },
    {
      "cell_type": "code",
      "metadata": {
        "id": "dEUSJpkJQXdB",
        "outputId": "19b89ee2-7555-40bc-bffc-3c4be5aa17eb",
        "colab": {
          "base_uri": "https://localhost:8080/"
        }
      },
      "source": [
        "accuracy_score(validation_df['target'], np.round(model.predict(validation_df[features])))"
      ],
      "execution_count": 705,
      "outputs": [
        {
          "output_type": "execute_result",
          "data": {
            "text/plain": [
              "0.5537190082644629"
            ]
          },
          "metadata": {
            "tags": []
          },
          "execution_count": 705
        }
      ]
    },
    {
      "cell_type": "code",
      "metadata": {
        "id": "Kiwo3jaXQXaP"
      },
      "source": [
        ""
      ],
      "execution_count": null,
      "outputs": []
    },
    {
      "cell_type": "code",
      "metadata": {
        "id": "4QgexgMhQXXb"
      },
      "source": [
        ""
      ],
      "execution_count": null,
      "outputs": []
    },
    {
      "cell_type": "code",
      "metadata": {
        "id": "tbA1wzEtQXUr"
      },
      "source": [
        ""
      ],
      "execution_count": null,
      "outputs": []
    },
    {
      "cell_type": "code",
      "metadata": {
        "id": "Ckwqu37iQXRn"
      },
      "source": [
        ""
      ],
      "execution_count": null,
      "outputs": []
    },
    {
      "cell_type": "code",
      "metadata": {
        "id": "TJBOY40KQXOq"
      },
      "source": [
        ""
      ],
      "execution_count": null,
      "outputs": []
    },
    {
      "cell_type": "code",
      "metadata": {
        "id": "c4o8tnk0QXLn"
      },
      "source": [
        ""
      ],
      "execution_count": null,
      "outputs": []
    },
    {
      "cell_type": "code",
      "metadata": {
        "id": "ecnuQoCZQXIg"
      },
      "source": [
        ""
      ],
      "execution_count": null,
      "outputs": []
    },
    {
      "cell_type": "code",
      "metadata": {
        "id": "z0v6tLVuQXFo"
      },
      "source": [
        ""
      ],
      "execution_count": null,
      "outputs": []
    },
    {
      "cell_type": "code",
      "metadata": {
        "id": "9nms_dMCQXCH"
      },
      "source": [
        ""
      ],
      "execution_count": null,
      "outputs": []
    },
    {
      "cell_type": "code",
      "metadata": {
        "id": "iFAgE82mEolB"
      },
      "source": [
        "imdb_train, ds_info = tfds.load(name=\"imdb_reviews\", split=\"train\", \n",
        "                                with_info=True, as_supervised=True)\n",
        "imdb_test = tfds.load(name=\"imdb_reviews\", split=\"test\", \n",
        "                      as_supervised=True)"
      ],
      "execution_count": null,
      "outputs": []
    },
    {
      "cell_type": "code",
      "metadata": {
        "id": "ar_2N1sAEy8t"
      },
      "source": [
        "imdb_train = tfds.as_dataframe(imdb_train, ds_info)\n",
        "imdb_test = tfds.as_dataframe(imdb_test, ds_info)"
      ],
      "execution_count": null,
      "outputs": []
    },
    {
      "cell_type": "code",
      "metadata": {
        "id": "FhBvV8ICFgdD"
      },
      "source": [
        "imdb_train = imdb_train.applymap(lambda x: x.decode('utf-8') if isinstance(x, bytes) else x)\n",
        "imdb_test = imdb_test.applymap(lambda x: x.decode('utf-8') if isinstance(x, bytes) else x)"
      ],
      "execution_count": null,
      "outputs": []
    },
    {
      "cell_type": "code",
      "metadata": {
        "id": "_k2ksxugFre8"
      },
      "source": [
        "X_train = imdb_train['text']\n",
        "y_train = imdb_train['label']\n",
        "X_test = imdb_test['text']\n",
        "y_test = imdb_test['label']"
      ],
      "execution_count": null,
      "outputs": []
    },
    {
      "cell_type": "code",
      "metadata": {
        "id": "MzZexQ0AGvZZ"
      },
      "source": [
        "tokenizer= Tokenizer()\n",
        "tokenizer.fit_on_texts(X_train)\n",
        "X_train = tokenizer.texts_to_sequences(X_train)\n",
        "X_test= tokenizer.texts_to_sequences(X_test)"
      ],
      "execution_count": null,
      "outputs": []
    },
    {
      "cell_type": "code",
      "metadata": {
        "id": "Y5q10RrAHDdw"
      },
      "source": [
        "word_index = tokenizer.word_index"
      ],
      "execution_count": null,
      "outputs": []
    },
    {
      "cell_type": "code",
      "metadata": {
        "id": "WyPCE2z1HcLh"
      },
      "source": [
        "max_len = np.max([len(X_train[i]) for i in range(len(X_train))])"
      ],
      "execution_count": null,
      "outputs": []
    },
    {
      "cell_type": "code",
      "metadata": {
        "id": "pYzQQE6EIy6P"
      },
      "source": [
        "Tokenizer()"
      ],
      "execution_count": null,
      "outputs": []
    },
    {
      "cell_type": "code",
      "metadata": {
        "id": "u8XwtNTyJg14"
      },
      "source": [
        "X_train = pad_sequences(X_train, maxlen=150, padding='post', )\n",
        "X_test = pad_sequences(X_test, maxlen = 150, padding='post')"
      ],
      "execution_count": null,
      "outputs": []
    },
    {
      "cell_type": "code",
      "metadata": {
        "id": "ErD9bJHdKDSp"
      },
      "source": [
        "y_train = to_categorical(y_train)\n",
        "y_test = to_categorical(y_test)"
      ],
      "execution_count": null,
      "outputs": []
    },
    {
      "cell_type": "code",
      "metadata": {
        "id": "4VBM1guqKSkg"
      },
      "source": [
        "n_classes = 1\n",
        "def build_model_lstm(vocab_size, embedding_dim, rnn_units):\n",
        "    model = tf.keras.Sequential([\n",
        "    tf.keras.layers.Embedding(vocab_size, embedding_dim,\n",
        "    mask_zero=True),\n",
        "    tf.keras.layers.LSTM(rnn_units),\n",
        "    tf.keras.layers.Dense(1, activation='sigmoid')\n",
        "    ])\n",
        "    return model\n",
        "\n"
      ],
      "execution_count": null,
      "outputs": []
    },
    {
      "cell_type": "code",
      "metadata": {
        "colab": {
          "base_uri": "https://localhost:8080/"
        },
        "id": "hpW3UOJvKq-7",
        "outputId": "951c9440-12f9-4e65-a64f-3eccd87b58b0"
      },
      "source": [
        "vocab_size = len(word_index) +1\n",
        "# The embedding dimension\n",
        "embedding_dim = 64\n",
        "# Number of RNN units\n",
        "rnn_units = 64\n",
        "# batch size\n",
        "BATCH_SIZE=100\n",
        "model = build_model_lstm(\n",
        "    vocab_size = vocab_size,\n",
        "    embedding_dim=embedding_dim,\n",
        "    rnn_units=rnn_units)\n",
        "model.summary()\n"
      ],
      "execution_count": null,
      "outputs": [
        {
          "output_type": "stream",
          "text": [
            "Model: \"sequential_2\"\n",
            "_________________________________________________________________\n",
            "Layer (type)                 Output Shape              Param #   \n",
            "=================================================================\n",
            "embedding_2 (Embedding)      (None, None, 64)          5669312   \n",
            "_________________________________________________________________\n",
            "lstm_2 (LSTM)                (None, 64)                33024     \n",
            "_________________________________________________________________\n",
            "dense_2 (Dense)              (None, 1)                 65        \n",
            "=================================================================\n",
            "Total params: 5,702,401\n",
            "Trainable params: 5,702,401\n",
            "Non-trainable params: 0\n",
            "_________________________________________________________________\n"
          ],
          "name": "stdout"
        }
      ]
    },
    {
      "cell_type": "code",
      "metadata": {
        "colab": {
          "base_uri": "https://localhost:8080/"
        },
        "id": "1IZZozOEK66S",
        "outputId": "baf69a05-d538-48b6-c511-a32b03cda1e4"
      },
      "source": [
        "model.compile(loss='binary_crossentropy',optimizer='adam',metrics=['accuracy', 'Precision', 'Recall'])\n",
        "\n",
        "model.fit(X_train, y_train, epochs=10, batch_size=BATCH_SIZE, verbose=1)\n"
      ],
      "execution_count": null,
      "outputs": [
        {
          "output_type": "stream",
          "text": [
            "Epoch 1/10\n",
            "250/250 [==============================] - 13s 42ms/step - loss: 0.5405 - accuracy: 0.7022 - precision: 0.7034 - recall: 0.7006\n",
            "Epoch 2/10\n",
            "250/250 [==============================] - 11s 42ms/step - loss: 0.1774 - accuracy: 0.9366 - precision: 0.9344 - recall: 0.9400\n",
            "Epoch 3/10\n",
            "250/250 [==============================] - 10s 42ms/step - loss: 0.0855 - accuracy: 0.9739 - precision: 0.9753 - recall: 0.9726\n",
            "Epoch 4/10\n",
            "250/250 [==============================] - 10s 42ms/step - loss: 0.0499 - accuracy: 0.9856 - precision: 0.9844 - recall: 0.9867\n",
            "Epoch 5/10\n",
            "250/250 [==============================] - 10s 42ms/step - loss: 0.0265 - accuracy: 0.9928 - precision: 0.9938 - recall: 0.9919\n",
            "Epoch 6/10\n",
            "250/250 [==============================] - 10s 42ms/step - loss: 0.0303 - accuracy: 0.9909 - precision: 0.9922 - recall: 0.9897\n",
            "Epoch 7/10\n",
            "250/250 [==============================] - 10s 42ms/step - loss: 0.0358 - accuracy: 0.9872 - precision: 0.9885 - recall: 0.9856\n",
            "Epoch 8/10\n",
            "250/250 [==============================] - 10s 42ms/step - loss: 0.0144 - accuracy: 0.9956 - precision: 0.9956 - recall: 0.9956\n",
            "Epoch 9/10\n",
            "250/250 [==============================] - 10s 42ms/step - loss: 0.0156 - accuracy: 0.9949 - precision: 0.9949 - recall: 0.9948\n",
            "Epoch 10/10\n",
            "250/250 [==============================] - 10s 42ms/step - loss: 0.0063 - accuracy: 0.9983 - precision: 0.9987 - recall: 0.9979\n"
          ],
          "name": "stdout"
        },
        {
          "output_type": "execute_result",
          "data": {
            "text/plain": [
              "<tensorflow.python.keras.callbacks.History at 0x7f4bc24ad690>"
            ]
          },
          "metadata": {
            "tags": []
          },
          "execution_count": 118
        }
      ]
    },
    {
      "cell_type": "code",
      "metadata": {
        "colab": {
          "base_uri": "https://localhost:8080/"
        },
        "id": "3iJEWtc7LZc0",
        "outputId": "de06f9ef-53e6-4673-ba32-94b611beabc9"
      },
      "source": [
        "model.evaluate(X_test, y_test, batch_size=BATCH_SIZE)"
      ],
      "execution_count": null,
      "outputs": [
        {
          "output_type": "stream",
          "text": [
            "250/250 [==============================] - 3s 7ms/step - loss: 0.8269 - accuracy: 0.8362 - precision: 0.8356 - recall: 0.8370\n"
          ],
          "name": "stdout"
        },
        {
          "output_type": "execute_result",
          "data": {
            "text/plain": [
              "[0.826852023601532, 0.8361600041389465, 0.8355693817138672, 0.8370400071144104]"
            ]
          },
          "metadata": {
            "tags": []
          },
          "execution_count": 119
        }
      ]
    },
    {
      "cell_type": "code",
      "metadata": {
        "colab": {
          "base_uri": "https://localhost:8080/"
        },
        "id": "HKkPUp8gM8JR",
        "outputId": "3170b907-1eae-46c7-ba8f-eb4b844f8474"
      },
      "source": [
        "model.predict(X_test[0])"
      ],
      "execution_count": null,
      "outputs": [
        {
          "output_type": "execute_result",
          "data": {
            "text/plain": [
              "0.47636515299479165"
            ]
          },
          "metadata": {
            "tags": []
          },
          "execution_count": 127
        }
      ]
    },
    {
      "cell_type": "code",
      "metadata": {
        "id": "FNtgPfi3QONJ"
      },
      "source": [
        "y_train = to_categorical(y_train)\n",
        "y_test= to_categorical(y_test)"
      ],
      "execution_count": null,
      "outputs": []
    },
    {
      "cell_type": "code",
      "metadata": {
        "id": "BtzxfLIeNJ6d"
      },
      "source": [
        "EMBEDDING_DIM = 300\n",
        "model = Sequential()\n",
        "model.add(Embedding(vocab_size, EMBEDDING_DIM, input_length=max_len))\n",
        "model.add(Dropout(0.25))\n",
        "model.add(Bidirectional(LSTM(200, return_sequences=True), merge_mode='concat'))\n",
        "model.add(Dropout(0.25))\n",
        "model.add(GlobalMaxPool1D())\n",
        "model.add(Dense(50, activation='sigmoid'))\n",
        "model.add(Dropout(0.25))\n",
        "model.add(Dense(2, activation='softmax'))\n",
        "model.compile(loss='categorical_crossentropy', optimizer='rmsprop', metrics='accuracy')"
      ],
      "execution_count": null,
      "outputs": []
    },
    {
      "cell_type": "code",
      "metadata": {
        "colab": {
          "base_uri": "https://localhost:8080/"
        },
        "id": "4yvUtK-_TOto",
        "outputId": "6c970151-11ad-4427-e429-3e9379c642c1"
      },
      "source": [
        "model.summary()"
      ],
      "execution_count": null,
      "outputs": [
        {
          "output_type": "stream",
          "text": [
            "Model: \"sequential_3\"\n",
            "_________________________________________________________________\n",
            "Layer (type)                 Output Shape              Param #   \n",
            "=================================================================\n",
            "embedding_3 (Embedding)      (None, 2493, 300)         26574900  \n",
            "_________________________________________________________________\n",
            "dropout (Dropout)            (None, 2493, 300)         0         \n",
            "_________________________________________________________________\n",
            "bidirectional (Bidirectional (None, 2493, 400)         801600    \n",
            "_________________________________________________________________\n",
            "dropout_1 (Dropout)          (None, 2493, 400)         0         \n",
            "_________________________________________________________________\n",
            "global_max_pooling1d (Global (None, 400)               0         \n",
            "_________________________________________________________________\n",
            "dense_3 (Dense)              (None, 50)                20050     \n",
            "_________________________________________________________________\n",
            "dropout_2 (Dropout)          (None, 50)                0         \n",
            "_________________________________________________________________\n",
            "dense_4 (Dense)              (None, 2)                 102       \n",
            "=================================================================\n",
            "Total params: 27,396,652\n",
            "Trainable params: 27,396,652\n",
            "Non-trainable params: 0\n",
            "_________________________________________________________________\n"
          ],
          "name": "stdout"
        }
      ]
    },
    {
      "cell_type": "code",
      "metadata": {
        "colab": {
          "base_uri": "https://localhost:8080/"
        },
        "id": "H_YuEARuQ2m5",
        "outputId": "a71b4f00-cc38-4b2b-e37b-9bfb14f39369"
      },
      "source": [
        "batch_size = 64\n",
        "epochs = 10\n",
        "model.fit(X_train, y_train, epochs=epochs, batch_size=batch_size,verbose=1)"
      ],
      "execution_count": null,
      "outputs": [
        {
          "output_type": "stream",
          "text": [
            "Epoch 1/10\n",
            "391/391 [==============================] - 35s 91ms/step - loss: 0.2858 - accuracy: 0.8836\n",
            "Epoch 2/10\n",
            "391/391 [==============================] - 35s 90ms/step - loss: 0.2051 - accuracy: 0.9219\n",
            "Epoch 3/10\n",
            "391/391 [==============================] - 35s 90ms/step - loss: 0.1554 - accuracy: 0.9426\n",
            "Epoch 4/10\n",
            "391/391 [==============================] - 35s 90ms/step - loss: 0.1183 - accuracy: 0.9592\n",
            "Epoch 5/10\n",
            "391/391 [==============================] - 35s 90ms/step - loss: 0.0844 - accuracy: 0.9712\n",
            "Epoch 6/10\n",
            "391/391 [==============================] - 35s 90ms/step - loss: 0.0571 - accuracy: 0.9808\n",
            "Epoch 7/10\n",
            "391/391 [==============================] - 35s 90ms/step - loss: 0.0411 - accuracy: 0.9863\n",
            "Epoch 8/10\n",
            "391/391 [==============================] - 36s 91ms/step - loss: 0.0280 - accuracy: 0.9912\n",
            "Epoch 9/10\n",
            "391/391 [==============================] - 35s 91ms/step - loss: 0.0179 - accuracy: 0.9943\n",
            "Epoch 10/10\n",
            "391/391 [==============================] - 35s 91ms/step - loss: 0.0121 - accuracy: 0.9964\n"
          ],
          "name": "stdout"
        },
        {
          "output_type": "execute_result",
          "data": {
            "text/plain": [
              "<tensorflow.python.keras.callbacks.History at 0x7f4bc0684990>"
            ]
          },
          "metadata": {
            "tags": []
          },
          "execution_count": 134
        }
      ]
    },
    {
      "cell_type": "code",
      "metadata": {
        "colab": {
          "base_uri": "https://localhost:8080/"
        },
        "id": "X8dhB9wzQ8I-",
        "outputId": "6c2cae88-47e6-4ddc-a173-b76e6b953c89"
      },
      "source": [
        "model.evaluate(X_test, y_test, batch_size=BATCH_SIZE)"
      ],
      "execution_count": null,
      "outputs": [
        {
          "output_type": "stream",
          "text": [
            "WARNING:tensorflow:Model was constructed with shape (None, 2493) for input KerasTensor(type_spec=TensorSpec(shape=(None, 2493), dtype=tf.float32, name='embedding_3_input'), name='embedding_3_input', description=\"created by layer 'embedding_3_input'\"), but it was called on an input with incompatible shape (100, 150).\n"
          ],
          "name": "stdout"
        },
        {
          "output_type": "stream",
          "text": [
            "WARNING:tensorflow:Model was constructed with shape (None, 2493) for input KerasTensor(type_spec=TensorSpec(shape=(None, 2493), dtype=tf.float32, name='embedding_3_input'), name='embedding_3_input', description=\"created by layer 'embedding_3_input'\"), but it was called on an input with incompatible shape (100, 150).\n"
          ],
          "name": "stderr"
        },
        {
          "output_type": "stream",
          "text": [
            "250/250 [==============================] - 4s 13ms/step - loss: 0.6060 - accuracy: 0.8502\n"
          ],
          "name": "stdout"
        },
        {
          "output_type": "execute_result",
          "data": {
            "text/plain": [
              "[0.6059731841087341, 0.8501999974250793]"
            ]
          },
          "metadata": {
            "tags": []
          },
          "execution_count": 136
        }
      ]
    },
    {
      "cell_type": "code",
      "metadata": {
        "colab": {
          "base_uri": "https://localhost:8080/"
        },
        "id": "CAKn2JMbTdDh",
        "outputId": "4bbe5f16-d866-4fcb-85fc-92e8387b7525"
      },
      "source": [
        "model.predict(X_test[0])"
      ],
      "execution_count": null,
      "outputs": [
        {
          "output_type": "stream",
          "text": [
            "WARNING:tensorflow:Model was constructed with shape (None, 2493) for input KerasTensor(type_spec=TensorSpec(shape=(None, 2493), dtype=tf.float32, name='embedding_3_input'), name='embedding_3_input', description=\"created by layer 'embedding_3_input'\"), but it was called on an input with incompatible shape (None, 1).\n"
          ],
          "name": "stdout"
        },
        {
          "output_type": "stream",
          "text": [
            "WARNING:tensorflow:Model was constructed with shape (None, 2493) for input KerasTensor(type_spec=TensorSpec(shape=(None, 2493), dtype=tf.float32, name='embedding_3_input'), name='embedding_3_input', description=\"created by layer 'embedding_3_input'\"), but it was called on an input with incompatible shape (None, 1).\n"
          ],
          "name": "stderr"
        },
        {
          "output_type": "execute_result",
          "data": {
            "text/plain": [
              "array([[3.94611120e-01, 6.05388880e-01],\n",
              "       [7.62499988e-01, 2.37499967e-01],\n",
              "       [9.99360025e-01, 6.39992417e-04],\n",
              "       [2.54454720e-03, 9.97455418e-01],\n",
              "       [2.42744815e-02, 9.75725532e-01],\n",
              "       [5.18489957e-01, 4.81509984e-01],\n",
              "       [1.93062499e-01, 8.06937516e-01],\n",
              "       [8.01742554e-01, 1.98257491e-01],\n",
              "       [6.38091326e-01, 3.61908704e-01],\n",
              "       [4.71223384e-01, 5.28776646e-01],\n",
              "       [8.80347371e-01, 1.19652607e-01],\n",
              "       [3.91476555e-04, 9.99608576e-01],\n",
              "       [9.98337388e-01, 1.66256400e-03],\n",
              "       [3.48617882e-01, 6.51382089e-01],\n",
              "       [5.72086036e-01, 4.27913964e-01],\n",
              "       [9.84464467e-01, 1.55354915e-02],\n",
              "       [1.09254186e-04, 9.99890685e-01],\n",
              "       [1.99941069e-01, 8.00058901e-01],\n",
              "       [8.08977187e-01, 1.91022769e-01],\n",
              "       [5.03213584e-01, 4.96786386e-01],\n",
              "       [8.48092139e-01, 1.51907936e-01],\n",
              "       [9.69207048e-01, 3.07929907e-02],\n",
              "       [5.03213584e-01, 4.96786386e-01],\n",
              "       [8.48092139e-01, 1.51907936e-01],\n",
              "       [6.92174397e-03, 9.93078172e-01],\n",
              "       [8.48092139e-01, 1.51907936e-01],\n",
              "       [9.60729420e-01, 3.92706171e-02],\n",
              "       [7.55092978e-01, 2.44907022e-01],\n",
              "       [5.68609655e-01, 4.31390405e-01],\n",
              "       [9.98669147e-01, 1.33085728e-03],\n",
              "       [9.25569355e-01, 7.44306520e-02],\n",
              "       [6.10065937e-01, 3.89934093e-01],\n",
              "       [3.72588374e-02, 9.62741137e-01],\n",
              "       [4.31142822e-02, 9.56885755e-01],\n",
              "       [4.16871130e-01, 5.83128929e-01],\n",
              "       [2.45105490e-01, 7.54894495e-01],\n",
              "       [9.86912012e-01, 1.30879451e-02],\n",
              "       [6.10065937e-01, 3.89934093e-01],\n",
              "       [4.58983243e-01, 5.41016757e-01],\n",
              "       [5.68609655e-01, 4.31390405e-01],\n",
              "       [2.83704083e-02, 9.71629620e-01],\n",
              "       [7.97293484e-02, 9.20270681e-01],\n",
              "       [5.03213584e-01, 4.96786386e-01],\n",
              "       [8.86001289e-01, 1.13998666e-01],\n",
              "       [8.69673252e-01, 1.30326718e-01],\n",
              "       [6.10065937e-01, 3.89934093e-01],\n",
              "       [8.12637687e-01, 1.87362283e-01],\n",
              "       [1.95577428e-01, 8.04422557e-01],\n",
              "       [6.10065937e-01, 3.89934093e-01],\n",
              "       [4.31142822e-02, 9.56885755e-01],\n",
              "       [2.28764918e-02, 9.77123499e-01],\n",
              "       [4.16871130e-01, 5.83128929e-01],\n",
              "       [2.45105490e-01, 7.54894495e-01],\n",
              "       [4.59676445e-01, 5.40323615e-01],\n",
              "       [8.01742554e-01, 1.98257491e-01],\n",
              "       [8.99117112e-01, 1.00882903e-01],\n",
              "       [8.51726234e-01, 1.48273796e-01],\n",
              "       [3.50428849e-01, 6.49571180e-01],\n",
              "       [6.82107985e-01, 3.17891985e-01],\n",
              "       [9.98337388e-01, 1.66256400e-03],\n",
              "       [3.48617882e-01, 6.51382089e-01],\n",
              "       [5.72086036e-01, 4.27913964e-01],\n",
              "       [9.84464467e-01, 1.55354915e-02],\n",
              "       [3.50428849e-01, 6.49571180e-01],\n",
              "       [4.59676445e-01, 5.40323615e-01],\n",
              "       [6.78626075e-03, 9.93213773e-01],\n",
              "       [2.83704083e-02, 9.71629620e-01],\n",
              "       [7.55092978e-01, 2.44907022e-01],\n",
              "       [8.69809747e-01, 1.30190253e-01],\n",
              "       [9.78693247e-01, 2.13067010e-02],\n",
              "       [6.38091326e-01, 3.61908704e-01],\n",
              "       [9.76025105e-01, 2.39749216e-02],\n",
              "       [9.08619523e-01, 9.13804844e-02],\n",
              "       [7.19521046e-01, 2.80478925e-01],\n",
              "       [8.01742554e-01, 1.98257491e-01],\n",
              "       [9.60610807e-01, 3.93891335e-02],\n",
              "       [9.58054781e-01, 4.19451781e-02],\n",
              "       [8.59631896e-01, 1.40368119e-01],\n",
              "       [3.48617882e-01, 6.51382089e-01],\n",
              "       [2.44970154e-02, 9.75503027e-01],\n",
              "       [7.55092978e-01, 2.44907022e-01],\n",
              "       [4.16871130e-01, 5.83128929e-01],\n",
              "       [9.97792721e-01, 2.20734277e-03],\n",
              "       [5.03213584e-01, 4.96786386e-01],\n",
              "       [9.90198255e-01, 9.80177615e-03],\n",
              "       [3.48617882e-01, 6.51382089e-01],\n",
              "       [5.98376274e-01, 4.01623696e-01],\n",
              "       [5.67913353e-01, 4.32086676e-01],\n",
              "       [5.98376274e-01, 4.01623696e-01],\n",
              "       [9.96609211e-01, 3.39078996e-03],\n",
              "       [7.55092978e-01, 2.44907022e-01],\n",
              "       [9.63294208e-02, 9.03670609e-01],\n",
              "       [8.01742554e-01, 1.98257491e-01],\n",
              "       [1.95341140e-01, 8.04658830e-01],\n",
              "       [6.15648972e-03, 9.93843555e-01],\n",
              "       [5.68609655e-01, 4.31390405e-01],\n",
              "       [9.99814689e-01, 1.85327139e-04],\n",
              "       [4.13520448e-02, 9.58647966e-01],\n",
              "       [5.03213584e-01, 4.96786386e-01],\n",
              "       [3.15329313e-01, 6.84670687e-01],\n",
              "       [7.55092978e-01, 2.44907022e-01],\n",
              "       [9.63294208e-02, 9.03670609e-01],\n",
              "       [7.31409848e-01, 2.68590122e-01],\n",
              "       [3.08290362e-01, 6.91709638e-01],\n",
              "       [3.50428849e-01, 6.49571180e-01],\n",
              "       [2.46031035e-04, 9.99754012e-01],\n",
              "       [9.89393234e-01, 1.06067257e-02],\n",
              "       [3.48617882e-01, 6.51382089e-01],\n",
              "       [8.18565607e-01, 1.81434423e-01],\n",
              "       [9.82791245e-01, 1.72086786e-02],\n",
              "       [7.55092978e-01, 2.44907022e-01],\n",
              "       [3.48617882e-01, 6.51382089e-01],\n",
              "       [1.83338344e-01, 8.16661656e-01],\n",
              "       [9.98547018e-01, 1.45297765e-03],\n",
              "       [9.98589933e-01, 1.41006242e-03],\n",
              "       [5.03213584e-01, 4.96786386e-01],\n",
              "       [5.68609655e-01, 4.31390405e-01],\n",
              "       [1.46250606e-01, 8.53749394e-01],\n",
              "       [3.01816724e-02, 9.69818294e-01],\n",
              "       [1.09937944e-01, 8.90062094e-01],\n",
              "       [6.37287259e-01, 3.62712801e-01],\n",
              "       [2.72868481e-03, 9.97271359e-01],\n",
              "       [8.21948886e-01, 1.78051144e-01],\n",
              "       [9.99331892e-01, 6.68058346e-04],\n",
              "       [7.55092978e-01, 2.44907022e-01],\n",
              "       [5.68609655e-01, 4.31390405e-01],\n",
              "       [7.06524372e-01, 2.93475628e-01],\n",
              "       [5.68609655e-01, 4.31390405e-01],\n",
              "       [4.53046337e-03, 9.95469570e-01],\n",
              "       [9.98428762e-01, 1.57120661e-03],\n",
              "       [9.53656197e-01, 4.63437364e-02],\n",
              "       [9.76025105e-01, 2.39749216e-02],\n",
              "       [9.88190889e-01, 1.18091581e-02],\n",
              "       [9.26382244e-01, 7.36177042e-02],\n",
              "       [7.84983814e-01, 2.15016171e-01],\n",
              "       [3.48617882e-01, 6.51382089e-01],\n",
              "       [1.99941069e-01, 8.00058901e-01],\n",
              "       [1.41889647e-01, 8.58110368e-01],\n",
              "       [4.16871130e-01, 5.83128929e-01],\n",
              "       [9.98337388e-01, 1.66256400e-03],\n",
              "       [3.48617882e-01, 6.51382089e-01],\n",
              "       [5.72086036e-01, 4.27913964e-01],\n",
              "       [9.84464467e-01, 1.55354915e-02],\n",
              "       [3.50428849e-01, 6.49571180e-01],\n",
              "       [3.48617882e-01, 6.51382089e-01],\n",
              "       [1.99941069e-01, 8.00058901e-01],\n",
              "       [9.08832133e-01, 9.11678150e-02],\n",
              "       [8.84443074e-02, 9.11555707e-01],\n",
              "       [1.63102552e-01, 8.36897433e-01],\n",
              "       [9.55882311e-01, 4.41177413e-02]], dtype=float32)"
            ]
          },
          "metadata": {
            "tags": []
          },
          "execution_count": 137
        }
      ]
    },
    {
      "cell_type": "code",
      "metadata": {
        "id": "dkNr1f-4Um6f"
      },
      "source": [
        ""
      ],
      "execution_count": null,
      "outputs": []
    }
  ]
}