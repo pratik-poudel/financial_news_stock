{
  "nbformat": 4,
  "nbformat_minor": 0,
  "metadata": {
    "colab": {
      "name": "scratchpad",
      "provenance": [],
      "machine_shape": "hm",
      "include_colab_link": true
    },
    "kernelspec": {
      "display_name": "Python 3",
      "name": "python3"
    },
    "accelerator": "GPU"
  },
  "cells": [
    {
      "cell_type": "markdown",
      "metadata": {
        "id": "view-in-github",
        "colab_type": "text"
      },
      "source": [
        "<a href=\"https://colab.research.google.com/github/pratik-poudel/financial_news_stock/blob/master/univariate_lstm.ipynb\" target=\"_parent\"><img src=\"https://colab.research.google.com/assets/colab-badge.svg\" alt=\"Open In Colab\"/></a>"
      ]
    },
    {
      "cell_type": "code",
      "metadata": {
        "id": "0jGP6ocnmwnZ"
      },
      "source": [
        "!pip install mlxtend --upgrade"
      ],
      "execution_count": null,
      "outputs": []
    },
    {
      "cell_type": "code",
      "metadata": {
        "id": "hG_quX8AI2OA",
        "outputId": "4913e8ad-cf62-4c28-9cd7-b62abc29b5ff",
        "colab": {
          "base_uri": "https://localhost:8080/"
        }
      },
      "source": [
        "!pip install vaderSentiment"
      ],
      "execution_count": 450,
      "outputs": [
        {
          "output_type": "stream",
          "text": [
            "Collecting vaderSentiment\n",
            "\u001b[?25l  Downloading https://files.pythonhosted.org/packages/76/fc/310e16254683c1ed35eeb97386986d6c00bc29df17ce280aed64d55537e9/vaderSentiment-3.3.2-py2.py3-none-any.whl (125kB)\n",
            "\r\u001b[K     |██▋                             | 10kB 18.7MB/s eta 0:00:01\r\u001b[K     |█████▏                          | 20kB 24.0MB/s eta 0:00:01\r\u001b[K     |███████▉                        | 30kB 28.0MB/s eta 0:00:01\r\u001b[K     |██████████▍                     | 40kB 20.7MB/s eta 0:00:01\r\u001b[K     |█████████████                   | 51kB 15.8MB/s eta 0:00:01\r\u001b[K     |███████████████▋                | 61kB 18.0MB/s eta 0:00:01\r\u001b[K     |██████████████████▏             | 71kB 16.0MB/s eta 0:00:01\r\u001b[K     |████████████████████▉           | 81kB 13.7MB/s eta 0:00:01\r\u001b[K     |███████████████████████▍        | 92kB 14.5MB/s eta 0:00:01\r\u001b[K     |██████████████████████████      | 102kB 13.0MB/s eta 0:00:01\r\u001b[K     |████████████████████████████▋   | 112kB 13.0MB/s eta 0:00:01\r\u001b[K     |███████████████████████████████▏| 122kB 13.0MB/s eta 0:00:01\r\u001b[K     |████████████████████████████████| 133kB 13.0MB/s \n",
            "\u001b[?25hRequirement already satisfied: requests in /usr/local/lib/python3.7/dist-packages (from vaderSentiment) (2.23.0)\n",
            "Requirement already satisfied: idna<3,>=2.5 in /usr/local/lib/python3.7/dist-packages (from requests->vaderSentiment) (2.10)\n",
            "Requirement already satisfied: urllib3!=1.25.0,!=1.25.1,<1.26,>=1.21.1 in /usr/local/lib/python3.7/dist-packages (from requests->vaderSentiment) (1.24.3)\n",
            "Requirement already satisfied: chardet<4,>=3.0.2 in /usr/local/lib/python3.7/dist-packages (from requests->vaderSentiment) (3.0.4)\n",
            "Requirement already satisfied: certifi>=2017.4.17 in /usr/local/lib/python3.7/dist-packages (from requests->vaderSentiment) (2020.12.5)\n",
            "Installing collected packages: vaderSentiment\n",
            "Successfully installed vaderSentiment-3.3.2\n"
          ],
          "name": "stdout"
        }
      ]
    },
    {
      "cell_type": "code",
      "metadata": {
        "id": "lIYdn1woOS1n"
      },
      "source": [
        "import numpy as np\n",
        "import pandas as pd\n",
        "import matplotlib.pyplot as plt\n",
        "\n",
        "\n",
        "\n",
        "import tensorflow as tf\n",
        "import tensorflow_datasets as tfds\n",
        "\n",
        "from tensorflow.keras.preprocessing.text import Tokenizer\n",
        "from tensorflow.keras.preprocessing.sequence import pad_sequences\n",
        "\n",
        "from tensorflow.keras.models import Sequential\n",
        "from tensorflow.keras.layers import Embedding, Dropout, Bidirectional,LSTM, GlobalMaxPool1D, Dense\n",
        "from tensorflow.keras.utils import to_categorical, plot_model\n",
        "\n",
        "\n",
        "from sklearn.model_selection import train_test_split\n",
        "from sklearn.preprocessing import LabelEncoder\n",
        "from sklearn.metrics import confusion_matrix, roc_curve, roc_auc_score, accuracy_score,precision_recall_fscore_support\n",
        "from sklearn.utils import resample, shuffle\n",
        "\n",
        "\n",
        "from mlxtend.plotting import plot_confusion_matrix\n",
        "import warnings \n",
        "warnings.filterwarnings('ignore')\n",
        "\n",
        "\n",
        "from vaderSentiment.vaderSentiment import SentimentIntensityAnalyzer"
      ],
      "execution_count": 451,
      "outputs": []
    },
    {
      "cell_type": "markdown",
      "metadata": {
        "id": "dUTvPQ9vRok2"
      },
      "source": [
        "# Financial Phrase Bank "
      ]
    },
    {
      "cell_type": "code",
      "metadata": {
        "id": "4u2s5DZARoL6"
      },
      "source": [
        "fin_data = pd.read_table('/content/Sentences_50Agree.txt', delimiter='\\r\\n')"
      ],
      "execution_count": 3,
      "outputs": []
    },
    {
      "cell_type": "code",
      "metadata": {
        "id": "OQdubjqSRoIp"
      },
      "source": [
        "values = np.array([fin_data.values[i][0].split('@') for i in range(fin_data.shape[0])])\n",
        "data = pd.DataFrame({'sentence': values[:, 0], 'sentiment':values[:, 1]})"
      ],
      "execution_count": 4,
      "outputs": []
    },
    {
      "cell_type": "code",
      "metadata": {
        "id": "slCvtjgNRoFN",
        "colab": {
          "base_uri": "https://localhost:8080/",
          "height": 0
        },
        "outputId": "2c5749f1-c8a1-4f77-95f2-c8f1fd9ade52"
      },
      "source": [
        "data.head(2)"
      ],
      "execution_count": 5,
      "outputs": [
        {
          "output_type": "execute_result",
          "data": {
            "text/html": [
              "<div>\n",
              "<style scoped>\n",
              "    .dataframe tbody tr th:only-of-type {\n",
              "        vertical-align: middle;\n",
              "    }\n",
              "\n",
              "    .dataframe tbody tr th {\n",
              "        vertical-align: top;\n",
              "    }\n",
              "\n",
              "    .dataframe thead th {\n",
              "        text-align: right;\n",
              "    }\n",
              "</style>\n",
              "<table border=\"1\" class=\"dataframe\">\n",
              "  <thead>\n",
              "    <tr style=\"text-align: right;\">\n",
              "      <th></th>\n",
              "      <th>sentence</th>\n",
              "      <th>sentiment</th>\n",
              "    </tr>\n",
              "  </thead>\n",
              "  <tbody>\n",
              "    <tr>\n",
              "      <th>0</th>\n",
              "      <td>Technopolis plans to develop in stages an area...</td>\n",
              "      <td>neutral</td>\n",
              "    </tr>\n",
              "    <tr>\n",
              "      <th>1</th>\n",
              "      <td>The international electronic industry company ...</td>\n",
              "      <td>negative</td>\n",
              "    </tr>\n",
              "  </tbody>\n",
              "</table>\n",
              "</div>"
            ],
            "text/plain": [
              "                                            sentence sentiment\n",
              "0  Technopolis plans to develop in stages an area...   neutral\n",
              "1  The international electronic industry company ...  negative"
            ]
          },
          "metadata": {
            "tags": []
          },
          "execution_count": 5
        }
      ]
    },
    {
      "cell_type": "code",
      "metadata": {
        "id": "8cUSOhJCRoBo",
        "colab": {
          "base_uri": "https://localhost:8080/",
          "height": 0
        },
        "outputId": "4a22d68a-a59f-4677-cac7-c14b4b90ad13"
      },
      "source": [
        "data['sentiment'].value_counts().plot(kind='bar')\n",
        "plt.show()"
      ],
      "execution_count": 6,
      "outputs": [
        {
          "output_type": "display_data",
          "data": {
            "image/png": "[encoded data removed]",
            "text/plain": [
              "<Figure size 432x288 with 1 Axes>"
            ]
          },
          "metadata": {
            "tags": [],
            "needs_background": "light"
          }
        }
      ]
    },
    {
      "cell_type": "code",
      "metadata": {
        "id": "fxyIdicGpwZS"
      },
      "source": [
        "X= data.sentence\n",
        "y = data.sentiment\n",
        "\n",
        "X_train, X_test, y_train, y_test = train_test_split(X, y, stratify=y, random_state=60, test_size=0.2)"
      ],
      "execution_count": 7,
      "outputs": []
    },
    {
      "cell_type": "code",
      "metadata": {
        "id": "Kju4Yok6Vzyw",
        "colab": {
          "base_uri": "https://localhost:8080/"
        },
        "outputId": "494806c9-3f6d-4cb0-a43a-758dc2ad0c70"
      },
      "source": [
        "X_train.shape, X_test.shape, X.shape"
      ],
      "execution_count": 8,
      "outputs": [
        {
          "output_type": "execute_result",
          "data": {
            "text/plain": [
              "((3876,), (969,), (4845,))"
            ]
          },
          "metadata": {
            "tags": []
          },
          "execution_count": 8
        }
      ]
    },
    {
      "cell_type": "code",
      "metadata": {
        "id": "NyWPP77F9k1I"
      },
      "source": [
        "neu_index = y_train[y_train == 'neutral'].index\n",
        "pos_index = y_train[y_train == 'positive'].index\n",
        "neg_index = y_train[y_train == 'negative'].index"
      ],
      "execution_count": 9,
      "outputs": []
    },
    {
      "cell_type": "code",
      "metadata": {
        "id": "ODCDkrzN9nCL"
      },
      "source": [
        "\n",
        "# Down-sample neutral class\n",
        "X_train_neu, y_train_neu = resample(X_train.loc[neu_index], y_train.loc[neu_index],\n",
        "                                    n_samples=len(pos_index), replace=False,\n",
        "                                    random_state=60)\n",
        "\n",
        "# Up-sample negative class\n",
        "X_train_neg, y_train_neg = resample(X_train.loc[neg_index], y_train.loc[neg_index],\n",
        "                                    n_samples=len(pos_index), replace=True,\n",
        "                                    random_state=60)"
      ],
      "execution_count": 10,
      "outputs": []
    },
    {
      "cell_type": "code",
      "metadata": {
        "id": "44cl_AYp9m_H",
        "colab": {
          "base_uri": "https://localhost:8080/"
        },
        "outputId": "e91534fc-d48e-48d5-8ce9-eb2a718e1bc0"
      },
      "source": [
        "# Combine resampled classes\n",
        "X_train_resample = X_train.loc[pos_index].append([X_train_neu, X_train_neg])\n",
        "y_train_resample = y_train.loc[pos_index].append([y_train_neu, y_train_neg])\n",
        "\n",
        "# Shuffle samples\n",
        "X_train_resample, y_train_resample = shuffle(X_train_resample, y_train_resample, random_state=7)\n",
        "\n",
        "# Display new class counts\n",
        "print(y_train_resample.value_counts())"
      ],
      "execution_count": 11,
      "outputs": [
        {
          "output_type": "stream",
          "text": [
            "neutral     1090\n",
            "negative    1090\n",
            "positive    1090\n",
            "Name: sentiment, dtype: int64\n"
          ],
          "name": "stdout"
        }
      ]
    },
    {
      "cell_type": "code",
      "metadata": {
        "id": "sbN46l-L9m70"
      },
      "source": [
        ""
      ],
      "execution_count": 11,
      "outputs": []
    },
    {
      "cell_type": "code",
      "metadata": {
        "id": "aDoDb2Nq9m4J"
      },
      "source": [
        ""
      ],
      "execution_count": 11,
      "outputs": []
    },
    {
      "cell_type": "markdown",
      "metadata": {
        "id": "CbxLax-jWVoy"
      },
      "source": [
        "# Prepare Data for model"
      ]
    },
    {
      "cell_type": "code",
      "metadata": {
        "id": "o7UChC8JWgIq"
      },
      "source": [
        "# Remove Punctuation and assign integer to each word\n",
        "tokenizer = Tokenizer()\n",
        "tokenizer.fit_on_texts(X_train_resample)\n",
        "X_train_seq = tokenizer.texts_to_sequences(X_train_resample)\n",
        "X_test_seq = tokenizer.texts_to_sequences(X_test)"
      ],
      "execution_count": 12,
      "outputs": []
    },
    {
      "cell_type": "code",
      "metadata": {
        "id": "WfblAUy2WgI7"
      },
      "source": [
        "# Make sequences of equal length \n",
        "max_len = np.max([len(X_train_seq[i]) for i in range(len(X_train_seq))])\n",
        "X_train_seq = pad_sequences(X_train_seq, maxlen=max_len)\n",
        "X_test_seq = pad_sequences(X_test_seq, maxlen=max_len)"
      ],
      "execution_count": 13,
      "outputs": []
    },
    {
      "cell_type": "code",
      "metadata": {
        "colab": {
          "base_uri": "https://localhost:8080/"
        },
        "id": "9TCWLyfvWgI8",
        "outputId": "974d89f2-8792-43bd-910f-cfb9546be69a"
      },
      "source": [
        "max_len"
      ],
      "execution_count": 14,
      "outputs": [
        {
          "output_type": "execute_result",
          "data": {
            "text/plain": [
              "71"
            ]
          },
          "metadata": {
            "tags": []
          },
          "execution_count": 14
        }
      ]
    },
    {
      "cell_type": "code",
      "metadata": {
        "id": "uAwMS-K-WgI-"
      },
      "source": [
        "# Convert sentiment values to one hot encoded for Keras model\n",
        "le = LabelEncoder()\n",
        "le.fit(y_train)\n",
        "y_train_seq = to_categorical(le.transform(y_train_resample))\n",
        "y_test_seq = to_categorical(le.transform(y_test))"
      ],
      "execution_count": 15,
      "outputs": []
    },
    {
      "cell_type": "code",
      "metadata": {
        "id": "1cY_gk6L9_0r"
      },
      "source": [
        ""
      ],
      "execution_count": 15,
      "outputs": []
    },
    {
      "cell_type": "markdown",
      "metadata": {
        "id": "-i0nraavVn0q"
      },
      "source": [
        "# EMBEDDINGS"
      ]
    },
    {
      "cell_type": "code",
      "metadata": {
        "id": "m-sKHgtlVhyG",
        "colab": {
          "base_uri": "https://localhost:8080/"
        },
        "outputId": "bbfd1500-bd73-4a97-ced7-66876d705392"
      },
      "source": [
        "!wget http://nlp.stanford.edu/data/glove.6B.zip\n",
        "!unzip glove.6B.zip"
      ],
      "execution_count": 18,
      "outputs": [
        {
          "output_type": "stream",
          "text": [
            "--2021-03-19 03:07:52--  http://nlp.stanford.edu/data/glove.6B.zip\n",
            "Resolving nlp.stanford.edu (nlp.stanford.edu)... 171.64.67.140\n",
            "Connecting to nlp.stanford.edu (nlp.stanford.edu)|171.64.67.140|:80... connected.\n",
            "HTTP request sent, awaiting response... 302 Found\n",
            "Location: https://nlp.stanford.edu/data/glove.6B.zip [following]\n",
            "--2021-03-19 03:07:52--  https://nlp.stanford.edu/data/glove.6B.zip\n",
            "Connecting to nlp.stanford.edu (nlp.stanford.edu)|171.64.67.140|:443... connected.\n",
            "HTTP request sent, awaiting response... 301 Moved Permanently\n",
            "Location: http://downloads.cs.stanford.edu/nlp/data/glove.6B.zip [following]\n",
            "--2021-03-19 03:07:53--  http://downloads.cs.stanford.edu/nlp/data/glove.6B.zip\n",
            "Resolving downloads.cs.stanford.edu (downloads.cs.stanford.edu)... 171.64.64.22\n",
            "Connecting to downloads.cs.stanford.edu (downloads.cs.stanford.edu)|171.64.64.22|:80... connected.\n",
            "HTTP request sent, awaiting response... 200 OK\n",
            "Length: 862182613 (822M) [application/zip]\n",
            "Saving to: ‘glove.6B.zip’\n",
            "\n",
            "glove.6B.zip        100%[===================>] 822.24M  5.02MB/s    in 2m 42s  \n",
            "\n",
            "2021-03-19 03:10:35 (5.08 MB/s) - ‘glove.6B.zip’ saved [862182613/862182613]\n",
            "\n",
            "Archive:  glove.6B.zip\n",
            "  inflating: glove.6B.50d.txt        \n",
            "  inflating: glove.6B.100d.txt       \n",
            "  inflating: glove.6B.200d.txt       \n",
            "  inflating: glove.6B.300d.txt       \n"
          ],
          "name": "stdout"
        }
      ]
    },
    {
      "cell_type": "code",
      "metadata": {
        "id": "OgVf4Ta6Wl9n"
      },
      "source": [
        "dict_w2v = {}\n",
        "with open('/content/glove.6B.100d.txt', 'r') as file:\n",
        "    for line in file:\n",
        "        tokens = line.split()\n",
        "        word = tokens[0]\n",
        "        vector = np.array(tokens[1:], dtype=np.float32)\n",
        "        if vector.shape[0] == 100:\n",
        "            dict_w2v[word] = vector\n",
        "        else:\n",
        "            print(\"There is issue with \" + word)"
      ],
      "execution_count": 19,
      "outputs": []
    },
    {
      "cell_type": "code",
      "metadata": {
        "id": "EldWTnWtWl61",
        "colab": {
          "base_uri": "https://localhost:8080/"
        },
        "outputId": "678d0ce5-2328-4be1-ae99-d0ee978853e0"
      },
      "source": [
        "print(\"dictionary size :\" ,len(dict_w2v) )"
      ],
      "execution_count": 20,
      "outputs": [
        {
          "output_type": "stream",
          "text": [
            "dictionary size : 400000\n"
          ],
          "name": "stdout"
        }
      ]
    },
    {
      "cell_type": "code",
      "metadata": {
        "id": "O1IKoy3EWl3_",
        "colab": {
          "base_uri": "https://localhost:8080/"
        },
        "outputId": "c656e806-72ac-4010-c86e-a75b2424bcc4"
      },
      "source": [
        "words_found = set()\n",
        "words_not_found = set()\n",
        "for word in tokenizer.word_index:\n",
        "    vec = dict_w2v.get(word)\n",
        "    if vec is not None:\n",
        "        words_found.add(word)\n",
        "    else:\n",
        "        words_not_found.add(word)\n",
        "len(words_found), len(words_not_found), len(tokenizer.word_index)"
      ],
      "execution_count": 21,
      "outputs": [
        {
          "output_type": "execute_result",
          "data": {
            "text/plain": [
              "(6187, 918, 7105)"
            ]
          },
          "metadata": {
            "tags": []
          },
          "execution_count": 21
        }
      ]
    },
    {
      "cell_type": "code",
      "metadata": {
        "id": "8zDycGo2jsF5"
      },
      "source": [
        "EMBEDDING_DIM = 100\n",
        "VOCAB_SIZE = len(tokenizer.word_index)\n",
        "embedding_matrix = np.zeros((VOCAB_SIZE +1, EMBEDDING_DIM))"
      ],
      "execution_count": 22,
      "outputs": []
    },
    {
      "cell_type": "code",
      "metadata": {
        "id": "P1ZAm1Kdjr-I",
        "colab": {
          "base_uri": "https://localhost:8080/"
        },
        "outputId": "621aaa30-cc0e-4009-bec5-edc34a8267e1"
      },
      "source": [
        "unk_cnt = 0\n",
        "unk_set = set()\n",
        "for word, i in tokenizer.word_index.items():\n",
        "    emb_vector = dict_w2v.get(word)\n",
        "    if emb_vector is not None:\n",
        "        embedding_matrix[i] = emb_vector\n",
        "    else:\n",
        "        unk_cnt += 1\n",
        "        unk_set.add(word)\n",
        "unk_cnt"
      ],
      "execution_count": 23,
      "outputs": [
        {
          "output_type": "execute_result",
          "data": {
            "text/plain": [
              "918"
            ]
          },
          "metadata": {
            "tags": []
          },
          "execution_count": 23
        }
      ]
    },
    {
      "cell_type": "code",
      "metadata": {
        "id": "snkNNeOXgsEd",
        "colab": {
          "base_uri": "https://localhost:8080/"
        },
        "outputId": "542a8fc0-63c9-48b8-9a36-e4dbbd83498a"
      },
      "source": [
        "X_train_seq.shape, y_train_seq.shape"
      ],
      "execution_count": 24,
      "outputs": [
        {
          "output_type": "execute_result",
          "data": {
            "text/plain": [
              "((3270, 71), (3270, 3))"
            ]
          },
          "metadata": {
            "tags": []
          },
          "execution_count": 24
        }
      ]
    },
    {
      "cell_type": "code",
      "metadata": {
        "id": "6llz2rAam3BI",
        "colab": {
          "base_uri": "https://localhost:8080/",
          "height": 966
        },
        "outputId": "d4027368-0368-40f7-a4ae-8d61e0517ba1"
      },
      "source": [
        "np.random.seed(60)\n",
        "model = Sequential()\n",
        "model.add(Embedding(VOCAB_SIZE +1, EMBEDDING_DIM, weights=[embedding_matrix],input_length=max_len, trainable=True))\n",
        "model.add(Dropout(0.25))\n",
        "model.add(Bidirectional(LSTM(200, return_sequences=True), merge_mode='concat')) #{\"sum\", \"mul\", \"ave\", \"concat\", None}\n",
        "model.add(Dropout(0.25))\n",
        "model.add(GlobalMaxPool1D())\n",
        "model.add(Dense(64, activation='sigmoid'))\n",
        "model.add(Dropout(0.25))\n",
        "model.add(Dense(3, activation='softmax'))\n",
        "model.compile(loss='categorical_crossentropy', optimizer='rmsprop', metrics=[ \n",
        "                                                                            #  'Precision', \n",
        "                                                                             'Recall', \n",
        "                                                                            #  'accuracy'\n",
        "                                                                             ])\n",
        "# model.summary()\n",
        "\n",
        "batch_size = 64\n",
        "epochs = 15\n",
        "\n",
        "model.fit(X_train_seq, y_train_seq,validation_data=(X_test_seq, y_test_seq), \n",
        "          batch_size=batch_size, verbose=1, epochs=epochs, shuffle=True)\n",
        "\n",
        "preds = model.predict(X_test_seq, batch_size=batch_size)\n",
        "true_y = np.argmax(y_test_seq, axis=1)\n",
        "pred_y = np.argmax(preds, axis=1)\n",
        "\n",
        "c_mat = confusion_matrix(true_y, pred_y)\n",
        "plot_confusion_matrix(c_mat, cmap='Blues', class_names = le.classes_, figsize=(5, 5))\n",
        "plt.show()\n",
        "\n",
        "p, r, f1, s = precision_recall_fscore_support(true_y, pred_y, average=None)\n",
        "\n",
        "# Print precision, recall, f1 score and support\n",
        "results = pd.DataFrame({'1-Precision': p, '2-Recall': r, '3-F1 score': f1, '4-Support': s}, index=le.classes_)\n",
        "\n",
        "# Print precision, recall, f1 score and support\n",
        "print(results.round(decimals=3))"
      ],
      "execution_count": 146,
      "outputs": [
        {
          "output_type": "stream",
          "text": [
            "Epoch 1/15\n",
            "52/52 [==============================] - 5s 37ms/step - loss: 1.0829 - recall: 0.2205 - val_loss: 0.8301 - val_recall: 0.4396\n",
            "Epoch 2/15\n",
            "52/52 [==============================] - 1s 22ms/step - loss: 0.8875 - recall: 0.4458 - val_loss: 0.8684 - val_recall: 0.3932\n",
            "Epoch 3/15\n",
            "52/52 [==============================] - 1s 22ms/step - loss: 0.7417 - recall: 0.5943 - val_loss: 0.9593 - val_recall: 0.4923\n",
            "Epoch 4/15\n",
            "52/52 [==============================] - 1s 22ms/step - loss: 0.6309 - recall: 0.6939 - val_loss: 0.6253 - val_recall: 0.7141\n",
            "Epoch 5/15\n",
            "52/52 [==============================] - 1s 22ms/step - loss: 0.5403 - recall: 0.7443 - val_loss: 0.6601 - val_recall: 0.6904\n",
            "Epoch 6/15\n",
            "52/52 [==============================] - 1s 23ms/step - loss: 0.4487 - recall: 0.7948 - val_loss: 0.6118 - val_recall: 0.7358\n",
            "Epoch 7/15\n",
            "52/52 [==============================] - 1s 22ms/step - loss: 0.3714 - recall: 0.8430 - val_loss: 0.5765 - val_recall: 0.7482\n",
            "Epoch 8/15\n",
            "52/52 [==============================] - 1s 22ms/step - loss: 0.3247 - recall: 0.8683 - val_loss: 0.6781 - val_recall: 0.7131\n",
            "Epoch 9/15\n",
            "52/52 [==============================] - 1s 22ms/step - loss: 0.3038 - recall: 0.8758 - val_loss: 0.8313 - val_recall: 0.6398\n",
            "Epoch 10/15\n",
            "52/52 [==============================] - 1s 22ms/step - loss: 0.2715 - recall: 0.8898 - val_loss: 0.7069 - val_recall: 0.7451\n",
            "Epoch 11/15\n",
            "52/52 [==============================] - 1s 22ms/step - loss: 0.2499 - recall: 0.9033 - val_loss: 0.5902 - val_recall: 0.7606\n",
            "Epoch 12/15\n",
            "52/52 [==============================] - 1s 22ms/step - loss: 0.2169 - recall: 0.9171 - val_loss: 0.5586 - val_recall: 0.7792\n",
            "Epoch 13/15\n",
            "52/52 [==============================] - 1s 22ms/step - loss: 0.1814 - recall: 0.9325 - val_loss: 0.7378 - val_recall: 0.7214\n",
            "Epoch 14/15\n",
            "52/52 [==============================] - 1s 22ms/step - loss: 0.1551 - recall: 0.9411 - val_loss: 0.6228 - val_recall: 0.7761\n",
            "Epoch 15/15\n",
            "52/52 [==============================] - 1s 22ms/step - loss: 0.1304 - recall: 0.9549 - val_loss: 0.6241 - val_recall: 0.7853\n"
          ],
          "name": "stdout"
        },
        {
          "output_type": "display_data",
          "data": {
            "image/png": "[encoded data removed]",
            "text/plain": [
              "<Figure size 360x360 with 1 Axes>"
            ]
          },
          "metadata": {
            "tags": [],
            "needs_background": "light"
          }
        },
        {
          "output_type": "stream",
          "text": [
            "          1-Precision  2-Recall  3-F1 score  4-Support\n",
            "negative        0.646     0.769       0.702        121\n",
            "neutral         0.867     0.817       0.842        575\n",
            "positive        0.714     0.740       0.727        273\n"
          ],
          "name": "stdout"
        }
      ]
    },
    {
      "cell_type": "code",
      "metadata": {
        "id": "-8amjV87o5BN"
      },
      "source": [
        ""
      ],
      "execution_count": 25,
      "outputs": []
    },
    {
      "cell_type": "code",
      "metadata": {
        "id": "q_VAZZdwo4-W"
      },
      "source": [
        ""
      ],
      "execution_count": 25,
      "outputs": []
    },
    {
      "cell_type": "markdown",
      "metadata": {
        "id": "1RzDfejkrMel"
      },
      "source": [
        "# Prepare NEPSE DATA"
      ]
    },
    {
      "cell_type": "code",
      "metadata": {
        "id": "FrMhQqlZn-C8"
      },
      "source": [
        "indices = pd.read_csv('/content/Nepse Indices - Sheet1.csv', header=1)\n",
        "indices.columns= ['no_name', 'date', 'index', 'abs_change', 'pct_change']\n",
        "indices['date'] = pd.to_datetime(indices['date'])\n",
        "indices = indices[indices['date'] < '2019-07-06']"
      ],
      "execution_count": 452,
      "outputs": []
    },
    {
      "cell_type": "code",
      "metadata": {
        "id": "qNsJ8_z0n98P"
      },
      "source": [
        "news_df = pd.read_csv('/content/years_combined_df.csv')\n",
        "news_df['date'] = pd.to_datetime(news_df['date'])\n",
        "news_df = news_df[news_df['date'] >= '2014-02-02']\n",
        "news_df.reset_index(drop=True, inplace=True)"
      ],
      "execution_count": 453,
      "outputs": []
    },
    {
      "cell_type": "code",
      "metadata": {
        "id": "Ov3F8cKM0wlh"
      },
      "source": [
        "news_df = news_df[news_df['date'].isin(indices['date'])].reset_index(drop=True)"
      ],
      "execution_count": 454,
      "outputs": []
    },
    {
      "cell_type": "code",
      "metadata": {
        "id": "4msgED4p3Bvt"
      },
      "source": [
        "indices = indices[indices['date'].isin(news_df['date'])].reset_index(drop=True)"
      ],
      "execution_count": 455,
      "outputs": []
    },
    {
      "cell_type": "code",
      "metadata": {
        "id": "Rn2s6qbL3h7u"
      },
      "source": [
        "indices['pct_change'] = indices['pct_change'].str.replace('%', '').astype(float)\n",
        "indices['target'] = np.where(indices['pct_change'] < 0 , 0, 1)"
      ],
      "execution_count": 456,
      "outputs": []
    },
    {
      "cell_type": "code",
      "metadata": {
        "id": "MefI4I9FdmMT"
      },
      "source": [
        "news_df = news_df[['date', 'content']]"
      ],
      "execution_count": 457,
      "outputs": []
    },
    {
      "cell_type": "code",
      "metadata": {
        "id": "d1BbwkeWgETq"
      },
      "source": [
        "indices = indices[['date','index']]"
      ],
      "execution_count": 459,
      "outputs": []
    },
    {
      "cell_type": "code",
      "metadata": {
        "id": "ibHreAaTgQj4"
      },
      "source": [
        "df = pd.merge(news_df, indices, left_on='date', right_on='date')"
      ],
      "execution_count": 460,
      "outputs": []
    },
    {
      "cell_type": "code",
      "metadata": {
        "colab": {
          "base_uri": "https://localhost:8080/",
          "height": 406
        },
        "id": "RemLbuVduZM5",
        "outputId": "819a30f5-c8fd-4ebf-da4e-7cd1a626c2b6"
      },
      "source": [
        "df"
      ],
      "execution_count": 591,
      "outputs": [
        {
          "output_type": "execute_result",
          "data": {
            "text/html": [
              "<div>\n",
              "<style scoped>\n",
              "    .dataframe tbody tr th:only-of-type {\n",
              "        vertical-align: middle;\n",
              "    }\n",
              "\n",
              "    .dataframe tbody tr th {\n",
              "        vertical-align: top;\n",
              "    }\n",
              "\n",
              "    .dataframe thead th {\n",
              "        text-align: right;\n",
              "    }\n",
              "</style>\n",
              "<table border=\"1\" class=\"dataframe\">\n",
              "  <thead>\n",
              "    <tr style=\"text-align: right;\">\n",
              "      <th></th>\n",
              "      <th>date</th>\n",
              "      <th>content</th>\n",
              "      <th>index</th>\n",
              "      <th>compound</th>\n",
              "    </tr>\n",
              "  </thead>\n",
              "  <tbody>\n",
              "    <tr>\n",
              "      <th>0</th>\n",
              "      <td>2014-02-02</td>\n",
              "      <td>Nepal Stock Exchange (Nepse) slid 2.22 points ...</td>\n",
              "      <td>775.92</td>\n",
              "      <td>0.0000</td>\n",
              "    </tr>\n",
              "    <tr>\n",
              "      <th>1</th>\n",
              "      <td>2014-02-02</td>\n",
              "      <td>Moffat Nyirenda is president of Round Table In...</td>\n",
              "      <td>775.92</td>\n",
              "      <td>0.0000</td>\n",
              "    </tr>\n",
              "    <tr>\n",
              "      <th>2</th>\n",
              "      <td>2014-02-02</td>\n",
              "      <td>The government has stopped monitoring of shops...</td>\n",
              "      <td>775.92</td>\n",
              "      <td>-0.2263</td>\n",
              "    </tr>\n",
              "    <tr>\n",
              "      <th>3</th>\n",
              "      <td>2014-02-02</td>\n",
              "      <td>The Ministry of Industry (MoI) is preparing to...</td>\n",
              "      <td>775.92</td>\n",
              "      <td>0.3612</td>\n",
              "    </tr>\n",
              "    <tr>\n",
              "      <th>4</th>\n",
              "      <td>2014-02-02</td>\n",
              "      <td>The delivery of Chinese aircraft for Nepal Air...</td>\n",
              "      <td>775.92</td>\n",
              "      <td>-0.2263</td>\n",
              "    </tr>\n",
              "    <tr>\n",
              "      <th>...</th>\n",
              "      <td>...</td>\n",
              "      <td>...</td>\n",
              "      <td>...</td>\n",
              "      <td>...</td>\n",
              "    </tr>\n",
              "    <tr>\n",
              "      <th>6302</th>\n",
              "      <td>2019-06-30</td>\n",
              "      <td>Importers are being allowed to haul the goods ...</td>\n",
              "      <td>1,244.89</td>\n",
              "      <td>0.0000</td>\n",
              "    </tr>\n",
              "    <tr>\n",
              "      <th>6303</th>\n",
              "      <td>2019-06-30</td>\n",
              "      <td>It will be first facility of its kind in the K...</td>\n",
              "      <td>1,244.89</td>\n",
              "      <td>0.6486</td>\n",
              "    </tr>\n",
              "    <tr>\n",
              "      <th>6304</th>\n",
              "      <td>2019-06-30</td>\n",
              "      <td>Readymade garment, apple, footwear, bags and s...</td>\n",
              "      <td>1,244.89</td>\n",
              "      <td>0.0000</td>\n",
              "    </tr>\n",
              "    <tr>\n",
              "      <th>6305</th>\n",
              "      <td>2019-06-30</td>\n",
              "      <td>Domestic supply has helped keep prices stable ...</td>\n",
              "      <td>1,244.89</td>\n",
              "      <td>0.1531</td>\n",
              "    </tr>\n",
              "    <tr>\n",
              "      <th>6306</th>\n",
              "      <td>2019-07-04</td>\n",
              "      <td>Lack of properly equipped labs leaves imported...</td>\n",
              "      <td>1,260.47</td>\n",
              "      <td>-0.3182</td>\n",
              "    </tr>\n",
              "  </tbody>\n",
              "</table>\n",
              "<p>6307 rows × 4 columns</p>\n",
              "</div>"
            ],
            "text/plain": [
              "           date  ... compound\n",
              "0    2014-02-02  ...   0.0000\n",
              "1    2014-02-02  ...   0.0000\n",
              "2    2014-02-02  ...  -0.2263\n",
              "3    2014-02-02  ...   0.3612\n",
              "4    2014-02-02  ...  -0.2263\n",
              "...         ...  ...      ...\n",
              "6302 2019-06-30  ...   0.0000\n",
              "6303 2019-06-30  ...   0.6486\n",
              "6304 2019-06-30  ...   0.0000\n",
              "6305 2019-06-30  ...   0.1531\n",
              "6306 2019-07-04  ...  -0.3182\n",
              "\n",
              "[6307 rows x 4 columns]"
            ]
          },
          "metadata": {
            "tags": []
          },
          "execution_count": 591
        }
      ]
    },
    {
      "cell_type": "code",
      "metadata": {
        "id": "ByLeTHVGJHbX"
      },
      "source": [
        "analyser = SentimentIntensityAnalyzer()"
      ],
      "execution_count": 592,
      "outputs": []
    },
    {
      "cell_type": "code",
      "metadata": {
        "id": "zRFIj83fJMTW"
      },
      "source": [
        "compound_scores = []\n",
        "for i in df['content']:\n",
        "   compound_scores.append(analyser.polarity_scores(i)['compound'])"
      ],
      "execution_count": 700,
      "outputs": []
    },
    {
      "cell_type": "code",
      "metadata": {
        "id": "2tAAS_UxKBdV"
      },
      "source": [
        "df['compound'] = compound_scores"
      ],
      "execution_count": 701,
      "outputs": []
    },
    {
      "cell_type": "code",
      "metadata": {
        "id": "DfBLjLyPKH2p"
      },
      "source": [
        "indices['compound'] = df.groupby('date')['compound'].apply(np.mean).values\n"
      ],
      "execution_count": 702,
      "outputs": []
    },
    {
      "cell_type": "code",
      "metadata": {
        "id": "QvzjHYDPKQ7T"
      },
      "source": [
        "# indices['index'] = indices['index'].str.replace(',', '')"
      ],
      "execution_count": 703,
      "outputs": []
    },
    {
      "cell_type": "code",
      "metadata": {
        "id": "EZT2HybqgRV8"
      },
      "source": [
        "# df.to_csv('indices-news-merged.csv', index=False)\n",
        "# news_df.to_csv('news-cleaned.csv', index=False)\n",
        "# indices.to_csv('indices-cleaned.csv', index=False)"
      ],
      "execution_count": null,
      "outputs": []
    },
    {
      "cell_type": "code",
      "metadata": {
        "id": "1-mLen7aR2aF"
      },
      "source": [
        "indices['index'] = indices['index'].astype('float')"
      ],
      "execution_count": 704,
      "outputs": []
    },
    {
      "cell_type": "code",
      "metadata": {
        "id": "oT-HzyTPsD7g"
      },
      "source": [
        "train_df = indices[indices['date'] <= '2017-12-31']\n",
        "validation_df = indices[(indices['date'] > '2017-12-31') & (indices['date'] <= '2018-12-31')]\n",
        "test_df = indices[indices['date'] > '2018-12-31']"
      ],
      "execution_count": 705,
      "outputs": []
    },
    {
      "cell_type": "code",
      "metadata": {
        "id": "r5iKH9TdSAif"
      },
      "source": [
        "train_df['compound'] = train_df['compound'].round(2)\n",
        "validation_df['compound'] = validation_df['compound'].round(2)\n",
        "test_df['compound'] = test_df['compound'].round(2)"
      ],
      "execution_count": 706,
      "outputs": []
    },
    {
      "cell_type": "code",
      "metadata": {
        "id": "RS0HNHUovarp"
      },
      "source": [
        "from sklearn.preprocessing import MinMaxScaler\n",
        "sc = MinMaxScaler()"
      ],
      "execution_count": 662,
      "outputs": []
    },
    {
      "cell_type": "code",
      "metadata": {
        "id": "-L1hQiyqMWut"
      },
      "source": [
        "def create_dataset(dataset, scoreset, look_back=1):\n",
        "\tdataX, dataY = [], []\n",
        "\tfor i in range(len(dataset)-look_back-1):\n",
        "\t\ta = dataset[i:(i+look_back), 0]\n",
        "\t\tb = scoreset[i+look_back-1]\n",
        "\t\tdataX.append(np.append(a,b))\n",
        "\t\tdataY.append(dataset[i + look_back, 0])\n",
        "\treturn np.array(dataX), np.array(dataY)"
      ],
      "execution_count": 678,
      "outputs": []
    },
    {
      "cell_type": "code",
      "metadata": {
        "id": "NN-CyJfmLXE4"
      },
      "source": [
        "training_set_scaled = sc.fit_transform(train_df['index'].values.reshape(-1, 1))\n",
        "cv_set_scaled = sc.transform(validation_df['index'].values.reshape(-1, 1))\n",
        "test_set_scaled = sc.transform(test_df['index'].values.reshape(-1, 1))"
      ],
      "execution_count": 675,
      "outputs": []
    },
    {
      "cell_type": "code",
      "metadata": {
        "id": "otFxp1PMSFFa",
        "outputId": "0198de73-dd8d-4b6b-90f2-74fec3bff0c4",
        "colab": {
          "base_uri": "https://localhost:8080/"
        }
      },
      "source": [
        "test_set_scaled.shape"
      ],
      "execution_count": 607,
      "outputs": [
        {
          "output_type": "execute_result",
          "data": {
            "text/plain": [
              "(121, 1)"
            ]
          },
          "metadata": {
            "tags": []
          },
          "execution_count": 607
        }
      ]
    },
    {
      "cell_type": "code",
      "metadata": {
        "id": "MhOYRnEONBZO"
      },
      "source": [
        "sc1 = MinMaxScaler()\n",
        "training_score_scaled = sc1.fit_transform(train_df['compound'].values.reshape(-1, 1))\n",
        "cv_score_scaled = sc1.transform(validation_df['compound'].values.reshape(-1, 1))\n",
        "test_score_scaled = sc1.transform(test_df['compound'].values.reshape(-1, 1))"
      ],
      "execution_count": 608,
      "outputs": []
    },
    {
      "cell_type": "code",
      "metadata": {
        "id": "a40uhjdeSJe9",
        "outputId": "2488970e-dac3-4493-e945-d0d43ff33e68",
        "colab": {
          "base_uri": "https://localhost:8080/",
          "height": 406
        }
      },
      "source": [
        "train_df"
      ],
      "execution_count": 709,
      "outputs": [
        {
          "output_type": "execute_result",
          "data": {
            "text/html": [
              "<div>\n",
              "<style scoped>\n",
              "    .dataframe tbody tr th:only-of-type {\n",
              "        vertical-align: middle;\n",
              "    }\n",
              "\n",
              "    .dataframe tbody tr th {\n",
              "        vertical-align: top;\n",
              "    }\n",
              "\n",
              "    .dataframe thead th {\n",
              "        text-align: right;\n",
              "    }\n",
              "</style>\n",
              "<table border=\"1\" class=\"dataframe\">\n",
              "  <thead>\n",
              "    <tr style=\"text-align: right;\">\n",
              "      <th></th>\n",
              "      <th>date</th>\n",
              "      <th>index</th>\n",
              "      <th>compound</th>\n",
              "    </tr>\n",
              "  </thead>\n",
              "  <tbody>\n",
              "    <tr>\n",
              "      <th>0</th>\n",
              "      <td>2014-02-02</td>\n",
              "      <td>775.92</td>\n",
              "      <td>-0.02</td>\n",
              "    </tr>\n",
              "    <tr>\n",
              "      <th>1</th>\n",
              "      <td>2014-02-03</td>\n",
              "      <td>769.51</td>\n",
              "      <td>0.19</td>\n",
              "    </tr>\n",
              "    <tr>\n",
              "      <th>2</th>\n",
              "      <td>2014-02-04</td>\n",
              "      <td>774.91</td>\n",
              "      <td>0.23</td>\n",
              "    </tr>\n",
              "    <tr>\n",
              "      <th>3</th>\n",
              "      <td>2014-02-05</td>\n",
              "      <td>781.38</td>\n",
              "      <td>-0.09</td>\n",
              "    </tr>\n",
              "    <tr>\n",
              "      <th>4</th>\n",
              "      <td>2014-02-06</td>\n",
              "      <td>785.78</td>\n",
              "      <td>0.09</td>\n",
              "    </tr>\n",
              "    <tr>\n",
              "      <th>...</th>\n",
              "      <td>...</td>\n",
              "      <td>...</td>\n",
              "      <td>...</td>\n",
              "    </tr>\n",
              "    <tr>\n",
              "      <th>876</th>\n",
              "      <td>2017-12-24</td>\n",
              "      <td>1467.68</td>\n",
              "      <td>-0.01</td>\n",
              "    </tr>\n",
              "    <tr>\n",
              "      <th>877</th>\n",
              "      <td>2017-12-26</td>\n",
              "      <td>1447.04</td>\n",
              "      <td>0.21</td>\n",
              "    </tr>\n",
              "    <tr>\n",
              "      <th>878</th>\n",
              "      <td>2017-12-27</td>\n",
              "      <td>1425.51</td>\n",
              "      <td>0.31</td>\n",
              "    </tr>\n",
              "    <tr>\n",
              "      <th>879</th>\n",
              "      <td>2017-12-28</td>\n",
              "      <td>1414.78</td>\n",
              "      <td>0.14</td>\n",
              "    </tr>\n",
              "    <tr>\n",
              "      <th>880</th>\n",
              "      <td>2017-12-31</td>\n",
              "      <td>1390.58</td>\n",
              "      <td>0.23</td>\n",
              "    </tr>\n",
              "  </tbody>\n",
              "</table>\n",
              "<p>881 rows × 3 columns</p>\n",
              "</div>"
            ],
            "text/plain": [
              "          date    index  compound\n",
              "0   2014-02-02   775.92     -0.02\n",
              "1   2014-02-03   769.51      0.19\n",
              "2   2014-02-04   774.91      0.23\n",
              "3   2014-02-05   781.38     -0.09\n",
              "4   2014-02-06   785.78      0.09\n",
              "..         ...      ...       ...\n",
              "876 2017-12-24  1467.68     -0.01\n",
              "877 2017-12-26  1447.04      0.21\n",
              "878 2017-12-27  1425.51      0.31\n",
              "879 2017-12-28  1414.78      0.14\n",
              "880 2017-12-31  1390.58      0.23\n",
              "\n",
              "[881 rows x 3 columns]"
            ]
          },
          "metadata": {
            "tags": []
          },
          "execution_count": 709
        }
      ]
    },
    {
      "cell_type": "code",
      "metadata": {
        "id": "3mIauek3LXCU"
      },
      "source": [
        "trainX, trainY = create_dataset(train_df['index'].values.reshape(-1, 1), train_df['compound'].values.reshape(-1, 1),5)\n",
        "cvX, cvY = create_dataset(validation_df['index'].values.reshape(-1, 1), validation_df['compound'].values.reshape(-1, 1), 5)\n",
        "testX, testY = create_dataset(test_df['index'].values.reshape(-1, 1), test_df['compound'].values.reshape(-1, 1), 5)"
      ],
      "execution_count": 707,
      "outputs": []
    },
    {
      "cell_type": "code",
      "metadata": {
        "id": "27ghxv7ALW4t",
        "outputId": "1919e895-4912-45f9-bd75-954118e768ec",
        "colab": {
          "base_uri": "https://localhost:8080/"
        }
      },
      "source": [
        "for i, j in zip(trainX[:5], trainY[:5]):\n",
        "    print(i, j)"
      ],
      "execution_count": 708,
      "outputs": [
        {
          "output_type": "stream",
          "text": [
            "[7.7592e+02 7.6951e+02 7.7491e+02 7.8138e+02 7.8578e+02 9.0000e-02] 784.0\n",
            "[7.6951e+02 7.7491e+02 7.8138e+02 7.8578e+02 7.8400e+02 3.9000e-01] 803.13\n",
            "[7.7491e+02 7.8138e+02 7.8578e+02 7.8400e+02 8.0313e+02 1.0000e-02] 796.55\n",
            "[7.8138e+02 7.8578e+02 7.8400e+02 8.0313e+02 7.9655e+02 3.2000e-01] 798.33\n",
            "[ 7.8578e+02  7.8400e+02  8.0313e+02  7.9655e+02  7.9833e+02 -1.1000e-01] 803.1\n"
          ],
          "name": "stdout"
        }
      ]
    },
    {
      "cell_type": "code",
      "metadata": {
        "id": "n0mSxhEEWbou",
        "outputId": "cc22e8e4-da58-492c-de13-2f380205431a",
        "colab": {
          "base_uri": "https://localhost:8080/"
        }
      },
      "source": [
        "train_df.dtypes"
      ],
      "execution_count": 683,
      "outputs": [
        {
          "output_type": "execute_result",
          "data": {
            "text/plain": [
              "date        datetime64[ns]\n",
              "index              float64\n",
              "compound           float64\n",
              "dtype: object"
            ]
          },
          "metadata": {
            "tags": []
          },
          "execution_count": 683
        }
      ]
    },
    {
      "cell_type": "code",
      "metadata": {
        "id": "v0VmjeUfL_s1",
        "outputId": "b9408233-5c84-401b-f84b-4b6c61c9d18d",
        "colab": {
          "base_uri": "https://localhost:8080/"
        }
      },
      "source": [
        "trainX.shape, cvX.shape, testX.shape"
      ],
      "execution_count": 649,
      "outputs": [
        {
          "output_type": "execute_result",
          "data": {
            "text/plain": [
              "((850, 31), (205, 31), (90, 31))"
            ]
          },
          "metadata": {
            "tags": []
          },
          "execution_count": 649
        }
      ]
    },
    {
      "cell_type": "code",
      "metadata": {
        "id": "rmIrB_UNMpRk",
        "outputId": "57281714-1df7-49f4-d95b-07054cb1a80b",
        "colab": {
          "base_uri": "https://localhost:8080/"
        }
      },
      "source": [
        "trainX, trainY = np.array(trainX), np.array(trainY)\n",
        "trainX = np.reshape(trainX, (trainX.shape[0], trainX.shape[1], 1))\n",
        "\n",
        "cvX, cvY = np.array(cvX), np.array(cvY)\n",
        "cvX = np.reshape(cvX, (cvX.shape[0], cvX.shape[1], 1))\n",
        "\n",
        "testX, testY = np.array(testX), np.array(testY)\n",
        "testX = np.reshape(testX, (testX.shape[0], testX.shape[1], 1))\n",
        "\n",
        "trainX.shape, cvX.shape, testX.shape"
      ],
      "execution_count": 650,
      "outputs": [
        {
          "output_type": "execute_result",
          "data": {
            "text/plain": [
              "((850, 31, 1), (205, 31, 1), (90, 31, 1))"
            ]
          },
          "metadata": {
            "tags": []
          },
          "execution_count": 650
        }
      ]
    },
    {
      "cell_type": "code",
      "metadata": {
        "id": "vqjo8ELPMpLk"
      },
      "source": [
        "import tensorflow.keras.backend as K\n",
        "def root_mean_squared_error(y_true, y_pred):\n",
        "    return K.sqrt(K.mean(K.square(y_pred - y_true)))"
      ],
      "execution_count": 651,
      "outputs": []
    },
    {
      "cell_type": "code",
      "metadata": {
        "id": "R1bOSIVyM1GP",
        "outputId": "b2bebacf-0346-4524-f5f1-482721c177db",
        "colab": {
          "base_uri": "https://localhost:8080/"
        }
      },
      "source": [
        "import keras\n",
        "model = Sequential()\n",
        "\n",
        "model.add(LSTM(units=128, activation='tanh', kernel_initializer=tf.keras.initializers.glorot_uniform(seed=26), input_shape = (trainX.shape[1], 1), unroll = True))\n",
        "\n",
        "# Adding the output layer\n",
        "model.add(Dense(1, name=\"output_layer\"))\n",
        "\n",
        "# Compiling the RNN\n",
        "model.compile(optimizer = keras.optimizers.Adam(learning_rate=0.01), loss = root_mean_squared_error)\n",
        "\n",
        "#Using Tensorboard\n",
        "\n",
        "\n",
        "# Fitting the RNN to the Training set\n",
        "model.fit(trainX, trainY, epochs = 30, batch_size = 64,  validation_data = (cvX, cvY))"
      ],
      "execution_count": 652,
      "outputs": [
        {
          "output_type": "stream",
          "text": [
            "WARNING:tensorflow:Layer lstm_74 will not use cuDNN kernel since it doesn't meet the cuDNN kernel criteria. It will use generic GPU kernel as fallback when running on GPU\n",
            "Epoch 1/30\n",
            "14/14 [==============================] - 4s 61ms/step - loss: 0.3678 - val_loss: 0.1739\n",
            "Epoch 2/30\n",
            "14/14 [==============================] - 0s 17ms/step - loss: 0.1313 - val_loss: 0.0346\n",
            "Epoch 3/30\n",
            "14/14 [==============================] - 0s 18ms/step - loss: 0.0502 - val_loss: 0.0605\n",
            "Epoch 4/30\n",
            "14/14 [==============================] - 0s 18ms/step - loss: 0.0418 - val_loss: 0.0256\n",
            "Epoch 5/30\n",
            "14/14 [==============================] - 0s 18ms/step - loss: 0.0293 - val_loss: 0.0436\n",
            "Epoch 6/30\n",
            "14/14 [==============================] - 0s 18ms/step - loss: 0.0325 - val_loss: 0.0209\n",
            "Epoch 7/30\n",
            "14/14 [==============================] - 0s 18ms/step - loss: 0.0290 - val_loss: 0.0169\n",
            "Epoch 8/30\n",
            "14/14 [==============================] - 0s 17ms/step - loss: 0.0239 - val_loss: 0.0215\n",
            "Epoch 9/30\n",
            "14/14 [==============================] - 0s 18ms/step - loss: 0.0301 - val_loss: 0.0224\n",
            "Epoch 10/30\n",
            "14/14 [==============================] - 0s 18ms/step - loss: 0.0205 - val_loss: 0.0168\n",
            "Epoch 11/30\n",
            "14/14 [==============================] - 0s 17ms/step - loss: 0.0205 - val_loss: 0.0154\n",
            "Epoch 12/30\n",
            "14/14 [==============================] - 0s 17ms/step - loss: 0.0193 - val_loss: 0.0150\n",
            "Epoch 13/30\n",
            "14/14 [==============================] - 0s 17ms/step - loss: 0.0191 - val_loss: 0.0151\n",
            "Epoch 14/30\n",
            "14/14 [==============================] - 0s 16ms/step - loss: 0.0171 - val_loss: 0.0158\n",
            "Epoch 15/30\n",
            "14/14 [==============================] - 0s 18ms/step - loss: 0.0181 - val_loss: 0.0142\n",
            "Epoch 16/30\n",
            "14/14 [==============================] - 0s 17ms/step - loss: 0.0179 - val_loss: 0.0174\n",
            "Epoch 17/30\n",
            "14/14 [==============================] - 0s 17ms/step - loss: 0.0170 - val_loss: 0.0189\n",
            "Epoch 18/30\n",
            "14/14 [==============================] - 0s 18ms/step - loss: 0.0246 - val_loss: 0.0219\n",
            "Epoch 19/30\n",
            "14/14 [==============================] - 0s 18ms/step - loss: 0.0198 - val_loss: 0.0164\n",
            "Epoch 20/30\n",
            "14/14 [==============================] - 0s 17ms/step - loss: 0.0169 - val_loss: 0.0253\n",
            "Epoch 21/30\n",
            "14/14 [==============================] - 0s 18ms/step - loss: 0.0208 - val_loss: 0.0165\n",
            "Epoch 22/30\n",
            "14/14 [==============================] - 0s 17ms/step - loss: 0.0168 - val_loss: 0.0161\n",
            "Epoch 23/30\n",
            "14/14 [==============================] - 0s 17ms/step - loss: 0.0194 - val_loss: 0.0178\n",
            "Epoch 24/30\n",
            "14/14 [==============================] - 0s 17ms/step - loss: 0.0162 - val_loss: 0.0130\n",
            "Epoch 25/30\n",
            "14/14 [==============================] - 0s 17ms/step - loss: 0.0152 - val_loss: 0.0126\n",
            "Epoch 26/30\n",
            "14/14 [==============================] - 0s 17ms/step - loss: 0.0174 - val_loss: 0.0165\n",
            "Epoch 27/30\n",
            "14/14 [==============================] - 0s 17ms/step - loss: 0.0180 - val_loss: 0.0164\n",
            "Epoch 28/30\n",
            "14/14 [==============================] - 0s 17ms/step - loss: 0.0164 - val_loss: 0.0134\n",
            "Epoch 29/30\n",
            "14/14 [==============================] - 0s 17ms/step - loss: 0.0153 - val_loss: 0.0145\n",
            "Epoch 30/30\n",
            "14/14 [==============================] - 0s 17ms/step - loss: 0.0161 - val_loss: 0.0146\n"
          ],
          "name": "stdout"
        },
        {
          "output_type": "execute_result",
          "data": {
            "text/plain": [
              "<tensorflow.python.keras.callbacks.History at 0x7fbff6d6d3d0>"
            ]
          },
          "metadata": {
            "tags": []
          },
          "execution_count": 652
        }
      ]
    },
    {
      "cell_type": "code",
      "metadata": {
        "id": "5u9r9L43M1Dx"
      },
      "source": [
        "predicted_stock_price = model.predict(testX)\n",
        "predicted_stock_price = sc.inverse_transform(predicted_stock_price)"
      ],
      "execution_count": 653,
      "outputs": []
    },
    {
      "cell_type": "code",
      "metadata": {
        "id": "RKOyYqtqN6a3"
      },
      "source": [
        "col = ['date','nepse', 'compound']\n",
        "train_df.columns = col\n",
        "validation_df.columns = col\n",
        "test_df.columns = col"
      ],
      "execution_count": 654,
      "outputs": []
    },
    {
      "cell_type": "code",
      "metadata": {
        "id": "XxH74y21O7XV"
      },
      "source": [
        "# train_df['date'] = train_df.date.dt.date\n",
        "# validation_df['date'] = validation_df.date.dt.date\n",
        "# test_df['date'] = test_df.date.dt.date"
      ],
      "execution_count": 655,
      "outputs": []
    },
    {
      "cell_type": "code",
      "metadata": {
        "id": "GeBowFM1P65H",
        "outputId": "ab3a3ad2-c8ee-49de-d497-716a21000424",
        "colab": {
          "base_uri": "https://localhost:8080/",
          "height": 607
        }
      },
      "source": [
        "plt.figure(figsize=(26, 10))\n",
        "plt.plot(train_df['date'], train_df['nepse'], color='blue', label=\"train\")\n",
        "plt.plot(validation_df['date'], validation_df['nepse'], color='red', label=\"validation\")\n",
        "\n",
        "plt.plot(test_df['date'],test_df['nepse'], color='orange', label='test')\n",
        "plt.plot(test_df['date'].iloc[31:],predicted_stock_price, color='green', label='predicted')\n",
        "\n",
        "plt.title('NIFTY Stock Price Prediction using LSTM')\n",
        "plt.xlabel('Years')\n",
        "plt.ylabel('NIFTY Index Prices')\n",
        "plt.legend()\n",
        "plt.show()"
      ],
      "execution_count": 657,
      "outputs": [
        {
          "output_type": "display_data",
          "data": {
            "image/png": "[encoded data removed]",
            "text/plain": [
              "<Figure size 1872x720 with 1 Axes>"
            ]
          },
          "metadata": {
            "tags": [],
            "needs_background": "light"
          }
        }
      ]
    },
    {
      "cell_type": "code",
      "metadata": {
        "id": "v-bsy9W_QFKH",
        "outputId": "f2aec7fb-3188-4f65-fcc5-2bd64f0c8f9c",
        "colab": {
          "base_uri": "https://localhost:8080/"
        }
      },
      "source": [
        "from math import sqrt\n",
        "from sklearn.metrics import mean_squared_error\n",
        "\n",
        "RMSE_LSTM = sqrt(mean_squared_error(test_df.iloc[31:]['nepse'].values, predicted_stock_price))\n",
        "\n",
        "print(f\"RMSE_LSTM = {RMSE_LSTM}\")"
      ],
      "execution_count": 658,
      "outputs": [
        {
          "output_type": "stream",
          "text": [
            "RMSE_LSTM = 18.89180454252489\n"
          ],
          "name": "stdout"
        }
      ]
    },
    {
      "cell_type": "code",
      "metadata": {
        "id": "l7aRHqyYRJq4",
        "outputId": "7c374fcd-bbe9-4bef-a1b2-b84c8941f928",
        "colab": {
          "base_uri": "https://localhost:8080/",
          "height": 607
        }
      },
      "source": [
        "plt.figure(figsize=(26, 10))\n",
        "plt.plot(test_df['date'],test_df['nepse'], color='orange', label='test')\n",
        "plt.plot(test_df['date'].iloc[31:],predicted_stock_price, color='green', label='predicted')\n",
        "plt.title('NIFTY Stock Price Prediction using LSTM')\n",
        "plt.xlabel('Years')\n",
        "plt.ylabel('NIFTY Index Prices')\n",
        "plt.legend()\n",
        "plt.show()"
      ],
      "execution_count": 659,
      "outputs": [
        {
          "output_type": "display_data",
          "data": {
            "image/png": "[encoded data removed]",
            "text/plain": [
              "<Figure size 1872x720 with 1 Axes>"
            ]
          },
          "metadata": {
            "tags": [],
            "needs_background": "light"
          }
        }
      ]
    },
    {
      "cell_type": "code",
      "metadata": {
        "id": "gL1TIs2vT15Z"
      },
      "source": [
        ""
      ],
      "execution_count": null,
      "outputs": []
    }
  ]
}