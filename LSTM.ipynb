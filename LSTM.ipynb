{
  "nbformat": 4,
  "nbformat_minor": 0,
  "metadata": {
    "colab": {
      "name": "scratchpad",
      "provenance": [],
      "machine_shape": "hm",
      "include_colab_link": true
    },
    "kernelspec": {
      "display_name": "Python 3",
      "name": "python3"
    },
    "accelerator": "GPU"
  },
  "cells": [
    {
      "cell_type": "markdown",
      "metadata": {
        "id": "view-in-github",
        "colab_type": "text"
      },
      "source": [
        "<a href=\"https://colab.research.google.com/github/pratik-poudel/financial_news_stock/blob/master/LSTM.ipynb\" target=\"_parent\"><img src=\"https://colab.research.google.com/assets/colab-badge.svg\" alt=\"Open In Colab\"/></a>"
      ]
    },
    {
      "cell_type": "code",
      "metadata": {
        "id": "0jGP6ocnmwnZ"
      },
      "source": [
        "!pip install mlxtend --upgrade"
      ],
      "execution_count": null,
      "outputs": []
    },
    {
      "cell_type": "code",
      "metadata": {
        "id": "lIYdn1woOS1n"
      },
      "source": [
        "import numpy as np\n",
        "import pandas as pd\n",
        "import matplotlib.pyplot as plt\n",
        "\n",
        "\n",
        "\n",
        "import tensorflow as tf\n",
        "import tensorflow_datasets as tfds\n",
        "\n",
        "from tensorflow.keras.preprocessing.text import Tokenizer\n",
        "from tensorflow.keras.preprocessing.sequence import pad_sequences\n",
        "\n",
        "from tensorflow.keras.models import Sequential\n",
        "from tensorflow.keras.layers import Embedding, Dropout, Bidirectional,LSTM, GlobalMaxPool1D, Dense\n",
        "from tensorflow.keras.utils import to_categorical, plot_model\n",
        "\n",
        "\n",
        "from sklearn.model_selection import train_test_split\n",
        "from sklearn.preprocessing import LabelEncoder\n",
        "from sklearn.metrics import confusion_matrix, roc_curve, roc_auc_score, accuracy_score,precision_recall_fscore_support\n",
        "from sklearn.utils import resample, shuffle\n",
        "\n",
        "\n",
        "from mlxtend.plotting import plot_confusion_matrix\n",
        "import warnings \n",
        "warnings.filterwarnings('ignore')"
      ],
      "execution_count": 2,
      "outputs": []
    },
    {
      "cell_type": "markdown",
      "metadata": {
        "id": "dUTvPQ9vRok2"
      },
      "source": [
        "# Financial Phrase Bank "
      ]
    },
    {
      "cell_type": "code",
      "metadata": {
        "id": "4u2s5DZARoL6"
      },
      "source": [
        "fin_data = pd.read_table('/content/Sentences_50Agree.txt', delimiter='\\r\\n')"
      ],
      "execution_count": 3,
      "outputs": []
    },
    {
      "cell_type": "code",
      "metadata": {
        "id": "OQdubjqSRoIp"
      },
      "source": [
        "values = np.array([fin_data.values[i][0].split('@') for i in range(fin_data.shape[0])])\n",
        "data = pd.DataFrame({'sentence': values[:, 0], 'sentiment':values[:, 1]})"
      ],
      "execution_count": 4,
      "outputs": []
    },
    {
      "cell_type": "code",
      "metadata": {
        "id": "slCvtjgNRoFN",
        "colab": {
          "base_uri": "https://localhost:8080/",
          "height": 0
        },
        "outputId": "2c5749f1-c8a1-4f77-95f2-c8f1fd9ade52"
      },
      "source": [
        "data.head(2)"
      ],
      "execution_count": 5,
      "outputs": [
        {
          "output_type": "execute_result",
          "data": {
            "text/html": [
              "<div>\n",
              "<style scoped>\n",
              "    .dataframe tbody tr th:only-of-type {\n",
              "        vertical-align: middle;\n",
              "    }\n",
              "\n",
              "    .dataframe tbody tr th {\n",
              "        vertical-align: top;\n",
              "    }\n",
              "\n",
              "    .dataframe thead th {\n",
              "        text-align: right;\n",
              "    }\n",
              "</style>\n",
              "<table border=\"1\" class=\"dataframe\">\n",
              "  <thead>\n",
              "    <tr style=\"text-align: right;\">\n",
              "      <th></th>\n",
              "      <th>sentence</th>\n",
              "      <th>sentiment</th>\n",
              "    </tr>\n",
              "  </thead>\n",
              "  <tbody>\n",
              "    <tr>\n",
              "      <th>0</th>\n",
              "      <td>Technopolis plans to develop in stages an area...</td>\n",
              "      <td>neutral</td>\n",
              "    </tr>\n",
              "    <tr>\n",
              "      <th>1</th>\n",
              "      <td>The international electronic industry company ...</td>\n",
              "      <td>negative</td>\n",
              "    </tr>\n",
              "  </tbody>\n",
              "</table>\n",
              "</div>"
            ],
            "text/plain": [
              "                                            sentence sentiment\n",
              "0  Technopolis plans to develop in stages an area...   neutral\n",
              "1  The international electronic industry company ...  negative"
            ]
          },
          "metadata": {
            "tags": []
          },
          "execution_count": 5
        }
      ]
    },
    {
      "cell_type": "code",
      "metadata": {
        "id": "8cUSOhJCRoBo",
        "colab": {
          "base_uri": "https://localhost:8080/",
          "height": 0
        },
        "outputId": "4a22d68a-a59f-4677-cac7-c14b4b90ad13"
      },
      "source": [
        "data['sentiment'].value_counts().plot(kind='bar')\n",
        "plt.show()"
      ],
      "execution_count": 6,
      "outputs": [
        {
          "output_type": "display_data",
          "data": {
            "image/png": "[encoded data removed]",
            "text/plain": [
              "<Figure size 432x288 with 1 Axes>"
            ]
          },
          "metadata": {
            "tags": [],
            "needs_background": "light"
          }
        }
      ]
    },
    {
      "cell_type": "code",
      "metadata": {
        "id": "fxyIdicGpwZS"
      },
      "source": [
        "X= data.sentence\n",
        "y = data.sentiment\n",
        "\n",
        "X_train, X_test, y_train, y_test = train_test_split(X, y, stratify=y, random_state=60, test_size=0.2)"
      ],
      "execution_count": 7,
      "outputs": []
    },
    {
      "cell_type": "code",
      "metadata": {
        "id": "Kju4Yok6Vzyw",
        "colab": {
          "base_uri": "https://localhost:8080/"
        },
        "outputId": "494806c9-3f6d-4cb0-a43a-758dc2ad0c70"
      },
      "source": [
        "X_train.shape, X_test.shape, X.shape"
      ],
      "execution_count": 8,
      "outputs": [
        {
          "output_type": "execute_result",
          "data": {
            "text/plain": [
              "((3876,), (969,), (4845,))"
            ]
          },
          "metadata": {
            "tags": []
          },
          "execution_count": 8
        }
      ]
    },
    {
      "cell_type": "code",
      "metadata": {
        "id": "NyWPP77F9k1I"
      },
      "source": [
        "neu_index = y_train[y_train == 'neutral'].index\n",
        "pos_index = y_train[y_train == 'positive'].index\n",
        "neg_index = y_train[y_train == 'negative'].index"
      ],
      "execution_count": 9,
      "outputs": []
    },
    {
      "cell_type": "code",
      "metadata": {
        "id": "ODCDkrzN9nCL"
      },
      "source": [
        "\n",
        "# Down-sample neutral class\n",
        "X_train_neu, y_train_neu = resample(X_train.loc[neu_index], y_train.loc[neu_index],\n",
        "                                    n_samples=len(pos_index), replace=False,\n",
        "                                    random_state=60)\n",
        "\n",
        "# Up-sample negative class\n",
        "X_train_neg, y_train_neg = resample(X_train.loc[neg_index], y_train.loc[neg_index],\n",
        "                                    n_samples=len(pos_index), replace=True,\n",
        "                                    random_state=60)"
      ],
      "execution_count": 10,
      "outputs": []
    },
    {
      "cell_type": "code",
      "metadata": {
        "id": "44cl_AYp9m_H",
        "colab": {
          "base_uri": "https://localhost:8080/"
        },
        "outputId": "e91534fc-d48e-48d5-8ce9-eb2a718e1bc0"
      },
      "source": [
        "# Combine resampled classes\n",
        "X_train_resample = X_train.loc[pos_index].append([X_train_neu, X_train_neg])\n",
        "y_train_resample = y_train.loc[pos_index].append([y_train_neu, y_train_neg])\n",
        "\n",
        "# Shuffle samples\n",
        "X_train_resample, y_train_resample = shuffle(X_train_resample, y_train_resample, random_state=7)\n",
        "\n",
        "# Display new class counts\n",
        "print(y_train_resample.value_counts())"
      ],
      "execution_count": 11,
      "outputs": [
        {
          "output_type": "stream",
          "text": [
            "neutral     1090\n",
            "negative    1090\n",
            "positive    1090\n",
            "Name: sentiment, dtype: int64\n"
          ],
          "name": "stdout"
        }
      ]
    },
    {
      "cell_type": "code",
      "metadata": {
        "id": "sbN46l-L9m70"
      },
      "source": [
        ""
      ],
      "execution_count": 11,
      "outputs": []
    },
    {
      "cell_type": "code",
      "metadata": {
        "id": "aDoDb2Nq9m4J"
      },
      "source": [
        ""
      ],
      "execution_count": 11,
      "outputs": []
    },
    {
      "cell_type": "markdown",
      "metadata": {
        "id": "CbxLax-jWVoy"
      },
      "source": [
        "# Prepare Data for model"
      ]
    },
    {
      "cell_type": "code",
      "metadata": {
        "id": "o7UChC8JWgIq"
      },
      "source": [
        "# Remove Punctuation and assign integer to each word\n",
        "tokenizer = Tokenizer()\n",
        "tokenizer.fit_on_texts(X_train_resample)\n",
        "X_train_seq = tokenizer.texts_to_sequences(X_train_resample)\n",
        "X_test_seq = tokenizer.texts_to_sequences(X_test)"
      ],
      "execution_count": 12,
      "outputs": []
    },
    {
      "cell_type": "code",
      "metadata": {
        "id": "WfblAUy2WgI7"
      },
      "source": [
        "# Make sequences of equal length \n",
        "max_len = np.max([len(X_train_seq[i]) for i in range(len(X_train_seq))])\n",
        "X_train_seq = pad_sequences(X_train_seq, maxlen=max_len)\n",
        "X_test_seq = pad_sequences(X_test_seq, maxlen=max_len)"
      ],
      "execution_count": 13,
      "outputs": []
    },
    {
      "cell_type": "code",
      "metadata": {
        "colab": {
          "base_uri": "https://localhost:8080/"
        },
        "id": "9TCWLyfvWgI8",
        "outputId": "974d89f2-8792-43bd-910f-cfb9546be69a"
      },
      "source": [
        "max_len"
      ],
      "execution_count": 14,
      "outputs": [
        {
          "output_type": "execute_result",
          "data": {
            "text/plain": [
              "71"
            ]
          },
          "metadata": {
            "tags": []
          },
          "execution_count": 14
        }
      ]
    },
    {
      "cell_type": "code",
      "metadata": {
        "id": "uAwMS-K-WgI-"
      },
      "source": [
        "# Convert sentiment values to one hot encoded for Keras model\n",
        "le = LabelEncoder()\n",
        "le.fit(y_train)\n",
        "y_train_seq = to_categorical(le.transform(y_train_resample))\n",
        "y_test_seq = to_categorical(le.transform(y_test))"
      ],
      "execution_count": 15,
      "outputs": []
    },
    {
      "cell_type": "code",
      "metadata": {
        "id": "1cY_gk6L9_0r"
      },
      "source": [
        ""
      ],
      "execution_count": 15,
      "outputs": []
    },
    {
      "cell_type": "markdown",
      "metadata": {
        "id": "-i0nraavVn0q"
      },
      "source": [
        "# EMBEDDINGS"
      ]
    },
    {
      "cell_type": "code",
      "metadata": {
        "id": "m-sKHgtlVhyG",
        "outputId": "bbfd1500-bd73-4a97-ced7-66876d705392",
        "colab": {
          "base_uri": "https://localhost:8080/"
        }
      },
      "source": [
        "!wget http://nlp.stanford.edu/data/glove.6B.zip\n",
        "!unzip glove.6B.zip"
      ],
      "execution_count": 18,
      "outputs": [
        {
          "output_type": "stream",
          "text": [
            "--2021-03-19 03:07:52--  http://nlp.stanford.edu/data/glove.6B.zip\n",
            "Resolving nlp.stanford.edu (nlp.stanford.edu)... 171.64.67.140\n",
            "Connecting to nlp.stanford.edu (nlp.stanford.edu)|171.64.67.140|:80... connected.\n",
            "HTTP request sent, awaiting response... 302 Found\n",
            "Location: https://nlp.stanford.edu/data/glove.6B.zip [following]\n",
            "--2021-03-19 03:07:52--  https://nlp.stanford.edu/data/glove.6B.zip\n",
            "Connecting to nlp.stanford.edu (nlp.stanford.edu)|171.64.67.140|:443... connected.\n",
            "HTTP request sent, awaiting response... 301 Moved Permanently\n",
            "Location: http://downloads.cs.stanford.edu/nlp/data/glove.6B.zip [following]\n",
            "--2021-03-19 03:07:53--  http://downloads.cs.stanford.edu/nlp/data/glove.6B.zip\n",
            "Resolving downloads.cs.stanford.edu (downloads.cs.stanford.edu)... 171.64.64.22\n",
            "Connecting to downloads.cs.stanford.edu (downloads.cs.stanford.edu)|171.64.64.22|:80... connected.\n",
            "HTTP request sent, awaiting response... 200 OK\n",
            "Length: 862182613 (822M) [application/zip]\n",
            "Saving to: ‘glove.6B.zip’\n",
            "\n",
            "glove.6B.zip        100%[===================>] 822.24M  5.02MB/s    in 2m 42s  \n",
            "\n",
            "2021-03-19 03:10:35 (5.08 MB/s) - ‘glove.6B.zip’ saved [862182613/862182613]\n",
            "\n",
            "Archive:  glove.6B.zip\n",
            "  inflating: glove.6B.50d.txt        \n",
            "  inflating: glove.6B.100d.txt       \n",
            "  inflating: glove.6B.200d.txt       \n",
            "  inflating: glove.6B.300d.txt       \n"
          ],
          "name": "stdout"
        }
      ]
    },
    {
      "cell_type": "code",
      "metadata": {
        "id": "OgVf4Ta6Wl9n"
      },
      "source": [
        "dict_w2v = {}\n",
        "with open('/content/glove.6B.100d.txt', 'r') as file:\n",
        "    for line in file:\n",
        "        tokens = line.split()\n",
        "        word = tokens[0]\n",
        "        vector = np.array(tokens[1:], dtype=np.float32)\n",
        "        if vector.shape[0] == 100:\n",
        "            dict_w2v[word] = vector\n",
        "        else:\n",
        "            print(\"There is issue with \" + word)"
      ],
      "execution_count": 19,
      "outputs": []
    },
    {
      "cell_type": "code",
      "metadata": {
        "id": "EldWTnWtWl61",
        "colab": {
          "base_uri": "https://localhost:8080/"
        },
        "outputId": "678d0ce5-2328-4be1-ae99-d0ee978853e0"
      },
      "source": [
        "print(\"dictionary size :\" ,len(dict_w2v) )"
      ],
      "execution_count": 20,
      "outputs": [
        {
          "output_type": "stream",
          "text": [
            "dictionary size : 400000\n"
          ],
          "name": "stdout"
        }
      ]
    },
    {
      "cell_type": "code",
      "metadata": {
        "id": "O1IKoy3EWl3_",
        "colab": {
          "base_uri": "https://localhost:8080/"
        },
        "outputId": "c656e806-72ac-4010-c86e-a75b2424bcc4"
      },
      "source": [
        "words_found = set()\n",
        "words_not_found = set()\n",
        "for word in tokenizer.word_index:\n",
        "    vec = dict_w2v.get(word)\n",
        "    if vec is not None:\n",
        "        words_found.add(word)\n",
        "    else:\n",
        "        words_not_found.add(word)\n",
        "len(words_found), len(words_not_found), len(tokenizer.word_index)"
      ],
      "execution_count": 21,
      "outputs": [
        {
          "output_type": "execute_result",
          "data": {
            "text/plain": [
              "(6187, 918, 7105)"
            ]
          },
          "metadata": {
            "tags": []
          },
          "execution_count": 21
        }
      ]
    },
    {
      "cell_type": "code",
      "metadata": {
        "id": "8zDycGo2jsF5"
      },
      "source": [
        "EMBEDDING_DIM = 100\n",
        "VOCAB_SIZE = len(tokenizer.word_index)\n",
        "embedding_matrix = np.zeros((VOCAB_SIZE +1, EMBEDDING_DIM))"
      ],
      "execution_count": 22,
      "outputs": []
    },
    {
      "cell_type": "code",
      "metadata": {
        "id": "P1ZAm1Kdjr-I",
        "colab": {
          "base_uri": "https://localhost:8080/"
        },
        "outputId": "621aaa30-cc0e-4009-bec5-edc34a8267e1"
      },
      "source": [
        "unk_cnt = 0\n",
        "unk_set = set()\n",
        "for word, i in tokenizer.word_index.items():\n",
        "    emb_vector = dict_w2v.get(word)\n",
        "    if emb_vector is not None:\n",
        "        embedding_matrix[i] = emb_vector\n",
        "    else:\n",
        "        unk_cnt += 1\n",
        "        unk_set.add(word)\n",
        "unk_cnt"
      ],
      "execution_count": 23,
      "outputs": [
        {
          "output_type": "execute_result",
          "data": {
            "text/plain": [
              "918"
            ]
          },
          "metadata": {
            "tags": []
          },
          "execution_count": 23
        }
      ]
    },
    {
      "cell_type": "code",
      "metadata": {
        "id": "snkNNeOXgsEd",
        "colab": {
          "base_uri": "https://localhost:8080/"
        },
        "outputId": "542a8fc0-63c9-48b8-9a36-e4dbbd83498a"
      },
      "source": [
        "X_train_seq.shape, y_train_seq.shape"
      ],
      "execution_count": 24,
      "outputs": [
        {
          "output_type": "execute_result",
          "data": {
            "text/plain": [
              "((3270, 71), (3270, 3))"
            ]
          },
          "metadata": {
            "tags": []
          },
          "execution_count": 24
        }
      ]
    },
    {
      "cell_type": "code",
      "metadata": {
        "id": "6llz2rAam3BI",
        "colab": {
          "base_uri": "https://localhost:8080/",
          "height": 966
        },
        "outputId": "d4027368-0368-40f7-a4ae-8d61e0517ba1"
      },
      "source": [
        "np.random.seed(60)\n",
        "model = Sequential()\n",
        "model.add(Embedding(VOCAB_SIZE +1, EMBEDDING_DIM, weights=[embedding_matrix],input_length=max_len, trainable=True))\n",
        "model.add(Dropout(0.25))\n",
        "model.add(Bidirectional(LSTM(200, return_sequences=True), merge_mode='concat')) #{\"sum\", \"mul\", \"ave\", \"concat\", None}\n",
        "model.add(Dropout(0.25))\n",
        "model.add(GlobalMaxPool1D())\n",
        "model.add(Dense(64, activation='sigmoid'))\n",
        "model.add(Dropout(0.25))\n",
        "model.add(Dense(3, activation='softmax'))\n",
        "model.compile(loss='categorical_crossentropy', optimizer='rmsprop', metrics=[ \n",
        "                                                                            #  'Precision', \n",
        "                                                                             'Recall', \n",
        "                                                                            #  'accuracy'\n",
        "                                                                             ])\n",
        "# model.summary()\n",
        "\n",
        "batch_size = 64\n",
        "epochs = 15\n",
        "\n",
        "model.fit(X_train_seq, y_train_seq,validation_data=(X_test_seq, y_test_seq), \n",
        "          batch_size=batch_size, verbose=1, epochs=epochs, shuffle=True)\n",
        "\n",
        "preds = model.predict(X_test_seq, batch_size=batch_size)\n",
        "true_y = np.argmax(y_test_seq, axis=1)\n",
        "pred_y = np.argmax(preds, axis=1)\n",
        "\n",
        "c_mat = confusion_matrix(true_y, pred_y)\n",
        "plot_confusion_matrix(c_mat, cmap='Blues', class_names = le.classes_, figsize=(5, 5))\n",
        "plt.show()\n",
        "\n",
        "p, r, f1, s = precision_recall_fscore_support(true_y, pred_y, average=None)\n",
        "\n",
        "# Print precision, recall, f1 score and support\n",
        "results = pd.DataFrame({'1-Precision': p, '2-Recall': r, '3-F1 score': f1, '4-Support': s}, index=le.classes_)\n",
        "\n",
        "# Print precision, recall, f1 score and support\n",
        "print(results.round(decimals=3))"
      ],
      "execution_count": 146,
      "outputs": [
        {
          "output_type": "stream",
          "text": [
            "Epoch 1/15\n",
            "52/52 [==============================] - 5s 37ms/step - loss: 1.0829 - recall: 0.2205 - val_loss: 0.8301 - val_recall: 0.4396\n",
            "Epoch 2/15\n",
            "52/52 [==============================] - 1s 22ms/step - loss: 0.8875 - recall: 0.4458 - val_loss: 0.8684 - val_recall: 0.3932\n",
            "Epoch 3/15\n",
            "52/52 [==============================] - 1s 22ms/step - loss: 0.7417 - recall: 0.5943 - val_loss: 0.9593 - val_recall: 0.4923\n",
            "Epoch 4/15\n",
            "52/52 [==============================] - 1s 22ms/step - loss: 0.6309 - recall: 0.6939 - val_loss: 0.6253 - val_recall: 0.7141\n",
            "Epoch 5/15\n",
            "52/52 [==============================] - 1s 22ms/step - loss: 0.5403 - recall: 0.7443 - val_loss: 0.6601 - val_recall: 0.6904\n",
            "Epoch 6/15\n",
            "52/52 [==============================] - 1s 23ms/step - loss: 0.4487 - recall: 0.7948 - val_loss: 0.6118 - val_recall: 0.7358\n",
            "Epoch 7/15\n",
            "52/52 [==============================] - 1s 22ms/step - loss: 0.3714 - recall: 0.8430 - val_loss: 0.5765 - val_recall: 0.7482\n",
            "Epoch 8/15\n",
            "52/52 [==============================] - 1s 22ms/step - loss: 0.3247 - recall: 0.8683 - val_loss: 0.6781 - val_recall: 0.7131\n",
            "Epoch 9/15\n",
            "52/52 [==============================] - 1s 22ms/step - loss: 0.3038 - recall: 0.8758 - val_loss: 0.8313 - val_recall: 0.6398\n",
            "Epoch 10/15\n",
            "52/52 [==============================] - 1s 22ms/step - loss: 0.2715 - recall: 0.8898 - val_loss: 0.7069 - val_recall: 0.7451\n",
            "Epoch 11/15\n",
            "52/52 [==============================] - 1s 22ms/step - loss: 0.2499 - recall: 0.9033 - val_loss: 0.5902 - val_recall: 0.7606\n",
            "Epoch 12/15\n",
            "52/52 [==============================] - 1s 22ms/step - loss: 0.2169 - recall: 0.9171 - val_loss: 0.5586 - val_recall: 0.7792\n",
            "Epoch 13/15\n",
            "52/52 [==============================] - 1s 22ms/step - loss: 0.1814 - recall: 0.9325 - val_loss: 0.7378 - val_recall: 0.7214\n",
            "Epoch 14/15\n",
            "52/52 [==============================] - 1s 22ms/step - loss: 0.1551 - recall: 0.9411 - val_loss: 0.6228 - val_recall: 0.7761\n",
            "Epoch 15/15\n",
            "52/52 [==============================] - 1s 22ms/step - loss: 0.1304 - recall: 0.9549 - val_loss: 0.6241 - val_recall: 0.7853\n"
          ],
          "name": "stdout"
        },
        {
          "output_type": "display_data",
          "data": {
            "image/png": "[encoded data removed]",
            "text/plain": [
              "<Figure size 360x360 with 1 Axes>"
            ]
          },
          "metadata": {
            "tags": [],
            "needs_background": "light"
          }
        },
        {
          "output_type": "stream",
          "text": [
            "          1-Precision  2-Recall  3-F1 score  4-Support\n",
            "negative        0.646     0.769       0.702        121\n",
            "neutral         0.867     0.817       0.842        575\n",
            "positive        0.714     0.740       0.727        273\n"
          ],
          "name": "stdout"
        }
      ]
    },
    {
      "cell_type": "code",
      "metadata": {
        "id": "-8amjV87o5BN"
      },
      "source": [
        ""
      ],
      "execution_count": 25,
      "outputs": []
    },
    {
      "cell_type": "code",
      "metadata": {
        "id": "q_VAZZdwo4-W"
      },
      "source": [
        ""
      ],
      "execution_count": 25,
      "outputs": []
    },
    {
      "cell_type": "markdown",
      "metadata": {
        "id": "1RzDfejkrMel"
      },
      "source": [
        "# Prepare NEPSE DATA"
      ]
    },
    {
      "cell_type": "code",
      "metadata": {
        "id": "FrMhQqlZn-C8"
      },
      "source": [
        "indices = pd.read_csv('/content/Nepse Indices - Sheet1.csv', header=1)\n",
        "indices.columns= ['no_name', 'date', 'index', 'abs_change', 'pct_change']\n",
        "indices['date'] = pd.to_datetime(indices['date'])\n",
        "indices = indices[indices['date'] < '2019-07-06']"
      ],
      "execution_count": 240,
      "outputs": []
    },
    {
      "cell_type": "code",
      "metadata": {
        "id": "qNsJ8_z0n98P"
      },
      "source": [
        "news_df = pd.read_csv('/content/years_combined_df.csv')\n",
        "news_df['date'] = pd.to_datetime(news_df['date'])\n",
        "news_df = news_df[news_df['date'] >= '2014-02-02']\n",
        "news_df.reset_index(drop=True, inplace=True)"
      ],
      "execution_count": 241,
      "outputs": []
    },
    {
      "cell_type": "code",
      "metadata": {
        "id": "Ov3F8cKM0wlh"
      },
      "source": [
        "news_df = news_df[news_df['date'].isin(indices['date'])].reset_index(drop=True)"
      ],
      "execution_count": 242,
      "outputs": []
    },
    {
      "cell_type": "code",
      "metadata": {
        "id": "4msgED4p3Bvt"
      },
      "source": [
        "indices = indices[indices['date'].isin(news_df['date'])].reset_index(drop=True)"
      ],
      "execution_count": 243,
      "outputs": []
    },
    {
      "cell_type": "code",
      "metadata": {
        "id": "Rn2s6qbL3h7u"
      },
      "source": [
        "indices['pct_change'] = indices['pct_change'].str.replace('%', '').astype(float)\n",
        "indices['target'] = np.where(indices['pct_change'] < 0 , 0, 1)"
      ],
      "execution_count": 244,
      "outputs": []
    },
    {
      "cell_type": "code",
      "metadata": {
        "id": "MefI4I9FdmMT"
      },
      "source": [
        "news_df = news_df[['date', 'content']]"
      ],
      "execution_count": 245,
      "outputs": []
    },
    {
      "cell_type": "code",
      "metadata": {
        "id": "uYod9kCo7v8N",
        "outputId": "f49f8995-bb8f-4e9e-dd0d-6590194d951b",
        "colab": {
          "base_uri": "https://localhost:8080/",
          "height": 406
        }
      },
      "source": [
        "indices"
      ],
      "execution_count": 246,
      "outputs": [
        {
          "output_type": "execute_result",
          "data": {
            "text/html": [
              "<div>\n",
              "<style scoped>\n",
              "    .dataframe tbody tr th:only-of-type {\n",
              "        vertical-align: middle;\n",
              "    }\n",
              "\n",
              "    .dataframe tbody tr th {\n",
              "        vertical-align: top;\n",
              "    }\n",
              "\n",
              "    .dataframe thead th {\n",
              "        text-align: right;\n",
              "    }\n",
              "</style>\n",
              "<table border=\"1\" class=\"dataframe\">\n",
              "  <thead>\n",
              "    <tr style=\"text-align: right;\">\n",
              "      <th></th>\n",
              "      <th>no_name</th>\n",
              "      <th>date</th>\n",
              "      <th>index</th>\n",
              "      <th>abs_change</th>\n",
              "      <th>pct_change</th>\n",
              "      <th>target</th>\n",
              "    </tr>\n",
              "  </thead>\n",
              "  <tbody>\n",
              "    <tr>\n",
              "      <th>0</th>\n",
              "      <td>1590</td>\n",
              "      <td>2014-02-02</td>\n",
              "      <td>775.92</td>\n",
              "      <td>-5.54</td>\n",
              "      <td>-0.70</td>\n",
              "      <td>0</td>\n",
              "    </tr>\n",
              "    <tr>\n",
              "      <th>1</th>\n",
              "      <td>1589</td>\n",
              "      <td>2014-02-03</td>\n",
              "      <td>769.51</td>\n",
              "      <td>-6.41</td>\n",
              "      <td>-0.83</td>\n",
              "      <td>0</td>\n",
              "    </tr>\n",
              "    <tr>\n",
              "      <th>2</th>\n",
              "      <td>1588</td>\n",
              "      <td>2014-02-04</td>\n",
              "      <td>774.91</td>\n",
              "      <td>5.40</td>\n",
              "      <td>0.70</td>\n",
              "      <td>1</td>\n",
              "    </tr>\n",
              "    <tr>\n",
              "      <th>3</th>\n",
              "      <td>1587</td>\n",
              "      <td>2014-02-05</td>\n",
              "      <td>781.38</td>\n",
              "      <td>6.47</td>\n",
              "      <td>0.83</td>\n",
              "      <td>1</td>\n",
              "    </tr>\n",
              "    <tr>\n",
              "      <th>4</th>\n",
              "      <td>1586</td>\n",
              "      <td>2014-02-06</td>\n",
              "      <td>785.78</td>\n",
              "      <td>4.40</td>\n",
              "      <td>0.56</td>\n",
              "      <td>1</td>\n",
              "    </tr>\n",
              "    <tr>\n",
              "      <th>...</th>\n",
              "      <td>...</td>\n",
              "      <td>...</td>\n",
              "      <td>...</td>\n",
              "      <td>...</td>\n",
              "      <td>...</td>\n",
              "      <td>...</td>\n",
              "    </tr>\n",
              "    <tr>\n",
              "      <th>1233</th>\n",
              "      <td>351</td>\n",
              "      <td>2019-06-24</td>\n",
              "      <td>1,260.10</td>\n",
              "      <td>5.75</td>\n",
              "      <td>0.46</td>\n",
              "      <td>1</td>\n",
              "    </tr>\n",
              "    <tr>\n",
              "      <th>1234</th>\n",
              "      <td>350</td>\n",
              "      <td>2019-06-25</td>\n",
              "      <td>1,261.07</td>\n",
              "      <td>0.96</td>\n",
              "      <td>0.08</td>\n",
              "      <td>1</td>\n",
              "    </tr>\n",
              "    <tr>\n",
              "      <th>1235</th>\n",
              "      <td>349</td>\n",
              "      <td>2019-06-26</td>\n",
              "      <td>1,258.29</td>\n",
              "      <td>-2.78</td>\n",
              "      <td>-0.22</td>\n",
              "      <td>0</td>\n",
              "    </tr>\n",
              "    <tr>\n",
              "      <th>1236</th>\n",
              "      <td>347</td>\n",
              "      <td>2019-06-30</td>\n",
              "      <td>1,244.89</td>\n",
              "      <td>-12.27</td>\n",
              "      <td>-0.98</td>\n",
              "      <td>0</td>\n",
              "    </tr>\n",
              "    <tr>\n",
              "      <th>1237</th>\n",
              "      <td>343</td>\n",
              "      <td>2019-07-04</td>\n",
              "      <td>1,260.47</td>\n",
              "      <td>-8.27</td>\n",
              "      <td>-0.65</td>\n",
              "      <td>0</td>\n",
              "    </tr>\n",
              "  </tbody>\n",
              "</table>\n",
              "<p>1238 rows × 6 columns</p>\n",
              "</div>"
            ],
            "text/plain": [
              "      no_name       date     index  abs_change  pct_change  target\n",
              "0        1590 2014-02-02    775.92       -5.54       -0.70       0\n",
              "1        1589 2014-02-03    769.51       -6.41       -0.83       0\n",
              "2        1588 2014-02-04    774.91        5.40        0.70       1\n",
              "3        1587 2014-02-05    781.38        6.47        0.83       1\n",
              "4        1586 2014-02-06    785.78        4.40        0.56       1\n",
              "...       ...        ...       ...         ...         ...     ...\n",
              "1233      351 2019-06-24  1,260.10        5.75        0.46       1\n",
              "1234      350 2019-06-25  1,261.07        0.96        0.08       1\n",
              "1235      349 2019-06-26  1,258.29       -2.78       -0.22       0\n",
              "1236      347 2019-06-30  1,244.89      -12.27       -0.98       0\n",
              "1237      343 2019-07-04  1,260.47       -8.27       -0.65       0\n",
              "\n",
              "[1238 rows x 6 columns]"
            ]
          },
          "metadata": {
            "tags": []
          },
          "execution_count": 246
        }
      ]
    },
    {
      "cell_type": "code",
      "metadata": {
        "id": "d1BbwkeWgETq"
      },
      "source": [
        "indices = indices[['date','index']]"
      ],
      "execution_count": 247,
      "outputs": []
    },
    {
      "cell_type": "code",
      "metadata": {
        "id": "ibHreAaTgQj4"
      },
      "source": [
        "df = pd.merge(news_df, indices, left_on='date', right_on='date')"
      ],
      "execution_count": 248,
      "outputs": []
    },
    {
      "cell_type": "code",
      "metadata": {
        "id": "RemLbuVduZM5",
        "outputId": "01c1262d-1bd6-4dbc-a35a-bcdccba4feb8",
        "colab": {
          "base_uri": "https://localhost:8080/",
          "height": 406
        }
      },
      "source": [
        "df"
      ],
      "execution_count": 249,
      "outputs": [
        {
          "output_type": "execute_result",
          "data": {
            "text/html": [
              "<div>\n",
              "<style scoped>\n",
              "    .dataframe tbody tr th:only-of-type {\n",
              "        vertical-align: middle;\n",
              "    }\n",
              "\n",
              "    .dataframe tbody tr th {\n",
              "        vertical-align: top;\n",
              "    }\n",
              "\n",
              "    .dataframe thead th {\n",
              "        text-align: right;\n",
              "    }\n",
              "</style>\n",
              "<table border=\"1\" class=\"dataframe\">\n",
              "  <thead>\n",
              "    <tr style=\"text-align: right;\">\n",
              "      <th></th>\n",
              "      <th>date</th>\n",
              "      <th>content</th>\n",
              "      <th>index</th>\n",
              "    </tr>\n",
              "  </thead>\n",
              "  <tbody>\n",
              "    <tr>\n",
              "      <th>0</th>\n",
              "      <td>2014-02-02</td>\n",
              "      <td>Nepal Stock Exchange (Nepse) slid 2.22 points ...</td>\n",
              "      <td>775.92</td>\n",
              "    </tr>\n",
              "    <tr>\n",
              "      <th>1</th>\n",
              "      <td>2014-02-02</td>\n",
              "      <td>Moffat Nyirenda is president of Round Table In...</td>\n",
              "      <td>775.92</td>\n",
              "    </tr>\n",
              "    <tr>\n",
              "      <th>2</th>\n",
              "      <td>2014-02-02</td>\n",
              "      <td>The government has stopped monitoring of shops...</td>\n",
              "      <td>775.92</td>\n",
              "    </tr>\n",
              "    <tr>\n",
              "      <th>3</th>\n",
              "      <td>2014-02-02</td>\n",
              "      <td>The Ministry of Industry (MoI) is preparing to...</td>\n",
              "      <td>775.92</td>\n",
              "    </tr>\n",
              "    <tr>\n",
              "      <th>4</th>\n",
              "      <td>2014-02-02</td>\n",
              "      <td>The delivery of Chinese aircraft for Nepal Air...</td>\n",
              "      <td>775.92</td>\n",
              "    </tr>\n",
              "    <tr>\n",
              "      <th>...</th>\n",
              "      <td>...</td>\n",
              "      <td>...</td>\n",
              "      <td>...</td>\n",
              "    </tr>\n",
              "    <tr>\n",
              "      <th>6302</th>\n",
              "      <td>2019-06-30</td>\n",
              "      <td>Importers are being allowed to haul the goods ...</td>\n",
              "      <td>1,244.89</td>\n",
              "    </tr>\n",
              "    <tr>\n",
              "      <th>6303</th>\n",
              "      <td>2019-06-30</td>\n",
              "      <td>It will be first facility of its kind in the K...</td>\n",
              "      <td>1,244.89</td>\n",
              "    </tr>\n",
              "    <tr>\n",
              "      <th>6304</th>\n",
              "      <td>2019-06-30</td>\n",
              "      <td>Readymade garment, apple, footwear, bags and s...</td>\n",
              "      <td>1,244.89</td>\n",
              "    </tr>\n",
              "    <tr>\n",
              "      <th>6305</th>\n",
              "      <td>2019-06-30</td>\n",
              "      <td>Domestic supply has helped keep prices stable ...</td>\n",
              "      <td>1,244.89</td>\n",
              "    </tr>\n",
              "    <tr>\n",
              "      <th>6306</th>\n",
              "      <td>2019-07-04</td>\n",
              "      <td>Lack of properly equipped labs leaves imported...</td>\n",
              "      <td>1,260.47</td>\n",
              "    </tr>\n",
              "  </tbody>\n",
              "</table>\n",
              "<p>6307 rows × 3 columns</p>\n",
              "</div>"
            ],
            "text/plain": [
              "           date                                            content     index\n",
              "0    2014-02-02  Nepal Stock Exchange (Nepse) slid 2.22 points ...    775.92\n",
              "1    2014-02-02  Moffat Nyirenda is president of Round Table In...    775.92\n",
              "2    2014-02-02  The government has stopped monitoring of shops...    775.92\n",
              "3    2014-02-02  The Ministry of Industry (MoI) is preparing to...    775.92\n",
              "4    2014-02-02  The delivery of Chinese aircraft for Nepal Air...    775.92\n",
              "...         ...                                                ...       ...\n",
              "6302 2019-06-30  Importers are being allowed to haul the goods ...  1,244.89\n",
              "6303 2019-06-30  It will be first facility of its kind in the K...  1,244.89\n",
              "6304 2019-06-30  Readymade garment, apple, footwear, bags and s...  1,244.89\n",
              "6305 2019-06-30  Domestic supply has helped keep prices stable ...  1,244.89\n",
              "6306 2019-07-04  Lack of properly equipped labs leaves imported...  1,260.47\n",
              "\n",
              "[6307 rows x 3 columns]"
            ]
          },
          "metadata": {
            "tags": []
          },
          "execution_count": 249
        }
      ]
    },
    {
      "cell_type": "code",
      "metadata": {
        "id": "EZT2HybqgRV8"
      },
      "source": [
        "df.to_csv('indices-news-merged.csv', index=False)\n",
        "news_df.to_csv('news-cleaned.csv', index=False)\n",
        "indices.to_csv('indices-cleaned.csv', index=False)"
      ],
      "execution_count": 38,
      "outputs": []
    },
    {
      "cell_type": "code",
      "metadata": {
        "id": "dyuBqFhEn926"
      },
      "source": [
        "def prepare_and_predict_news(series, pad_max_len, batch_size):\n",
        "\n",
        "    news = tokenizer.texts_to_sequences(series)\n",
        "    news = pad_sequences(news, pad_max_len)\n",
        "    news = model.predict(news, batch_size=batch_size)\n",
        "    return news"
      ],
      "execution_count": 250,
      "outputs": []
    },
    {
      "cell_type": "code",
      "metadata": {
        "id": "XgJdhmIuz67w"
      },
      "source": [
        "news_sentiment = prepare_and_predict_news(news_df['content'], pad_max_len=max_len, batch_size=batch_size)\n",
        "# news_df['pred_glove_300'] = np.argmax(news_sentiment, axis=1)"
      ],
      "execution_count": 251,
      "outputs": []
    },
    {
      "cell_type": "code",
      "metadata": {
        "id": "ZFleBn_Luchw",
        "outputId": "22f86adc-afb4-46f2-efee-447ff092b9da",
        "colab": {
          "base_uri": "https://localhost:8080/"
        }
      },
      "source": [
        "news_sentiment"
      ],
      "execution_count": 252,
      "outputs": [
        {
          "output_type": "execute_result",
          "data": {
            "text/plain": [
              "array([[0.9911248 , 0.00482204, 0.0040532 ],\n",
              "       [0.00202748, 0.98241836, 0.01555424],\n",
              "       [0.95916283, 0.03786442, 0.00297271],\n",
              "       ...,\n",
              "       [0.0104461 , 0.97088563, 0.01866833],\n",
              "       [0.00496439, 0.12885894, 0.8661766 ],\n",
              "       [0.01432732, 0.9795736 , 0.0060991 ]], dtype=float32)"
            ]
          },
          "metadata": {
            "tags": []
          },
          "execution_count": 252
        }
      ]
    },
    {
      "cell_type": "code",
      "metadata": {
        "id": "5eU6ylQH3HG_"
      },
      "source": [
        "news_sentiment = pd.DataFrame(news_sentiment, columns = ['neg', 'neu', 'pos'])"
      ],
      "execution_count": 253,
      "outputs": []
    },
    {
      "cell_type": "code",
      "metadata": {
        "id": "2cCNi-Jj3udI"
      },
      "source": [
        "df = pd.concat([df, news_sentiment], axis=1)"
      ],
      "execution_count": 254,
      "outputs": []
    },
    {
      "cell_type": "code",
      "metadata": {
        "id": "LrYG_DznuubO",
        "outputId": "483c599a-f8b2-49f2-9425-fb12ec3447fd",
        "colab": {
          "base_uri": "https://localhost:8080/",
          "height": 406
        }
      },
      "source": [
        "df"
      ],
      "execution_count": 255,
      "outputs": [
        {
          "output_type": "execute_result",
          "data": {
            "text/html": [
              "<div>\n",
              "<style scoped>\n",
              "    .dataframe tbody tr th:only-of-type {\n",
              "        vertical-align: middle;\n",
              "    }\n",
              "\n",
              "    .dataframe tbody tr th {\n",
              "        vertical-align: top;\n",
              "    }\n",
              "\n",
              "    .dataframe thead th {\n",
              "        text-align: right;\n",
              "    }\n",
              "</style>\n",
              "<table border=\"1\" class=\"dataframe\">\n",
              "  <thead>\n",
              "    <tr style=\"text-align: right;\">\n",
              "      <th></th>\n",
              "      <th>date</th>\n",
              "      <th>content</th>\n",
              "      <th>index</th>\n",
              "      <th>neg</th>\n",
              "      <th>neu</th>\n",
              "      <th>pos</th>\n",
              "    </tr>\n",
              "  </thead>\n",
              "  <tbody>\n",
              "    <tr>\n",
              "      <th>0</th>\n",
              "      <td>2014-02-02</td>\n",
              "      <td>Nepal Stock Exchange (Nepse) slid 2.22 points ...</td>\n",
              "      <td>775.92</td>\n",
              "      <td>0.991125</td>\n",
              "      <td>0.004822</td>\n",
              "      <td>0.004053</td>\n",
              "    </tr>\n",
              "    <tr>\n",
              "      <th>1</th>\n",
              "      <td>2014-02-02</td>\n",
              "      <td>Moffat Nyirenda is president of Round Table In...</td>\n",
              "      <td>775.92</td>\n",
              "      <td>0.002027</td>\n",
              "      <td>0.982418</td>\n",
              "      <td>0.015554</td>\n",
              "    </tr>\n",
              "    <tr>\n",
              "      <th>2</th>\n",
              "      <td>2014-02-02</td>\n",
              "      <td>The government has stopped monitoring of shops...</td>\n",
              "      <td>775.92</td>\n",
              "      <td>0.959163</td>\n",
              "      <td>0.037864</td>\n",
              "      <td>0.002973</td>\n",
              "    </tr>\n",
              "    <tr>\n",
              "      <th>3</th>\n",
              "      <td>2014-02-02</td>\n",
              "      <td>The Ministry of Industry (MoI) is preparing to...</td>\n",
              "      <td>775.92</td>\n",
              "      <td>0.000360</td>\n",
              "      <td>0.993252</td>\n",
              "      <td>0.006388</td>\n",
              "    </tr>\n",
              "    <tr>\n",
              "      <th>4</th>\n",
              "      <td>2014-02-02</td>\n",
              "      <td>The delivery of Chinese aircraft for Nepal Air...</td>\n",
              "      <td>775.92</td>\n",
              "      <td>0.528792</td>\n",
              "      <td>0.444913</td>\n",
              "      <td>0.026294</td>\n",
              "    </tr>\n",
              "    <tr>\n",
              "      <th>...</th>\n",
              "      <td>...</td>\n",
              "      <td>...</td>\n",
              "      <td>...</td>\n",
              "      <td>...</td>\n",
              "      <td>...</td>\n",
              "      <td>...</td>\n",
              "    </tr>\n",
              "    <tr>\n",
              "      <th>6302</th>\n",
              "      <td>2019-06-30</td>\n",
              "      <td>Importers are being allowed to haul the goods ...</td>\n",
              "      <td>1,244.89</td>\n",
              "      <td>0.003104</td>\n",
              "      <td>0.990980</td>\n",
              "      <td>0.005916</td>\n",
              "    </tr>\n",
              "    <tr>\n",
              "      <th>6303</th>\n",
              "      <td>2019-06-30</td>\n",
              "      <td>It will be first facility of its kind in the K...</td>\n",
              "      <td>1,244.89</td>\n",
              "      <td>0.000556</td>\n",
              "      <td>0.977483</td>\n",
              "      <td>0.021961</td>\n",
              "    </tr>\n",
              "    <tr>\n",
              "      <th>6304</th>\n",
              "      <td>2019-06-30</td>\n",
              "      <td>Readymade garment, apple, footwear, bags and s...</td>\n",
              "      <td>1,244.89</td>\n",
              "      <td>0.010446</td>\n",
              "      <td>0.970886</td>\n",
              "      <td>0.018668</td>\n",
              "    </tr>\n",
              "    <tr>\n",
              "      <th>6305</th>\n",
              "      <td>2019-06-30</td>\n",
              "      <td>Domestic supply has helped keep prices stable ...</td>\n",
              "      <td>1,244.89</td>\n",
              "      <td>0.004964</td>\n",
              "      <td>0.128859</td>\n",
              "      <td>0.866177</td>\n",
              "    </tr>\n",
              "    <tr>\n",
              "      <th>6306</th>\n",
              "      <td>2019-07-04</td>\n",
              "      <td>Lack of properly equipped labs leaves imported...</td>\n",
              "      <td>1,260.47</td>\n",
              "      <td>0.014327</td>\n",
              "      <td>0.979574</td>\n",
              "      <td>0.006099</td>\n",
              "    </tr>\n",
              "  </tbody>\n",
              "</table>\n",
              "<p>6307 rows × 6 columns</p>\n",
              "</div>"
            ],
            "text/plain": [
              "           date  ...       pos\n",
              "0    2014-02-02  ...  0.004053\n",
              "1    2014-02-02  ...  0.015554\n",
              "2    2014-02-02  ...  0.002973\n",
              "3    2014-02-02  ...  0.006388\n",
              "4    2014-02-02  ...  0.026294\n",
              "...         ...  ...       ...\n",
              "6302 2019-06-30  ...  0.005916\n",
              "6303 2019-06-30  ...  0.021961\n",
              "6304 2019-06-30  ...  0.018668\n",
              "6305 2019-06-30  ...  0.866177\n",
              "6306 2019-07-04  ...  0.006099\n",
              "\n",
              "[6307 rows x 6 columns]"
            ]
          },
          "metadata": {
            "tags": []
          },
          "execution_count": 255
        }
      ]
    },
    {
      "cell_type": "code",
      "metadata": {
        "id": "UDR93ipAnNx7"
      },
      "source": [
        "indices['neg'] = df.groupby('date')['neg'].apply(np.mean).values\n",
        "indices['neu'] = df.groupby('date')['neu'].apply(np.mean).values\n",
        "indices['pos'] = df.groupby('date')['pos'].apply(np.mean).values"
      ],
      "execution_count": 256,
      "outputs": []
    },
    {
      "cell_type": "code",
      "metadata": {
        "id": "xkatl2rKuwXE",
        "outputId": "abc0aa49-5913-4308-d7ca-d27d5bcf008a",
        "colab": {
          "base_uri": "https://localhost:8080/",
          "height": 406
        }
      },
      "source": [
        "indices"
      ],
      "execution_count": 257,
      "outputs": [
        {
          "output_type": "execute_result",
          "data": {
            "text/html": [
              "<div>\n",
              "<style scoped>\n",
              "    .dataframe tbody tr th:only-of-type {\n",
              "        vertical-align: middle;\n",
              "    }\n",
              "\n",
              "    .dataframe tbody tr th {\n",
              "        vertical-align: top;\n",
              "    }\n",
              "\n",
              "    .dataframe thead th {\n",
              "        text-align: right;\n",
              "    }\n",
              "</style>\n",
              "<table border=\"1\" class=\"dataframe\">\n",
              "  <thead>\n",
              "    <tr style=\"text-align: right;\">\n",
              "      <th></th>\n",
              "      <th>date</th>\n",
              "      <th>index</th>\n",
              "      <th>neg</th>\n",
              "      <th>neu</th>\n",
              "      <th>pos</th>\n",
              "    </tr>\n",
              "  </thead>\n",
              "  <tbody>\n",
              "    <tr>\n",
              "      <th>0</th>\n",
              "      <td>2014-02-02</td>\n",
              "      <td>775.92</td>\n",
              "      <td>0.496293</td>\n",
              "      <td>0.492654</td>\n",
              "      <td>0.011053</td>\n",
              "    </tr>\n",
              "    <tr>\n",
              "      <th>1</th>\n",
              "      <td>2014-02-03</td>\n",
              "      <td>769.51</td>\n",
              "      <td>0.064411</td>\n",
              "      <td>0.750686</td>\n",
              "      <td>0.184902</td>\n",
              "    </tr>\n",
              "    <tr>\n",
              "      <th>2</th>\n",
              "      <td>2014-02-04</td>\n",
              "      <td>774.91</td>\n",
              "      <td>0.015103</td>\n",
              "      <td>0.688855</td>\n",
              "      <td>0.296042</td>\n",
              "    </tr>\n",
              "    <tr>\n",
              "      <th>3</th>\n",
              "      <td>2014-02-05</td>\n",
              "      <td>781.38</td>\n",
              "      <td>0.370356</td>\n",
              "      <td>0.429180</td>\n",
              "      <td>0.200464</td>\n",
              "    </tr>\n",
              "    <tr>\n",
              "      <th>4</th>\n",
              "      <td>2014-02-06</td>\n",
              "      <td>785.78</td>\n",
              "      <td>0.296983</td>\n",
              "      <td>0.214673</td>\n",
              "      <td>0.488344</td>\n",
              "    </tr>\n",
              "    <tr>\n",
              "      <th>...</th>\n",
              "      <td>...</td>\n",
              "      <td>...</td>\n",
              "      <td>...</td>\n",
              "      <td>...</td>\n",
              "      <td>...</td>\n",
              "    </tr>\n",
              "    <tr>\n",
              "      <th>1233</th>\n",
              "      <td>2019-06-24</td>\n",
              "      <td>1,260.10</td>\n",
              "      <td>0.133386</td>\n",
              "      <td>0.765030</td>\n",
              "      <td>0.101584</td>\n",
              "    </tr>\n",
              "    <tr>\n",
              "      <th>1234</th>\n",
              "      <td>2019-06-25</td>\n",
              "      <td>1,261.07</td>\n",
              "      <td>0.003269</td>\n",
              "      <td>0.574822</td>\n",
              "      <td>0.421908</td>\n",
              "    </tr>\n",
              "    <tr>\n",
              "      <th>1235</th>\n",
              "      <td>2019-06-26</td>\n",
              "      <td>1,258.29</td>\n",
              "      <td>0.225910</td>\n",
              "      <td>0.440236</td>\n",
              "      <td>0.333854</td>\n",
              "    </tr>\n",
              "    <tr>\n",
              "      <th>1236</th>\n",
              "      <td>2019-06-30</td>\n",
              "      <td>1,244.89</td>\n",
              "      <td>0.004768</td>\n",
              "      <td>0.767052</td>\n",
              "      <td>0.228181</td>\n",
              "    </tr>\n",
              "    <tr>\n",
              "      <th>1237</th>\n",
              "      <td>2019-07-04</td>\n",
              "      <td>1,260.47</td>\n",
              "      <td>0.014327</td>\n",
              "      <td>0.979574</td>\n",
              "      <td>0.006099</td>\n",
              "    </tr>\n",
              "  </tbody>\n",
              "</table>\n",
              "<p>1238 rows × 5 columns</p>\n",
              "</div>"
            ],
            "text/plain": [
              "           date     index       neg       neu       pos\n",
              "0    2014-02-02    775.92  0.496293  0.492654  0.011053\n",
              "1    2014-02-03    769.51  0.064411  0.750686  0.184902\n",
              "2    2014-02-04    774.91  0.015103  0.688855  0.296042\n",
              "3    2014-02-05    781.38  0.370356  0.429180  0.200464\n",
              "4    2014-02-06    785.78  0.296983  0.214673  0.488344\n",
              "...         ...       ...       ...       ...       ...\n",
              "1233 2019-06-24  1,260.10  0.133386  0.765030  0.101584\n",
              "1234 2019-06-25  1,261.07  0.003269  0.574822  0.421908\n",
              "1235 2019-06-26  1,258.29  0.225910  0.440236  0.333854\n",
              "1236 2019-06-30  1,244.89  0.004768  0.767052  0.228181\n",
              "1237 2019-07-04  1,260.47  0.014327  0.979574  0.006099\n",
              "\n",
              "[1238 rows x 5 columns]"
            ]
          },
          "metadata": {
            "tags": []
          },
          "execution_count": 257
        }
      ]
    },
    {
      "cell_type": "code",
      "metadata": {
        "id": "l9aHGUMHsNAA"
      },
      "source": [
        "indices = indices[['date','neg', 'neu', 'pos', 'index']]"
      ],
      "execution_count": 258,
      "outputs": []
    },
    {
      "cell_type": "code",
      "metadata": {
        "id": "S98EF5Mn-qGy"
      },
      "source": [
        "indices['index'] = indices['index'].str.replace(\",\", '').astype('float')"
      ],
      "execution_count": 301,
      "outputs": []
    },
    {
      "cell_type": "code",
      "metadata": {
        "id": "oT-HzyTPsD7g"
      },
      "source": [
        "train_df = indices[indices['date'] <= '2017-12-31']\n",
        "validation_df = indices[(indices['date'] > '2017-12-31') & (indices['date'] <= '2018-12-31')]\n",
        "test_df = indices[indices['date'] > '2018-12-31']"
      ],
      "execution_count": 363,
      "outputs": []
    },
    {
      "cell_type": "code",
      "metadata": {
        "id": "RS0HNHUovarp"
      },
      "source": [
        "from sklearn.preprocessing import MinMaxScaler\n",
        "scaler = MinMaxScaler()"
      ],
      "execution_count": 364,
      "outputs": []
    },
    {
      "cell_type": "code",
      "metadata": {
        "id": "dRj18Tnuv-KY"
      },
      "source": [
        "train_df['index'] = scaler.fit_transform(train_df['index'].values.reshape(-1, 1))"
      ],
      "execution_count": 365,
      "outputs": []
    },
    {
      "cell_type": "code",
      "metadata": {
        "id": "tLY9KhZnAtAB"
      },
      "source": [
        "validation_df['index'] = scaler.transform(validation_df['index'].values.reshape(-1, 1))\n",
        "test_df['index'] = scaler.transform(test_df['index'].values.reshape(-1, 1))"
      ],
      "execution_count": 366,
      "outputs": []
    },
    {
      "cell_type": "code",
      "metadata": {
        "id": "jTCazGz4oCt-"
      },
      "source": [
        "def create_datase_lstm(sequences, n_steps):\n",
        "    X , y = list(), list()\n",
        "    for i in range(len(sequences)):\n",
        "        # print(i)\n",
        "        end_ix = i + n_steps\n",
        "        if end_ix > len(sequences):\n",
        "            break\n",
        "        seq_x = sequences[i: end_ix, :-1]\n",
        "        seq_y = sequences[end_ix-1, -1]\n",
        "        # print(seq_x, seq_y)\n",
        "        X.append(seq_x)\n",
        "        y.append(seq_y)\n",
        "    return np.array(X), np.array(y)"
      ],
      "execution_count": 367,
      "outputs": []
    },
    {
      "cell_type": "code",
      "metadata": {
        "id": "Lyapcwevq3nL"
      },
      "source": [
        "n_steps = 7\n",
        "xtr, ytr = create_datase_lstm(train_df.drop(columns='date').to_numpy(), n_steps=n_steps)\n",
        "xval, yval= create_datase_lstm(validation_df.drop(columns='date').values, n_steps=n_steps)\n",
        "xtest, ytest = create_datase_lstm(test_df.drop(columns='date').values, n_steps=n_steps)"
      ],
      "execution_count": 416,
      "outputs": []
    },
    {
      "cell_type": "code",
      "metadata": {
        "id": "3_ofQDmkwbmR"
      },
      "source": [
        "n_features = xtr.shape[2]\n",
        "batch_size=64"
      ],
      "execution_count": 417,
      "outputs": []
    },
    {
      "cell_type": "code",
      "metadata": {
        "id": "wUI99X1xpUnT",
        "outputId": "3fa214bb-3c5a-4ec5-ba5a-ed24c323e798",
        "colab": {
          "base_uri": "https://localhost:8080/"
        }
      },
      "source": [
        "model_lstm = Sequential()\n",
        "model_lstm.add(LSTM(64, activation='tanh',input_shape=(n_steps, n_features),unroll=True))\n",
        "# model_lstm.add(LSTM(100, activation='relu'))\n",
        "model_lstm.add(Dense(1024))\n",
        "model_lstm.add(Dense(1))\n",
        "model_lstm.compile(optimizer='adam', loss='mse')\n",
        "model_lstm.fit(xtr, ytr, epochs=30, batch_size=batch_size, verbose=1, validation_data=(xval, yval))"
      ],
      "execution_count": 435,
      "outputs": [
        {
          "output_type": "stream",
          "text": [
            "WARNING:tensorflow:Layer lstm_69 will not use cuDNN kernel since it doesn't meet the cuDNN kernel criteria. It will use generic GPU kernel as fallback when running on GPU\n",
            "Epoch 1/30\n",
            "14/14 [==============================] - 1s 23ms/step - loss: 0.1493 - val_loss: 0.0157\n",
            "Epoch 2/30\n",
            "14/14 [==============================] - 0s 7ms/step - loss: 0.0855 - val_loss: 0.0067\n",
            "Epoch 3/30\n",
            "14/14 [==============================] - 0s 7ms/step - loss: 0.0812 - val_loss: 0.0174\n",
            "Epoch 4/30\n",
            "14/14 [==============================] - 0s 7ms/step - loss: 0.0805 - val_loss: 0.0095\n",
            "Epoch 5/30\n",
            "14/14 [==============================] - 0s 7ms/step - loss: 0.0834 - val_loss: 0.0074\n",
            "Epoch 6/30\n",
            "14/14 [==============================] - 0s 7ms/step - loss: 0.0774 - val_loss: 0.0095\n",
            "Epoch 7/30\n",
            "14/14 [==============================] - 0s 7ms/step - loss: 0.0803 - val_loss: 0.0081\n",
            "Epoch 8/30\n",
            "14/14 [==============================] - 0s 7ms/step - loss: 0.0783 - val_loss: 0.0100\n",
            "Epoch 9/30\n",
            "14/14 [==============================] - 0s 7ms/step - loss: 0.0774 - val_loss: 0.0073\n",
            "Epoch 10/30\n",
            "14/14 [==============================] - 0s 7ms/step - loss: 0.0802 - val_loss: 0.0098\n",
            "Epoch 11/30\n",
            "14/14 [==============================] - 0s 7ms/step - loss: 0.0758 - val_loss: 0.0125\n",
            "Epoch 12/30\n",
            "14/14 [==============================] - 0s 7ms/step - loss: 0.0788 - val_loss: 0.0134\n",
            "Epoch 13/30\n",
            "14/14 [==============================] - 0s 7ms/step - loss: 0.0791 - val_loss: 0.0093\n",
            "Epoch 14/30\n",
            "14/14 [==============================] - 0s 7ms/step - loss: 0.0782 - val_loss: 0.0085\n",
            "Epoch 15/30\n",
            "14/14 [==============================] - 0s 7ms/step - loss: 0.0765 - val_loss: 0.0090\n",
            "Epoch 16/30\n",
            "14/14 [==============================] - 0s 7ms/step - loss: 0.0766 - val_loss: 0.0135\n",
            "Epoch 17/30\n",
            "14/14 [==============================] - 0s 7ms/step - loss: 0.0819 - val_loss: 0.0111\n",
            "Epoch 18/30\n",
            "14/14 [==============================] - 0s 7ms/step - loss: 0.0785 - val_loss: 0.0104\n",
            "Epoch 19/30\n",
            "14/14 [==============================] - 0s 7ms/step - loss: 0.0742 - val_loss: 0.0097\n",
            "Epoch 20/30\n",
            "14/14 [==============================] - 0s 7ms/step - loss: 0.0744 - val_loss: 0.0096\n",
            "Epoch 21/30\n",
            "14/14 [==============================] - 0s 7ms/step - loss: 0.0757 - val_loss: 0.0137\n",
            "Epoch 22/30\n",
            "14/14 [==============================] - 0s 7ms/step - loss: 0.0797 - val_loss: 0.0173\n",
            "Epoch 23/30\n",
            "14/14 [==============================] - 0s 8ms/step - loss: 0.0791 - val_loss: 0.0090\n",
            "Epoch 24/30\n",
            "14/14 [==============================] - 0s 8ms/step - loss: 0.0736 - val_loss: 0.0126\n",
            "Epoch 25/30\n",
            "14/14 [==============================] - 0s 7ms/step - loss: 0.0755 - val_loss: 0.0131\n",
            "Epoch 26/30\n",
            "14/14 [==============================] - 0s 7ms/step - loss: 0.0740 - val_loss: 0.0111\n",
            "Epoch 27/30\n",
            "14/14 [==============================] - 0s 7ms/step - loss: 0.0790 - val_loss: 0.0138\n",
            "Epoch 28/30\n",
            "14/14 [==============================] - 0s 7ms/step - loss: 0.0753 - val_loss: 0.0175\n",
            "Epoch 29/30\n",
            "14/14 [==============================] - 0s 7ms/step - loss: 0.0777 - val_loss: 0.0111\n",
            "Epoch 30/30\n",
            "14/14 [==============================] - 0s 7ms/step - loss: 0.0763 - val_loss: 0.0125\n"
          ],
          "name": "stdout"
        },
        {
          "output_type": "execute_result",
          "data": {
            "text/plain": [
              "<tensorflow.python.keras.callbacks.History at 0x7fbffaeb8450>"
            ]
          },
          "metadata": {
            "tags": []
          },
          "execution_count": 435
        }
      ]
    },
    {
      "cell_type": "code",
      "metadata": {
        "id": "8gDXD7rB_BNg",
        "outputId": "8d33c2c9-6a3c-4c15-c3a7-97c88a7fbf15",
        "colab": {
          "base_uri": "https://localhost:8080/",
          "height": 282
        }
      },
      "source": [
        "plt.plot(scaler.inverse_transform(model_lstm.predict(xtest)))\n",
        "plt.plot(scaler.inverse_transform(ytest.reshape(-1,1)))"
      ],
      "execution_count": 436,
      "outputs": [
        {
          "output_type": "execute_result",
          "data": {
            "text/plain": [
              "[<matplotlib.lines.Line2D at 0x7fbffaaf6b50>]"
            ]
          },
          "metadata": {
            "tags": []
          },
          "execution_count": 436
        },
        {
          "output_type": "display_data",
          "data": {
            "image/png": "[encoded data removed]",
            "text/plain": [
              "<Figure size 432x288 with 1 Axes>"
            ]
          },
          "metadata": {
            "tags": [],
            "needs_background": "light"
          }
        }
      ]
    },
    {
      "cell_type": "code",
      "metadata": {
        "id": "kyZqD9NBC-cn"
      },
      "source": [
        "a = scaler.inverse_transform(model_lstm.predict(xtest))[:, 0]\n",
        "b = scaler.inverse_transform(ytest.reshape(-1,1))[:, 0]\n",
        "\n",
        "for i, j in zip(a, b):\n",
        "    print(\"preds:\", i, \"real:\", j)"
      ],
      "execution_count": null,
      "outputs": []
    },
    {
      "cell_type": "code",
      "metadata": {
        "id": "xINZXcPP_Nfx",
        "outputId": "a58a2e88-e218-4af8-f9c8-e29b7f309850",
        "colab": {
          "base_uri": "https://localhost:8080/",
          "height": 282
        }
      },
      "source": [
        "plt.plot(ytr)\n",
        "plt.plot(model_lstm.predict(xtr))"
      ],
      "execution_count": 324,
      "outputs": [
        {
          "output_type": "execute_result",
          "data": {
            "text/plain": [
              "[<matplotlib.lines.Line2D at 0x7fc0198b19d0>]"
            ]
          },
          "metadata": {
            "tags": []
          },
          "execution_count": 324
        },
        {
          "output_type": "display_data",
          "data": {
            "image/png": "[encoded data removed]",
            "text/plain": [
              "<Figure size 432x288 with 1 Axes>"
            ]
          },
          "metadata": {
            "tags": [],
            "needs_background": "light"
          }
        }
      ]
    },
    {
      "cell_type": "code",
      "metadata": {
        "id": "_P-_4zKi_auT"
      },
      "source": [
        ""
      ],
      "execution_count": 324,
      "outputs": []
    }
  ]
}