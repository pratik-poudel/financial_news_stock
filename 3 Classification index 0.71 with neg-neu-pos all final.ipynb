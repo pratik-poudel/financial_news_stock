{
  "nbformat": 4,
  "nbformat_minor": 0,
  "metadata": {
    "colab": {
      "name": "scratchpad",
      "provenance": [],
      "machine_shape": "hm",
      "include_colab_link": true
    },
    "kernelspec": {
      "display_name": "Python 3",
      "name": "python3"
    },
    "accelerator": "GPU"
  },
  "cells": [
    {
      "cell_type": "markdown",
      "metadata": {
        "id": "view-in-github",
        "colab_type": "text"
      },
      "source": [
        "<a href=\"https://colab.research.google.com/github/pratik-poudel/financial_news_stock/blob/master/3%20Classification%20index%200.71%20with%20neg-neu-pos%20all%20final.ipynb\" target=\"_parent\"><img src=\"https://colab.research.google.com/assets/colab-badge.svg\" alt=\"Open In Colab\"/></a>"
      ]
    },
    {
      "cell_type": "code",
      "metadata": {
        "id": "0jGP6ocnmwnZ",
        "outputId": "2e4e3f74-eac9-4535-efbf-d20fba629025",
        "colab": {
          "base_uri": "https://localhost:8080/"
        }
      },
      "source": [
        "!pip install mlxtend --upgrade"
      ],
      "execution_count": 74,
      "outputs": [
        {
          "output_type": "stream",
          "text": [
            "Requirement already up-to-date: mlxtend in /usr/local/lib/python3.7/dist-packages (0.18.0)\n",
            "Requirement already satisfied, skipping upgrade: matplotlib>=3.0.0 in /usr/local/lib/python3.7/dist-packages (from mlxtend) (3.2.2)\n",
            "Requirement already satisfied, skipping upgrade: numpy>=1.16.2 in /usr/local/lib/python3.7/dist-packages (from mlxtend) (1.19.1)\n",
            "Requirement already satisfied, skipping upgrade: joblib>=0.13.2 in /usr/local/lib/python3.7/dist-packages (from mlxtend) (1.0.0)\n",
            "Requirement already satisfied, skipping upgrade: setuptools in /usr/local/lib/python3.7/dist-packages (from mlxtend) (54.1.2)\n",
            "Requirement already satisfied, skipping upgrade: scipy>=1.2.1 in /usr/local/lib/python3.7/dist-packages (from mlxtend) (1.5.4)\n",
            "Requirement already satisfied, skipping upgrade: pandas>=0.24.2 in /usr/local/lib/python3.7/dist-packages (from mlxtend) (1.0.5)\n",
            "Requirement already satisfied, skipping upgrade: scikit-learn>=0.20.3 in /usr/local/lib/python3.7/dist-packages (from mlxtend) (0.23.1)\n",
            "Requirement already satisfied, skipping upgrade: python-dateutil>=2.1 in /usr/local/lib/python3.7/dist-packages (from matplotlib>=3.0.0->mlxtend) (2.8.1)\n",
            "Requirement already satisfied, skipping upgrade: pyparsing!=2.0.4,!=2.1.2,!=2.1.6,>=2.0.1 in /usr/local/lib/python3.7/dist-packages (from matplotlib>=3.0.0->mlxtend) (2.4.7)\n",
            "Requirement already satisfied, skipping upgrade: cycler>=0.10 in /usr/local/lib/python3.7/dist-packages (from matplotlib>=3.0.0->mlxtend) (0.10.0)\n",
            "Requirement already satisfied, skipping upgrade: kiwisolver>=1.0.1 in /usr/local/lib/python3.7/dist-packages (from matplotlib>=3.0.0->mlxtend) (1.3.1)\n",
            "Requirement already satisfied, skipping upgrade: pytz>=2017.2 in /usr/local/lib/python3.7/dist-packages (from pandas>=0.24.2->mlxtend) (2018.9)\n",
            "Requirement already satisfied, skipping upgrade: threadpoolctl>=2.0.0 in /usr/local/lib/python3.7/dist-packages (from scikit-learn>=0.20.3->mlxtend) (2.1.0)\n",
            "Requirement already satisfied, skipping upgrade: six>=1.5 in /usr/local/lib/python3.7/dist-packages (from python-dateutil>=2.1->matplotlib>=3.0.0->mlxtend) (1.15.0)\n"
          ],
          "name": "stdout"
        }
      ]
    },
    {
      "cell_type": "code",
      "metadata": {
        "id": "lIYdn1woOS1n"
      },
      "source": [
        "import numpy as np\n",
        "import pandas as pd\n",
        "import matplotlib.pyplot as plt\n",
        "\n",
        "\n",
        "\n",
        "import tensorflow as tf\n",
        "import tensorflow_datasets as tfds\n",
        "\n",
        "from tensorflow.keras.preprocessing.text import Tokenizer\n",
        "from tensorflow.keras.preprocessing.sequence import pad_sequences\n",
        "\n",
        "from tensorflow.keras.models import Sequential\n",
        "from tensorflow.keras.layers import Embedding, Dropout, Bidirectional,LSTM, GlobalMaxPool1D, Dense\n",
        "from tensorflow.keras.utils import to_categorical, plot_model\n",
        "\n",
        "\n",
        "from sklearn.model_selection import train_test_split\n",
        "from sklearn.preprocessing import LabelEncoder\n",
        "from sklearn.metrics import confusion_matrix, roc_curve, roc_auc_score, accuracy_score,precision_recall_fscore_support\n",
        "from sklearn.utils import resample, shuffle\n",
        "\n",
        "\n",
        "from mlxtend.plotting import plot_confusion_matrix\n",
        "import warnings \n",
        "warnings.filterwarnings('ignore')"
      ],
      "execution_count": 75,
      "outputs": []
    },
    {
      "cell_type": "markdown",
      "metadata": {
        "id": "dUTvPQ9vRok2"
      },
      "source": [
        "# Financial Phrase Bank "
      ]
    },
    {
      "cell_type": "code",
      "metadata": {
        "id": "Or3GALmjh0lT"
      },
      "source": [
        "dj_data = pd.read_csv()"
      ],
      "execution_count": null,
      "outputs": []
    },
    {
      "cell_type": "code",
      "metadata": {
        "id": "4u2s5DZARoL6"
      },
      "source": [
        "fin_data = pd.read_table('/content/Sentences_50Agree.txt', delimiter='\\r\\n')"
      ],
      "execution_count": 3,
      "outputs": []
    },
    {
      "cell_type": "code",
      "metadata": {
        "id": "OQdubjqSRoIp"
      },
      "source": [
        "values = np.array([fin_data.values[i][0].split('@') for i in range(fin_data.shape[0])])\n",
        "data = pd.DataFrame({'sentence': values[:, 0], 'sentiment':values[:, 1]})"
      ],
      "execution_count": 4,
      "outputs": []
    },
    {
      "cell_type": "code",
      "metadata": {
        "id": "slCvtjgNRoFN",
        "colab": {
          "base_uri": "https://localhost:8080/",
          "height": 111
        },
        "outputId": "56820dff-d3ef-4f40-ee60-6976d6a27a8c"
      },
      "source": [
        "data.head(2)"
      ],
      "execution_count": 5,
      "outputs": [
        {
          "output_type": "execute_result",
          "data": {
            "text/html": [
              "<div>\n",
              "<style scoped>\n",
              "    .dataframe tbody tr th:only-of-type {\n",
              "        vertical-align: middle;\n",
              "    }\n",
              "\n",
              "    .dataframe tbody tr th {\n",
              "        vertical-align: top;\n",
              "    }\n",
              "\n",
              "    .dataframe thead th {\n",
              "        text-align: right;\n",
              "    }\n",
              "</style>\n",
              "<table border=\"1\" class=\"dataframe\">\n",
              "  <thead>\n",
              "    <tr style=\"text-align: right;\">\n",
              "      <th></th>\n",
              "      <th>sentence</th>\n",
              "      <th>sentiment</th>\n",
              "    </tr>\n",
              "  </thead>\n",
              "  <tbody>\n",
              "    <tr>\n",
              "      <th>0</th>\n",
              "      <td>Technopolis plans to develop in stages an area...</td>\n",
              "      <td>neutral</td>\n",
              "    </tr>\n",
              "    <tr>\n",
              "      <th>1</th>\n",
              "      <td>The international electronic industry company ...</td>\n",
              "      <td>negative</td>\n",
              "    </tr>\n",
              "  </tbody>\n",
              "</table>\n",
              "</div>"
            ],
            "text/plain": [
              "                                            sentence sentiment\n",
              "0  Technopolis plans to develop in stages an area...   neutral\n",
              "1  The international electronic industry company ...  negative"
            ]
          },
          "metadata": {
            "tags": []
          },
          "execution_count": 5
        }
      ]
    },
    {
      "cell_type": "code",
      "metadata": {
        "id": "8cUSOhJCRoBo",
        "colab": {
          "base_uri": "https://localhost:8080/",
          "height": 302
        },
        "outputId": "e72240b7-1f5e-4ce3-da33-5e1f4eef6481"
      },
      "source": [
        "data['sentiment'].value_counts().plot(kind='bar')\n",
        "plt.show()"
      ],
      "execution_count": 6,
      "outputs": [
        {
          "output_type": "display_data",
          "data": {
            "image/png": "[encoded data removed]",
            "text/plain": [
              "<Figure size 432x288 with 1 Axes>"
            ]
          },
          "metadata": {
            "tags": [],
            "needs_background": "light"
          }
        }
      ]
    },
    {
      "cell_type": "code",
      "metadata": {
        "id": "fxyIdicGpwZS"
      },
      "source": [
        "X= data.sentence\n",
        "y = data.sentiment\n",
        "# neu = y[y == 'neutral'].index\n",
        "# X= X.drop(neu)\n",
        "# y = y.drop(neu)\n",
        "X_train, X_test, y_train, y_test = train_test_split(X, y, stratify=y, random_state=60, test_size=0.2)"
      ],
      "execution_count": 7,
      "outputs": []
    },
    {
      "cell_type": "code",
      "metadata": {
        "id": "Kju4Yok6Vzyw",
        "colab": {
          "base_uri": "https://localhost:8080/"
        },
        "outputId": "aeb9edb7-b4da-4fec-91de-d33878987aac"
      },
      "source": [
        "X_train.shape, X_test.shape, X.shape"
      ],
      "execution_count": 8,
      "outputs": [
        {
          "output_type": "execute_result",
          "data": {
            "text/plain": [
              "((3876,), (969,), (4845,))"
            ]
          },
          "metadata": {
            "tags": []
          },
          "execution_count": 8
        }
      ]
    },
    {
      "cell_type": "code",
      "metadata": {
        "id": "NyWPP77F9k1I"
      },
      "source": [
        "neu_index = y_train[y_train == 'neutral'].index\n",
        "pos_index = y_train[y_train == 'positive'].index\n",
        "neg_index = y_train[y_train == 'negative'].index"
      ],
      "execution_count": 9,
      "outputs": []
    },
    {
      "cell_type": "code",
      "metadata": {
        "id": "ODCDkrzN9nCL"
      },
      "source": [
        "\n",
        "# Down-sample neutral class\n",
        "X_train_neu, y_train_neu = resample(X_train.loc[neu_index], y_train.loc[neu_index],\n",
        "                                    n_samples=len(pos_index), replace=False,\n",
        "                                    random_state=60)\n",
        "\n",
        "# Up-sample negative class\n",
        "X_train_neg, y_train_neg = resample(X_train.loc[neg_index], y_train.loc[neg_index],\n",
        "                                    n_samples=len(pos_index), replace=True,\n",
        "                                    random_state=60)"
      ],
      "execution_count": 10,
      "outputs": []
    },
    {
      "cell_type": "code",
      "metadata": {
        "id": "44cl_AYp9m_H",
        "colab": {
          "base_uri": "https://localhost:8080/"
        },
        "outputId": "de07a218-842d-4f5a-ebe0-76310ece330b"
      },
      "source": [
        "# Combine resampled classes\n",
        "X_train_resample = X_train.loc[pos_index].append([X_train_neu, X_train_neg])\n",
        "y_train_resample = y_train.loc[pos_index].append([y_train_neu, y_train_neg])\n",
        "\n",
        "# Shuffle samples\n",
        "X_train_resample, y_train_resample = shuffle(X_train_resample, y_train_resample, random_state=7)\n",
        "\n",
        "# Display new class counts\n",
        "print(y_train_resample.value_counts())"
      ],
      "execution_count": 11,
      "outputs": [
        {
          "output_type": "stream",
          "text": [
            "neutral     1090\n",
            "positive    1090\n",
            "negative    1090\n",
            "Name: sentiment, dtype: int64\n"
          ],
          "name": "stdout"
        }
      ]
    },
    {
      "cell_type": "code",
      "metadata": {
        "id": "WLxzvAGa8m7K"
      },
      "source": [
        "# X_train = X_train.loc[pos_index].append(X_train_neg)\n",
        "# y_train = y_train.loc[pos_index].append(y_train_neg)\n",
        "# X_train, y_train = shuffle(X_train, y_train, random_state=60)"
      ],
      "execution_count": null,
      "outputs": []
    },
    {
      "cell_type": "code",
      "metadata": {
        "colab": {
          "base_uri": "https://localhost:8080/"
        },
        "id": "ZlDOdAjQ8q0V",
        "outputId": "1b95fe8d-40d8-444e-95f0-c1282498c0ac"
      },
      "source": [
        "y_test.value_counts()"
      ],
      "execution_count": 12,
      "outputs": [
        {
          "output_type": "execute_result",
          "data": {
            "text/plain": [
              "neutral     575\n",
              "positive    273\n",
              "negative    121\n",
              "Name: sentiment, dtype: int64"
            ]
          },
          "metadata": {
            "tags": []
          },
          "execution_count": 12
        }
      ]
    },
    {
      "cell_type": "code",
      "metadata": {
        "id": "hEZVRsUJOaX-",
        "colab": {
          "base_uri": "https://localhost:8080/"
        },
        "outputId": "1aa4402d-031d-407d-8cac-8b8d6954e1a4"
      },
      "source": [
        "X_train_resample.shape, y_train_resample.shape"
      ],
      "execution_count": 13,
      "outputs": [
        {
          "output_type": "execute_result",
          "data": {
            "text/plain": [
              "((3270,), (3270,))"
            ]
          },
          "metadata": {
            "tags": []
          },
          "execution_count": 13
        }
      ]
    },
    {
      "cell_type": "markdown",
      "metadata": {
        "id": "CbxLax-jWVoy"
      },
      "source": [
        "# Prepare Data for model"
      ]
    },
    {
      "cell_type": "code",
      "metadata": {
        "id": "o7UChC8JWgIq"
      },
      "source": [
        "# Remove Punctuation and assign integer to each word\n",
        "tokenizer = Tokenizer()\n",
        "tokenizer.fit_on_texts(X_train_resample)\n",
        "X_train_seq = tokenizer.texts_to_sequences(X_train_resample)\n",
        "X_test_seq = tokenizer.texts_to_sequences(X_test)"
      ],
      "execution_count": 14,
      "outputs": []
    },
    {
      "cell_type": "code",
      "metadata": {
        "id": "WfblAUy2WgI7"
      },
      "source": [
        "# Make sequences of equal length \n",
        "max_len = np.max([len(X_train_seq[i]) for i in range(len(X_train_seq))])\n",
        "X_train_seq = pad_sequences(X_train_seq, maxlen=max_len)\n",
        "X_test_seq = pad_sequences(X_test_seq, maxlen=max_len)"
      ],
      "execution_count": 15,
      "outputs": []
    },
    {
      "cell_type": "code",
      "metadata": {
        "colab": {
          "base_uri": "https://localhost:8080/"
        },
        "id": "9TCWLyfvWgI8",
        "outputId": "1d50d417-b4a3-4a12-dee1-5a3681a69c35"
      },
      "source": [
        "X_train_seq.shape"
      ],
      "execution_count": 16,
      "outputs": [
        {
          "output_type": "execute_result",
          "data": {
            "text/plain": [
              "(3270, 71)"
            ]
          },
          "metadata": {
            "tags": []
          },
          "execution_count": 16
        }
      ]
    },
    {
      "cell_type": "code",
      "metadata": {
        "id": "uAwMS-K-WgI-"
      },
      "source": [
        "# Convert sentiment values to one hot encoded for Keras model\n",
        "le = LabelEncoder()\n",
        "le.fit(y_train_resample)\n",
        "y_train_seq = to_categorical(le.transform(y_train_resample))\n",
        "y_test_seq = to_categorical(le.transform(y_test))"
      ],
      "execution_count": 17,
      "outputs": []
    },
    {
      "cell_type": "code",
      "metadata": {
        "id": "1cY_gk6L9_0r",
        "colab": {
          "base_uri": "https://localhost:8080/"
        },
        "outputId": "48424855-2b33-4edf-a3fd-015103d3305b"
      },
      "source": [
        "le.classes_"
      ],
      "execution_count": 18,
      "outputs": [
        {
          "output_type": "execute_result",
          "data": {
            "text/plain": [
              "array(['negative', 'neutral', 'positive'], dtype=object)"
            ]
          },
          "metadata": {
            "tags": []
          },
          "execution_count": 18
        }
      ]
    },
    {
      "cell_type": "markdown",
      "metadata": {
        "id": "-i0nraavVn0q"
      },
      "source": [
        "# EMBEDDINGS"
      ]
    },
    {
      "cell_type": "code",
      "metadata": {
        "id": "m-sKHgtlVhyG",
        "colab": {
          "base_uri": "https://localhost:8080/"
        },
        "outputId": "3f0d0c26-9563-4551-a79f-79b8bccd65d1"
      },
      "source": [
        "!wget http://nlp.stanford.edu/data/glove.6B.zip\n",
        "!unzip glove.6B.zip"
      ],
      "execution_count": 19,
      "outputs": [
        {
          "output_type": "stream",
          "text": [
            "--2021-03-25 07:17:20--  http://nlp.stanford.edu/data/glove.6B.zip\n",
            "Resolving nlp.stanford.edu (nlp.stanford.edu)... 171.64.67.140\n",
            "Connecting to nlp.stanford.edu (nlp.stanford.edu)|171.64.67.140|:80... connected.\n",
            "HTTP request sent, awaiting response... 302 Found\n",
            "Location: https://nlp.stanford.edu/data/glove.6B.zip [following]\n",
            "--2021-03-25 07:17:20--  https://nlp.stanford.edu/data/glove.6B.zip\n",
            "Connecting to nlp.stanford.edu (nlp.stanford.edu)|171.64.67.140|:443... connected.\n",
            "HTTP request sent, awaiting response... 301 Moved Permanently\n",
            "Location: http://downloads.cs.stanford.edu/nlp/data/glove.6B.zip [following]\n",
            "--2021-03-25 07:17:21--  http://downloads.cs.stanford.edu/nlp/data/glove.6B.zip\n",
            "Resolving downloads.cs.stanford.edu (downloads.cs.stanford.edu)... 171.64.64.22\n",
            "Connecting to downloads.cs.stanford.edu (downloads.cs.stanford.edu)|171.64.64.22|:80... connected.\n",
            "HTTP request sent, awaiting response... 200 OK\n",
            "Length: 862182613 (822M) [application/zip]\n",
            "Saving to: ‘glove.6B.zip’\n",
            "\n",
            "glove.6B.zip        100%[===================>] 822.24M  4.25MB/s    in 3m 39s  \n",
            "\n",
            "2021-03-25 07:21:00 (3.76 MB/s) - ‘glove.6B.zip’ saved [862182613/862182613]\n",
            "\n",
            "Archive:  glove.6B.zip\n",
            "  inflating: glove.6B.50d.txt        \n",
            "  inflating: glove.6B.100d.txt       \n",
            "  inflating: glove.6B.200d.txt       \n",
            "  inflating: glove.6B.300d.txt       \n"
          ],
          "name": "stdout"
        }
      ]
    },
    {
      "cell_type": "code",
      "metadata": {
        "id": "mITp5EXwQ2et"
      },
      "source": [
        "list(model.wv.vocab)"
      ],
      "execution_count": null,
      "outputs": []
    },
    {
      "cell_type": "code",
      "metadata": {
        "id": "KykJ1QUQRLY2"
      },
      "source": [
        "model.most_similar(positive='pokhara')"
      ],
      "execution_count": null,
      "outputs": []
    },
    {
      "cell_type": "code",
      "metadata": {
        "id": "o6EJD93sRLVu"
      },
      "source": [
        "model.most_similar('stock')"
      ],
      "execution_count": null,
      "outputs": []
    },
    {
      "cell_type": "code",
      "metadata": {
        "id": "qsgMvgbxRLSw"
      },
      "source": [
        ""
      ],
      "execution_count": null,
      "outputs": []
    },
    {
      "cell_type": "code",
      "metadata": {
        "id": "OgVf4Ta6Wl9n"
      },
      "source": [
        "dict_w2v = {}\n",
        "with open('/content/glove.6B.100d.txt', 'r') as file:\n",
        "    for line in file:\n",
        "        tokens = line.split()\n",
        "        word = tokens[0]\n",
        "        vector = np.array(tokens[1:], dtype=np.float32)\n",
        "        if vector.shape[0] == 100:\n",
        "            dict_w2v[word] = vector\n",
        "        else:\n",
        "            print(\"There is issue with \" + word)"
      ],
      "execution_count": 20,
      "outputs": []
    },
    {
      "cell_type": "code",
      "metadata": {
        "id": "EldWTnWtWl61",
        "colab": {
          "base_uri": "https://localhost:8080/"
        },
        "outputId": "9ea074c3-f86c-462a-d0da-ebf43addea15"
      },
      "source": [
        "print(\"dictionary size :\" ,len(dict_w2v) )"
      ],
      "execution_count": 21,
      "outputs": [
        {
          "output_type": "stream",
          "text": [
            "dictionary size : 400000\n"
          ],
          "name": "stdout"
        }
      ]
    },
    {
      "cell_type": "code",
      "metadata": {
        "id": "O1IKoy3EWl3_",
        "colab": {
          "base_uri": "https://localhost:8080/"
        },
        "outputId": "b38cfb85-24c1-4932-cea9-8c758dedb162"
      },
      "source": [
        "words_found = set()\n",
        "words_not_found = set()\n",
        "for word in tokenizer.word_index:\n",
        "    vec = dict_w2v.get(word)\n",
        "    if vec is not None:\n",
        "        words_found.add(word)\n",
        "    else:\n",
        "        words_not_found.add(word)\n",
        "len(words_found), len(words_not_found), len(tokenizer.word_index)"
      ],
      "execution_count": 41,
      "outputs": [
        {
          "output_type": "execute_result",
          "data": {
            "text/plain": [
              "(6187, 918, 7105)"
            ]
          },
          "metadata": {
            "tags": []
          },
          "execution_count": 41
        }
      ]
    },
    {
      "cell_type": "code",
      "metadata": {
        "id": "8zDycGo2jsF5"
      },
      "source": [
        "EMBEDDING_DIM = 100\n",
        "VOCAB_SIZE = len(tokenizer.word_index)\n",
        "embedding_matrix = np.zeros((VOCAB_SIZE +1, EMBEDDING_DIM))"
      ],
      "execution_count": 42,
      "outputs": []
    },
    {
      "cell_type": "code",
      "metadata": {
        "id": "P1ZAm1Kdjr-I",
        "colab": {
          "base_uri": "https://localhost:8080/"
        },
        "outputId": "1675e376-441f-4bcf-b88c-2b6623139d1e"
      },
      "source": [
        "unk_cnt = 0\n",
        "unk_set = set()\n",
        "for word, i in tokenizer.word_index.items():\n",
        "    emb_vector = dict_w2v.get(word)\n",
        "    if emb_vector is not None:\n",
        "        embedding_matrix[i] = emb_vector\n",
        "    else:\n",
        "        unk_cnt += 1\n",
        "        unk_set.add(word)\n",
        "unk_cnt"
      ],
      "execution_count": 43,
      "outputs": [
        {
          "output_type": "execute_result",
          "data": {
            "text/plain": [
              "918"
            ]
          },
          "metadata": {
            "tags": []
          },
          "execution_count": 43
        }
      ]
    },
    {
      "cell_type": "code",
      "metadata": {
        "id": "snkNNeOXgsEd",
        "colab": {
          "base_uri": "https://localhost:8080/"
        },
        "outputId": "b1d844c5-264c-4461-d5bd-e543c2e388fe"
      },
      "source": [
        "X_train_seq.shape, y_train_seq.shape"
      ],
      "execution_count": 44,
      "outputs": [
        {
          "output_type": "execute_result",
          "data": {
            "text/plain": [
              "((3270, 71), (3270, 3))"
            ]
          },
          "metadata": {
            "tags": []
          },
          "execution_count": 44
        }
      ]
    },
    {
      "cell_type": "markdown",
      "metadata": {
        "id": "78RckkwRckzq"
      },
      "source": [
        "# Training"
      ]
    },
    {
      "cell_type": "code",
      "metadata": {
        "id": "6llz2rAam3BI",
        "colab": {
          "base_uri": "https://localhost:8080/",
          "height": 1000
        },
        "outputId": "5168ea11-7d50-4483-b54b-c43c0b6539c0"
      },
      "source": [
        "np.random.seed(60)\n",
        "from tensorflow.keras.callbacks import EarlyStopping, ModelCheckpoint\n",
        "\n",
        "model = Sequential()\n",
        "model.add(Embedding(VOCAB_SIZE +1, EMBEDDING_DIM, weights=[embedding_matrix],input_length=max_len, trainable=False))\n",
        "model.add(Dropout(0.25))\n",
        "model.add(Bidirectional(LSTM(200, return_sequences=True), merge_mode='concat')) #{\"sum\", \"mul\", \"ave\", \"concat\", None}\n",
        "model.add(Dropout(0.25))\n",
        "model.add(GlobalMaxPool1D())\n",
        "model.add(Dense(50, activation='sigmoid'))\n",
        "model.add(Dropout(0.25))\n",
        "model.add(Dense(3, activation='softmax'))\n",
        "model.compile(loss='categorical_crossentropy', optimizer='rmsprop', metrics=[ \n",
        "                                                                            #  'Precision',                                                        \n",
        "                                                                             'Recall',\n",
        "                                                                            #  'accuracy'\n",
        "                                                                             ])\n",
        "# model.summary()\n",
        "\n",
        "early_stopping = EarlyStopping(monitor='val_loss', mode='min', verbose=1, patience=15)\n",
        "mcp_save = ModelCheckpoint('./model.hdf5', save_best_only=True, monitor='val_loss', mode='min')\n",
        "\n",
        "\n",
        "batch_size = 64\n",
        "epochs = 100\n",
        "\n",
        "\n",
        "history = model.fit(X_train_seq, y_train_seq, epochs=epochs, batch_size=batch_size,verbose=1, validation_data=(X_test_seq, y_test_seq), \n",
        "                    callbacks=[early_stopping, mcp_save], shuffle=False)\n",
        "\n",
        "\n",
        "%matplotlib inline\n",
        "def plot_metric(history, metric):\n",
        "    train_metrics = history.history[metric]\n",
        "    val_metrics = history.history['val_'+metric]\n",
        "    epochs = range(1, len(train_metrics) + 1)\n",
        "    plt.plot(epochs, train_metrics)\n",
        "    plt.plot(epochs, val_metrics)\n",
        "    plt.title('Training and validation '+ metric)\n",
        "    plt.xlabel(\"Epochs\")\n",
        "    plt.ylabel(metric)\n",
        "    plt.legend([\"train_\"+metric, 'val_'+metric])\n",
        "    plt.show()\n",
        "\n",
        "plot_metric(history, 'loss')\n",
        "\n",
        "\n",
        "model.load_weights('model.hdf5')\n",
        "\n",
        "preds = model.predict(X_test_seq, batch_size=batch_size)\n",
        "true_y = np.argmax(y_test_seq, axis=1)\n",
        "pred_y = np.argmax(preds, axis=1)\n",
        "\n",
        "c_mat = confusion_matrix(true_y, pred_y)\n",
        "plot_confusion_matrix(c_mat, cmap='Blues', class_names = le.classes_, figsize=(5, 5))\n",
        "plt.show()\n",
        "\n",
        "p, r, f1, s = precision_recall_fscore_support(true_y, pred_y, average=None)\n",
        "\n",
        "# Print precision, recall, f1 score and support\n",
        "results = pd.DataFrame({'1-Precision': p, '2-Recall': r, '3-F1 score': f1, '4-Support': s}, index=le.classes_)\n",
        "\n",
        "# Print precision, recall, f1 score and support\n",
        "print(results.round(decimals=3))"
      ],
      "execution_count": 215,
      "outputs": [
        {
          "output_type": "stream",
          "text": [
            "Epoch 1/100\n",
            "52/52 [==============================] - 7s 81ms/step - loss: 1.1034 - recall: 0.1920 - val_loss: 0.8476 - val_recall: 0.4747\n",
            "Epoch 2/100\n",
            "52/52 [==============================] - 1s 17ms/step - loss: 0.9179 - recall: 0.3781 - val_loss: 0.8308 - val_recall: 0.4365\n",
            "Epoch 3/100\n",
            "52/52 [==============================] - 1s 17ms/step - loss: 0.8344 - recall: 0.4765 - val_loss: 0.8450 - val_recall: 0.4809\n",
            "Epoch 4/100\n",
            "52/52 [==============================] - 1s 17ms/step - loss: 0.7715 - recall: 0.5589 - val_loss: 0.7288 - val_recall: 0.6047\n",
            "Epoch 5/100\n",
            "52/52 [==============================] - 1s 17ms/step - loss: 0.7135 - recall: 0.5985 - val_loss: 0.7391 - val_recall: 0.5944\n",
            "Epoch 6/100\n",
            "52/52 [==============================] - 1s 17ms/step - loss: 0.6730 - recall: 0.6435 - val_loss: 0.6557 - val_recall: 0.6574\n",
            "Epoch 7/100\n",
            "52/52 [==============================] - 1s 17ms/step - loss: 0.6155 - recall: 0.6920 - val_loss: 0.6316 - val_recall: 0.6780\n",
            "Epoch 8/100\n",
            "52/52 [==============================] - 1s 17ms/step - loss: 0.5870 - recall: 0.7152 - val_loss: 0.6412 - val_recall: 0.6842\n",
            "Epoch 9/100\n",
            "52/52 [==============================] - 1s 17ms/step - loss: 0.5533 - recall: 0.7379 - val_loss: 0.6361 - val_recall: 0.7028\n",
            "Epoch 10/100\n",
            "52/52 [==============================] - 1s 17ms/step - loss: 0.4959 - recall: 0.7709 - val_loss: 0.6448 - val_recall: 0.7007\n",
            "Epoch 11/100\n",
            "52/52 [==============================] - 1s 17ms/step - loss: 0.4593 - recall: 0.7925 - val_loss: 0.6202 - val_recall: 0.7234\n",
            "Epoch 12/100\n",
            "52/52 [==============================] - 1s 17ms/step - loss: 0.4379 - recall: 0.8113 - val_loss: 0.5919 - val_recall: 0.7296\n",
            "Epoch 13/100\n",
            "52/52 [==============================] - 1s 17ms/step - loss: 0.4053 - recall: 0.8175 - val_loss: 0.6733 - val_recall: 0.7038\n",
            "Epoch 14/100\n",
            "52/52 [==============================] - 1s 17ms/step - loss: 0.3818 - recall: 0.8298 - val_loss: 0.5769 - val_recall: 0.7389\n",
            "Epoch 15/100\n",
            "52/52 [==============================] - 1s 17ms/step - loss: 0.3422 - recall: 0.8572 - val_loss: 0.5937 - val_recall: 0.7410\n",
            "Epoch 16/100\n",
            "52/52 [==============================] - 1s 17ms/step - loss: 0.3246 - recall: 0.8647 - val_loss: 0.7249 - val_recall: 0.6894\n",
            "Epoch 17/100\n",
            "52/52 [==============================] - 1s 17ms/step - loss: 0.3052 - recall: 0.8745 - val_loss: 0.7609 - val_recall: 0.6832\n",
            "Epoch 18/100\n",
            "52/52 [==============================] - 1s 17ms/step - loss: 0.2729 - recall: 0.8886 - val_loss: 0.6227 - val_recall: 0.7327\n",
            "Epoch 19/100\n",
            "52/52 [==============================] - 1s 17ms/step - loss: 0.2755 - recall: 0.8836 - val_loss: 0.7226 - val_recall: 0.7152\n",
            "Epoch 20/100\n",
            "52/52 [==============================] - 1s 17ms/step - loss: 0.2401 - recall: 0.9087 - val_loss: 0.6427 - val_recall: 0.7389\n",
            "Epoch 21/100\n",
            "52/52 [==============================] - 1s 17ms/step - loss: 0.2215 - recall: 0.9109 - val_loss: 0.7148 - val_recall: 0.7059\n",
            "Epoch 22/100\n",
            "52/52 [==============================] - 1s 17ms/step - loss: 0.2193 - recall: 0.9106 - val_loss: 0.6266 - val_recall: 0.7678\n",
            "Epoch 23/100\n",
            "52/52 [==============================] - 1s 17ms/step - loss: 0.2308 - recall: 0.9103 - val_loss: 0.6419 - val_recall: 0.7564\n",
            "Epoch 24/100\n",
            "52/52 [==============================] - 1s 17ms/step - loss: 0.1892 - recall: 0.9289 - val_loss: 0.7939 - val_recall: 0.7100\n",
            "Epoch 25/100\n",
            "52/52 [==============================] - 1s 17ms/step - loss: 0.1922 - recall: 0.9217 - val_loss: 0.8247 - val_recall: 0.7018\n",
            "Epoch 26/100\n",
            "52/52 [==============================] - 1s 17ms/step - loss: 0.1548 - recall: 0.9376 - val_loss: 0.7929 - val_recall: 0.7162\n",
            "Epoch 27/100\n",
            "52/52 [==============================] - 1s 17ms/step - loss: 0.1434 - recall: 0.9480 - val_loss: 0.7561 - val_recall: 0.7337\n",
            "Epoch 28/100\n",
            "52/52 [==============================] - 1s 17ms/step - loss: 0.1386 - recall: 0.9442 - val_loss: 0.7628 - val_recall: 0.7451\n",
            "Epoch 29/100\n",
            "52/52 [==============================] - 1s 17ms/step - loss: 0.1388 - recall: 0.9488 - val_loss: 0.8249 - val_recall: 0.7420\n",
            "Epoch 00029: early stopping\n"
          ],
          "name": "stdout"
        },
        {
          "output_type": "display_data",
          "data": {
            "image/png": "[encoded data removed]",
            "text/plain": [
              "<Figure size 432x288 with 1 Axes>"
            ]
          },
          "metadata": {
            "tags": [],
            "needs_background": "light"
          }
        },
        {
          "output_type": "display_data",
          "data": {
            "image/png": "[encoded data removed]",
            "text/plain": [
              "<Figure size 360x360 with 1 Axes>"
            ]
          },
          "metadata": {
            "tags": [],
            "needs_background": "light"
          }
        },
        {
          "output_type": "stream",
          "text": [
            "          1-Precision  2-Recall  3-F1 score  4-Support\n",
            "negative  0.636        0.694     0.664       121      \n",
            "neutral   0.883        0.762     0.818       575      \n",
            "positive  0.630        0.788     0.700       273      \n"
          ],
          "name": "stdout"
        }
      ]
    },
    {
      "cell_type": "code",
      "metadata": {
        "id": "q_VAZZdwo4-W"
      },
      "source": [
        ""
      ],
      "execution_count": 173,
      "outputs": []
    },
    {
      "cell_type": "markdown",
      "metadata": {
        "id": "1RzDfejkrMel"
      },
      "source": [
        "# Prepare NEPSE DATA"
      ]
    },
    {
      "cell_type": "code",
      "metadata": {
        "id": "FrMhQqlZn-C8"
      },
      "source": [
        "indices = pd.read_csv('/content/Nepse Indices - Sheet1.csv', header=1)\n",
        "indices.columns= ['no_name', 'date', 'index', 'abs_change', 'pct_change']\n",
        "indices['date'] = pd.to_datetime(indices['date'])\n",
        "indices = indices[indices['date'] < '2019-07-06']"
      ],
      "execution_count": 9,
      "outputs": []
    },
    {
      "cell_type": "code",
      "metadata": {
        "id": "qNsJ8_z0n98P",
        "colab": {
          "base_uri": "https://localhost:8080/"
        },
        "outputId": "31e7fb95-f2c4-4f47-846b-b203f0e7e2be"
      },
      "source": [
        "news_df = pd.read_csv('/content/years_combined_df.csv')\n",
        "news_df['date'] = pd.to_datetime(news_df['date'])\n",
        "news_df = news_df[news_df['date'] >= '2014-02-02']\n",
        "news_df.reset_index(drop=True, inplace=True)\n",
        "print(\"Total News Data Scraped :\", news_df.shape[0])"
      ],
      "execution_count": 10,
      "outputs": [
        {
          "output_type": "stream",
          "text": [
            "Total News Data Scraped : 9802\n"
          ],
          "name": "stdout"
        }
      ]
    },
    {
      "cell_type": "code",
      "metadata": {
        "id": "Ov3F8cKM0wlh",
        "colab": {
          "base_uri": "https://localhost:8080/"
        },
        "outputId": "492de02f-e41c-43dc-b970-7535a491d914"
      },
      "source": [
        "news_df = news_df[news_df['date'].isin(indices['date'])].reset_index(drop=True)\n",
        "print(\"Total News Data as per Nepse indices trading days \", news_df.shape[0])"
      ],
      "execution_count": 11,
      "outputs": [
        {
          "output_type": "stream",
          "text": [
            "Total News Data as per Nepse indices trading days  6307\n"
          ],
          "name": "stdout"
        }
      ]
    },
    {
      "cell_type": "code",
      "metadata": {
        "colab": {
          "base_uri": "https://localhost:8080/"
        },
        "id": "fTa0ls9u41vV",
        "outputId": "304c5552-c07f-4ef0-bcab-e1568f75a5cb"
      },
      "source": [
        "print(\"Total NEPSE Index days: \", indices.shape[0])"
      ],
      "execution_count": 12,
      "outputs": [
        {
          "output_type": "stream",
          "text": [
            "Total NEPSE Index days:  1248\n"
          ],
          "name": "stdout"
        }
      ]
    },
    {
      "cell_type": "code",
      "metadata": {
        "id": "4msgED4p3Bvt",
        "colab": {
          "base_uri": "https://localhost:8080/"
        },
        "outputId": "2a036c0f-a009-42f4-c449-3ba047c3e246"
      },
      "source": [
        "indices = indices[indices['date'].isin(news_df['date'])].reset_index(drop=True)\n",
        "print(\"Total NEPSE index matched with News date:\", indices.shape[0])"
      ],
      "execution_count": 13,
      "outputs": [
        {
          "output_type": "stream",
          "text": [
            "Total NEPSE index matched with News date: 1238\n"
          ],
          "name": "stdout"
        }
      ]
    },
    {
      "cell_type": "code",
      "metadata": {
        "id": "Rn2s6qbL3h7u"
      },
      "source": [
        "indices['pct_change'] = indices['pct_change'].str.replace('%', '').astype(float)"
      ],
      "execution_count": 14,
      "outputs": []
    },
    {
      "cell_type": "code",
      "metadata": {
        "id": "xQW8YdPy5V5r"
      },
      "source": [
        "indices['target'] = np.where(indices['pct_change'] < 0 , 0, 1)"
      ],
      "execution_count": 15,
      "outputs": []
    },
    {
      "cell_type": "code",
      "metadata": {
        "id": "dyuBqFhEn926"
      },
      "source": [
        "def prepare_and_predict_news(series, pad_max_len, batch_size):\n",
        "\n",
        "    news = tokenizer.texts_to_sequences(series)\n",
        "    news = pad_sequences(news, pad_max_len)\n",
        "    news = model.predict(news, batch_size=batch_size)\n",
        "    return news"
      ],
      "execution_count": 223,
      "outputs": []
    },
    {
      "cell_type": "code",
      "metadata": {
        "id": "XgJdhmIuz67w"
      },
      "source": [
        "news_sentiment = prepare_and_predict_news(news_df['content'], pad_max_len=max_len, batch_size=batch_size)\n",
        "# news_df['pred_glove_300'] = np.argmax(news_sentiment, axis=1)"
      ],
      "execution_count": 224,
      "outputs": []
    },
    {
      "cell_type": "code",
      "metadata": {
        "id": "0tnByhjkruJW"
      },
      "source": [
        "news_sentiment_df = pd.DataFrame(news_sentiment, columns=le.classes_)"
      ],
      "execution_count": 225,
      "outputs": []
    },
    {
      "cell_type": "code",
      "metadata": {
        "id": "-oMq6pfs8oVm"
      },
      "source": [
        "final_df = pd.concat([news_df, news_sentiment_df], axis=1)"
      ],
      "execution_count": 226,
      "outputs": []
    },
    {
      "cell_type": "code",
      "metadata": {
        "id": "ADr2-x4b3qVi"
      },
      "source": [
        "# pd.set_option('max_colwidth', -1)\n",
        "# final_df[['content', 'negative', 'neutral','positive']].head(15)"
      ],
      "execution_count": 227,
      "outputs": []
    },
    {
      "cell_type": "code",
      "metadata": {
        "id": "2cCNi-Jj3udI"
      },
      "source": [
        "df = pd.merge(final_df, indices, left_on='date', right_on='date')"
      ],
      "execution_count": 228,
      "outputs": []
    },
    {
      "cell_type": "code",
      "metadata": {
        "id": "BvfH4tSMS3Qd"
      },
      "source": [
        "df.to_csv('final-df.csv', index=False)"
      ],
      "execution_count": 229,
      "outputs": []
    },
    {
      "cell_type": "code",
      "metadata": {
        "id": "metgZW9fqBho"
      },
      "source": [
        "import pandas as pd\n",
        "import numpy as np\n",
        "df = pd.read_csv('final-df.csv')"
      ],
      "execution_count": 52,
      "outputs": []
    },
    {
      "cell_type": "code",
      "metadata": {
        "id": "ZhW1cvPCtalR"
      },
      "source": [
        "indices['negative_mean'] = df.groupby('date')['negative'].apply(np.mean).reset_index(drop=True)\n",
        "indices['neutral_mean'] = df.groupby('date')['neutral'].apply(np.mean).reset_index(drop=True)\n",
        "indices['positive_mean'] = df.groupby('date')['positive'].apply(np.mean).reset_index(drop=True)"
      ],
      "execution_count": 53,
      "outputs": []
    },
    {
      "cell_type": "code",
      "metadata": {
        "id": "F6atn0B4ttap"
      },
      "source": [
        "features = ['negative_mean', 'neutral_mean','positive_mean']"
      ],
      "execution_count": 54,
      "outputs": []
    },
    {
      "cell_type": "code",
      "metadata": {
        "id": "D2LK3-QLttYS"
      },
      "source": [
        "validation_df = indices[indices['date'] > '2018-12-31']\n",
        "train_df = indices[indices['date'] <= '2018-12-31']"
      ],
      "execution_count": 55,
      "outputs": []
    },
    {
      "cell_type": "code",
      "metadata": {
        "id": "kdE8VI26_Thv"
      },
      "source": [
        "Xtrain, ytrain = train_df[features], train_df['target']"
      ],
      "execution_count": 56,
      "outputs": []
    },
    {
      "cell_type": "code",
      "metadata": {
        "id": "M1UMuRrx_a5I"
      },
      "source": [
        "Xtest, ytest = validation_df[features], validation_df['target']"
      ],
      "execution_count": 57,
      "outputs": []
    },
    {
      "cell_type": "code",
      "metadata": {
        "colab": {
          "base_uri": "https://localhost:8080/"
        },
        "id": "1cJIgGScFC-b",
        "outputId": "e954507a-9c86-4f9c-ee2b-1a944203dc94"
      },
      "source": [
        "Xtrain.shape, ytrain.shape, Xtest.shape, ytest.shape"
      ],
      "execution_count": 58,
      "outputs": [
        {
          "output_type": "execute_result",
          "data": {
            "text/plain": [
              "((1117, 3), (1117,), (121, 3), (121,))"
            ]
          },
          "metadata": {
            "tags": []
          },
          "execution_count": 58
        }
      ]
    },
    {
      "cell_type": "code",
      "metadata": {
        "id": "dsagBRRXJ3s8"
      },
      "source": [
        "def accuracy_metrics(preds, dtrain):\n",
        "    labels = dtrain.get_label()\n",
        "\n",
        "    preds = np.round(preds)\n",
        "    acc_score = accuracy_score(labels, preds)\n",
        "    return 'acc_score', acc_score, True"
      ],
      "execution_count": 59,
      "outputs": []
    },
    {
      "cell_type": "code",
      "metadata": {
        "id": "SQ-K1L6WW75f"
      },
      "source": [
        "# ax = lgb.plot_metric(evals_result, metric='binary_logloss')\n",
        "# plt.show()"
      ],
      "execution_count": 49,
      "outputs": []
    },
    {
      "cell_type": "code",
      "metadata": {
        "id": "UJ4GbBCY1JW3"
      },
      "source": [
        "# !pip install optuna"
      ],
      "execution_count": 238,
      "outputs": []
    },
    {
      "cell_type": "code",
      "metadata": {
        "id": "HsnciR--wEVG"
      },
      "source": [
        "import optuna\n",
        "from sklearn.metrics import roc_auc_score\n",
        "from google.colab import output\n",
        "tr_data = lgb.Dataset(Xtrain, ytrain)\n",
        "va_data = lgb.Dataset(Xtest, ytest)\n",
        "def objective(trial):    \n",
        "    params = {\n",
        "            'num_leaves': trial.suggest_int('num_leaves', 2, 512),\n",
        "            'boosting_type': 'gbdt',\n",
        "            'objective': 'binary',\n",
        "            # 'metric': 'auc',\n",
        "            'bagging_seed':60,\n",
        "            'max_depth': trial.suggest_int('max_depth', 1, 16),\n",
        "            'min_child_weight': trial.suggest_int('min_child_weight', 1, 16),\n",
        "            'feature_fraction': trial.suggest_uniform('feature_fraction', 0.5, 1.0),\n",
        "            'bagging_fraction': trial.suggest_uniform('bagging_fraction', 0.5, 1.0),\n",
        "            'bagging_freq': trial.suggest_int('bagging_freq', 1, 8),\n",
        "            'min_child_samples': trial.suggest_int('min_child_samples', 1, 80),\n",
        "            'lambda_l1': trial.suggest_loguniform('lambda_l1', 1e-8, 1.0),\n",
        "            'lambda_l2': trial.suggest_loguniform('lambda_l2', 1e-8, 1.0),\n",
        "            'learning_rate' : trial.suggest_uniform('learning_rate', 0.0001, 0.99),\n",
        "            'max_bin': trial.suggest_int('max_bin', 4, 900),\n",
        "            'early_stopping_rounds': 50,\n",
        "            'random_state':60 \n",
        "            }\n",
        "\n",
        "    model = lgb.train(params, tr_data, valid_sets=[tr_data, va_data], verbose_eval=None, num_boost_round=5000, feval=accuracy_metrics)\n",
        "    score = model.best_score['valid_1']['acc_score']\n",
        "    # val_pred = model.predict(Xtest)\n",
        "    # score = accuracy_score(ytest, np.round(val_pred))\n",
        "    # print(score)\n",
        "    output.clear()\n",
        "    # print(f\"AUC = {score}\")\n",
        "    return score\n",
        "\n"
      ],
      "execution_count": 62,
      "outputs": []
    },
    {
      "cell_type": "code",
      "metadata": {
        "id": "tR7DZx61wESf",
        "outputId": "481a3471-61bb-498f-b2b2-6090dc537469",
        "colab": {
          "base_uri": "https://localhost:8080/"
        }
      },
      "source": [
        "study = optuna.create_study(direction='maximize')\n",
        "study.optimize(objective, n_trials=500)"
      ],
      "execution_count": 63,
      "outputs": [
        {
          "output_type": "stream",
          "text": [
            "\u001b[32m[I 2021-03-25 09:46:25,686]\u001b[0m Trial 499 finished with value: 0.5950413223140496 and parameters: {'num_leaves': 462, 'max_depth': 7, 'min_child_weight': 4, 'feature_fraction': 0.6593877856243415, 'bagging_fraction': 0.6731278782352519, 'bagging_freq': 3, 'min_child_samples': 67, 'lambda_l1': 1.0341294536606787e-06, 'lambda_l2': 0.000290271715241382, 'learning_rate': 0.8947748533763338, 'max_bin': 553}. Best is trial 138 with value: 0.7024793388429752.\u001b[0m\n"
          ],
          "name": "stderr"
        }
      ]
    },
    {
      "cell_type": "code",
      "metadata": {
        "id": "ZpbzFPh7wEPs",
        "colab": {
          "base_uri": "https://localhost:8080/"
        },
        "outputId": "f437f394-d3ec-4cf1-cdf6-0dd812f4362e"
      },
      "source": [
        "study.best_params"
      ],
      "execution_count": 67,
      "outputs": [
        {
          "output_type": "execute_result",
          "data": {
            "text/plain": [
              "{'bagging_fraction': 0.6506480465023792,\n",
              " 'bagging_freq': 4,\n",
              " 'feature_fraction': 0.6750931201345176,\n",
              " 'lambda_l1': 6.659723571830545e-06,\n",
              " 'lambda_l2': 7.171849219399176e-05,\n",
              " 'learning_rate': 0.6707680192278893,\n",
              " 'max_bin': 563,\n",
              " 'max_depth': 15,\n",
              " 'min_child_samples': 64,\n",
              " 'min_child_weight': 13,\n",
              " 'num_leaves': 428}"
            ]
          },
          "metadata": {
            "tags": []
          },
          "execution_count": 67
        }
      ]
    },
    {
      "cell_type": "code",
      "metadata": {
        "id": "uM_UGXXXwEM4",
        "colab": {
          "base_uri": "https://localhost:8080/"
        },
        "outputId": "3b64a5da-bb8f-40bc-cd84-07e0025579bb"
      },
      "source": [
        "\n",
        "import lightgbm as lgb\n",
        "# tr_data = lgb.Dataset(Xtrain, label=ytrain)\n",
        "# va_data = lgb.Dataset(Xtest, label=ytest)\n",
        "params = {\n",
        "'objective': 'binary',\n",
        "\"boosting_type\": \"gbdt\",\n",
        "\"verbosity\": -1,\n",
        "'random_state': 60,\n",
        "'bagging_seed':60,\n",
        "\n",
        "'bagging_fraction': 0.6506480465023792,\n",
        " 'bagging_freq': 4,\n",
        " 'feature_fraction': 0.6750931201345176,\n",
        " 'lambda_l1': 6.659723571830545e-06,\n",
        " 'lambda_l2': 7.171849219399176e-05,\n",
        " 'learning_rate': 0.6707680192278893,\n",
        " 'max_bin': 563,\n",
        " 'max_depth': 15,\n",
        " 'min_child_samples': 64,\n",
        " 'min_child_weight': 13,\n",
        " 'num_leaves': 428\n",
        "}\n",
        "\n",
        "evals_result = {}\n",
        "model = lgb.train(\n",
        "        params, \n",
        "        tr_data,\n",
        "        num_boost_round=5000,   \n",
        "        valid_sets=[tr_data, va_data],\n",
        "        early_stopping_rounds=50,   \n",
        "        feature_name=features,\n",
        "        verbose_eval=10, \n",
        "        feval = accuracy_metrics, \n",
        "        evals_result = evals_result\n",
        "    )"
      ],
      "execution_count": 68,
      "outputs": [
        {
          "output_type": "stream",
          "text": [
            "Training until validation scores don't improve for 50 rounds\n",
            "[10]\ttraining's binary_logloss: 0.650647\ttraining's acc_score: 0.618621\tvalid_1's binary_logloss: 0.663819\tvalid_1's acc_score: 0.570248\n",
            "[20]\ttraining's binary_logloss: 0.624328\ttraining's acc_score: 0.632945\tvalid_1's binary_logloss: 0.671444\tvalid_1's acc_score: 0.586777\n",
            "[30]\ttraining's binary_logloss: 0.594659\ttraining's acc_score: 0.680394\tvalid_1's binary_logloss: 0.663631\tvalid_1's acc_score: 0.661157\n",
            "[40]\ttraining's binary_logloss: 0.579745\ttraining's acc_score: 0.692927\tvalid_1's binary_logloss: 0.650653\tvalid_1's acc_score: 0.661157\n",
            "[50]\ttraining's binary_logloss: 0.559162\ttraining's acc_score: 0.717995\tvalid_1's binary_logloss: 0.668746\tvalid_1's acc_score: 0.628099\n",
            "[60]\ttraining's binary_logloss: 0.539209\ttraining's acc_score: 0.726947\tvalid_1's binary_logloss: 0.648434\tvalid_1's acc_score: 0.661157\n",
            "[70]\ttraining's binary_logloss: 0.52444\ttraining's acc_score: 0.750224\tvalid_1's binary_logloss: 0.645921\tvalid_1's acc_score: 0.669421\n",
            "[80]\ttraining's binary_logloss: 0.508103\ttraining's acc_score: 0.756491\tvalid_1's binary_logloss: 0.67305\tvalid_1's acc_score: 0.636364\n",
            "[90]\ttraining's binary_logloss: 0.489681\ttraining's acc_score: 0.778872\tvalid_1's binary_logloss: 0.657626\tvalid_1's acc_score: 0.644628\n",
            "[100]\ttraining's binary_logloss: 0.479917\ttraining's acc_score: 0.778872\tvalid_1's binary_logloss: 0.69103\tvalid_1's acc_score: 0.644628\n",
            "Early stopping, best iteration is:\n",
            "[57]\ttraining's binary_logloss: 0.545091\ttraining's acc_score: 0.734109\tvalid_1's binary_logloss: 0.624286\tvalid_1's acc_score: 0.702479\n"
          ],
          "name": "stdout"
        }
      ]
    },
    {
      "cell_type": "code",
      "metadata": {
        "colab": {
          "base_uri": "https://localhost:8080/",
          "height": 376
        },
        "id": "g7JLHaPnExED",
        "outputId": "3f1231f9-a67e-4911-aaaf-39d161e293c5"
      },
      "source": [
        "import matplotlib.pyplot as plt\n",
        "\n",
        "lgb.plot_metric(evals_result, metric='binary_logloss')\n",
        "plt.show()"
      ],
      "execution_count": 99,
      "outputs": [
        {
          "output_type": "display_data",
          "data": {
            "image/png": "[encoded data removed]",
            "text/plain": [
              "<Figure size 576x396 with 1 Axes>"
            ]
          },
          "metadata": {
            "tags": []
          }
        }
      ]
    },
    {
      "cell_type": "code",
      "metadata": {
        "id": "wTpdUD5Qngw1",
        "outputId": "da3d80be-2469-4808-fdae-e46a6ff518cb",
        "colab": {
          "base_uri": "https://localhost:8080/",
          "height": 376
        }
      },
      "source": [
        "lgb.plot_metric(evals_result, metric='acc_score')\n",
        "plt.show()"
      ],
      "execution_count": 100,
      "outputs": [
        {
          "output_type": "display_data",
          "data": {
            "image/png": "[encoded data removed]",
            "text/plain": [
              "<Figure size 576x396 with 1 Axes>"
            ]
          },
          "metadata": {
            "tags": []
          }
        }
      ]
    },
    {
      "cell_type": "code",
      "metadata": {
        "colab": {
          "base_uri": "https://localhost:8080/",
          "height": 452
        },
        "id": "5mPyOnFW-wGK",
        "outputId": "45fa16a9-0e01-43ed-e038-c8144a35ae94"
      },
      "source": [
        "preds = model.predict(Xtest, model.best_iteration)\n",
        "c_mat = confusion_matrix(ytest, np.round(preds))\n",
        "plot_confusion_matrix(c_mat, cmap='Blues', class_names = ['negative', 'positive'], figsize=(5, 5))\n",
        "plt.show()\n",
        "\n",
        "p, r, f1, s = precision_recall_fscore_support(ytest, np.round(preds), average=None)\n",
        "\n",
        "results = pd.DataFrame({'Precision': p, 'Recall': r, 'F1 score': f1, 'Support': s}, index=['negative', 'positive'])\n",
        "print(results.round(decimals=3))\n",
        "print(roc_auc_score(ytest, preds))\n",
        "print(accuracy_score(ytest, np.round(preds)))"
      ],
      "execution_count": 78,
      "outputs": [
        {
          "output_type": "display_data",
          "data": {
            "image/png": "[encoded data removed]",
            "text/plain": [
              "<Figure size 360x360 with 1 Axes>"
            ]
          },
          "metadata": {
            "tags": [],
            "needs_background": "light"
          }
        },
        {
          "output_type": "stream",
          "text": [
            "          Precision  Recall  F1 score  Support\n",
            "negative       0.70    0.74      0.72       62\n",
            "positive       0.71    0.66      0.68       59\n",
            "0.7161016949152543\n",
            "0.7024793388429752\n"
          ],
          "name": "stdout"
        }
      ]
    },
    {
      "cell_type": "code",
      "metadata": {
        "id": "vc2hSSnDjjC-"
      },
      "source": [
        "fpr, tpr, thresholds = roc_curve(ytest, model.predict(Xtest))\n",
        "random_probs = [0 for i in range(len(ytest))]\n",
        "p_fpr, p_tpr, _ = roc_curve(ytest, random_probs, pos_label=1)"
      ],
      "execution_count": 95,
      "outputs": []
    },
    {
      "cell_type": "code",
      "metadata": {
        "id": "TjLX0yyE0xri"
      },
      "source": [
        "from sklearn.metrics import plot_roc_curve"
      ],
      "execution_count": 88,
      "outputs": []
    },
    {
      "cell_type": "code",
      "metadata": {
        "id": "CfisvCgH0xoX",
        "outputId": "670cabda-802c-416e-8cca-36c067eb697f",
        "colab": {
          "base_uri": "https://localhost:8080/",
          "height": 376
        }
      },
      "source": [
        "import matplotlib.pyplot as plt\n",
        "plt.style.use('seaborn')\n",
        "\n",
        "# plot roc curves\n",
        "plt.plot(fpr, tpr, linestyle='-',color='green', label='LGBM')\n",
        "\n",
        "plt.plot(p_fpr, p_tpr, linestyle='--', color='blue')\n",
        "# title\n",
        "plt.title('ROC curve')\n",
        "# x label\n",
        "plt.xlabel('False Positive Rate')\n",
        "# y label\n",
        "plt.ylabel('True Positive rate')\n",
        "\n",
        "plt.legend(loc='best')\n",
        "plt.savefig('ROC',dpi=300)\n",
        "plt.show();"
      ],
      "execution_count": 98,
      "outputs": [
        {
          "output_type": "display_data",
          "data": {
            "image/png": "[encoded data removed]",
            "text/plain": [
              "<Figure size 576x396 with 1 Axes>"
            ]
          },
          "metadata": {
            "tags": []
          }
        }
      ]
    },
    {
      "cell_type": "code",
      "metadata": {
        "id": "fhKs5rKc0xk5"
      },
      "source": [
        "thresholds"
      ],
      "execution_count": null,
      "outputs": []
    },
    {
      "cell_type": "code",
      "metadata": {
        "id": "4QgexgMhQXXb"
      },
      "source": [
        "# !pip install lazypredict\n",
        "from lazypredict.Supervised import LazyClassifier"
      ],
      "execution_count": null,
      "outputs": []
    },
    {
      "cell_type": "code",
      "metadata": {
        "id": "tbA1wzEtQXUr"
      },
      "source": [
        "clf = LazyClassifier(verbose=0,ignore_warnings=True, custom_metric=None)"
      ],
      "execution_count": 24,
      "outputs": []
    },
    {
      "cell_type": "code",
      "metadata": {
        "id": "Ckwqu37iQXRn",
        "outputId": "4e530fdf-57ff-4b79-f9a8-c7cc4181a11d",
        "colab": {
          "base_uri": "https://localhost:8080/",
          "height": 935
        }
      },
      "source": [
        "models,predictions = clf.fit(Xtrain, Xtest, ytrain, ytest)\n",
        "models"
      ],
      "execution_count": 25,
      "outputs": [
        {
          "output_type": "stream",
          "text": [
            "100%|██████████| 29/29 [00:01<00:00, 22.12it/s]\n"
          ],
          "name": "stderr"
        },
        {
          "output_type": "execute_result",
          "data": {
            "text/html": [
              "<div>\n",
              "<style scoped>\n",
              "    .dataframe tbody tr th:only-of-type {\n",
              "        vertical-align: middle;\n",
              "    }\n",
              "\n",
              "    .dataframe tbody tr th {\n",
              "        vertical-align: top;\n",
              "    }\n",
              "\n",
              "    .dataframe thead th {\n",
              "        text-align: right;\n",
              "    }\n",
              "</style>\n",
              "<table border=\"1\" class=\"dataframe\">\n",
              "  <thead>\n",
              "    <tr style=\"text-align: right;\">\n",
              "      <th></th>\n",
              "      <th>Accuracy</th>\n",
              "      <th>Balanced Accuracy</th>\n",
              "      <th>ROC AUC</th>\n",
              "      <th>F1 Score</th>\n",
              "      <th>Time Taken</th>\n",
              "    </tr>\n",
              "    <tr>\n",
              "      <th>Model</th>\n",
              "      <th></th>\n",
              "      <th></th>\n",
              "      <th></th>\n",
              "      <th></th>\n",
              "      <th></th>\n",
              "    </tr>\n",
              "  </thead>\n",
              "  <tbody>\n",
              "    <tr>\n",
              "      <th>LGBMClassifier</th>\n",
              "      <td>0.63</td>\n",
              "      <td>0.63</td>\n",
              "      <td>0.63</td>\n",
              "      <td>0.63</td>\n",
              "      <td>0.08</td>\n",
              "    </tr>\n",
              "    <tr>\n",
              "      <th>KNeighborsClassifier</th>\n",
              "      <td>0.61</td>\n",
              "      <td>0.61</td>\n",
              "      <td>0.61</td>\n",
              "      <td>0.61</td>\n",
              "      <td>0.01</td>\n",
              "    </tr>\n",
              "    <tr>\n",
              "      <th>SVC</th>\n",
              "      <td>0.60</td>\n",
              "      <td>0.60</td>\n",
              "      <td>0.60</td>\n",
              "      <td>0.60</td>\n",
              "      <td>0.05</td>\n",
              "    </tr>\n",
              "    <tr>\n",
              "      <th>BernoulliNB</th>\n",
              "      <td>0.60</td>\n",
              "      <td>0.59</td>\n",
              "      <td>0.59</td>\n",
              "      <td>0.58</td>\n",
              "      <td>0.01</td>\n",
              "    </tr>\n",
              "    <tr>\n",
              "      <th>LabelSpreading</th>\n",
              "      <td>0.59</td>\n",
              "      <td>0.59</td>\n",
              "      <td>0.59</td>\n",
              "      <td>0.59</td>\n",
              "      <td>0.08</td>\n",
              "    </tr>\n",
              "    <tr>\n",
              "      <th>LabelPropagation</th>\n",
              "      <td>0.59</td>\n",
              "      <td>0.59</td>\n",
              "      <td>0.59</td>\n",
              "      <td>0.59</td>\n",
              "      <td>0.06</td>\n",
              "    </tr>\n",
              "    <tr>\n",
              "      <th>RandomForestClassifier</th>\n",
              "      <td>0.59</td>\n",
              "      <td>0.59</td>\n",
              "      <td>0.59</td>\n",
              "      <td>0.59</td>\n",
              "      <td>0.24</td>\n",
              "    </tr>\n",
              "    <tr>\n",
              "      <th>AdaBoostClassifier</th>\n",
              "      <td>0.59</td>\n",
              "      <td>0.59</td>\n",
              "      <td>0.59</td>\n",
              "      <td>0.59</td>\n",
              "      <td>0.10</td>\n",
              "    </tr>\n",
              "    <tr>\n",
              "      <th>SGDClassifier</th>\n",
              "      <td>0.59</td>\n",
              "      <td>0.58</td>\n",
              "      <td>0.58</td>\n",
              "      <td>0.57</td>\n",
              "      <td>0.01</td>\n",
              "    </tr>\n",
              "    <tr>\n",
              "      <th>ExtraTreesClassifier</th>\n",
              "      <td>0.58</td>\n",
              "      <td>0.58</td>\n",
              "      <td>0.58</td>\n",
              "      <td>0.58</td>\n",
              "      <td>0.16</td>\n",
              "    </tr>\n",
              "    <tr>\n",
              "      <th>BaggingClassifier</th>\n",
              "      <td>0.57</td>\n",
              "      <td>0.57</td>\n",
              "      <td>0.57</td>\n",
              "      <td>0.57</td>\n",
              "      <td>0.05</td>\n",
              "    </tr>\n",
              "    <tr>\n",
              "      <th>ExtraTreeClassifier</th>\n",
              "      <td>0.56</td>\n",
              "      <td>0.56</td>\n",
              "      <td>0.56</td>\n",
              "      <td>0.56</td>\n",
              "      <td>0.01</td>\n",
              "    </tr>\n",
              "    <tr>\n",
              "      <th>QuadraticDiscriminantAnalysis</th>\n",
              "      <td>0.55</td>\n",
              "      <td>0.55</td>\n",
              "      <td>0.55</td>\n",
              "      <td>0.55</td>\n",
              "      <td>0.01</td>\n",
              "    </tr>\n",
              "    <tr>\n",
              "      <th>XGBClassifier</th>\n",
              "      <td>0.54</td>\n",
              "      <td>0.54</td>\n",
              "      <td>0.54</td>\n",
              "      <td>0.54</td>\n",
              "      <td>0.08</td>\n",
              "    </tr>\n",
              "    <tr>\n",
              "      <th>CalibratedClassifierCV</th>\n",
              "      <td>0.53</td>\n",
              "      <td>0.52</td>\n",
              "      <td>0.52</td>\n",
              "      <td>0.45</td>\n",
              "      <td>0.09</td>\n",
              "    </tr>\n",
              "    <tr>\n",
              "      <th>PassiveAggressiveClassifier</th>\n",
              "      <td>0.49</td>\n",
              "      <td>0.49</td>\n",
              "      <td>0.49</td>\n",
              "      <td>0.49</td>\n",
              "      <td>0.01</td>\n",
              "    </tr>\n",
              "    <tr>\n",
              "      <th>DecisionTreeClassifier</th>\n",
              "      <td>0.48</td>\n",
              "      <td>0.48</td>\n",
              "      <td>0.48</td>\n",
              "      <td>0.48</td>\n",
              "      <td>0.02</td>\n",
              "    </tr>\n",
              "    <tr>\n",
              "      <th>GaussianNB</th>\n",
              "      <td>0.48</td>\n",
              "      <td>0.48</td>\n",
              "      <td>0.48</td>\n",
              "      <td>0.47</td>\n",
              "      <td>0.01</td>\n",
              "    </tr>\n",
              "    <tr>\n",
              "      <th>NuSVC</th>\n",
              "      <td>0.47</td>\n",
              "      <td>0.47</td>\n",
              "      <td>0.47</td>\n",
              "      <td>0.47</td>\n",
              "      <td>0.08</td>\n",
              "    </tr>\n",
              "    <tr>\n",
              "      <th>NearestCentroid</th>\n",
              "      <td>0.46</td>\n",
              "      <td>0.46</td>\n",
              "      <td>0.46</td>\n",
              "      <td>0.46</td>\n",
              "      <td>0.01</td>\n",
              "    </tr>\n",
              "    <tr>\n",
              "      <th>DummyClassifier</th>\n",
              "      <td>0.46</td>\n",
              "      <td>0.46</td>\n",
              "      <td>0.46</td>\n",
              "      <td>0.46</td>\n",
              "      <td>0.01</td>\n",
              "    </tr>\n",
              "    <tr>\n",
              "      <th>RidgeClassifier</th>\n",
              "      <td>0.45</td>\n",
              "      <td>0.45</td>\n",
              "      <td>0.45</td>\n",
              "      <td>0.45</td>\n",
              "      <td>0.01</td>\n",
              "    </tr>\n",
              "    <tr>\n",
              "      <th>RidgeClassifierCV</th>\n",
              "      <td>0.45</td>\n",
              "      <td>0.45</td>\n",
              "      <td>0.45</td>\n",
              "      <td>0.45</td>\n",
              "      <td>0.01</td>\n",
              "    </tr>\n",
              "    <tr>\n",
              "      <th>LogisticRegression</th>\n",
              "      <td>0.45</td>\n",
              "      <td>0.45</td>\n",
              "      <td>0.45</td>\n",
              "      <td>0.45</td>\n",
              "      <td>0.02</td>\n",
              "    </tr>\n",
              "    <tr>\n",
              "      <th>LinearDiscriminantAnalysis</th>\n",
              "      <td>0.45</td>\n",
              "      <td>0.45</td>\n",
              "      <td>0.45</td>\n",
              "      <td>0.45</td>\n",
              "      <td>0.02</td>\n",
              "    </tr>\n",
              "    <tr>\n",
              "      <th>LinearSVC</th>\n",
              "      <td>0.45</td>\n",
              "      <td>0.45</td>\n",
              "      <td>0.45</td>\n",
              "      <td>0.45</td>\n",
              "      <td>0.03</td>\n",
              "    </tr>\n",
              "    <tr>\n",
              "      <th>Perceptron</th>\n",
              "      <td>0.41</td>\n",
              "      <td>0.42</td>\n",
              "      <td>0.42</td>\n",
              "      <td>0.30</td>\n",
              "      <td>0.01</td>\n",
              "    </tr>\n",
              "  </tbody>\n",
              "</table>\n",
              "</div>"
            ],
            "text/plain": [
              "                               Accuracy  ...  Time Taken\n",
              "Model                                    ...            \n",
              "LGBMClassifier                     0.63  ...        0.08\n",
              "KNeighborsClassifier               0.61  ...        0.01\n",
              "SVC                                0.60  ...        0.05\n",
              "BernoulliNB                        0.60  ...        0.01\n",
              "LabelSpreading                     0.59  ...        0.08\n",
              "LabelPropagation                   0.59  ...        0.06\n",
              "RandomForestClassifier             0.59  ...        0.24\n",
              "AdaBoostClassifier                 0.59  ...        0.10\n",
              "SGDClassifier                      0.59  ...        0.01\n",
              "ExtraTreesClassifier               0.58  ...        0.16\n",
              "BaggingClassifier                  0.57  ...        0.05\n",
              "ExtraTreeClassifier                0.56  ...        0.01\n",
              "QuadraticDiscriminantAnalysis      0.55  ...        0.01\n",
              "XGBClassifier                      0.54  ...        0.08\n",
              "CalibratedClassifierCV             0.53  ...        0.09\n",
              "PassiveAggressiveClassifier        0.49  ...        0.01\n",
              "DecisionTreeClassifier             0.48  ...        0.02\n",
              "GaussianNB                         0.48  ...        0.01\n",
              "NuSVC                              0.47  ...        0.08\n",
              "NearestCentroid                    0.46  ...        0.01\n",
              "DummyClassifier                    0.46  ...        0.01\n",
              "RidgeClassifier                    0.45  ...        0.01\n",
              "RidgeClassifierCV                  0.45  ...        0.01\n",
              "LogisticRegression                 0.45  ...        0.02\n",
              "LinearDiscriminantAnalysis         0.45  ...        0.02\n",
              "LinearSVC                          0.45  ...        0.03\n",
              "Perceptron                         0.41  ...        0.01\n",
              "\n",
              "[27 rows x 5 columns]"
            ]
          },
          "metadata": {
            "tags": []
          },
          "execution_count": 25
        }
      ]
    },
    {
      "cell_type": "code",
      "metadata": {
        "id": "SspGJGEZvj3M",
        "outputId": "d9261451-b811-42dc-829c-fb6b6bc4f70b",
        "colab": {
          "base_uri": "https://localhost:8080/",
          "height": 886
        }
      },
      "source": [
        "pd.DataFrame(models).reset_index()"
      ],
      "execution_count": 47,
      "outputs": [
        {
          "output_type": "execute_result",
          "data": {
            "text/html": [
              "<div>\n",
              "<style scoped>\n",
              "    .dataframe tbody tr th:only-of-type {\n",
              "        vertical-align: middle;\n",
              "    }\n",
              "\n",
              "    .dataframe tbody tr th {\n",
              "        vertical-align: top;\n",
              "    }\n",
              "\n",
              "    .dataframe thead th {\n",
              "        text-align: right;\n",
              "    }\n",
              "</style>\n",
              "<table border=\"1\" class=\"dataframe\">\n",
              "  <thead>\n",
              "    <tr style=\"text-align: right;\">\n",
              "      <th></th>\n",
              "      <th>Model</th>\n",
              "      <th>Accuracy</th>\n",
              "      <th>Balanced Accuracy</th>\n",
              "      <th>ROC AUC</th>\n",
              "      <th>F1 Score</th>\n",
              "      <th>Time Taken</th>\n",
              "    </tr>\n",
              "  </thead>\n",
              "  <tbody>\n",
              "    <tr>\n",
              "      <th>0</th>\n",
              "      <td>LGBMClassifier</td>\n",
              "      <td>0.63</td>\n",
              "      <td>0.63</td>\n",
              "      <td>0.63</td>\n",
              "      <td>0.63</td>\n",
              "      <td>0.08</td>\n",
              "    </tr>\n",
              "    <tr>\n",
              "      <th>1</th>\n",
              "      <td>KNeighborsClassifier</td>\n",
              "      <td>0.61</td>\n",
              "      <td>0.61</td>\n",
              "      <td>0.61</td>\n",
              "      <td>0.61</td>\n",
              "      <td>0.01</td>\n",
              "    </tr>\n",
              "    <tr>\n",
              "      <th>2</th>\n",
              "      <td>SVC</td>\n",
              "      <td>0.60</td>\n",
              "      <td>0.60</td>\n",
              "      <td>0.60</td>\n",
              "      <td>0.60</td>\n",
              "      <td>0.05</td>\n",
              "    </tr>\n",
              "    <tr>\n",
              "      <th>3</th>\n",
              "      <td>BernoulliNB</td>\n",
              "      <td>0.60</td>\n",
              "      <td>0.59</td>\n",
              "      <td>0.59</td>\n",
              "      <td>0.58</td>\n",
              "      <td>0.01</td>\n",
              "    </tr>\n",
              "    <tr>\n",
              "      <th>4</th>\n",
              "      <td>LabelSpreading</td>\n",
              "      <td>0.59</td>\n",
              "      <td>0.59</td>\n",
              "      <td>0.59</td>\n",
              "      <td>0.59</td>\n",
              "      <td>0.08</td>\n",
              "    </tr>\n",
              "    <tr>\n",
              "      <th>5</th>\n",
              "      <td>LabelPropagation</td>\n",
              "      <td>0.59</td>\n",
              "      <td>0.59</td>\n",
              "      <td>0.59</td>\n",
              "      <td>0.59</td>\n",
              "      <td>0.06</td>\n",
              "    </tr>\n",
              "    <tr>\n",
              "      <th>6</th>\n",
              "      <td>RandomForestClassifier</td>\n",
              "      <td>0.59</td>\n",
              "      <td>0.59</td>\n",
              "      <td>0.59</td>\n",
              "      <td>0.59</td>\n",
              "      <td>0.24</td>\n",
              "    </tr>\n",
              "    <tr>\n",
              "      <th>7</th>\n",
              "      <td>AdaBoostClassifier</td>\n",
              "      <td>0.59</td>\n",
              "      <td>0.59</td>\n",
              "      <td>0.59</td>\n",
              "      <td>0.59</td>\n",
              "      <td>0.10</td>\n",
              "    </tr>\n",
              "    <tr>\n",
              "      <th>8</th>\n",
              "      <td>SGDClassifier</td>\n",
              "      <td>0.59</td>\n",
              "      <td>0.58</td>\n",
              "      <td>0.58</td>\n",
              "      <td>0.57</td>\n",
              "      <td>0.01</td>\n",
              "    </tr>\n",
              "    <tr>\n",
              "      <th>9</th>\n",
              "      <td>ExtraTreesClassifier</td>\n",
              "      <td>0.58</td>\n",
              "      <td>0.58</td>\n",
              "      <td>0.58</td>\n",
              "      <td>0.58</td>\n",
              "      <td>0.16</td>\n",
              "    </tr>\n",
              "    <tr>\n",
              "      <th>10</th>\n",
              "      <td>BaggingClassifier</td>\n",
              "      <td>0.57</td>\n",
              "      <td>0.57</td>\n",
              "      <td>0.57</td>\n",
              "      <td>0.57</td>\n",
              "      <td>0.05</td>\n",
              "    </tr>\n",
              "    <tr>\n",
              "      <th>11</th>\n",
              "      <td>ExtraTreeClassifier</td>\n",
              "      <td>0.56</td>\n",
              "      <td>0.56</td>\n",
              "      <td>0.56</td>\n",
              "      <td>0.56</td>\n",
              "      <td>0.01</td>\n",
              "    </tr>\n",
              "    <tr>\n",
              "      <th>12</th>\n",
              "      <td>QuadraticDiscriminantAnalysis</td>\n",
              "      <td>0.55</td>\n",
              "      <td>0.55</td>\n",
              "      <td>0.55</td>\n",
              "      <td>0.55</td>\n",
              "      <td>0.01</td>\n",
              "    </tr>\n",
              "    <tr>\n",
              "      <th>13</th>\n",
              "      <td>XGBClassifier</td>\n",
              "      <td>0.54</td>\n",
              "      <td>0.54</td>\n",
              "      <td>0.54</td>\n",
              "      <td>0.54</td>\n",
              "      <td>0.08</td>\n",
              "    </tr>\n",
              "    <tr>\n",
              "      <th>14</th>\n",
              "      <td>CalibratedClassifierCV</td>\n",
              "      <td>0.53</td>\n",
              "      <td>0.52</td>\n",
              "      <td>0.52</td>\n",
              "      <td>0.45</td>\n",
              "      <td>0.09</td>\n",
              "    </tr>\n",
              "    <tr>\n",
              "      <th>15</th>\n",
              "      <td>PassiveAggressiveClassifier</td>\n",
              "      <td>0.49</td>\n",
              "      <td>0.49</td>\n",
              "      <td>0.49</td>\n",
              "      <td>0.49</td>\n",
              "      <td>0.01</td>\n",
              "    </tr>\n",
              "    <tr>\n",
              "      <th>16</th>\n",
              "      <td>DecisionTreeClassifier</td>\n",
              "      <td>0.48</td>\n",
              "      <td>0.48</td>\n",
              "      <td>0.48</td>\n",
              "      <td>0.48</td>\n",
              "      <td>0.02</td>\n",
              "    </tr>\n",
              "    <tr>\n",
              "      <th>17</th>\n",
              "      <td>GaussianNB</td>\n",
              "      <td>0.48</td>\n",
              "      <td>0.48</td>\n",
              "      <td>0.48</td>\n",
              "      <td>0.47</td>\n",
              "      <td>0.01</td>\n",
              "    </tr>\n",
              "    <tr>\n",
              "      <th>18</th>\n",
              "      <td>NuSVC</td>\n",
              "      <td>0.47</td>\n",
              "      <td>0.47</td>\n",
              "      <td>0.47</td>\n",
              "      <td>0.47</td>\n",
              "      <td>0.08</td>\n",
              "    </tr>\n",
              "    <tr>\n",
              "      <th>19</th>\n",
              "      <td>NearestCentroid</td>\n",
              "      <td>0.46</td>\n",
              "      <td>0.46</td>\n",
              "      <td>0.46</td>\n",
              "      <td>0.46</td>\n",
              "      <td>0.01</td>\n",
              "    </tr>\n",
              "    <tr>\n",
              "      <th>20</th>\n",
              "      <td>DummyClassifier</td>\n",
              "      <td>0.46</td>\n",
              "      <td>0.46</td>\n",
              "      <td>0.46</td>\n",
              "      <td>0.46</td>\n",
              "      <td>0.01</td>\n",
              "    </tr>\n",
              "    <tr>\n",
              "      <th>21</th>\n",
              "      <td>RidgeClassifier</td>\n",
              "      <td>0.45</td>\n",
              "      <td>0.45</td>\n",
              "      <td>0.45</td>\n",
              "      <td>0.45</td>\n",
              "      <td>0.01</td>\n",
              "    </tr>\n",
              "    <tr>\n",
              "      <th>22</th>\n",
              "      <td>RidgeClassifierCV</td>\n",
              "      <td>0.45</td>\n",
              "      <td>0.45</td>\n",
              "      <td>0.45</td>\n",
              "      <td>0.45</td>\n",
              "      <td>0.01</td>\n",
              "    </tr>\n",
              "    <tr>\n",
              "      <th>23</th>\n",
              "      <td>LogisticRegression</td>\n",
              "      <td>0.45</td>\n",
              "      <td>0.45</td>\n",
              "      <td>0.45</td>\n",
              "      <td>0.45</td>\n",
              "      <td>0.02</td>\n",
              "    </tr>\n",
              "    <tr>\n",
              "      <th>24</th>\n",
              "      <td>LinearDiscriminantAnalysis</td>\n",
              "      <td>0.45</td>\n",
              "      <td>0.45</td>\n",
              "      <td>0.45</td>\n",
              "      <td>0.45</td>\n",
              "      <td>0.02</td>\n",
              "    </tr>\n",
              "    <tr>\n",
              "      <th>25</th>\n",
              "      <td>LinearSVC</td>\n",
              "      <td>0.45</td>\n",
              "      <td>0.45</td>\n",
              "      <td>0.45</td>\n",
              "      <td>0.45</td>\n",
              "      <td>0.03</td>\n",
              "    </tr>\n",
              "    <tr>\n",
              "      <th>26</th>\n",
              "      <td>Perceptron</td>\n",
              "      <td>0.41</td>\n",
              "      <td>0.42</td>\n",
              "      <td>0.42</td>\n",
              "      <td>0.30</td>\n",
              "      <td>0.01</td>\n",
              "    </tr>\n",
              "  </tbody>\n",
              "</table>\n",
              "</div>"
            ],
            "text/plain": [
              "                            Model  Accuracy  ...  F1 Score  Time Taken\n",
              "0                  LGBMClassifier      0.63  ...      0.63        0.08\n",
              "1            KNeighborsClassifier      0.61  ...      0.61        0.01\n",
              "2                             SVC      0.60  ...      0.60        0.05\n",
              "3                     BernoulliNB      0.60  ...      0.58        0.01\n",
              "4                  LabelSpreading      0.59  ...      0.59        0.08\n",
              "5                LabelPropagation      0.59  ...      0.59        0.06\n",
              "6          RandomForestClassifier      0.59  ...      0.59        0.24\n",
              "7              AdaBoostClassifier      0.59  ...      0.59        0.10\n",
              "8                   SGDClassifier      0.59  ...      0.57        0.01\n",
              "9            ExtraTreesClassifier      0.58  ...      0.58        0.16\n",
              "10              BaggingClassifier      0.57  ...      0.57        0.05\n",
              "11            ExtraTreeClassifier      0.56  ...      0.56        0.01\n",
              "12  QuadraticDiscriminantAnalysis      0.55  ...      0.55        0.01\n",
              "13                  XGBClassifier      0.54  ...      0.54        0.08\n",
              "14         CalibratedClassifierCV      0.53  ...      0.45        0.09\n",
              "15    PassiveAggressiveClassifier      0.49  ...      0.49        0.01\n",
              "16         DecisionTreeClassifier      0.48  ...      0.48        0.02\n",
              "17                     GaussianNB      0.48  ...      0.47        0.01\n",
              "18                          NuSVC      0.47  ...      0.47        0.08\n",
              "19                NearestCentroid      0.46  ...      0.46        0.01\n",
              "20                DummyClassifier      0.46  ...      0.46        0.01\n",
              "21                RidgeClassifier      0.45  ...      0.45        0.01\n",
              "22              RidgeClassifierCV      0.45  ...      0.45        0.01\n",
              "23             LogisticRegression      0.45  ...      0.45        0.02\n",
              "24     LinearDiscriminantAnalysis      0.45  ...      0.45        0.02\n",
              "25                      LinearSVC      0.45  ...      0.45        0.03\n",
              "26                     Perceptron      0.41  ...      0.30        0.01\n",
              "\n",
              "[27 rows x 6 columns]"
            ]
          },
          "metadata": {
            "tags": []
          },
          "execution_count": 47
        }
      ]
    },
    {
      "cell_type": "code",
      "metadata": {
        "id": "SAjBgZkksqEj"
      },
      "source": [
        ""
      ],
      "execution_count": null,
      "outputs": []
    }
  ]
}