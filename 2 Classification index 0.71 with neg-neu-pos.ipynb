{
  "nbformat": 4,
  "nbformat_minor": 0,
  "metadata": {
    "colab": {
      "name": "scratchpad",
      "provenance": [],
      "machine_shape": "hm",
      "include_colab_link": true
    },
    "kernelspec": {
      "display_name": "Python 3",
      "name": "python3"
    },
    "accelerator": "GPU"
  },
  "cells": [
    {
      "cell_type": "markdown",
      "metadata": {
        "id": "view-in-github",
        "colab_type": "text"
      },
      "source": [
        "<a href=\"https://colab.research.google.com/github/pratik-poudel/financial_news_stock/blob/master/2%20Classification%20index%200.71%20with%20neg-neu-pos.ipynb\" target=\"_parent\"><img src=\"https://colab.research.google.com/assets/colab-badge.svg\" alt=\"Open In Colab\"/></a>"
      ]
    },
    {
      "cell_type": "code",
      "metadata": {
        "id": "0jGP6ocnmwnZ"
      },
      "source": [
        "!pip install mlxtend --upgrade"
      ],
      "execution_count": null,
      "outputs": []
    },
    {
      "cell_type": "code",
      "metadata": {
        "id": "lIYdn1woOS1n"
      },
      "source": [
        "import numpy as np\n",
        "import pandas as pd\n",
        "import matplotlib.pyplot as plt\n",
        "\n",
        "\n",
        "\n",
        "import tensorflow as tf\n",
        "import tensorflow_datasets as tfds\n",
        "\n",
        "from tensorflow.keras.preprocessing.text import Tokenizer\n",
        "from tensorflow.keras.preprocessing.sequence import pad_sequences\n",
        "\n",
        "from tensorflow.keras.models import Sequential\n",
        "from tensorflow.keras.layers import Embedding, Dropout, Bidirectional,LSTM, GlobalMaxPool1D, Dense\n",
        "from tensorflow.keras.utils import to_categorical, plot_model\n",
        "\n",
        "\n",
        "from sklearn.model_selection import train_test_split\n",
        "from sklearn.preprocessing import LabelEncoder\n",
        "from sklearn.metrics import confusion_matrix, roc_curve, roc_auc_score, accuracy_score,precision_recall_fscore_support\n",
        "from sklearn.utils import resample, shuffle\n",
        "\n",
        "\n",
        "from mlxtend.plotting import plot_confusion_matrix\n",
        "import warnings \n",
        "warnings.filterwarnings('ignore')"
      ],
      "execution_count": 253,
      "outputs": []
    },
    {
      "cell_type": "markdown",
      "metadata": {
        "id": "dUTvPQ9vRok2"
      },
      "source": [
        "# Financial Phrase Bank "
      ]
    },
    {
      "cell_type": "code",
      "metadata": {
        "id": "4u2s5DZARoL6"
      },
      "source": [
        "fin_data = pd.read_table('/content/Sentences_50Agree.txt', delimiter='\\r\\n')"
      ],
      "execution_count": 254,
      "outputs": []
    },
    {
      "cell_type": "code",
      "metadata": {
        "id": "OQdubjqSRoIp"
      },
      "source": [
        "values = np.array([fin_data.values[i][0].split('@') for i in range(fin_data.shape[0])])\n",
        "data = pd.DataFrame({'sentence': values[:, 0], 'sentiment':values[:, 1]})"
      ],
      "execution_count": 255,
      "outputs": []
    },
    {
      "cell_type": "code",
      "metadata": {
        "id": "slCvtjgNRoFN",
        "colab": {
          "base_uri": "https://localhost:8080/",
          "height": 145
        },
        "outputId": "908a2d3b-eef9-4592-b670-cdcbba701c40"
      },
      "source": [
        "data.head(2)"
      ],
      "execution_count": 256,
      "outputs": [
        {
          "output_type": "execute_result",
          "data": {
            "text/html": [
              "<div>\n",
              "<style scoped>\n",
              "    .dataframe tbody tr th:only-of-type {\n",
              "        vertical-align: middle;\n",
              "    }\n",
              "\n",
              "    .dataframe tbody tr th {\n",
              "        vertical-align: top;\n",
              "    }\n",
              "\n",
              "    .dataframe thead th {\n",
              "        text-align: right;\n",
              "    }\n",
              "</style>\n",
              "<table border=\"1\" class=\"dataframe\">\n",
              "  <thead>\n",
              "    <tr style=\"text-align: right;\">\n",
              "      <th></th>\n",
              "      <th>sentence</th>\n",
              "      <th>sentiment</th>\n",
              "    </tr>\n",
              "  </thead>\n",
              "  <tbody>\n",
              "    <tr>\n",
              "      <th>0</th>\n",
              "      <td>Technopolis plans to develop in stages an area of no less than 100,000 square meters in order to host companies working in computer technologies and telecommunications , the statement said .</td>\n",
              "      <td>neutral</td>\n",
              "    </tr>\n",
              "    <tr>\n",
              "      <th>1</th>\n",
              "      <td>The international electronic industry company Elcoteq has laid off tens of employees from its Tallinn facility ; contrary to earlier layoffs the company contracted the ranks of its office workers , the daily Postimees reported .</td>\n",
              "      <td>negative</td>\n",
              "    </tr>\n",
              "  </tbody>\n",
              "</table>\n",
              "</div>"
            ],
            "text/plain": [
              "                                                                                                                                                                                                                               sentence sentiment\n",
              "0  Technopolis plans to develop in stages an area of no less than 100,000 square meters in order to host companies working in computer technologies and telecommunications , the statement said .                                        neutral \n",
              "1  The international electronic industry company Elcoteq has laid off tens of employees from its Tallinn facility ; contrary to earlier layoffs the company contracted the ranks of its office workers , the daily Postimees reported .  negative"
            ]
          },
          "metadata": {
            "tags": []
          },
          "execution_count": 256
        }
      ]
    },
    {
      "cell_type": "code",
      "metadata": {
        "id": "8cUSOhJCRoBo",
        "colab": {
          "base_uri": "https://localhost:8080/",
          "height": 302
        },
        "outputId": "954c78b6-9a1f-47b5-897d-0ab64bf3c846"
      },
      "source": [
        "data['sentiment'].value_counts().plot(kind='bar')\n",
        "plt.show()"
      ],
      "execution_count": 257,
      "outputs": [
        {
          "output_type": "display_data",
          "data": {
            "image/png": "[encoded data removed]",
            "text/plain": [
              "<Figure size 432x288 with 1 Axes>"
            ]
          },
          "metadata": {
            "tags": [],
            "needs_background": "light"
          }
        }
      ]
    },
    {
      "cell_type": "code",
      "metadata": {
        "id": "fxyIdicGpwZS"
      },
      "source": [
        "X= data.sentence\n",
        "y = data.sentiment\n",
        "# neu = y[y == 'neutral'].index\n",
        "# X= X.drop(neu)\n",
        "# y = y.drop(neu)\n",
        "X_train, X_test, y_train, y_test = train_test_split(X, y, stratify=y, random_state=60, test_size=0.2)"
      ],
      "execution_count": 258,
      "outputs": []
    },
    {
      "cell_type": "code",
      "metadata": {
        "id": "Kju4Yok6Vzyw",
        "colab": {
          "base_uri": "https://localhost:8080/"
        },
        "outputId": "8fefa26e-211b-4d81-c905-66006fb6e8ee"
      },
      "source": [
        "X_train.shape, X_test.shape, X.shape"
      ],
      "execution_count": 259,
      "outputs": [
        {
          "output_type": "execute_result",
          "data": {
            "text/plain": [
              "((3876,), (969,), (4845,))"
            ]
          },
          "metadata": {
            "tags": []
          },
          "execution_count": 259
        }
      ]
    },
    {
      "cell_type": "code",
      "metadata": {
        "id": "NyWPP77F9k1I"
      },
      "source": [
        "neu_index = y_train[y_train == 'neutral'].index\n",
        "pos_index = y_train[y_train == 'positive'].index\n",
        "neg_index = y_train[y_train == 'negative'].index"
      ],
      "execution_count": 260,
      "outputs": []
    },
    {
      "cell_type": "code",
      "metadata": {
        "id": "ODCDkrzN9nCL"
      },
      "source": [
        "\n",
        "# Down-sample neutral class\n",
        "X_train_neu, y_train_neu = resample(X_train.loc[neu_index], y_train.loc[neu_index],\n",
        "                                    n_samples=len(pos_index), replace=False,\n",
        "                                    random_state=60)\n",
        "\n",
        "# Up-sample negative class\n",
        "X_train_neg, y_train_neg = resample(X_train.loc[neg_index], y_train.loc[neg_index],\n",
        "                                    n_samples=len(pos_index), replace=True,\n",
        "                                    random_state=60)"
      ],
      "execution_count": 262,
      "outputs": []
    },
    {
      "cell_type": "code",
      "metadata": {
        "id": "44cl_AYp9m_H",
        "colab": {
          "base_uri": "https://localhost:8080/"
        },
        "outputId": "00420279-85fe-4cc2-f3d1-42d7ac44c672"
      },
      "source": [
        "# Combine resampled classes\n",
        "X_train_resample = X_train.loc[pos_index].append([X_train_neu, X_train_neg])\n",
        "y_train_resample = y_train.loc[pos_index].append([y_train_neu, y_train_neg])\n",
        "\n",
        "# Shuffle samples\n",
        "X_train_resample, y_train_resample = shuffle(X_train_resample, y_train_resample, random_state=7)\n",
        "\n",
        "# Display new class counts\n",
        "print(y_train_resample.value_counts())"
      ],
      "execution_count": 263,
      "outputs": [
        {
          "output_type": "stream",
          "text": [
            "neutral     1090\n",
            "negative    1090\n",
            "positive    1090\n",
            "Name: sentiment, dtype: int64\n"
          ],
          "name": "stdout"
        }
      ]
    },
    {
      "cell_type": "code",
      "metadata": {
        "id": "WLxzvAGa8m7K"
      },
      "source": [
        "# X_train = X_train.loc[pos_index].append(X_train_neg)\n",
        "# y_train = y_train.loc[pos_index].append(y_train_neg)\n",
        "# X_train, y_train = shuffle(X_train, y_train, random_state=60)"
      ],
      "execution_count": 264,
      "outputs": []
    },
    {
      "cell_type": "code",
      "metadata": {
        "colab": {
          "base_uri": "https://localhost:8080/"
        },
        "id": "ZlDOdAjQ8q0V",
        "outputId": "e6c73fb5-7a04-44f9-be45-df32bad4134c"
      },
      "source": [
        "y_test.value_counts()"
      ],
      "execution_count": 265,
      "outputs": [
        {
          "output_type": "execute_result",
          "data": {
            "text/plain": [
              "neutral     575\n",
              "positive    273\n",
              "negative    121\n",
              "Name: sentiment, dtype: int64"
            ]
          },
          "metadata": {
            "tags": []
          },
          "execution_count": 265
        }
      ]
    },
    {
      "cell_type": "code",
      "metadata": {
        "id": "hEZVRsUJOaX-",
        "outputId": "6c0c0d16-ceb6-4015-c6d2-10bbed20268b",
        "colab": {
          "base_uri": "https://localhost:8080/"
        }
      },
      "source": [
        "X_train_resample.shape, y_train_resample.shape"
      ],
      "execution_count": 282,
      "outputs": [
        {
          "output_type": "execute_result",
          "data": {
            "text/plain": [
              "((3270,), (3270,))"
            ]
          },
          "metadata": {
            "tags": []
          },
          "execution_count": 282
        }
      ]
    },
    {
      "cell_type": "markdown",
      "metadata": {
        "id": "CbxLax-jWVoy"
      },
      "source": [
        "# Prepare Data for model"
      ]
    },
    {
      "cell_type": "code",
      "metadata": {
        "id": "o7UChC8JWgIq"
      },
      "source": [
        "# Remove Punctuation and assign integer to each word\n",
        "tokenizer = Tokenizer()\n",
        "tokenizer.fit_on_texts(X_train_resample)\n",
        "X_train_seq = tokenizer.texts_to_sequences(X_train_resample)\n",
        "X_test_seq = tokenizer.texts_to_sequences(X_test)"
      ],
      "execution_count": 296,
      "outputs": []
    },
    {
      "cell_type": "code",
      "metadata": {
        "id": "WfblAUy2WgI7"
      },
      "source": [
        "# Make sequences of equal length \n",
        "max_len = np.max([len(X_train_seq[i]) for i in range(len(X_train_seq))])\n",
        "X_train_seq = pad_sequences(X_train_seq, maxlen=max_len)\n",
        "X_test_seq = pad_sequences(X_test_seq, maxlen=max_len)"
      ],
      "execution_count": 298,
      "outputs": []
    },
    {
      "cell_type": "code",
      "metadata": {
        "colab": {
          "base_uri": "https://localhost:8080/"
        },
        "id": "9TCWLyfvWgI8",
        "outputId": "bac34210-02cb-4e45-f508-03c1ad833323"
      },
      "source": [
        "X_train_seq.shape"
      ],
      "execution_count": 299,
      "outputs": [
        {
          "output_type": "execute_result",
          "data": {
            "text/plain": [
              "(3270, 71)"
            ]
          },
          "metadata": {
            "tags": []
          },
          "execution_count": 299
        }
      ]
    },
    {
      "cell_type": "code",
      "metadata": {
        "id": "uAwMS-K-WgI-"
      },
      "source": [
        "# Convert sentiment values to one hot encoded for Keras model\n",
        "le = LabelEncoder()\n",
        "le.fit(y_train_resample)\n",
        "y_train_seq = to_categorical(le.transform(y_train_resample))\n",
        "y_test_seq = to_categorical(le.transform(y_test))"
      ],
      "execution_count": 300,
      "outputs": []
    },
    {
      "cell_type": "code",
      "metadata": {
        "id": "1cY_gk6L9_0r",
        "colab": {
          "base_uri": "https://localhost:8080/"
        },
        "outputId": "df6a8bb6-d919-490b-b7b9-a5822be67e46"
      },
      "source": [
        "le.classes_"
      ],
      "execution_count": 301,
      "outputs": [
        {
          "output_type": "execute_result",
          "data": {
            "text/plain": [
              "array(['negative', 'neutral', 'positive'], dtype=object)"
            ]
          },
          "metadata": {
            "tags": []
          },
          "execution_count": 301
        }
      ]
    },
    {
      "cell_type": "markdown",
      "metadata": {
        "id": "-i0nraavVn0q"
      },
      "source": [
        "# EMBEDDINGS"
      ]
    },
    {
      "cell_type": "code",
      "metadata": {
        "id": "m-sKHgtlVhyG",
        "colab": {
          "base_uri": "https://localhost:8080/"
        },
        "outputId": "97295044-90f2-4360-c023-78f46a9bf96c"
      },
      "source": [
        "# !wget http://nlp.stanford.edu/data/glove.6B.zip\n",
        "# !unzip glove.6B.zip"
      ],
      "execution_count": 16,
      "outputs": [
        {
          "output_type": "stream",
          "text": [
            "--2021-03-21 03:31:04--  http://nlp.stanford.edu/data/glove.6B.zip\n",
            "Resolving nlp.stanford.edu (nlp.stanford.edu)... 171.64.67.140\n",
            "Connecting to nlp.stanford.edu (nlp.stanford.edu)|171.64.67.140|:80... connected.\n",
            "HTTP request sent, awaiting response... 302 Found\n",
            "Location: https://nlp.stanford.edu/data/glove.6B.zip [following]\n",
            "--2021-03-21 03:31:04--  https://nlp.stanford.edu/data/glove.6B.zip\n",
            "Connecting to nlp.stanford.edu (nlp.stanford.edu)|171.64.67.140|:443... connected.\n",
            "HTTP request sent, awaiting response... 301 Moved Permanently\n",
            "Location: http://downloads.cs.stanford.edu/nlp/data/glove.6B.zip [following]\n",
            "--2021-03-21 03:31:05--  http://downloads.cs.stanford.edu/nlp/data/glove.6B.zip\n",
            "Resolving downloads.cs.stanford.edu (downloads.cs.stanford.edu)... 171.64.64.22\n",
            "Connecting to downloads.cs.stanford.edu (downloads.cs.stanford.edu)|171.64.64.22|:80... connected.\n",
            "HTTP request sent, awaiting response... 200 OK\n",
            "Length: 862182613 (822M) [application/zip]\n",
            "Saving to: ‘glove.6B.zip’\n",
            "\n",
            "glove.6B.zip        100%[===================>] 822.24M  5.02MB/s    in 2m 40s  \n",
            "\n",
            "2021-03-21 03:33:44 (5.14 MB/s) - ‘glove.6B.zip’ saved [862182613/862182613]\n",
            "\n",
            "Archive:  glove.6B.zip\n",
            "  inflating: glove.6B.50d.txt        \n",
            "  inflating: glove.6B.100d.txt       \n",
            "  inflating: glove.6B.200d.txt       \n",
            "  inflating: glove.6B.300d.txt       \n"
          ],
          "name": "stdout"
        }
      ]
    },
    {
      "cell_type": "code",
      "metadata": {
        "id": "OgVf4Ta6Wl9n"
      },
      "source": [
        "dict_w2v = {}\n",
        "with open('/content/glove.6B.100d.txt', 'r') as file:\n",
        "    for line in file:\n",
        "        tokens = line.split()\n",
        "        word = tokens[0]\n",
        "        vector = np.array(tokens[1:], dtype=np.float32)\n",
        "        if vector.shape[0] == 100:\n",
        "            dict_w2v[word] = vector\n",
        "        else:\n",
        "            print(\"There is issue with \" + word)"
      ],
      "execution_count": 302,
      "outputs": []
    },
    {
      "cell_type": "code",
      "metadata": {
        "id": "EldWTnWtWl61",
        "colab": {
          "base_uri": "https://localhost:8080/"
        },
        "outputId": "2c3fbc2f-f6c7-42e4-ccb0-e2ad3a4df968"
      },
      "source": [
        "print(\"dictionary size :\" ,len(dict_w2v) )"
      ],
      "execution_count": 286,
      "outputs": [
        {
          "output_type": "stream",
          "text": [
            "dictionary size : 400000\n"
          ],
          "name": "stdout"
        }
      ]
    },
    {
      "cell_type": "code",
      "metadata": {
        "id": "O1IKoy3EWl3_",
        "colab": {
          "base_uri": "https://localhost:8080/"
        },
        "outputId": "ebef7b24-e397-48a1-a65a-724ecbaa3304"
      },
      "source": [
        "words_found = set()\n",
        "words_not_found = set()\n",
        "for word in tokenizer.word_index:\n",
        "    vec = dict_w2v.get(word)\n",
        "    if vec is not None:\n",
        "        words_found.add(word)\n",
        "    else:\n",
        "        words_not_found.add(word)\n",
        "len(words_found), len(words_not_found), len(tokenizer.word_index)"
      ],
      "execution_count": 303,
      "outputs": [
        {
          "output_type": "execute_result",
          "data": {
            "text/plain": [
              "(6187, 918, 7105)"
            ]
          },
          "metadata": {
            "tags": []
          },
          "execution_count": 303
        }
      ]
    },
    {
      "cell_type": "code",
      "metadata": {
        "id": "8zDycGo2jsF5"
      },
      "source": [
        "EMBEDDING_DIM = 100\n",
        "VOCAB_SIZE = len(tokenizer.word_index)\n",
        "embedding_matrix = np.zeros((VOCAB_SIZE +1, EMBEDDING_DIM))"
      ],
      "execution_count": 304,
      "outputs": []
    },
    {
      "cell_type": "code",
      "metadata": {
        "id": "P1ZAm1Kdjr-I",
        "colab": {
          "base_uri": "https://localhost:8080/"
        },
        "outputId": "f0e3034d-4152-4305-824c-f34c761ad111"
      },
      "source": [
        "unk_cnt = 0\n",
        "unk_set = set()\n",
        "for word, i in tokenizer.word_index.items():\n",
        "    emb_vector = dict_w2v.get(word)\n",
        "    if emb_vector is not None:\n",
        "        embedding_matrix[i] = emb_vector\n",
        "    else:\n",
        "        unk_cnt += 1\n",
        "        unk_set.add(word)\n",
        "unk_cnt"
      ],
      "execution_count": 305,
      "outputs": [
        {
          "output_type": "execute_result",
          "data": {
            "text/plain": [
              "918"
            ]
          },
          "metadata": {
            "tags": []
          },
          "execution_count": 305
        }
      ]
    },
    {
      "cell_type": "code",
      "metadata": {
        "id": "snkNNeOXgsEd",
        "colab": {
          "base_uri": "https://localhost:8080/"
        },
        "outputId": "62031357-f744-47a7-a11a-c75d3a6e4146"
      },
      "source": [
        "X_train_seq.shape, y_train_seq.shape"
      ],
      "execution_count": 306,
      "outputs": [
        {
          "output_type": "execute_result",
          "data": {
            "text/plain": [
              "((3270, 71), (3270, 3))"
            ]
          },
          "metadata": {
            "tags": []
          },
          "execution_count": 306
        }
      ]
    },
    {
      "cell_type": "code",
      "metadata": {
        "id": "6llz2rAam3BI",
        "colab": {
          "base_uri": "https://localhost:8080/",
          "height": 1000
        },
        "outputId": "8a764118-6d0b-49a8-bf15-ca665bb6254f"
      },
      "source": [
        "np.random.seed(60)\n",
        "from tensorflow.keras.callbacks import EarlyStopping, ModelCheckpoint\n",
        "\n",
        "model = Sequential()\n",
        "model.add(Embedding(VOCAB_SIZE +1, EMBEDDING_DIM, weights=[embedding_matrix],input_length=max_len, trainable=False))\n",
        "model.add(Dropout(0.25))\n",
        "model.add(Bidirectional(LSTM(200, return_sequences=True), merge_mode='concat')) #{\"sum\", \"mul\", \"ave\", \"concat\", None}\n",
        "model.add(Dropout(0.25))\n",
        "model.add(GlobalMaxPool1D())\n",
        "model.add(Dense(50, activation='sigmoid'))\n",
        "model.add(Dropout(0.25))\n",
        "model.add(Dense(3, activation='softmax'))\n",
        "model.compile(loss='categorical_crossentropy', optimizer='rmsprop', metrics=[ \n",
        "                                                                            #  'Precision',                                                        \n",
        "                                                                             'Recall',\n",
        "                                                                            #  'accuracy'\n",
        "                                                                             ])\n",
        "# model.summary()\n",
        "\n",
        "early_stopping = EarlyStopping(monitor='val_loss', mode='min', verbose=1, patience=25)\n",
        "mcp_save = ModelCheckpoint('./model.hdf5', save_best_only=True, monitor='val_loss', mode='min')\n",
        "\n",
        "\n",
        "batch_size = 64\n",
        "epochs = 100\n",
        "\n",
        "\n",
        "history = model.fit(X_train_seq, y_train_seq, epochs=epochs, batch_size=batch_size,verbose=1, validation_data=(X_test_seq, y_test_seq), \n",
        "                    callbacks=[early_stopping, mcp_save], shuffle=False)\n",
        "\n",
        "\n",
        "%matplotlib inline\n",
        "def plot_metric(history, metric):\n",
        "    train_metrics = history.history[metric]\n",
        "    val_metrics = history.history['val_'+metric]\n",
        "    epochs = range(1, len(train_metrics) + 1)\n",
        "    plt.plot(epochs, train_metrics)\n",
        "    plt.plot(epochs, val_metrics)\n",
        "    plt.title('Training and validation '+ metric)\n",
        "    plt.xlabel(\"Epochs\")\n",
        "    plt.ylabel(metric)\n",
        "    plt.legend([\"train_\"+metric, 'val_'+metric])\n",
        "    plt.show()\n",
        "\n",
        "plot_metric(history, 'loss')\n",
        "\n",
        "\n",
        "model.load_weights('model.hdf5')\n",
        "\n",
        "preds = model.predict(X_test_seq, batch_size=batch_size)\n",
        "true_y = np.argmax(y_test_seq, axis=1)\n",
        "pred_y = np.argmax(preds, axis=1)\n",
        "\n",
        "c_mat = confusion_matrix(true_y, pred_y)\n",
        "plot_confusion_matrix(c_mat, cmap='Blues', class_names = le.classes_, figsize=(5, 5))\n",
        "plt.show()\n",
        "\n",
        "p, r, f1, s = precision_recall_fscore_support(true_y, pred_y, average=None)\n",
        "\n",
        "# Print precision, recall, f1 score and support\n",
        "results = pd.DataFrame({'1-Precision': p, '2-Recall': r, '3-F1 score': f1, '4-Support': s}, index=le.classes_)\n",
        "\n",
        "# Print precision, recall, f1 score and support\n",
        "print(results.round(decimals=3))"
      ],
      "execution_count": 307,
      "outputs": [
        {
          "output_type": "stream",
          "text": [
            "Epoch 1/100\n",
            "52/52 [==============================] - 4s 30ms/step - loss: 1.0826 - recall: 0.1917 - val_loss: 0.8197 - val_recall: 0.4933\n",
            "Epoch 2/100\n",
            "52/52 [==============================] - 1s 17ms/step - loss: 0.9074 - recall: 0.3984 - val_loss: 0.8047 - val_recall: 0.4871\n",
            "Epoch 3/100\n",
            "52/52 [==============================] - 1s 17ms/step - loss: 0.8247 - recall: 0.5045 - val_loss: 0.7487 - val_recall: 0.5666\n",
            "Epoch 4/100\n",
            "52/52 [==============================] - 1s 17ms/step - loss: 0.7710 - recall: 0.5631 - val_loss: 0.6525 - val_recall: 0.6574\n",
            "Epoch 5/100\n",
            "52/52 [==============================] - 1s 17ms/step - loss: 0.7074 - recall: 0.6210 - val_loss: 0.7063 - val_recall: 0.6192\n",
            "Epoch 6/100\n",
            "52/52 [==============================] - 1s 17ms/step - loss: 0.6734 - recall: 0.6615 - val_loss: 0.6345 - val_recall: 0.6749\n",
            "Epoch 7/100\n",
            "52/52 [==============================] - 1s 17ms/step - loss: 0.6300 - recall: 0.6827 - val_loss: 0.7091 - val_recall: 0.6471\n",
            "Epoch 8/100\n",
            "52/52 [==============================] - 1s 17ms/step - loss: 0.5938 - recall: 0.7010 - val_loss: 0.6844 - val_recall: 0.6770\n",
            "Epoch 9/100\n",
            "52/52 [==============================] - 1s 17ms/step - loss: 0.5542 - recall: 0.7378 - val_loss: 0.8109 - val_recall: 0.6068\n",
            "Epoch 10/100\n",
            "52/52 [==============================] - 1s 17ms/step - loss: 0.5375 - recall: 0.7425 - val_loss: 0.6213 - val_recall: 0.7203\n",
            "Epoch 11/100\n",
            "52/52 [==============================] - 1s 17ms/step - loss: 0.4961 - recall: 0.7731 - val_loss: 0.7392 - val_recall: 0.6450\n",
            "Epoch 12/100\n",
            "52/52 [==============================] - 1s 17ms/step - loss: 0.4689 - recall: 0.7877 - val_loss: 0.5864 - val_recall: 0.7389\n",
            "Epoch 13/100\n",
            "52/52 [==============================] - 1s 17ms/step - loss: 0.4312 - recall: 0.8123 - val_loss: 0.6107 - val_recall: 0.7451\n",
            "Epoch 14/100\n",
            "52/52 [==============================] - 1s 17ms/step - loss: 0.3948 - recall: 0.8338 - val_loss: 0.9257 - val_recall: 0.5717\n",
            "Epoch 15/100\n",
            "52/52 [==============================] - 1s 17ms/step - loss: 0.3835 - recall: 0.8413 - val_loss: 0.7021 - val_recall: 0.7028\n",
            "Epoch 16/100\n",
            "52/52 [==============================] - 1s 17ms/step - loss: 0.3530 - recall: 0.8532 - val_loss: 0.6558 - val_recall: 0.7090\n",
            "Epoch 17/100\n",
            "52/52 [==============================] - 1s 17ms/step - loss: 0.3221 - recall: 0.8637 - val_loss: 0.6046 - val_recall: 0.7503\n",
            "Epoch 18/100\n",
            "52/52 [==============================] - 1s 17ms/step - loss: 0.3077 - recall: 0.8717 - val_loss: 0.6772 - val_recall: 0.7234\n",
            "Epoch 19/100\n",
            "52/52 [==============================] - 1s 17ms/step - loss: 0.2861 - recall: 0.8804 - val_loss: 0.7300 - val_recall: 0.7110\n",
            "Epoch 20/100\n",
            "52/52 [==============================] - 1s 17ms/step - loss: 0.2533 - recall: 0.8929 - val_loss: 0.6787 - val_recall: 0.7172\n",
            "Epoch 21/100\n",
            "52/52 [==============================] - 1s 17ms/step - loss: 0.2504 - recall: 0.9041 - val_loss: 0.6993 - val_recall: 0.7234\n",
            "Epoch 22/100\n",
            "52/52 [==============================] - 1s 17ms/step - loss: 0.2252 - recall: 0.9102 - val_loss: 0.6871 - val_recall: 0.7337\n",
            "Epoch 23/100\n",
            "52/52 [==============================] - 1s 17ms/step - loss: 0.2183 - recall: 0.9121 - val_loss: 0.6712 - val_recall: 0.7585\n",
            "Epoch 24/100\n",
            "52/52 [==============================] - 1s 17ms/step - loss: 0.2053 - recall: 0.9239 - val_loss: 0.7388 - val_recall: 0.7224\n",
            "Epoch 25/100\n",
            "52/52 [==============================] - 1s 17ms/step - loss: 0.1774 - recall: 0.9317 - val_loss: 0.6860 - val_recall: 0.7523\n",
            "Epoch 26/100\n",
            "52/52 [==============================] - 1s 17ms/step - loss: 0.1731 - recall: 0.9337 - val_loss: 0.7051 - val_recall: 0.7492\n",
            "Epoch 27/100\n",
            "52/52 [==============================] - 1s 17ms/step - loss: 0.1589 - recall: 0.9388 - val_loss: 0.7520 - val_recall: 0.7296\n",
            "Epoch 28/100\n",
            "52/52 [==============================] - 1s 17ms/step - loss: 0.1430 - recall: 0.9482 - val_loss: 0.7698 - val_recall: 0.7286\n",
            "Epoch 29/100\n",
            "52/52 [==============================] - 1s 17ms/step - loss: 0.1458 - recall: 0.9480 - val_loss: 0.9553 - val_recall: 0.6842\n",
            "Epoch 30/100\n",
            "52/52 [==============================] - 1s 17ms/step - loss: 0.1400 - recall: 0.9484 - val_loss: 0.7521 - val_recall: 0.7492\n",
            "Epoch 31/100\n",
            "52/52 [==============================] - 1s 17ms/step - loss: 0.1209 - recall: 0.9571 - val_loss: 0.8657 - val_recall: 0.7255\n",
            "Epoch 32/100\n",
            "52/52 [==============================] - 1s 17ms/step - loss: 0.1171 - recall: 0.9563 - val_loss: 0.8045 - val_recall: 0.7482\n",
            "Epoch 33/100\n",
            "52/52 [==============================] - 1s 17ms/step - loss: 0.0979 - recall: 0.9643 - val_loss: 0.7429 - val_recall: 0.7492\n",
            "Epoch 34/100\n",
            "52/52 [==============================] - 1s 17ms/step - loss: 0.1163 - recall: 0.9577 - val_loss: 0.8406 - val_recall: 0.7327\n",
            "Epoch 35/100\n",
            "52/52 [==============================] - 1s 17ms/step - loss: 0.1066 - recall: 0.9579 - val_loss: 0.8083 - val_recall: 0.7513\n",
            "Epoch 36/100\n",
            "52/52 [==============================] - 1s 17ms/step - loss: 0.0843 - recall: 0.9685 - val_loss: 1.0252 - val_recall: 0.6945\n",
            "Epoch 37/100\n",
            "52/52 [==============================] - 1s 17ms/step - loss: 0.0894 - recall: 0.9673 - val_loss: 1.0610 - val_recall: 0.6945\n",
            "Epoch 00037: early stopping\n"
          ],
          "name": "stdout"
        },
        {
          "output_type": "display_data",
          "data": {
            "image/png": "[encoded data removed]",
            "text/plain": [
              "<Figure size 432x288 with 1 Axes>"
            ]
          },
          "metadata": {
            "tags": [],
            "needs_background": "light"
          }
        },
        {
          "output_type": "display_data",
          "data": {
            "image/png": "[encoded data removed]",
            "text/plain": [
              "<Figure size 360x360 with 1 Axes>"
            ]
          },
          "metadata": {
            "tags": [],
            "needs_background": "light"
          }
        },
        {
          "output_type": "stream",
          "text": [
            "          1-Precision  2-Recall  3-F1 score  4-Support\n",
            "negative  0.568        0.686     0.622       121      \n",
            "neutral   0.828        0.840     0.834       575      \n",
            "positive  0.679        0.597     0.635       273      \n"
          ],
          "name": "stdout"
        }
      ]
    },
    {
      "cell_type": "code",
      "metadata": {
        "id": "q_VAZZdwo4-W"
      },
      "source": [
        ""
      ],
      "execution_count": null,
      "outputs": []
    },
    {
      "cell_type": "markdown",
      "metadata": {
        "id": "1RzDfejkrMel"
      },
      "source": [
        "# Prepare NEPSE DATA"
      ]
    },
    {
      "cell_type": "code",
      "metadata": {
        "id": "FrMhQqlZn-C8"
      },
      "source": [
        "indices = pd.read_csv('/content/Nepse Indices - Sheet1.csv', header=1)\n",
        "indices.columns= ['no_name', 'date', 'index', 'abs_change', 'pct_change']\n",
        "indices['date'] = pd.to_datetime(indices['date'])\n",
        "indices = indices[indices['date'] < '2019-07-06']"
      ],
      "execution_count": 308,
      "outputs": []
    },
    {
      "cell_type": "code",
      "metadata": {
        "id": "qNsJ8_z0n98P",
        "colab": {
          "base_uri": "https://localhost:8080/"
        },
        "outputId": "767c8d17-93ae-455a-9062-227a0f34bce9"
      },
      "source": [
        "news_df = pd.read_csv('/content/years_combined_df.csv')\n",
        "news_df['date'] = pd.to_datetime(news_df['date'])\n",
        "news_df = news_df[news_df['date'] >= '2014-02-02']\n",
        "news_df.reset_index(drop=True, inplace=True)\n",
        "print(\"Total News Data Scraped :\", news_df.shape[0])"
      ],
      "execution_count": 309,
      "outputs": [
        {
          "output_type": "stream",
          "text": [
            "Total News Data Scraped : 9802\n"
          ],
          "name": "stdout"
        }
      ]
    },
    {
      "cell_type": "code",
      "metadata": {
        "id": "Ov3F8cKM0wlh",
        "colab": {
          "base_uri": "https://localhost:8080/"
        },
        "outputId": "c9288002-2e7a-45e4-8752-4465dfec0518"
      },
      "source": [
        "news_df = news_df[news_df['date'].isin(indices['date'])].reset_index(drop=True)\n",
        "print(\"Total News Data as per Nepse indices trading days \", news_df.shape[0])"
      ],
      "execution_count": 310,
      "outputs": [
        {
          "output_type": "stream",
          "text": [
            "Total News Data as per Nepse indices trading days  6307\n"
          ],
          "name": "stdout"
        }
      ]
    },
    {
      "cell_type": "code",
      "metadata": {
        "colab": {
          "base_uri": "https://localhost:8080/"
        },
        "id": "fTa0ls9u41vV",
        "outputId": "2bbab900-8e08-4b6e-da0e-59252a5d3163"
      },
      "source": [
        "print(\"Total NEPSE Index days: \", indices.shape[0])"
      ],
      "execution_count": 311,
      "outputs": [
        {
          "output_type": "stream",
          "text": [
            "Total NEPSE Index days:  1248\n"
          ],
          "name": "stdout"
        }
      ]
    },
    {
      "cell_type": "code",
      "metadata": {
        "id": "4msgED4p3Bvt",
        "colab": {
          "base_uri": "https://localhost:8080/"
        },
        "outputId": "80893eed-7969-4860-9850-4c5a8effbc1c"
      },
      "source": [
        "indices = indices[indices['date'].isin(news_df['date'])].reset_index(drop=True)\n",
        "print(\"Total NEPSE index matched with News date:\", indices.shape[0])"
      ],
      "execution_count": 312,
      "outputs": [
        {
          "output_type": "stream",
          "text": [
            "Total NEPSE index matched with News date: 1238\n"
          ],
          "name": "stdout"
        }
      ]
    },
    {
      "cell_type": "code",
      "metadata": {
        "id": "Rn2s6qbL3h7u"
      },
      "source": [
        "indices['pct_change'] = indices['pct_change'].str.replace('%', '').astype(float)"
      ],
      "execution_count": 313,
      "outputs": []
    },
    {
      "cell_type": "code",
      "metadata": {
        "id": "xQW8YdPy5V5r"
      },
      "source": [
        "indices['target'] = np.where(indices['pct_change'] < 0 , 0, 1)"
      ],
      "execution_count": 314,
      "outputs": []
    },
    {
      "cell_type": "code",
      "metadata": {
        "id": "dyuBqFhEn926"
      },
      "source": [
        "def prepare_and_predict_news(series, pad_max_len, batch_size):\n",
        "\n",
        "    news = tokenizer.texts_to_sequences(series)\n",
        "    news = pad_sequences(news, pad_max_len)\n",
        "    news = model.predict(news, batch_size=batch_size)\n",
        "    return news"
      ],
      "execution_count": 315,
      "outputs": []
    },
    {
      "cell_type": "code",
      "metadata": {
        "id": "XgJdhmIuz67w"
      },
      "source": [
        "news_sentiment = prepare_and_predict_news(news_df['content'], pad_max_len=max_len, batch_size=batch_size)\n",
        "# news_df['pred_glove_300'] = np.argmax(news_sentiment, axis=1)"
      ],
      "execution_count": 316,
      "outputs": []
    },
    {
      "cell_type": "code",
      "metadata": {
        "id": "9qn18F3PPMmE",
        "outputId": "9ceb58fc-9922-4de7-a0c2-cf8ef5c74fa8",
        "colab": {
          "base_uri": "https://localhost:8080/"
        }
      },
      "source": [
        ""
      ],
      "execution_count": 317,
      "outputs": [
        {
          "output_type": "execute_result",
          "data": {
            "text/plain": [
              "array(['negative', 'neutral', 'positive'], dtype=object)"
            ]
          },
          "metadata": {
            "tags": []
          },
          "execution_count": 317
        }
      ]
    },
    {
      "cell_type": "code",
      "metadata": {
        "id": "0tnByhjkruJW"
      },
      "source": [
        "news_sentiment_df = pd.DataFrame(news_sentiment, columns=le.classes_)"
      ],
      "execution_count": 318,
      "outputs": []
    },
    {
      "cell_type": "code",
      "metadata": {
        "id": "-oMq6pfs8oVm"
      },
      "source": [
        "final_df = pd.concat([news_df, news_sentiment_df], axis=1)"
      ],
      "execution_count": 319,
      "outputs": []
    },
    {
      "cell_type": "code",
      "metadata": {
        "id": "ADr2-x4b3qVi",
        "colab": {
          "base_uri": "https://localhost:8080/",
          "height": 514
        },
        "outputId": "89accca2-9d70-4712-cbd7-eedebda2a663"
      },
      "source": [
        "pd.set_option('max_colwidth', -1)\n",
        "final_df[['content', 'negative', 'neutral','positive']].head(15)"
      ],
      "execution_count": 321,
      "outputs": [
        {
          "output_type": "execute_result",
          "data": {
            "text/html": [
              "<div>\n",
              "<style scoped>\n",
              "    .dataframe tbody tr th:only-of-type {\n",
              "        vertical-align: middle;\n",
              "    }\n",
              "\n",
              "    .dataframe tbody tr th {\n",
              "        vertical-align: top;\n",
              "    }\n",
              "\n",
              "    .dataframe thead th {\n",
              "        text-align: right;\n",
              "    }\n",
              "</style>\n",
              "<table border=\"1\" class=\"dataframe\">\n",
              "  <thead>\n",
              "    <tr style=\"text-align: right;\">\n",
              "      <th></th>\n",
              "      <th>content</th>\n",
              "      <th>negative</th>\n",
              "      <th>neutral</th>\n",
              "      <th>positive</th>\n",
              "    </tr>\n",
              "  </thead>\n",
              "  <tbody>\n",
              "    <tr>\n",
              "      <th>0</th>\n",
              "      <td>Nepal Stock Exchange (Nepse) slid 2.22 points to close at 781.46 points last week.</td>\n",
              "      <td>0.958482</td>\n",
              "      <td>0.008615</td>\n",
              "      <td>0.032902</td>\n",
              "    </tr>\n",
              "    <tr>\n",
              "      <th>1</th>\n",
              "      <td>Moffat Nyirenda is president of Round Table International.</td>\n",
              "      <td>0.045039</td>\n",
              "      <td>0.833332</td>\n",
              "      <td>0.121629</td>\n",
              "    </tr>\n",
              "    <tr>\n",
              "      <th>2</th>\n",
              "      <td>The government has stopped monitoring of shops dealing in readymade garment and shoes although previous inspections have revealed rampant malpractices.</td>\n",
              "      <td>0.539504</td>\n",
              "      <td>0.369079</td>\n",
              "      <td>0.091416</td>\n",
              "    </tr>\n",
              "    <tr>\n",
              "      <th>3</th>\n",
              "      <td>The Ministry of Industry (MoI) is preparing to recommend the Cabinet to declare Pokhara-based Fulbari Resort and Chitwan-based Chitwan Wildlife Lodge</td>\n",
              "      <td>0.004101</td>\n",
              "      <td>0.844081</td>\n",
              "      <td>0.151818</td>\n",
              "    </tr>\n",
              "    <tr>\n",
              "      <th>4</th>\n",
              "      <td>The delivery of Chinese aircraft for Nepal Airlines Corporation (NAC) will be delayed by a month.</td>\n",
              "      <td>0.310606</td>\n",
              "      <td>0.549876</td>\n",
              "      <td>0.139518</td>\n",
              "    </tr>\n",
              "    <tr>\n",
              "      <th>5</th>\n",
              "      <td>Talking about pricey threads, the domestic market will soon get to witness the launch of a suiting brand costing upwards of Rs 300,000.</td>\n",
              "      <td>0.002726</td>\n",
              "      <td>0.937742</td>\n",
              "      <td>0.059532</td>\n",
              "    </tr>\n",
              "    <tr>\n",
              "      <th>6</th>\n",
              "      <td>Cross-border trade with India via Janakpur has come to a complete halt after Janakpur Railway suspended its Janakpur-Jayanagar service.</td>\n",
              "      <td>0.024088</td>\n",
              "      <td>0.614093</td>\n",
              "      <td>0.361818</td>\n",
              "    </tr>\n",
              "    <tr>\n",
              "      <th>7</th>\n",
              "      <td>Fifty-seven percent work has been completed on the much-prioritised 456-MW Upper Tamakoshi Hydropower Project (UTHP).</td>\n",
              "      <td>0.006937</td>\n",
              "      <td>0.791029</td>\n",
              "      <td>0.202034</td>\n",
              "    </tr>\n",
              "    <tr>\n",
              "      <th>8</th>\n",
              "      <td>The government is not in a position to assure the quality of cooking oil due to the lack of technology to determine the quantity of different components of the oil.</td>\n",
              "      <td>0.006689</td>\n",
              "      <td>0.873132</td>\n",
              "      <td>0.120179</td>\n",
              "    </tr>\n",
              "    <tr>\n",
              "      <th>9</th>\n",
              "      <td>NIDC Development Bank won’t be able to hand out the promised 133 percent bonus shares as it has not issued public shares yet.</td>\n",
              "      <td>0.005013</td>\n",
              "      <td>0.947904</td>\n",
              "      <td>0.047083</td>\n",
              "    </tr>\n",
              "    <tr>\n",
              "      <th>10</th>\n",
              "      <td>The real estate sector posted a notable growth in transactions since the beginning of the current fiscal year, indicating a resurgence in the buyers’ confidence.</td>\n",
              "      <td>0.217264</td>\n",
              "      <td>0.050204</td>\n",
              "      <td>0.732532</td>\n",
              "    </tr>\n",
              "    <tr>\n",
              "      <th>11</th>\n",
              "      <td>The arrival of premium Chinese smartphones from technology giants like Huawei, Lenovo and ZTE have changed their market image</td>\n",
              "      <td>0.013957</td>\n",
              "      <td>0.527815</td>\n",
              "      <td>0.458228</td>\n",
              "    </tr>\n",
              "    <tr>\n",
              "      <th>12</th>\n",
              "      <td>Pokhara has emerged as one of the preferred destinations for visitors from the northern neighbour to celebrate the Chinese New Year.</td>\n",
              "      <td>0.015668</td>\n",
              "      <td>0.753060</td>\n",
              "      <td>0.231272</td>\n",
              "    </tr>\n",
              "    <tr>\n",
              "      <th>13</th>\n",
              "      <td>Ncell recorded an 11.3 percent rise in net sales in 2013.</td>\n",
              "      <td>0.063041</td>\n",
              "      <td>0.163047</td>\n",
              "      <td>0.773912</td>\n",
              "    </tr>\n",
              "    <tr>\n",
              "      <th>14</th>\n",
              "      <td>Nepal’s foreign trade is heavily skewed in favour of India, and this dependency on the southern neighbour expanded between the years 2000 to 2010.</td>\n",
              "      <td>0.016187</td>\n",
              "      <td>0.803262</td>\n",
              "      <td>0.180551</td>\n",
              "    </tr>\n",
              "  </tbody>\n",
              "</table>\n",
              "</div>"
            ],
            "text/plain": [
              "                                                                                                                                                                 content  ...  positive\n",
              "0   Nepal Stock Exchange (Nepse) slid 2.22 points to close at 781.46 points last week.                                                                                    ...  0.032902\n",
              "1   Moffat Nyirenda is president of Round Table International.                                                                                                            ...  0.121629\n",
              "2   The government has stopped monitoring of shops dealing in readymade garment and shoes although previous inspections have revealed rampant malpractices.               ...  0.091416\n",
              "3   The Ministry of Industry (MoI) is preparing to recommend the Cabinet to declare Pokhara-based Fulbari Resort and Chitwan-based Chitwan Wildlife Lodge                 ...  0.151818\n",
              "4   The delivery of Chinese aircraft for Nepal Airlines Corporation (NAC) will be delayed by a month.                                                                     ...  0.139518\n",
              "5   Talking about pricey threads, the domestic market will soon get to witness the launch of a suiting brand costing upwards of Rs 300,000.                               ...  0.059532\n",
              "6   Cross-border trade with India via Janakpur has come to a complete halt after Janakpur Railway suspended its Janakpur-Jayanagar service.                               ...  0.361818\n",
              "7   Fifty-seven percent work has been completed on the much-prioritised 456-MW Upper Tamakoshi Hydropower Project (UTHP).                                                 ...  0.202034\n",
              "8   The government is not in a position to assure the quality of cooking oil due to the lack of technology to determine the quantity of different components of the oil.  ...  0.120179\n",
              "9   NIDC Development Bank won’t be able to hand out the promised 133 percent bonus shares as it has not issued public shares yet.                                         ...  0.047083\n",
              "10  The real estate sector posted a notable growth in transactions since the beginning of the current fiscal year, indicating a resurgence in the buyers’ confidence.     ...  0.732532\n",
              "11  The arrival of premium Chinese smartphones from technology giants like Huawei, Lenovo and ZTE have changed their market image                                         ...  0.458228\n",
              "12  Pokhara has emerged as one of the preferred destinations for visitors from the northern neighbour to celebrate the Chinese New Year.                                  ...  0.231272\n",
              "13  Ncell recorded an 11.3 percent rise in net sales in 2013.                                                                                                             ...  0.773912\n",
              "14  Nepal’s foreign trade is heavily skewed in favour of India, and this dependency on the southern neighbour expanded between the years 2000 to 2010.                    ...  0.180551\n",
              "\n",
              "[15 rows x 4 columns]"
            ]
          },
          "metadata": {
            "tags": []
          },
          "execution_count": 321
        }
      ]
    },
    {
      "cell_type": "code",
      "metadata": {
        "id": "2cCNi-Jj3udI"
      },
      "source": [
        "df = pd.merge(final_df, indices, left_on='date', right_on='date')"
      ],
      "execution_count": 322,
      "outputs": []
    },
    {
      "cell_type": "code",
      "metadata": {
        "id": "ZhW1cvPCtalR"
      },
      "source": [
        "indices['negative_mean'] = df.groupby('date')['negative'].apply(np.mean).reset_index(drop=True)\n",
        "indices['neutral_mean'] = df.groupby('date')['neutral'].apply(np.mean).reset_index(drop=True)\n",
        "indices['positive_mean'] = df.groupby('date')['positive'].apply(np.mean).reset_index(drop=True)"
      ],
      "execution_count": 323,
      "outputs": []
    },
    {
      "cell_type": "code",
      "metadata": {
        "id": "F6atn0B4ttap"
      },
      "source": [
        "features = ['negative_mean', 'neutral_mean','positive_mean']"
      ],
      "execution_count": 324,
      "outputs": []
    },
    {
      "cell_type": "code",
      "metadata": {
        "id": "D2LK3-QLttYS"
      },
      "source": [
        "validation_df = indices[indices['date'] > '2018-12-31']\n",
        "train_df = indices[indices['date'] <= '2018-12-31']"
      ],
      "execution_count": 325,
      "outputs": []
    },
    {
      "cell_type": "code",
      "metadata": {
        "id": "kdE8VI26_Thv"
      },
      "source": [
        "Xtrain, ytrain = train_df[features], train_df['target']"
      ],
      "execution_count": 326,
      "outputs": []
    },
    {
      "cell_type": "code",
      "metadata": {
        "id": "M1UMuRrx_a5I"
      },
      "source": [
        "Xtest, ytest = validation_df[features], validation_df['target']"
      ],
      "execution_count": 327,
      "outputs": []
    },
    {
      "cell_type": "code",
      "metadata": {
        "colab": {
          "base_uri": "https://localhost:8080/"
        },
        "id": "1cJIgGScFC-b",
        "outputId": "001a3b48-6707-4e49-9661-1dcc8a371196"
      },
      "source": [
        "Xtrain.shape, ytrain.shape, Xtest.shape, ytest.shape"
      ],
      "execution_count": 328,
      "outputs": [
        {
          "output_type": "execute_result",
          "data": {
            "text/plain": [
              "((1117, 3), (1117,), (121, 3), (121,))"
            ]
          },
          "metadata": {
            "tags": []
          },
          "execution_count": 328
        }
      ]
    },
    {
      "cell_type": "code",
      "metadata": {
        "id": "dsagBRRXJ3s8"
      },
      "source": [
        "def accuracy_metrics(preds, dtrain):\n",
        "\n",
        "    labels = dtrain.get_label()\n",
        "    # print(labels)\n",
        "    # preds = preds.reshape(5, -1).T\n",
        "    preds = np.round(preds)\n",
        "    # f_score = f1_score(labels , preds,  average = 'weighted')\n",
        "    acc_score = accuracy_score(labels, preds)\n",
        "    return 'acc_score', acc_score, True"
      ],
      "execution_count": 329,
      "outputs": []
    },
    {
      "cell_type": "code",
      "metadata": {
        "id": "6Z_GucqNttQ5",
        "colab": {
          "base_uri": "https://localhost:8080/"
        },
        "outputId": "2a5cb0c6-bd16-44f7-f142-002d3c6ce8b0"
      },
      "source": [
        "# Xtrain, Xtest, ytrain, ytest = train_test_split(train_df[features], train_df['target'],\n",
        "#                                                 stratify=train_df['target'],\n",
        "#                                                 random_state=60, test_size=0.2 )\n",
        "\n",
        "\n",
        "params = {\n",
        "'num_leaves': 4,\n",
        "'objective': 'binary',\n",
        "'max_depth': 4,\n",
        "'learning_rate': 0.05,\n",
        "\"boosting_type\": \"gbdt\",\n",
        "\"bagging_seed\": 11,\n",
        "# \"metric\": 'auc',\n",
        "\"verbosity\": -1,\n",
        "'random_state': 60\n",
        "}\n",
        "import lightgbm as lgb\n",
        "tr_data = lgb.Dataset(Xtrain, label=ytrain)\n",
        "va_data = lgb.Dataset(Xtest, label=ytest)\n",
        "\n",
        "model = lgb.train(\n",
        "        params, \n",
        "        tr_data,\n",
        "        num_boost_round=5000,   \n",
        "        valid_sets=[tr_data, va_data],\n",
        "        early_stopping_rounds=50,\n",
        "        feval=accuracy_metrics,   \n",
        "        feature_name=features,\n",
        "        verbose_eval=10\n",
        "    )\n"
      ],
      "execution_count": 330,
      "outputs": [
        {
          "output_type": "stream",
          "text": [
            "Training until validation scores don't improve for 50 rounds.\n",
            "[10]\ttraining's binary_logloss: 0.687078\ttraining's acc_score: 0.537153\tvalid_1's binary_logloss: 0.693196\tvalid_1's acc_score: 0.487603\n",
            "[20]\ttraining's binary_logloss: 0.682872\ttraining's acc_score: 0.567592\tvalid_1's binary_logloss: 0.691304\tvalid_1's acc_score: 0.561983\n",
            "[30]\ttraining's binary_logloss: 0.679167\ttraining's acc_score: 0.572963\tvalid_1's binary_logloss: 0.687153\tvalid_1's acc_score: 0.570248\n",
            "[40]\ttraining's binary_logloss: 0.675931\ttraining's acc_score: 0.580125\tvalid_1's binary_logloss: 0.686151\tvalid_1's acc_score: 0.595041\n",
            "[50]\ttraining's binary_logloss: 0.672707\ttraining's acc_score: 0.597135\tvalid_1's binary_logloss: 0.685507\tvalid_1's acc_score: 0.628099\n",
            "[60]\ttraining's binary_logloss: 0.67012\ttraining's acc_score: 0.606088\tvalid_1's binary_logloss: 0.686589\tvalid_1's acc_score: 0.528926\n",
            "[70]\ttraining's binary_logloss: 0.667487\ttraining's acc_score: 0.606983\tvalid_1's binary_logloss: 0.684844\tvalid_1's acc_score: 0.586777\n",
            "[80]\ttraining's binary_logloss: 0.665314\ttraining's acc_score: 0.61325\tvalid_1's binary_logloss: 0.681206\tvalid_1's acc_score: 0.570248\n",
            "[90]\ttraining's binary_logloss: 0.66261\ttraining's acc_score: 0.61504\tvalid_1's binary_logloss: 0.679656\tvalid_1's acc_score: 0.578512\n",
            "Early stopping, best iteration is:\n",
            "[49]\ttraining's binary_logloss: 0.672882\ttraining's acc_score: 0.589973\tvalid_1's binary_logloss: 0.685019\tvalid_1's acc_score: 0.636364\n"
          ],
          "name": "stdout"
        }
      ]
    },
    {
      "cell_type": "code",
      "metadata": {
        "colab": {
          "base_uri": "https://localhost:8080/"
        },
        "id": "EslltPHbF66H",
        "outputId": "534831db-e758-44bb-ec9d-ae7e9d95a9ae"
      },
      "source": [
        "model.best_iteration"
      ],
      "execution_count": 331,
      "outputs": [
        {
          "output_type": "execute_result",
          "data": {
            "text/plain": [
              "49"
            ]
          },
          "metadata": {
            "tags": []
          },
          "execution_count": 331
        }
      ]
    },
    {
      "cell_type": "code",
      "metadata": {
        "id": "UJ4GbBCY1JW3"
      },
      "source": [
        "# !pip install optuna"
      ],
      "execution_count": 142,
      "outputs": []
    },
    {
      "cell_type": "code",
      "metadata": {
        "id": "HsnciR--wEVG"
      },
      "source": [
        "import optuna\n",
        "from sklearn.metrics import roc_auc_score\n",
        "from google.colab import output\n",
        "# lgb_train = lgb.Dataset(Xt, Yt)\n",
        "# lgb_eval = lgb.Dataset(Xv, Yv)\n",
        "def objective(trial):    \n",
        "    params = {\n",
        "            'num_leaves': trial.suggest_int('num_leaves', 2, 512),\n",
        "            'boosting_type': 'gbdt',\n",
        "            'objective': 'binary',\n",
        "            # 'metric': 'auc',\n",
        "            'bagging_seed':60,\n",
        "            'max_depth': trial.suggest_int('max_depth', 1, 16),\n",
        "            'min_child_weight': trial.suggest_int('min_child_weight', 1, 16),\n",
        "            'feature_fraction': trial.suggest_uniform('feature_fraction', 0.5, 1.0),\n",
        "            'bagging_fraction': trial.suggest_uniform('bagging_fraction', 0.5, 1.0),\n",
        "            'bagging_freq': trial.suggest_int('bagging_freq', 1, 8),\n",
        "            'min_child_samples': trial.suggest_int('min_child_samples', 1, 80),\n",
        "            'lambda_l1': trial.suggest_loguniform('lambda_l1', 1e-8, 1.0),\n",
        "            'lambda_l2': trial.suggest_loguniform('lambda_l2', 1e-8, 1.0),\n",
        "            'learning_rate' : trial.suggest_uniform('learning_rate', 0.0001, 0.99),\n",
        "            'max_bin': trial.suggest_int('max_bin', 4, 900),\n",
        "            'early_stopping_rounds': 50,\n",
        "            'random_state':60 \n",
        "            }\n",
        "\n",
        "    model = lgb.train(params, tr_data, valid_sets=[tr_data, va_data], verbose_eval=None, num_boost_round=5000, feval=accuracy_metrics)\n",
        "    score = model.best_score['valid_1']['acc_score']\n",
        "    # val_pred = model.predict(Xtest)\n",
        "    # score = accuracy_score(ytest, np.round(val_pred))\n",
        "    print(score)\n",
        "    # output.clear()\n",
        "    # print(f\"AUC = {score}\")\n",
        "    return score"
      ],
      "execution_count": 361,
      "outputs": []
    },
    {
      "cell_type": "code",
      "metadata": {
        "id": "tR7DZx61wESf"
      },
      "source": [
        "study = optuna.create_study(direction='maximize')\n",
        "study.optimize(objective, n_trials=50)"
      ],
      "execution_count": null,
      "outputs": []
    },
    {
      "cell_type": "code",
      "metadata": {
        "id": "ZpbzFPh7wEPs",
        "colab": {
          "base_uri": "https://localhost:8080/"
        },
        "outputId": "943945bf-2475-452a-973b-8911f7371ead"
      },
      "source": [
        "study.best_params"
      ],
      "execution_count": 371,
      "outputs": [
        {
          "output_type": "execute_result",
          "data": {
            "text/plain": [
              "{'bagging_fraction': 0.6179823081964898,\n",
              " 'bagging_freq': 6,\n",
              " 'feature_fraction': 0.8231954406977613,\n",
              " 'lambda_l1': 4.7137947943331354e-05,\n",
              " 'lambda_l2': 1.034109245314662e-06,\n",
              " 'learning_rate': 0.4654640475316162,\n",
              " 'max_bin': 746,\n",
              " 'max_depth': 6,\n",
              " 'min_child_samples': 57,\n",
              " 'min_child_weight': 6,\n",
              " 'num_leaves': 504}"
            ]
          },
          "metadata": {
            "tags": []
          },
          "execution_count": 371
        }
      ]
    },
    {
      "cell_type": "code",
      "metadata": {
        "id": "stuPAsx1QCp8",
        "outputId": "6a9093fc-fcde-44cf-b42b-2f6f0a0c096c",
        "colab": {
          "base_uri": "https://localhost:8080/"
        }
      },
      "source": [
        "ytest.value_counts()"
      ],
      "execution_count": 357,
      "outputs": [
        {
          "output_type": "execute_result",
          "data": {
            "text/plain": [
              "0    62\n",
              "1    59\n",
              "Name: target, dtype: int64"
            ]
          },
          "metadata": {
            "tags": []
          },
          "execution_count": 357
        }
      ]
    },
    {
      "cell_type": "code",
      "metadata": {
        "id": "M3Nk9k7rR1m-"
      },
      "source": [
        ""
      ],
      "execution_count": null,
      "outputs": []
    },
    {
      "cell_type": "code",
      "metadata": {
        "id": "3YqmXblvR11p"
      },
      "source": [
        "Xtrain, ytrain = train_df[features], train_df['target']\n",
        "Xtest, ytest = validation_df[features], validation_df['target']"
      ],
      "execution_count": 352,
      "outputs": []
    },
    {
      "cell_type": "code",
      "metadata": {
        "id": "uM_UGXXXwEM4",
        "colab": {
          "base_uri": "https://localhost:8080/"
        },
        "outputId": "e2ca31fd-9d64-463b-f36a-901ddf82e319"
      },
      "source": [
        "\n",
        "import lightgbm as lgb\n",
        "tr_data = lgb.Dataset(Xtrain, label=ytrain)\n",
        "va_data = lgb.Dataset(Xtest, label=ytest)\n",
        "params = {\n",
        "'objective': 'binary',\n",
        "\"boosting_type\": \"gbdt\",\n",
        "\"verbosity\": -1,\n",
        "'random_state': 60,\n",
        "'bagging_seed':60,\n",
        " 'bagging_fraction': 0.6179823081964898,\n",
        " 'bagging_freq': 6,\n",
        " 'feature_fraction': 0.8231954406977613,\n",
        " 'lambda_l1': 4.7137947943331354e-05,\n",
        " 'lambda_l2': 1.034109245314662e-06,\n",
        " 'learning_rate': 0.4654640475316162,\n",
        " 'max_bin': 746,\n",
        " 'max_depth': 6,\n",
        " 'min_child_samples': 57,\n",
        " 'min_child_weight': 6,\n",
        " 'num_leaves': 504\n",
        "}\n",
        "\n",
        "\n",
        "\n",
        "model = lgb.train(\n",
        "        params, \n",
        "        tr_data,\n",
        "        num_boost_round=5000,   \n",
        "        valid_sets=[tr_data, va_data],\n",
        "        early_stopping_rounds=50,   \n",
        "        feature_name=features,\n",
        "        verbose_eval=10, \n",
        "        feval = accuracy_metrics\n",
        "    )\n"
      ],
      "execution_count": 372,
      "outputs": [
        {
          "output_type": "stream",
          "text": [
            "Training until validation scores don't improve for 50 rounds.\n",
            "[10]\ttraining's binary_logloss: 0.662744\ttraining's acc_score: 0.606088\tvalid_1's binary_logloss: 0.688826\tvalid_1's acc_score: 0.578512\n",
            "[20]\ttraining's binary_logloss: 0.640291\ttraining's acc_score: 0.638317\tvalid_1's binary_logloss: 0.684331\tvalid_1's acc_score: 0.586777\n",
            "[30]\ttraining's binary_logloss: 0.62469\ttraining's acc_score: 0.646374\tvalid_1's binary_logloss: 0.694049\tvalid_1's acc_score: 0.561983\n",
            "[40]\ttraining's binary_logloss: 0.603707\ttraining's acc_score: 0.686661\tvalid_1's binary_logloss: 0.657144\tvalid_1's acc_score: 0.619835\n",
            "[50]\ttraining's binary_logloss: 0.58325\ttraining's acc_score: 0.709937\tvalid_1's binary_logloss: 0.675603\tvalid_1's acc_score: 0.619835\n",
            "[60]\ttraining's binary_logloss: 0.572964\ttraining's acc_score: 0.703671\tvalid_1's binary_logloss: 0.675323\tvalid_1's acc_score: 0.710744\n",
            "[70]\ttraining's binary_logloss: 0.561572\ttraining's acc_score: 0.721576\tvalid_1's binary_logloss: 0.662897\tvalid_1's acc_score: 0.619835\n",
            "[80]\ttraining's binary_logloss: 0.546056\ttraining's acc_score: 0.73769\tvalid_1's binary_logloss: 0.689321\tvalid_1's acc_score: 0.603306\n",
            "[90]\ttraining's binary_logloss: 0.533365\ttraining's acc_score: 0.748433\tvalid_1's binary_logloss: 0.680347\tvalid_1's acc_score: 0.61157\n",
            "[100]\ttraining's binary_logloss: 0.525857\ttraining's acc_score: 0.743062\tvalid_1's binary_logloss: 0.714521\tvalid_1's acc_score: 0.570248\n",
            "[110]\ttraining's binary_logloss: 0.512684\ttraining's acc_score: 0.757386\tvalid_1's binary_logloss: 0.709148\tvalid_1's acc_score: 0.586777\n",
            "Early stopping, best iteration is:\n",
            "[60]\ttraining's binary_logloss: 0.572964\ttraining's acc_score: 0.703671\tvalid_1's binary_logloss: 0.675323\tvalid_1's acc_score: 0.710744\n"
          ],
          "name": "stdout"
        }
      ]
    },
    {
      "cell_type": "code",
      "metadata": {
        "colab": {
          "base_uri": "https://localhost:8080/"
        },
        "id": "g7JLHaPnExED",
        "outputId": "74820878-9735-43e1-bd3c-6b28ae40e532"
      },
      "source": [
        "model.best_score"
      ],
      "execution_count": 373,
      "outputs": [
        {
          "output_type": "execute_result",
          "data": {
            "text/plain": [
              "defaultdict(dict,\n",
              "            {'training': {'acc_score': 0.7036705461056401,\n",
              "              'binary_logloss': 0.5729637281907028},\n",
              "             'valid_1': {'acc_score': 0.7107438016528925,\n",
              "              'binary_logloss': 0.6753228199536845}})"
            ]
          },
          "metadata": {
            "tags": []
          },
          "execution_count": 373
        }
      ]
    },
    {
      "cell_type": "code",
      "metadata": {
        "colab": {
          "base_uri": "https://localhost:8080/",
          "height": 452
        },
        "id": "5mPyOnFW-wGK",
        "outputId": "3f225024-b6ef-4f48-c52a-a77d54652ce3"
      },
      "source": [
        "preds = model.predict(Xtest, model.best_iteration)\n",
        "c_mat = confusion_matrix(ytest, np.round(preds))\n",
        "plot_confusion_matrix(c_mat, cmap='Blues', class_names = ['negative', 'positive'], figsize=(5, 5))\n",
        "plt.show()\n",
        "\n",
        "p, r, f1, s = precision_recall_fscore_support(ytest, np.round(preds), average=None)\n",
        "\n",
        "results = pd.DataFrame({'1-Precision': p, '2-Recall': r, '3-F1 score': f1, '4-Support': s}, index=['negative', 'positive'])\n",
        "print(results.round(decimals=3))\n",
        "print(roc_auc_score(ytest, preds))\n",
        "print(accuracy_score(ytest, np.round(preds)))"
      ],
      "execution_count": 375,
      "outputs": [
        {
          "output_type": "display_data",
          "data": {
            "image/png": "[encoded data removed]",
            "text/plain": [
              "<Figure size 360x360 with 1 Axes>"
            ]
          },
          "metadata": {
            "tags": [],
            "needs_background": "light"
          }
        },
        {
          "output_type": "stream",
          "text": [
            "          1-Precision  2-Recall  3-F1 score  4-Support\n",
            "negative  0.708        0.742     0.724       62       \n",
            "positive  0.714        0.678     0.696       59       \n",
            "0.6697648988518317\n",
            "0.7107438016528925\n"
          ],
          "name": "stdout"
        }
      ]
    },
    {
      "cell_type": "code",
      "metadata": {
        "id": "DmlE7USD-wBh"
      },
      "source": [
        ""
      ],
      "execution_count": null,
      "outputs": []
    },
    {
      "cell_type": "code",
      "metadata": {
        "id": "d9hDov8m-v-w"
      },
      "source": [
        ""
      ],
      "execution_count": null,
      "outputs": []
    },
    {
      "cell_type": "code",
      "metadata": {
        "id": "Kiwo3jaXQXaP"
      },
      "source": [
        ""
      ],
      "execution_count": null,
      "outputs": []
    },
    {
      "cell_type": "code",
      "metadata": {
        "id": "4QgexgMhQXXb"
      },
      "source": [
        ""
      ],
      "execution_count": null,
      "outputs": []
    },
    {
      "cell_type": "code",
      "metadata": {
        "id": "tbA1wzEtQXUr"
      },
      "source": [
        ""
      ],
      "execution_count": null,
      "outputs": []
    },
    {
      "cell_type": "code",
      "metadata": {
        "id": "Ckwqu37iQXRn"
      },
      "source": [
        ""
      ],
      "execution_count": null,
      "outputs": []
    },
    {
      "cell_type": "code",
      "metadata": {
        "id": "TJBOY40KQXOq"
      },
      "source": [
        ""
      ],
      "execution_count": null,
      "outputs": []
    },
    {
      "cell_type": "code",
      "metadata": {
        "id": "c4o8tnk0QXLn"
      },
      "source": [
        ""
      ],
      "execution_count": null,
      "outputs": []
    },
    {
      "cell_type": "code",
      "metadata": {
        "id": "ecnuQoCZQXIg"
      },
      "source": [
        ""
      ],
      "execution_count": null,
      "outputs": []
    },
    {
      "cell_type": "code",
      "metadata": {
        "id": "z0v6tLVuQXFo"
      },
      "source": [
        ""
      ],
      "execution_count": null,
      "outputs": []
    },
    {
      "cell_type": "code",
      "metadata": {
        "id": "9nms_dMCQXCH"
      },
      "source": [
        ""
      ],
      "execution_count": null,
      "outputs": []
    }
  ]
}