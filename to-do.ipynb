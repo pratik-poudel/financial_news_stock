{
  "nbformat": 4,
  "nbformat_minor": 0,
  "metadata": {
    "colab": {
      "name": "scratchpad",
      "provenance": [],
      "machine_shape": "hm",
      "include_colab_link": true
    },
    "kernelspec": {
      "display_name": "Python 3",
      "name": "python3"
    },
    "accelerator": "GPU"
  },
  "cells": [
    {
      "cell_type": "markdown",
      "metadata": {
        "id": "view-in-github",
        "colab_type": "text"
      },
      "source": [
        "<a href=\"https://colab.research.google.com/github/pratik-poudel/financial_news_stock/blob/master/to-do.ipynb\" target=\"_parent\"><img src=\"https://colab.research.google.com/assets/colab-badge.svg\" alt=\"Open In Colab\"/></a>"
      ]
    },
    {
      "cell_type": "code",
      "metadata": {
        "id": "lIYdn1woOS1n"
      },
      "source": [
        "import tensorflow as tf\n",
        "import tensorflow_datasets as tfds\n",
        "import numpy as np\n",
        "\n",
        "from tensorflow.keras.preprocessing.text import Tokenizer\n",
        "from tensorflow.keras.preprocessing.sequence import pad_sequences\n",
        "\n",
        "from tensorflow.keras.models import Sequential\n",
        "from tensorflow.keras.layers import Embedding, Dropout, Bidirectional,LSTM, GlobalMaxPool1D, Dense\n",
        "\n",
        "\n",
        "\n",
        "from tensorflow.keras.utils import to_categorical"
      ],
      "execution_count": 108,
      "outputs": []
    },
    {
      "cell_type": "code",
      "metadata": {
        "id": "iFAgE82mEolB"
      },
      "source": [
        "imdb_train, ds_info = tfds.load(name=\"imdb_reviews\", split=\"train\", \n",
        "                                with_info=True, as_supervised=True)\n",
        "imdb_test = tfds.load(name=\"imdb_reviews\", split=\"test\", \n",
        "                      as_supervised=True)"
      ],
      "execution_count": 54,
      "outputs": []
    },
    {
      "cell_type": "code",
      "metadata": {
        "id": "ar_2N1sAEy8t"
      },
      "source": [
        "imdb_train = tfds.as_dataframe(imdb_train, ds_info)\n",
        "imdb_test = tfds.as_dataframe(imdb_test, ds_info)"
      ],
      "execution_count": 55,
      "outputs": []
    },
    {
      "cell_type": "code",
      "metadata": {
        "id": "FhBvV8ICFgdD"
      },
      "source": [
        "imdb_train = imdb_train.applymap(lambda x: x.decode('utf-8') if isinstance(x, bytes) else x)\n",
        "imdb_test = imdb_test.applymap(lambda x: x.decode('utf-8') if isinstance(x, bytes) else x)"
      ],
      "execution_count": 68,
      "outputs": []
    },
    {
      "cell_type": "code",
      "metadata": {
        "id": "_k2ksxugFre8"
      },
      "source": [
        "X_train = imdb_train['text']\n",
        "y_train = imdb_train['label']\n",
        "X_test = imdb_test['text']\n",
        "y_test = imdb_test['label']"
      ],
      "execution_count": 112,
      "outputs": []
    },
    {
      "cell_type": "code",
      "metadata": {
        "id": "MzZexQ0AGvZZ"
      },
      "source": [
        "tokenizer= Tokenizer()\n",
        "tokenizer.fit_on_texts(X_train)\n",
        "X_train = tokenizer.texts_to_sequences(X_train)\n",
        "X_test= tokenizer.texts_to_sequences(X_test)"
      ],
      "execution_count": 88,
      "outputs": []
    },
    {
      "cell_type": "code",
      "metadata": {
        "id": "Y5q10RrAHDdw"
      },
      "source": [
        "word_index = tokenizer.word_index"
      ],
      "execution_count": 91,
      "outputs": []
    },
    {
      "cell_type": "code",
      "metadata": {
        "id": "WyPCE2z1HcLh"
      },
      "source": [
        "max_len = np.max([len(X_train[i]) for i in range(len(X_train))])"
      ],
      "execution_count": 98,
      "outputs": []
    },
    {
      "cell_type": "code",
      "metadata": {
        "id": "pYzQQE6EIy6P"
      },
      "source": [
        "Tokenizer()"
      ],
      "execution_count": null,
      "outputs": []
    },
    {
      "cell_type": "code",
      "metadata": {
        "id": "u8XwtNTyJg14"
      },
      "source": [
        "X_train = pad_sequences(X_train, maxlen=150, padding='post', )\n",
        "X_test = pad_sequences(X_test, maxlen = 150, padding='post')"
      ],
      "execution_count": 102,
      "outputs": []
    },
    {
      "cell_type": "code",
      "metadata": {
        "id": "ErD9bJHdKDSp"
      },
      "source": [
        "y_train = to_categorical(y_train)\n",
        "y_test = to_categorical(y_test)"
      ],
      "execution_count": 106,
      "outputs": []
    },
    {
      "cell_type": "code",
      "metadata": {
        "id": "4VBM1guqKSkg"
      },
      "source": [
        "n_classes = 1\n",
        "def build_model_lstm(vocab_size, embedding_dim, rnn_units):\n",
        "    model = tf.keras.Sequential([\n",
        "    tf.keras.layers.Embedding(vocab_size, embedding_dim,\n",
        "    mask_zero=True),\n",
        "    tf.keras.layers.LSTM(rnn_units),\n",
        "    tf.keras.layers.Dense(1, activation='sigmoid')\n",
        "    ])\n",
        "    return model\n",
        "\n"
      ],
      "execution_count": 115,
      "outputs": []
    },
    {
      "cell_type": "code",
      "metadata": {
        "colab": {
          "base_uri": "https://localhost:8080/"
        },
        "id": "hpW3UOJvKq-7",
        "outputId": "951c9440-12f9-4e65-a64f-3eccd87b58b0"
      },
      "source": [
        "vocab_size = len(word_index) +1\n",
        "# The embedding dimension\n",
        "embedding_dim = 64\n",
        "# Number of RNN units\n",
        "rnn_units = 64\n",
        "# batch size\n",
        "BATCH_SIZE=100\n",
        "model = build_model_lstm(\n",
        "    vocab_size = vocab_size,\n",
        "    embedding_dim=embedding_dim,\n",
        "    rnn_units=rnn_units)\n",
        "model.summary()\n"
      ],
      "execution_count": 116,
      "outputs": [
        {
          "output_type": "stream",
          "text": [
            "Model: \"sequential_2\"\n",
            "_________________________________________________________________\n",
            "Layer (type)                 Output Shape              Param #   \n",
            "=================================================================\n",
            "embedding_2 (Embedding)      (None, None, 64)          5669312   \n",
            "_________________________________________________________________\n",
            "lstm_2 (LSTM)                (None, 64)                33024     \n",
            "_________________________________________________________________\n",
            "dense_2 (Dense)              (None, 1)                 65        \n",
            "=================================================================\n",
            "Total params: 5,702,401\n",
            "Trainable params: 5,702,401\n",
            "Non-trainable params: 0\n",
            "_________________________________________________________________\n"
          ],
          "name": "stdout"
        }
      ]
    },
    {
      "cell_type": "code",
      "metadata": {
        "colab": {
          "base_uri": "https://localhost:8080/"
        },
        "id": "1IZZozOEK66S",
        "outputId": "baf69a05-d538-48b6-c511-a32b03cda1e4"
      },
      "source": [
        "model.compile(loss='binary_crossentropy',optimizer='adam',metrics=['accuracy', 'Precision', 'Recall'])\n",
        "\n",
        "model.fit(X_train, y_train, epochs=10, batch_size=BATCH_SIZE, verbose=1)\n"
      ],
      "execution_count": 118,
      "outputs": [
        {
          "output_type": "stream",
          "text": [
            "Epoch 1/10\n",
            "250/250 [==============================] - 13s 42ms/step - loss: 0.5405 - accuracy: 0.7022 - precision: 0.7034 - recall: 0.7006\n",
            "Epoch 2/10\n",
            "250/250 [==============================] - 11s 42ms/step - loss: 0.1774 - accuracy: 0.9366 - precision: 0.9344 - recall: 0.9400\n",
            "Epoch 3/10\n",
            "250/250 [==============================] - 10s 42ms/step - loss: 0.0855 - accuracy: 0.9739 - precision: 0.9753 - recall: 0.9726\n",
            "Epoch 4/10\n",
            "250/250 [==============================] - 10s 42ms/step - loss: 0.0499 - accuracy: 0.9856 - precision: 0.9844 - recall: 0.9867\n",
            "Epoch 5/10\n",
            "250/250 [==============================] - 10s 42ms/step - loss: 0.0265 - accuracy: 0.9928 - precision: 0.9938 - recall: 0.9919\n",
            "Epoch 6/10\n",
            "250/250 [==============================] - 10s 42ms/step - loss: 0.0303 - accuracy: 0.9909 - precision: 0.9922 - recall: 0.9897\n",
            "Epoch 7/10\n",
            "250/250 [==============================] - 10s 42ms/step - loss: 0.0358 - accuracy: 0.9872 - precision: 0.9885 - recall: 0.9856\n",
            "Epoch 8/10\n",
            "250/250 [==============================] - 10s 42ms/step - loss: 0.0144 - accuracy: 0.9956 - precision: 0.9956 - recall: 0.9956\n",
            "Epoch 9/10\n",
            "250/250 [==============================] - 10s 42ms/step - loss: 0.0156 - accuracy: 0.9949 - precision: 0.9949 - recall: 0.9948\n",
            "Epoch 10/10\n",
            "250/250 [==============================] - 10s 42ms/step - loss: 0.0063 - accuracy: 0.9983 - precision: 0.9987 - recall: 0.9979\n"
          ],
          "name": "stdout"
        },
        {
          "output_type": "execute_result",
          "data": {
            "text/plain": [
              "<tensorflow.python.keras.callbacks.History at 0x7f4bc24ad690>"
            ]
          },
          "metadata": {
            "tags": []
          },
          "execution_count": 118
        }
      ]
    },
    {
      "cell_type": "code",
      "metadata": {
        "colab": {
          "base_uri": "https://localhost:8080/"
        },
        "id": "3iJEWtc7LZc0",
        "outputId": "de06f9ef-53e6-4673-ba32-94b611beabc9"
      },
      "source": [
        "model.evaluate(X_test, y_test, batch_size=BATCH_SIZE)"
      ],
      "execution_count": 119,
      "outputs": [
        {
          "output_type": "stream",
          "text": [
            "250/250 [==============================] - 3s 7ms/step - loss: 0.8269 - accuracy: 0.8362 - precision: 0.8356 - recall: 0.8370\n"
          ],
          "name": "stdout"
        },
        {
          "output_type": "execute_result",
          "data": {
            "text/plain": [
              "[0.826852023601532, 0.8361600041389465, 0.8355693817138672, 0.8370400071144104]"
            ]
          },
          "metadata": {
            "tags": []
          },
          "execution_count": 119
        }
      ]
    },
    {
      "cell_type": "code",
      "metadata": {
        "colab": {
          "base_uri": "https://localhost:8080/"
        },
        "id": "HKkPUp8gM8JR",
        "outputId": "3170b907-1eae-46c7-ba8f-eb4b844f8474"
      },
      "source": [
        "model.predict(X_test[0])"
      ],
      "execution_count": 127,
      "outputs": [
        {
          "output_type": "execute_result",
          "data": {
            "text/plain": [
              "0.47636515299479165"
            ]
          },
          "metadata": {
            "tags": []
          },
          "execution_count": 127
        }
      ]
    },
    {
      "cell_type": "code",
      "metadata": {
        "id": "FNtgPfi3QONJ"
      },
      "source": [
        "y_train = to_categorical(y_train)\n",
        "y_test= to_categorical(y_test)"
      ],
      "execution_count": 131,
      "outputs": []
    },
    {
      "cell_type": "code",
      "metadata": {
        "id": "BtzxfLIeNJ6d"
      },
      "source": [
        "EMBEDDING_DIM = 300\n",
        "model = Sequential()\n",
        "model.add(Embedding(vocab_size, EMBEDDING_DIM, input_length=max_len))\n",
        "model.add(Dropout(0.25))\n",
        "model.add(Bidirectional(LSTM(200, return_sequences=True), merge_mode='concat'))\n",
        "model.add(Dropout(0.25))\n",
        "model.add(GlobalMaxPool1D())\n",
        "model.add(Dense(50, activation='sigmoid'))\n",
        "model.add(Dropout(0.25))\n",
        "model.add(Dense(2, activation='softmax'))\n",
        "model.compile(loss='categorical_crossentropy', optimizer='rmsprop', metrics='accuracy')"
      ],
      "execution_count": 132,
      "outputs": []
    },
    {
      "cell_type": "code",
      "metadata": {
        "colab": {
          "base_uri": "https://localhost:8080/"
        },
        "id": "4yvUtK-_TOto",
        "outputId": "6c970151-11ad-4427-e429-3e9379c642c1"
      },
      "source": [
        "model.summary()"
      ],
      "execution_count": 135,
      "outputs": [
        {
          "output_type": "stream",
          "text": [
            "Model: \"sequential_3\"\n",
            "_________________________________________________________________\n",
            "Layer (type)                 Output Shape              Param #   \n",
            "=================================================================\n",
            "embedding_3 (Embedding)      (None, 2493, 300)         26574900  \n",
            "_________________________________________________________________\n",
            "dropout (Dropout)            (None, 2493, 300)         0         \n",
            "_________________________________________________________________\n",
            "bidirectional (Bidirectional (None, 2493, 400)         801600    \n",
            "_________________________________________________________________\n",
            "dropout_1 (Dropout)          (None, 2493, 400)         0         \n",
            "_________________________________________________________________\n",
            "global_max_pooling1d (Global (None, 400)               0         \n",
            "_________________________________________________________________\n",
            "dense_3 (Dense)              (None, 50)                20050     \n",
            "_________________________________________________________________\n",
            "dropout_2 (Dropout)          (None, 50)                0         \n",
            "_________________________________________________________________\n",
            "dense_4 (Dense)              (None, 2)                 102       \n",
            "=================================================================\n",
            "Total params: 27,396,652\n",
            "Trainable params: 27,396,652\n",
            "Non-trainable params: 0\n",
            "_________________________________________________________________\n"
          ],
          "name": "stdout"
        }
      ]
    },
    {
      "cell_type": "code",
      "metadata": {
        "colab": {
          "base_uri": "https://localhost:8080/"
        },
        "id": "H_YuEARuQ2m5",
        "outputId": "a71b4f00-cc38-4b2b-e37b-9bfb14f39369"
      },
      "source": [
        "batch_size = 64\n",
        "epochs = 10\n",
        "model.fit(X_train, y_train, epochs=epochs, batch_size=batch_size,verbose=1)"
      ],
      "execution_count": 134,
      "outputs": [
        {
          "output_type": "stream",
          "text": [
            "Epoch 1/10\n",
            "391/391 [==============================] - 35s 91ms/step - loss: 0.2858 - accuracy: 0.8836\n",
            "Epoch 2/10\n",
            "391/391 [==============================] - 35s 90ms/step - loss: 0.2051 - accuracy: 0.9219\n",
            "Epoch 3/10\n",
            "391/391 [==============================] - 35s 90ms/step - loss: 0.1554 - accuracy: 0.9426\n",
            "Epoch 4/10\n",
            "391/391 [==============================] - 35s 90ms/step - loss: 0.1183 - accuracy: 0.9592\n",
            "Epoch 5/10\n",
            "391/391 [==============================] - 35s 90ms/step - loss: 0.0844 - accuracy: 0.9712\n",
            "Epoch 6/10\n",
            "391/391 [==============================] - 35s 90ms/step - loss: 0.0571 - accuracy: 0.9808\n",
            "Epoch 7/10\n",
            "391/391 [==============================] - 35s 90ms/step - loss: 0.0411 - accuracy: 0.9863\n",
            "Epoch 8/10\n",
            "391/391 [==============================] - 36s 91ms/step - loss: 0.0280 - accuracy: 0.9912\n",
            "Epoch 9/10\n",
            "391/391 [==============================] - 35s 91ms/step - loss: 0.0179 - accuracy: 0.9943\n",
            "Epoch 10/10\n",
            "391/391 [==============================] - 35s 91ms/step - loss: 0.0121 - accuracy: 0.9964\n"
          ],
          "name": "stdout"
        },
        {
          "output_type": "execute_result",
          "data": {
            "text/plain": [
              "<tensorflow.python.keras.callbacks.History at 0x7f4bc0684990>"
            ]
          },
          "metadata": {
            "tags": []
          },
          "execution_count": 134
        }
      ]
    },
    {
      "cell_type": "code",
      "metadata": {
        "colab": {
          "base_uri": "https://localhost:8080/"
        },
        "id": "X8dhB9wzQ8I-",
        "outputId": "6c2cae88-47e6-4ddc-a173-b76e6b953c89"
      },
      "source": [
        "model.evaluate(X_test, y_test, batch_size=BATCH_SIZE)"
      ],
      "execution_count": 136,
      "outputs": [
        {
          "output_type": "stream",
          "text": [
            "WARNING:tensorflow:Model was constructed with shape (None, 2493) for input KerasTensor(type_spec=TensorSpec(shape=(None, 2493), dtype=tf.float32, name='embedding_3_input'), name='embedding_3_input', description=\"created by layer 'embedding_3_input'\"), but it was called on an input with incompatible shape (100, 150).\n"
          ],
          "name": "stdout"
        },
        {
          "output_type": "stream",
          "text": [
            "WARNING:tensorflow:Model was constructed with shape (None, 2493) for input KerasTensor(type_spec=TensorSpec(shape=(None, 2493), dtype=tf.float32, name='embedding_3_input'), name='embedding_3_input', description=\"created by layer 'embedding_3_input'\"), but it was called on an input with incompatible shape (100, 150).\n"
          ],
          "name": "stderr"
        },
        {
          "output_type": "stream",
          "text": [
            "250/250 [==============================] - 4s 13ms/step - loss: 0.6060 - accuracy: 0.8502\n"
          ],
          "name": "stdout"
        },
        {
          "output_type": "execute_result",
          "data": {
            "text/plain": [
              "[0.6059731841087341, 0.8501999974250793]"
            ]
          },
          "metadata": {
            "tags": []
          },
          "execution_count": 136
        }
      ]
    },
    {
      "cell_type": "code",
      "metadata": {
        "colab": {
          "base_uri": "https://localhost:8080/"
        },
        "id": "CAKn2JMbTdDh",
        "outputId": "4bbe5f16-d866-4fcb-85fc-92e8387b7525"
      },
      "source": [
        "model.predict(X_test[0])"
      ],
      "execution_count": 137,
      "outputs": [
        {
          "output_type": "stream",
          "text": [
            "WARNING:tensorflow:Model was constructed with shape (None, 2493) for input KerasTensor(type_spec=TensorSpec(shape=(None, 2493), dtype=tf.float32, name='embedding_3_input'), name='embedding_3_input', description=\"created by layer 'embedding_3_input'\"), but it was called on an input with incompatible shape (None, 1).\n"
          ],
          "name": "stdout"
        },
        {
          "output_type": "stream",
          "text": [
            "WARNING:tensorflow:Model was constructed with shape (None, 2493) for input KerasTensor(type_spec=TensorSpec(shape=(None, 2493), dtype=tf.float32, name='embedding_3_input'), name='embedding_3_input', description=\"created by layer 'embedding_3_input'\"), but it was called on an input with incompatible shape (None, 1).\n"
          ],
          "name": "stderr"
        },
        {
          "output_type": "execute_result",
          "data": {
            "text/plain": [
              "array([[3.94611120e-01, 6.05388880e-01],\n",
              "       [7.62499988e-01, 2.37499967e-01],\n",
              "       [9.99360025e-01, 6.39992417e-04],\n",
              "       [2.54454720e-03, 9.97455418e-01],\n",
              "       [2.42744815e-02, 9.75725532e-01],\n",
              "       [5.18489957e-01, 4.81509984e-01],\n",
              "       [1.93062499e-01, 8.06937516e-01],\n",
              "       [8.01742554e-01, 1.98257491e-01],\n",
              "       [6.38091326e-01, 3.61908704e-01],\n",
              "       [4.71223384e-01, 5.28776646e-01],\n",
              "       [8.80347371e-01, 1.19652607e-01],\n",
              "       [3.91476555e-04, 9.99608576e-01],\n",
              "       [9.98337388e-01, 1.66256400e-03],\n",
              "       [3.48617882e-01, 6.51382089e-01],\n",
              "       [5.72086036e-01, 4.27913964e-01],\n",
              "       [9.84464467e-01, 1.55354915e-02],\n",
              "       [1.09254186e-04, 9.99890685e-01],\n",
              "       [1.99941069e-01, 8.00058901e-01],\n",
              "       [8.08977187e-01, 1.91022769e-01],\n",
              "       [5.03213584e-01, 4.96786386e-01],\n",
              "       [8.48092139e-01, 1.51907936e-01],\n",
              "       [9.69207048e-01, 3.07929907e-02],\n",
              "       [5.03213584e-01, 4.96786386e-01],\n",
              "       [8.48092139e-01, 1.51907936e-01],\n",
              "       [6.92174397e-03, 9.93078172e-01],\n",
              "       [8.48092139e-01, 1.51907936e-01],\n",
              "       [9.60729420e-01, 3.92706171e-02],\n",
              "       [7.55092978e-01, 2.44907022e-01],\n",
              "       [5.68609655e-01, 4.31390405e-01],\n",
              "       [9.98669147e-01, 1.33085728e-03],\n",
              "       [9.25569355e-01, 7.44306520e-02],\n",
              "       [6.10065937e-01, 3.89934093e-01],\n",
              "       [3.72588374e-02, 9.62741137e-01],\n",
              "       [4.31142822e-02, 9.56885755e-01],\n",
              "       [4.16871130e-01, 5.83128929e-01],\n",
              "       [2.45105490e-01, 7.54894495e-01],\n",
              "       [9.86912012e-01, 1.30879451e-02],\n",
              "       [6.10065937e-01, 3.89934093e-01],\n",
              "       [4.58983243e-01, 5.41016757e-01],\n",
              "       [5.68609655e-01, 4.31390405e-01],\n",
              "       [2.83704083e-02, 9.71629620e-01],\n",
              "       [7.97293484e-02, 9.20270681e-01],\n",
              "       [5.03213584e-01, 4.96786386e-01],\n",
              "       [8.86001289e-01, 1.13998666e-01],\n",
              "       [8.69673252e-01, 1.30326718e-01],\n",
              "       [6.10065937e-01, 3.89934093e-01],\n",
              "       [8.12637687e-01, 1.87362283e-01],\n",
              "       [1.95577428e-01, 8.04422557e-01],\n",
              "       [6.10065937e-01, 3.89934093e-01],\n",
              "       [4.31142822e-02, 9.56885755e-01],\n",
              "       [2.28764918e-02, 9.77123499e-01],\n",
              "       [4.16871130e-01, 5.83128929e-01],\n",
              "       [2.45105490e-01, 7.54894495e-01],\n",
              "       [4.59676445e-01, 5.40323615e-01],\n",
              "       [8.01742554e-01, 1.98257491e-01],\n",
              "       [8.99117112e-01, 1.00882903e-01],\n",
              "       [8.51726234e-01, 1.48273796e-01],\n",
              "       [3.50428849e-01, 6.49571180e-01],\n",
              "       [6.82107985e-01, 3.17891985e-01],\n",
              "       [9.98337388e-01, 1.66256400e-03],\n",
              "       [3.48617882e-01, 6.51382089e-01],\n",
              "       [5.72086036e-01, 4.27913964e-01],\n",
              "       [9.84464467e-01, 1.55354915e-02],\n",
              "       [3.50428849e-01, 6.49571180e-01],\n",
              "       [4.59676445e-01, 5.40323615e-01],\n",
              "       [6.78626075e-03, 9.93213773e-01],\n",
              "       [2.83704083e-02, 9.71629620e-01],\n",
              "       [7.55092978e-01, 2.44907022e-01],\n",
              "       [8.69809747e-01, 1.30190253e-01],\n",
              "       [9.78693247e-01, 2.13067010e-02],\n",
              "       [6.38091326e-01, 3.61908704e-01],\n",
              "       [9.76025105e-01, 2.39749216e-02],\n",
              "       [9.08619523e-01, 9.13804844e-02],\n",
              "       [7.19521046e-01, 2.80478925e-01],\n",
              "       [8.01742554e-01, 1.98257491e-01],\n",
              "       [9.60610807e-01, 3.93891335e-02],\n",
              "       [9.58054781e-01, 4.19451781e-02],\n",
              "       [8.59631896e-01, 1.40368119e-01],\n",
              "       [3.48617882e-01, 6.51382089e-01],\n",
              "       [2.44970154e-02, 9.75503027e-01],\n",
              "       [7.55092978e-01, 2.44907022e-01],\n",
              "       [4.16871130e-01, 5.83128929e-01],\n",
              "       [9.97792721e-01, 2.20734277e-03],\n",
              "       [5.03213584e-01, 4.96786386e-01],\n",
              "       [9.90198255e-01, 9.80177615e-03],\n",
              "       [3.48617882e-01, 6.51382089e-01],\n",
              "       [5.98376274e-01, 4.01623696e-01],\n",
              "       [5.67913353e-01, 4.32086676e-01],\n",
              "       [5.98376274e-01, 4.01623696e-01],\n",
              "       [9.96609211e-01, 3.39078996e-03],\n",
              "       [7.55092978e-01, 2.44907022e-01],\n",
              "       [9.63294208e-02, 9.03670609e-01],\n",
              "       [8.01742554e-01, 1.98257491e-01],\n",
              "       [1.95341140e-01, 8.04658830e-01],\n",
              "       [6.15648972e-03, 9.93843555e-01],\n",
              "       [5.68609655e-01, 4.31390405e-01],\n",
              "       [9.99814689e-01, 1.85327139e-04],\n",
              "       [4.13520448e-02, 9.58647966e-01],\n",
              "       [5.03213584e-01, 4.96786386e-01],\n",
              "       [3.15329313e-01, 6.84670687e-01],\n",
              "       [7.55092978e-01, 2.44907022e-01],\n",
              "       [9.63294208e-02, 9.03670609e-01],\n",
              "       [7.31409848e-01, 2.68590122e-01],\n",
              "       [3.08290362e-01, 6.91709638e-01],\n",
              "       [3.50428849e-01, 6.49571180e-01],\n",
              "       [2.46031035e-04, 9.99754012e-01],\n",
              "       [9.89393234e-01, 1.06067257e-02],\n",
              "       [3.48617882e-01, 6.51382089e-01],\n",
              "       [8.18565607e-01, 1.81434423e-01],\n",
              "       [9.82791245e-01, 1.72086786e-02],\n",
              "       [7.55092978e-01, 2.44907022e-01],\n",
              "       [3.48617882e-01, 6.51382089e-01],\n",
              "       [1.83338344e-01, 8.16661656e-01],\n",
              "       [9.98547018e-01, 1.45297765e-03],\n",
              "       [9.98589933e-01, 1.41006242e-03],\n",
              "       [5.03213584e-01, 4.96786386e-01],\n",
              "       [5.68609655e-01, 4.31390405e-01],\n",
              "       [1.46250606e-01, 8.53749394e-01],\n",
              "       [3.01816724e-02, 9.69818294e-01],\n",
              "       [1.09937944e-01, 8.90062094e-01],\n",
              "       [6.37287259e-01, 3.62712801e-01],\n",
              "       [2.72868481e-03, 9.97271359e-01],\n",
              "       [8.21948886e-01, 1.78051144e-01],\n",
              "       [9.99331892e-01, 6.68058346e-04],\n",
              "       [7.55092978e-01, 2.44907022e-01],\n",
              "       [5.68609655e-01, 4.31390405e-01],\n",
              "       [7.06524372e-01, 2.93475628e-01],\n",
              "       [5.68609655e-01, 4.31390405e-01],\n",
              "       [4.53046337e-03, 9.95469570e-01],\n",
              "       [9.98428762e-01, 1.57120661e-03],\n",
              "       [9.53656197e-01, 4.63437364e-02],\n",
              "       [9.76025105e-01, 2.39749216e-02],\n",
              "       [9.88190889e-01, 1.18091581e-02],\n",
              "       [9.26382244e-01, 7.36177042e-02],\n",
              "       [7.84983814e-01, 2.15016171e-01],\n",
              "       [3.48617882e-01, 6.51382089e-01],\n",
              "       [1.99941069e-01, 8.00058901e-01],\n",
              "       [1.41889647e-01, 8.58110368e-01],\n",
              "       [4.16871130e-01, 5.83128929e-01],\n",
              "       [9.98337388e-01, 1.66256400e-03],\n",
              "       [3.48617882e-01, 6.51382089e-01],\n",
              "       [5.72086036e-01, 4.27913964e-01],\n",
              "       [9.84464467e-01, 1.55354915e-02],\n",
              "       [3.50428849e-01, 6.49571180e-01],\n",
              "       [3.48617882e-01, 6.51382089e-01],\n",
              "       [1.99941069e-01, 8.00058901e-01],\n",
              "       [9.08832133e-01, 9.11678150e-02],\n",
              "       [8.84443074e-02, 9.11555707e-01],\n",
              "       [1.63102552e-01, 8.36897433e-01],\n",
              "       [9.55882311e-01, 4.41177413e-02]], dtype=float32)"
            ]
          },
          "metadata": {
            "tags": []
          },
          "execution_count": 137
        }
      ]
    },
    {
      "cell_type": "code",
      "metadata": {
        "id": "dkNr1f-4Um6f"
      },
      "source": [
        ""
      ],
      "execution_count": null,
      "outputs": []
    }
  ]
}