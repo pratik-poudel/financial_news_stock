{
  "nbformat": 4,
  "nbformat_minor": 0,
  "metadata": {
    "colab": {
      "name": "scratchpad",
      "provenance": [],
      "machine_shape": "hm",
      "include_colab_link": true
    },
    "kernelspec": {
      "display_name": "Python 3",
      "name": "python3"
    },
    "accelerator": "GPU"
  },
  "cells": [
    {
      "cell_type": "markdown",
      "metadata": {
        "id": "view-in-github",
        "colab_type": "text"
      },
      "source": [
        "<a href=\"https://colab.research.google.com/github/pratik-poudel/financial_news_stock/blob/master/done_all_steps_1_pos_neg_only.ipynb\" target=\"_parent\"><img src=\"https://colab.research.google.com/assets/colab-badge.svg\" alt=\"Open In Colab\"/></a>"
      ]
    },
    {
      "cell_type": "code",
      "metadata": {
        "id": "0jGP6ocnmwnZ"
      },
      "source": [
        "!pip install mlxtend --upgrade"
      ],
      "execution_count": null,
      "outputs": []
    },
    {
      "cell_type": "code",
      "metadata": {
        "id": "lIYdn1woOS1n"
      },
      "source": [
        "import numpy as np\n",
        "import pandas as pd\n",
        "import matplotlib.pyplot as plt\n",
        "\n",
        "\n",
        "\n",
        "import tensorflow as tf\n",
        "import tensorflow_datasets as tfds\n",
        "\n",
        "from tensorflow.keras.preprocessing.text import Tokenizer\n",
        "from tensorflow.keras.preprocessing.sequence import pad_sequences\n",
        "\n",
        "from tensorflow.keras.models import Sequential\n",
        "from tensorflow.keras.layers import Embedding, Dropout, Bidirectional,LSTM, GlobalMaxPool1D, Dense\n",
        "from tensorflow.keras.utils import to_categorical, plot_model\n",
        "\n",
        "\n",
        "from sklearn.model_selection import train_test_split\n",
        "from sklearn.preprocessing import LabelEncoder\n",
        "from sklearn.metrics import confusion_matrix, roc_curve, roc_auc_score, accuracy_score,precision_recall_fscore_support\n",
        "from sklearn.utils import resample, shuffle\n",
        "\n",
        "\n",
        "from mlxtend.plotting import plot_confusion_matrix\n",
        "import warnings \n",
        "warnings.filterwarnings('ignore')"
      ],
      "execution_count": 167,
      "outputs": []
    },
    {
      "cell_type": "markdown",
      "metadata": {
        "id": "dUTvPQ9vRok2"
      },
      "source": [
        "# Financial Phrase Bank"
      ]
    },
    {
      "cell_type": "code",
      "metadata": {
        "id": "4u2s5DZARoL6"
      },
      "source": [
        "fin_data = pd.read_table('/content/Sentences_AllAgree.txt', delimiter='\\r\\n')"
      ],
      "execution_count": 129,
      "outputs": []
    },
    {
      "cell_type": "code",
      "metadata": {
        "id": "OQdubjqSRoIp"
      },
      "source": [
        "values = np.array([fin_data.values[i][0].split('@') for i in range(fin_data.shape[0])])\n",
        "data = pd.DataFrame({'sentence': values[:, 0], 'sentiment':values[:, 1]})"
      ],
      "execution_count": 130,
      "outputs": []
    },
    {
      "cell_type": "code",
      "metadata": {
        "id": "slCvtjgNRoFN",
        "colab": {
          "base_uri": "https://localhost:8080/",
          "height": 111
        },
        "outputId": "d564b6bb-19cb-40e7-8d13-f03311f47530"
      },
      "source": [
        "data.head(2)"
      ],
      "execution_count": 131,
      "outputs": [
        {
          "output_type": "execute_result",
          "data": {
            "text/html": [
              "<div>\n",
              "<style scoped>\n",
              "    .dataframe tbody tr th:only-of-type {\n",
              "        vertical-align: middle;\n",
              "    }\n",
              "\n",
              "    .dataframe tbody tr th {\n",
              "        vertical-align: top;\n",
              "    }\n",
              "\n",
              "    .dataframe thead th {\n",
              "        text-align: right;\n",
              "    }\n",
              "</style>\n",
              "<table border=\"1\" class=\"dataframe\">\n",
              "  <thead>\n",
              "    <tr style=\"text-align: right;\">\n",
              "      <th></th>\n",
              "      <th>sentence</th>\n",
              "      <th>sentiment</th>\n",
              "    </tr>\n",
              "  </thead>\n",
              "  <tbody>\n",
              "    <tr>\n",
              "      <th>0</th>\n",
              "      <td>For the last quarter of 2010 , Componenta 's n...</td>\n",
              "      <td>positive</td>\n",
              "    </tr>\n",
              "    <tr>\n",
              "      <th>1</th>\n",
              "      <td>In the third quarter of 2010 , net sales incre...</td>\n",
              "      <td>positive</td>\n",
              "    </tr>\n",
              "  </tbody>\n",
              "</table>\n",
              "</div>"
            ],
            "text/plain": [
              "                                            sentence sentiment\n",
              "0  For the last quarter of 2010 , Componenta 's n...  positive\n",
              "1  In the third quarter of 2010 , net sales incre...  positive"
            ]
          },
          "metadata": {
            "tags": []
          },
          "execution_count": 131
        }
      ]
    },
    {
      "cell_type": "code",
      "metadata": {
        "id": "8cUSOhJCRoBo",
        "colab": {
          "base_uri": "https://localhost:8080/",
          "height": 299
        },
        "outputId": "ddf998d4-eb5e-43d3-fbb6-77842dee26b9"
      },
      "source": [
        "data['sentiment'].value_counts().plot(kind='bar')\n",
        "plt.show()"
      ],
      "execution_count": 132,
      "outputs": [
        {
          "output_type": "display_data",
          "data": {
            "image/png": "[encoded data removed]",
            "text/plain": [
              "<Figure size 432x288 with 1 Axes>"
            ]
          },
          "metadata": {
            "tags": [],
            "needs_background": "light"
          }
        }
      ]
    },
    {
      "cell_type": "code",
      "metadata": {
        "id": "fxyIdicGpwZS"
      },
      "source": [
        "X= data.sentence\n",
        "y = data.sentiment"
      ],
      "execution_count": 133,
      "outputs": []
    },
    {
      "cell_type": "code",
      "metadata": {
        "id": "UiDMWQ_FqolI"
      },
      "source": [
        "neu = y[y == 'neutral'].index"
      ],
      "execution_count": 134,
      "outputs": []
    },
    {
      "cell_type": "code",
      "metadata": {
        "id": "b1XxRuBLqodh"
      },
      "source": [
        "X= X.drop(neu)\n",
        "y = y.drop(neu)"
      ],
      "execution_count": 135,
      "outputs": []
    },
    {
      "cell_type": "code",
      "metadata": {
        "id": "6d3w6d2yqoaQ",
        "outputId": "e5a307a3-6352-43eb-cf8e-a5d644b9951e",
        "colab": {
          "base_uri": "https://localhost:8080/"
        }
      },
      "source": [
        "X_train, X_test, y_train, y_test = train_test_split(X, y, stratify=y, random_state=60)\n",
        "print(\"Distribution of sentiments in train data\\n\",  y_train.value_counts().reset_index().values)\n",
        "print()\n",
        "print(\"Distribution of sentiments in test data\\n\", y_test.value_counts().reset_index().values)"
      ],
      "execution_count": 136,
      "outputs": [
        {
          "output_type": "stream",
          "text": [
            "Distribution of sentiments in train data\n",
            " [['positive' 427]\n",
            " ['negative' 227]]\n",
            "\n",
            "Distribution of sentiments in test data\n",
            " [['positive' 143]\n",
            " ['negative' 76]]\n"
          ],
          "name": "stdout"
        }
      ]
    },
    {
      "cell_type": "code",
      "metadata": {
        "id": "fEBRAqQYqoXR"
      },
      "source": [
        "pos_index = y_train[y_train == 'positive'].index\n",
        "neg_index = y_train[y_train == 'negative'].index"
      ],
      "execution_count": 137,
      "outputs": []
    },
    {
      "cell_type": "code",
      "metadata": {
        "id": "HR7negO2qoTb"
      },
      "source": [
        "X_train_neg, y_train_neg = resample(X_train.loc[neg_index], y_train.loc[neg_index], \n",
        "                                    n_samples = len(pos_index), replace=True, random_state=60)"
      ],
      "execution_count": 138,
      "outputs": []
    },
    {
      "cell_type": "code",
      "metadata": {
        "id": "N6OAST4uqoQK"
      },
      "source": [
        "X_train = X_train.loc[pos_index].append(X_train_neg)\n",
        "y_train = y_train.loc[pos_index].append(y_train_neg)\n",
        "X_train, y_train = shuffle(X_train, y_train, random_state=60)"
      ],
      "execution_count": 139,
      "outputs": []
    },
    {
      "cell_type": "code",
      "metadata": {
        "id": "s6kQkfaRuMaV"
      },
      "source": [
        "train_data = pd.concat([X_train, y_train], axis=1)\n",
        "test_data = pd.concat([X_test, y_test], axis=1)"
      ],
      "execution_count": 140,
      "outputs": []
    },
    {
      "cell_type": "code",
      "metadata": {
        "id": "tlKAtIa-uU3X",
        "outputId": "1aa2f90a-24a4-48ae-f479-8723f749d9f7",
        "colab": {
          "base_uri": "https://localhost:8080/"
        }
      },
      "source": [
        "test_data['sentiment'].value_counts()"
      ],
      "execution_count": 141,
      "outputs": [
        {
          "output_type": "execute_result",
          "data": {
            "text/plain": [
              "positive    143\n",
              "negative     76\n",
              "Name: sentiment, dtype: int64"
            ]
          },
          "metadata": {
            "tags": []
          },
          "execution_count": 141
        }
      ]
    },
    {
      "cell_type": "code",
      "metadata": {
        "id": "OLjIbfmEuUsB",
        "outputId": "d5fab8ce-ba26-4436-9a8c-c81745db55a0",
        "colab": {
          "base_uri": "https://localhost:8080/"
        }
      },
      "source": [
        "train_data['sentiment'].value_counts()"
      ],
      "execution_count": 142,
      "outputs": [
        {
          "output_type": "execute_result",
          "data": {
            "text/plain": [
              "positive    427\n",
              "negative    427\n",
              "Name: sentiment, dtype: int64"
            ]
          },
          "metadata": {
            "tags": []
          },
          "execution_count": 142
        }
      ]
    },
    {
      "cell_type": "markdown",
      "metadata": {
        "id": "tbCEJLolVh39"
      },
      "source": [
        "## BiLSTM Model"
      ]
    },
    {
      "cell_type": "markdown",
      "metadata": {
        "id": "1VAk_WnIafWo"
      },
      "source": [
        "### Preparing data to feed in model "
      ]
    },
    {
      "cell_type": "code",
      "metadata": {
        "id": "UN-mzKD5WO0N",
        "colab": {
          "base_uri": "https://localhost:8080/",
          "height": 35
        },
        "outputId": "b9c3a30c-b7c1-46e4-b904-50f143d133e4"
      },
      "source": [
        "X_train.iloc[0]"
      ],
      "execution_count": 143,
      "outputs": [
        {
          "output_type": "execute_result",
          "data": {
            "application/vnd.google.colaboratory.intrinsic+json": {
              "type": "string"
            },
            "text/plain": [
              "'The move was triggered by weak demand for forestry equipment and the uncertain market situation .'"
            ]
          },
          "metadata": {
            "tags": []
          },
          "execution_count": 143
        }
      ]
    },
    {
      "cell_type": "code",
      "metadata": {
        "id": "ye1kpQ_gTG1P"
      },
      "source": [
        "# Remove Punctuation and assign integer to each word\n",
        "tokenizer = Tokenizer()\n",
        "tokenizer.fit_on_texts(X_train)\n",
        "X_train = tokenizer.texts_to_sequences(X_train)\n",
        "X_test = tokenizer.texts_to_sequences(X_test)"
      ],
      "execution_count": 144,
      "outputs": []
    },
    {
      "cell_type": "code",
      "metadata": {
        "id": "FEZkv0jlTGyn",
        "colab": {
          "base_uri": "https://localhost:8080/"
        },
        "outputId": "304f11ae-0310-4e2b-d533-28552953417e"
      },
      "source": [
        "print(\"Sequences --> \", X_train[0])\n",
        "print(\"Original sentence all lower cased \\n\", \" \".join([tokenizer.index_word.get(i) for i in X_train[0]]))"
      ],
      "execution_count": 145,
      "outputs": [
        {
          "output_type": "stream",
          "text": [
            "Sequences -->  [1, 520, 48, 659, 16, 445, 274, 12, 521, 160, 10, 1, 660, 84, 275]\n",
            "Original sentence all lower cased \n",
            " the move was triggered by weak demand for forestry equipment and the uncertain market situation\n"
          ],
          "name": "stdout"
        }
      ]
    },
    {
      "cell_type": "code",
      "metadata": {
        "id": "-pvuVch7W_TP",
        "colab": {
          "base_uri": "https://localhost:8080/"
        },
        "outputId": "df48148c-0cfb-450d-98a6-6c807dcbb252"
      },
      "source": [
        "print(\"Sequences length sample 1:\", len(X_train[0]),\" sample 2:\", len(X_train[1]))\n",
        "print(\"Max length of sequence is \", np.max([len(X_train[i]) for i in range(len(X_train))]))"
      ],
      "execution_count": 146,
      "outputs": [
        {
          "output_type": "stream",
          "text": [
            "Sequences length sample 1: 15  sample 2: 28\n",
            "Max length of sequence is  53\n"
          ],
          "name": "stdout"
        }
      ]
    },
    {
      "cell_type": "code",
      "metadata": {
        "id": "hNv-Ou_KTGvz"
      },
      "source": [
        "# Make sequences of equal length \n",
        "max_len = np.max([len(X_train[i]) for i in range(len(X_train))])\n",
        "X_train = pad_sequences(X_train, maxlen=max_len)\n",
        "X_test = pad_sequences(X_test, maxlen=max_len)"
      ],
      "execution_count": 147,
      "outputs": []
    },
    {
      "cell_type": "code",
      "metadata": {
        "id": "5ntoUIYPTGtV",
        "colab": {
          "base_uri": "https://localhost:8080/"
        },
        "outputId": "3d4859c4-d74e-41b7-c62d-08ad3359278e"
      },
      "source": [
        "print(\"After padding 1st sample became \\n\", X_train[0])"
      ],
      "execution_count": 148,
      "outputs": [
        {
          "output_type": "stream",
          "text": [
            "After padding 1st sample became \n",
            " [  0   0   0   0   0   0   0   0   0   0   0   0   0   0   0   0   0   0\n",
            "   0   0   0   0   0   0   0   0   0   0   0   0   0   0   0   0   0   0\n",
            "   0   0   1 520  48 659  16 445 274  12 521 160  10   1 660  84 275]\n"
          ],
          "name": "stdout"
        }
      ]
    },
    {
      "cell_type": "code",
      "metadata": {
        "id": "Hdi7s8SuTGqW"
      },
      "source": [
        "# Convert sentiment values to one hot encoded for Keras model\n",
        "le = LabelEncoder()\n",
        "le.fit(y_train)\n",
        "y_train = le.transform(y_train)\n",
        "y_test = le.transform(y_test)"
      ],
      "execution_count": 149,
      "outputs": []
    },
    {
      "cell_type": "code",
      "metadata": {
        "id": "TFhgG4NSzsao",
        "outputId": "5d869d67-a7aa-40f2-84f9-d0c06d4cf7b5",
        "colab": {
          "base_uri": "https://localhost:8080/"
        }
      },
      "source": [
        "le.inverse_transform([0, 1])"
      ],
      "execution_count": 212,
      "outputs": [
        {
          "output_type": "execute_result",
          "data": {
            "text/plain": [
              "array(['negative', 'positive'], dtype=object)"
            ]
          },
          "metadata": {
            "tags": []
          },
          "execution_count": 212
        }
      ]
    },
    {
      "cell_type": "markdown",
      "metadata": {
        "id": "S6Ey53FjaoUg"
      },
      "source": [
        "### Model Building"
      ]
    },
    {
      "cell_type": "code",
      "metadata": {
        "id": "JYWwM_r0ZpUV",
        "colab": {
          "base_uri": "https://localhost:8080/"
        },
        "outputId": "a1dc39c2-272a-40ad-f565-7f6d81bbaef3"
      },
      "source": [
        "EMBEDDING_DIM = 100\n",
        "VOCAB_SIZE = len(tokenizer.word_index)\n",
        "\n",
        "model = Sequential()\n",
        "model.add(Embedding(VOCAB_SIZE +1, EMBEDDING_DIM, input_length=max_len))\n",
        "model.add(Dropout(0.30))\n",
        "model.add(Bidirectional(LSTM(200, return_sequences=True), merge_mode='sum'))\n",
        "model.add(Dropout(0.3))\n",
        "model.add(GlobalMaxPool1D())\n",
        "model.add(Dense(16, activation='sigmoid'))\n",
        "model.add(Dropout(0.25))\n",
        "model.add(Dense(1, activation='sigmoid'))\n",
        "model.compile(loss='binary_crossentropy', optimizer='rmsprop', metrics=['accuracy', 'Precision', 'Recall'])\n",
        "model.summary()"
      ],
      "execution_count": 375,
      "outputs": [
        {
          "output_type": "stream",
          "text": [
            "Model: \"sequential_14\"\n",
            "_________________________________________________________________\n",
            "Layer (type)                 Output Shape              Param #   \n",
            "=================================================================\n",
            "embedding_14 (Embedding)     (None, 53, 100)           215000    \n",
            "_________________________________________________________________\n",
            "dropout_40 (Dropout)         (None, 53, 100)           0         \n",
            "_________________________________________________________________\n",
            "bidirectional_13 (Bidirectio (None, 53, 200)           481600    \n",
            "_________________________________________________________________\n",
            "dropout_41 (Dropout)         (None, 53, 200)           0         \n",
            "_________________________________________________________________\n",
            "global_max_pooling1d_13 (Glo (None, 200)               0         \n",
            "_________________________________________________________________\n",
            "dense_26 (Dense)             (None, 16)                3216      \n",
            "_________________________________________________________________\n",
            "dropout_42 (Dropout)         (None, 16)                0         \n",
            "_________________________________________________________________\n",
            "dense_27 (Dense)             (None, 1)                 17        \n",
            "=================================================================\n",
            "Total params: 699,833\n",
            "Trainable params: 699,833\n",
            "Non-trainable params: 0\n",
            "_________________________________________________________________\n"
          ],
          "name": "stdout"
        }
      ]
    },
    {
      "cell_type": "code",
      "metadata": {
        "id": "6UQi70TeZpRz"
      },
      "source": [
        "# plot_model(model)"
      ],
      "execution_count": 365,
      "outputs": []
    },
    {
      "cell_type": "code",
      "metadata": {
        "id": "eTw1msLfZpPN",
        "colab": {
          "base_uri": "https://localhost:8080/"
        },
        "outputId": "ae3649a3-b2b5-420d-9113-ecf5d240b394"
      },
      "source": [
        "#Train Model\n",
        "\n",
        "batch_size = 64\n",
        "epochs = 8\n",
        "model.fit(X_train, y_train, validation_data=(X_test, y_test), batch_size=batch_size, verbose=1, epochs=epochs, shuffle=True)"
      ],
      "execution_count": 376,
      "outputs": [
        {
          "output_type": "stream",
          "text": [
            "Epoch 1/8\n",
            "14/14 [==============================] - 4s 82ms/step - loss: 0.7942 - accuracy: 0.4679 - precision: 0.4147 - recall: 0.3037 - val_loss: 0.7199 - val_accuracy: 0.3470 - val_precision: 0.0000e+00 - val_recall: 0.0000e+00\n",
            "Epoch 2/8\n",
            "14/14 [==============================] - 0s 20ms/step - loss: 0.6948 - accuracy: 0.5349 - precision: 0.5352 - recall: 0.5267 - val_loss: 0.6724 - val_accuracy: 0.7032 - val_precision: 0.6970 - val_recall: 0.9650\n",
            "Epoch 3/8\n",
            "14/14 [==============================] - 0s 20ms/step - loss: 0.6388 - accuracy: 0.6271 - precision: 0.6008 - recall: 0.8103 - val_loss: 0.7538 - val_accuracy: 0.6484 - val_precision: 0.8173 - val_recall: 0.5944\n",
            "Epoch 4/8\n",
            "14/14 [==============================] - 0s 20ms/step - loss: 0.5226 - accuracy: 0.8000 - precision: 0.8157 - recall: 0.7688 - val_loss: 0.5615 - val_accuracy: 0.7580 - val_precision: 0.7848 - val_recall: 0.8671\n",
            "Epoch 5/8\n",
            "14/14 [==============================] - 0s 21ms/step - loss: 0.3283 - accuracy: 0.9197 - precision: 0.9426 - recall: 0.8961 - val_loss: 0.5410 - val_accuracy: 0.7671 - val_precision: 0.7911 - val_recall: 0.8741\n",
            "Epoch 6/8\n",
            "14/14 [==============================] - 0s 21ms/step - loss: 0.2615 - accuracy: 0.9420 - precision: 0.9255 - recall: 0.9608 - val_loss: 0.6571 - val_accuracy: 0.7534 - val_precision: 0.8069 - val_recall: 0.8182\n",
            "Epoch 7/8\n",
            "14/14 [==============================] - 0s 21ms/step - loss: 0.2593 - accuracy: 0.9424 - precision: 0.9644 - recall: 0.9199 - val_loss: 0.5250 - val_accuracy: 0.7763 - val_precision: 0.7901 - val_recall: 0.8951\n",
            "Epoch 8/8\n",
            "14/14 [==============================] - 0s 21ms/step - loss: 0.1830 - accuracy: 0.9682 - precision: 0.9672 - recall: 0.9698 - val_loss: 0.5768 - val_accuracy: 0.8082 - val_precision: 0.8797 - val_recall: 0.8182\n"
          ],
          "name": "stdout"
        },
        {
          "output_type": "execute_result",
          "data": {
            "text/plain": [
              "<tensorflow.python.keras.callbacks.History at 0x7f03c9e67510>"
            ]
          },
          "metadata": {
            "tags": []
          },
          "execution_count": 376
        }
      ]
    },
    {
      "cell_type": "code",
      "metadata": {
        "id": "DpOVB_UyeK3w",
        "colab": {
          "base_uri": "https://localhost:8080/"
        },
        "outputId": "22f656da-0781-4675-dc09-33b9f6ab4ffa"
      },
      "source": [
        "test_loss, test_acc, test_precision, test_recall = model.evaluate(X_test, y_test, batch_size=batch_size, verbose=0)\n",
        "print(\"Testing auc : {:.2f}\".format(test_acc * 100))"
      ],
      "execution_count": 377,
      "outputs": [
        {
          "output_type": "stream",
          "text": [
            "Testing auc : 80.82\n"
          ],
          "name": "stdout"
        }
      ]
    },
    {
      "cell_type": "code",
      "metadata": {
        "id": "kvfSrVPaeK1V"
      },
      "source": [
        "preds = model.predict(X_test, batch_size=batch_size)"
      ],
      "execution_count": 378,
      "outputs": []
    },
    {
      "cell_type": "code",
      "metadata": {
        "id": "GezQypXbt-oO",
        "outputId": "83c30143-771c-4d5b-9ac7-e38e7d9b0cc5",
        "colab": {
          "base_uri": "https://localhost:8080/"
        }
      },
      "source": [
        "roc_auc_score(y_test, preds)"
      ],
      "execution_count": 379,
      "outputs": [
        {
          "output_type": "execute_result",
          "data": {
            "text/plain": [
              "0.8353882959146118"
            ]
          },
          "metadata": {
            "tags": []
          },
          "execution_count": 379
        }
      ]
    },
    {
      "cell_type": "code",
      "metadata": {
        "id": "hmjRj9caeKtl",
        "colab": {
          "base_uri": "https://localhost:8080/",
          "height": 362
        },
        "outputId": "a718973e-b1ab-49ba-ce83-50f5a0c2bcb1"
      },
      "source": [
        "c_mat = confusion_matrix(y_test, np.round(preds))\n",
        "plot_confusion_matrix(c_mat, cmap='Blues', class_names = le.classes_, figsize=(5, 5))\n",
        "plt.show()"
      ],
      "execution_count": 380,
      "outputs": [
        {
          "output_type": "display_data",
          "data": {
            "image/png": "[encoded data removed]",
            "text/plain": [
              "<Figure size 360x360 with 1 Axes>"
            ]
          },
          "metadata": {
            "tags": [],
            "needs_background": "light"
          }
        }
      ]
    },
    {
      "cell_type": "code",
      "metadata": {
        "id": "sjg6zmbFxS_O",
        "outputId": "c38e2627-9feb-4a14-c606-c156c0e71ea2",
        "colab": {
          "base_uri": "https://localhost:8080/"
        }
      },
      "source": [
        "# Precision, recall, f1 score and support\n",
        "# Precision, recall, f1 score and support\n",
        "p, r, f1, s = precision_recall_fscore_support(y_test, np.round(preds), average=None)\n",
        "\n",
        "# Print precision, recall, f1 score and support\n",
        "results = pd.DataFrame({'1-Precision': p, '2-Recall': r, '3-F1 score': f1, '4-Support': s}, index=le.classes_)\n",
        "\n",
        "# Print precision, recall, f1 score and support\n",
        "print(results.round(decimals=3))"
      ],
      "execution_count": 381,
      "outputs": [
        {
          "output_type": "stream",
          "text": [
            "          1-Precision  2-Recall  3-F1 score  4-Support\n",
            "negative        0.698     0.789       0.741         76\n",
            "positive        0.880     0.818       0.848        143\n"
          ],
          "name": "stdout"
        }
      ]
    },
    {
      "cell_type": "markdown",
      "metadata": {
        "id": "1RzDfejkrMel"
      },
      "source": [
        "# Prepare NEPSE DATA"
      ]
    },
    {
      "cell_type": "code",
      "metadata": {
        "id": "FrMhQqlZn-C8"
      },
      "source": [
        "indices = pd.read_csv('/content/Nepse Indices - Sheet1.csv', header=1)\n",
        "indices.columns= ['no_name', 'date', 'index', 'abs_change', 'pct_change']\n",
        "indices['date'] = pd.to_datetime(indices['date'])\n",
        "indices = indices[indices['date'] < '2019-07-06']"
      ],
      "execution_count": 397,
      "outputs": []
    },
    {
      "cell_type": "code",
      "metadata": {
        "id": "qNsJ8_z0n98P"
      },
      "source": [
        "news_df = pd.read_csv('/content/years_combined_df.csv')\n",
        "news_df['date'] = pd.to_datetime(news_df['date'])\n",
        "news_df = news_df[news_df['date'] >= '2014-02-02']\n",
        "news_df.reset_index(drop=True, inplace=True)"
      ],
      "execution_count": 398,
      "outputs": []
    },
    {
      "cell_type": "code",
      "metadata": {
        "id": "Ov3F8cKM0wlh"
      },
      "source": [
        "news_df = news_df[news_df['date'].isin(indices['date'])].reset_index(drop=True)"
      ],
      "execution_count": 399,
      "outputs": []
    },
    {
      "cell_type": "code",
      "metadata": {
        "id": "4msgED4p3Bvt"
      },
      "source": [
        "indices = indices[indices['date'].isin(news_df['date'])].reset_index(drop=True)"
      ],
      "execution_count": 400,
      "outputs": []
    },
    {
      "cell_type": "code",
      "metadata": {
        "id": "Rn2s6qbL3h7u"
      },
      "source": [
        "indices['pct_change'] = indices['pct_change'].str.replace('%', '').astype(float)"
      ],
      "execution_count": 401,
      "outputs": []
    },
    {
      "cell_type": "code",
      "metadata": {
        "id": "dyuBqFhEn926"
      },
      "source": [
        "def prepare_and_predict_news(series, pad_max_len, batch_size):\n",
        "\n",
        "    news = tokenizer.texts_to_sequences(series)\n",
        "    news = pad_sequences(news, pad_max_len)\n",
        "    news = model.predict(news, batch_size=batch_size)\n",
        "    return news"
      ],
      "execution_count": 402,
      "outputs": []
    },
    {
      "cell_type": "code",
      "metadata": {
        "id": "XgJdhmIuz67w"
      },
      "source": [
        "news_sentiment = prepare_and_predict_news(news_df['content'], pad_max_len=max_len, batch_size=batch_size)"
      ],
      "execution_count": 403,
      "outputs": []
    },
    {
      "cell_type": "code",
      "metadata": {
        "id": "-oMq6pfs8oVm",
        "outputId": "fb596c24-33b6-4f72-cc52-b21c2a7022c2",
        "colab": {
          "base_uri": "https://localhost:8080/"
        }
      },
      "source": [
        "news_sentiment"
      ],
      "execution_count": 404,
      "outputs": [
        {
          "output_type": "execute_result",
          "data": {
            "text/plain": [
              "array([[0.05395554],\n",
              "       [0.8353655 ],\n",
              "       [0.04956882],\n",
              "       ...,\n",
              "       [0.05464776],\n",
              "       [0.8362216 ],\n",
              "       [0.08227021]], dtype=float32)"
            ]
          },
          "metadata": {
            "tags": []
          },
          "execution_count": 404
        }
      ]
    },
    {
      "cell_type": "code",
      "metadata": {
        "id": "ZhW1cvPCtalR"
      },
      "source": [
        "blstm_preds = pd.DataFrame(news_sentiment, columns=['blstm_preds'])"
      ],
      "execution_count": 405,
      "outputs": []
    },
    {
      "cell_type": "code",
      "metadata": {
        "id": "qWOimMlKtaiZ"
      },
      "source": [
        "news_sent_combined = pd.concat([news_df, blstm_preds], axis=1)"
      ],
      "execution_count": 407,
      "outputs": []
    },
    {
      "cell_type": "code",
      "metadata": {
        "id": "mAkldKSM805E",
        "outputId": "1971ea7b-a695-455b-afc0-f01894277041",
        "colab": {
          "base_uri": "https://localhost:8080/"
        }
      },
      "source": [
        "for date, i, j in zip(news_sent_combined['date'].dt.date, news_sent_combined['content'][:100], news_sent_combined['blstm_preds'][:100]):\n",
        "    print(date, i, \"\\n\", j)\n",
        "    print()"
      ],
      "execution_count": 415,
      "outputs": [
        {
          "output_type": "stream",
          "text": [
            "2014-02-02 Nepal Stock Exchange (Nepse) slid 2.22 points to close at 781.46 points last week. \n",
            " 0.05395553633570671\n",
            "\n",
            "2014-02-02 Moffat Nyirenda is president of Round Table International. \n",
            " 0.8353654742240906\n",
            "\n",
            "2014-02-02 The government has stopped monitoring of shops dealing in readymade garment and shoes although previous inspections have revealed rampant malpractices. \n",
            " 0.04956882447004318\n",
            "\n",
            "2014-02-02 The Ministry of Industry (MoI) is preparing to recommend the Cabinet to declare Pokhara-based Fulbari Resort and Chitwan-based Chitwan Wildlife Lodge \n",
            " 0.8335683941841125\n",
            "\n",
            "2014-02-02 The delivery of Chinese aircraft for Nepal Airlines Corporation (NAC) will be delayed by a month. \n",
            " 0.043842948973178864\n",
            "\n",
            "2014-02-03 Talking about pricey threads, the domestic market will soon get to witness the launch of a suiting brand costing upwards of Rs 300,000. \n",
            " 0.831755518913269\n",
            "\n",
            "2014-02-03 Cross-border trade with India via Janakpur has come to a complete halt after Janakpur Railway suspended its Janakpur-Jayanagar service. \n",
            " 0.8361150622367859\n",
            "\n",
            "2014-02-03 Fifty-seven percent work has been completed on the much-prioritised 456-MW Upper Tamakoshi Hydropower Project (UTHP). \n",
            " 0.043096158653497696\n",
            "\n",
            "2014-02-03 The government is not in a position to assure the quality of cooking oil due to the lack of technology to determine the quantity of different components of the oil. \n",
            " 0.8318442106246948\n",
            "\n",
            "2014-02-03 NIDC Development Bank won’t be able to hand out the promised 133 percent bonus shares as it has not issued public shares yet. \n",
            " 0.03901287540793419\n",
            "\n",
            "2014-02-03 The real estate sector posted a notable growth in transactions since the beginning of the current fiscal year, indicating a resurgence in the buyers’ confidence. \n",
            " 0.03935648873448372\n",
            "\n",
            "2014-02-04 The arrival of premium Chinese smartphones from technology giants like Huawei, Lenovo and ZTE have changed their market image \n",
            " 0.041842762380838394\n",
            "\n",
            "2014-02-04 Pokhara has emerged as one of the preferred destinations for visitors from the northern neighbour to celebrate the Chinese New Year. \n",
            " 0.8352332711219788\n",
            "\n",
            "2014-02-04 Ncell recorded an 11.3 percent rise in net sales in 2013. \n",
            " 0.8345236778259277\n",
            "\n",
            "2014-02-04 Nepal’s foreign trade is heavily skewed in favour of India, and this dependency on the southern neighbour expanded between the years 2000 to 2010. \n",
            " 0.04328399524092674\n",
            "\n",
            "2014-02-04 A team of experts from the European Commission (EC) started on-site inspections of Nepal’s civil aviation sector from Monday \n",
            " 0.04073954001069069\n",
            "\n",
            "2014-02-04 The government has put state-owned banks and financial institutions out of the jurisdiction of the Public Enterprises Board \n",
            " 0.7013884782791138\n",
            "\n",
            "2014-02-05 As the new academic session nears, the demand for school buses has picked up in the Kathmandu valley. \n",
            " 0.8362292051315308\n",
            "\n",
            "2014-02-05 Johan Dennelind is president and CEO of TeliaSonera. \n",
            " 0.8365270495414734\n",
            "\n",
            "2014-02-05 Three years after it set the airfare structure for remote sectors, the government has finally approved it. \n",
            " 0.8276512622833252\n",
            "\n",
            "2014-02-05 A high-level commission formed to investigate troubled cooperatives has said it will take police help to arrest promoters and directors of troubled cooperatives \n",
            " 0.8324098587036133\n",
            "\n",
            "2014-02-05 Nepal Rastra Bank (NRB) on Tuesday took over the management of Nepal Credit and Commerce Bank (NCC Bank) as the former’s efforts to settle down the tussle went futile \n",
            " 0.039025455713272095\n",
            "\n",
            "2014-02-06 Chicken prices have plunged by Rs 35 per kg in the Kathmandu valley due to a significant increment in supply. \n",
            " 0.05001034587621689\n",
            "\n",
            "2014-02-06 The government will require Rs 510 million and 27 technicians to run a world-class testing lab in the country to certify radio telecommunication consumer \n",
            " 0.8283181190490723\n",
            "\n",
            "2014-02-06 Widespread use of pesticides has been leading to the decimation of wild bee colonies. \n",
            " 0.8357712030410767\n",
            "\n",
            "2014-02-06 The long-standing plan to bring in a strategic partner in Nepal Telecom (NT) may see a breakthrough this fiscal. \n",
            " 0.834291398525238\n",
            "\n",
            "2014-02-06 The Nepal Stock Exchange (Nepse) has begun upgrading its share trading system to facilitate growth and development of the securities markets by installing a complete automation platform. \n",
            " 0.8340378999710083\n",
            "\n",
            "2014-02-06 The Civil Aviation Authority of Nepal and the Nepal Tourism Board have been engaged in a bitter dispute over a hike in the tourism service fee \n",
            " 0.810632050037384\n",
            "\n",
            "2014-02-09 The Nepal Stock Exchange (Nepse) last week gained 8.99 points to close at 786.52 points. \n",
            " 0.039238862693309784\n",
            "\n",
            "2014-02-09 One of the best performing public enterprises, Nepal Telecom, recently got a new managing director, Anoop Ranjan Bhattarai \n",
            " 0.8338194489479065\n",
            "\n",
            "2014-02-09 The Civil Aviation Authority of Nepal has said the European Commission’s safety assessment will also find out the root cause behind frequent air accidents \n",
            " 0.039362069219350815\n",
            "\n",
            "2014-02-09 The government has decided to implement the Secured Transaction Act from mid-March. \n",
            " 0.0458543635904789\n",
            "\n",
            "2014-02-09 Apartment builders have been gearing down as they wait for the market to revive with unsold flats gathering dust and banks breathing down their necks. \n",
            " 0.03886980190873146\n",
            "\n",
            "2014-02-10 Nepal Telecom (NT) has applied to renew its mobile licence by fixing the renewal fee on its own after getting tired of waiting for the government to do so. \n",
            " 0.6982255578041077\n",
            "\n",
            "2014-02-10 A proposed act on commodity exchange has envisioned forming a separate exchange market operator for the sector similar to the Nepal Stock Exchange (Nepse). \n",
            " 0.8353040814399719\n",
            "\n",
            "2014-02-10 With uncertainty looming over the construction of the proposed regional international airport in Pokhara \n",
            " 0.8346166014671326\n",
            "\n",
            "2014-02-10 With Valentine’s Day just around the corner, gift shops in the Kathmandu valley are decorated with beautiful gifts for the love festival. \n",
            " 0.8176138997077942\n",
            "\n",
            "2014-02-11 IMS, the sole authorized distributor for Samsung mobiles in Nepal, has launched the Samsung Galaxy Grand 2 phablet in the market. \n",
            " 0.03924809396266937\n",
            "\n",
            "2014-02-11 The 12th edition of the National Industrial Trade Fair, Cottage Industry Festival and Renewable Energy Week 2014 concluded here on Monday successfully \n",
            " 0.04052703082561493\n",
            "\n",
            "2014-02-11 The government has closed down 22 businesses including eateries, petrol pumps, factories and shops across the country for bad market practices in the first six months of the fiscal year. \n",
            " 0.04170142859220505\n",
            "\n",
            "2014-02-11 The share market exulted at the election of Sushil Koirala as the prime minister by sending stock prices skyward. \n",
            " 0.1076439619064331\n",
            "\n",
            "2014-02-11 With two political parties, said to be pro-market, now forming a coalition government, the private sector has hoped the parties will adhere to what they promised in their poll manifestos \n",
            " 0.8277801871299744\n",
            "\n",
            "2014-02-11 NT licence renewal fee issue has heated up once again, with the NTA on Monday directing the state-owned company to pay Rs 20 billion \n",
            " 0.8282416462898254\n",
            "\n",
            "2014-02-12 NT has refused to pay a Rs 20 billion GSM licence renewal fee as demanded on Tuesday by the Nepal Telecommunications Authority (NTA), the telecom regulator. \n",
            " 0.8256065249443054\n",
            "\n",
            "2014-02-12 Everest Insurance, which was taken over by the Insurance Board (IB) for stopping work for months, is getting a new board on Thursday. \n",
            " 0.835237443447113\n",
            "\n",
            "2014-02-12 Nepal produced 255,208 tonnes of ginger in 2012 to retain the position of the world’s third largest producer of ginger after India and China. \n",
            " 0.8028832077980042\n",
            "\n",
            "2014-02-12 Anil Gyawali is the chief executive officer of Nabil Bank. He began his banking career 30 years ago by joining Nabil. \n",
            " 0.8194467425346375\n",
            "\n",
            "2014-02-12 Nepse slipped below 800 points on Tuesday on fear over disagreement on power sharing between the two largest political parties—Nepal Congress and CPN-UML. \n",
            " 0.04073905572295189\n",
            "\n",
            "2014-02-12 Outgoing Finance Minister Shankar Prasad Koirala on Tuesday claimed that the interim election government provided the momentum to the country held back by political and economic stagnation. \n",
            " 0.03934347629547119\n",
            "\n",
            "2014-02-12 CG Electronics, a subsidiary of the Chaudhary Group and the sole authorised distributor of Godrej appliances in Nepal, has rolled out a wide range of refrigerators \n",
            " 0.040319379419088364\n",
            "\n",
            "2014-02-13 Various issues raised by farmers’ groups have put the Agriculture Ministry in a dilemma over giving final shape to the much-awaited Agriculture Development Strategy. \n",
            " 0.8313584327697754\n",
            "\n",
            "2014-02-13 With the Nepal Electricity Authority (NEA) seeking 20 percent hike in electricity tariff, the Electricity Tariff Fixation Committee (ETFC) has sought feedback from consumers. \n",
            " 0.8361856937408447\n",
            "\n",
            "2014-02-13 Major infrastructure projects have seen little government spending and physical progress in the first half of the current fiscal year 2013-14. \n",
            " 0.04180806130170822\n",
            "\n",
            "2014-02-13 The government has made massive cuts in climbers’ royalty fee for peaks including the Mt Everest with an aim at attracting more mountaineers. \n",
            " 0.8347063660621643\n",
            "\n",
            "2014-02-13 The fourth edition of Made in Nepal Products and Service Exhibition 2014 is set to kick off in the capital from Friday. \n",
            " 0.8354604840278625\n",
            "\n",
            "2014-02-16 The Kathmandu Post caught up with Paudel to talk about the progress made by the company and its success in the recent initial public offering (IPO). \n",
            " 0.8319552540779114\n",
            "\n",
            "2014-02-16 Nepal Stock Exchange (Nepse) jumped 18.98 points to close at 803.71 points last week. \n",
            " 0.8356257677078247\n",
            "\n",
            "2014-02-16 A Chinese delegation led by deputy administrator of the Civil Aviation Administration of China is scheduled to arrive here next week to sign a bilateral revised air service agreement \n",
            " 0.8364827632904053\n",
            "\n",
            "2014-02-16 It has been five months since potential bidders abandoned the Kathmandu-Tarai Fast Track Road project, but the government has not been able to finalise its development and financial modality \n",
            " 0.8286802172660828\n",
            "\n",
            "2014-02-17 FATF has said Nepal has to enact five ordinances related to anti-money laundering (AML) urgently as parliamentary statutes. \n",
            " 0.8357363939285278\n",
            "\n",
            "2014-02-17 The government plans to build new bridges along the Narayanghat-Mugling section of the Prithivi Highway. \n",
            " 0.1897885948419571\n",
            "\n",
            "2014-02-17 Nepal’ trade deficit expanded to Rs 289.62 billion in the first half of current fiscal year. \n",
            " 0.03934543952345848\n",
            "\n",
            "2014-02-17 Nepal has received foreign direct investment (FDI) worth Rs 113.18 billion from 78 countries till date. India, China, South Korea and the US are the top FDI contributors in the country. \n",
            " 0.0390198715031147\n",
            "\n",
            "2014-02-17 Nepali exporters often complain about non-tariff barriers (NTBs) as being an enormous challenge to entering foreign markets, mainly in the rich countries. \n",
            " 0.8355600237846375\n",
            "\n",
            "2014-02-17 Made in Nepal Products and Service Exhibition 2014, currently running at Bhrikuti Mandap, has been successful in providing a good platform for branding domestic products. \n",
            " 0.8279373049736023\n",
            "\n",
            "2014-02-18 Nepal has urged the World Bank (WB) to provide loan assistance under its Development Policy Credit-2 within this fiscal year. \n",
            " 0.7964096665382385\n",
            "\n",
            "2014-02-18 The government is considering restarting registration of new taxies in Bagmati Zone within the current fiscal year. \n",
            " 0.04564724862575531\n",
            "\n",
            "2014-02-18 Nepal Telecom (NT) earned a net profit Rs 5.55 billion in the first half of the current fiscal year 2013-14. \n",
            " 0.04340384528040886\n",
            "\n",
            "2014-02-18 The construction of an embankment at the Rani Jamara and Kulariya Irrigation Project has come to a halt due to a dispute over the collection of sales tax by the District Development Committe \n",
            " 0.8208596110343933\n",
            "\n",
            "2014-02-18 Sales of premium motorcycles have been rising with the swelling crowd of bike fans in the country. \n",
            " 0.039489131420850754\n",
            "\n",
            "2014-02-20 The domestic car market witnessed a significant growth in sales in the first six months of this fiscal year. Automobile dealers say there has been a “steep rise” in demand for cars \n",
            " 0.04050968214869499\n",
            "\n",
            "2014-02-20 Sharing of foreign exchange risks between govt and consumers seems to be a workable solution \n",
            " 0.8286260366439819\n",
            "\n",
            "2014-02-20 The unified telecom licence regime introduced last year has so far failed to yield any positive results. \n",
            " 0.8356771469116211\n",
            "\n",
            "2014-02-20 The government has endorsed the Mountaineering Royalty Allocation and Distribution Guideline 2014, enabling it to distribute 30 percent of the royalty raised from mountaineering activities \n",
            " 0.8325241208076477\n",
            "\n",
            "2014-02-20 The Financial Sector Assessment Team of the World Bank and International Monetary Fund has asked the Nepal Rastra Bank to supervise big cooperatives \n",
            " 0.0401727594435215\n",
            "\n",
            "2014-02-23 The Ministry of Agriculture Development is all set to introduce two major policy documents to promote strong and sustainable farm growth \n",
            " 0.8359005451202393\n",
            "\n",
            "2014-02-23 Himalayan Bank Limited (HBL) has decided to increase its paid-up capital to Rs 4 billion within the next two years amid rising competition. \n",
            " 0.8332496881484985\n",
            "\n",
            "2014-02-23 Rastriya Banijya Bank (RBB) has extended the deadline for filing applications for purchasing its shares in Nepal Investment Bank Limited (NIBL) \n",
            " 0.039221107959747314\n",
            "\n",
            "2014-02-23 NT earns Rs 7.6 per day per user on an average. The average revenue per user (ARPU), however, is down by Rs 6 per day compared to what the company used to earn five years ago \n",
            " 0.04375874996185303\n",
            "\n",
            "2014-02-23 The proposed 65-MW Kaligandagi hydropower project has started geological study. China’s Sino Hydro will carry out the study on dam and powerhouse. \n",
            " 0.12232080101966858\n",
            "\n",
            "2014-02-23 The Nepal Stock Exchange (Nepse) posted a double-digit growth of 21.41 points last week on increased investor confidence following the formation of the new government. \n",
            " 0.8237742781639099\n",
            "\n",
            "2014-02-24 Japanese multinational Canon, which manufactures imaging and optical products, has rolled out a range of compact cameras packed with quality enhancing features \n",
            " 0.7913998961448669\n",
            "\n",
            "2014-02-24 Bhuvan Dahal is the chief executive officer of Sanima Bank. \n",
            " 0.8309075832366943\n",
            "\n",
            "2014-02-24 The growth rate of deposits held by savings and credit cooperatives took a dive in the first half of the fiscal year. \n",
            " 0.047124650329351425\n",
            "\n",
            "2014-02-24 The first half of the fiscal year has witnessed a decline in the registration of vehicles. \n",
            " 0.03897450864315033\n",
            "\n",
            "2014-02-24 Capital expenditure continues to remain poor despite timely budget presentation. \n",
            " 0.03945545852184296\n",
            "\n",
            "2014-02-25 When partners Tulsiram Giri, Chhote Lal Chauhan, Janga Bahadur Shah and Madhusudan Adhikari opened a fish store about two years ago, it used to take three to four days to sell 250 kg fish \n",
            " 0.8363293409347534\n",
            "\n",
            "2014-02-25 The fifth edition of Nepal Pharma Expo is all set to kick off at exhibition hall, Bhrikutimandap, from February 28. \n",
            " 0.836656391620636\n",
            "\n",
            "2014-02-25 Standard Chartered Bank has agreed in principle to fund a major expansion project by Tilganga Institute of Ophthalmology (TIO). \n",
            " 0.041091274470090866\n",
            "\n",
            "2014-02-25 Land prices in Basantapur have skyrocketed after the government began implementing its plan to develop this trade hub in eastern Nepal into a modern town. \n",
            " 0.03927941992878914\n",
            "\n",
            "2014-02-25 The Nepal Standards (NS) certification that the Nepal Bureau of Standards and Metrology (NBSM) has been issuing to domestic products is in the process of receiving international recognition. \n",
            " 0.830061674118042\n",
            "\n",
            "2014-02-25 Nepal Economic Summit 2014, a high-profile conference with participation of government officials, domestic and foreign investors and experts, kicked off in the Capital on Monday. \n",
            " 0.04284118115901947\n",
            "\n",
            "2014-02-25 Nepal and China signed a revised bilateral air services agreement (ASA) on Monday, permitting the operation of 56 flights per week with any types of aircraft \n",
            " 0.8269939422607422\n",
            "\n",
            "2014-02-26 United Traders Syndicate, the authorised distributor of Toyota for Nepal, has introduced the all new 11th Generation Toyota Corolla. \n",
            " 0.8275343179702759\n",
            "\n",
            "2014-02-26 Securities Board of Nepal (Sebon) has launched a probe into a controversy related to Nepal Bangladesh Bank’s share ownership transfer and clearance. \n",
            " 0.7094628214836121\n",
            "\n",
            "2014-02-26 Nepal Telecom (NT) has moved a step ahead in its quest to hitch up with a strategic partner with its board okaying plans to hire a consultant to write the bid documents. \n",
            " 0.8343483209609985\n",
            "\n",
            "2014-02-26 Lack of aviation infrastructure continues to hurt Nepal’s tourist arrivals, which could hit a three-million mark if the country gets a new international airport \n",
            " 0.039144083857536316\n",
            "\n",
            "2014-02-26 Newly-appointed Finance Minister Ram Sharan Mahat said on Tuesday the ministries failing to spend would face budget cuts. \n",
            " 0.8330243229866028\n",
            "\n",
            "2014-03-03 Sales of home theatre systems are on the rise with Kathmanduites becoming more discerning in their choice of entertainment equipment. \n",
            " 0.8317732810974121\n",
            "\n",
            "2014-03-03 Momento Apparels, one of Nepal’s largest garment exporters once upon a time, has remained closed for the past two years. \n",
            " 0.8085641264915466\n",
            "\n"
          ],
          "name": "stdout"
        }
      ]
    },
    {
      "cell_type": "code",
      "metadata": {
        "id": "Uj7cNZJO802T"
      },
      "source": [
        ""
      ],
      "execution_count": null,
      "outputs": []
    },
    {
      "cell_type": "code",
      "metadata": {
        "id": "dVUiiHIP80zW"
      },
      "source": [
        ""
      ],
      "execution_count": null,
      "outputs": []
    },
    {
      "cell_type": "code",
      "metadata": {
        "id": "EEvMEVFDtafn"
      },
      "source": [
        "mean_sentiment = pd.DataFrame(news_sent_combined.groupby('date')['blstm_preds'].apply(np.mean))\n",
        "mean_sentiment.reset_index(inplace=True)"
      ],
      "execution_count": 391,
      "outputs": []
    },
    {
      "cell_type": "code",
      "metadata": {
        "id": "7ZXOL8omtaYn"
      },
      "source": [
        "mean_sentiment = pd.concat([indices, mean_sentiment],axis=1)"
      ],
      "execution_count": 392,
      "outputs": []
    },
    {
      "cell_type": "code",
      "metadata": {
        "id": "O5ihTa5vtaVa"
      },
      "source": [
        "mean_sentiment['target'] = np.where(mean_sentiment['pct_change'] < 0 , 0, 1)"
      ],
      "execution_count": 393,
      "outputs": []
    },
    {
      "cell_type": "code",
      "metadata": {
        "id": "byRPPktotaQ3"
      },
      "source": [
        "mean_sentiment['blstm_predicted'] = mean_sentiment['blstm_preds'].round().astype(int)"
      ],
      "execution_count": 394,
      "outputs": []
    },
    {
      "cell_type": "code",
      "metadata": {
        "id": "XxyL0zJttaLY",
        "outputId": "ddb11bbd-4b02-42b1-e531-25792571d0b5",
        "colab": {
          "base_uri": "https://localhost:8080/"
        }
      },
      "source": [
        "roc_auc_score(mean_sentiment['target'], mean_sentiment['blstm_preds'])"
      ],
      "execution_count": 395,
      "outputs": [
        {
          "output_type": "execute_result",
          "data": {
            "text/plain": [
              "0.49457522227879835"
            ]
          },
          "metadata": {
            "tags": []
          },
          "execution_count": 395
        }
      ]
    },
    {
      "cell_type": "code",
      "metadata": {
        "id": "0Bv1PKovz3Nj",
        "outputId": "591ce219-4949-4d00-9505-958e435b7f09",
        "colab": {
          "base_uri": "https://localhost:8080/"
        }
      },
      "source": [
        "accuracy_score(mean_sentiment['target'], mean_sentiment['blstm_predicted'])"
      ],
      "execution_count": 396,
      "outputs": [
        {
          "output_type": "execute_result",
          "data": {
            "text/plain": [
              "0.48465266558966075"
            ]
          },
          "metadata": {
            "tags": []
          },
          "execution_count": 396
        }
      ]
    },
    {
      "cell_type": "code",
      "metadata": {
        "id": "dEUSJpkJQXdB"
      },
      "source": [
        ""
      ],
      "execution_count": null,
      "outputs": []
    },
    {
      "cell_type": "code",
      "metadata": {
        "id": "Kiwo3jaXQXaP"
      },
      "source": [
        ""
      ],
      "execution_count": null,
      "outputs": []
    },
    {
      "cell_type": "code",
      "metadata": {
        "id": "4QgexgMhQXXb"
      },
      "source": [
        ""
      ],
      "execution_count": null,
      "outputs": []
    },
    {
      "cell_type": "code",
      "metadata": {
        "id": "tbA1wzEtQXUr"
      },
      "source": [
        ""
      ],
      "execution_count": null,
      "outputs": []
    },
    {
      "cell_type": "code",
      "metadata": {
        "id": "Ckwqu37iQXRn"
      },
      "source": [
        ""
      ],
      "execution_count": null,
      "outputs": []
    },
    {
      "cell_type": "code",
      "metadata": {
        "id": "TJBOY40KQXOq"
      },
      "source": [
        ""
      ],
      "execution_count": null,
      "outputs": []
    },
    {
      "cell_type": "code",
      "metadata": {
        "id": "c4o8tnk0QXLn"
      },
      "source": [
        ""
      ],
      "execution_count": null,
      "outputs": []
    },
    {
      "cell_type": "code",
      "metadata": {
        "id": "ecnuQoCZQXIg"
      },
      "source": [
        ""
      ],
      "execution_count": null,
      "outputs": []
    },
    {
      "cell_type": "code",
      "metadata": {
        "id": "z0v6tLVuQXFo"
      },
      "source": [
        ""
      ],
      "execution_count": null,
      "outputs": []
    },
    {
      "cell_type": "code",
      "metadata": {
        "id": "9nms_dMCQXCH"
      },
      "source": [
        ""
      ],
      "execution_count": null,
      "outputs": []
    },
    {
      "cell_type": "code",
      "metadata": {
        "id": "iFAgE82mEolB"
      },
      "source": [
        "imdb_train, ds_info = tfds.load(name=\"imdb_reviews\", split=\"train\", \n",
        "                                with_info=True, as_supervised=True)\n",
        "imdb_test = tfds.load(name=\"imdb_reviews\", split=\"test\", \n",
        "                      as_supervised=True)"
      ],
      "execution_count": null,
      "outputs": []
    },
    {
      "cell_type": "code",
      "metadata": {
        "id": "ar_2N1sAEy8t"
      },
      "source": [
        "imdb_train = tfds.as_dataframe(imdb_train, ds_info)\n",
        "imdb_test = tfds.as_dataframe(imdb_test, ds_info)"
      ],
      "execution_count": null,
      "outputs": []
    },
    {
      "cell_type": "code",
      "metadata": {
        "id": "FhBvV8ICFgdD"
      },
      "source": [
        "imdb_train = imdb_train.applymap(lambda x: x.decode('utf-8') if isinstance(x, bytes) else x)\n",
        "imdb_test = imdb_test.applymap(lambda x: x.decode('utf-8') if isinstance(x, bytes) else x)"
      ],
      "execution_count": null,
      "outputs": []
    },
    {
      "cell_type": "code",
      "metadata": {
        "id": "_k2ksxugFre8"
      },
      "source": [
        "X_train = imdb_train['text']\n",
        "y_train = imdb_train['label']\n",
        "X_test = imdb_test['text']\n",
        "y_test = imdb_test['label']"
      ],
      "execution_count": null,
      "outputs": []
    },
    {
      "cell_type": "code",
      "metadata": {
        "id": "MzZexQ0AGvZZ"
      },
      "source": [
        "tokenizer= Tokenizer()\n",
        "tokenizer.fit_on_texts(X_train)\n",
        "X_train = tokenizer.texts_to_sequences(X_train)\n",
        "X_test= tokenizer.texts_to_sequences(X_test)"
      ],
      "execution_count": null,
      "outputs": []
    },
    {
      "cell_type": "code",
      "metadata": {
        "id": "Y5q10RrAHDdw"
      },
      "source": [
        "word_index = tokenizer.word_index"
      ],
      "execution_count": null,
      "outputs": []
    },
    {
      "cell_type": "code",
      "metadata": {
        "id": "WyPCE2z1HcLh"
      },
      "source": [
        "max_len = np.max([len(X_train[i]) for i in range(len(X_train))])"
      ],
      "execution_count": null,
      "outputs": []
    },
    {
      "cell_type": "code",
      "metadata": {
        "id": "pYzQQE6EIy6P"
      },
      "source": [
        "Tokenizer()"
      ],
      "execution_count": null,
      "outputs": []
    },
    {
      "cell_type": "code",
      "metadata": {
        "id": "u8XwtNTyJg14"
      },
      "source": [
        "X_train = pad_sequences(X_train, maxlen=150, padding='post', )\n",
        "X_test = pad_sequences(X_test, maxlen = 150, padding='post')"
      ],
      "execution_count": null,
      "outputs": []
    },
    {
      "cell_type": "code",
      "metadata": {
        "id": "ErD9bJHdKDSp"
      },
      "source": [
        "y_train = to_categorical(y_train)\n",
        "y_test = to_categorical(y_test)"
      ],
      "execution_count": null,
      "outputs": []
    },
    {
      "cell_type": "code",
      "metadata": {
        "id": "4VBM1guqKSkg"
      },
      "source": [
        "n_classes = 1\n",
        "def build_model_lstm(vocab_size, embedding_dim, rnn_units):\n",
        "    model = tf.keras.Sequential([\n",
        "    tf.keras.layers.Embedding(vocab_size, embedding_dim,\n",
        "    mask_zero=True),\n",
        "    tf.keras.layers.LSTM(rnn_units),\n",
        "    tf.keras.layers.Dense(1, activation='sigmoid')\n",
        "    ])\n",
        "    return model\n",
        "\n"
      ],
      "execution_count": null,
      "outputs": []
    },
    {
      "cell_type": "code",
      "metadata": {
        "colab": {
          "base_uri": "https://localhost:8080/"
        },
        "id": "hpW3UOJvKq-7",
        "outputId": "951c9440-12f9-4e65-a64f-3eccd87b58b0"
      },
      "source": [
        "vocab_size = len(word_index) +1\n",
        "# The embedding dimension\n",
        "embedding_dim = 64\n",
        "# Number of RNN units\n",
        "rnn_units = 64\n",
        "# batch size\n",
        "BATCH_SIZE=100\n",
        "model = build_model_lstm(\n",
        "    vocab_size = vocab_size,\n",
        "    embedding_dim=embedding_dim,\n",
        "    rnn_units=rnn_units)\n",
        "model.summary()\n"
      ],
      "execution_count": null,
      "outputs": [
        {
          "output_type": "stream",
          "text": [
            "Model: \"sequential_2\"\n",
            "_________________________________________________________________\n",
            "Layer (type)                 Output Shape              Param #   \n",
            "=================================================================\n",
            "embedding_2 (Embedding)      (None, None, 64)          5669312   \n",
            "_________________________________________________________________\n",
            "lstm_2 (LSTM)                (None, 64)                33024     \n",
            "_________________________________________________________________\n",
            "dense_2 (Dense)              (None, 1)                 65        \n",
            "=================================================================\n",
            "Total params: 5,702,401\n",
            "Trainable params: 5,702,401\n",
            "Non-trainable params: 0\n",
            "_________________________________________________________________\n"
          ],
          "name": "stdout"
        }
      ]
    },
    {
      "cell_type": "code",
      "metadata": {
        "colab": {
          "base_uri": "https://localhost:8080/"
        },
        "id": "1IZZozOEK66S",
        "outputId": "baf69a05-d538-48b6-c511-a32b03cda1e4"
      },
      "source": [
        "model.compile(loss='binary_crossentropy',optimizer='adam',metrics=['accuracy', 'Precision', 'Recall'])\n",
        "\n",
        "model.fit(X_train, y_train, epochs=10, batch_size=BATCH_SIZE, verbose=1)\n"
      ],
      "execution_count": null,
      "outputs": [
        {
          "output_type": "stream",
          "text": [
            "Epoch 1/10\n",
            "250/250 [==============================] - 13s 42ms/step - loss: 0.5405 - accuracy: 0.7022 - precision: 0.7034 - recall: 0.7006\n",
            "Epoch 2/10\n",
            "250/250 [==============================] - 11s 42ms/step - loss: 0.1774 - accuracy: 0.9366 - precision: 0.9344 - recall: 0.9400\n",
            "Epoch 3/10\n",
            "250/250 [==============================] - 10s 42ms/step - loss: 0.0855 - accuracy: 0.9739 - precision: 0.9753 - recall: 0.9726\n",
            "Epoch 4/10\n",
            "250/250 [==============================] - 10s 42ms/step - loss: 0.0499 - accuracy: 0.9856 - precision: 0.9844 - recall: 0.9867\n",
            "Epoch 5/10\n",
            "250/250 [==============================] - 10s 42ms/step - loss: 0.0265 - accuracy: 0.9928 - precision: 0.9938 - recall: 0.9919\n",
            "Epoch 6/10\n",
            "250/250 [==============================] - 10s 42ms/step - loss: 0.0303 - accuracy: 0.9909 - precision: 0.9922 - recall: 0.9897\n",
            "Epoch 7/10\n",
            "250/250 [==============================] - 10s 42ms/step - loss: 0.0358 - accuracy: 0.9872 - precision: 0.9885 - recall: 0.9856\n",
            "Epoch 8/10\n",
            "250/250 [==============================] - 10s 42ms/step - loss: 0.0144 - accuracy: 0.9956 - precision: 0.9956 - recall: 0.9956\n",
            "Epoch 9/10\n",
            "250/250 [==============================] - 10s 42ms/step - loss: 0.0156 - accuracy: 0.9949 - precision: 0.9949 - recall: 0.9948\n",
            "Epoch 10/10\n",
            "250/250 [==============================] - 10s 42ms/step - loss: 0.0063 - accuracy: 0.9983 - precision: 0.9987 - recall: 0.9979\n"
          ],
          "name": "stdout"
        },
        {
          "output_type": "execute_result",
          "data": {
            "text/plain": [
              "<tensorflow.python.keras.callbacks.History at 0x7f4bc24ad690>"
            ]
          },
          "metadata": {
            "tags": []
          },
          "execution_count": 118
        }
      ]
    },
    {
      "cell_type": "code",
      "metadata": {
        "colab": {
          "base_uri": "https://localhost:8080/"
        },
        "id": "3iJEWtc7LZc0",
        "outputId": "de06f9ef-53e6-4673-ba32-94b611beabc9"
      },
      "source": [
        "model.evaluate(X_test, y_test, batch_size=BATCH_SIZE)"
      ],
      "execution_count": null,
      "outputs": [
        {
          "output_type": "stream",
          "text": [
            "250/250 [==============================] - 3s 7ms/step - loss: 0.8269 - accuracy: 0.8362 - precision: 0.8356 - recall: 0.8370\n"
          ],
          "name": "stdout"
        },
        {
          "output_type": "execute_result",
          "data": {
            "text/plain": [
              "[0.826852023601532, 0.8361600041389465, 0.8355693817138672, 0.8370400071144104]"
            ]
          },
          "metadata": {
            "tags": []
          },
          "execution_count": 119
        }
      ]
    },
    {
      "cell_type": "code",
      "metadata": {
        "colab": {
          "base_uri": "https://localhost:8080/"
        },
        "id": "HKkPUp8gM8JR",
        "outputId": "3170b907-1eae-46c7-ba8f-eb4b844f8474"
      },
      "source": [
        "model.predict(X_test[0])"
      ],
      "execution_count": null,
      "outputs": [
        {
          "output_type": "execute_result",
          "data": {
            "text/plain": [
              "0.47636515299479165"
            ]
          },
          "metadata": {
            "tags": []
          },
          "execution_count": 127
        }
      ]
    },
    {
      "cell_type": "code",
      "metadata": {
        "id": "FNtgPfi3QONJ"
      },
      "source": [
        "y_train = to_categorical(y_train)\n",
        "y_test= to_categorical(y_test)"
      ],
      "execution_count": null,
      "outputs": []
    },
    {
      "cell_type": "code",
      "metadata": {
        "id": "BtzxfLIeNJ6d"
      },
      "source": [
        "EMBEDDING_DIM = 300\n",
        "model = Sequential()\n",
        "model.add(Embedding(vocab_size, EMBEDDING_DIM, input_length=max_len))\n",
        "model.add(Dropout(0.25))\n",
        "model.add(Bidirectional(LSTM(200, return_sequences=True), merge_mode='concat'))\n",
        "model.add(Dropout(0.25))\n",
        "model.add(GlobalMaxPool1D())\n",
        "model.add(Dense(50, activation='sigmoid'))\n",
        "model.add(Dropout(0.25))\n",
        "model.add(Dense(2, activation='softmax'))\n",
        "model.compile(loss='categorical_crossentropy', optimizer='rmsprop', metrics='accuracy')"
      ],
      "execution_count": null,
      "outputs": []
    },
    {
      "cell_type": "code",
      "metadata": {
        "colab": {
          "base_uri": "https://localhost:8080/"
        },
        "id": "4yvUtK-_TOto",
        "outputId": "6c970151-11ad-4427-e429-3e9379c642c1"
      },
      "source": [
        "model.summary()"
      ],
      "execution_count": null,
      "outputs": [
        {
          "output_type": "stream",
          "text": [
            "Model: \"sequential_3\"\n",
            "_________________________________________________________________\n",
            "Layer (type)                 Output Shape              Param #   \n",
            "=================================================================\n",
            "embedding_3 (Embedding)      (None, 2493, 300)         26574900  \n",
            "_________________________________________________________________\n",
            "dropout (Dropout)            (None, 2493, 300)         0         \n",
            "_________________________________________________________________\n",
            "bidirectional (Bidirectional (None, 2493, 400)         801600    \n",
            "_________________________________________________________________\n",
            "dropout_1 (Dropout)          (None, 2493, 400)         0         \n",
            "_________________________________________________________________\n",
            "global_max_pooling1d (Global (None, 400)               0         \n",
            "_________________________________________________________________\n",
            "dense_3 (Dense)              (None, 50)                20050     \n",
            "_________________________________________________________________\n",
            "dropout_2 (Dropout)          (None, 50)                0         \n",
            "_________________________________________________________________\n",
            "dense_4 (Dense)              (None, 2)                 102       \n",
            "=================================================================\n",
            "Total params: 27,396,652\n",
            "Trainable params: 27,396,652\n",
            "Non-trainable params: 0\n",
            "_________________________________________________________________\n"
          ],
          "name": "stdout"
        }
      ]
    },
    {
      "cell_type": "code",
      "metadata": {
        "colab": {
          "base_uri": "https://localhost:8080/"
        },
        "id": "H_YuEARuQ2m5",
        "outputId": "a71b4f00-cc38-4b2b-e37b-9bfb14f39369"
      },
      "source": [
        "batch_size = 64\n",
        "epochs = 10\n",
        "model.fit(X_train, y_train, epochs=epochs, batch_size=batch_size,verbose=1)"
      ],
      "execution_count": null,
      "outputs": [
        {
          "output_type": "stream",
          "text": [
            "Epoch 1/10\n",
            "391/391 [==============================] - 35s 91ms/step - loss: 0.2858 - accuracy: 0.8836\n",
            "Epoch 2/10\n",
            "391/391 [==============================] - 35s 90ms/step - loss: 0.2051 - accuracy: 0.9219\n",
            "Epoch 3/10\n",
            "391/391 [==============================] - 35s 90ms/step - loss: 0.1554 - accuracy: 0.9426\n",
            "Epoch 4/10\n",
            "391/391 [==============================] - 35s 90ms/step - loss: 0.1183 - accuracy: 0.9592\n",
            "Epoch 5/10\n",
            "391/391 [==============================] - 35s 90ms/step - loss: 0.0844 - accuracy: 0.9712\n",
            "Epoch 6/10\n",
            "391/391 [==============================] - 35s 90ms/step - loss: 0.0571 - accuracy: 0.9808\n",
            "Epoch 7/10\n",
            "391/391 [==============================] - 35s 90ms/step - loss: 0.0411 - accuracy: 0.9863\n",
            "Epoch 8/10\n",
            "391/391 [==============================] - 36s 91ms/step - loss: 0.0280 - accuracy: 0.9912\n",
            "Epoch 9/10\n",
            "391/391 [==============================] - 35s 91ms/step - loss: 0.0179 - accuracy: 0.9943\n",
            "Epoch 10/10\n",
            "391/391 [==============================] - 35s 91ms/step - loss: 0.0121 - accuracy: 0.9964\n"
          ],
          "name": "stdout"
        },
        {
          "output_type": "execute_result",
          "data": {
            "text/plain": [
              "<tensorflow.python.keras.callbacks.History at 0x7f4bc0684990>"
            ]
          },
          "metadata": {
            "tags": []
          },
          "execution_count": 134
        }
      ]
    },
    {
      "cell_type": "code",
      "metadata": {
        "colab": {
          "base_uri": "https://localhost:8080/"
        },
        "id": "X8dhB9wzQ8I-",
        "outputId": "6c2cae88-47e6-4ddc-a173-b76e6b953c89"
      },
      "source": [
        "model.evaluate(X_test, y_test, batch_size=BATCH_SIZE)"
      ],
      "execution_count": null,
      "outputs": [
        {
          "output_type": "stream",
          "text": [
            "WARNING:tensorflow:Model was constructed with shape (None, 2493) for input KerasTensor(type_spec=TensorSpec(shape=(None, 2493), dtype=tf.float32, name='embedding_3_input'), name='embedding_3_input', description=\"created by layer 'embedding_3_input'\"), but it was called on an input with incompatible shape (100, 150).\n"
          ],
          "name": "stdout"
        },
        {
          "output_type": "stream",
          "text": [
            "WARNING:tensorflow:Model was constructed with shape (None, 2493) for input KerasTensor(type_spec=TensorSpec(shape=(None, 2493), dtype=tf.float32, name='embedding_3_input'), name='embedding_3_input', description=\"created by layer 'embedding_3_input'\"), but it was called on an input with incompatible shape (100, 150).\n"
          ],
          "name": "stderr"
        },
        {
          "output_type": "stream",
          "text": [
            "250/250 [==============================] - 4s 13ms/step - loss: 0.6060 - accuracy: 0.8502\n"
          ],
          "name": "stdout"
        },
        {
          "output_type": "execute_result",
          "data": {
            "text/plain": [
              "[0.6059731841087341, 0.8501999974250793]"
            ]
          },
          "metadata": {
            "tags": []
          },
          "execution_count": 136
        }
      ]
    },
    {
      "cell_type": "code",
      "metadata": {
        "colab": {
          "base_uri": "https://localhost:8080/"
        },
        "id": "CAKn2JMbTdDh",
        "outputId": "4bbe5f16-d866-4fcb-85fc-92e8387b7525"
      },
      "source": [
        "model.predict(X_test[0])"
      ],
      "execution_count": null,
      "outputs": [
        {
          "output_type": "stream",
          "text": [
            "WARNING:tensorflow:Model was constructed with shape (None, 2493) for input KerasTensor(type_spec=TensorSpec(shape=(None, 2493), dtype=tf.float32, name='embedding_3_input'), name='embedding_3_input', description=\"created by layer 'embedding_3_input'\"), but it was called on an input with incompatible shape (None, 1).\n"
          ],
          "name": "stdout"
        },
        {
          "output_type": "stream",
          "text": [
            "WARNING:tensorflow:Model was constructed with shape (None, 2493) for input KerasTensor(type_spec=TensorSpec(shape=(None, 2493), dtype=tf.float32, name='embedding_3_input'), name='embedding_3_input', description=\"created by layer 'embedding_3_input'\"), but it was called on an input with incompatible shape (None, 1).\n"
          ],
          "name": "stderr"
        },
        {
          "output_type": "execute_result",
          "data": {
            "text/plain": [
              "array([[3.94611120e-01, 6.05388880e-01],\n",
              "       [7.62499988e-01, 2.37499967e-01],\n",
              "       [9.99360025e-01, 6.39992417e-04],\n",
              "       [2.54454720e-03, 9.97455418e-01],\n",
              "       [2.42744815e-02, 9.75725532e-01],\n",
              "       [5.18489957e-01, 4.81509984e-01],\n",
              "       [1.93062499e-01, 8.06937516e-01],\n",
              "       [8.01742554e-01, 1.98257491e-01],\n",
              "       [6.38091326e-01, 3.61908704e-01],\n",
              "       [4.71223384e-01, 5.28776646e-01],\n",
              "       [8.80347371e-01, 1.19652607e-01],\n",
              "       [3.91476555e-04, 9.99608576e-01],\n",
              "       [9.98337388e-01, 1.66256400e-03],\n",
              "       [3.48617882e-01, 6.51382089e-01],\n",
              "       [5.72086036e-01, 4.27913964e-01],\n",
              "       [9.84464467e-01, 1.55354915e-02],\n",
              "       [1.09254186e-04, 9.99890685e-01],\n",
              "       [1.99941069e-01, 8.00058901e-01],\n",
              "       [8.08977187e-01, 1.91022769e-01],\n",
              "       [5.03213584e-01, 4.96786386e-01],\n",
              "       [8.48092139e-01, 1.51907936e-01],\n",
              "       [9.69207048e-01, 3.07929907e-02],\n",
              "       [5.03213584e-01, 4.96786386e-01],\n",
              "       [8.48092139e-01, 1.51907936e-01],\n",
              "       [6.92174397e-03, 9.93078172e-01],\n",
              "       [8.48092139e-01, 1.51907936e-01],\n",
              "       [9.60729420e-01, 3.92706171e-02],\n",
              "       [7.55092978e-01, 2.44907022e-01],\n",
              "       [5.68609655e-01, 4.31390405e-01],\n",
              "       [9.98669147e-01, 1.33085728e-03],\n",
              "       [9.25569355e-01, 7.44306520e-02],\n",
              "       [6.10065937e-01, 3.89934093e-01],\n",
              "       [3.72588374e-02, 9.62741137e-01],\n",
              "       [4.31142822e-02, 9.56885755e-01],\n",
              "       [4.16871130e-01, 5.83128929e-01],\n",
              "       [2.45105490e-01, 7.54894495e-01],\n",
              "       [9.86912012e-01, 1.30879451e-02],\n",
              "       [6.10065937e-01, 3.89934093e-01],\n",
              "       [4.58983243e-01, 5.41016757e-01],\n",
              "       [5.68609655e-01, 4.31390405e-01],\n",
              "       [2.83704083e-02, 9.71629620e-01],\n",
              "       [7.97293484e-02, 9.20270681e-01],\n",
              "       [5.03213584e-01, 4.96786386e-01],\n",
              "       [8.86001289e-01, 1.13998666e-01],\n",
              "       [8.69673252e-01, 1.30326718e-01],\n",
              "       [6.10065937e-01, 3.89934093e-01],\n",
              "       [8.12637687e-01, 1.87362283e-01],\n",
              "       [1.95577428e-01, 8.04422557e-01],\n",
              "       [6.10065937e-01, 3.89934093e-01],\n",
              "       [4.31142822e-02, 9.56885755e-01],\n",
              "       [2.28764918e-02, 9.77123499e-01],\n",
              "       [4.16871130e-01, 5.83128929e-01],\n",
              "       [2.45105490e-01, 7.54894495e-01],\n",
              "       [4.59676445e-01, 5.40323615e-01],\n",
              "       [8.01742554e-01, 1.98257491e-01],\n",
              "       [8.99117112e-01, 1.00882903e-01],\n",
              "       [8.51726234e-01, 1.48273796e-01],\n",
              "       [3.50428849e-01, 6.49571180e-01],\n",
              "       [6.82107985e-01, 3.17891985e-01],\n",
              "       [9.98337388e-01, 1.66256400e-03],\n",
              "       [3.48617882e-01, 6.51382089e-01],\n",
              "       [5.72086036e-01, 4.27913964e-01],\n",
              "       [9.84464467e-01, 1.55354915e-02],\n",
              "       [3.50428849e-01, 6.49571180e-01],\n",
              "       [4.59676445e-01, 5.40323615e-01],\n",
              "       [6.78626075e-03, 9.93213773e-01],\n",
              "       [2.83704083e-02, 9.71629620e-01],\n",
              "       [7.55092978e-01, 2.44907022e-01],\n",
              "       [8.69809747e-01, 1.30190253e-01],\n",
              "       [9.78693247e-01, 2.13067010e-02],\n",
              "       [6.38091326e-01, 3.61908704e-01],\n",
              "       [9.76025105e-01, 2.39749216e-02],\n",
              "       [9.08619523e-01, 9.13804844e-02],\n",
              "       [7.19521046e-01, 2.80478925e-01],\n",
              "       [8.01742554e-01, 1.98257491e-01],\n",
              "       [9.60610807e-01, 3.93891335e-02],\n",
              "       [9.58054781e-01, 4.19451781e-02],\n",
              "       [8.59631896e-01, 1.40368119e-01],\n",
              "       [3.48617882e-01, 6.51382089e-01],\n",
              "       [2.44970154e-02, 9.75503027e-01],\n",
              "       [7.55092978e-01, 2.44907022e-01],\n",
              "       [4.16871130e-01, 5.83128929e-01],\n",
              "       [9.97792721e-01, 2.20734277e-03],\n",
              "       [5.03213584e-01, 4.96786386e-01],\n",
              "       [9.90198255e-01, 9.80177615e-03],\n",
              "       [3.48617882e-01, 6.51382089e-01],\n",
              "       [5.98376274e-01, 4.01623696e-01],\n",
              "       [5.67913353e-01, 4.32086676e-01],\n",
              "       [5.98376274e-01, 4.01623696e-01],\n",
              "       [9.96609211e-01, 3.39078996e-03],\n",
              "       [7.55092978e-01, 2.44907022e-01],\n",
              "       [9.63294208e-02, 9.03670609e-01],\n",
              "       [8.01742554e-01, 1.98257491e-01],\n",
              "       [1.95341140e-01, 8.04658830e-01],\n",
              "       [6.15648972e-03, 9.93843555e-01],\n",
              "       [5.68609655e-01, 4.31390405e-01],\n",
              "       [9.99814689e-01, 1.85327139e-04],\n",
              "       [4.13520448e-02, 9.58647966e-01],\n",
              "       [5.03213584e-01, 4.96786386e-01],\n",
              "       [3.15329313e-01, 6.84670687e-01],\n",
              "       [7.55092978e-01, 2.44907022e-01],\n",
              "       [9.63294208e-02, 9.03670609e-01],\n",
              "       [7.31409848e-01, 2.68590122e-01],\n",
              "       [3.08290362e-01, 6.91709638e-01],\n",
              "       [3.50428849e-01, 6.49571180e-01],\n",
              "       [2.46031035e-04, 9.99754012e-01],\n",
              "       [9.89393234e-01, 1.06067257e-02],\n",
              "       [3.48617882e-01, 6.51382089e-01],\n",
              "       [8.18565607e-01, 1.81434423e-01],\n",
              "       [9.82791245e-01, 1.72086786e-02],\n",
              "       [7.55092978e-01, 2.44907022e-01],\n",
              "       [3.48617882e-01, 6.51382089e-01],\n",
              "       [1.83338344e-01, 8.16661656e-01],\n",
              "       [9.98547018e-01, 1.45297765e-03],\n",
              "       [9.98589933e-01, 1.41006242e-03],\n",
              "       [5.03213584e-01, 4.96786386e-01],\n",
              "       [5.68609655e-01, 4.31390405e-01],\n",
              "       [1.46250606e-01, 8.53749394e-01],\n",
              "       [3.01816724e-02, 9.69818294e-01],\n",
              "       [1.09937944e-01, 8.90062094e-01],\n",
              "       [6.37287259e-01, 3.62712801e-01],\n",
              "       [2.72868481e-03, 9.97271359e-01],\n",
              "       [8.21948886e-01, 1.78051144e-01],\n",
              "       [9.99331892e-01, 6.68058346e-04],\n",
              "       [7.55092978e-01, 2.44907022e-01],\n",
              "       [5.68609655e-01, 4.31390405e-01],\n",
              "       [7.06524372e-01, 2.93475628e-01],\n",
              "       [5.68609655e-01, 4.31390405e-01],\n",
              "       [4.53046337e-03, 9.95469570e-01],\n",
              "       [9.98428762e-01, 1.57120661e-03],\n",
              "       [9.53656197e-01, 4.63437364e-02],\n",
              "       [9.76025105e-01, 2.39749216e-02],\n",
              "       [9.88190889e-01, 1.18091581e-02],\n",
              "       [9.26382244e-01, 7.36177042e-02],\n",
              "       [7.84983814e-01, 2.15016171e-01],\n",
              "       [3.48617882e-01, 6.51382089e-01],\n",
              "       [1.99941069e-01, 8.00058901e-01],\n",
              "       [1.41889647e-01, 8.58110368e-01],\n",
              "       [4.16871130e-01, 5.83128929e-01],\n",
              "       [9.98337388e-01, 1.66256400e-03],\n",
              "       [3.48617882e-01, 6.51382089e-01],\n",
              "       [5.72086036e-01, 4.27913964e-01],\n",
              "       [9.84464467e-01, 1.55354915e-02],\n",
              "       [3.50428849e-01, 6.49571180e-01],\n",
              "       [3.48617882e-01, 6.51382089e-01],\n",
              "       [1.99941069e-01, 8.00058901e-01],\n",
              "       [9.08832133e-01, 9.11678150e-02],\n",
              "       [8.84443074e-02, 9.11555707e-01],\n",
              "       [1.63102552e-01, 8.36897433e-01],\n",
              "       [9.55882311e-01, 4.41177413e-02]], dtype=float32)"
            ]
          },
          "metadata": {
            "tags": []
          },
          "execution_count": 137
        }
      ]
    },
    {
      "cell_type": "code",
      "metadata": {
        "id": "dkNr1f-4Um6f"
      },
      "source": [
        ""
      ],
      "execution_count": null,
      "outputs": []
    }
  ]
}