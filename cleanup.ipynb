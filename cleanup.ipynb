{
  "nbformat": 4,
  "nbformat_minor": 0,
  "metadata": {
    "colab": {
      "name": "scratchpad",
      "provenance": [],
      "include_colab_link": true
    },
    "kernelspec": {
      "display_name": "Python 3",
      "name": "python3"
    }
  },
  "cells": [
    {
      "cell_type": "markdown",
      "metadata": {
        "id": "view-in-github",
        "colab_type": "text"
      },
      "source": [
        "<a href=\"https://colab.research.google.com/github/pratik-poudel/financial_news_stock/blob/master/cleanup.ipynb\" target=\"_parent\"><img src=\"https://colab.research.google.com/assets/colab-badge.svg\" alt=\"Open In Colab\"/></a>"
      ]
    },
    {
      "cell_type": "code",
      "metadata": {
        "id": "lIYdn1woOS1n"
      },
      "source": [
        "import pandas as pd"
      ],
      "execution_count": 1,
      "outputs": []
    },
    {
      "cell_type": "code",
      "metadata": {
        "id": "ViORiskkg__x"
      },
      "source": [
        "df= pd.read_excel('/content/2014-2019.xlsx', sheet_name=None)"
      ],
      "execution_count": 90,
      "outputs": []
    },
    {
      "cell_type": "code",
      "metadata": {
        "id": "jzTGymzBq95B",
        "outputId": "e80ca547-04ab-4c2e-cb75-b28220b2d085",
        "colab": {
          "base_uri": "https://localhost:8080/",
          "height": 1000
        }
      },
      "source": [
        "display(df['2014'], df['2015'], df['2016'])"
      ],
      "execution_count": 110,
      "outputs": [
        {
          "output_type": "display_data",
          "data": {
            "text/html": [
              "<div>\n",
              "<style scoped>\n",
              "    .dataframe tbody tr th:only-of-type {\n",
              "        vertical-align: middle;\n",
              "    }\n",
              "\n",
              "    .dataframe tbody tr th {\n",
              "        vertical-align: top;\n",
              "    }\n",
              "\n",
              "    .dataframe thead th {\n",
              "        text-align: right;\n",
              "    }\n",
              "</style>\n",
              "<table border=\"1\" class=\"dataframe\">\n",
              "  <thead>\n",
              "    <tr style=\"text-align: right;\">\n",
              "      <th></th>\n",
              "      <th>title</th>\n",
              "      <th>content</th>\n",
              "      <th>author</th>\n",
              "      <th>date</th>\n",
              "    </tr>\n",
              "  </thead>\n",
              "  <tbody>\n",
              "    <tr>\n",
              "      <th>0</th>\n",
              "      <td>\\nNew gadgets lined up for New Year 2014</td>\n",
              "      <td>\\nWith the year 2013 making shift to 2014, sev...</td>\n",
              "      <td>SUMAN BASHYAL</td>\n",
              "      <td>Jan 01 2014</td>\n",
              "    </tr>\n",
              "    <tr>\n",
              "      <th>1</th>\n",
              "      <td>\\nChinese tourists take great leap forward</td>\n",
              "      <td>\\nChinese tourists made up 50 percent of the t...</td>\n",
              "      <td>Post Report</td>\n",
              "      <td>Jan 01 2014</td>\n",
              "    </tr>\n",
              "    <tr>\n",
              "      <th>2</th>\n",
              "      <td>\\nPokhara tourism expects 2014  to herald new ...</td>\n",
              "      <td>\\nPokhara tourism is getting ready for 2014 wi...</td>\n",
              "      <td>SANGAM PRASAIN, Shiva Sharma</td>\n",
              "      <td>Jan 01 2014</td>\n",
              "    </tr>\n",
              "    <tr>\n",
              "      <th>3</th>\n",
              "      <td>\\nCAs, auditors condemn Agrawal duo's arrest</td>\n",
              "      <td>\\nThe Association of Chartered Accountants of ...</td>\n",
              "      <td>Post Report</td>\n",
              "      <td>Jan 01 2014</td>\n",
              "    </tr>\n",
              "    <tr>\n",
              "      <th>4</th>\n",
              "      <td>\\nDon’t count your chickens</td>\n",
              "      <td>\\nThe benefits to Nepal from the WTO Bali Summ...</td>\n",
              "      <td>BIJENDRA MAN SHAKYA</td>\n",
              "      <td>Jan 01 2014</td>\n",
              "    </tr>\n",
              "    <tr>\n",
              "      <th>...</th>\n",
              "      <td>...</td>\n",
              "      <td>...</td>\n",
              "      <td>...</td>\n",
              "      <td>...</td>\n",
              "    </tr>\n",
              "    <tr>\n",
              "      <th>1982</th>\n",
              "      <td>\\nNepal, Oman to up flight frequency</td>\n",
              "      <td>\\nNepal and Oman have agreed to boost the airl...</td>\n",
              "      <td>HOM KARKI</td>\n",
              "      <td>Dec 31 2014</td>\n",
              "    </tr>\n",
              "    <tr>\n",
              "      <th>1983</th>\n",
              "      <td>\\nLet us select road contractors: Nepal</td>\n",
              "      <td>\\nNepal has asked India to be allowed to selec...</td>\n",
              "      <td>Post Report</td>\n",
              "      <td>Dec 31 2014</td>\n",
              "    </tr>\n",
              "    <tr>\n",
              "      <th>1984</th>\n",
              "      <td>\\nBadi youths venture into madal production</td>\n",
              "      <td>\\nLeaving traditional caste-based occupation, ...</td>\n",
              "      <td>Krishna Prasad Gautam</td>\n",
              "      <td>Dec 31 2014</td>\n",
              "    </tr>\n",
              "    <tr>\n",
              "      <th>1985</th>\n",
              "      <td>\\nSupplies Minister tells NOC to address fuel ...</td>\n",
              "      <td>\\nMinister for Commerce and Supplies Sunil Bah...</td>\n",
              "      <td>Rajesh Khanal</td>\n",
              "      <td>Dec 31 2014</td>\n",
              "    </tr>\n",
              "    <tr>\n",
              "      <th>1986</th>\n",
              "      <td>\\nDDC hikes milk price by Rs 8-10</td>\n",
              "      <td>\\nDairy Development Corporation (DDC) on Tuesd...</td>\n",
              "      <td>SUMAN BASHYAL</td>\n",
              "      <td>Dec 31 2014</td>\n",
              "    </tr>\n",
              "  </tbody>\n",
              "</table>\n",
              "<p>1987 rows × 4 columns</p>\n",
              "</div>"
            ],
            "text/plain": [
              "                                                  title  ...          date\n",
              "0              \\nNew gadgets lined up for New Year 2014  ...   Jan 01 2014\n",
              "1           \\nChinese tourists take great leap forward   ...   Jan 01 2014\n",
              "2     \\nPokhara tourism expects 2014  to herald new ...  ...   Jan 01 2014\n",
              "3          \\nCAs, auditors condemn Agrawal duo's arrest  ...   Jan 01 2014\n",
              "4                           \\nDon’t count your chickens  ...   Jan 01 2014\n",
              "...                                                 ...  ...           ...\n",
              "1982               \\nNepal, Oman to up flight frequency  ...   Dec 31 2014\n",
              "1983            \\nLet us select road contractors: Nepal  ...   Dec 31 2014\n",
              "1984        \\nBadi youths venture into madal production  ...   Dec 31 2014\n",
              "1985  \\nSupplies Minister tells NOC to address fuel ...  ...   Dec 31 2014\n",
              "1986                  \\nDDC hikes milk price by Rs 8-10  ...   Dec 31 2014\n",
              "\n",
              "[1987 rows x 4 columns]"
            ]
          },
          "metadata": {
            "tags": []
          }
        },
        {
          "output_type": "display_data",
          "data": {
            "text/html": [
              "<div>\n",
              "<style scoped>\n",
              "    .dataframe tbody tr th:only-of-type {\n",
              "        vertical-align: middle;\n",
              "    }\n",
              "\n",
              "    .dataframe tbody tr th {\n",
              "        vertical-align: top;\n",
              "    }\n",
              "\n",
              "    .dataframe thead th {\n",
              "        text-align: right;\n",
              "    }\n",
              "</style>\n",
              "<table border=\"1\" class=\"dataframe\">\n",
              "  <thead>\n",
              "    <tr style=\"text-align: right;\">\n",
              "      <th></th>\n",
              "      <th>title</th>\n",
              "      <th>content</th>\n",
              "      <th>author</th>\n",
              "      <th>date</th>\n",
              "      <th>Unnamed: 4</th>\n",
              "    </tr>\n",
              "  </thead>\n",
              "  <tbody>\n",
              "    <tr>\n",
              "      <th>0</th>\n",
              "      <td>After DDC, pvt dairies raise price by Rs 8 a ltr</td>\n",
              "      <td>A day after state-owned Dairy Development Corp...</td>\n",
              "      <td>SUMAN BASHYAL</td>\n",
              "      <td>Jan 01 2015</td>\n",
              "      <td>NaN</td>\n",
              "    </tr>\n",
              "    <tr>\n",
              "      <th>1</th>\n",
              "      <td>Caan board okays plan to hire Icao experts</td>\n",
              "      <td>The Civil Aviation Authority of Nepal (Caan) b...</td>\n",
              "      <td>Post Report</td>\n",
              "      <td>Jan 01 2015</td>\n",
              "      <td>NaN</td>\n",
              "    </tr>\n",
              "    <tr>\n",
              "      <th>2</th>\n",
              "      <td>Investment booming in Pokhara hospitality</td>\n",
              "      <td>A group of four entrepreneurs, who have been o...</td>\n",
              "      <td>Shiva Sharma</td>\n",
              "      <td>Jan 01 2015</td>\n",
              "      <td>NaN</td>\n",
              "    </tr>\n",
              "    <tr>\n",
              "      <th>3</th>\n",
              "      <td>MoI plans to declare FY2015-16 ‘FDI Year’</td>\n",
              "      <td>The Ministry of Industry (MoI) said on Wednesd...</td>\n",
              "      <td>Post Report</td>\n",
              "      <td>Jan 01 2015</td>\n",
              "      <td>NaN</td>\n",
              "    </tr>\n",
              "    <tr>\n",
              "      <th>4</th>\n",
              "      <td>Ministry to amend working procedure</td>\n",
              "      <td>The Ministry of Finance (MoF) on Wednesday sai...</td>\n",
              "      <td>Post Report</td>\n",
              "      <td>Jan 01 2015</td>\n",
              "      <td>NaN</td>\n",
              "    </tr>\n",
              "    <tr>\n",
              "      <th>...</th>\n",
              "      <td>...</td>\n",
              "      <td>...</td>\n",
              "      <td>...</td>\n",
              "      <td>...</td>\n",
              "      <td>...</td>\n",
              "    </tr>\n",
              "    <tr>\n",
              "      <th>1884</th>\n",
              "      <td>Govt set to give leg up to footwear products</td>\n",
              "      <td>The government is considering to include the N...</td>\n",
              "      <td>Post Report</td>\n",
              "      <td>Dec 31 2015</td>\n",
              "      <td>NaN</td>\n",
              "    </tr>\n",
              "    <tr>\n",
              "      <th>1885</th>\n",
              "      <td>Fraud case filed against four gas pumps in Kavre</td>\n",
              "      <td>The District Attorney Office (DAO) in Kavre ha...</td>\n",
              "      <td>NAGENDRA ADHIKARI</td>\n",
              "      <td>Dec 31 2015</td>\n",
              "      <td>NaN</td>\n",
              "    </tr>\n",
              "    <tr>\n",
              "      <th>1886</th>\n",
              "      <td>NAC to buy four new jets over two years</td>\n",
              "      <td>Nepal Airlines Corporation (NAC) has prepared ...</td>\n",
              "      <td>Post Report</td>\n",
              "      <td>Dec 31 2015</td>\n",
              "      <td>NaN</td>\n",
              "    </tr>\n",
              "    <tr>\n",
              "      <th>1887</th>\n",
              "      <td>Govt estimates 200MW can be added to grid this...</td>\n",
              "      <td>Nepal has turned to its flaunted hydro resourc...</td>\n",
              "      <td>SANJEEV GIRI</td>\n",
              "      <td>Dec 31 2015</td>\n",
              "      <td>NaN</td>\n",
              "    </tr>\n",
              "    <tr>\n",
              "      <th>1888</th>\n",
              "      <td>Birat Petroleum tanker seized</td>\n",
              "      <td>Police on Tuesday evening seized a fuel tanker...</td>\n",
              "      <td>Post Report</td>\n",
              "      <td>Dec 31 2015</td>\n",
              "      <td>NaN</td>\n",
              "    </tr>\n",
              "  </tbody>\n",
              "</table>\n",
              "<p>1889 rows × 5 columns</p>\n",
              "</div>"
            ],
            "text/plain": [
              "                                                  title  ... Unnamed: 4\n",
              "0      After DDC, pvt dairies raise price by Rs 8 a ltr  ...        NaN\n",
              "1            Caan board okays plan to hire Icao experts  ...        NaN\n",
              "2             Investment booming in Pokhara hospitality  ...        NaN\n",
              "3             MoI plans to declare FY2015-16 ‘FDI Year’  ...        NaN\n",
              "4                   Ministry to amend working procedure  ...        NaN\n",
              "...                                                 ...  ...        ...\n",
              "1884       Govt set to give leg up to footwear products  ...        NaN\n",
              "1885   Fraud case filed against four gas pumps in Kavre  ...        NaN\n",
              "1886            NAC to buy four new jets over two years  ...        NaN\n",
              "1887  Govt estimates 200MW can be added to grid this...  ...        NaN\n",
              "1888                      Birat Petroleum tanker seized  ...        NaN\n",
              "\n",
              "[1889 rows x 5 columns]"
            ]
          },
          "metadata": {
            "tags": []
          }
        },
        {
          "output_type": "display_data",
          "data": {
            "text/html": [
              "<div>\n",
              "<style scoped>\n",
              "    .dataframe tbody tr th:only-of-type {\n",
              "        vertical-align: middle;\n",
              "    }\n",
              "\n",
              "    .dataframe tbody tr th {\n",
              "        vertical-align: top;\n",
              "    }\n",
              "\n",
              "    .dataframe thead th {\n",
              "        text-align: right;\n",
              "    }\n",
              "</style>\n",
              "<table border=\"1\" class=\"dataframe\">\n",
              "  <thead>\n",
              "    <tr style=\"text-align: right;\">\n",
              "      <th></th>\n",
              "      <th>title</th>\n",
              "      <th>content</th>\n",
              "      <th>author</th>\n",
              "      <th>date</th>\n",
              "    </tr>\n",
              "  </thead>\n",
              "  <tbody>\n",
              "    <tr>\n",
              "      <th>0</th>\n",
              "      <td>\\n                                            ...</td>\n",
              "      <td>\\n                        The government in as...</td>\n",
              "      <td>\\nPost Report, \\n                             ...</td>\n",
              "      <td>NaN</td>\n",
              "    </tr>\n",
              "    <tr>\n",
              "      <th>1</th>\n",
              "      <td>\\n                                            ...</td>\n",
              "      <td>\\n                        The Nepal Electricit...</td>\n",
              "      <td>\\nRSS, \\n                                Jan 0...</td>\n",
              "      <td>NaN</td>\n",
              "    </tr>\n",
              "    <tr>\n",
              "      <th>2</th>\n",
              "      <td>\\n                                            ...</td>\n",
              "      <td>\\n                        A rush of domestic t...</td>\n",
              "      <td>\\n SHIVA SHARMA, \\n                           ...</td>\n",
              "      <td>NaN</td>\n",
              "    </tr>\n",
              "    <tr>\n",
              "      <th>3</th>\n",
              "      <td>\\n                                            ...</td>\n",
              "      <td>\\n                        The parliamentary De...</td>\n",
              "      <td>\\nPost Report, \\n                             ...</td>\n",
              "      <td>NaN</td>\n",
              "    </tr>\n",
              "    <tr>\n",
              "      <th>4</th>\n",
              "      <td>\\n                                            ...</td>\n",
              "      <td>\\n                        International passen...</td>\n",
              "      <td>\\nPost Report, \\n                             ...</td>\n",
              "      <td>NaN</td>\n",
              "    </tr>\n",
              "    <tr>\n",
              "      <th>...</th>\n",
              "      <td>...</td>\n",
              "      <td>...</td>\n",
              "      <td>...</td>\n",
              "      <td>...</td>\n",
              "    </tr>\n",
              "    <tr>\n",
              "      <th>1928</th>\n",
              "      <td>\\n                                            ...</td>\n",
              "      <td>\\n                        The Energy Ministry ...</td>\n",
              "      <td>\\nBIBEK SUBEDI, \\n                            ...</td>\n",
              "      <td>NaN</td>\n",
              "    </tr>\n",
              "    <tr>\n",
              "      <th>1929</th>\n",
              "      <td>\\n                                            ...</td>\n",
              "      <td>\\n                        Nepal’s vegetable ex...</td>\n",
              "      <td>\\nPost Report, \\n                             ...</td>\n",
              "      <td>NaN</td>\n",
              "    </tr>\n",
              "    <tr>\n",
              "      <th>1930</th>\n",
              "      <td>\\n                                            ...</td>\n",
              "      <td>\\n                        India will start sup...</td>\n",
              "      <td>\\nPost Report, \\n                             ...</td>\n",
              "      <td>NaN</td>\n",
              "    </tr>\n",
              "    <tr>\n",
              "      <th>1931</th>\n",
              "      <td>\\n                                            ...</td>\n",
              "      <td>\\n                        State-run Nepal Tele...</td>\n",
              "      <td>\\nPost Report, \\n                             ...</td>\n",
              "      <td>NaN</td>\n",
              "    </tr>\n",
              "    <tr>\n",
              "      <th>1932</th>\n",
              "      <td>\\n                                            ...</td>\n",
              "      <td>\\n                        Very soon, companies...</td>\n",
              "      <td>\\nRajesh Khanal, \\n                           ...</td>\n",
              "      <td>NaN</td>\n",
              "    </tr>\n",
              "  </tbody>\n",
              "</table>\n",
              "<p>1933 rows × 4 columns</p>\n",
              "</div>"
            ],
            "text/plain": [
              "                                                  title  ... date\n",
              "0     \\n                                            ...  ...  NaN\n",
              "1     \\n                                            ...  ...  NaN\n",
              "2     \\n                                            ...  ...  NaN\n",
              "3     \\n                                            ...  ...  NaN\n",
              "4     \\n                                            ...  ...  NaN\n",
              "...                                                 ...  ...  ...\n",
              "1928  \\n                                            ...  ...  NaN\n",
              "1929  \\n                                            ...  ...  NaN\n",
              "1930  \\n                                            ...  ...  NaN\n",
              "1931  \\n                                            ...  ...  NaN\n",
              "1932  \\n                                            ...  ...  NaN\n",
              "\n",
              "[1933 rows x 4 columns]"
            ]
          },
          "metadata": {
            "tags": []
          }
        }
      ]
    },
    {
      "cell_type": "code",
      "metadata": {
        "id": "zM0abaOXjPi4"
      },
      "source": [
        "import re\n",
        "pattern = re.compile(\n",
        "    \"(Jan(uary)?|Feb(ruary)?|Mar(ch)?|Apr(il)?|May|Jun(e)?|\"\n",
        "    \"Jul(y)?|Aug(ust)?|Sep(tember)?|Oct(ober)?|Nov(ember)?|\"\n",
        "    \"Dec(ember)?)\\s+\\d{1,2}\\s+\\d{4}\")\n",
        "\n",
        "# print(pattern.match(text))  # prints None\n",
        "# print(pattern.search(text))\n",
        "# print(pattern.search(text).group())"
      ],
      "execution_count": 101,
      "outputs": []
    },
    {
      "cell_type": "code",
      "metadata": {
        "id": "kGdyqBaUuMEE",
        "outputId": "da943026-0872-4c4e-9e68-0d0ab43fcb04",
        "colab": {
          "base_uri": "https://localhost:8080/"
        }
      },
      "source": [
        "year = '2016'\n",
        "dates = []\n",
        "for i in df[year]['author']:\n",
        "    dates.append(pattern.search(i).group())\n",
        "print(len(dates), df[year].shape)\n",
        "df[year]['date'] = dates\n",
        "print(df[year].isna().sum())\n",
        "print(df[year]['date'].str.len().unique())"
      ],
      "execution_count": 121,
      "outputs": [
        {
          "output_type": "stream",
          "text": [
            "1933 (1933, 4)\n",
            "title      0\n",
            "content    0\n",
            "author     0\n",
            "date       0\n",
            "dtype: int64\n",
            "[11]\n"
          ],
          "name": "stdout"
        }
      ]
    },
    {
      "cell_type": "code",
      "metadata": {
        "id": "ohEuGJXpuMBT",
        "outputId": "23a09a53-6396-49db-851e-9cc330b4f9e5",
        "colab": {
          "base_uri": "https://localhost:8080/"
        }
      },
      "source": [
        "year = '2017'\n",
        "dates = []\n",
        "for i in df[year]['author']:\n",
        "    dates.append(pattern.search(i).group())\n",
        "print(len(dates), df[year].shape)\n",
        "df[year]['date'] = dates\n",
        "print(df[year].isna().sum())\n",
        "print(df[year]['date'].str.len().unique())"
      ],
      "execution_count": 122,
      "outputs": [
        {
          "output_type": "stream",
          "text": [
            "2086 (2086, 4)\n",
            "title      0\n",
            "content    0\n",
            "author     0\n",
            "date       0\n",
            "dtype: int64\n",
            "[11]\n"
          ],
          "name": "stdout"
        }
      ]
    },
    {
      "cell_type": "code",
      "metadata": {
        "id": "YUq7TMpruL9g",
        "outputId": "71532daa-e935-4771-eaf7-fc0904dd5446",
        "colab": {
          "base_uri": "https://localhost:8080/"
        }
      },
      "source": [
        "year = '2018'\n",
        "dates = []\n",
        "for i in df[year]['author']:\n",
        "    dates.append(pattern.search(i).group())\n",
        "print(len(dates), df[year].shape)\n",
        "df[year]['date'] = dates\n",
        "print(df[year].isna().sum())\n",
        "print(df[year]['date'].str.len().unique())"
      ],
      "execution_count": 123,
      "outputs": [
        {
          "output_type": "stream",
          "text": [
            "1631 (1631, 4)\n",
            "title      0\n",
            "content    0\n",
            "author     0\n",
            "date       0\n",
            "dtype: int64\n",
            "[11]\n"
          ],
          "name": "stdout"
        }
      ]
    },
    {
      "cell_type": "code",
      "metadata": {
        "id": "1AyIde1Ni7MN",
        "outputId": "e6709a78-682f-48f0-b0d6-dedb79dbf83a",
        "colab": {
          "base_uri": "https://localhost:8080/"
        }
      },
      "source": [
        "year = '2019'\n",
        "dates = []\n",
        "for i in df[year]['author']:\n",
        "    dates.append(pattern.search(i).group())\n",
        "print(len(dates), df[year].shape)\n",
        "df[year]['date'] = dates\n",
        "print(df[year].isna().sum())\n",
        "print(df[year]['date'].str.len().unique())"
      ],
      "execution_count": 125,
      "outputs": [
        {
          "output_type": "stream",
          "text": [
            "482 (482, 4)\n",
            "title      0\n",
            "content    0\n",
            "author     0\n",
            "date       0\n",
            "dtype: int64\n",
            "[11]\n"
          ],
          "name": "stdout"
        }
      ]
    },
    {
      "cell_type": "code",
      "metadata": {
        "id": "LgE2RvwvvgLZ"
      },
      "source": [
        "df['2015']['rect_date'] = df['2015']['date'].str.strip()"
      ],
      "execution_count": 133,
      "outputs": []
    },
    {
      "cell_type": "code",
      "metadata": {
        "id": "VC0EdhL4lRew",
        "outputId": "139b4f8f-6b73-465c-f5ed-0ba08066d508",
        "colab": {
          "base_uri": "https://localhost:8080/",
          "height": 354
        }
      },
      "source": [
        "df['2015'][df['2015']['rect_date'].str.len() > 11]"
      ],
      "execution_count": 144,
      "outputs": [
        {
          "output_type": "execute_result",
          "data": {
            "text/html": [
              "<div>\n",
              "<style scoped>\n",
              "    .dataframe tbody tr th:only-of-type {\n",
              "        vertical-align: middle;\n",
              "    }\n",
              "\n",
              "    .dataframe tbody tr th {\n",
              "        vertical-align: top;\n",
              "    }\n",
              "\n",
              "    .dataframe thead th {\n",
              "        text-align: right;\n",
              "    }\n",
              "</style>\n",
              "<table border=\"1\" class=\"dataframe\">\n",
              "  <thead>\n",
              "    <tr style=\"text-align: right;\">\n",
              "      <th></th>\n",
              "      <th>title</th>\n",
              "      <th>content</th>\n",
              "      <th>author</th>\n",
              "      <th>date</th>\n",
              "      <th>Unnamed: 4</th>\n",
              "      <th>rect_date</th>\n",
              "    </tr>\n",
              "  </thead>\n",
              "  <tbody>\n",
              "    <tr>\n",
              "      <th>64</th>\n",
              "      <td>Hulas Motors formally ceases production</td>\n",
              "      <td>Hulas Motors, the manufacturer of Sherpa, Must...</td>\n",
              "      <td>BHIM GHIMIRE</td>\n",
              "      <td>LILA BALLAV GHIMIREJan 12 2015</td>\n",
              "      <td>NaN</td>\n",
              "      <td>LILA BALLAV GHIMIREJan 12 2015</td>\n",
              "    </tr>\n",
              "    <tr>\n",
              "      <th>481</th>\n",
              "      <td>Upper Tamakoshi stoppage end likely as tempers...</td>\n",
              "      <td>The work stoppage at the Upper Tamakoshi Hydro...</td>\n",
              "      <td>RAJENDRA MANANDHAR</td>\n",
              "      <td>SANJEEV GIRIMar 23 2015</td>\n",
              "      <td>NaN</td>\n",
              "      <td>SANJEEV GIRIMar 23 2015</td>\n",
              "    </tr>\n",
              "    <tr>\n",
              "      <th>619</th>\n",
              "      <td>Illegal extraction of sand, gravel poses eco r...</td>\n",
              "      <td>Illegal extraction has been reported in the Ch...</td>\n",
              "      <td>BHUSAN YADAV</td>\n",
              "      <td>BECHU GAUD &amp; AMRITA ANMOLApr 18 2015</td>\n",
              "      <td>NaN</td>\n",
              "      <td>BECHU GAUD &amp; AMRITA ANMOLApr 18 2015</td>\n",
              "    </tr>\n",
              "    <tr>\n",
              "      <th>900</th>\n",
              "      <td>Ageing Sunsari-Morang irrigation line in dire ...</td>\n",
              "      <td>The ageing structure of the Sunsari-Morang irr...</td>\n",
              "      <td>MADHAV GHIMIRE</td>\n",
              "      <td>Binod BhandariJun 22 2015</td>\n",
              "      <td>NaN</td>\n",
              "      <td>Binod BhandariJun 22 2015</td>\n",
              "    </tr>\n",
              "    <tr>\n",
              "      <th>1091</th>\n",
              "      <td>Paddy fields lie barren due to lack of water</td>\n",
              "      <td>More than 80 percent of the paddy fields in Ma...</td>\n",
              "      <td>RABINDRA UPRETI</td>\n",
              "      <td>DILLI RAM KHATIWADAJul 29 2015</td>\n",
              "      <td>NaN</td>\n",
              "      <td>DILLI RAM KHATIWADAJul 29 2015</td>\n",
              "    </tr>\n",
              "    <tr>\n",
              "      <th>1232</th>\n",
              "      <td>Resurgence of monsoon raises farmers’ hopes</td>\n",
              "      <td>A resurgence of the monsoon after a long droug...</td>\n",
              "      <td>Abdesh Kumar Jha</td>\n",
              "      <td>RABINDRA UPRETIAug 22 2015</td>\n",
              "      <td>NaN</td>\n",
              "      <td>RABINDRA UPRETIAug 22 2015</td>\n",
              "    </tr>\n",
              "  </tbody>\n",
              "</table>\n",
              "</div>"
            ],
            "text/plain": [
              "                                                  title  ...                             rect_date\n",
              "64              Hulas Motors formally ceases production  ...        LILA BALLAV GHIMIREJan 12 2015\n",
              "481   Upper Tamakoshi stoppage end likely as tempers...  ...               SANJEEV GIRIMar 23 2015\n",
              "619   Illegal extraction of sand, gravel poses eco r...  ...  BECHU GAUD & AMRITA ANMOLApr 18 2015\n",
              "900   Ageing Sunsari-Morang irrigation line in dire ...  ...             Binod BhandariJun 22 2015\n",
              "1091       Paddy fields lie barren due to lack of water  ...        DILLI RAM KHATIWADAJul 29 2015\n",
              "1232        Resurgence of monsoon raises farmers’ hopes  ...            RABINDRA UPRETIAug 22 2015\n",
              "\n",
              "[6 rows x 6 columns]"
            ]
          },
          "metadata": {
            "tags": []
          },
          "execution_count": 144
        }
      ]
    },
    {
      "cell_type": "code",
      "metadata": {
        "id": "w3mWQx6UvS5s"
      },
      "source": [
        "df['2014']['rect_date'] = df['2014']['date'].str.strip()"
      ],
      "execution_count": 142,
      "outputs": []
    },
    {
      "cell_type": "code",
      "metadata": {
        "id": "_21I9x4xwnKi",
        "outputId": "ca6d85c0-c56b-45cc-e8e6-a9ea08451323",
        "colab": {
          "base_uri": "https://localhost:8080/"
        }
      },
      "source": [
        "df['2014']['rect_date'].str.len().unique()"
      ],
      "execution_count": 146,
      "outputs": [
        {
          "output_type": "execute_result",
          "data": {
            "text/plain": [
              "array([11, 10, 23, 31, 24, 26, 22, 27])"
            ]
          },
          "metadata": {
            "tags": []
          },
          "execution_count": 146
        }
      ]
    },
    {
      "cell_type": "code",
      "metadata": {
        "id": "Wmhy67QEwTYy",
        "outputId": "2523517d-bf1e-42c5-fd2e-1f16d951749f",
        "colab": {
          "base_uri": "https://localhost:8080/",
          "height": 328
        }
      },
      "source": [
        "df['2014'][df['2014']['rect_date'].str.len() < 11]"
      ],
      "execution_count": 147,
      "outputs": [
        {
          "output_type": "execute_result",
          "data": {
            "text/html": [
              "<div>\n",
              "<style scoped>\n",
              "    .dataframe tbody tr th:only-of-type {\n",
              "        vertical-align: middle;\n",
              "    }\n",
              "\n",
              "    .dataframe tbody tr th {\n",
              "        vertical-align: top;\n",
              "    }\n",
              "\n",
              "    .dataframe thead th {\n",
              "        text-align: right;\n",
              "    }\n",
              "</style>\n",
              "<table border=\"1\" class=\"dataframe\">\n",
              "  <thead>\n",
              "    <tr style=\"text-align: right;\">\n",
              "      <th></th>\n",
              "      <th>title</th>\n",
              "      <th>content</th>\n",
              "      <th>author</th>\n",
              "      <th>date</th>\n",
              "      <th>rect_date</th>\n",
              "    </tr>\n",
              "  </thead>\n",
              "  <tbody>\n",
              "    <tr>\n",
              "      <th>23</th>\n",
              "      <td>\\nGovt preparing food quarantine regulation</td>\n",
              "      <td>\\nThe Department of Food Technology and Qualit...</td>\n",
              "      <td>Post Report</td>\n",
              "      <td>Jan 04 201</td>\n",
              "      <td>Jan 04 201</td>\n",
              "    </tr>\n",
              "    <tr>\n",
              "      <th>24</th>\n",
              "      <td>\\nStone factories gather moss after export ban</td>\n",
              "      <td>\\nAbout three dozen stone crusher factories in...</td>\n",
              "      <td>Madhav Dhungana</td>\n",
              "      <td>Jan 04 201</td>\n",
              "      <td>Jan 04 201</td>\n",
              "    </tr>\n",
              "    <tr>\n",
              "      <th>25</th>\n",
              "      <td>\\nTourist arrivals via air drop 4.9 percent in...</td>\n",
              "      <td>\\nTourist arrivals via air in the month of Dec...</td>\n",
              "      <td>Post Report</td>\n",
              "      <td>Jan 04 201</td>\n",
              "      <td>Jan 04 201</td>\n",
              "    </tr>\n",
              "    <tr>\n",
              "      <th>26</th>\n",
              "      <td>\\nBanijya Bank to sell cross-holdings to highe...</td>\n",
              "      <td>\\nRastriya Banijya Bank (RBB) has decided to s...</td>\n",
              "      <td>Post Report</td>\n",
              "      <td>Jan 04 201</td>\n",
              "      <td>Jan 04 201</td>\n",
              "    </tr>\n",
              "    <tr>\n",
              "      <th>27</th>\n",
              "      <td>\\nBudget ceiling for districts up Rs 17 billion</td>\n",
              "      <td>\\nNPC has increased the budget ceiling by Rs 1...</td>\n",
              "      <td>PRITHVI MAN SHRESTHA</td>\n",
              "      <td>Jan 05 201</td>\n",
              "      <td>Jan 05 201</td>\n",
              "    </tr>\n",
              "    <tr>\n",
              "      <th>44</th>\n",
              "      <td>\\nPharmas demand removal of non-tariff export ...</td>\n",
              "      <td>\\nPharmaceutical entrepreneurs have urged the ...</td>\n",
              "      <td>Post Report</td>\n",
              "      <td>Jan 07 201</td>\n",
              "      <td>Jan 07 201</td>\n",
              "    </tr>\n",
              "    <tr>\n",
              "      <th>45</th>\n",
              "      <td>\\nETFC planning 10-15pc hike in electricity rates</td>\n",
              "      <td>\\nThe Electricity Tariff Fixation Committee (E...</td>\n",
              "      <td>SANJEEV GIRI</td>\n",
              "      <td>Jan 07 201</td>\n",
              "      <td>Jan 07 201</td>\n",
              "    </tr>\n",
              "    <tr>\n",
              "      <th>46</th>\n",
              "      <td>\\nRed tape snags plane registration</td>\n",
              "      <td>\\nNepal Airlines Corporation’s (NAC) plan to i...</td>\n",
              "      <td>SANGAM PRASAIN</td>\n",
              "      <td>Jan 08 201</td>\n",
              "      <td>Jan 08 201</td>\n",
              "    </tr>\n",
              "    <tr>\n",
              "      <th>47</th>\n",
              "      <td>\\nGovt pays Rs 231.7m in bird flu compensation</td>\n",
              "      <td>\\nThe government has provided a total of Rs 23...</td>\n",
              "      <td>Post Report</td>\n",
              "      <td>Jan 08 201</td>\n",
              "      <td>Jan 08 201</td>\n",
              "    </tr>\n",
              "  </tbody>\n",
              "</table>\n",
              "</div>"
            ],
            "text/plain": [
              "                                                title  ...   rect_date\n",
              "23        \\nGovt preparing food quarantine regulation  ...  Jan 04 201\n",
              "24     \\nStone factories gather moss after export ban  ...  Jan 04 201\n",
              "25  \\nTourist arrivals via air drop 4.9 percent in...  ...  Jan 04 201\n",
              "26  \\nBanijya Bank to sell cross-holdings to highe...  ...  Jan 04 201\n",
              "27    \\nBudget ceiling for districts up Rs 17 billion  ...  Jan 05 201\n",
              "44  \\nPharmas demand removal of non-tariff export ...  ...  Jan 07 201\n",
              "45  \\nETFC planning 10-15pc hike in electricity rates  ...  Jan 07 201\n",
              "46                \\nRed tape snags plane registration  ...  Jan 08 201\n",
              "47     \\nGovt pays Rs 231.7m in bird flu compensation  ...  Jan 08 201\n",
              "\n",
              "[9 rows x 5 columns]"
            ]
          },
          "metadata": {
            "tags": []
          },
          "execution_count": 147
        }
      ]
    },
    {
      "cell_type": "code",
      "metadata": {
        "id": "gEi6Hh7Gww6T",
        "outputId": "af55a547-9269-4ac6-c326-d8fe7f09545c",
        "colab": {
          "base_uri": "https://localhost:8080/",
          "height": 529
        }
      },
      "source": [
        "df['2014'][df['2014']['rect_date'].str.len() > 11]"
      ],
      "execution_count": 148,
      "outputs": [
        {
          "output_type": "execute_result",
          "data": {
            "text/html": [
              "<div>\n",
              "<style scoped>\n",
              "    .dataframe tbody tr th:only-of-type {\n",
              "        vertical-align: middle;\n",
              "    }\n",
              "\n",
              "    .dataframe tbody tr th {\n",
              "        vertical-align: top;\n",
              "    }\n",
              "\n",
              "    .dataframe thead th {\n",
              "        text-align: right;\n",
              "    }\n",
              "</style>\n",
              "<table border=\"1\" class=\"dataframe\">\n",
              "  <thead>\n",
              "    <tr style=\"text-align: right;\">\n",
              "      <th></th>\n",
              "      <th>title</th>\n",
              "      <th>content</th>\n",
              "      <th>author</th>\n",
              "      <th>date</th>\n",
              "      <th>rect_date</th>\n",
              "    </tr>\n",
              "  </thead>\n",
              "  <tbody>\n",
              "    <tr>\n",
              "      <th>138</th>\n",
              "      <td>\\nExpanding out from Pokhara</td>\n",
              "      <td>\\nStarting from a small scale in Pokhara, some...</td>\n",
              "      <td>LAL PRASAD SHARMA</td>\n",
              "      <td>Shiva SharmaJan 23 2014</td>\n",
              "      <td>Shiva SharmaJan 23 2014</td>\n",
              "    </tr>\n",
              "    <tr>\n",
              "      <th>329</th>\n",
              "      <td>\\nChallenges abound as Mahat takes charge of F...</td>\n",
              "      <td>\\nAfter six years, Ram Sharan Mahat is back at...</td>\n",
              "      <td>MUKUL HUMAGAIN</td>\n",
              "      <td>PRITHVI MAN SHRESTHAFeb 26 2014</td>\n",
              "      <td>PRITHVI MAN SHRESTHAFeb 26 2014</td>\n",
              "    </tr>\n",
              "    <tr>\n",
              "      <th>336</th>\n",
              "      <td>\\nEast-west electric railway: DPR of Simara-Ta...</td>\n",
              "      <td>\\nThe Ministry of Forest and Soil Conservation...</td>\n",
              "      <td>Ramesh Shrestha</td>\n",
              "      <td>PRAGATI SHAHIFeb 28 2014</td>\n",
              "      <td>PRAGATI SHAHIFeb 28 2014</td>\n",
              "    </tr>\n",
              "    <tr>\n",
              "      <th>337</th>\n",
              "      <td>\\nNepal-bound cargo starts moving from Kolkata...</td>\n",
              "      <td>\\nNepal-bound containers stuck at Kolkata port...</td>\n",
              "      <td>Rajesh Khanal</td>\n",
              "      <td>SHANKAR ACHARYAFeb 28 2014</td>\n",
              "      <td>SHANKAR ACHARYAFeb 28 2014</td>\n",
              "    </tr>\n",
              "    <tr>\n",
              "      <th>881</th>\n",
              "      <td>\\nAsian Dev Bank hands over wind-solar project...</td>\n",
              "      <td>\\nThe Asian Development Bank (ADB) on Monday h...</td>\n",
              "      <td>Ekantipur Report</td>\n",
              "      <td>Post ReportJun 10 2014</td>\n",
              "      <td>Post ReportJun 10 2014</td>\n",
              "    </tr>\n",
              "    <tr>\n",
              "      <th>909</th>\n",
              "      <td>\\nTwo-wheeler registration drops 10pc to 132k ...</td>\n",
              "      <td>\\nRegistration of two-wheelers fell 10 percent...</td>\n",
              "      <td>Ekantipur Report</td>\n",
              "      <td>Post ReportJun 17 2014</td>\n",
              "      <td>Post ReportJun 17 2014</td>\n",
              "    </tr>\n",
              "    <tr>\n",
              "      <th>1625</th>\n",
              "      <td>\\nApex court upholds Jha’s appointment as NTA ...</td>\n",
              "      <td>\\nThe Supreme Court (SC) on Tuesday upheld the...</td>\n",
              "      <td>Pranab Kharel</td>\n",
              "      <td>SANJEEV GIRIOct 29 2014</td>\n",
              "      <td>SANJEEV GIRIOct 29 2014</td>\n",
              "    </tr>\n",
              "    <tr>\n",
              "      <th>1628</th>\n",
              "      <td>\\nSub-committee formed to resolve differences ...</td>\n",
              "      <td>\\nCabinet has formed a sub-committee led by th...</td>\n",
              "      <td>PRITHVI MAN SHRESTHA</td>\n",
              "      <td>SANJEEV GIRIOct 30 2014</td>\n",
              "      <td>SANJEEV GIRIOct 30 2014</td>\n",
              "    </tr>\n",
              "    <tr>\n",
              "      <th>1884</th>\n",
              "      <td>\\nBhotekoshi hydropower project row: Ministry ...</td>\n",
              "      <td>\\nAfter Bhotekoshi Power Company knocked on PM...</td>\n",
              "      <td>SANJEEV GIRI</td>\n",
              "      <td>RISHI RAM POUDELDec 14 2014</td>\n",
              "      <td>RISHI RAM POUDELDec 14 2014</td>\n",
              "    </tr>\n",
              "    <tr>\n",
              "      <th>1971</th>\n",
              "      <td>\\nFlourishing orange farms hit by labour short...</td>\n",
              "      <td>\\nPabitra Rai of Khoku-5 has 210 orange trees ...</td>\n",
              "      <td>BHIM GHIMIRE</td>\n",
              "      <td>Binod GhimireDec 29 2014</td>\n",
              "      <td>Binod GhimireDec 29 2014</td>\n",
              "    </tr>\n",
              "  </tbody>\n",
              "</table>\n",
              "</div>"
            ],
            "text/plain": [
              "                                                  title  ...                        rect_date\n",
              "138                        \\nExpanding out from Pokhara  ...          Shiva SharmaJan 23 2014\n",
              "329   \\nChallenges abound as Mahat takes charge of F...  ...  PRITHVI MAN SHRESTHAFeb 26 2014\n",
              "336   \\nEast-west electric railway: DPR of Simara-Ta...  ...         PRAGATI SHAHIFeb 28 2014\n",
              "337   \\nNepal-bound cargo starts moving from Kolkata...  ...       SHANKAR ACHARYAFeb 28 2014\n",
              "881   \\nAsian Dev Bank hands over wind-solar project...  ...           Post ReportJun 10 2014\n",
              "909   \\nTwo-wheeler registration drops 10pc to 132k ...  ...           Post ReportJun 17 2014\n",
              "1625  \\nApex court upholds Jha’s appointment as NTA ...  ...          SANJEEV GIRIOct 29 2014\n",
              "1628  \\nSub-committee formed to resolve differences ...  ...          SANJEEV GIRIOct 30 2014\n",
              "1884  \\nBhotekoshi hydropower project row: Ministry ...  ...      RISHI RAM POUDELDec 14 2014\n",
              "1971  \\nFlourishing orange farms hit by labour short...  ...         Binod GhimireDec 29 2014\n",
              "\n",
              "[10 rows x 5 columns]"
            ]
          },
          "metadata": {
            "tags": []
          },
          "execution_count": 148
        }
      ]
    },
    {
      "cell_type": "code",
      "metadata": {
        "id": "eo5xioRdw_z9"
      },
      "source": [
        ""
      ],
      "execution_count": null,
      "outputs": []
    }
  ]
}