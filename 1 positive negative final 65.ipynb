{
  "nbformat": 4,
  "nbformat_minor": 0,
  "metadata": {
    "colab": {
      "name": "scratchpad",
      "provenance": [],
      "machine_shape": "hm",
      "include_colab_link": true
    },
    "kernelspec": {
      "display_name": "Python 3",
      "name": "python3"
    },
    "accelerator": "GPU"
  },
  "cells": [
    {
      "cell_type": "markdown",
      "metadata": {
        "id": "view-in-github",
        "colab_type": "text"
      },
      "source": [
        "<a href=\"https://colab.research.google.com/github/pratik-poudel/financial_news_stock/blob/master/1%20positive%20negative%20final%2065.ipynb\" target=\"_parent\"><img src=\"https://colab.research.google.com/assets/colab-badge.svg\" alt=\"Open In Colab\"/></a>"
      ]
    },
    {
      "cell_type": "code",
      "metadata": {
        "id": "0jGP6ocnmwnZ"
      },
      "source": [
        "!pip install mlxtend --upgrade"
      ],
      "execution_count": null,
      "outputs": []
    },
    {
      "cell_type": "code",
      "metadata": {
        "id": "lIYdn1woOS1n"
      },
      "source": [
        "import numpy as np\n",
        "import pandas as pd\n",
        "import matplotlib.pyplot as plt\n",
        "\n",
        "\n",
        "\n",
        "import tensorflow as tf\n",
        "import tensorflow_datasets as tfds\n",
        "\n",
        "from tensorflow.keras.preprocessing.text import Tokenizer\n",
        "from tensorflow.keras.preprocessing.sequence import pad_sequences\n",
        "\n",
        "from tensorflow.keras.models import Sequential\n",
        "from tensorflow.keras.layers import Embedding, Dropout, Bidirectional,LSTM, GlobalMaxPool1D, Dense\n",
        "from tensorflow.keras.utils import to_categorical, plot_model\n",
        "\n",
        "\n",
        "from sklearn.model_selection import train_test_split\n",
        "from sklearn.preprocessing import LabelEncoder\n",
        "from sklearn.metrics import confusion_matrix, roc_curve, roc_auc_score, accuracy_score,precision_recall_fscore_support\n",
        "from sklearn.utils import resample, shuffle\n",
        "\n",
        "\n",
        "from mlxtend.plotting import plot_confusion_matrix\n",
        "import warnings \n",
        "warnings.filterwarnings('ignore')"
      ],
      "execution_count": 2,
      "outputs": []
    },
    {
      "cell_type": "markdown",
      "metadata": {
        "id": "dUTvPQ9vRok2"
      },
      "source": [
        "# Financial Phrase Bank "
      ]
    },
    {
      "cell_type": "code",
      "metadata": {
        "id": "4u2s5DZARoL6"
      },
      "source": [
        "fin_data = pd.read_table('/content/Sentences_50Agree.txt', delimiter='\\r\\n')"
      ],
      "execution_count": 82,
      "outputs": []
    },
    {
      "cell_type": "code",
      "metadata": {
        "id": "OQdubjqSRoIp"
      },
      "source": [
        "values = np.array([fin_data.values[i][0].split('@') for i in range(fin_data.shape[0])])\n",
        "data = pd.DataFrame({'sentence': values[:, 0], 'sentiment':values[:, 1]})"
      ],
      "execution_count": 83,
      "outputs": []
    },
    {
      "cell_type": "code",
      "metadata": {
        "id": "slCvtjgNRoFN",
        "colab": {
          "base_uri": "https://localhost:8080/",
          "height": 145
        },
        "outputId": "0b24d2da-9d10-4c10-ecc3-8dc2deed2aff"
      },
      "source": [
        "data.head(2)"
      ],
      "execution_count": 84,
      "outputs": [
        {
          "output_type": "execute_result",
          "data": {
            "text/html": [
              "<div>\n",
              "<style scoped>\n",
              "    .dataframe tbody tr th:only-of-type {\n",
              "        vertical-align: middle;\n",
              "    }\n",
              "\n",
              "    .dataframe tbody tr th {\n",
              "        vertical-align: top;\n",
              "    }\n",
              "\n",
              "    .dataframe thead th {\n",
              "        text-align: right;\n",
              "    }\n",
              "</style>\n",
              "<table border=\"1\" class=\"dataframe\">\n",
              "  <thead>\n",
              "    <tr style=\"text-align: right;\">\n",
              "      <th></th>\n",
              "      <th>sentence</th>\n",
              "      <th>sentiment</th>\n",
              "    </tr>\n",
              "  </thead>\n",
              "  <tbody>\n",
              "    <tr>\n",
              "      <th>0</th>\n",
              "      <td>Technopolis plans to develop in stages an area of no less than 100,000 square meters in order to host companies working in computer technologies and telecommunications , the statement said .</td>\n",
              "      <td>neutral</td>\n",
              "    </tr>\n",
              "    <tr>\n",
              "      <th>1</th>\n",
              "      <td>The international electronic industry company Elcoteq has laid off tens of employees from its Tallinn facility ; contrary to earlier layoffs the company contracted the ranks of its office workers , the daily Postimees reported .</td>\n",
              "      <td>negative</td>\n",
              "    </tr>\n",
              "  </tbody>\n",
              "</table>\n",
              "</div>"
            ],
            "text/plain": [
              "                                                                                                                                                                                                                               sentence sentiment\n",
              "0  Technopolis plans to develop in stages an area of no less than 100,000 square meters in order to host companies working in computer technologies and telecommunications , the statement said .                                        neutral \n",
              "1  The international electronic industry company Elcoteq has laid off tens of employees from its Tallinn facility ; contrary to earlier layoffs the company contracted the ranks of its office workers , the daily Postimees reported .  negative"
            ]
          },
          "metadata": {
            "tags": []
          },
          "execution_count": 84
        }
      ]
    },
    {
      "cell_type": "code",
      "metadata": {
        "id": "8cUSOhJCRoBo",
        "colab": {
          "base_uri": "https://localhost:8080/",
          "height": 302
        },
        "outputId": "1ae7bd15-418c-460b-df62-8123f9307486"
      },
      "source": [
        "data['sentiment'].value_counts().plot(kind='bar')\n",
        "plt.show()"
      ],
      "execution_count": 85,
      "outputs": [
        {
          "output_type": "display_data",
          "data": {
            "image/png": "[encoded data removed]",
            "text/plain": [
              "<Figure size 432x288 with 1 Axes>"
            ]
          },
          "metadata": {
            "tags": [],
            "needs_background": "light"
          }
        }
      ]
    },
    {
      "cell_type": "code",
      "metadata": {
        "id": "fxyIdicGpwZS"
      },
      "source": [
        "X= data.sentence\n",
        "y = data.sentiment\n",
        "neu = y[y == 'neutral'].index\n",
        "X= X.drop(neu)\n",
        "y = y.drop(neu)\n",
        "X_train, X_test, y_train, y_test = train_test_split(X, y, stratify=y, random_state=60, test_size=0.2)"
      ],
      "execution_count": 98,
      "outputs": []
    },
    {
      "cell_type": "code",
      "metadata": {
        "id": "Kju4Yok6Vzyw",
        "colab": {
          "base_uri": "https://localhost:8080/"
        },
        "outputId": "7f1d375c-469f-4e9d-f6ea-60cb976e8de5"
      },
      "source": [
        "X_train.shape, X_test.shape, X.shape"
      ],
      "execution_count": 99,
      "outputs": [
        {
          "output_type": "execute_result",
          "data": {
            "text/plain": [
              "((1573,), (394,), (1967,))"
            ]
          },
          "metadata": {
            "tags": []
          },
          "execution_count": 99
        }
      ]
    },
    {
      "cell_type": "code",
      "metadata": {
        "id": "NyWPP77F9k1I"
      },
      "source": [
        "# neu_index = y_train[y_train == 'neutral'].index\n",
        "pos_index = y_train[y_train == 'positive'].index\n",
        "neg_index = y_train[y_train == 'negative'].index"
      ],
      "execution_count": 100,
      "outputs": []
    },
    {
      "cell_type": "code",
      "metadata": {
        "id": "ODCDkrzN9nCL"
      },
      "source": [
        "\n",
        "# Down-sample neutral class\n",
        "# X_train_neu, y_train_neu = resample(X_train.loc[neu_index], y_train.loc[neu_index],\n",
        "#                                     n_samples=len(pos_index), replace=False,\n",
        "#                                     random_state=60)\n",
        "\n",
        "# Up-sample negative class\n",
        "X_train_neg, y_train_neg = resample(X_train.loc[neg_index], y_train.loc[neg_index],\n",
        "                                    n_samples=len(pos_index), replace=True,\n",
        "                                    random_state=60)"
      ],
      "execution_count": 101,
      "outputs": []
    },
    {
      "cell_type": "code",
      "metadata": {
        "id": "44cl_AYp9m_H",
        "colab": {
          "base_uri": "https://localhost:8080/"
        },
        "outputId": "df9b315e-732e-40ed-81f2-29937e9a025b"
      },
      "source": [
        "# # Combine resampled classes\n",
        "# X_train_resample = X_train.loc[pos_index].append([X_train_neu, X_train_neg])\n",
        "# y_train_resample = y_train.loc[pos_index].append([y_train_neu, y_train_neg])\n",
        "\n",
        "# # Shuffle samples\n",
        "# X_train_resample, y_train_resample = shuffle(X_train_resample, y_train_resample, random_state=7)\n",
        "\n",
        "# # Display new class counts\n",
        "# print(y_train_resample.value_counts())"
      ],
      "execution_count": 11,
      "outputs": [
        {
          "output_type": "stream",
          "text": [
            "neutral     1090\n",
            "negative    1090\n",
            "positive    1090\n",
            "Name: sentiment, dtype: int64\n"
          ],
          "name": "stdout"
        }
      ]
    },
    {
      "cell_type": "code",
      "metadata": {
        "id": "WLxzvAGa8m7K"
      },
      "source": [
        "X_train = X_train.loc[pos_index].append(X_train_neg)\n",
        "y_train = y_train.loc[pos_index].append(y_train_neg)\n",
        "X_train, y_train = shuffle(X_train, y_train, random_state=60)"
      ],
      "execution_count": 102,
      "outputs": []
    },
    {
      "cell_type": "code",
      "metadata": {
        "id": "ZlDOdAjQ8q0V",
        "outputId": "cd5fd009-3596-43cb-d923-2212fb257839",
        "colab": {
          "base_uri": "https://localhost:8080/"
        }
      },
      "source": [
        "y_test.value_counts()"
      ],
      "execution_count": 103,
      "outputs": [
        {
          "output_type": "execute_result",
          "data": {
            "text/plain": [
              "positive    273\n",
              "negative    121\n",
              "Name: sentiment, dtype: int64"
            ]
          },
          "metadata": {
            "tags": []
          },
          "execution_count": 103
        }
      ]
    },
    {
      "cell_type": "markdown",
      "metadata": {
        "id": "CbxLax-jWVoy"
      },
      "source": [
        "# Prepare Data for model"
      ]
    },
    {
      "cell_type": "code",
      "metadata": {
        "id": "o7UChC8JWgIq"
      },
      "source": [
        "# Remove Punctuation and assign integer to each word\n",
        "tokenizer = Tokenizer()\n",
        "tokenizer.fit_on_texts(X_train)\n",
        "X_train_seq = tokenizer.texts_to_sequences(X_train)\n",
        "X_test_seq = tokenizer.texts_to_sequences(X_test)"
      ],
      "execution_count": 104,
      "outputs": []
    },
    {
      "cell_type": "code",
      "metadata": {
        "id": "WfblAUy2WgI7"
      },
      "source": [
        "# Make sequences of equal length \n",
        "max_len = np.max([len(X_train_seq[i]) for i in range(len(X_train_seq))])\n",
        "X_train_seq = pad_sequences(X_train_seq, maxlen=max_len)\n",
        "X_test_seq = pad_sequences(X_test_seq, maxlen=max_len)"
      ],
      "execution_count": 105,
      "outputs": []
    },
    {
      "cell_type": "code",
      "metadata": {
        "colab": {
          "base_uri": "https://localhost:8080/"
        },
        "id": "9TCWLyfvWgI8",
        "outputId": "c07ef98e-9c4d-4046-9576-d51e9f4e031b"
      },
      "source": [
        "max_len"
      ],
      "execution_count": 106,
      "outputs": [
        {
          "output_type": "execute_result",
          "data": {
            "text/plain": [
              "53"
            ]
          },
          "metadata": {
            "tags": []
          },
          "execution_count": 106
        }
      ]
    },
    {
      "cell_type": "code",
      "metadata": {
        "id": "uAwMS-K-WgI-"
      },
      "source": [
        "# Convert sentiment values to one hot encoded for Keras model\n",
        "le = LabelEncoder()\n",
        "le.fit(y_train)\n",
        "y_train_seq = to_categorical(le.transform(y_train))\n",
        "y_test_seq = to_categorical(le.transform(y_test))"
      ],
      "execution_count": 118,
      "outputs": []
    },
    {
      "cell_type": "code",
      "metadata": {
        "id": "1cY_gk6L9_0r",
        "outputId": "2b387ee6-3ce4-4f64-f51c-ec7f7430dd65",
        "colab": {
          "base_uri": "https://localhost:8080/"
        }
      },
      "source": [
        "le.classes_"
      ],
      "execution_count": 119,
      "outputs": [
        {
          "output_type": "execute_result",
          "data": {
            "text/plain": [
              "array(['negative', 'positive'], dtype=object)"
            ]
          },
          "metadata": {
            "tags": []
          },
          "execution_count": 119
        }
      ]
    },
    {
      "cell_type": "markdown",
      "metadata": {
        "id": "-i0nraavVn0q"
      },
      "source": [
        "# EMBEDDINGS"
      ]
    },
    {
      "cell_type": "code",
      "metadata": {
        "id": "m-sKHgtlVhyG",
        "outputId": "97295044-90f2-4360-c023-78f46a9bf96c",
        "colab": {
          "base_uri": "https://localhost:8080/"
        }
      },
      "source": [
        "# !wget http://nlp.stanford.edu/data/glove.6B.zip\n",
        "# !unzip glove.6B.zip"
      ],
      "execution_count": 16,
      "outputs": [
        {
          "output_type": "stream",
          "text": [
            "--2021-03-21 03:31:04--  http://nlp.stanford.edu/data/glove.6B.zip\n",
            "Resolving nlp.stanford.edu (nlp.stanford.edu)... 171.64.67.140\n",
            "Connecting to nlp.stanford.edu (nlp.stanford.edu)|171.64.67.140|:80... connected.\n",
            "HTTP request sent, awaiting response... 302 Found\n",
            "Location: https://nlp.stanford.edu/data/glove.6B.zip [following]\n",
            "--2021-03-21 03:31:04--  https://nlp.stanford.edu/data/glove.6B.zip\n",
            "Connecting to nlp.stanford.edu (nlp.stanford.edu)|171.64.67.140|:443... connected.\n",
            "HTTP request sent, awaiting response... 301 Moved Permanently\n",
            "Location: http://downloads.cs.stanford.edu/nlp/data/glove.6B.zip [following]\n",
            "--2021-03-21 03:31:05--  http://downloads.cs.stanford.edu/nlp/data/glove.6B.zip\n",
            "Resolving downloads.cs.stanford.edu (downloads.cs.stanford.edu)... 171.64.64.22\n",
            "Connecting to downloads.cs.stanford.edu (downloads.cs.stanford.edu)|171.64.64.22|:80... connected.\n",
            "HTTP request sent, awaiting response... 200 OK\n",
            "Length: 862182613 (822M) [application/zip]\n",
            "Saving to: ‘glove.6B.zip’\n",
            "\n",
            "glove.6B.zip        100%[===================>] 822.24M  5.02MB/s    in 2m 40s  \n",
            "\n",
            "2021-03-21 03:33:44 (5.14 MB/s) - ‘glove.6B.zip’ saved [862182613/862182613]\n",
            "\n",
            "Archive:  glove.6B.zip\n",
            "  inflating: glove.6B.50d.txt        \n",
            "  inflating: glove.6B.100d.txt       \n",
            "  inflating: glove.6B.200d.txt       \n",
            "  inflating: glove.6B.300d.txt       \n"
          ],
          "name": "stdout"
        }
      ]
    },
    {
      "cell_type": "code",
      "metadata": {
        "id": "OgVf4Ta6Wl9n"
      },
      "source": [
        "dict_w2v = {}\n",
        "with open('/content/glove.6B.100d.txt', 'r') as file:\n",
        "    for line in file:\n",
        "        tokens = line.split()\n",
        "        word = tokens[0]\n",
        "        vector = np.array(tokens[1:], dtype=np.float32)\n",
        "        if vector.shape[0] == 100:\n",
        "            dict_w2v[word] = vector\n",
        "        else:\n",
        "            print(\"There is issue with \" + word)"
      ],
      "execution_count": 109,
      "outputs": []
    },
    {
      "cell_type": "code",
      "metadata": {
        "id": "EldWTnWtWl61",
        "colab": {
          "base_uri": "https://localhost:8080/"
        },
        "outputId": "ef628d37-04b2-4e91-9281-9838e573bebb"
      },
      "source": [
        "print(\"dictionary size :\" ,len(dict_w2v) )"
      ],
      "execution_count": 110,
      "outputs": [
        {
          "output_type": "stream",
          "text": [
            "dictionary size : 400000\n"
          ],
          "name": "stdout"
        }
      ]
    },
    {
      "cell_type": "code",
      "metadata": {
        "id": "O1IKoy3EWl3_",
        "colab": {
          "base_uri": "https://localhost:8080/"
        },
        "outputId": "a3844742-65e3-47e0-d78b-6fda8959450f"
      },
      "source": [
        "words_found = set()\n",
        "words_not_found = set()\n",
        "for word in tokenizer.word_index:\n",
        "    vec = dict_w2v.get(word)\n",
        "    if vec is not None:\n",
        "        words_found.add(word)\n",
        "    else:\n",
        "        words_not_found.add(word)\n",
        "len(words_found), len(words_not_found), len(tokenizer.word_index)"
      ],
      "execution_count": 111,
      "outputs": [
        {
          "output_type": "execute_result",
          "data": {
            "text/plain": [
              "(4273, 551, 4824)"
            ]
          },
          "metadata": {
            "tags": []
          },
          "execution_count": 111
        }
      ]
    },
    {
      "cell_type": "code",
      "metadata": {
        "id": "8zDycGo2jsF5"
      },
      "source": [
        "EMBEDDING_DIM = 100\n",
        "VOCAB_SIZE = len(tokenizer.word_index)\n",
        "embedding_matrix = np.zeros((VOCAB_SIZE +1, EMBEDDING_DIM))"
      ],
      "execution_count": 112,
      "outputs": []
    },
    {
      "cell_type": "code",
      "metadata": {
        "id": "P1ZAm1Kdjr-I",
        "colab": {
          "base_uri": "https://localhost:8080/"
        },
        "outputId": "8b20f415-a25f-453c-c50f-3b6be735ba39"
      },
      "source": [
        "unk_cnt = 0\n",
        "unk_set = set()\n",
        "for word, i in tokenizer.word_index.items():\n",
        "    emb_vector = dict_w2v.get(word)\n",
        "    if emb_vector is not None:\n",
        "        embedding_matrix[i] = emb_vector\n",
        "    else:\n",
        "        unk_cnt += 1\n",
        "        unk_set.add(word)\n",
        "unk_cnt"
      ],
      "execution_count": 113,
      "outputs": [
        {
          "output_type": "execute_result",
          "data": {
            "text/plain": [
              "551"
            ]
          },
          "metadata": {
            "tags": []
          },
          "execution_count": 113
        }
      ]
    },
    {
      "cell_type": "code",
      "metadata": {
        "id": "snkNNeOXgsEd",
        "colab": {
          "base_uri": "https://localhost:8080/"
        },
        "outputId": "a5aa728c-886a-4fc0-fdb8-497ebd7d8bf1"
      },
      "source": [
        "X_train_seq.shape, y_train_seq.shape"
      ],
      "execution_count": 114,
      "outputs": [
        {
          "output_type": "execute_result",
          "data": {
            "text/plain": [
              "((2180, 53), (2180,))"
            ]
          },
          "metadata": {
            "tags": []
          },
          "execution_count": 114
        }
      ]
    },
    {
      "cell_type": "code",
      "metadata": {
        "id": "6llz2rAam3BI",
        "colab": {
          "base_uri": "https://localhost:8080/",
          "height": 1000
        },
        "outputId": "41e3821e-66d1-4d67-8803-37e1e88540a5"
      },
      "source": [
        "np.random.seed(60)\n",
        "from tensorflow.keras.callbacks import EarlyStopping, ModelCheckpoint\n",
        "\n",
        "model = Sequential()\n",
        "model.add(Embedding(VOCAB_SIZE +1, EMBEDDING_DIM, weights=[embedding_matrix],input_length=max_len, trainable=False))\n",
        "model.add(Dropout(0.25))\n",
        "model.add(Bidirectional(LSTM(200, return_sequences=True), merge_mode='concat')) #{\"sum\", \"mul\", \"ave\", \"concat\", None}\n",
        "model.add(Dropout(0.25))\n",
        "model.add(GlobalMaxPool1D())\n",
        "model.add(Dense(50, activation='sigmoid'))\n",
        "model.add(Dropout(0.25))\n",
        "model.add(Dense(2, activation='softmax'))\n",
        "model.compile(loss='categorical_crossentropy', optimizer='rmsprop', metrics=[ \n",
        "                                                                            #  'Precision',                                                        \n",
        "                                                                             'Recall',\n",
        "                                                                            #  'accuracy'\n",
        "                                                                             ])\n",
        "# model.summary()\n",
        "\n",
        "early_stopping = EarlyStopping(monitor='val_loss', mode='min', verbose=1, patience=25)\n",
        "mcp_save = ModelCheckpoint('./model.hdf5', save_best_only=True, monitor='val_loss', mode='min')\n",
        "\n",
        "\n",
        "batch_size = 64\n",
        "epochs = 100\n",
        "\n",
        "\n",
        "history = model.fit(X_train_seq, y_train_seq, epochs=epochs, batch_size=batch_size,verbose=1, validation_data=(X_test_seq, y_test_seq), \n",
        "                    callbacks=[early_stopping, mcp_save], shuffle=False)\n",
        "\n",
        "\n",
        "%matplotlib inline\n",
        "def plot_metric(history, metric):\n",
        "    train_metrics = history.history[metric]\n",
        "    val_metrics = history.history['val_'+metric]\n",
        "    epochs = range(1, len(train_metrics) + 1)\n",
        "    plt.plot(epochs, train_metrics)\n",
        "    plt.plot(epochs, val_metrics)\n",
        "    plt.title('Training and validation '+ metric)\n",
        "    plt.xlabel(\"Epochs\")\n",
        "    plt.ylabel(metric)\n",
        "    plt.legend([\"train_\"+metric, 'val_'+metric])\n",
        "    plt.show()\n",
        "\n",
        "plot_metric(history, 'loss')\n",
        "\n",
        "\n",
        "model.load_weights('model.hdf5')\n",
        "\n",
        "preds = model.predict(X_test_seq, batch_size=batch_size)\n",
        "true_y = np.argmax(y_test_seq, axis=1)\n",
        "pred_y = np.argmax(preds, axis=1)\n",
        "\n",
        "c_mat = confusion_matrix(true_y, pred_y)\n",
        "plot_confusion_matrix(c_mat, cmap='Blues', class_names = le.classes_, figsize=(5, 5))\n",
        "plt.show()\n",
        "\n",
        "p, r, f1, s = precision_recall_fscore_support(true_y, pred_y, average=None)\n",
        "\n",
        "# Print precision, recall, f1 score and support\n",
        "results = pd.DataFrame({'1-Precision': p, '2-Recall': r, '3-F1 score': f1, '4-Support': s}, index=le.classes_)\n",
        "\n",
        "# Print precision, recall, f1 score and support\n",
        "print(results.round(decimals=3))"
      ],
      "execution_count": 120,
      "outputs": [
        {
          "output_type": "stream",
          "text": [
            "Epoch 1/100\n",
            "35/35 [==============================] - 4s 33ms/step - loss: 0.7291 - recall: 0.5434 - val_loss: 0.9386 - val_recall: 0.3553\n",
            "Epoch 2/100\n",
            "35/35 [==============================] - 0s 13ms/step - loss: 0.5972 - recall: 0.6956 - val_loss: 0.9356 - val_recall: 0.4010\n",
            "Epoch 3/100\n",
            "35/35 [==============================] - 0s 14ms/step - loss: 0.5328 - recall: 0.7372 - val_loss: 1.2480 - val_recall: 0.4213\n",
            "Epoch 4/100\n",
            "35/35 [==============================] - 0s 14ms/step - loss: 0.5115 - recall: 0.7633 - val_loss: 0.8228 - val_recall: 0.5330\n",
            "Epoch 5/100\n",
            "35/35 [==============================] - 0s 14ms/step - loss: 0.4618 - recall: 0.7753 - val_loss: 0.5527 - val_recall: 0.7081\n",
            "Epoch 6/100\n",
            "35/35 [==============================] - 0s 14ms/step - loss: 0.4098 - recall: 0.8071 - val_loss: 0.5744 - val_recall: 0.6878\n",
            "Epoch 7/100\n",
            "35/35 [==============================] - 0s 13ms/step - loss: 0.4009 - recall: 0.8226 - val_loss: 0.7915 - val_recall: 0.5685\n",
            "Epoch 8/100\n",
            "35/35 [==============================] - 0s 14ms/step - loss: 0.3582 - recall: 0.8357 - val_loss: 0.4233 - val_recall: 0.7817\n",
            "Epoch 9/100\n",
            "35/35 [==============================] - 0s 14ms/step - loss: 0.3104 - recall: 0.8717 - val_loss: 0.4490 - val_recall: 0.7766\n",
            "Epoch 10/100\n",
            "35/35 [==============================] - 0s 14ms/step - loss: 0.3095 - recall: 0.8717 - val_loss: 0.3939 - val_recall: 0.8147\n",
            "Epoch 11/100\n",
            "35/35 [==============================] - 0s 13ms/step - loss: 0.2536 - recall: 0.8942 - val_loss: 0.3687 - val_recall: 0.8350\n",
            "Epoch 12/100\n",
            "35/35 [==============================] - 0s 14ms/step - loss: 0.2352 - recall: 0.9055 - val_loss: 0.4174 - val_recall: 0.8096\n",
            "Epoch 13/100\n",
            "35/35 [==============================] - 0s 14ms/step - loss: 0.2242 - recall: 0.9158 - val_loss: 0.4066 - val_recall: 0.8147\n",
            "Epoch 14/100\n",
            "35/35 [==============================] - 0s 13ms/step - loss: 0.1970 - recall: 0.9204 - val_loss: 0.3785 - val_recall: 0.8274\n",
            "Epoch 15/100\n",
            "35/35 [==============================] - 0s 13ms/step - loss: 0.1696 - recall: 0.9290 - val_loss: 0.3727 - val_recall: 0.8401\n",
            "Epoch 16/100\n",
            "35/35 [==============================] - 0s 13ms/step - loss: 0.1960 - recall: 0.9160 - val_loss: 0.3513 - val_recall: 0.8503\n",
            "Epoch 17/100\n",
            "35/35 [==============================] - 0s 13ms/step - loss: 0.1301 - recall: 0.9520 - val_loss: 0.3604 - val_recall: 0.8604\n",
            "Epoch 18/100\n",
            "35/35 [==============================] - 0s 13ms/step - loss: 0.1239 - recall: 0.9558 - val_loss: 0.3979 - val_recall: 0.8553\n",
            "Epoch 19/100\n",
            "35/35 [==============================] - 0s 14ms/step - loss: 0.1125 - recall: 0.9589 - val_loss: 0.8920 - val_recall: 0.7132\n",
            "Epoch 20/100\n",
            "35/35 [==============================] - 0s 14ms/step - loss: 0.1147 - recall: 0.9563 - val_loss: 0.3823 - val_recall: 0.8680\n",
            "Epoch 21/100\n",
            "35/35 [==============================] - 0s 13ms/step - loss: 0.0912 - recall: 0.9675 - val_loss: 0.3890 - val_recall: 0.8731\n",
            "Epoch 22/100\n",
            "35/35 [==============================] - 0s 14ms/step - loss: 0.1230 - recall: 0.9597 - val_loss: 0.5058 - val_recall: 0.8401\n",
            "Epoch 23/100\n",
            "35/35 [==============================] - 0s 14ms/step - loss: 0.1037 - recall: 0.9610 - val_loss: 0.3660 - val_recall: 0.8553\n",
            "Epoch 24/100\n",
            "35/35 [==============================] - 0s 13ms/step - loss: 0.0987 - recall: 0.9612 - val_loss: 0.4724 - val_recall: 0.8832\n",
            "Epoch 25/100\n",
            "35/35 [==============================] - 0s 14ms/step - loss: 0.0770 - recall: 0.9769 - val_loss: 0.4294 - val_recall: 0.8528\n",
            "Epoch 26/100\n",
            "35/35 [==============================] - 0s 14ms/step - loss: 0.0826 - recall: 0.9689 - val_loss: 0.4299 - val_recall: 0.8756\n",
            "Epoch 27/100\n",
            "35/35 [==============================] - 0s 13ms/step - loss: 0.0567 - recall: 0.9798 - val_loss: 0.4363 - val_recall: 0.8604\n",
            "Epoch 28/100\n",
            "35/35 [==============================] - 0s 14ms/step - loss: 0.0665 - recall: 0.9816 - val_loss: 0.3696 - val_recall: 0.8807\n",
            "Epoch 29/100\n",
            "35/35 [==============================] - 0s 14ms/step - loss: 0.0452 - recall: 0.9846 - val_loss: 0.4421 - val_recall: 0.8934\n",
            "Epoch 30/100\n",
            "35/35 [==============================] - 0s 14ms/step - loss: 0.0724 - recall: 0.9723 - val_loss: 0.4777 - val_recall: 0.8655\n",
            "Epoch 31/100\n",
            "35/35 [==============================] - 0s 13ms/step - loss: 0.0549 - recall: 0.9824 - val_loss: 0.4966 - val_recall: 0.8680\n",
            "Epoch 32/100\n",
            "35/35 [==============================] - 0s 13ms/step - loss: 0.0550 - recall: 0.9816 - val_loss: 0.4764 - val_recall: 0.8604\n",
            "Epoch 33/100\n",
            "35/35 [==============================] - 0s 13ms/step - loss: 0.0340 - recall: 0.9890 - val_loss: 0.4390 - val_recall: 0.8883\n",
            "Epoch 34/100\n",
            "35/35 [==============================] - 0s 13ms/step - loss: 0.0233 - recall: 0.9920 - val_loss: 0.6729 - val_recall: 0.7970\n",
            "Epoch 35/100\n",
            "35/35 [==============================] - 0s 13ms/step - loss: 0.0474 - recall: 0.9844 - val_loss: 0.4506 - val_recall: 0.8782\n",
            "Epoch 36/100\n",
            "35/35 [==============================] - 0s 14ms/step - loss: 0.0332 - recall: 0.9871 - val_loss: 0.4785 - val_recall: 0.8832\n",
            "Epoch 37/100\n",
            "35/35 [==============================] - 0s 13ms/step - loss: 0.0388 - recall: 0.9854 - val_loss: 0.4952 - val_recall: 0.8604\n",
            "Epoch 38/100\n",
            "35/35 [==============================] - 0s 14ms/step - loss: 0.0332 - recall: 0.9889 - val_loss: 0.5050 - val_recall: 0.8731\n",
            "Epoch 39/100\n",
            "35/35 [==============================] - 0s 14ms/step - loss: 0.0261 - recall: 0.9919 - val_loss: 0.4739 - val_recall: 0.8756\n",
            "Epoch 40/100\n",
            "35/35 [==============================] - 0s 14ms/step - loss: 0.0282 - recall: 0.9906 - val_loss: 0.5045 - val_recall: 0.8807\n",
            "Epoch 41/100\n",
            "35/35 [==============================] - 0s 14ms/step - loss: 0.0258 - recall: 0.9898 - val_loss: 0.4628 - val_recall: 0.8883\n",
            "Epoch 00041: early stopping\n"
          ],
          "name": "stdout"
        },
        {
          "output_type": "display_data",
          "data": {
            "image/png": "[encoded data removed]",
            "text/plain": [
              "<Figure size 432x288 with 1 Axes>"
            ]
          },
          "metadata": {
            "tags": [],
            "needs_background": "light"
          }
        },
        {
          "output_type": "display_data",
          "data": {
            "image/png": "[encoded data removed]",
            "text/plain": [
              "<Figure size 360x360 with 1 Axes>"
            ]
          },
          "metadata": {
            "tags": [],
            "needs_background": "light"
          }
        },
        {
          "output_type": "stream",
          "text": [
            "          1-Precision  2-Recall  3-F1 score  4-Support\n",
            "negative  0.754        0.76      0.757       121      \n",
            "positive  0.893        0.89      0.892       273      \n"
          ],
          "name": "stdout"
        }
      ]
    },
    {
      "cell_type": "code",
      "metadata": {
        "id": "q_VAZZdwo4-W"
      },
      "source": [
        ""
      ],
      "execution_count": null,
      "outputs": []
    },
    {
      "cell_type": "markdown",
      "metadata": {
        "id": "1RzDfejkrMel"
      },
      "source": [
        "# Prepare NEPSE DATA"
      ]
    },
    {
      "cell_type": "code",
      "metadata": {
        "id": "FrMhQqlZn-C8"
      },
      "source": [
        "indices = pd.read_csv('/content/Nepse Indices - Sheet1.csv', header=1)\n",
        "indices.columns= ['no_name', 'date', 'index', 'abs_change', 'pct_change']\n",
        "indices['date'] = pd.to_datetime(indices['date'])\n",
        "indices = indices[indices['date'] < '2019-07-06']"
      ],
      "execution_count": 121,
      "outputs": []
    },
    {
      "cell_type": "code",
      "metadata": {
        "id": "qNsJ8_z0n98P",
        "outputId": "2e1b6186-6832-4e56-c3cd-c3b6c13ec400",
        "colab": {
          "base_uri": "https://localhost:8080/"
        }
      },
      "source": [
        "news_df = pd.read_csv('/content/years_combined_df.csv')\n",
        "news_df['date'] = pd.to_datetime(news_df['date'])\n",
        "news_df = news_df[news_df['date'] >= '2014-02-02']\n",
        "news_df.reset_index(drop=True, inplace=True)\n",
        "print(\"Total News Data Scraped :\", news_df.shape[0])"
      ],
      "execution_count": 122,
      "outputs": [
        {
          "output_type": "stream",
          "text": [
            "Total News Data Scraped : 9802\n"
          ],
          "name": "stdout"
        }
      ]
    },
    {
      "cell_type": "code",
      "metadata": {
        "id": "Ov3F8cKM0wlh",
        "outputId": "34df75e5-bf5d-4ac7-b64e-5b7ba242e666",
        "colab": {
          "base_uri": "https://localhost:8080/"
        }
      },
      "source": [
        "news_df = news_df[news_df['date'].isin(indices['date'])].reset_index(drop=True)\n",
        "print(\"Total News Data as per Nepse indices trading days \", news_df.shape[0])"
      ],
      "execution_count": 123,
      "outputs": [
        {
          "output_type": "stream",
          "text": [
            "Total News Data as per Nepse indices trading days  6307\n"
          ],
          "name": "stdout"
        }
      ]
    },
    {
      "cell_type": "code",
      "metadata": {
        "id": "fTa0ls9u41vV",
        "outputId": "3d316442-960b-4a05-afb3-cb5513ce8262",
        "colab": {
          "base_uri": "https://localhost:8080/"
        }
      },
      "source": [
        "print(\"Total NEPSE Index days: \", indices.shape[0])"
      ],
      "execution_count": 124,
      "outputs": [
        {
          "output_type": "stream",
          "text": [
            "Total NEPSE Index days:  1248\n"
          ],
          "name": "stdout"
        }
      ]
    },
    {
      "cell_type": "code",
      "metadata": {
        "id": "4msgED4p3Bvt",
        "outputId": "cdb9b3e3-d121-48c9-e353-eee74588444c",
        "colab": {
          "base_uri": "https://localhost:8080/"
        }
      },
      "source": [
        "indices = indices[indices['date'].isin(news_df['date'])].reset_index(drop=True)\n",
        "print(\"Total NEPSE index matched with News date:\", indices.shape[0])"
      ],
      "execution_count": 125,
      "outputs": [
        {
          "output_type": "stream",
          "text": [
            "Total NEPSE index matched with News date: 1238\n"
          ],
          "name": "stdout"
        }
      ]
    },
    {
      "cell_type": "code",
      "metadata": {
        "id": "Rn2s6qbL3h7u"
      },
      "source": [
        "indices['pct_change'] = indices['pct_change'].str.replace('%', '').astype(float)"
      ],
      "execution_count": 126,
      "outputs": []
    },
    {
      "cell_type": "code",
      "metadata": {
        "id": "xQW8YdPy5V5r"
      },
      "source": [
        "indices['target'] = np.where(indices['pct_change'] < 0 , 0, 1)"
      ],
      "execution_count": 127,
      "outputs": []
    },
    {
      "cell_type": "code",
      "metadata": {
        "id": "dyuBqFhEn926"
      },
      "source": [
        "def prepare_and_predict_news(series, pad_max_len, batch_size):\n",
        "\n",
        "    news = tokenizer.texts_to_sequences(series)\n",
        "    news = pad_sequences(news, pad_max_len)\n",
        "    news = model.predict(news, batch_size=batch_size)\n",
        "    return news"
      ],
      "execution_count": 128,
      "outputs": []
    },
    {
      "cell_type": "code",
      "metadata": {
        "id": "XgJdhmIuz67w"
      },
      "source": [
        "news_sentiment = prepare_and_predict_news(news_df['content'], pad_max_len=max_len, batch_size=batch_size)\n",
        "# news_df['pred_glove_300'] = np.argmax(news_sentiment, axis=1)"
      ],
      "execution_count": 130,
      "outputs": []
    },
    {
      "cell_type": "code",
      "metadata": {
        "id": "0tnByhjkruJW"
      },
      "source": [
        "news_sentiment_df = pd.DataFrame(news_sentiment, columns=['negative', 'positive'])"
      ],
      "execution_count": 131,
      "outputs": []
    },
    {
      "cell_type": "code",
      "metadata": {
        "id": "-oMq6pfs8oVm"
      },
      "source": [
        "final_df = pd.concat([news_df, news_sentiment_df], axis=1)"
      ],
      "execution_count": 132,
      "outputs": []
    },
    {
      "cell_type": "code",
      "metadata": {
        "id": "l4eAm1rI3j-S",
        "outputId": "3c40b900-b243-4af3-d578-1e95b4297187",
        "colab": {
          "base_uri": "https://localhost:8080/"
        }
      },
      "source": [
        "for i, j in final_df[:2].iterrows():\n",
        "    print(i, j.content, j.negative, j.positive)"
      ],
      "execution_count": 134,
      "outputs": [
        {
          "output_type": "stream",
          "text": [
            "0 Nepal Stock Exchange (Nepse) slid 2.22 points to close at 781.46 points last week. 0.9489344358444214 0.05106557905673981\n",
            "1 Moffat Nyirenda is president of Round Table International. 0.08581293374300003 0.9141870737075806\n"
          ],
          "name": "stdout"
        }
      ]
    },
    {
      "cell_type": "code",
      "metadata": {
        "id": "ADr2-x4b3qVi",
        "colab": {
          "base_uri": "https://localhost:8080/",
          "height": 514
        },
        "outputId": "bcdb7c60-cf05-4731-c443-2997f335b569"
      },
      "source": [
        "pd.set_option('max_colwidth', -1)\n",
        "final_df[['content', 'negative', 'positive']].head(15)"
      ],
      "execution_count": 136,
      "outputs": [
        {
          "output_type": "execute_result",
          "data": {
            "text/html": [
              "<div>\n",
              "<style scoped>\n",
              "    .dataframe tbody tr th:only-of-type {\n",
              "        vertical-align: middle;\n",
              "    }\n",
              "\n",
              "    .dataframe tbody tr th {\n",
              "        vertical-align: top;\n",
              "    }\n",
              "\n",
              "    .dataframe thead th {\n",
              "        text-align: right;\n",
              "    }\n",
              "</style>\n",
              "<table border=\"1\" class=\"dataframe\">\n",
              "  <thead>\n",
              "    <tr style=\"text-align: right;\">\n",
              "      <th></th>\n",
              "      <th>content</th>\n",
              "      <th>negative</th>\n",
              "      <th>positive</th>\n",
              "    </tr>\n",
              "  </thead>\n",
              "  <tbody>\n",
              "    <tr>\n",
              "      <th>0</th>\n",
              "      <td>Nepal Stock Exchange (Nepse) slid 2.22 points to close at 781.46 points last week.</td>\n",
              "      <td>0.948934</td>\n",
              "      <td>0.051066</td>\n",
              "    </tr>\n",
              "    <tr>\n",
              "      <th>1</th>\n",
              "      <td>Moffat Nyirenda is president of Round Table International.</td>\n",
              "      <td>0.085813</td>\n",
              "      <td>0.914187</td>\n",
              "    </tr>\n",
              "    <tr>\n",
              "      <th>2</th>\n",
              "      <td>The government has stopped monitoring of shops dealing in readymade garment and shoes although previous inspections have revealed rampant malpractices.</td>\n",
              "      <td>0.754388</td>\n",
              "      <td>0.245612</td>\n",
              "    </tr>\n",
              "    <tr>\n",
              "      <th>3</th>\n",
              "      <td>The Ministry of Industry (MoI) is preparing to recommend the Cabinet to declare Pokhara-based Fulbari Resort and Chitwan-based Chitwan Wildlife Lodge</td>\n",
              "      <td>0.048945</td>\n",
              "      <td>0.951055</td>\n",
              "    </tr>\n",
              "    <tr>\n",
              "      <th>4</th>\n",
              "      <td>The delivery of Chinese aircraft for Nepal Airlines Corporation (NAC) will be delayed by a month.</td>\n",
              "      <td>0.930788</td>\n",
              "      <td>0.069212</td>\n",
              "    </tr>\n",
              "    <tr>\n",
              "      <th>5</th>\n",
              "      <td>Talking about pricey threads, the domestic market will soon get to witness the launch of a suiting brand costing upwards of Rs 300,000.</td>\n",
              "      <td>0.055627</td>\n",
              "      <td>0.944373</td>\n",
              "    </tr>\n",
              "    <tr>\n",
              "      <th>6</th>\n",
              "      <td>Cross-border trade with India via Janakpur has come to a complete halt after Janakpur Railway suspended its Janakpur-Jayanagar service.</td>\n",
              "      <td>0.002880</td>\n",
              "      <td>0.997120</td>\n",
              "    </tr>\n",
              "    <tr>\n",
              "      <th>7</th>\n",
              "      <td>Fifty-seven percent work has been completed on the much-prioritised 456-MW Upper Tamakoshi Hydropower Project (UTHP).</td>\n",
              "      <td>0.004524</td>\n",
              "      <td>0.995476</td>\n",
              "    </tr>\n",
              "    <tr>\n",
              "      <th>8</th>\n",
              "      <td>The government is not in a position to assure the quality of cooking oil due to the lack of technology to determine the quantity of different components of the oil.</td>\n",
              "      <td>0.005989</td>\n",
              "      <td>0.994011</td>\n",
              "    </tr>\n",
              "    <tr>\n",
              "      <th>9</th>\n",
              "      <td>NIDC Development Bank won’t be able to hand out the promised 133 percent bonus shares as it has not issued public shares yet.</td>\n",
              "      <td>0.650285</td>\n",
              "      <td>0.349715</td>\n",
              "    </tr>\n",
              "    <tr>\n",
              "      <th>10</th>\n",
              "      <td>The real estate sector posted a notable growth in transactions since the beginning of the current fiscal year, indicating a resurgence in the buyers’ confidence.</td>\n",
              "      <td>0.065970</td>\n",
              "      <td>0.934030</td>\n",
              "    </tr>\n",
              "    <tr>\n",
              "      <th>11</th>\n",
              "      <td>The arrival of premium Chinese smartphones from technology giants like Huawei, Lenovo and ZTE have changed their market image</td>\n",
              "      <td>0.097057</td>\n",
              "      <td>0.902943</td>\n",
              "    </tr>\n",
              "    <tr>\n",
              "      <th>12</th>\n",
              "      <td>Pokhara has emerged as one of the preferred destinations for visitors from the northern neighbour to celebrate the Chinese New Year.</td>\n",
              "      <td>0.022941</td>\n",
              "      <td>0.977059</td>\n",
              "    </tr>\n",
              "    <tr>\n",
              "      <th>13</th>\n",
              "      <td>Ncell recorded an 11.3 percent rise in net sales in 2013.</td>\n",
              "      <td>0.197736</td>\n",
              "      <td>0.802264</td>\n",
              "    </tr>\n",
              "    <tr>\n",
              "      <th>14</th>\n",
              "      <td>Nepal’s foreign trade is heavily skewed in favour of India, and this dependency on the southern neighbour expanded between the years 2000 to 2010.</td>\n",
              "      <td>0.023701</td>\n",
              "      <td>0.976299</td>\n",
              "    </tr>\n",
              "  </tbody>\n",
              "</table>\n",
              "</div>"
            ],
            "text/plain": [
              "                                                                                                                                                                 content  ...  positive\n",
              "0   Nepal Stock Exchange (Nepse) slid 2.22 points to close at 781.46 points last week.                                                                                    ...  0.051066\n",
              "1   Moffat Nyirenda is president of Round Table International.                                                                                                            ...  0.914187\n",
              "2   The government has stopped monitoring of shops dealing in readymade garment and shoes although previous inspections have revealed rampant malpractices.               ...  0.245612\n",
              "3   The Ministry of Industry (MoI) is preparing to recommend the Cabinet to declare Pokhara-based Fulbari Resort and Chitwan-based Chitwan Wildlife Lodge                 ...  0.951055\n",
              "4   The delivery of Chinese aircraft for Nepal Airlines Corporation (NAC) will be delayed by a month.                                                                     ...  0.069212\n",
              "5   Talking about pricey threads, the domestic market will soon get to witness the launch of a suiting brand costing upwards of Rs 300,000.                               ...  0.944373\n",
              "6   Cross-border trade with India via Janakpur has come to a complete halt after Janakpur Railway suspended its Janakpur-Jayanagar service.                               ...  0.997120\n",
              "7   Fifty-seven percent work has been completed on the much-prioritised 456-MW Upper Tamakoshi Hydropower Project (UTHP).                                                 ...  0.995476\n",
              "8   The government is not in a position to assure the quality of cooking oil due to the lack of technology to determine the quantity of different components of the oil.  ...  0.994011\n",
              "9   NIDC Development Bank won’t be able to hand out the promised 133 percent bonus shares as it has not issued public shares yet.                                         ...  0.349715\n",
              "10  The real estate sector posted a notable growth in transactions since the beginning of the current fiscal year, indicating a resurgence in the buyers’ confidence.     ...  0.934030\n",
              "11  The arrival of premium Chinese smartphones from technology giants like Huawei, Lenovo and ZTE have changed their market image                                         ...  0.902943\n",
              "12  Pokhara has emerged as one of the preferred destinations for visitors from the northern neighbour to celebrate the Chinese New Year.                                  ...  0.977059\n",
              "13  Ncell recorded an 11.3 percent rise in net sales in 2013.                                                                                                             ...  0.802264\n",
              "14  Nepal’s foreign trade is heavily skewed in favour of India, and this dependency on the southern neighbour expanded between the years 2000 to 2010.                    ...  0.976299\n",
              "\n",
              "[15 rows x 3 columns]"
            ]
          },
          "metadata": {
            "tags": []
          },
          "execution_count": 136
        }
      ]
    },
    {
      "cell_type": "code",
      "metadata": {
        "id": "2cCNi-Jj3udI"
      },
      "source": [
        "df = pd.merge(final_df, indices, left_on='date', right_on='date')"
      ],
      "execution_count": 137,
      "outputs": []
    },
    {
      "cell_type": "code",
      "metadata": {
        "id": "ZhW1cvPCtalR"
      },
      "source": [
        "indices['negative_mean'] = df.groupby('date')['negative'].apply(np.mean).reset_index(drop=True)\n",
        "# indices['neutral_mean'] = df.groupby('date')['neutral'].apply(np.mean).reset_index(drop=True)\n",
        "indices['positive_mean'] = df.groupby('date')['positive'].apply(np.mean).reset_index(drop=True)"
      ],
      "execution_count": 138,
      "outputs": []
    },
    {
      "cell_type": "code",
      "metadata": {
        "id": "F6atn0B4ttap"
      },
      "source": [
        "features = ['negative_mean', 'positive_mean']"
      ],
      "execution_count": 139,
      "outputs": []
    },
    {
      "cell_type": "code",
      "metadata": {
        "id": "D2LK3-QLttYS"
      },
      "source": [
        "validation_df = indices[indices['date'] > '2018-12-31']\n",
        "train_df = indices[indices['date'] <= '2018-12-31']"
      ],
      "execution_count": 187,
      "outputs": []
    },
    {
      "cell_type": "code",
      "metadata": {
        "id": "kdE8VI26_Thv"
      },
      "source": [
        "Xtrain, ytrain = train_df[features], train_df['target']"
      ],
      "execution_count": 188,
      "outputs": []
    },
    {
      "cell_type": "code",
      "metadata": {
        "id": "M1UMuRrx_a5I"
      },
      "source": [
        "Xtest, ytest = validation_df[features], validation_df['target']"
      ],
      "execution_count": 189,
      "outputs": []
    },
    {
      "cell_type": "code",
      "metadata": {
        "id": "1cJIgGScFC-b",
        "outputId": "af8fdb36-4255-4c05-e968-203f66bde201",
        "colab": {
          "base_uri": "https://localhost:8080/"
        }
      },
      "source": [
        "Xtrain.shape, ytrain.shape, Xtest.shape, ytest.shape"
      ],
      "execution_count": 191,
      "outputs": [
        {
          "output_type": "execute_result",
          "data": {
            "text/plain": [
              "((1117, 2), (1117,), (121, 2), (121,))"
            ]
          },
          "metadata": {
            "tags": []
          },
          "execution_count": 191
        }
      ]
    },
    {
      "cell_type": "code",
      "metadata": {
        "id": "dsagBRRXJ3s8"
      },
      "source": [
        "def accuracy_metrics(preds, dtrain):\n",
        "\n",
        "    labels = dtrain.get_label()\n",
        "    # print(labels)\n",
        "    # preds = preds.reshape(5, -1).T\n",
        "    preds = np.round(preds)\n",
        "    # f_score = f1_score(labels , preds,  average = 'weighted')\n",
        "    acc_score = accuracy_score(labels, preds)\n",
        "    return 'acc_score', acc_score, True"
      ],
      "execution_count": 225,
      "outputs": []
    },
    {
      "cell_type": "code",
      "metadata": {
        "id": "6Z_GucqNttQ5",
        "colab": {
          "base_uri": "https://localhost:8080/"
        },
        "outputId": "71ff9c96-e3e5-429e-c0a8-8e7aaf40bea2"
      },
      "source": [
        "# Xtrain, Xtest, ytrain, ytest = train_test_split(train_df[features], train_df['target'],\n",
        "#                                                 stratify=train_df['target'],\n",
        "#                                                 random_state=60, test_size=0.2 )\n",
        "\n",
        "\n",
        "params = {\n",
        "'num_leaves': 4,\n",
        "'objective': 'binary',\n",
        "'max_depth': 4,\n",
        "'learning_rate': 0.05,\n",
        "\"boosting_type\": \"gbdt\",\n",
        "\"bagging_seed\": 11,\n",
        "# \"metric\": 'auc',\n",
        "\"verbosity\": -1,\n",
        "'random_state': 60\n",
        "}\n",
        "import lightgbm as lgb\n",
        "tr_data = lgb.Dataset(Xtrain, label=ytrain)\n",
        "va_data = lgb.Dataset(Xtest, label=ytest)\n",
        "\n",
        "model = lgb.train(\n",
        "        params, \n",
        "        tr_data,\n",
        "        num_boost_round=5000,   \n",
        "        valid_sets=[tr_data, va_data],\n",
        "        early_stopping_rounds=50,\n",
        "        feval=accuracy_metrics,   \n",
        "        feature_name=features,\n",
        "        verbose_eval=10\n",
        "    )\n"
      ],
      "execution_count": 226,
      "outputs": [
        {
          "output_type": "stream",
          "text": [
            "Training until validation scores don't improve for 50 rounds.\n",
            "[10]\ttraining's binary_logloss: 0.68697\ttraining's acc_score: 0.559534\tvalid_1's binary_logloss: 0.69132\tvalid_1's acc_score: 0.528926\n",
            "[20]\ttraining's binary_logloss: 0.682777\ttraining's acc_score: 0.57744\tvalid_1's binary_logloss: 0.691147\tvalid_1's acc_score: 0.578512\n",
            "[30]\ttraining's binary_logloss: 0.679781\ttraining's acc_score: 0.57744\tvalid_1's binary_logloss: 0.690734\tvalid_1's acc_score: 0.578512\n",
            "[40]\ttraining's binary_logloss: 0.676333\ttraining's acc_score: 0.595345\tvalid_1's binary_logloss: 0.688284\tvalid_1's acc_score: 0.603306\n",
            "[50]\ttraining's binary_logloss: 0.673284\ttraining's acc_score: 0.602507\tvalid_1's binary_logloss: 0.687279\tvalid_1's acc_score: 0.603306\n",
            "[60]\ttraining's binary_logloss: 0.671376\ttraining's acc_score: 0.602507\tvalid_1's binary_logloss: 0.684708\tvalid_1's acc_score: 0.603306\n",
            "[70]\ttraining's binary_logloss: 0.66962\ttraining's acc_score: 0.607878\tvalid_1's binary_logloss: 0.683694\tvalid_1's acc_score: 0.603306\n",
            "[80]\ttraining's binary_logloss: 0.668194\ttraining's acc_score: 0.614145\tvalid_1's binary_logloss: 0.68295\tvalid_1's acc_score: 0.603306\n",
            "Early stopping, best iteration is:\n",
            "[33]\ttraining's binary_logloss: 0.679102\ttraining's acc_score: 0.583706\tvalid_1's binary_logloss: 0.690809\tvalid_1's acc_score: 0.603306\n"
          ],
          "name": "stdout"
        }
      ]
    },
    {
      "cell_type": "code",
      "metadata": {
        "id": "EslltPHbF66H",
        "outputId": "abad7020-938e-479d-e4c8-6eb4b1b6102d",
        "colab": {
          "base_uri": "https://localhost:8080/"
        }
      },
      "source": [
        "model.best_iteration"
      ],
      "execution_count": 227,
      "outputs": [
        {
          "output_type": "execute_result",
          "data": {
            "text/plain": [
              "33"
            ]
          },
          "metadata": {
            "tags": []
          },
          "execution_count": 227
        }
      ]
    },
    {
      "cell_type": "code",
      "metadata": {
        "id": "UJ4GbBCY1JW3"
      },
      "source": [
        "# !pip install optuna"
      ],
      "execution_count": 142,
      "outputs": []
    },
    {
      "cell_type": "code",
      "metadata": {
        "id": "HsnciR--wEVG"
      },
      "source": [
        "import optuna\n",
        "from sklearn.metrics import roc_auc_score\n",
        "from google.colab import output\n",
        "# lgb_train = lgb.Dataset(Xt, Yt)\n",
        "# lgb_eval = lgb.Dataset(Xv, Yv)\n",
        "def objective(trial):    \n",
        "    params = {\n",
        "            'num_leaves': trial.suggest_int('num_leaves', 2, 512),\n",
        "            'boosting_type': 'gbdt',\n",
        "            'objective': 'binary',\n",
        "            # 'metric': 'auc',\n",
        "            'max_depth': trial.suggest_int('max_depth', 1, 16),\n",
        "            'min_child_weight': trial.suggest_int('min_child_weight', 1, 16),\n",
        "            'feature_fraction': trial.suggest_uniform('feature_fraction', 0.5, 1.0),\n",
        "            'bagging_fraction': trial.suggest_uniform('bagging_fraction', 0.5, 1.0),\n",
        "            'bagging_freq': trial.suggest_int('bagging_freq', 1, 8),\n",
        "            'min_child_samples': trial.suggest_int('min_child_samples', 1, 80),\n",
        "            'lambda_l1': trial.suggest_loguniform('lambda_l1', 1e-8, 1.0),\n",
        "            'lambda_l2': trial.suggest_loguniform('lambda_l2', 1e-8, 1.0),\n",
        "            'learning_rate' : trial.suggest_uniform('learning_rate', 0.0001, 0.99),\n",
        "            'max_bin': trial.suggest_int('max_bin', 4, 900),\n",
        "            'early_stopping_rounds': 50,\n",
        "            'random_state':60 \n",
        "            }\n",
        "\n",
        "    model = lgb.train(params, tr_data, valid_sets=[tr_data, va_data], verbose_eval=None, num_boost_round=5000, feval=accuracy_metrics)\n",
        "    score = model.best_score['valid_1']['acc_score']\n",
        "    # val_pred = model.predict(Xtest)\n",
        "    # score = accuracy_score(ytest, np.round(val_pred))\n",
        "    output.clear()\n",
        "    # print(f\"AUC = {score}\")\n",
        "    return score"
      ],
      "execution_count": 246,
      "outputs": []
    },
    {
      "cell_type": "code",
      "metadata": {
        "id": "tR7DZx61wESf",
        "colab": {
          "base_uri": "https://localhost:8080/"
        },
        "outputId": "7fc11c30-ed9f-43f9-ff12-92e0cb107b8b"
      },
      "source": [
        "study = optuna.create_study(direction='maximize')\n",
        "study.optimize(objective, n_trials=1000)"
      ],
      "execution_count": 248,
      "outputs": [
        {
          "output_type": "stream",
          "text": [
            "\u001b[32m[I 2021-03-21 05:11:14,222]\u001b[0m Trial 999 finished with value: 0.5702479338842975 and parameters: {'num_leaves': 27, 'max_depth': 1, 'min_child_weight': 4, 'feature_fraction': 0.8141465062952846, 'bagging_fraction': 0.6016486872644486, 'bagging_freq': 3, 'min_child_samples': 22, 'lambda_l1': 0.014059420465324447, 'lambda_l2': 2.15496297739647e-06, 'learning_rate': 0.49433773634960687, 'max_bin': 511}. Best is trial 180 with value: 0.6611570247933884.\u001b[0m\n"
          ],
          "name": "stderr"
        }
      ]
    },
    {
      "cell_type": "code",
      "metadata": {
        "id": "ZpbzFPh7wEPs",
        "colab": {
          "base_uri": "https://localhost:8080/"
        },
        "outputId": "4417a2e5-2813-4727-b28d-b3453256220e"
      },
      "source": [
        "study.best_params"
      ],
      "execution_count": 249,
      "outputs": [
        {
          "output_type": "execute_result",
          "data": {
            "text/plain": [
              "{'bagging_fraction': 0.6190267199063966,\n",
              " 'bagging_freq': 6,\n",
              " 'feature_fraction': 0.6215938415157346,\n",
              " 'lambda_l1': 0.0010998836403125192,\n",
              " 'lambda_l2': 7.734490471406515e-07,\n",
              " 'learning_rate': 0.45705008426586125,\n",
              " 'max_bin': 688,\n",
              " 'max_depth': 1,\n",
              " 'min_child_samples': 19,\n",
              " 'min_child_weight': 4,\n",
              " 'num_leaves': 77}"
            ]
          },
          "metadata": {
            "tags": []
          },
          "execution_count": 249
        }
      ]
    },
    {
      "cell_type": "code",
      "metadata": {
        "id": "uM_UGXXXwEM4",
        "colab": {
          "base_uri": "https://localhost:8080/"
        },
        "outputId": "bf06e6a0-d317-415a-e7cf-faa4c8536b7a"
      },
      "source": [
        "\n",
        "import lightgbm as lgb\n",
        "tr_data = lgb.Dataset(Xtrain, label=ytrain)\n",
        "va_data = lgb.Dataset(Xtest, label=ytest)\n",
        "params = {\n",
        "'objective': 'binary',\n",
        "\"boosting_type\": \"gbdt\",\n",
        "# \"metric\": 'auc',\n",
        "\"verbosity\": -1,\n",
        "'random_state': 60,\n",
        "\n",
        " 'bagging_fraction': 0.6190267199063966,\n",
        " 'bagging_freq': 6,\n",
        " 'feature_fraction': 0.6215938415157346,\n",
        " 'lambda_l1': 0.0010998836403125192,\n",
        " 'lambda_l2': 7.734490471406515e-07,\n",
        " 'learning_rate': 0.45705008426586125,\n",
        " 'max_bin': 688,\n",
        " 'max_depth': 1,\n",
        " 'min_child_samples': 19,\n",
        " 'min_child_weight': 4,\n",
        " 'num_leaves': 77\n",
        "}\n",
        "\n",
        "\n",
        "\n",
        "model = lgb.train(\n",
        "        params, \n",
        "        tr_data,\n",
        "        num_boost_round=5000,   \n",
        "        valid_sets=[tr_data, va_data],\n",
        "        early_stopping_rounds=50,   \n",
        "        feature_name=features,\n",
        "        verbose_eval=10, \n",
        "        feval = accuracy_metrics\n",
        "    )\n"
      ],
      "execution_count": 250,
      "outputs": [
        {
          "output_type": "stream",
          "text": [
            "Training until validation scores don't improve for 50 rounds.\n",
            "[10]\ttraining's binary_logloss: 0.686844\ttraining's acc_score: 0.536258\tvalid_1's binary_logloss: 0.69095\tvalid_1's acc_score: 0.512397\n",
            "[20]\ttraining's binary_logloss: 0.68317\ttraining's acc_score: 0.547896\tvalid_1's binary_logloss: 0.683634\tvalid_1's acc_score: 0.603306\n",
            "[30]\ttraining's binary_logloss: 0.680722\ttraining's acc_score: 0.574754\tvalid_1's binary_logloss: 0.679001\tvalid_1's acc_score: 0.644628\n",
            "[40]\ttraining's binary_logloss: 0.680349\ttraining's acc_score: 0.571173\tvalid_1's binary_logloss: 0.700655\tvalid_1's acc_score: 0.545455\n",
            "[50]\ttraining's binary_logloss: 0.676338\ttraining's acc_score: 0.592659\tvalid_1's binary_logloss: 0.673323\tvalid_1's acc_score: 0.603306\n",
            "[60]\ttraining's binary_logloss: 0.675176\ttraining's acc_score: 0.588183\tvalid_1's binary_logloss: 0.675589\tvalid_1's acc_score: 0.595041\n",
            "[70]\ttraining's binary_logloss: 0.673846\ttraining's acc_score: 0.583706\tvalid_1's binary_logloss: 0.680366\tvalid_1's acc_score: 0.561983\n",
            "Early stopping, best iteration is:\n",
            "[27]\ttraining's binary_logloss: 0.68151\ttraining's acc_score: 0.567592\tvalid_1's binary_logloss: 0.679262\tvalid_1's acc_score: 0.652893\n"
          ],
          "name": "stdout"
        }
      ]
    },
    {
      "cell_type": "code",
      "metadata": {
        "id": "g7JLHaPnExED"
      },
      "source": [
        ""
      ],
      "execution_count": null,
      "outputs": []
    },
    {
      "cell_type": "code",
      "metadata": {
        "id": "5mPyOnFW-wGK",
        "outputId": "44faf78a-1602-4961-8b25-28c6a8be7151",
        "colab": {
          "base_uri": "https://localhost:8080/",
          "height": 452
        }
      },
      "source": [
        "preds = model.predict(Xtest, num_iteration=model.best_iteration)\n",
        "c_mat = confusion_matrix(ytest, np.round(preds))\n",
        "plot_confusion_matrix(c_mat, cmap='Blues', class_names = le.classes_, figsize=(5, 5))\n",
        "plt.show()\n",
        "\n",
        "p, r, f1, s = precision_recall_fscore_support(ytest, np.round(preds), average=None)\n",
        "\n",
        "results = pd.DataFrame({'1-Precision': p, '2-Recall': r, '3-F1 score': f1, '4-Support': s}, index=le.classes_)\n",
        "print(results.round(decimals=3))\n",
        "print(roc_auc_score(ytest, preds))\n",
        "print(accuracy_score(ytest, np.round(preds)))"
      ],
      "execution_count": 252,
      "outputs": [
        {
          "output_type": "display_data",
          "data": {
            "image/png": "[encoded data removed]",
            "text/plain": [
              "<Figure size 360x360 with 1 Axes>"
            ]
          },
          "metadata": {
            "tags": [],
            "needs_background": "light"
          }
        },
        {
          "output_type": "stream",
          "text": [
            "          1-Precision  2-Recall  3-F1 score  4-Support\n",
            "negative  0.635        0.758     0.691       62       \n",
            "positive  0.681        0.542     0.604       59       \n",
            "0.6081191908146528\n",
            "0.6528925619834711\n"
          ],
          "name": "stdout"
        }
      ]
    },
    {
      "cell_type": "code",
      "metadata": {
        "id": "mRyza-Yx-wD6",
        "outputId": "c18f1914-90fa-4d8e-e962-9ca47a05c55b",
        "colab": {
          "base_uri": "https://localhost:8080/"
        }
      },
      "source": [
        "model.predict(Xtest)"
      ],
      "execution_count": 174,
      "outputs": [
        {
          "output_type": "execute_result",
          "data": {
            "text/plain": [
              "array([0.49690984, 0.55690124, 0.49690984, 0.50822257, 0.50822257,\n",
              "       0.37411674, 0.52860535, 0.45406618, 0.36382066, 0.39106047,\n",
              "       0.42502663, 0.39106047, 0.42502663, 0.41286268, 0.50642029,\n",
              "       0.57983289, 0.51804538, 0.43859673, 0.39589675, 0.51804538,\n",
              "       0.51804538, 0.51804538, 0.52860535, 0.49336754, 0.45406618,\n",
              "       0.51804538, 0.36382066, 0.51804538, 0.50822257, 0.45406618,\n",
              "       0.51804538, 0.42502663, 0.37221021, 0.36382066, 0.48992668,\n",
              "       0.55690124, 0.45406618, 0.57983289, 0.48992668, 0.49690984,\n",
              "       0.55690124, 0.36382066, 0.51804538, 0.67715956, 0.67715956,\n",
              "       0.52996983, 0.57983289, 0.42484646, 0.55690124, 0.45406618,\n",
              "       0.50642029, 0.46358013, 0.46921617, 0.50822257, 0.42502663,\n",
              "       0.59475209, 0.67715956, 0.52860535, 0.57983289, 0.4157156 ,\n",
              "       0.55690124, 0.51804538, 0.54985293, 0.42502663, 0.42502663,\n",
              "       0.55964655, 0.51804538, 0.49690984, 0.60955007, 0.50822257,\n",
              "       0.45096417, 0.48167171, 0.39106047, 0.51804538, 0.50822257,\n",
              "       0.67715956, 0.39719149, 0.67715956, 0.38597877, 0.50822257,\n",
              "       0.52860535, 0.48992668, 0.50355694, 0.45096417, 0.52860535,\n",
              "       0.51804538, 0.51804538, 0.51804538, 0.67715956, 0.51804538,\n",
              "       0.48167171, 0.55690124, 0.42502663, 0.45096417, 0.55690124,\n",
              "       0.48992668, 0.39106047, 0.50822257, 0.67715956, 0.55690124,\n",
              "       0.36382066, 0.49690984, 0.67715956, 0.45406618, 0.39719149,\n",
              "       0.39719149, 0.49690984, 0.48305681, 0.37411674, 0.42502663,\n",
              "       0.41286268, 0.39719149, 0.45406618, 0.50642029, 0.43165247,\n",
              "       0.54985293, 0.50822257, 0.67715956, 0.54985293, 0.44955376,\n",
              "       0.60955007])"
            ]
          },
          "metadata": {
            "tags": []
          },
          "execution_count": 174
        }
      ]
    },
    {
      "cell_type": "code",
      "metadata": {
        "id": "DmlE7USD-wBh"
      },
      "source": [
        ""
      ],
      "execution_count": null,
      "outputs": []
    },
    {
      "cell_type": "code",
      "metadata": {
        "id": "d9hDov8m-v-w"
      },
      "source": [
        ""
      ],
      "execution_count": null,
      "outputs": []
    },
    {
      "cell_type": "code",
      "metadata": {
        "id": "byRPPktotaQ3",
        "colab": {
          "base_uri": "https://localhost:8080/"
        },
        "outputId": "e7e5331b-4d86-496a-c58a-48ef17bf6b4c"
      },
      "source": [
        "accuracy_score(ytest, np.round(model.predict(Xtest)))"
      ],
      "execution_count": 152,
      "outputs": [
        {
          "output_type": "execute_result",
          "data": {
            "text/plain": [
              "0.6026785714285714"
            ]
          },
          "metadata": {
            "tags": []
          },
          "execution_count": 152
        }
      ]
    },
    {
      "cell_type": "code",
      "metadata": {
        "id": "XxyL0zJttaLY",
        "colab": {
          "base_uri": "https://localhost:8080/"
        },
        "outputId": "e460c811-8c0e-46c4-f086-d6f6d8f12ff6"
      },
      "source": [
        "roc_auc_score(ytest, model.predict(Xtest))"
      ],
      "execution_count": 153,
      "outputs": [
        {
          "output_type": "execute_result",
          "data": {
            "text/plain": [
              "0.6093338651775029"
            ]
          },
          "metadata": {
            "tags": []
          },
          "execution_count": 153
        }
      ]
    },
    {
      "cell_type": "code",
      "metadata": {
        "id": "0Bv1PKovz3Nj",
        "colab": {
          "base_uri": "https://localhost:8080/"
        },
        "outputId": "060424c9-27c3-435a-e658-3e065fcfdfec"
      },
      "source": [
        "roc_auc_score(validation_df['target'], model.predict(validation_df[features]))"
      ],
      "execution_count": 154,
      "outputs": [
        {
          "output_type": "execute_result",
          "data": {
            "text/plain": [
              "0.5334882449425915"
            ]
          },
          "metadata": {
            "tags": []
          },
          "execution_count": 154
        }
      ]
    },
    {
      "cell_type": "code",
      "metadata": {
        "id": "dEUSJpkJQXdB",
        "colab": {
          "base_uri": "https://localhost:8080/"
        },
        "outputId": "a3423838-e364-4187-9da1-2ef2acc6ad87"
      },
      "source": [
        "accuracy_score(validation_df['target'], np.round(model.predict(validation_df[features])))"
      ],
      "execution_count": 155,
      "outputs": [
        {
          "output_type": "execute_result",
          "data": {
            "text/plain": [
              "0.5371900826446281"
            ]
          },
          "metadata": {
            "tags": []
          },
          "execution_count": 155
        }
      ]
    },
    {
      "cell_type": "code",
      "metadata": {
        "id": "Kiwo3jaXQXaP"
      },
      "source": [
        ""
      ],
      "execution_count": null,
      "outputs": []
    },
    {
      "cell_type": "code",
      "metadata": {
        "id": "4QgexgMhQXXb"
      },
      "source": [
        ""
      ],
      "execution_count": null,
      "outputs": []
    },
    {
      "cell_type": "code",
      "metadata": {
        "id": "tbA1wzEtQXUr"
      },
      "source": [
        ""
      ],
      "execution_count": null,
      "outputs": []
    },
    {
      "cell_type": "code",
      "metadata": {
        "id": "Ckwqu37iQXRn"
      },
      "source": [
        ""
      ],
      "execution_count": null,
      "outputs": []
    },
    {
      "cell_type": "code",
      "metadata": {
        "id": "TJBOY40KQXOq"
      },
      "source": [
        ""
      ],
      "execution_count": null,
      "outputs": []
    },
    {
      "cell_type": "code",
      "metadata": {
        "id": "c4o8tnk0QXLn"
      },
      "source": [
        ""
      ],
      "execution_count": null,
      "outputs": []
    },
    {
      "cell_type": "code",
      "metadata": {
        "id": "ecnuQoCZQXIg"
      },
      "source": [
        ""
      ],
      "execution_count": null,
      "outputs": []
    },
    {
      "cell_type": "code",
      "metadata": {
        "id": "z0v6tLVuQXFo"
      },
      "source": [
        ""
      ],
      "execution_count": null,
      "outputs": []
    },
    {
      "cell_type": "code",
      "metadata": {
        "id": "9nms_dMCQXCH"
      },
      "source": [
        ""
      ],
      "execution_count": null,
      "outputs": []
    }
  ]
}