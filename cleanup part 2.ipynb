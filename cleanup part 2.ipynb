{
  "nbformat": 4,
  "nbformat_minor": 0,
  "metadata": {
    "colab": {
      "name": "scratchpad",
      "provenance": [],
      "include_colab_link": true
    },
    "kernelspec": {
      "display_name": "Python 3",
      "name": "python3"
    }
  },
  "cells": [
    {
      "cell_type": "markdown",
      "metadata": {
        "id": "view-in-github",
        "colab_type": "text"
      },
      "source": [
        "<a href=\"https://colab.research.google.com/github/pratik-poudel/financial_news_stock/blob/master/cleanup%20part%202.ipynb\" target=\"_parent\"><img src=\"https://colab.research.google.com/assets/colab-badge.svg\" alt=\"Open In Colab\"/></a>"
      ]
    },
    {
      "cell_type": "code",
      "metadata": {
        "id": "lIYdn1woOS1n"
      },
      "source": [
        "import pandas as pd"
      ],
      "execution_count": 1,
      "outputs": []
    },
    {
      "cell_type": "code",
      "metadata": {
        "id": "ViORiskkg__x"
      },
      "source": [
        "df= pd.read_excel('/content/2014-2019_v1.xlsx', sheet_name=None)"
      ],
      "execution_count": 149,
      "outputs": []
    },
    {
      "cell_type": "code",
      "metadata": {
        "colab": {
          "base_uri": "https://localhost:8080/",
          "height": 1000
        },
        "id": "jzTGymzBq95B",
        "outputId": "caefe56c-bda3-456b-973e-412a67ce3582"
      },
      "source": [
        "display(df['2014'], df['2015'], df['2016'])"
      ],
      "execution_count": 150,
      "outputs": [
        {
          "output_type": "display_data",
          "data": {
            "text/html": [
              "<div>\n",
              "<style scoped>\n",
              "    .dataframe tbody tr th:only-of-type {\n",
              "        vertical-align: middle;\n",
              "    }\n",
              "\n",
              "    .dataframe tbody tr th {\n",
              "        vertical-align: top;\n",
              "    }\n",
              "\n",
              "    .dataframe thead th {\n",
              "        text-align: right;\n",
              "    }\n",
              "</style>\n",
              "<table border=\"1\" class=\"dataframe\">\n",
              "  <thead>\n",
              "    <tr style=\"text-align: right;\">\n",
              "      <th></th>\n",
              "      <th>title</th>\n",
              "      <th>content</th>\n",
              "      <th>author</th>\n",
              "      <th>date</th>\n",
              "    </tr>\n",
              "  </thead>\n",
              "  <tbody>\n",
              "    <tr>\n",
              "      <th>0</th>\n",
              "      <td>\\nNew gadgets lined up for New Year 2014</td>\n",
              "      <td>\\nWith the year 2013 making shift to 2014, sev...</td>\n",
              "      <td>SUMAN BASHYAL</td>\n",
              "      <td>Jan 01 2014</td>\n",
              "    </tr>\n",
              "    <tr>\n",
              "      <th>1</th>\n",
              "      <td>\\nChinese tourists take great leap forward</td>\n",
              "      <td>\\nChinese tourists made up 50 percent of the t...</td>\n",
              "      <td>Post Report</td>\n",
              "      <td>Jan 01 2014</td>\n",
              "    </tr>\n",
              "    <tr>\n",
              "      <th>2</th>\n",
              "      <td>\\nPokhara tourism expects 2014  to herald new ...</td>\n",
              "      <td>\\nPokhara tourism is getting ready for 2014 wi...</td>\n",
              "      <td>SANGAM PRASAIN, Shiva Sharma</td>\n",
              "      <td>Jan 01 2014</td>\n",
              "    </tr>\n",
              "    <tr>\n",
              "      <th>3</th>\n",
              "      <td>\\nCAs, auditors condemn Agrawal duo's arrest</td>\n",
              "      <td>\\nThe Association of Chartered Accountants of ...</td>\n",
              "      <td>Post Report</td>\n",
              "      <td>Jan 01 2014</td>\n",
              "    </tr>\n",
              "    <tr>\n",
              "      <th>4</th>\n",
              "      <td>\\nDon’t count your chickens</td>\n",
              "      <td>\\nThe benefits to Nepal from the WTO Bali Summ...</td>\n",
              "      <td>BIJENDRA MAN SHAKYA</td>\n",
              "      <td>Jan 01 2014</td>\n",
              "    </tr>\n",
              "    <tr>\n",
              "      <th>...</th>\n",
              "      <td>...</td>\n",
              "      <td>...</td>\n",
              "      <td>...</td>\n",
              "      <td>...</td>\n",
              "    </tr>\n",
              "    <tr>\n",
              "      <th>1982</th>\n",
              "      <td>\\nNepal, Oman to up flight frequency</td>\n",
              "      <td>\\nNepal and Oman have agreed to boost the airl...</td>\n",
              "      <td>HOM KARKI</td>\n",
              "      <td>Dec 31 2014</td>\n",
              "    </tr>\n",
              "    <tr>\n",
              "      <th>1983</th>\n",
              "      <td>\\nLet us select road contractors: Nepal</td>\n",
              "      <td>\\nNepal has asked India to be allowed to selec...</td>\n",
              "      <td>Post Report</td>\n",
              "      <td>Dec 31 2014</td>\n",
              "    </tr>\n",
              "    <tr>\n",
              "      <th>1984</th>\n",
              "      <td>\\nBadi youths venture into madal production</td>\n",
              "      <td>\\nLeaving traditional caste-based occupation, ...</td>\n",
              "      <td>Krishna Prasad Gautam</td>\n",
              "      <td>Dec 31 2014</td>\n",
              "    </tr>\n",
              "    <tr>\n",
              "      <th>1985</th>\n",
              "      <td>\\nSupplies Minister tells NOC to address fuel ...</td>\n",
              "      <td>\\nMinister for Commerce and Supplies Sunil Bah...</td>\n",
              "      <td>Rajesh Khanal</td>\n",
              "      <td>Dec 31 2014</td>\n",
              "    </tr>\n",
              "    <tr>\n",
              "      <th>1986</th>\n",
              "      <td>\\nDDC hikes milk price by Rs 8-10</td>\n",
              "      <td>\\nDairy Development Corporation (DDC) on Tuesd...</td>\n",
              "      <td>SUMAN BASHYAL</td>\n",
              "      <td>Dec 31 2014</td>\n",
              "    </tr>\n",
              "  </tbody>\n",
              "</table>\n",
              "<p>1987 rows × 4 columns</p>\n",
              "</div>"
            ],
            "text/plain": [
              "                                                  title  ...          date\n",
              "0              \\nNew gadgets lined up for New Year 2014  ...   Jan 01 2014\n",
              "1           \\nChinese tourists take great leap forward   ...   Jan 01 2014\n",
              "2     \\nPokhara tourism expects 2014  to herald new ...  ...   Jan 01 2014\n",
              "3          \\nCAs, auditors condemn Agrawal duo's arrest  ...   Jan 01 2014\n",
              "4                           \\nDon’t count your chickens  ...   Jan 01 2014\n",
              "...                                                 ...  ...           ...\n",
              "1982               \\nNepal, Oman to up flight frequency  ...   Dec 31 2014\n",
              "1983            \\nLet us select road contractors: Nepal  ...   Dec 31 2014\n",
              "1984        \\nBadi youths venture into madal production  ...   Dec 31 2014\n",
              "1985  \\nSupplies Minister tells NOC to address fuel ...  ...   Dec 31 2014\n",
              "1986                  \\nDDC hikes milk price by Rs 8-10  ...   Dec 31 2014\n",
              "\n",
              "[1987 rows x 4 columns]"
            ]
          },
          "metadata": {
            "tags": []
          }
        },
        {
          "output_type": "display_data",
          "data": {
            "text/html": [
              "<div>\n",
              "<style scoped>\n",
              "    .dataframe tbody tr th:only-of-type {\n",
              "        vertical-align: middle;\n",
              "    }\n",
              "\n",
              "    .dataframe tbody tr th {\n",
              "        vertical-align: top;\n",
              "    }\n",
              "\n",
              "    .dataframe thead th {\n",
              "        text-align: right;\n",
              "    }\n",
              "</style>\n",
              "<table border=\"1\" class=\"dataframe\">\n",
              "  <thead>\n",
              "    <tr style=\"text-align: right;\">\n",
              "      <th></th>\n",
              "      <th>title</th>\n",
              "      <th>content</th>\n",
              "      <th>author</th>\n",
              "      <th>date</th>\n",
              "    </tr>\n",
              "  </thead>\n",
              "  <tbody>\n",
              "    <tr>\n",
              "      <th>0</th>\n",
              "      <td>After DDC, pvt dairies raise price by Rs 8 a ltr</td>\n",
              "      <td>A day after state-owned Dairy Development Corp...</td>\n",
              "      <td>SUMAN BASHYAL</td>\n",
              "      <td>Jan 01 2015</td>\n",
              "    </tr>\n",
              "    <tr>\n",
              "      <th>1</th>\n",
              "      <td>Caan board okays plan to hire Icao experts</td>\n",
              "      <td>The Civil Aviation Authority of Nepal (Caan) b...</td>\n",
              "      <td>Post Report</td>\n",
              "      <td>Jan 01 2015</td>\n",
              "    </tr>\n",
              "    <tr>\n",
              "      <th>2</th>\n",
              "      <td>Investment booming in Pokhara hospitality</td>\n",
              "      <td>A group of four entrepreneurs, who have been o...</td>\n",
              "      <td>Shiva Sharma</td>\n",
              "      <td>Jan 01 2015</td>\n",
              "    </tr>\n",
              "    <tr>\n",
              "      <th>3</th>\n",
              "      <td>MoI plans to declare FY2015-16 ‘FDI Year’</td>\n",
              "      <td>The Ministry of Industry (MoI) said on Wednesd...</td>\n",
              "      <td>Post Report</td>\n",
              "      <td>Jan 01 2015</td>\n",
              "    </tr>\n",
              "    <tr>\n",
              "      <th>4</th>\n",
              "      <td>Ministry to amend working procedure</td>\n",
              "      <td>The Ministry of Finance (MoF) on Wednesday sai...</td>\n",
              "      <td>Post Report</td>\n",
              "      <td>Jan 01 2015</td>\n",
              "    </tr>\n",
              "    <tr>\n",
              "      <th>...</th>\n",
              "      <td>...</td>\n",
              "      <td>...</td>\n",
              "      <td>...</td>\n",
              "      <td>...</td>\n",
              "    </tr>\n",
              "    <tr>\n",
              "      <th>1884</th>\n",
              "      <td>Govt set to give leg up to footwear products</td>\n",
              "      <td>The government is considering to include the N...</td>\n",
              "      <td>Post Report</td>\n",
              "      <td>Dec 31 2015</td>\n",
              "    </tr>\n",
              "    <tr>\n",
              "      <th>1885</th>\n",
              "      <td>Fraud case filed against four gas pumps in Kavre</td>\n",
              "      <td>The District Attorney Office (DAO) in Kavre ha...</td>\n",
              "      <td>NAGENDRA ADHIKARI</td>\n",
              "      <td>Dec 31 2015</td>\n",
              "    </tr>\n",
              "    <tr>\n",
              "      <th>1886</th>\n",
              "      <td>NAC to buy four new jets over two years</td>\n",
              "      <td>Nepal Airlines Corporation (NAC) has prepared ...</td>\n",
              "      <td>Post Report</td>\n",
              "      <td>Dec 31 2015</td>\n",
              "    </tr>\n",
              "    <tr>\n",
              "      <th>1887</th>\n",
              "      <td>Govt estimates 200MW can be added to grid this...</td>\n",
              "      <td>Nepal has turned to its flaunted hydro resourc...</td>\n",
              "      <td>SANJEEV GIRI</td>\n",
              "      <td>Dec 31 2015</td>\n",
              "    </tr>\n",
              "    <tr>\n",
              "      <th>1888</th>\n",
              "      <td>Birat Petroleum tanker seized</td>\n",
              "      <td>Police on Tuesday evening seized a fuel tanker...</td>\n",
              "      <td>Post Report</td>\n",
              "      <td>Dec 31 2015</td>\n",
              "    </tr>\n",
              "  </tbody>\n",
              "</table>\n",
              "<p>1889 rows × 4 columns</p>\n",
              "</div>"
            ],
            "text/plain": [
              "                                                  title  ...          date\n",
              "0      After DDC, pvt dairies raise price by Rs 8 a ltr  ...   Jan 01 2015\n",
              "1            Caan board okays plan to hire Icao experts  ...   Jan 01 2015\n",
              "2             Investment booming in Pokhara hospitality  ...   Jan 01 2015\n",
              "3             MoI plans to declare FY2015-16 ‘FDI Year’  ...   Jan 01 2015\n",
              "4                   Ministry to amend working procedure  ...   Jan 01 2015\n",
              "...                                                 ...  ...           ...\n",
              "1884       Govt set to give leg up to footwear products  ...   Dec 31 2015\n",
              "1885   Fraud case filed against four gas pumps in Kavre  ...   Dec 31 2015\n",
              "1886            NAC to buy four new jets over two years  ...   Dec 31 2015\n",
              "1887  Govt estimates 200MW can be added to grid this...  ...   Dec 31 2015\n",
              "1888                      Birat Petroleum tanker seized  ...   Dec 31 2015\n",
              "\n",
              "[1889 rows x 4 columns]"
            ]
          },
          "metadata": {
            "tags": []
          }
        },
        {
          "output_type": "display_data",
          "data": {
            "text/html": [
              "<div>\n",
              "<style scoped>\n",
              "    .dataframe tbody tr th:only-of-type {\n",
              "        vertical-align: middle;\n",
              "    }\n",
              "\n",
              "    .dataframe tbody tr th {\n",
              "        vertical-align: top;\n",
              "    }\n",
              "\n",
              "    .dataframe thead th {\n",
              "        text-align: right;\n",
              "    }\n",
              "</style>\n",
              "<table border=\"1\" class=\"dataframe\">\n",
              "  <thead>\n",
              "    <tr style=\"text-align: right;\">\n",
              "      <th></th>\n",
              "      <th>title</th>\n",
              "      <th>content</th>\n",
              "      <th>author</th>\n",
              "      <th>date</th>\n",
              "    </tr>\n",
              "  </thead>\n",
              "  <tbody>\n",
              "    <tr>\n",
              "      <th>0</th>\n",
              "      <td>\\n                                            ...</td>\n",
              "      <td>\\n                        The government in as...</td>\n",
              "      <td>\\nPost Report, \\n                             ...</td>\n",
              "      <td>NaN</td>\n",
              "    </tr>\n",
              "    <tr>\n",
              "      <th>1</th>\n",
              "      <td>\\n                                            ...</td>\n",
              "      <td>\\n                        The Nepal Electricit...</td>\n",
              "      <td>\\nRSS, \\n                                Jan 0...</td>\n",
              "      <td>NaN</td>\n",
              "    </tr>\n",
              "    <tr>\n",
              "      <th>2</th>\n",
              "      <td>\\n                                            ...</td>\n",
              "      <td>\\n                        A rush of domestic t...</td>\n",
              "      <td>\\n SHIVA SHARMA, \\n                           ...</td>\n",
              "      <td>NaN</td>\n",
              "    </tr>\n",
              "    <tr>\n",
              "      <th>3</th>\n",
              "      <td>\\n                                            ...</td>\n",
              "      <td>\\n                        The parliamentary De...</td>\n",
              "      <td>\\nPost Report, \\n                             ...</td>\n",
              "      <td>NaN</td>\n",
              "    </tr>\n",
              "    <tr>\n",
              "      <th>4</th>\n",
              "      <td>\\n                                            ...</td>\n",
              "      <td>\\n                        International passen...</td>\n",
              "      <td>\\nPost Report, \\n                             ...</td>\n",
              "      <td>NaN</td>\n",
              "    </tr>\n",
              "    <tr>\n",
              "      <th>...</th>\n",
              "      <td>...</td>\n",
              "      <td>...</td>\n",
              "      <td>...</td>\n",
              "      <td>...</td>\n",
              "    </tr>\n",
              "    <tr>\n",
              "      <th>1928</th>\n",
              "      <td>\\n                                            ...</td>\n",
              "      <td>\\n                        The Energy Ministry ...</td>\n",
              "      <td>\\nBIBEK SUBEDI, \\n                            ...</td>\n",
              "      <td>NaN</td>\n",
              "    </tr>\n",
              "    <tr>\n",
              "      <th>1929</th>\n",
              "      <td>\\n                                            ...</td>\n",
              "      <td>\\n                        Nepal’s vegetable ex...</td>\n",
              "      <td>\\nPost Report, \\n                             ...</td>\n",
              "      <td>NaN</td>\n",
              "    </tr>\n",
              "    <tr>\n",
              "      <th>1930</th>\n",
              "      <td>\\n                                            ...</td>\n",
              "      <td>\\n                        India will start sup...</td>\n",
              "      <td>\\nPost Report, \\n                             ...</td>\n",
              "      <td>NaN</td>\n",
              "    </tr>\n",
              "    <tr>\n",
              "      <th>1931</th>\n",
              "      <td>\\n                                            ...</td>\n",
              "      <td>\\n                        State-run Nepal Tele...</td>\n",
              "      <td>\\nPost Report, \\n                             ...</td>\n",
              "      <td>NaN</td>\n",
              "    </tr>\n",
              "    <tr>\n",
              "      <th>1932</th>\n",
              "      <td>\\n                                            ...</td>\n",
              "      <td>\\n                        Very soon, companies...</td>\n",
              "      <td>\\nRajesh Khanal, \\n                           ...</td>\n",
              "      <td>NaN</td>\n",
              "    </tr>\n",
              "  </tbody>\n",
              "</table>\n",
              "<p>1933 rows × 4 columns</p>\n",
              "</div>"
            ],
            "text/plain": [
              "                                                  title  ... date\n",
              "0     \\n                                            ...  ...  NaN\n",
              "1     \\n                                            ...  ...  NaN\n",
              "2     \\n                                            ...  ...  NaN\n",
              "3     \\n                                            ...  ...  NaN\n",
              "4     \\n                                            ...  ...  NaN\n",
              "...                                                 ...  ...  ...\n",
              "1928  \\n                                            ...  ...  NaN\n",
              "1929  \\n                                            ...  ...  NaN\n",
              "1930  \\n                                            ...  ...  NaN\n",
              "1931  \\n                                            ...  ...  NaN\n",
              "1932  \\n                                            ...  ...  NaN\n",
              "\n",
              "[1933 rows x 4 columns]"
            ]
          },
          "metadata": {
            "tags": []
          }
        }
      ]
    },
    {
      "cell_type": "code",
      "metadata": {
        "id": "zM0abaOXjPi4"
      },
      "source": [
        "import re\n",
        "pattern = re.compile(\n",
        "    \"(Jan(uary)?|Feb(ruary)?|Mar(ch)?|Apr(il)?|May|Jun(e)?|\"\n",
        "    \"Jul(y)?|Aug(ust)?|Sep(tember)?|Oct(ober)?|Nov(ember)?|\"\n",
        "    \"Dec(ember)?)\\s+\\d{1,2}\\s+\\d{4}\")\n",
        "\n",
        "# print(pattern.match(text))  # prints None\n",
        "# print(pattern.search(text))\n",
        "# print(pattern.search(text).group())"
      ],
      "execution_count": 151,
      "outputs": []
    },
    {
      "cell_type": "code",
      "metadata": {
        "colab": {
          "base_uri": "https://localhost:8080/"
        },
        "id": "kGdyqBaUuMEE",
        "outputId": "108dd4fa-b0e2-49f8-c9ae-a8571f534adc"
      },
      "source": [
        "year = '2016'\n",
        "dates = []\n",
        "for i in df[year]['author']:\n",
        "    dates.append(pattern.search(i).group())\n",
        "print(len(dates), df[year].shape)\n",
        "df[year]['date'] = dates\n",
        "print(df[year].isna().sum())\n",
        "print(df[year]['date'].str.len().unique())"
      ],
      "execution_count": 152,
      "outputs": [
        {
          "output_type": "stream",
          "text": [
            "1933 (1933, 4)\n",
            "title      0\n",
            "content    0\n",
            "author     0\n",
            "date       0\n",
            "dtype: int64\n",
            "[11]\n"
          ],
          "name": "stdout"
        }
      ]
    },
    {
      "cell_type": "code",
      "metadata": {
        "colab": {
          "base_uri": "https://localhost:8080/"
        },
        "id": "ohEuGJXpuMBT",
        "outputId": "cc45a770-18ba-4152-9ec6-86151d04aed7"
      },
      "source": [
        "year = '2017'\n",
        "dates = []\n",
        "for i in df[year]['author']:\n",
        "    dates.append(pattern.search(i).group())\n",
        "print(len(dates), df[year].shape)\n",
        "df[year]['date'] = dates\n",
        "print(df[year].isna().sum())\n",
        "print(df[year]['date'].str.len().unique())"
      ],
      "execution_count": 153,
      "outputs": [
        {
          "output_type": "stream",
          "text": [
            "2086 (2086, 4)\n",
            "title      0\n",
            "content    0\n",
            "author     0\n",
            "date       0\n",
            "dtype: int64\n",
            "[11]\n"
          ],
          "name": "stdout"
        }
      ]
    },
    {
      "cell_type": "code",
      "metadata": {
        "colab": {
          "base_uri": "https://localhost:8080/"
        },
        "id": "YUq7TMpruL9g",
        "outputId": "d7a1ffe0-26d7-49d5-d22e-43dfb50b9b56"
      },
      "source": [
        "year = '2018'\n",
        "dates = []\n",
        "for i in df[year]['author']:\n",
        "    dates.append(pattern.search(i).group())\n",
        "print(len(dates), df[year].shape)\n",
        "df[year]['date'] = dates\n",
        "print(df[year].isna().sum())\n",
        "print(df[year]['date'].str.len().unique())"
      ],
      "execution_count": 154,
      "outputs": [
        {
          "output_type": "stream",
          "text": [
            "1631 (1631, 4)\n",
            "title      0\n",
            "content    0\n",
            "author     0\n",
            "date       0\n",
            "dtype: int64\n",
            "[11]\n"
          ],
          "name": "stdout"
        }
      ]
    },
    {
      "cell_type": "code",
      "metadata": {
        "colab": {
          "base_uri": "https://localhost:8080/"
        },
        "id": "1AyIde1Ni7MN",
        "outputId": "83aac52b-da72-44b3-eb28-8cb2ad3612b5"
      },
      "source": [
        "year = '2019'\n",
        "dates = []\n",
        "for i in df[year]['author']:\n",
        "    dates.append(pattern.search(i).group())\n",
        "print(len(dates), df[year].shape)\n",
        "df[year]['date'] = dates\n",
        "print(df[year].isna().sum())\n",
        "print(df[year]['date'].str.len().unique())"
      ],
      "execution_count": 155,
      "outputs": [
        {
          "output_type": "stream",
          "text": [
            "482 (482, 4)\n",
            "title      0\n",
            "content    0\n",
            "author     0\n",
            "date       0\n",
            "dtype: int64\n",
            "[11]\n"
          ],
          "name": "stdout"
        }
      ]
    },
    {
      "cell_type": "code",
      "metadata": {
        "colab": {
          "base_uri": "https://localhost:8080/"
        },
        "id": "eo5xioRdw_z9",
        "outputId": "f361e564-e960-4194-b2a7-0af4059f1453"
      },
      "source": [
        "df['2014'].isna().sum()"
      ],
      "execution_count": 156,
      "outputs": [
        {
          "output_type": "execute_result",
          "data": {
            "text/plain": [
              "title      0\n",
              "content    0\n",
              "author     0\n",
              "date       0\n",
              "dtype: int64"
            ]
          },
          "metadata": {
            "tags": []
          },
          "execution_count": 156
        }
      ]
    },
    {
      "cell_type": "code",
      "metadata": {
        "id": "248G2mCZ0em3",
        "outputId": "07656728-4f7f-476a-8edc-be5c7443a4e0",
        "colab": {
          "base_uri": "https://localhost:8080/"
        }
      },
      "source": [
        "df['2015'].isna().sum()"
      ],
      "execution_count": 157,
      "outputs": [
        {
          "output_type": "execute_result",
          "data": {
            "text/plain": [
              "title      0\n",
              "content    0\n",
              "author     0\n",
              "date       0\n",
              "dtype: int64"
            ]
          },
          "metadata": {
            "tags": []
          },
          "execution_count": 157
        }
      ]
    },
    {
      "cell_type": "code",
      "metadata": {
        "id": "kAOZz0hp0g2N",
        "outputId": "fceaf5aa-cb56-4872-b24c-008c59796377",
        "colab": {
          "base_uri": "https://localhost:8080/"
        }
      },
      "source": [
        "df.keys()"
      ],
      "execution_count": 159,
      "outputs": [
        {
          "output_type": "execute_result",
          "data": {
            "text/plain": [
              "dict_keys(['2014', '2015', '2016', '2017', '2018', '2019'])"
            ]
          },
          "metadata": {
            "tags": []
          },
          "execution_count": 159
        }
      ]
    },
    {
      "cell_type": "code",
      "metadata": {
        "id": "UafV5WNV01Vl"
      },
      "source": [
        "all_df = pd.concat(df, ignore_index=True)"
      ],
      "execution_count": 178,
      "outputs": []
    },
    {
      "cell_type": "code",
      "metadata": {
        "id": "CDYf17_O07yw",
        "outputId": "56e75030-0440-4ef6-fce0-f2088fbac127",
        "colab": {
          "base_uri": "https://localhost:8080/"
        }
      },
      "source": [
        "df['2014'].shape"
      ],
      "execution_count": 179,
      "outputs": [
        {
          "output_type": "execute_result",
          "data": {
            "text/plain": [
              "(1987, 4)"
            ]
          },
          "metadata": {
            "tags": []
          },
          "execution_count": 179
        }
      ]
    },
    {
      "cell_type": "code",
      "metadata": {
        "id": "b2H6bqga1sxc",
        "outputId": "84fac94e-5611-45a7-b568-04a33bade5be",
        "colab": {
          "base_uri": "https://localhost:8080/"
        }
      },
      "source": [
        "rows = 0\n",
        "for i in df.keys():\n",
        "    rows += df[i].shape[0]\n",
        "print(rows)\n",
        "print(all_df.shape)"
      ],
      "execution_count": 186,
      "outputs": [
        {
          "output_type": "stream",
          "text": [
            "10008\n",
            "(10008, 4)\n"
          ],
          "name": "stdout"
        }
      ]
    },
    {
      "cell_type": "code",
      "metadata": {
        "id": "pVN--N4s1uHd"
      },
      "source": [
        "all_df['title'] = all_df['title'].str.strip()\n",
        "all_df['content'] = all_df['content'].str.strip()\n",
        "all_df['author'] = all_df['author'].str.strip()\n",
        "all_df['date'] = all_df['date'].str.strip()"
      ],
      "execution_count": 187,
      "outputs": []
    },
    {
      "cell_type": "code",
      "metadata": {
        "id": "7OsRhFOO2XvI"
      },
      "source": [
        "all_df['date'] = pd.to_datetime(all_df['date'])"
      ],
      "execution_count": 190,
      "outputs": []
    },
    {
      "cell_type": "code",
      "metadata": {
        "id": "uqhVz1QM2YdG",
        "outputId": "ed53a40c-66c0-4105-898b-3b635c698cd8",
        "colab": {
          "base_uri": "https://localhost:8080/"
        }
      },
      "source": [
        "all_df.groupby('date')['content'].apply(list).apply(len)"
      ],
      "execution_count": 195,
      "outputs": [
        {
          "output_type": "execute_result",
          "data": {
            "text/plain": [
              "date\n",
              "2014-01-01    8\n",
              "2014-01-02    8\n",
              "2014-01-03    6\n",
              "2014-01-04    1\n",
              "2014-01-05    5\n",
              "             ..\n",
              "2019-06-28    3\n",
              "2019-06-29    1\n",
              "2019-06-30    4\n",
              "2019-07-04    1\n",
              "2019-07-05    1\n",
              "Name: content, Length: 1962, dtype: int64"
            ]
          },
          "metadata": {
            "tags": []
          },
          "execution_count": 195
        }
      ]
    },
    {
      "cell_type": "code",
      "metadata": {
        "id": "RpFEn8Ii2nEv",
        "outputId": "cdacd9f8-c7b5-4055-a908-1a20c17cae76",
        "colab": {
          "base_uri": "https://localhost:8080/",
          "height": 80
        }
      },
      "source": [
        "all_df[all_df['date'] == '2014-01-04']"
      ],
      "execution_count": 197,
      "outputs": [
        {
          "output_type": "execute_result",
          "data": {
            "text/html": [
              "<div>\n",
              "<style scoped>\n",
              "    .dataframe tbody tr th:only-of-type {\n",
              "        vertical-align: middle;\n",
              "    }\n",
              "\n",
              "    .dataframe tbody tr th {\n",
              "        vertical-align: top;\n",
              "    }\n",
              "\n",
              "    .dataframe thead th {\n",
              "        text-align: right;\n",
              "    }\n",
              "</style>\n",
              "<table border=\"1\" class=\"dataframe\">\n",
              "  <thead>\n",
              "    <tr style=\"text-align: right;\">\n",
              "      <th></th>\n",
              "      <th>title</th>\n",
              "      <th>content</th>\n",
              "      <th>author</th>\n",
              "      <th>date</th>\n",
              "    </tr>\n",
              "  </thead>\n",
              "  <tbody>\n",
              "    <tr>\n",
              "      <th>22</th>\n",
              "      <td>The crowd pullers</td>\n",
              "      <td>The Subisu CAN Info-Tech 2014 has been able to...</td>\n",
              "      <td>Suman basyal</td>\n",
              "      <td>2014-01-04</td>\n",
              "    </tr>\n",
              "  </tbody>\n",
              "</table>\n",
              "</div>"
            ],
            "text/plain": [
              "                title  ...       date\n",
              "22  The crowd pullers  ... 2014-01-04\n",
              "\n",
              "[1 rows x 4 columns]"
            ]
          },
          "metadata": {
            "tags": []
          },
          "execution_count": 197
        }
      ]
    },
    {
      "cell_type": "code",
      "metadata": {
        "id": "BXyX0bu02q-d"
      },
      "source": [
        "combined_df  = all_df.groupby('date')['content'].apply(' '.join).reset_index()"
      ],
      "execution_count": 212,
      "outputs": []
    },
    {
      "cell_type": "code",
      "metadata": {
        "id": "aod3k0sw3K-A",
        "outputId": "802a64c9-9733-4ef5-a967-f4855ce6fda8",
        "colab": {
          "base_uri": "https://localhost:8080/",
          "height": 204
        }
      },
      "source": [
        "combined_df.head()"
      ],
      "execution_count": 213,
      "outputs": [
        {
          "output_type": "execute_result",
          "data": {
            "text/html": [
              "<div>\n",
              "<style scoped>\n",
              "    .dataframe tbody tr th:only-of-type {\n",
              "        vertical-align: middle;\n",
              "    }\n",
              "\n",
              "    .dataframe tbody tr th {\n",
              "        vertical-align: top;\n",
              "    }\n",
              "\n",
              "    .dataframe thead th {\n",
              "        text-align: right;\n",
              "    }\n",
              "</style>\n",
              "<table border=\"1\" class=\"dataframe\">\n",
              "  <thead>\n",
              "    <tr style=\"text-align: right;\">\n",
              "      <th></th>\n",
              "      <th>date</th>\n",
              "      <th>content</th>\n",
              "    </tr>\n",
              "  </thead>\n",
              "  <tbody>\n",
              "    <tr>\n",
              "      <th>0</th>\n",
              "      <td>2014-01-01</td>\n",
              "      <td>With the year 2013 making shift to 2014, sever...</td>\n",
              "    </tr>\n",
              "    <tr>\n",
              "      <th>1</th>\n",
              "      <td>2014-01-02</td>\n",
              "      <td>Business process outsourcing (BPO) is not new ...</td>\n",
              "    </tr>\n",
              "    <tr>\n",
              "      <th>2</th>\n",
              "      <td>2014-01-03</td>\n",
              "      <td>Air travellers swarmed around low-cost airline...</td>\n",
              "    </tr>\n",
              "    <tr>\n",
              "      <th>3</th>\n",
              "      <td>2014-01-04</td>\n",
              "      <td>The Subisu CAN Info-Tech 2014 has been able to...</td>\n",
              "    </tr>\n",
              "    <tr>\n",
              "      <th>4</th>\n",
              "      <td>2014-01-05</td>\n",
              "      <td>The Ministry of Agriculture Development has st...</td>\n",
              "    </tr>\n",
              "  </tbody>\n",
              "</table>\n",
              "</div>"
            ],
            "text/plain": [
              "        date                                            content\n",
              "0 2014-01-01  With the year 2013 making shift to 2014, sever...\n",
              "1 2014-01-02  Business process outsourcing (BPO) is not new ...\n",
              "2 2014-01-03  Air travellers swarmed around low-cost airline...\n",
              "3 2014-01-04  The Subisu CAN Info-Tech 2014 has been able to...\n",
              "4 2014-01-05  The Ministry of Agriculture Development has st..."
            ]
          },
          "metadata": {
            "tags": []
          },
          "execution_count": 213
        }
      ]
    },
    {
      "cell_type": "code",
      "metadata": {
        "id": "AW0IywmK3hge",
        "outputId": "1daad439-c7ab-4b8c-e249-414f12ef725e",
        "colab": {
          "base_uri": "https://localhost:8080/",
          "height": 589
        }
      },
      "source": [
        "all_df.to_csv('years_combined_df.csv', index=False)\n",
        "pd.read_csv('years_combined_df.csv')"
      ],
      "execution_count": 205,
      "outputs": [
        {
          "output_type": "execute_result",
          "data": {
            "text/html": [
              "<div>\n",
              "<style scoped>\n",
              "    .dataframe tbody tr th:only-of-type {\n",
              "        vertical-align: middle;\n",
              "    }\n",
              "\n",
              "    .dataframe tbody tr th {\n",
              "        vertical-align: top;\n",
              "    }\n",
              "\n",
              "    .dataframe thead th {\n",
              "        text-align: right;\n",
              "    }\n",
              "</style>\n",
              "<table border=\"1\" class=\"dataframe\">\n",
              "  <thead>\n",
              "    <tr style=\"text-align: right;\">\n",
              "      <th></th>\n",
              "      <th>title</th>\n",
              "      <th>content</th>\n",
              "      <th>author</th>\n",
              "      <th>date</th>\n",
              "    </tr>\n",
              "  </thead>\n",
              "  <tbody>\n",
              "    <tr>\n",
              "      <th>0</th>\n",
              "      <td>New gadgets lined up for New Year 2014</td>\n",
              "      <td>With the year 2013 making shift to 2014, sever...</td>\n",
              "      <td>SUMAN BASHYAL</td>\n",
              "      <td>2014-01-01</td>\n",
              "    </tr>\n",
              "    <tr>\n",
              "      <th>1</th>\n",
              "      <td>Chinese tourists take great leap forward</td>\n",
              "      <td>Chinese tourists made up 50 percent of the thr...</td>\n",
              "      <td>Post Report</td>\n",
              "      <td>2014-01-01</td>\n",
              "    </tr>\n",
              "    <tr>\n",
              "      <th>2</th>\n",
              "      <td>Pokhara tourism expects 2014  to herald new er...</td>\n",
              "      <td>Pokhara tourism is getting ready for 2014 with...</td>\n",
              "      <td>SANGAM PRASAIN, Shiva Sharma</td>\n",
              "      <td>2014-01-01</td>\n",
              "    </tr>\n",
              "    <tr>\n",
              "      <th>3</th>\n",
              "      <td>CAs, auditors condemn Agrawal duo's arrest</td>\n",
              "      <td>The Association of Chartered Accountants of Ne...</td>\n",
              "      <td>Post Report</td>\n",
              "      <td>2014-01-01</td>\n",
              "    </tr>\n",
              "    <tr>\n",
              "      <th>4</th>\n",
              "      <td>Don’t count your chickens</td>\n",
              "      <td>The benefits to Nepal from the WTO Bali Summit...</td>\n",
              "      <td>BIJENDRA MAN SHAKYA</td>\n",
              "      <td>2014-01-01</td>\n",
              "    </tr>\n",
              "    <tr>\n",
              "      <th>...</th>\n",
              "      <td>...</td>\n",
              "      <td>...</td>\n",
              "      <td>...</td>\n",
              "      <td>...</td>\n",
              "    </tr>\n",
              "    <tr>\n",
              "      <th>10003</th>\n",
              "      <td>Nepal Oil Corporation to construct fuel storag...</td>\n",
              "      <td>It will be first facility of its kind in the K...</td>\n",
              "      <td>RAJESH KHANAL, \\n                             ...</td>\n",
              "      <td>2019-06-30</td>\n",
              "    </tr>\n",
              "    <tr>\n",
              "      <th>10004</th>\n",
              "      <td>Imports continue to surge via Rasuwagadhi-Keru...</td>\n",
              "      <td>Readymade garment, apple, footwear, bags and s...</td>\n",
              "      <td>BALARAM GHIMIRE, \\n                           ...</td>\n",
              "      <td>2019-06-30</td>\n",
              "    </tr>\n",
              "    <tr>\n",
              "      <th>10005</th>\n",
              "      <td>Poorly equipped chemical testing laboratories ...</td>\n",
              "      <td>Domestic supply has helped keep prices stable ...</td>\n",
              "      <td>Rajesh Khanal, \\n                             ...</td>\n",
              "      <td>2019-06-30</td>\n",
              "    </tr>\n",
              "    <tr>\n",
              "      <th>10006</th>\n",
              "      <td>India expresses concern over chemical testing ...</td>\n",
              "      <td>Lack of properly equipped labs leaves imported...</td>\n",
              "      <td>Rajesh Khanal, \\n                             ...</td>\n",
              "      <td>2019-07-04</td>\n",
              "    </tr>\n",
              "    <tr>\n",
              "      <th>10007</th>\n",
              "      <td>Land acquisition and forest clearance issues d...</td>\n",
              "      <td>The Kusma-New Butwal power line project is par...</td>\n",
              "      <td>Prahlad Rijal, \\n                             ...</td>\n",
              "      <td>2019-07-05</td>\n",
              "    </tr>\n",
              "  </tbody>\n",
              "</table>\n",
              "<p>10008 rows × 4 columns</p>\n",
              "</div>"
            ],
            "text/plain": [
              "                                                   title  ...        date\n",
              "0                 New gadgets lined up for New Year 2014  ...  2014-01-01\n",
              "1               Chinese tourists take great leap forward  ...  2014-01-01\n",
              "2      Pokhara tourism expects 2014  to herald new er...  ...  2014-01-01\n",
              "3             CAs, auditors condemn Agrawal duo's arrest  ...  2014-01-01\n",
              "4                              Don’t count your chickens  ...  2014-01-01\n",
              "...                                                  ...  ...         ...\n",
              "10003  Nepal Oil Corporation to construct fuel storag...  ...  2019-06-30\n",
              "10004  Imports continue to surge via Rasuwagadhi-Keru...  ...  2019-06-30\n",
              "10005  Poorly equipped chemical testing laboratories ...  ...  2019-06-30\n",
              "10006  India expresses concern over chemical testing ...  ...  2019-07-04\n",
              "10007  Land acquisition and forest clearance issues d...  ...  2019-07-05\n",
              "\n",
              "[10008 rows x 4 columns]"
            ]
          },
          "metadata": {
            "tags": []
          },
          "execution_count": 205
        }
      ]
    },
    {
      "cell_type": "code",
      "metadata": {
        "id": "VIininne3vk-"
      },
      "source": [
        "combined_df.to_csv('content_combined_single_day.csv', index=False)"
      ],
      "execution_count": 206,
      "outputs": []
    },
    {
      "cell_type": "code",
      "metadata": {
        "id": "MQ4JyMzk34fe",
        "outputId": "d28fda4e-a652-4459-9fdd-d8a2e1cb726f",
        "colab": {
          "base_uri": "https://localhost:8080/",
          "height": 419
        }
      },
      "source": [
        "pd.read_csv('content_combined_single_day.csv')"
      ],
      "execution_count": 207,
      "outputs": [
        {
          "output_type": "execute_result",
          "data": {
            "text/html": [
              "<div>\n",
              "<style scoped>\n",
              "    .dataframe tbody tr th:only-of-type {\n",
              "        vertical-align: middle;\n",
              "    }\n",
              "\n",
              "    .dataframe tbody tr th {\n",
              "        vertical-align: top;\n",
              "    }\n",
              "\n",
              "    .dataframe thead th {\n",
              "        text-align: right;\n",
              "    }\n",
              "</style>\n",
              "<table border=\"1\" class=\"dataframe\">\n",
              "  <thead>\n",
              "    <tr style=\"text-align: right;\">\n",
              "      <th></th>\n",
              "      <th>date</th>\n",
              "      <th>content</th>\n",
              "    </tr>\n",
              "  </thead>\n",
              "  <tbody>\n",
              "    <tr>\n",
              "      <th>0</th>\n",
              "      <td>2014-01-01</td>\n",
              "      <td>With the year 2013 making shift to 2014, sever...</td>\n",
              "    </tr>\n",
              "    <tr>\n",
              "      <th>1</th>\n",
              "      <td>2014-01-02</td>\n",
              "      <td>Business process outsourcing (BPO) is not new ...</td>\n",
              "    </tr>\n",
              "    <tr>\n",
              "      <th>2</th>\n",
              "      <td>2014-01-03</td>\n",
              "      <td>Air travellers swarmed around low-cost airline...</td>\n",
              "    </tr>\n",
              "    <tr>\n",
              "      <th>3</th>\n",
              "      <td>2014-01-04</td>\n",
              "      <td>The Subisu CAN Info-Tech 2014 has been able to...</td>\n",
              "    </tr>\n",
              "    <tr>\n",
              "      <th>4</th>\n",
              "      <td>2014-01-05</td>\n",
              "      <td>The Ministry of Agriculture Development has st...</td>\n",
              "    </tr>\n",
              "    <tr>\n",
              "      <th>...</th>\n",
              "      <td>...</td>\n",
              "      <td>...</td>\n",
              "    </tr>\n",
              "    <tr>\n",
              "      <th>1957</th>\n",
              "      <td>2019-06-28</td>\n",
              "      <td>According to the department’s records, Nepal’s...</td>\n",
              "    </tr>\n",
              "    <tr>\n",
              "      <th>1958</th>\n",
              "      <td>2019-06-29</td>\n",
              "      <td>Tea producers say they cannot purchase tea at ...</td>\n",
              "    </tr>\n",
              "    <tr>\n",
              "      <th>1959</th>\n",
              "      <td>2019-06-30</td>\n",
              "      <td>Importers are being allowed to haul the goods ...</td>\n",
              "    </tr>\n",
              "    <tr>\n",
              "      <th>1960</th>\n",
              "      <td>2019-07-04</td>\n",
              "      <td>Lack of properly equipped labs leaves imported...</td>\n",
              "    </tr>\n",
              "    <tr>\n",
              "      <th>1961</th>\n",
              "      <td>2019-07-05</td>\n",
              "      <td>The Kusma-New Butwal power line project is par...</td>\n",
              "    </tr>\n",
              "  </tbody>\n",
              "</table>\n",
              "<p>1962 rows × 2 columns</p>\n",
              "</div>"
            ],
            "text/plain": [
              "            date                                            content\n",
              "0     2014-01-01  With the year 2013 making shift to 2014, sever...\n",
              "1     2014-01-02  Business process outsourcing (BPO) is not new ...\n",
              "2     2014-01-03  Air travellers swarmed around low-cost airline...\n",
              "3     2014-01-04  The Subisu CAN Info-Tech 2014 has been able to...\n",
              "4     2014-01-05  The Ministry of Agriculture Development has st...\n",
              "...          ...                                                ...\n",
              "1957  2019-06-28  According to the department’s records, Nepal’s...\n",
              "1958  2019-06-29  Tea producers say they cannot purchase tea at ...\n",
              "1959  2019-06-30  Importers are being allowed to haul the goods ...\n",
              "1960  2019-07-04  Lack of properly equipped labs leaves imported...\n",
              "1961  2019-07-05  The Kusma-New Butwal power line project is par...\n",
              "\n",
              "[1962 rows x 2 columns]"
            ]
          },
          "metadata": {
            "tags": []
          },
          "execution_count": 207
        }
      ]
    },
    {
      "cell_type": "code",
      "metadata": {
        "id": "BBc8fNsc5MGI"
      },
      "source": [
        ""
      ],
      "execution_count": null,
      "outputs": []
    },
    {
      "cell_type": "code",
      "metadata": {
        "id": "FK4BIOOT37ye"
      },
      "source": [
        "combined_df_title  = all_df.groupby('date')['title'].apply(' '.join).reset_index()"
      ],
      "execution_count": 214,
      "outputs": []
    },
    {
      "cell_type": "code",
      "metadata": {
        "id": "vEl16GS_4OaY"
      },
      "source": [
        "combined_df_title.to_csv('title_combined_single_day.csv', index=False)"
      ],
      "execution_count": 227,
      "outputs": []
    },
    {
      "cell_type": "code",
      "metadata": {
        "id": "ewEjaLyB5S7H"
      },
      "source": [
        ""
      ],
      "execution_count": null,
      "outputs": []
    }
  ]
}